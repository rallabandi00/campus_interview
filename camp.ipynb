{
 "cells": [
  {
   "cell_type": "code",
   "execution_count": 6,
   "metadata": {},
   "outputs": [],
   "source": [
    "import pandas as pd\n",
    "import numpy as np\n",
    "from plotnine import *\n",
    "import matplotlib \n",
    "import matplotlib.pyplot as plt\n",
    "%matplotlib inline\n"
   ]
  },
  {
   "cell_type": "markdown",
   "metadata": {},
   "source": [
    "# Data Import"
   ]
  },
  {
   "cell_type": "code",
   "execution_count": 7,
   "metadata": {},
   "outputs": [],
   "source": [
    "camp=pd.read_csv(\"F:/csv datasets/Placement_Data_Full_Class.csv\")"
   ]
  },
  {
   "cell_type": "code",
   "execution_count": 8,
   "metadata": {},
   "outputs": [
    {
     "name": "stdout",
     "output_type": "stream",
     "text": [
      "<class 'pandas.core.frame.DataFrame'>\n",
      "RangeIndex: 215 entries, 0 to 214\n",
      "Data columns (total 15 columns):\n",
      " #   Column          Non-Null Count  Dtype  \n",
      "---  ------          --------------  -----  \n",
      " 0   sl_no           215 non-null    int64  \n",
      " 1   gender          215 non-null    object \n",
      " 2   ssc_p           215 non-null    float64\n",
      " 3   ssc_b           215 non-null    object \n",
      " 4   hsc_p           215 non-null    float64\n",
      " 5   hsc_b           215 non-null    object \n",
      " 6   hsc_s           215 non-null    object \n",
      " 7   degree_p        215 non-null    float64\n",
      " 8   degree_t        215 non-null    object \n",
      " 9   workex          215 non-null    object \n",
      " 10  etest_p         215 non-null    float64\n",
      " 11  specialisation  215 non-null    object \n",
      " 12  mba_p           215 non-null    float64\n",
      " 13  status          215 non-null    object \n",
      " 14  salary          148 non-null    float64\n",
      "dtypes: float64(6), int64(1), object(8)\n",
      "memory usage: 25.3+ KB\n"
     ]
    }
   ],
   "source": [
    "#summary of data\n",
    "camp.info()"
   ]
  },
  {
   "cell_type": "code",
   "execution_count": null,
   "metadata": {},
   "outputs": [],
   "source": [
    "camp.head()"
   ]
  },
  {
   "cell_type": "code",
   "execution_count": null,
   "metadata": {},
   "outputs": [],
   "source": [
    "camp.describe()"
   ]
  },
  {
   "cell_type": "code",
   "execution_count": null,
   "metadata": {},
   "outputs": [],
   "source": []
  },
  {
   "cell_type": "markdown",
   "metadata": {},
   "source": [
    "## EDA"
   ]
  },
  {
   "cell_type": "code",
   "execution_count": 9,
   "metadata": {},
   "outputs": [],
   "source": [
    "\n",
    "import plotly\n",
    "import plotly.graph_objs as go\n",
    "import chart_studio.plotly as py"
   ]
  },
  {
   "cell_type": "code",
   "execution_count": 10,
   "metadata": {},
   "outputs": [],
   "source": [
    "campdup=camp.groupby('gender')"
   ]
  },
  {
   "cell_type": "code",
   "execution_count": 11,
   "metadata": {},
   "outputs": [],
   "source": [
    "def unique(list1): \n",
    "  \n",
    "    # intilize a null list \n",
    "    unique_list = [] \n",
    "      \n",
    "    # traverse for all elements \n",
    "    for x in list1: \n",
    "        # check if exists in unique_list or not \n",
    "        if x not in unique_list: \n",
    "            unique_list.append(x) \n",
    "    # print list \n",
    "    for x in unique_list: \n",
    "        print (x),\n",
    "      "
   ]
  },
  {
   "cell_type": "code",
   "execution_count": 12,
   "metadata": {},
   "outputs": [],
   "source": [
    "import numpy as np\n",
    "import statistics "
   ]
  },
  {
   "cell_type": "code",
   "execution_count": 14,
   "metadata": {},
   "outputs": [
    {
     "data": {
      "application/vnd.plotly.v1+json": {
       "config": {
        "plotlyServerURL": "https://plot.ly"
       },
       "data": [
        {
         "alignmentgroup": "True",
         "hovertemplate": "gender=%{x}<br>y=%{y}<extra></extra>",
         "legendgroup": "",
         "marker": {
          "color": "#636efa"
         },
         "name": "",
         "offsetgroup": "",
         "orientation": "v",
         "showlegend": false,
         "textposition": "auto",
         "type": "bar",
         "x": [
          "M",
          "M",
          "M",
          "M",
          "M",
          "M",
          "F",
          "M",
          "M",
          "M",
          "M",
          "M",
          "F",
          "F",
          "M",
          "F",
          "M",
          "F",
          "F",
          "M",
          "M",
          "F",
          "F",
          "F",
          "M",
          "F",
          "M",
          "M",
          "M",
          "M",
          "F",
          "F",
          "F",
          "F",
          "M",
          "F",
          "M",
          "F",
          "F",
          "M",
          "F",
          "F",
          "M",
          "M",
          "F",
          "F",
          "F",
          "M",
          "M",
          "F",
          "F",
          "M",
          "F",
          "M",
          "F",
          "M",
          "M",
          "M",
          "M",
          "M",
          "M",
          "M",
          "F",
          "M",
          "M",
          "M",
          "M",
          "M",
          "F",
          "M",
          "M",
          "M",
          "M",
          "M",
          "M",
          "F",
          "F",
          "M",
          "M",
          "F",
          "F",
          "M",
          "M",
          "M",
          "M",
          "F",
          "M",
          "M",
          "F",
          "F",
          "F",
          "M",
          "F",
          "M",
          "M",
          "M",
          "F",
          "F",
          "F",
          "M",
          "F",
          "M",
          "F",
          "M",
          "M",
          "M",
          "M",
          "M",
          "M",
          "M",
          "F",
          "M",
          "M",
          "F",
          "M",
          "F",
          "M",
          "M",
          "M",
          "M",
          "M",
          "F",
          "F",
          "M",
          "M",
          "F",
          "F",
          "F",
          "M",
          "M",
          "M",
          "F",
          "M",
          "M",
          "F",
          "F",
          "F",
          "M",
          "F",
          "M",
          "M",
          "M",
          "M",
          "M",
          "M",
          "M",
          "M",
          "M",
          "F",
          "M",
          "M",
          "M",
          "F",
          "M",
          "M",
          "M",
          "M",
          "M",
          "M",
          "M",
          "M",
          "M",
          "M",
          "M",
          "F",
          "F",
          "M",
          "M",
          "F",
          "M",
          "F",
          "M",
          "M",
          "F",
          "M",
          "M",
          "F",
          "F",
          "M",
          "F",
          "M",
          "M",
          "M",
          "M",
          "F",
          "F",
          "F",
          "M",
          "M",
          "F",
          "F",
          "M",
          "M",
          "F",
          "M",
          "M",
          "M",
          "F",
          "F",
          "M",
          "M",
          "M",
          "M",
          "M",
          "F",
          "M",
          "M",
          "M",
          "F",
          "M",
          "M",
          "M",
          "M",
          "F",
          "M"
         ],
         "xaxis": "x",
         "y": [
          "M",
          "M",
          "M",
          "M",
          "M",
          "M",
          "F",
          "M",
          "M",
          "M",
          "M",
          "M",
          "F",
          "F",
          "M",
          "F",
          "M",
          "F",
          "F",
          "M",
          "M",
          "F",
          "F",
          "F",
          "M",
          "F",
          "M",
          "M",
          "M",
          "M",
          "F",
          "F",
          "F",
          "F",
          "M",
          "F",
          "M",
          "F",
          "F",
          "M",
          "F",
          "F",
          "M",
          "M",
          "F",
          "F",
          "F",
          "M",
          "M",
          "F",
          "F",
          "M",
          "F",
          "M",
          "F",
          "M",
          "M",
          "M",
          "M",
          "M",
          "M",
          "M",
          "F",
          "M",
          "M",
          "M",
          "M",
          "M",
          "F",
          "M",
          "M",
          "M",
          "M",
          "M",
          "M",
          "F",
          "F",
          "M",
          "M",
          "F",
          "F",
          "M",
          "M",
          "M",
          "M",
          "F",
          "M",
          "M",
          "F",
          "F",
          "F",
          "M",
          "F",
          "M",
          "M",
          "M",
          "F",
          "F",
          "F",
          "M",
          "F",
          "M",
          "F",
          "M",
          "M",
          "M",
          "M",
          "M",
          "M",
          "M",
          "F",
          "M",
          "M",
          "F",
          "M",
          "F",
          "M",
          "M",
          "M",
          "M",
          "M",
          "F",
          "F",
          "M",
          "M",
          "F",
          "F",
          "F",
          "M",
          "M",
          "M",
          "F",
          "M",
          "M",
          "F",
          "F",
          "F",
          "M",
          "F",
          "M",
          "M",
          "M",
          "M",
          "M",
          "M",
          "M",
          "M",
          "M",
          "F",
          "M",
          "M",
          "M",
          "F",
          "M",
          "M",
          "M",
          "M",
          "M",
          "M",
          "M",
          "M",
          "M",
          "M",
          "M",
          "F",
          "F",
          "M",
          "M",
          "F",
          "M",
          "F",
          "M",
          "M",
          "F",
          "M",
          "M",
          "F",
          "F",
          "M",
          "F",
          "M",
          "M",
          "M",
          "M",
          "F",
          "F",
          "F",
          "M",
          "M",
          "F",
          "F",
          "M",
          "M",
          "F",
          "M",
          "M",
          "M",
          "F",
          "F",
          "M",
          "M",
          "M",
          "M",
          "M",
          "F",
          "M",
          "M",
          "M",
          "F",
          "M",
          "M",
          "M",
          "M",
          "F",
          "M"
         ],
         "yaxis": "y"
        }
       ],
       "layout": {
        "barmode": "group",
        "height": 400,
        "legend": {
         "tracegroupgap": 0
        },
        "margin": {
         "t": 60
        },
        "template": {
         "data": {
          "bar": [
           {
            "error_x": {
             "color": "#2a3f5f"
            },
            "error_y": {
             "color": "#2a3f5f"
            },
            "marker": {
             "line": {
              "color": "#E5ECF6",
              "width": 0.5
             }
            },
            "type": "bar"
           }
          ],
          "barpolar": [
           {
            "marker": {
             "line": {
              "color": "#E5ECF6",
              "width": 0.5
             }
            },
            "type": "barpolar"
           }
          ],
          "carpet": [
           {
            "aaxis": {
             "endlinecolor": "#2a3f5f",
             "gridcolor": "white",
             "linecolor": "white",
             "minorgridcolor": "white",
             "startlinecolor": "#2a3f5f"
            },
            "baxis": {
             "endlinecolor": "#2a3f5f",
             "gridcolor": "white",
             "linecolor": "white",
             "minorgridcolor": "white",
             "startlinecolor": "#2a3f5f"
            },
            "type": "carpet"
           }
          ],
          "choropleth": [
           {
            "colorbar": {
             "outlinewidth": 0,
             "ticks": ""
            },
            "type": "choropleth"
           }
          ],
          "contour": [
           {
            "colorbar": {
             "outlinewidth": 0,
             "ticks": ""
            },
            "colorscale": [
             [
              0,
              "#0d0887"
             ],
             [
              0.1111111111111111,
              "#46039f"
             ],
             [
              0.2222222222222222,
              "#7201a8"
             ],
             [
              0.3333333333333333,
              "#9c179e"
             ],
             [
              0.4444444444444444,
              "#bd3786"
             ],
             [
              0.5555555555555556,
              "#d8576b"
             ],
             [
              0.6666666666666666,
              "#ed7953"
             ],
             [
              0.7777777777777778,
              "#fb9f3a"
             ],
             [
              0.8888888888888888,
              "#fdca26"
             ],
             [
              1,
              "#f0f921"
             ]
            ],
            "type": "contour"
           }
          ],
          "contourcarpet": [
           {
            "colorbar": {
             "outlinewidth": 0,
             "ticks": ""
            },
            "type": "contourcarpet"
           }
          ],
          "heatmap": [
           {
            "colorbar": {
             "outlinewidth": 0,
             "ticks": ""
            },
            "colorscale": [
             [
              0,
              "#0d0887"
             ],
             [
              0.1111111111111111,
              "#46039f"
             ],
             [
              0.2222222222222222,
              "#7201a8"
             ],
             [
              0.3333333333333333,
              "#9c179e"
             ],
             [
              0.4444444444444444,
              "#bd3786"
             ],
             [
              0.5555555555555556,
              "#d8576b"
             ],
             [
              0.6666666666666666,
              "#ed7953"
             ],
             [
              0.7777777777777778,
              "#fb9f3a"
             ],
             [
              0.8888888888888888,
              "#fdca26"
             ],
             [
              1,
              "#f0f921"
             ]
            ],
            "type": "heatmap"
           }
          ],
          "heatmapgl": [
           {
            "colorbar": {
             "outlinewidth": 0,
             "ticks": ""
            },
            "colorscale": [
             [
              0,
              "#0d0887"
             ],
             [
              0.1111111111111111,
              "#46039f"
             ],
             [
              0.2222222222222222,
              "#7201a8"
             ],
             [
              0.3333333333333333,
              "#9c179e"
             ],
             [
              0.4444444444444444,
              "#bd3786"
             ],
             [
              0.5555555555555556,
              "#d8576b"
             ],
             [
              0.6666666666666666,
              "#ed7953"
             ],
             [
              0.7777777777777778,
              "#fb9f3a"
             ],
             [
              0.8888888888888888,
              "#fdca26"
             ],
             [
              1,
              "#f0f921"
             ]
            ],
            "type": "heatmapgl"
           }
          ],
          "histogram": [
           {
            "marker": {
             "colorbar": {
              "outlinewidth": 0,
              "ticks": ""
             }
            },
            "type": "histogram"
           }
          ],
          "histogram2d": [
           {
            "colorbar": {
             "outlinewidth": 0,
             "ticks": ""
            },
            "colorscale": [
             [
              0,
              "#0d0887"
             ],
             [
              0.1111111111111111,
              "#46039f"
             ],
             [
              0.2222222222222222,
              "#7201a8"
             ],
             [
              0.3333333333333333,
              "#9c179e"
             ],
             [
              0.4444444444444444,
              "#bd3786"
             ],
             [
              0.5555555555555556,
              "#d8576b"
             ],
             [
              0.6666666666666666,
              "#ed7953"
             ],
             [
              0.7777777777777778,
              "#fb9f3a"
             ],
             [
              0.8888888888888888,
              "#fdca26"
             ],
             [
              1,
              "#f0f921"
             ]
            ],
            "type": "histogram2d"
           }
          ],
          "histogram2dcontour": [
           {
            "colorbar": {
             "outlinewidth": 0,
             "ticks": ""
            },
            "colorscale": [
             [
              0,
              "#0d0887"
             ],
             [
              0.1111111111111111,
              "#46039f"
             ],
             [
              0.2222222222222222,
              "#7201a8"
             ],
             [
              0.3333333333333333,
              "#9c179e"
             ],
             [
              0.4444444444444444,
              "#bd3786"
             ],
             [
              0.5555555555555556,
              "#d8576b"
             ],
             [
              0.6666666666666666,
              "#ed7953"
             ],
             [
              0.7777777777777778,
              "#fb9f3a"
             ],
             [
              0.8888888888888888,
              "#fdca26"
             ],
             [
              1,
              "#f0f921"
             ]
            ],
            "type": "histogram2dcontour"
           }
          ],
          "mesh3d": [
           {
            "colorbar": {
             "outlinewidth": 0,
             "ticks": ""
            },
            "type": "mesh3d"
           }
          ],
          "parcoords": [
           {
            "line": {
             "colorbar": {
              "outlinewidth": 0,
              "ticks": ""
             }
            },
            "type": "parcoords"
           }
          ],
          "pie": [
           {
            "automargin": true,
            "type": "pie"
           }
          ],
          "scatter": [
           {
            "marker": {
             "colorbar": {
              "outlinewidth": 0,
              "ticks": ""
             }
            },
            "type": "scatter"
           }
          ],
          "scatter3d": [
           {
            "line": {
             "colorbar": {
              "outlinewidth": 0,
              "ticks": ""
             }
            },
            "marker": {
             "colorbar": {
              "outlinewidth": 0,
              "ticks": ""
             }
            },
            "type": "scatter3d"
           }
          ],
          "scattercarpet": [
           {
            "marker": {
             "colorbar": {
              "outlinewidth": 0,
              "ticks": ""
             }
            },
            "type": "scattercarpet"
           }
          ],
          "scattergeo": [
           {
            "marker": {
             "colorbar": {
              "outlinewidth": 0,
              "ticks": ""
             }
            },
            "type": "scattergeo"
           }
          ],
          "scattergl": [
           {
            "marker": {
             "colorbar": {
              "outlinewidth": 0,
              "ticks": ""
             }
            },
            "type": "scattergl"
           }
          ],
          "scattermapbox": [
           {
            "marker": {
             "colorbar": {
              "outlinewidth": 0,
              "ticks": ""
             }
            },
            "type": "scattermapbox"
           }
          ],
          "scatterpolar": [
           {
            "marker": {
             "colorbar": {
              "outlinewidth": 0,
              "ticks": ""
             }
            },
            "type": "scatterpolar"
           }
          ],
          "scatterpolargl": [
           {
            "marker": {
             "colorbar": {
              "outlinewidth": 0,
              "ticks": ""
             }
            },
            "type": "scatterpolargl"
           }
          ],
          "scatterternary": [
           {
            "marker": {
             "colorbar": {
              "outlinewidth": 0,
              "ticks": ""
             }
            },
            "type": "scatterternary"
           }
          ],
          "surface": [
           {
            "colorbar": {
             "outlinewidth": 0,
             "ticks": ""
            },
            "colorscale": [
             [
              0,
              "#0d0887"
             ],
             [
              0.1111111111111111,
              "#46039f"
             ],
             [
              0.2222222222222222,
              "#7201a8"
             ],
             [
              0.3333333333333333,
              "#9c179e"
             ],
             [
              0.4444444444444444,
              "#bd3786"
             ],
             [
              0.5555555555555556,
              "#d8576b"
             ],
             [
              0.6666666666666666,
              "#ed7953"
             ],
             [
              0.7777777777777778,
              "#fb9f3a"
             ],
             [
              0.8888888888888888,
              "#fdca26"
             ],
             [
              1,
              "#f0f921"
             ]
            ],
            "type": "surface"
           }
          ],
          "table": [
           {
            "cells": {
             "fill": {
              "color": "#EBF0F8"
             },
             "line": {
              "color": "white"
             }
            },
            "header": {
             "fill": {
              "color": "#C8D4E3"
             },
             "line": {
              "color": "white"
             }
            },
            "type": "table"
           }
          ]
         },
         "layout": {
          "annotationdefaults": {
           "arrowcolor": "#2a3f5f",
           "arrowhead": 0,
           "arrowwidth": 1
          },
          "coloraxis": {
           "colorbar": {
            "outlinewidth": 0,
            "ticks": ""
           }
          },
          "colorscale": {
           "diverging": [
            [
             0,
             "#8e0152"
            ],
            [
             0.1,
             "#c51b7d"
            ],
            [
             0.2,
             "#de77ae"
            ],
            [
             0.3,
             "#f1b6da"
            ],
            [
             0.4,
             "#fde0ef"
            ],
            [
             0.5,
             "#f7f7f7"
            ],
            [
             0.6,
             "#e6f5d0"
            ],
            [
             0.7,
             "#b8e186"
            ],
            [
             0.8,
             "#7fbc41"
            ],
            [
             0.9,
             "#4d9221"
            ],
            [
             1,
             "#276419"
            ]
           ],
           "sequential": [
            [
             0,
             "#0d0887"
            ],
            [
             0.1111111111111111,
             "#46039f"
            ],
            [
             0.2222222222222222,
             "#7201a8"
            ],
            [
             0.3333333333333333,
             "#9c179e"
            ],
            [
             0.4444444444444444,
             "#bd3786"
            ],
            [
             0.5555555555555556,
             "#d8576b"
            ],
            [
             0.6666666666666666,
             "#ed7953"
            ],
            [
             0.7777777777777778,
             "#fb9f3a"
            ],
            [
             0.8888888888888888,
             "#fdca26"
            ],
            [
             1,
             "#f0f921"
            ]
           ],
           "sequentialminus": [
            [
             0,
             "#0d0887"
            ],
            [
             0.1111111111111111,
             "#46039f"
            ],
            [
             0.2222222222222222,
             "#7201a8"
            ],
            [
             0.3333333333333333,
             "#9c179e"
            ],
            [
             0.4444444444444444,
             "#bd3786"
            ],
            [
             0.5555555555555556,
             "#d8576b"
            ],
            [
             0.6666666666666666,
             "#ed7953"
            ],
            [
             0.7777777777777778,
             "#fb9f3a"
            ],
            [
             0.8888888888888888,
             "#fdca26"
            ],
            [
             1,
             "#f0f921"
            ]
           ]
          },
          "colorway": [
           "#636efa",
           "#EF553B",
           "#00cc96",
           "#ab63fa",
           "#FFA15A",
           "#19d3f3",
           "#FF6692",
           "#B6E880",
           "#FF97FF",
           "#FECB52"
          ],
          "font": {
           "color": "#2a3f5f"
          },
          "geo": {
           "bgcolor": "white",
           "lakecolor": "white",
           "landcolor": "#E5ECF6",
           "showlakes": true,
           "showland": true,
           "subunitcolor": "white"
          },
          "hoverlabel": {
           "align": "left"
          },
          "hovermode": "closest",
          "mapbox": {
           "style": "light"
          },
          "paper_bgcolor": "white",
          "plot_bgcolor": "#E5ECF6",
          "polar": {
           "angularaxis": {
            "gridcolor": "white",
            "linecolor": "white",
            "ticks": ""
           },
           "bgcolor": "#E5ECF6",
           "radialaxis": {
            "gridcolor": "white",
            "linecolor": "white",
            "ticks": ""
           }
          },
          "scene": {
           "xaxis": {
            "backgroundcolor": "#E5ECF6",
            "gridcolor": "white",
            "gridwidth": 2,
            "linecolor": "white",
            "showbackground": true,
            "ticks": "",
            "zerolinecolor": "white"
           },
           "yaxis": {
            "backgroundcolor": "#E5ECF6",
            "gridcolor": "white",
            "gridwidth": 2,
            "linecolor": "white",
            "showbackground": true,
            "ticks": "",
            "zerolinecolor": "white"
           },
           "zaxis": {
            "backgroundcolor": "#E5ECF6",
            "gridcolor": "white",
            "gridwidth": 2,
            "linecolor": "white",
            "showbackground": true,
            "ticks": "",
            "zerolinecolor": "white"
           }
          },
          "shapedefaults": {
           "line": {
            "color": "#2a3f5f"
           }
          },
          "ternary": {
           "aaxis": {
            "gridcolor": "white",
            "linecolor": "white",
            "ticks": ""
           },
           "baxis": {
            "gridcolor": "white",
            "linecolor": "white",
            "ticks": ""
           },
           "bgcolor": "#E5ECF6",
           "caxis": {
            "gridcolor": "white",
            "linecolor": "white",
            "ticks": ""
           }
          },
          "title": {
           "x": 0.05
          },
          "xaxis": {
           "automargin": true,
           "gridcolor": "white",
           "linecolor": "white",
           "ticks": "",
           "title": {
            "standoff": 15
           },
           "zerolinecolor": "white",
           "zerolinewidth": 2
          },
          "yaxis": {
           "automargin": true,
           "gridcolor": "white",
           "linecolor": "white",
           "ticks": "",
           "title": {
            "standoff": 15
           },
           "zerolinecolor": "white",
           "zerolinewidth": 2
          }
         }
        },
        "xaxis": {
         "anchor": "y",
         "domain": [
          0,
          1
         ],
         "title": {
          "text": "gender"
         }
        },
        "yaxis": {
         "anchor": "x",
         "domain": [
          0,
          1
         ],
         "title": {
          "text": "y"
         }
        }
       }
      },
      "text/html": [
       "<div>\n",
       "        \n",
       "        \n",
       "            <div id=\"b2964c0a-a41a-4c98-b2c2-b19cb91856a1\" class=\"plotly-graph-div\" style=\"height:400px; width:100%;\"></div>\n",
       "            <script type=\"text/javascript\">\n",
       "                require([\"plotly\"], function(Plotly) {\n",
       "                    window.PLOTLYENV=window.PLOTLYENV || {};\n",
       "                    \n",
       "                if (document.getElementById(\"b2964c0a-a41a-4c98-b2c2-b19cb91856a1\")) {\n",
       "                    Plotly.newPlot(\n",
       "                        'b2964c0a-a41a-4c98-b2c2-b19cb91856a1',\n",
       "                        [{\"alignmentgroup\": \"True\", \"hovertemplate\": \"gender=%{x}<br>y=%{y}<extra></extra>\", \"legendgroup\": \"\", \"marker\": {\"color\": \"#636efa\"}, \"name\": \"\", \"offsetgroup\": \"\", \"orientation\": \"v\", \"showlegend\": false, \"textposition\": \"auto\", \"type\": \"bar\", \"x\": [\"M\", \"M\", \"M\", \"M\", \"M\", \"M\", \"F\", \"M\", \"M\", \"M\", \"M\", \"M\", \"F\", \"F\", \"M\", \"F\", \"M\", \"F\", \"F\", \"M\", \"M\", \"F\", \"F\", \"F\", \"M\", \"F\", \"M\", \"M\", \"M\", \"M\", \"F\", \"F\", \"F\", \"F\", \"M\", \"F\", \"M\", \"F\", \"F\", \"M\", \"F\", \"F\", \"M\", \"M\", \"F\", \"F\", \"F\", \"M\", \"M\", \"F\", \"F\", \"M\", \"F\", \"M\", \"F\", \"M\", \"M\", \"M\", \"M\", \"M\", \"M\", \"M\", \"F\", \"M\", \"M\", \"M\", \"M\", \"M\", \"F\", \"M\", \"M\", \"M\", \"M\", \"M\", \"M\", \"F\", \"F\", \"M\", \"M\", \"F\", \"F\", \"M\", \"M\", \"M\", \"M\", \"F\", \"M\", \"M\", \"F\", \"F\", \"F\", \"M\", \"F\", \"M\", \"M\", \"M\", \"F\", \"F\", \"F\", \"M\", \"F\", \"M\", \"F\", \"M\", \"M\", \"M\", \"M\", \"M\", \"M\", \"M\", \"F\", \"M\", \"M\", \"F\", \"M\", \"F\", \"M\", \"M\", \"M\", \"M\", \"M\", \"F\", \"F\", \"M\", \"M\", \"F\", \"F\", \"F\", \"M\", \"M\", \"M\", \"F\", \"M\", \"M\", \"F\", \"F\", \"F\", \"M\", \"F\", \"M\", \"M\", \"M\", \"M\", \"M\", \"M\", \"M\", \"M\", \"M\", \"F\", \"M\", \"M\", \"M\", \"F\", \"M\", \"M\", \"M\", \"M\", \"M\", \"M\", \"M\", \"M\", \"M\", \"M\", \"M\", \"F\", \"F\", \"M\", \"M\", \"F\", \"M\", \"F\", \"M\", \"M\", \"F\", \"M\", \"M\", \"F\", \"F\", \"M\", \"F\", \"M\", \"M\", \"M\", \"M\", \"F\", \"F\", \"F\", \"M\", \"M\", \"F\", \"F\", \"M\", \"M\", \"F\", \"M\", \"M\", \"M\", \"F\", \"F\", \"M\", \"M\", \"M\", \"M\", \"M\", \"F\", \"M\", \"M\", \"M\", \"F\", \"M\", \"M\", \"M\", \"M\", \"F\", \"M\"], \"xaxis\": \"x\", \"y\": [\"M\", \"M\", \"M\", \"M\", \"M\", \"M\", \"F\", \"M\", \"M\", \"M\", \"M\", \"M\", \"F\", \"F\", \"M\", \"F\", \"M\", \"F\", \"F\", \"M\", \"M\", \"F\", \"F\", \"F\", \"M\", \"F\", \"M\", \"M\", \"M\", \"M\", \"F\", \"F\", \"F\", \"F\", \"M\", \"F\", \"M\", \"F\", \"F\", \"M\", \"F\", \"F\", \"M\", \"M\", \"F\", \"F\", \"F\", \"M\", \"M\", \"F\", \"F\", \"M\", \"F\", \"M\", \"F\", \"M\", \"M\", \"M\", \"M\", \"M\", \"M\", \"M\", \"F\", \"M\", \"M\", \"M\", \"M\", \"M\", \"F\", \"M\", \"M\", \"M\", \"M\", \"M\", \"M\", \"F\", \"F\", \"M\", \"M\", \"F\", \"F\", \"M\", \"M\", \"M\", \"M\", \"F\", \"M\", \"M\", \"F\", \"F\", \"F\", \"M\", \"F\", \"M\", \"M\", \"M\", \"F\", \"F\", \"F\", \"M\", \"F\", \"M\", \"F\", \"M\", \"M\", \"M\", \"M\", \"M\", \"M\", \"M\", \"F\", \"M\", \"M\", \"F\", \"M\", \"F\", \"M\", \"M\", \"M\", \"M\", \"M\", \"F\", \"F\", \"M\", \"M\", \"F\", \"F\", \"F\", \"M\", \"M\", \"M\", \"F\", \"M\", \"M\", \"F\", \"F\", \"F\", \"M\", \"F\", \"M\", \"M\", \"M\", \"M\", \"M\", \"M\", \"M\", \"M\", \"M\", \"F\", \"M\", \"M\", \"M\", \"F\", \"M\", \"M\", \"M\", \"M\", \"M\", \"M\", \"M\", \"M\", \"M\", \"M\", \"M\", \"F\", \"F\", \"M\", \"M\", \"F\", \"M\", \"F\", \"M\", \"M\", \"F\", \"M\", \"M\", \"F\", \"F\", \"M\", \"F\", \"M\", \"M\", \"M\", \"M\", \"F\", \"F\", \"F\", \"M\", \"M\", \"F\", \"F\", \"M\", \"M\", \"F\", \"M\", \"M\", \"M\", \"F\", \"F\", \"M\", \"M\", \"M\", \"M\", \"M\", \"F\", \"M\", \"M\", \"M\", \"F\", \"M\", \"M\", \"M\", \"M\", \"F\", \"M\"], \"yaxis\": \"y\"}],\n",
       "                        {\"barmode\": \"group\", \"height\": 400, \"legend\": {\"tracegroupgap\": 0}, \"margin\": {\"t\": 60}, \"template\": {\"data\": {\"bar\": [{\"error_x\": {\"color\": \"#2a3f5f\"}, \"error_y\": {\"color\": \"#2a3f5f\"}, \"marker\": {\"line\": {\"color\": \"#E5ECF6\", \"width\": 0.5}}, \"type\": \"bar\"}], \"barpolar\": [{\"marker\": {\"line\": {\"color\": \"#E5ECF6\", \"width\": 0.5}}, \"type\": \"barpolar\"}], \"carpet\": [{\"aaxis\": {\"endlinecolor\": \"#2a3f5f\", \"gridcolor\": \"white\", \"linecolor\": \"white\", \"minorgridcolor\": \"white\", \"startlinecolor\": \"#2a3f5f\"}, \"baxis\": {\"endlinecolor\": \"#2a3f5f\", \"gridcolor\": \"white\", \"linecolor\": \"white\", \"minorgridcolor\": \"white\", \"startlinecolor\": \"#2a3f5f\"}, \"type\": \"carpet\"}], \"choropleth\": [{\"colorbar\": {\"outlinewidth\": 0, \"ticks\": \"\"}, \"type\": \"choropleth\"}], \"contour\": [{\"colorbar\": {\"outlinewidth\": 0, \"ticks\": \"\"}, \"colorscale\": [[0.0, \"#0d0887\"], [0.1111111111111111, \"#46039f\"], [0.2222222222222222, \"#7201a8\"], [0.3333333333333333, \"#9c179e\"], [0.4444444444444444, \"#bd3786\"], [0.5555555555555556, \"#d8576b\"], [0.6666666666666666, \"#ed7953\"], [0.7777777777777778, \"#fb9f3a\"], [0.8888888888888888, \"#fdca26\"], [1.0, \"#f0f921\"]], \"type\": \"contour\"}], \"contourcarpet\": [{\"colorbar\": {\"outlinewidth\": 0, \"ticks\": \"\"}, \"type\": \"contourcarpet\"}], \"heatmap\": [{\"colorbar\": {\"outlinewidth\": 0, \"ticks\": \"\"}, \"colorscale\": [[0.0, \"#0d0887\"], [0.1111111111111111, \"#46039f\"], [0.2222222222222222, \"#7201a8\"], [0.3333333333333333, \"#9c179e\"], [0.4444444444444444, \"#bd3786\"], [0.5555555555555556, \"#d8576b\"], [0.6666666666666666, \"#ed7953\"], [0.7777777777777778, \"#fb9f3a\"], [0.8888888888888888, \"#fdca26\"], [1.0, \"#f0f921\"]], \"type\": \"heatmap\"}], \"heatmapgl\": [{\"colorbar\": {\"outlinewidth\": 0, \"ticks\": \"\"}, \"colorscale\": [[0.0, \"#0d0887\"], [0.1111111111111111, \"#46039f\"], [0.2222222222222222, \"#7201a8\"], [0.3333333333333333, \"#9c179e\"], [0.4444444444444444, \"#bd3786\"], [0.5555555555555556, \"#d8576b\"], [0.6666666666666666, \"#ed7953\"], [0.7777777777777778, \"#fb9f3a\"], [0.8888888888888888, \"#fdca26\"], [1.0, \"#f0f921\"]], \"type\": \"heatmapgl\"}], \"histogram\": [{\"marker\": {\"colorbar\": {\"outlinewidth\": 0, \"ticks\": \"\"}}, \"type\": \"histogram\"}], \"histogram2d\": [{\"colorbar\": {\"outlinewidth\": 0, \"ticks\": \"\"}, \"colorscale\": [[0.0, \"#0d0887\"], [0.1111111111111111, \"#46039f\"], [0.2222222222222222, \"#7201a8\"], [0.3333333333333333, \"#9c179e\"], [0.4444444444444444, \"#bd3786\"], [0.5555555555555556, \"#d8576b\"], [0.6666666666666666, \"#ed7953\"], [0.7777777777777778, \"#fb9f3a\"], [0.8888888888888888, \"#fdca26\"], [1.0, \"#f0f921\"]], \"type\": \"histogram2d\"}], \"histogram2dcontour\": [{\"colorbar\": {\"outlinewidth\": 0, \"ticks\": \"\"}, \"colorscale\": [[0.0, \"#0d0887\"], [0.1111111111111111, \"#46039f\"], [0.2222222222222222, \"#7201a8\"], [0.3333333333333333, \"#9c179e\"], [0.4444444444444444, \"#bd3786\"], [0.5555555555555556, \"#d8576b\"], [0.6666666666666666, \"#ed7953\"], [0.7777777777777778, \"#fb9f3a\"], [0.8888888888888888, \"#fdca26\"], [1.0, \"#f0f921\"]], \"type\": \"histogram2dcontour\"}], \"mesh3d\": [{\"colorbar\": {\"outlinewidth\": 0, \"ticks\": \"\"}, \"type\": \"mesh3d\"}], \"parcoords\": [{\"line\": {\"colorbar\": {\"outlinewidth\": 0, \"ticks\": \"\"}}, \"type\": \"parcoords\"}], \"pie\": [{\"automargin\": true, \"type\": \"pie\"}], \"scatter\": [{\"marker\": {\"colorbar\": {\"outlinewidth\": 0, \"ticks\": \"\"}}, \"type\": \"scatter\"}], \"scatter3d\": [{\"line\": {\"colorbar\": {\"outlinewidth\": 0, \"ticks\": \"\"}}, \"marker\": {\"colorbar\": {\"outlinewidth\": 0, \"ticks\": \"\"}}, \"type\": \"scatter3d\"}], \"scattercarpet\": [{\"marker\": {\"colorbar\": {\"outlinewidth\": 0, \"ticks\": \"\"}}, \"type\": \"scattercarpet\"}], \"scattergeo\": [{\"marker\": {\"colorbar\": {\"outlinewidth\": 0, \"ticks\": \"\"}}, \"type\": \"scattergeo\"}], \"scattergl\": [{\"marker\": {\"colorbar\": {\"outlinewidth\": 0, \"ticks\": \"\"}}, \"type\": \"scattergl\"}], \"scattermapbox\": [{\"marker\": {\"colorbar\": {\"outlinewidth\": 0, \"ticks\": \"\"}}, \"type\": \"scattermapbox\"}], \"scatterpolar\": [{\"marker\": {\"colorbar\": {\"outlinewidth\": 0, \"ticks\": \"\"}}, \"type\": \"scatterpolar\"}], \"scatterpolargl\": [{\"marker\": {\"colorbar\": {\"outlinewidth\": 0, \"ticks\": \"\"}}, \"type\": \"scatterpolargl\"}], \"scatterternary\": [{\"marker\": {\"colorbar\": {\"outlinewidth\": 0, \"ticks\": \"\"}}, \"type\": \"scatterternary\"}], \"surface\": [{\"colorbar\": {\"outlinewidth\": 0, \"ticks\": \"\"}, \"colorscale\": [[0.0, \"#0d0887\"], [0.1111111111111111, \"#46039f\"], [0.2222222222222222, \"#7201a8\"], [0.3333333333333333, \"#9c179e\"], [0.4444444444444444, \"#bd3786\"], [0.5555555555555556, \"#d8576b\"], [0.6666666666666666, \"#ed7953\"], [0.7777777777777778, \"#fb9f3a\"], [0.8888888888888888, \"#fdca26\"], [1.0, \"#f0f921\"]], \"type\": \"surface\"}], \"table\": [{\"cells\": {\"fill\": {\"color\": \"#EBF0F8\"}, \"line\": {\"color\": \"white\"}}, \"header\": {\"fill\": {\"color\": \"#C8D4E3\"}, \"line\": {\"color\": \"white\"}}, \"type\": \"table\"}]}, \"layout\": {\"annotationdefaults\": {\"arrowcolor\": \"#2a3f5f\", \"arrowhead\": 0, \"arrowwidth\": 1}, \"coloraxis\": {\"colorbar\": {\"outlinewidth\": 0, \"ticks\": \"\"}}, \"colorscale\": {\"diverging\": [[0, \"#8e0152\"], [0.1, \"#c51b7d\"], [0.2, \"#de77ae\"], [0.3, \"#f1b6da\"], [0.4, \"#fde0ef\"], [0.5, \"#f7f7f7\"], [0.6, \"#e6f5d0\"], [0.7, \"#b8e186\"], [0.8, \"#7fbc41\"], [0.9, \"#4d9221\"], [1, \"#276419\"]], \"sequential\": [[0.0, \"#0d0887\"], [0.1111111111111111, \"#46039f\"], [0.2222222222222222, \"#7201a8\"], [0.3333333333333333, \"#9c179e\"], [0.4444444444444444, \"#bd3786\"], [0.5555555555555556, \"#d8576b\"], [0.6666666666666666, \"#ed7953\"], [0.7777777777777778, \"#fb9f3a\"], [0.8888888888888888, \"#fdca26\"], [1.0, \"#f0f921\"]], \"sequentialminus\": [[0.0, \"#0d0887\"], [0.1111111111111111, \"#46039f\"], [0.2222222222222222, \"#7201a8\"], [0.3333333333333333, \"#9c179e\"], [0.4444444444444444, \"#bd3786\"], [0.5555555555555556, \"#d8576b\"], [0.6666666666666666, \"#ed7953\"], [0.7777777777777778, \"#fb9f3a\"], [0.8888888888888888, \"#fdca26\"], [1.0, \"#f0f921\"]]}, \"colorway\": [\"#636efa\", \"#EF553B\", \"#00cc96\", \"#ab63fa\", \"#FFA15A\", \"#19d3f3\", \"#FF6692\", \"#B6E880\", \"#FF97FF\", \"#FECB52\"], \"font\": {\"color\": \"#2a3f5f\"}, \"geo\": {\"bgcolor\": \"white\", \"lakecolor\": \"white\", \"landcolor\": \"#E5ECF6\", \"showlakes\": true, \"showland\": true, \"subunitcolor\": \"white\"}, \"hoverlabel\": {\"align\": \"left\"}, \"hovermode\": \"closest\", \"mapbox\": {\"style\": \"light\"}, \"paper_bgcolor\": \"white\", \"plot_bgcolor\": \"#E5ECF6\", \"polar\": {\"angularaxis\": {\"gridcolor\": \"white\", \"linecolor\": \"white\", \"ticks\": \"\"}, \"bgcolor\": \"#E5ECF6\", \"radialaxis\": {\"gridcolor\": \"white\", \"linecolor\": \"white\", \"ticks\": \"\"}}, \"scene\": {\"xaxis\": {\"backgroundcolor\": \"#E5ECF6\", \"gridcolor\": \"white\", \"gridwidth\": 2, \"linecolor\": \"white\", \"showbackground\": true, \"ticks\": \"\", \"zerolinecolor\": \"white\"}, \"yaxis\": {\"backgroundcolor\": \"#E5ECF6\", \"gridcolor\": \"white\", \"gridwidth\": 2, \"linecolor\": \"white\", \"showbackground\": true, \"ticks\": \"\", \"zerolinecolor\": \"white\"}, \"zaxis\": {\"backgroundcolor\": \"#E5ECF6\", \"gridcolor\": \"white\", \"gridwidth\": 2, \"linecolor\": \"white\", \"showbackground\": true, \"ticks\": \"\", \"zerolinecolor\": \"white\"}}, \"shapedefaults\": {\"line\": {\"color\": \"#2a3f5f\"}}, \"ternary\": {\"aaxis\": {\"gridcolor\": \"white\", \"linecolor\": \"white\", \"ticks\": \"\"}, \"baxis\": {\"gridcolor\": \"white\", \"linecolor\": \"white\", \"ticks\": \"\"}, \"bgcolor\": \"#E5ECF6\", \"caxis\": {\"gridcolor\": \"white\", \"linecolor\": \"white\", \"ticks\": \"\"}}, \"title\": {\"x\": 0.05}, \"xaxis\": {\"automargin\": true, \"gridcolor\": \"white\", \"linecolor\": \"white\", \"ticks\": \"\", \"title\": {\"standoff\": 15}, \"zerolinecolor\": \"white\", \"zerolinewidth\": 2}, \"yaxis\": {\"automargin\": true, \"gridcolor\": \"white\", \"linecolor\": \"white\", \"ticks\": \"\", \"title\": {\"standoff\": 15}, \"zerolinecolor\": \"white\", \"zerolinewidth\": 2}}}, \"xaxis\": {\"anchor\": \"y\", \"domain\": [0.0, 1.0], \"title\": {\"text\": \"gender\"}}, \"yaxis\": {\"anchor\": \"x\", \"domain\": [0.0, 1.0], \"title\": {\"text\": \"y\"}}},\n",
       "                        {\"responsive\": true}\n",
       "                    ).then(function(){\n",
       "                            \n",
       "var gd = document.getElementById('b2964c0a-a41a-4c98-b2c2-b19cb91856a1');\n",
       "var x = new MutationObserver(function (mutations, observer) {{\n",
       "        var display = window.getComputedStyle(gd).display;\n",
       "        if (!display || display === 'none') {{\n",
       "            console.log([gd, 'removed!']);\n",
       "            Plotly.purge(gd);\n",
       "            observer.disconnect();\n",
       "        }}\n",
       "}});\n",
       "\n",
       "// Listen for the removal of the full notebook cells\n",
       "var notebookContainer = gd.closest('#notebook-container');\n",
       "if (notebookContainer) {{\n",
       "    x.observe(notebookContainer, {childList: true});\n",
       "}}\n",
       "\n",
       "// Listen for the clearing of the current output cell\n",
       "var outputEl = gd.closest('.output');\n",
       "if (outputEl) {{\n",
       "    x.observe(outputEl, {childList: true});\n",
       "}}\n",
       "\n",
       "                        })\n",
       "                };\n",
       "                });\n",
       "            </script>\n",
       "        </div>"
      ]
     },
     "metadata": {},
     "output_type": "display_data"
    }
   ],
   "source": [
    "import plotly.express as px\n",
    "fig = px.bar(camp, x=camp.gender, y=camp.gender.values, barmode='group',\n",
    "             height=400)\n",
    "fig.show()"
   ]
  },
  {
   "cell_type": "code",
   "execution_count": 15,
   "metadata": {
    "scrolled": true
   },
   "outputs": [
    {
     "data": {
      "text/plain": [
       "<matplotlib.axes._subplots.AxesSubplot at 0x217d2819788>"
      ]
     },
     "execution_count": 15,
     "metadata": {},
     "output_type": "execute_result"
    },
    {
     "data": {
      "image/png": "[encoded data removed]",
      "text/plain": [
       "<Figure size 1080x576 with 1 Axes>"
      ]
     },
     "metadata": {
      "needs_background": "light"
     },
     "output_type": "display_data"
    }
   ],
   "source": [
    "import seaborn as sns\n",
    "\n",
    "\n",
    "fig=plt.figure(constrained_layout=True,figsize=(15,8))\n",
    "sns.countplot(x=\"gender\", hue=\"status\", data=camp)\n",
    "\n",
    "                   #palette={\"red\": \"#FF9999\", \"white\": \"#FFE888\"})"
   ]
  },
  {
   "cell_type": "code",
   "execution_count": null,
   "metadata": {},
   "outputs": [],
   "source": [
    "#pip install cufflinks"
   ]
  },
  {
   "cell_type": "code",
   "execution_count": 16,
   "metadata": {},
   "outputs": [
    {
     "data": {
      "text/html": [
       "        <script type=\"text/javascript\">\n",
       "        window.PlotlyConfig = {MathJaxConfig: 'local'};\n",
       "        if (window.MathJax) {MathJax.Hub.Config({SVG: {font: \"STIX-Web\"}});}\n",
       "        if (typeof require !== 'undefined') {\n",
       "        require.undef(\"plotly\");\n",
       "        requirejs.config({\n",
       "            paths: {\n",
       "                'plotly': ['https://cdn.plot.ly/plotly-latest.min']\n",
       "            }\n",
       "        });\n",
       "        require(['plotly'], function(Plotly) {\n",
       "            window._Plotly = Plotly;\n",
       "        });\n",
       "        }\n",
       "        </script>\n",
       "        "
      ]
     },
     "metadata": {},
     "output_type": "display_data"
    }
   ],
   "source": [
    "#importing Pandas \n",
    "import pandas as pd\n",
    "#importing plotly and cufflinks in offline mode\n",
    "import cufflinks as cf\n",
    "import plotly.offline\n",
    "cf.go_offline()\n",
    "cf.set_config_file(offline=False, world_readable=True)"
   ]
  },
  {
   "cell_type": "code",
   "execution_count": 17,
   "metadata": {},
   "outputs": [
    {
     "data": {
      "application/vnd.plotly.v1+json": {
       "config": {
        "linkText": "Export to plot.ly",
        "plotlyServerURL": "https://plot.ly",
        "showLink": true
       },
       "data": [
        {
         "marker": {
          "color": "rgba(255, 153, 51, 0.6)",
          "line": {
           "color": "rgba(255, 153, 51, 1.0)",
           "width": 1
          }
         },
         "name": "M",
         "orientation": "v",
         "text": "",
         "type": "bar",
         "x": [
          "Placed",
          "Not_Placed"
         ],
         "y": [
          100,
          39
         ]
        },
        {
         "marker": {
          "color": "rgba(55, 128, 191, 0.6)",
          "line": {
           "color": "rgba(55, 128, 191, 1.0)",
           "width": 1
          }
         },
         "name": "F",
         "orientation": "v",
         "text": "",
         "type": "bar",
         "x": [
          "Placed",
          "Not_Placed"
         ],
         "y": [
          48,
          28
         ]
        }
       ],
       "layout": {
        "plot_bgcolor": "rgba(0,0,0,0)",
        "template": {
         "data": {
          "bar": [
           {
            "error_x": {
             "color": "#2a3f5f"
            },
            "error_y": {
             "color": "#2a3f5f"
            },
            "marker": {
             "line": {
              "color": "#E5ECF6",
              "width": 0.5
             }
            },
            "type": "bar"
           }
          ],
          "barpolar": [
           {
            "marker": {
             "line": {
              "color": "#E5ECF6",
              "width": 0.5
             }
            },
            "type": "barpolar"
           }
          ],
          "carpet": [
           {
            "aaxis": {
             "endlinecolor": "#2a3f5f",
             "gridcolor": "white",
             "linecolor": "white",
             "minorgridcolor": "white",
             "startlinecolor": "#2a3f5f"
            },
            "baxis": {
             "endlinecolor": "#2a3f5f",
             "gridcolor": "white",
             "linecolor": "white",
             "minorgridcolor": "white",
             "startlinecolor": "#2a3f5f"
            },
            "type": "carpet"
           }
          ],
          "choropleth": [
           {
            "colorbar": {
             "outlinewidth": 0,
             "ticks": ""
            },
            "type": "choropleth"
           }
          ],
          "contour": [
           {
            "colorbar": {
             "outlinewidth": 0,
             "ticks": ""
            },
            "colorscale": [
             [
              0,
              "#0d0887"
             ],
             [
              0.1111111111111111,
              "#46039f"
             ],
             [
              0.2222222222222222,
              "#7201a8"
             ],
             [
              0.3333333333333333,
              "#9c179e"
             ],
             [
              0.4444444444444444,
              "#bd3786"
             ],
             [
              0.5555555555555556,
              "#d8576b"
             ],
             [
              0.6666666666666666,
              "#ed7953"
             ],
             [
              0.7777777777777778,
              "#fb9f3a"
             ],
             [
              0.8888888888888888,
              "#fdca26"
             ],
             [
              1,
              "#f0f921"
             ]
            ],
            "type": "contour"
           }
          ],
          "contourcarpet": [
           {
            "colorbar": {
             "outlinewidth": 0,
             "ticks": ""
            },
            "type": "contourcarpet"
           }
          ],
          "heatmap": [
           {
            "colorbar": {
             "outlinewidth": 0,
             "ticks": ""
            },
            "colorscale": [
             [
              0,
              "#0d0887"
             ],
             [
              0.1111111111111111,
              "#46039f"
             ],
             [
              0.2222222222222222,
              "#7201a8"
             ],
             [
              0.3333333333333333,
              "#9c179e"
             ],
             [
              0.4444444444444444,
              "#bd3786"
             ],
             [
              0.5555555555555556,
              "#d8576b"
             ],
             [
              0.6666666666666666,
              "#ed7953"
             ],
             [
              0.7777777777777778,
              "#fb9f3a"
             ],
             [
              0.8888888888888888,
              "#fdca26"
             ],
             [
              1,
              "#f0f921"
             ]
            ],
            "type": "heatmap"
           }
          ],
          "heatmapgl": [
           {
            "colorbar": {
             "outlinewidth": 0,
             "ticks": ""
            },
            "colorscale": [
             [
              0,
              "#0d0887"
             ],
             [
              0.1111111111111111,
              "#46039f"
             ],
             [
              0.2222222222222222,
              "#7201a8"
             ],
             [
              0.3333333333333333,
              "#9c179e"
             ],
             [
              0.4444444444444444,
              "#bd3786"
             ],
             [
              0.5555555555555556,
              "#d8576b"
             ],
             [
              0.6666666666666666,
              "#ed7953"
             ],
             [
              0.7777777777777778,
              "#fb9f3a"
             ],
             [
              0.8888888888888888,
              "#fdca26"
             ],
             [
              1,
              "#f0f921"
             ]
            ],
            "type": "heatmapgl"
           }
          ],
          "histogram": [
           {
            "marker": {
             "colorbar": {
              "outlinewidth": 0,
              "ticks": ""
             }
            },
            "type": "histogram"
           }
          ],
          "histogram2d": [
           {
            "colorbar": {
             "outlinewidth": 0,
             "ticks": ""
            },
            "colorscale": [
             [
              0,
              "#0d0887"
             ],
             [
              0.1111111111111111,
              "#46039f"
             ],
             [
              0.2222222222222222,
              "#7201a8"
             ],
             [
              0.3333333333333333,
              "#9c179e"
             ],
             [
              0.4444444444444444,
              "#bd3786"
             ],
             [
              0.5555555555555556,
              "#d8576b"
             ],
             [
              0.6666666666666666,
              "#ed7953"
             ],
             [
              0.7777777777777778,
              "#fb9f3a"
             ],
             [
              0.8888888888888888,
              "#fdca26"
             ],
             [
              1,
              "#f0f921"
             ]
            ],
            "type": "histogram2d"
           }
          ],
          "histogram2dcontour": [
           {
            "colorbar": {
             "outlinewidth": 0,
             "ticks": ""
            },
            "colorscale": [
             [
              0,
              "#0d0887"
             ],
             [
              0.1111111111111111,
              "#46039f"
             ],
             [
              0.2222222222222222,
              "#7201a8"
             ],
             [
              0.3333333333333333,
              "#9c179e"
             ],
             [
              0.4444444444444444,
              "#bd3786"
             ],
             [
              0.5555555555555556,
              "#d8576b"
             ],
             [
              0.6666666666666666,
              "#ed7953"
             ],
             [
              0.7777777777777778,
              "#fb9f3a"
             ],
             [
              0.8888888888888888,
              "#fdca26"
             ],
             [
              1,
              "#f0f921"
             ]
            ],
            "type": "histogram2dcontour"
           }
          ],
          "mesh3d": [
           {
            "colorbar": {
             "outlinewidth": 0,
             "ticks": ""
            },
            "type": "mesh3d"
           }
          ],
          "parcoords": [
           {
            "line": {
             "colorbar": {
              "outlinewidth": 0,
              "ticks": ""
             }
            },
            "type": "parcoords"
           }
          ],
          "pie": [
           {
            "automargin": true,
            "type": "pie"
           }
          ],
          "scatter": [
           {
            "marker": {
             "colorbar": {
              "outlinewidth": 0,
              "ticks": ""
             }
            },
            "type": "scatter"
           }
          ],
          "scatter3d": [
           {
            "line": {
             "colorbar": {
              "outlinewidth": 0,
              "ticks": ""
             }
            },
            "marker": {
             "colorbar": {
              "outlinewidth": 0,
              "ticks": ""
             }
            },
            "type": "scatter3d"
           }
          ],
          "scattercarpet": [
           {
            "marker": {
             "colorbar": {
              "outlinewidth": 0,
              "ticks": ""
             }
            },
            "type": "scattercarpet"
           }
          ],
          "scattergeo": [
           {
            "marker": {
             "colorbar": {
              "outlinewidth": 0,
              "ticks": ""
             }
            },
            "type": "scattergeo"
           }
          ],
          "scattergl": [
           {
            "marker": {
             "colorbar": {
              "outlinewidth": 0,
              "ticks": ""
             }
            },
            "type": "scattergl"
           }
          ],
          "scattermapbox": [
           {
            "marker": {
             "colorbar": {
              "outlinewidth": 0,
              "ticks": ""
             }
            },
            "type": "scattermapbox"
           }
          ],
          "scatterpolar": [
           {
            "marker": {
             "colorbar": {
              "outlinewidth": 0,
              "ticks": ""
             }
            },
            "type": "scatterpolar"
           }
          ],
          "scatterpolargl": [
           {
            "marker": {
             "colorbar": {
              "outlinewidth": 0,
              "ticks": ""
             }
            },
            "type": "scatterpolargl"
           }
          ],
          "scatterternary": [
           {
            "marker": {
             "colorbar": {
              "outlinewidth": 0,
              "ticks": ""
             }
            },
            "type": "scatterternary"
           }
          ],
          "surface": [
           {
            "colorbar": {
             "outlinewidth": 0,
             "ticks": ""
            },
            "colorscale": [
             [
              0,
              "#0d0887"
             ],
             [
              0.1111111111111111,
              "#46039f"
             ],
             [
              0.2222222222222222,
              "#7201a8"
             ],
             [
              0.3333333333333333,
              "#9c179e"
             ],
             [
              0.4444444444444444,
              "#bd3786"
             ],
             [
              0.5555555555555556,
              "#d8576b"
             ],
             [
              0.6666666666666666,
              "#ed7953"
             ],
             [
              0.7777777777777778,
              "#fb9f3a"
             ],
             [
              0.8888888888888888,
              "#fdca26"
             ],
             [
              1,
              "#f0f921"
             ]
            ],
            "type": "surface"
           }
          ],
          "table": [
           {
            "cells": {
             "fill": {
              "color": "#EBF0F8"
             },
             "line": {
              "color": "white"
             }
            },
            "header": {
             "fill": {
              "color": "#C8D4E3"
             },
             "line": {
              "color": "white"
             }
            },
            "type": "table"
           }
          ]
         },
         "layout": {
          "annotationdefaults": {
           "arrowcolor": "#2a3f5f",
           "arrowhead": 0,
           "arrowwidth": 1
          },
          "coloraxis": {
           "colorbar": {
            "outlinewidth": 0,
            "ticks": ""
           }
          },
          "colorscale": {
           "diverging": [
            [
             0,
             "#8e0152"
            ],
            [
             0.1,
             "#c51b7d"
            ],
            [
             0.2,
             "#de77ae"
            ],
            [
             0.3,
             "#f1b6da"
            ],
            [
             0.4,
             "#fde0ef"
            ],
            [
             0.5,
             "#f7f7f7"
            ],
            [
             0.6,
             "#e6f5d0"
            ],
            [
             0.7,
             "#b8e186"
            ],
            [
             0.8,
             "#7fbc41"
            ],
            [
             0.9,
             "#4d9221"
            ],
            [
             1,
             "#276419"
            ]
           ],
           "sequential": [
            [
             0,
             "#0d0887"
            ],
            [
             0.1111111111111111,
             "#46039f"
            ],
            [
             0.2222222222222222,
             "#7201a8"
            ],
            [
             0.3333333333333333,
             "#9c179e"
            ],
            [
             0.4444444444444444,
             "#bd3786"
            ],
            [
             0.5555555555555556,
             "#d8576b"
            ],
            [
             0.6666666666666666,
             "#ed7953"
            ],
            [
             0.7777777777777778,
             "#fb9f3a"
            ],
            [
             0.8888888888888888,
             "#fdca26"
            ],
            [
             1,
             "#f0f921"
            ]
           ],
           "sequentialminus": [
            [
             0,
             "#0d0887"
            ],
            [
             0.1111111111111111,
             "#46039f"
            ],
            [
             0.2222222222222222,
             "#7201a8"
            ],
            [
             0.3333333333333333,
             "#9c179e"
            ],
            [
             0.4444444444444444,
             "#bd3786"
            ],
            [
             0.5555555555555556,
             "#d8576b"
            ],
            [
             0.6666666666666666,
             "#ed7953"
            ],
            [
             0.7777777777777778,
             "#fb9f3a"
            ],
            [
             0.8888888888888888,
             "#fdca26"
            ],
            [
             1,
             "#f0f921"
            ]
           ]
          },
          "colorway": [
           "#636efa",
           "#EF553B",
           "#00cc96",
           "#ab63fa",
           "#FFA15A",
           "#19d3f3",
           "#FF6692",
           "#B6E880",
           "#FF97FF",
           "#FECB52"
          ],
          "font": {
           "color": "#2a3f5f"
          },
          "geo": {
           "bgcolor": "white",
           "lakecolor": "white",
           "landcolor": "#E5ECF6",
           "showlakes": true,
           "showland": true,
           "subunitcolor": "white"
          },
          "hoverlabel": {
           "align": "left"
          },
          "hovermode": "closest",
          "mapbox": {
           "style": "light"
          },
          "paper_bgcolor": "white",
          "plot_bgcolor": "#E5ECF6",
          "polar": {
           "angularaxis": {
            "gridcolor": "white",
            "linecolor": "white",
            "ticks": ""
           },
           "bgcolor": "#E5ECF6",
           "radialaxis": {
            "gridcolor": "white",
            "linecolor": "white",
            "ticks": ""
           }
          },
          "scene": {
           "xaxis": {
            "backgroundcolor": "#E5ECF6",
            "gridcolor": "white",
            "gridwidth": 2,
            "linecolor": "white",
            "showbackground": true,
            "ticks": "",
            "zerolinecolor": "white"
           },
           "yaxis": {
            "backgroundcolor": "#E5ECF6",
            "gridcolor": "white",
            "gridwidth": 2,
            "linecolor": "white",
            "showbackground": true,
            "ticks": "",
            "zerolinecolor": "white"
           },
           "zaxis": {
            "backgroundcolor": "#E5ECF6",
            "gridcolor": "white",
            "gridwidth": 2,
            "linecolor": "white",
            "showbackground": true,
            "ticks": "",
            "zerolinecolor": "white"
           }
          },
          "shapedefaults": {
           "line": {
            "color": "#2a3f5f"
           }
          },
          "ternary": {
           "aaxis": {
            "gridcolor": "white",
            "linecolor": "white",
            "ticks": ""
           },
           "baxis": {
            "gridcolor": "white",
            "linecolor": "white",
            "ticks": ""
           },
           "bgcolor": "#E5ECF6",
           "caxis": {
            "gridcolor": "white",
            "linecolor": "white",
            "ticks": ""
           }
          },
          "title": {
           "x": 0.05
          },
          "xaxis": {
           "automargin": true,
           "gridcolor": "white",
           "linecolor": "white",
           "ticks": "",
           "title": {
            "standoff": 15
           },
           "zerolinecolor": "white",
           "zerolinewidth": 2
          },
          "yaxis": {
           "automargin": true,
           "gridcolor": "white",
           "linecolor": "white",
           "ticks": "",
           "title": {
            "standoff": 15
           },
           "zerolinecolor": "white",
           "zerolinewidth": 2
          }
         }
        },
        "xaxis": {
         "showgrid": true
        },
        "yaxis": {
         "showgrid": false
        }
       }
      },
      "text/html": [
       "<div>\n",
       "        \n",
       "        \n",
       "            <div id=\"af4e1b72-958b-45cc-bc4e-54854c601085\" class=\"plotly-graph-div\" style=\"height:525px; width:100%;\"></div>\n",
       "            <script type=\"text/javascript\">\n",
       "                require([\"plotly\"], function(Plotly) {\n",
       "                    window.PLOTLYENV=window.PLOTLYENV || {};\n",
       "                    window.PLOTLYENV.BASE_URL='https://plot.ly';\n",
       "                    \n",
       "                if (document.getElementById(\"af4e1b72-958b-45cc-bc4e-54854c601085\")) {\n",
       "                    Plotly.newPlot(\n",
       "                        'af4e1b72-958b-45cc-bc4e-54854c601085',\n",
       "                        [{\"marker\": {\"color\": \"rgba(255, 153, 51, 0.6)\", \"line\": {\"color\": \"rgba(255, 153, 51, 1.0)\", \"width\": 1}}, \"name\": \"M\", \"orientation\": \"v\", \"text\": \"\", \"type\": \"bar\", \"x\": [\"Placed\", \"Not_Placed\"], \"y\": [100, 39]}, {\"marker\": {\"color\": \"rgba(55, 128, 191, 0.6)\", \"line\": {\"color\": \"rgba(55, 128, 191, 1.0)\", \"width\": 1}}, \"name\": \"F\", \"orientation\": \"v\", \"text\": \"\", \"type\": \"bar\", \"x\": [\"Placed\", \"Not_Placed\"], \"y\": [48, 28]}],\n",
       "                        {\"plot_bgcolor\": \"rgba(0,0,0,0)\", \"template\": {\"data\": {\"bar\": [{\"error_x\": {\"color\": \"#2a3f5f\"}, \"error_y\": {\"color\": \"#2a3f5f\"}, \"marker\": {\"line\": {\"color\": \"#E5ECF6\", \"width\": 0.5}}, \"type\": \"bar\"}], \"barpolar\": [{\"marker\": {\"line\": {\"color\": \"#E5ECF6\", \"width\": 0.5}}, \"type\": \"barpolar\"}], \"carpet\": [{\"aaxis\": {\"endlinecolor\": \"#2a3f5f\", \"gridcolor\": \"white\", \"linecolor\": \"white\", \"minorgridcolor\": \"white\", \"startlinecolor\": \"#2a3f5f\"}, \"baxis\": {\"endlinecolor\": \"#2a3f5f\", \"gridcolor\": \"white\", \"linecolor\": \"white\", \"minorgridcolor\": \"white\", \"startlinecolor\": \"#2a3f5f\"}, \"type\": \"carpet\"}], \"choropleth\": [{\"colorbar\": {\"outlinewidth\": 0, \"ticks\": \"\"}, \"type\": \"choropleth\"}], \"contour\": [{\"colorbar\": {\"outlinewidth\": 0, \"ticks\": \"\"}, \"colorscale\": [[0.0, \"#0d0887\"], [0.1111111111111111, \"#46039f\"], [0.2222222222222222, \"#7201a8\"], [0.3333333333333333, \"#9c179e\"], [0.4444444444444444, \"#bd3786\"], [0.5555555555555556, \"#d8576b\"], [0.6666666666666666, \"#ed7953\"], [0.7777777777777778, \"#fb9f3a\"], [0.8888888888888888, \"#fdca26\"], [1.0, \"#f0f921\"]], \"type\": \"contour\"}], \"contourcarpet\": [{\"colorbar\": {\"outlinewidth\": 0, \"ticks\": \"\"}, \"type\": \"contourcarpet\"}], \"heatmap\": [{\"colorbar\": {\"outlinewidth\": 0, \"ticks\": \"\"}, \"colorscale\": [[0.0, \"#0d0887\"], [0.1111111111111111, \"#46039f\"], [0.2222222222222222, \"#7201a8\"], [0.3333333333333333, \"#9c179e\"], [0.4444444444444444, \"#bd3786\"], [0.5555555555555556, \"#d8576b\"], [0.6666666666666666, \"#ed7953\"], [0.7777777777777778, \"#fb9f3a\"], [0.8888888888888888, \"#fdca26\"], [1.0, \"#f0f921\"]], \"type\": \"heatmap\"}], \"heatmapgl\": [{\"colorbar\": {\"outlinewidth\": 0, \"ticks\": \"\"}, \"colorscale\": [[0.0, \"#0d0887\"], [0.1111111111111111, \"#46039f\"], [0.2222222222222222, \"#7201a8\"], [0.3333333333333333, \"#9c179e\"], [0.4444444444444444, \"#bd3786\"], [0.5555555555555556, \"#d8576b\"], [0.6666666666666666, \"#ed7953\"], [0.7777777777777778, \"#fb9f3a\"], [0.8888888888888888, \"#fdca26\"], [1.0, \"#f0f921\"]], \"type\": \"heatmapgl\"}], \"histogram\": [{\"marker\": {\"colorbar\": {\"outlinewidth\": 0, \"ticks\": \"\"}}, \"type\": \"histogram\"}], \"histogram2d\": [{\"colorbar\": {\"outlinewidth\": 0, \"ticks\": \"\"}, \"colorscale\": [[0.0, \"#0d0887\"], [0.1111111111111111, \"#46039f\"], [0.2222222222222222, \"#7201a8\"], [0.3333333333333333, \"#9c179e\"], [0.4444444444444444, \"#bd3786\"], [0.5555555555555556, \"#d8576b\"], [0.6666666666666666, \"#ed7953\"], [0.7777777777777778, \"#fb9f3a\"], [0.8888888888888888, \"#fdca26\"], [1.0, \"#f0f921\"]], \"type\": \"histogram2d\"}], \"histogram2dcontour\": [{\"colorbar\": {\"outlinewidth\": 0, \"ticks\": \"\"}, \"colorscale\": [[0.0, \"#0d0887\"], [0.1111111111111111, \"#46039f\"], [0.2222222222222222, \"#7201a8\"], [0.3333333333333333, \"#9c179e\"], [0.4444444444444444, \"#bd3786\"], [0.5555555555555556, \"#d8576b\"], [0.6666666666666666, \"#ed7953\"], [0.7777777777777778, \"#fb9f3a\"], [0.8888888888888888, \"#fdca26\"], [1.0, \"#f0f921\"]], \"type\": \"histogram2dcontour\"}], \"mesh3d\": [{\"colorbar\": {\"outlinewidth\": 0, \"ticks\": \"\"}, \"type\": \"mesh3d\"}], \"parcoords\": [{\"line\": {\"colorbar\": {\"outlinewidth\": 0, \"ticks\": \"\"}}, \"type\": \"parcoords\"}], \"pie\": [{\"automargin\": true, \"type\": \"pie\"}], \"scatter\": [{\"marker\": {\"colorbar\": {\"outlinewidth\": 0, \"ticks\": \"\"}}, \"type\": \"scatter\"}], \"scatter3d\": [{\"line\": {\"colorbar\": {\"outlinewidth\": 0, \"ticks\": \"\"}}, \"marker\": {\"colorbar\": {\"outlinewidth\": 0, \"ticks\": \"\"}}, \"type\": \"scatter3d\"}], \"scattercarpet\": [{\"marker\": {\"colorbar\": {\"outlinewidth\": 0, \"ticks\": \"\"}}, \"type\": \"scattercarpet\"}], \"scattergeo\": [{\"marker\": {\"colorbar\": {\"outlinewidth\": 0, \"ticks\": \"\"}}, \"type\": \"scattergeo\"}], \"scattergl\": [{\"marker\": {\"colorbar\": {\"outlinewidth\": 0, \"ticks\": \"\"}}, \"type\": \"scattergl\"}], \"scattermapbox\": [{\"marker\": {\"colorbar\": {\"outlinewidth\": 0, \"ticks\": \"\"}}, \"type\": \"scattermapbox\"}], \"scatterpolar\": [{\"marker\": {\"colorbar\": {\"outlinewidth\": 0, \"ticks\": \"\"}}, \"type\": \"scatterpolar\"}], \"scatterpolargl\": [{\"marker\": {\"colorbar\": {\"outlinewidth\": 0, \"ticks\": \"\"}}, \"type\": \"scatterpolargl\"}], \"scatterternary\": [{\"marker\": {\"colorbar\": {\"outlinewidth\": 0, \"ticks\": \"\"}}, \"type\": \"scatterternary\"}], \"surface\": [{\"colorbar\": {\"outlinewidth\": 0, \"ticks\": \"\"}, \"colorscale\": [[0.0, \"#0d0887\"], [0.1111111111111111, \"#46039f\"], [0.2222222222222222, \"#7201a8\"], [0.3333333333333333, \"#9c179e\"], [0.4444444444444444, \"#bd3786\"], [0.5555555555555556, \"#d8576b\"], [0.6666666666666666, \"#ed7953\"], [0.7777777777777778, \"#fb9f3a\"], [0.8888888888888888, \"#fdca26\"], [1.0, \"#f0f921\"]], \"type\": \"surface\"}], \"table\": [{\"cells\": {\"fill\": {\"color\": \"#EBF0F8\"}, \"line\": {\"color\": \"white\"}}, \"header\": {\"fill\": {\"color\": \"#C8D4E3\"}, \"line\": {\"color\": \"white\"}}, \"type\": \"table\"}]}, \"layout\": {\"annotationdefaults\": {\"arrowcolor\": \"#2a3f5f\", \"arrowhead\": 0, \"arrowwidth\": 1}, \"coloraxis\": {\"colorbar\": {\"outlinewidth\": 0, \"ticks\": \"\"}}, \"colorscale\": {\"diverging\": [[0, \"#8e0152\"], [0.1, \"#c51b7d\"], [0.2, \"#de77ae\"], [0.3, \"#f1b6da\"], [0.4, \"#fde0ef\"], [0.5, \"#f7f7f7\"], [0.6, \"#e6f5d0\"], [0.7, \"#b8e186\"], [0.8, \"#7fbc41\"], [0.9, \"#4d9221\"], [1, \"#276419\"]], \"sequential\": [[0.0, \"#0d0887\"], [0.1111111111111111, \"#46039f\"], [0.2222222222222222, \"#7201a8\"], [0.3333333333333333, \"#9c179e\"], [0.4444444444444444, \"#bd3786\"], [0.5555555555555556, \"#d8576b\"], [0.6666666666666666, \"#ed7953\"], [0.7777777777777778, \"#fb9f3a\"], [0.8888888888888888, \"#fdca26\"], [1.0, \"#f0f921\"]], \"sequentialminus\": [[0.0, \"#0d0887\"], [0.1111111111111111, \"#46039f\"], [0.2222222222222222, \"#7201a8\"], [0.3333333333333333, \"#9c179e\"], [0.4444444444444444, \"#bd3786\"], [0.5555555555555556, \"#d8576b\"], [0.6666666666666666, \"#ed7953\"], [0.7777777777777778, \"#fb9f3a\"], [0.8888888888888888, \"#fdca26\"], [1.0, \"#f0f921\"]]}, \"colorway\": [\"#636efa\", \"#EF553B\", \"#00cc96\", \"#ab63fa\", \"#FFA15A\", \"#19d3f3\", \"#FF6692\", \"#B6E880\", \"#FF97FF\", \"#FECB52\"], \"font\": {\"color\": \"#2a3f5f\"}, \"geo\": {\"bgcolor\": \"white\", \"lakecolor\": \"white\", \"landcolor\": \"#E5ECF6\", \"showlakes\": true, \"showland\": true, \"subunitcolor\": \"white\"}, \"hoverlabel\": {\"align\": \"left\"}, \"hovermode\": \"closest\", \"mapbox\": {\"style\": \"light\"}, \"paper_bgcolor\": \"white\", \"plot_bgcolor\": \"#E5ECF6\", \"polar\": {\"angularaxis\": {\"gridcolor\": \"white\", \"linecolor\": \"white\", \"ticks\": \"\"}, \"bgcolor\": \"#E5ECF6\", \"radialaxis\": {\"gridcolor\": \"white\", \"linecolor\": \"white\", \"ticks\": \"\"}}, \"scene\": {\"xaxis\": {\"backgroundcolor\": \"#E5ECF6\", \"gridcolor\": \"white\", \"gridwidth\": 2, \"linecolor\": \"white\", \"showbackground\": true, \"ticks\": \"\", \"zerolinecolor\": \"white\"}, \"yaxis\": {\"backgroundcolor\": \"#E5ECF6\", \"gridcolor\": \"white\", \"gridwidth\": 2, \"linecolor\": \"white\", \"showbackground\": true, \"ticks\": \"\", \"zerolinecolor\": \"white\"}, \"zaxis\": {\"backgroundcolor\": \"#E5ECF6\", \"gridcolor\": \"white\", \"gridwidth\": 2, \"linecolor\": \"white\", \"showbackground\": true, \"ticks\": \"\", \"zerolinecolor\": \"white\"}}, \"shapedefaults\": {\"line\": {\"color\": \"#2a3f5f\"}}, \"ternary\": {\"aaxis\": {\"gridcolor\": \"white\", \"linecolor\": \"white\", \"ticks\": \"\"}, \"baxis\": {\"gridcolor\": \"white\", \"linecolor\": \"white\", \"ticks\": \"\"}, \"bgcolor\": \"#E5ECF6\", \"caxis\": {\"gridcolor\": \"white\", \"linecolor\": \"white\", \"ticks\": \"\"}}, \"title\": {\"x\": 0.05}, \"xaxis\": {\"automargin\": true, \"gridcolor\": \"white\", \"linecolor\": \"white\", \"ticks\": \"\", \"title\": {\"standoff\": 15}, \"zerolinecolor\": \"white\", \"zerolinewidth\": 2}, \"yaxis\": {\"automargin\": true, \"gridcolor\": \"white\", \"linecolor\": \"white\", \"ticks\": \"\", \"title\": {\"standoff\": 15}, \"zerolinecolor\": \"white\", \"zerolinewidth\": 2}}}, \"xaxis\": {\"showgrid\": true}, \"yaxis\": {\"showgrid\": false}},\n",
       "                        {\"showLink\": true, \"linkText\": \"Export to plot.ly\", \"plotlyServerURL\": \"https://plot.ly\", \"responsive\": true}\n",
       "                    ).then(function(){\n",
       "                            \n",
       "var gd = document.getElementById('af4e1b72-958b-45cc-bc4e-54854c601085');\n",
       "var x = new MutationObserver(function (mutations, observer) {{\n",
       "        var display = window.getComputedStyle(gd).display;\n",
       "        if (!display || display === 'none') {{\n",
       "            console.log([gd, 'removed!']);\n",
       "            Plotly.purge(gd);\n",
       "            observer.disconnect();\n",
       "        }}\n",
       "}});\n",
       "\n",
       "// Listen for the removal of the full notebook cells\n",
       "var notebookContainer = gd.closest('#notebook-container');\n",
       "if (notebookContainer) {{\n",
       "    x.observe(notebookContainer, {childList: true});\n",
       "}}\n",
       "\n",
       "// Listen for the clearing of the current output cell\n",
       "var outputEl = gd.closest('.output');\n",
       "if (outputEl) {{\n",
       "    x.observe(outputEl, {childList: true});\n",
       "}}\n",
       "\n",
       "                        })\n",
       "                };\n",
       "                });\n",
       "            </script>\n",
       "        </div>"
      ]
     },
     "metadata": {},
     "output_type": "display_data"
    }
   ],
   "source": [
    "Placed = camp[camp['status']==\"Placed\"]['gender'].value_counts()\n",
    "Not_Placed = camp[camp['status']==\"Not Placed\"]['gender'].value_counts()\n",
    "df1 = pd.DataFrame([Placed,Not_Placed])\n",
    "layout = dict(xaxis_showgrid=True, yaxis_showgrid=False,plot_bgcolor='rgba(0,0,0,0)')\n",
    "df1.index = ['Placed','Not_Placed']\n",
    "df1.iplot(kind='bar',barmode='group', title='Placement by the Gender',layout=layout)\n"
   ]
  },
  {
   "cell_type": "code",
   "execution_count": 18,
   "metadata": {},
   "outputs": [
    {
     "data": {
      "application/vnd.plotly.v1+json": {
       "config": {
        "linkText": "Export to plot.ly",
        "plotlyServerURL": "https://plot.ly",
        "showLink": true
       },
       "data": [
        {
         "histfunc": "count",
         "histnorm": "",
         "marker": {
          "color": "rgba(255, 153, 51, 1.0)",
          "line": {
           "color": "#4D5663",
           "width": 1.3
          }
         },
         "name": "Placed",
         "nbinsx": 10,
         "opacity": 0.8,
         "orientation": "v",
         "type": "histogram",
         "x": [
          91,
          78.33,
          68,
          null,
          73.6,
          null,
          null,
          64,
          79,
          null,
          61,
          68.4,
          null,
          87,
          null,
          75,
          66.2,
          null,
          null,
          67,
          65,
          76,
          60.8,
          60,
          97.7,
          null,
          79,
          67,
          76.5,
          null,
          73.5,
          null,
          81,
          65,
          null,
          78,
          null,
          76,
          58,
          68,
          77,
          null,
          null,
          87,
          73,
          null,
          null,
          60,
          62,
          null,
          73.2,
          null,
          null,
          70,
          60,
          66.6,
          71.4,
          76,
          62,
          65.58,
          70,
          73.4,
          64.2,
          null,
          73,
          null,
          74,
          78.5,
          null,
          73,
          61,
          70.29,
          67,
          83.83,
          64.8,
          null,
          70.4,
          80,
          90.9,
          null,
          62,
          63,
          null,
          79,
          63,
          89.83,
          63,
          null,
          62,
          75,
          90,
          null,
          69,
          null,
          62,
          78,
          70,
          null,
          73,
          null,
          null,
          72,
          61,
          78,
          63,
          null,
          null,
          90,
          82,
          null,
          70,
          null,
          61,
          79,
          68,
          63,
          72.8,
          75,
          80,
          68.4,
          null,
          67,
          66.8,
          59,
          71,
          73,
          61,
          60,
          73.4,
          89.7,
          null,
          57,
          68,
          64,
          92,
          56,
          null,
          63,
          64,
          70,
          64.8,
          null,
          60,
          64.89,
          null,
          65.66,
          63,
          74,
          86,
          null,
          58.66,
          65,
          60.5,
          59,
          63,
          null,
          69.4,
          62.5,
          null,
          null,
          74,
          null,
          87.6,
          67,
          72.5,
          null,
          62,
          null,
          null,
          null,
          null,
          80,
          58,
          null,
          50.83,
          null,
          60,
          97,
          56,
          null,
          71.5,
          null,
          null,
          77,
          null,
          72,
          null,
          65.5,
          null,
          null,
          null,
          61,
          61.4,
          63,
          null,
          76,
          63,
          53,
          null,
          65,
          60,
          null,
          63,
          61.33,
          73,
          62,
          null,
          78,
          null,
          72,
          82,
          60,
          67,
          66,
          null
         ]
        },
        {
         "histfunc": "count",
         "histnorm": "",
         "marker": {
          "color": "rgba(55, 128, 191, 1.0)",
          "line": {
           "color": "#4D5663",
           "width": 1.3
          }
         },
         "name": "Not Placed",
         "nbinsx": 10,
         "opacity": 0.8,
         "orientation": "v",
         "type": "histogram",
         "x": [
          null,
          null,
          null,
          52,
          null,
          49.8,
          49.2,
          null,
          null,
          70,
          null,
          null,
          55,
          null,
          47,
          null,
          null,
          67,
          66,
          null,
          null,
          null,
          null,
          null,
          null,
          54.6,
          null,
          null,
          null,
          67,
          null,
          53,
          null,
          null,
          51,
          null,
          44,
          null,
          null,
          null,
          null,
          63.16,
          39,
          null,
          null,
          64,
          71.98,
          null,
          null,
          37,
          null,
          61.12,
          45.83,
          null,
          null,
          null,
          null,
          null,
          null,
          null,
          null,
          null,
          null,
          70,
          null,
          47,
          null,
          null,
          47,
          null,
          null,
          null,
          null,
          null,
          null,
          62,
          null,
          null,
          null,
          62,
          null,
          null,
          67,
          null,
          null,
          null,
          null,
          51,
          null,
          null,
          null,
          57,
          null,
          62,
          null,
          null,
          null,
          62.5,
          null,
          82,
          57,
          null,
          null,
          null,
          null,
          64,
          50,
          null,
          null,
          63,
          null,
          54,
          null,
          null,
          null,
          null,
          null,
          null,
          null,
          null,
          40,
          null,
          null,
          null,
          null,
          null,
          null,
          null,
          null,
          null,
          65,
          null,
          null,
          null,
          null,
          null,
          59,
          null,
          null,
          null,
          null,
          64,
          null,
          null,
          50,
          null,
          null,
          null,
          null,
          58,
          null,
          null,
          null,
          null,
          null,
          74.66,
          null,
          null,
          63,
          49,
          null,
          51,
          null,
          null,
          null,
          78.33,
          null,
          62,
          51,
          42.16,
          67.2,
          null,
          null,
          52,
          null,
          62,
          null,
          null,
          null,
          64,
          null,
          60.33,
          65,
          null,
          62.83,
          null,
          64,
          null,
          47,
          77.6,
          70.2,
          null,
          null,
          null,
          55,
          null,
          null,
          null,
          70,
          null,
          null,
          63,
          null,
          null,
          null,
          null,
          42,
          null,
          60,
          null,
          null,
          null,
          null,
          null,
          58
         ]
        }
       ],
       "layout": {
        "barmode": "overlay",
        "legend": {
         "bgcolor": "#FFFFFF",
         "font": {
          "color": "#4D5663"
         }
        },
        "paper_bgcolor": "#FFFFFF",
        "plot_bgcolor": "#FFFFFF",
        "template": {
         "data": {
          "bar": [
           {
            "error_x": {
             "color": "#2a3f5f"
            },
            "error_y": {
             "color": "#2a3f5f"
            },
            "marker": {
             "line": {
              "color": "#E5ECF6",
              "width": 0.5
             }
            },
            "type": "bar"
           }
          ],
          "barpolar": [
           {
            "marker": {
             "line": {
              "color": "#E5ECF6",
              "width": 0.5
             }
            },
            "type": "barpolar"
           }
          ],
          "carpet": [
           {
            "aaxis": {
             "endlinecolor": "#2a3f5f",
             "gridcolor": "white",
             "linecolor": "white",
             "minorgridcolor": "white",
             "startlinecolor": "#2a3f5f"
            },
            "baxis": {
             "endlinecolor": "#2a3f5f",
             "gridcolor": "white",
             "linecolor": "white",
             "minorgridcolor": "white",
             "startlinecolor": "#2a3f5f"
            },
            "type": "carpet"
           }
          ],
          "choropleth": [
           {
            "colorbar": {
             "outlinewidth": 0,
             "ticks": ""
            },
            "type": "choropleth"
           }
          ],
          "contour": [
           {
            "colorbar": {
             "outlinewidth": 0,
             "ticks": ""
            },
            "colorscale": [
             [
              0,
              "#0d0887"
             ],
             [
              0.1111111111111111,
              "#46039f"
             ],
             [
              0.2222222222222222,
              "#7201a8"
             ],
             [
              0.3333333333333333,
              "#9c179e"
             ],
             [
              0.4444444444444444,
              "#bd3786"
             ],
             [
              0.5555555555555556,
              "#d8576b"
             ],
             [
              0.6666666666666666,
              "#ed7953"
             ],
             [
              0.7777777777777778,
              "#fb9f3a"
             ],
             [
              0.8888888888888888,
              "#fdca26"
             ],
             [
              1,
              "#f0f921"
             ]
            ],
            "type": "contour"
           }
          ],
          "contourcarpet": [
           {
            "colorbar": {
             "outlinewidth": 0,
             "ticks": ""
            },
            "type": "contourcarpet"
           }
          ],
          "heatmap": [
           {
            "colorbar": {
             "outlinewidth": 0,
             "ticks": ""
            },
            "colorscale": [
             [
              0,
              "#0d0887"
             ],
             [
              0.1111111111111111,
              "#46039f"
             ],
             [
              0.2222222222222222,
              "#7201a8"
             ],
             [
              0.3333333333333333,
              "#9c179e"
             ],
             [
              0.4444444444444444,
              "#bd3786"
             ],
             [
              0.5555555555555556,
              "#d8576b"
             ],
             [
              0.6666666666666666,
              "#ed7953"
             ],
             [
              0.7777777777777778,
              "#fb9f3a"
             ],
             [
              0.8888888888888888,
              "#fdca26"
             ],
             [
              1,
              "#f0f921"
             ]
            ],
            "type": "heatmap"
           }
          ],
          "heatmapgl": [
           {
            "colorbar": {
             "outlinewidth": 0,
             "ticks": ""
            },
            "colorscale": [
             [
              0,
              "#0d0887"
             ],
             [
              0.1111111111111111,
              "#46039f"
             ],
             [
              0.2222222222222222,
              "#7201a8"
             ],
             [
              0.3333333333333333,
              "#9c179e"
             ],
             [
              0.4444444444444444,
              "#bd3786"
             ],
             [
              0.5555555555555556,
              "#d8576b"
             ],
             [
              0.6666666666666666,
              "#ed7953"
             ],
             [
              0.7777777777777778,
              "#fb9f3a"
             ],
             [
              0.8888888888888888,
              "#fdca26"
             ],
             [
              1,
              "#f0f921"
             ]
            ],
            "type": "heatmapgl"
           }
          ],
          "histogram": [
           {
            "marker": {
             "colorbar": {
              "outlinewidth": 0,
              "ticks": ""
             }
            },
            "type": "histogram"
           }
          ],
          "histogram2d": [
           {
            "colorbar": {
             "outlinewidth": 0,
             "ticks": ""
            },
            "colorscale": [
             [
              0,
              "#0d0887"
             ],
             [
              0.1111111111111111,
              "#46039f"
             ],
             [
              0.2222222222222222,
              "#7201a8"
             ],
             [
              0.3333333333333333,
              "#9c179e"
             ],
             [
              0.4444444444444444,
              "#bd3786"
             ],
             [
              0.5555555555555556,
              "#d8576b"
             ],
             [
              0.6666666666666666,
              "#ed7953"
             ],
             [
              0.7777777777777778,
              "#fb9f3a"
             ],
             [
              0.8888888888888888,
              "#fdca26"
             ],
             [
              1,
              "#f0f921"
             ]
            ],
            "type": "histogram2d"
           }
          ],
          "histogram2dcontour": [
           {
            "colorbar": {
             "outlinewidth": 0,
             "ticks": ""
            },
            "colorscale": [
             [
              0,
              "#0d0887"
             ],
             [
              0.1111111111111111,
              "#46039f"
             ],
             [
              0.2222222222222222,
              "#7201a8"
             ],
             [
              0.3333333333333333,
              "#9c179e"
             ],
             [
              0.4444444444444444,
              "#bd3786"
             ],
             [
              0.5555555555555556,
              "#d8576b"
             ],
             [
              0.6666666666666666,
              "#ed7953"
             ],
             [
              0.7777777777777778,
              "#fb9f3a"
             ],
             [
              0.8888888888888888,
              "#fdca26"
             ],
             [
              1,
              "#f0f921"
             ]
            ],
            "type": "histogram2dcontour"
           }
          ],
          "mesh3d": [
           {
            "colorbar": {
             "outlinewidth": 0,
             "ticks": ""
            },
            "type": "mesh3d"
           }
          ],
          "parcoords": [
           {
            "line": {
             "colorbar": {
              "outlinewidth": 0,
              "ticks": ""
             }
            },
            "type": "parcoords"
           }
          ],
          "pie": [
           {
            "automargin": true,
            "type": "pie"
           }
          ],
          "scatter": [
           {
            "marker": {
             "colorbar": {
              "outlinewidth": 0,
              "ticks": ""
             }
            },
            "type": "scatter"
           }
          ],
          "scatter3d": [
           {
            "line": {
             "colorbar": {
              "outlinewidth": 0,
              "ticks": ""
             }
            },
            "marker": {
             "colorbar": {
              "outlinewidth": 0,
              "ticks": ""
             }
            },
            "type": "scatter3d"
           }
          ],
          "scattercarpet": [
           {
            "marker": {
             "colorbar": {
              "outlinewidth": 0,
              "ticks": ""
             }
            },
            "type": "scattercarpet"
           }
          ],
          "scattergeo": [
           {
            "marker": {
             "colorbar": {
              "outlinewidth": 0,
              "ticks": ""
             }
            },
            "type": "scattergeo"
           }
          ],
          "scattergl": [
           {
            "marker": {
             "colorbar": {
              "outlinewidth": 0,
              "ticks": ""
             }
            },
            "type": "scattergl"
           }
          ],
          "scattermapbox": [
           {
            "marker": {
             "colorbar": {
              "outlinewidth": 0,
              "ticks": ""
             }
            },
            "type": "scattermapbox"
           }
          ],
          "scatterpolar": [
           {
            "marker": {
             "colorbar": {
              "outlinewidth": 0,
              "ticks": ""
             }
            },
            "type": "scatterpolar"
           }
          ],
          "scatterpolargl": [
           {
            "marker": {
             "colorbar": {
              "outlinewidth": 0,
              "ticks": ""
             }
            },
            "type": "scatterpolargl"
           }
          ],
          "scatterternary": [
           {
            "marker": {
             "colorbar": {
              "outlinewidth": 0,
              "ticks": ""
             }
            },
            "type": "scatterternary"
           }
          ],
          "surface": [
           {
            "colorbar": {
             "outlinewidth": 0,
             "ticks": ""
            },
            "colorscale": [
             [
              0,
              "#0d0887"
             ],
             [
              0.1111111111111111,
              "#46039f"
             ],
             [
              0.2222222222222222,
              "#7201a8"
             ],
             [
              0.3333333333333333,
              "#9c179e"
             ],
             [
              0.4444444444444444,
              "#bd3786"
             ],
             [
              0.5555555555555556,
              "#d8576b"
             ],
             [
              0.6666666666666666,
              "#ed7953"
             ],
             [
              0.7777777777777778,
              "#fb9f3a"
             ],
             [
              0.8888888888888888,
              "#fdca26"
             ],
             [
              1,
              "#f0f921"
             ]
            ],
            "type": "surface"
           }
          ],
          "table": [
           {
            "cells": {
             "fill": {
              "color": "#EBF0F8"
             },
             "line": {
              "color": "white"
             }
            },
            "header": {
             "fill": {
              "color": "#C8D4E3"
             },
             "line": {
              "color": "white"
             }
            },
            "type": "table"
           }
          ]
         },
         "layout": {
          "annotationdefaults": {
           "arrowcolor": "#2a3f5f",
           "arrowhead": 0,
           "arrowwidth": 1
          },
          "coloraxis": {
           "colorbar": {
            "outlinewidth": 0,
            "ticks": ""
           }
          },
          "colorscale": {
           "diverging": [
            [
             0,
             "#8e0152"
            ],
            [
             0.1,
             "#c51b7d"
            ],
            [
             0.2,
             "#de77ae"
            ],
            [
             0.3,
             "#f1b6da"
            ],
            [
             0.4,
             "#fde0ef"
            ],
            [
             0.5,
             "#f7f7f7"
            ],
            [
             0.6,
             "#e6f5d0"
            ],
            [
             0.7,
             "#b8e186"
            ],
            [
             0.8,
             "#7fbc41"
            ],
            [
             0.9,
             "#4d9221"
            ],
            [
             1,
             "#276419"
            ]
           ],
           "sequential": [
            [
             0,
             "#0d0887"
            ],
            [
             0.1111111111111111,
             "#46039f"
            ],
            [
             0.2222222222222222,
             "#7201a8"
            ],
            [
             0.3333333333333333,
             "#9c179e"
            ],
            [
             0.4444444444444444,
             "#bd3786"
            ],
            [
             0.5555555555555556,
             "#d8576b"
            ],
            [
             0.6666666666666666,
             "#ed7953"
            ],
            [
             0.7777777777777778,
             "#fb9f3a"
            ],
            [
             0.8888888888888888,
             "#fdca26"
            ],
            [
             1,
             "#f0f921"
            ]
           ],
           "sequentialminus": [
            [
             0,
             "#0d0887"
            ],
            [
             0.1111111111111111,
             "#46039f"
            ],
            [
             0.2222222222222222,
             "#7201a8"
            ],
            [
             0.3333333333333333,
             "#9c179e"
            ],
            [
             0.4444444444444444,
             "#bd3786"
            ],
            [
             0.5555555555555556,
             "#d8576b"
            ],
            [
             0.6666666666666666,
             "#ed7953"
            ],
            [
             0.7777777777777778,
             "#fb9f3a"
            ],
            [
             0.8888888888888888,
             "#fdca26"
            ],
            [
             1,
             "#f0f921"
            ]
           ]
          },
          "colorway": [
           "#636efa",
           "#EF553B",
           "#00cc96",
           "#ab63fa",
           "#FFA15A",
           "#19d3f3",
           "#FF6692",
           "#B6E880",
           "#FF97FF",
           "#FECB52"
          ],
          "font": {
           "color": "#2a3f5f"
          },
          "geo": {
           "bgcolor": "white",
           "lakecolor": "white",
           "landcolor": "#E5ECF6",
           "showlakes": true,
           "showland": true,
           "subunitcolor": "white"
          },
          "hoverlabel": {
           "align": "left"
          },
          "hovermode": "closest",
          "mapbox": {
           "style": "light"
          },
          "paper_bgcolor": "white",
          "plot_bgcolor": "#E5ECF6",
          "polar": {
           "angularaxis": {
            "gridcolor": "white",
            "linecolor": "white",
            "ticks": ""
           },
           "bgcolor": "#E5ECF6",
           "radialaxis": {
            "gridcolor": "white",
            "linecolor": "white",
            "ticks": ""
           }
          },
          "scene": {
           "xaxis": {
            "backgroundcolor": "#E5ECF6",
            "gridcolor": "white",
            "gridwidth": 2,
            "linecolor": "white",
            "showbackground": true,
            "ticks": "",
            "zerolinecolor": "white"
           },
           "yaxis": {
            "backgroundcolor": "#E5ECF6",
            "gridcolor": "white",
            "gridwidth": 2,
            "linecolor": "white",
            "showbackground": true,
            "ticks": "",
            "zerolinecolor": "white"
           },
           "zaxis": {
            "backgroundcolor": "#E5ECF6",
            "gridcolor": "white",
            "gridwidth": 2,
            "linecolor": "white",
            "showbackground": true,
            "ticks": "",
            "zerolinecolor": "white"
           }
          },
          "shapedefaults": {
           "line": {
            "color": "#2a3f5f"
           }
          },
          "ternary": {
           "aaxis": {
            "gridcolor": "white",
            "linecolor": "white",
            "ticks": ""
           },
           "baxis": {
            "gridcolor": "white",
            "linecolor": "white",
            "ticks": ""
           },
           "bgcolor": "#E5ECF6",
           "caxis": {
            "gridcolor": "white",
            "linecolor": "white",
            "ticks": ""
           }
          },
          "title": {
           "x": 0.05
          },
          "xaxis": {
           "automargin": true,
           "gridcolor": "white",
           "linecolor": "white",
           "ticks": "",
           "title": {
            "standoff": 15
           },
           "zerolinecolor": "white",
           "zerolinewidth": 2
          },
          "yaxis": {
           "automargin": true,
           "gridcolor": "white",
           "linecolor": "white",
           "ticks": "",
           "title": {
            "standoff": 15
           },
           "zerolinecolor": "white",
           "zerolinewidth": 2
          }
         }
        },
        "title": {
         "font": {
          "color": "#4D5663"
         },
         "text": "placement According to HSC"
        },
        "xaxis": {
         "gridcolor": "#E1E5ED",
         "showgrid": true,
         "tickfont": {
          "color": "#4D5663"
         },
         "title": {
          "font": {
           "color": "#4D5663"
          },
          "text": "Higher Secondary marks"
         },
         "zerolinecolor": "#E1E5ED"
        },
        "yaxis": {
         "gridcolor": "#E1E5ED",
         "showgrid": true,
         "tickfont": {
          "color": "#4D5663"
         },
         "title": {
          "font": {
           "color": "#4D5663"
          },
          "text": "Count"
         },
         "zerolinecolor": "#E1E5ED"
        }
       }
      },
      "text/html": [
       "<div>\n",
       "        \n",
       "        \n",
       "            <div id=\"d79bdfb5-917a-4309-b3b8-75dadaf3f57f\" class=\"plotly-graph-div\" style=\"height:525px; width:100%;\"></div>\n",
       "            <script type=\"text/javascript\">\n",
       "                require([\"plotly\"], function(Plotly) {\n",
       "                    window.PLOTLYENV=window.PLOTLYENV || {};\n",
       "                    window.PLOTLYENV.BASE_URL='https://plot.ly';\n",
       "                    \n",
       "                if (document.getElementById(\"d79bdfb5-917a-4309-b3b8-75dadaf3f57f\")) {\n",
       "                    Plotly.newPlot(\n",
       "                        'd79bdfb5-917a-4309-b3b8-75dadaf3f57f',\n",
       "                        [{\"histfunc\": \"count\", \"histnorm\": \"\", \"marker\": {\"color\": \"rgba(255, 153, 51, 1.0)\", \"line\": {\"color\": \"#4D5663\", \"width\": 1.3}}, \"name\": \"Placed\", \"nbinsx\": 10, \"opacity\": 0.8, \"orientation\": \"v\", \"type\": \"histogram\", \"x\": [91.0, 78.33, 68.0, null, 73.6, null, null, 64.0, 79.0, null, 61.0, 68.4, null, 87.0, null, 75.0, 66.2, null, null, 67.0, 65.0, 76.0, 60.8, 60.0, 97.7, null, 79.0, 67.0, 76.5, null, 73.5, null, 81.0, 65.0, null, 78.0, null, 76.0, 58.0, 68.0, 77.0, null, null, 87.0, 73.0, null, null, 60.0, 62.0, null, 73.2, null, null, 70.0, 60.0, 66.6, 71.4, 76.0, 62.0, 65.58, 70.0, 73.4, 64.2, null, 73.0, null, 74.0, 78.5, null, 73.0, 61.0, 70.29, 67.0, 83.83, 64.8, null, 70.4, 80.0, 90.9, null, 62.0, 63.0, null, 79.0, 63.0, 89.83, 63.0, null, 62.0, 75.0, 90.0, null, 69.0, null, 62.0, 78.0, 70.0, null, 73.0, null, null, 72.0, 61.0, 78.0, 63.0, null, null, 90.0, 82.0, null, 70.0, null, 61.0, 79.0, 68.0, 63.0, 72.8, 75.0, 80.0, 68.4, null, 67.0, 66.8, 59.0, 71.0, 73.0, 61.0, 60.0, 73.4, 89.7, null, 57.0, 68.0, 64.0, 92.0, 56.0, null, 63.0, 64.0, 70.0, 64.8, null, 60.0, 64.89, null, 65.66, 63.0, 74.0, 86.0, null, 58.66, 65.0, 60.5, 59.0, 63.0, null, 69.4, 62.5, null, null, 74.0, null, 87.6, 67.0, 72.5, null, 62.0, null, null, null, null, 80.0, 58.0, null, 50.83, null, 60.0, 97.0, 56.0, null, 71.5, null, null, 77.0, null, 72.0, null, 65.5, null, null, null, 61.0, 61.4, 63.0, null, 76.0, 63.0, 53.0, null, 65.0, 60.0, null, 63.0, 61.33, 73.0, 62.0, null, 78.0, null, 72.0, 82.0, 60.0, 67.0, 66.0, null]}, {\"histfunc\": \"count\", \"histnorm\": \"\", \"marker\": {\"color\": \"rgba(55, 128, 191, 1.0)\", \"line\": {\"color\": \"#4D5663\", \"width\": 1.3}}, \"name\": \"Not Placed\", \"nbinsx\": 10, \"opacity\": 0.8, \"orientation\": \"v\", \"type\": \"histogram\", \"x\": [null, null, null, 52.0, null, 49.8, 49.2, null, null, 70.0, null, null, 55.0, null, 47.0, null, null, 67.0, 66.0, null, null, null, null, null, null, 54.6, null, null, null, 67.0, null, 53.0, null, null, 51.0, null, 44.0, null, null, null, null, 63.16, 39.0, null, null, 64.0, 71.98, null, null, 37.0, null, 61.12, 45.83, null, null, null, null, null, null, null, null, null, null, 70.0, null, 47.0, null, null, 47.0, null, null, null, null, null, null, 62.0, null, null, null, 62.0, null, null, 67.0, null, null, null, null, 51.0, null, null, null, 57.0, null, 62.0, null, null, null, 62.5, null, 82.0, 57.0, null, null, null, null, 64.0, 50.0, null, null, 63.0, null, 54.0, null, null, null, null, null, null, null, null, 40.0, null, null, null, null, null, null, null, null, null, 65.0, null, null, null, null, null, 59.0, null, null, null, null, 64.0, null, null, 50.0, null, null, null, null, 58.0, null, null, null, null, null, 74.66, null, null, 63.0, 49.0, null, 51.0, null, null, null, 78.33, null, 62.0, 51.0, 42.16, 67.2, null, null, 52.0, null, 62.0, null, null, null, 64.0, null, 60.33, 65.0, null, 62.83, null, 64.0, null, 47.0, 77.6, 70.2, null, null, null, 55.0, null, null, null, 70.0, null, null, 63.0, null, null, null, null, 42.0, null, 60.0, null, null, null, null, null, 58.0]}],\n",
       "                        {\"barmode\": \"overlay\", \"legend\": {\"bgcolor\": \"#FFFFFF\", \"font\": {\"color\": \"#4D5663\"}}, \"paper_bgcolor\": \"#FFFFFF\", \"plot_bgcolor\": \"#FFFFFF\", \"template\": {\"data\": {\"bar\": [{\"error_x\": {\"color\": \"#2a3f5f\"}, \"error_y\": {\"color\": \"#2a3f5f\"}, \"marker\": {\"line\": {\"color\": \"#E5ECF6\", \"width\": 0.5}}, \"type\": \"bar\"}], \"barpolar\": [{\"marker\": {\"line\": {\"color\": \"#E5ECF6\", \"width\": 0.5}}, \"type\": \"barpolar\"}], \"carpet\": [{\"aaxis\": {\"endlinecolor\": \"#2a3f5f\", \"gridcolor\": \"white\", \"linecolor\": \"white\", \"minorgridcolor\": \"white\", \"startlinecolor\": \"#2a3f5f\"}, \"baxis\": {\"endlinecolor\": \"#2a3f5f\", \"gridcolor\": \"white\", \"linecolor\": \"white\", \"minorgridcolor\": \"white\", \"startlinecolor\": \"#2a3f5f\"}, \"type\": \"carpet\"}], \"choropleth\": [{\"colorbar\": {\"outlinewidth\": 0, \"ticks\": \"\"}, \"type\": \"choropleth\"}], \"contour\": [{\"colorbar\": {\"outlinewidth\": 0, \"ticks\": \"\"}, \"colorscale\": [[0.0, \"#0d0887\"], [0.1111111111111111, \"#46039f\"], [0.2222222222222222, \"#7201a8\"], [0.3333333333333333, \"#9c179e\"], [0.4444444444444444, \"#bd3786\"], [0.5555555555555556, \"#d8576b\"], [0.6666666666666666, \"#ed7953\"], [0.7777777777777778, \"#fb9f3a\"], [0.8888888888888888, \"#fdca26\"], [1.0, \"#f0f921\"]], \"type\": \"contour\"}], \"contourcarpet\": [{\"colorbar\": {\"outlinewidth\": 0, \"ticks\": \"\"}, \"type\": \"contourcarpet\"}], \"heatmap\": [{\"colorbar\": {\"outlinewidth\": 0, \"ticks\": \"\"}, \"colorscale\": [[0.0, \"#0d0887\"], [0.1111111111111111, \"#46039f\"], [0.2222222222222222, \"#7201a8\"], [0.3333333333333333, \"#9c179e\"], [0.4444444444444444, \"#bd3786\"], [0.5555555555555556, \"#d8576b\"], [0.6666666666666666, \"#ed7953\"], [0.7777777777777778, \"#fb9f3a\"], [0.8888888888888888, \"#fdca26\"], [1.0, \"#f0f921\"]], \"type\": \"heatmap\"}], \"heatmapgl\": [{\"colorbar\": {\"outlinewidth\": 0, \"ticks\": \"\"}, \"colorscale\": [[0.0, \"#0d0887\"], [0.1111111111111111, \"#46039f\"], [0.2222222222222222, \"#7201a8\"], [0.3333333333333333, \"#9c179e\"], [0.4444444444444444, \"#bd3786\"], [0.5555555555555556, \"#d8576b\"], [0.6666666666666666, \"#ed7953\"], [0.7777777777777778, \"#fb9f3a\"], [0.8888888888888888, \"#fdca26\"], [1.0, \"#f0f921\"]], \"type\": \"heatmapgl\"}], \"histogram\": [{\"marker\": {\"colorbar\": {\"outlinewidth\": 0, \"ticks\": \"\"}}, \"type\": \"histogram\"}], \"histogram2d\": [{\"colorbar\": {\"outlinewidth\": 0, \"ticks\": \"\"}, \"colorscale\": [[0.0, \"#0d0887\"], [0.1111111111111111, \"#46039f\"], [0.2222222222222222, \"#7201a8\"], [0.3333333333333333, \"#9c179e\"], [0.4444444444444444, \"#bd3786\"], [0.5555555555555556, \"#d8576b\"], [0.6666666666666666, \"#ed7953\"], [0.7777777777777778, \"#fb9f3a\"], [0.8888888888888888, \"#fdca26\"], [1.0, \"#f0f921\"]], \"type\": \"histogram2d\"}], \"histogram2dcontour\": [{\"colorbar\": {\"outlinewidth\": 0, \"ticks\": \"\"}, \"colorscale\": [[0.0, \"#0d0887\"], [0.1111111111111111, \"#46039f\"], [0.2222222222222222, \"#7201a8\"], [0.3333333333333333, \"#9c179e\"], [0.4444444444444444, \"#bd3786\"], [0.5555555555555556, \"#d8576b\"], [0.6666666666666666, \"#ed7953\"], [0.7777777777777778, \"#fb9f3a\"], [0.8888888888888888, \"#fdca26\"], [1.0, \"#f0f921\"]], \"type\": \"histogram2dcontour\"}], \"mesh3d\": [{\"colorbar\": {\"outlinewidth\": 0, \"ticks\": \"\"}, \"type\": \"mesh3d\"}], \"parcoords\": [{\"line\": {\"colorbar\": {\"outlinewidth\": 0, \"ticks\": \"\"}}, \"type\": \"parcoords\"}], \"pie\": [{\"automargin\": true, \"type\": \"pie\"}], \"scatter\": [{\"marker\": {\"colorbar\": {\"outlinewidth\": 0, \"ticks\": \"\"}}, \"type\": \"scatter\"}], \"scatter3d\": [{\"line\": {\"colorbar\": {\"outlinewidth\": 0, \"ticks\": \"\"}}, \"marker\": {\"colorbar\": {\"outlinewidth\": 0, \"ticks\": \"\"}}, \"type\": \"scatter3d\"}], \"scattercarpet\": [{\"marker\": {\"colorbar\": {\"outlinewidth\": 0, \"ticks\": \"\"}}, \"type\": \"scattercarpet\"}], \"scattergeo\": [{\"marker\": {\"colorbar\": {\"outlinewidth\": 0, \"ticks\": \"\"}}, \"type\": \"scattergeo\"}], \"scattergl\": [{\"marker\": {\"colorbar\": {\"outlinewidth\": 0, \"ticks\": \"\"}}, \"type\": \"scattergl\"}], \"scattermapbox\": [{\"marker\": {\"colorbar\": {\"outlinewidth\": 0, \"ticks\": \"\"}}, \"type\": \"scattermapbox\"}], \"scatterpolar\": [{\"marker\": {\"colorbar\": {\"outlinewidth\": 0, \"ticks\": \"\"}}, \"type\": \"scatterpolar\"}], \"scatterpolargl\": [{\"marker\": {\"colorbar\": {\"outlinewidth\": 0, \"ticks\": \"\"}}, \"type\": \"scatterpolargl\"}], \"scatterternary\": [{\"marker\": {\"colorbar\": {\"outlinewidth\": 0, \"ticks\": \"\"}}, \"type\": \"scatterternary\"}], \"surface\": [{\"colorbar\": {\"outlinewidth\": 0, \"ticks\": \"\"}, \"colorscale\": [[0.0, \"#0d0887\"], [0.1111111111111111, \"#46039f\"], [0.2222222222222222, \"#7201a8\"], [0.3333333333333333, \"#9c179e\"], [0.4444444444444444, \"#bd3786\"], [0.5555555555555556, \"#d8576b\"], [0.6666666666666666, \"#ed7953\"], [0.7777777777777778, \"#fb9f3a\"], [0.8888888888888888, \"#fdca26\"], [1.0, \"#f0f921\"]], \"type\": \"surface\"}], \"table\": [{\"cells\": {\"fill\": {\"color\": \"#EBF0F8\"}, \"line\": {\"color\": \"white\"}}, \"header\": {\"fill\": {\"color\": \"#C8D4E3\"}, \"line\": {\"color\": \"white\"}}, \"type\": \"table\"}]}, \"layout\": {\"annotationdefaults\": {\"arrowcolor\": \"#2a3f5f\", \"arrowhead\": 0, \"arrowwidth\": 1}, \"coloraxis\": {\"colorbar\": {\"outlinewidth\": 0, \"ticks\": \"\"}}, \"colorscale\": {\"diverging\": [[0, \"#8e0152\"], [0.1, \"#c51b7d\"], [0.2, \"#de77ae\"], [0.3, \"#f1b6da\"], [0.4, \"#fde0ef\"], [0.5, \"#f7f7f7\"], [0.6, \"#e6f5d0\"], [0.7, \"#b8e186\"], [0.8, \"#7fbc41\"], [0.9, \"#4d9221\"], [1, \"#276419\"]], \"sequential\": [[0.0, \"#0d0887\"], [0.1111111111111111, \"#46039f\"], [0.2222222222222222, \"#7201a8\"], [0.3333333333333333, \"#9c179e\"], [0.4444444444444444, \"#bd3786\"], [0.5555555555555556, \"#d8576b\"], [0.6666666666666666, \"#ed7953\"], [0.7777777777777778, \"#fb9f3a\"], [0.8888888888888888, \"#fdca26\"], [1.0, \"#f0f921\"]], \"sequentialminus\": [[0.0, \"#0d0887\"], [0.1111111111111111, \"#46039f\"], [0.2222222222222222, \"#7201a8\"], [0.3333333333333333, \"#9c179e\"], [0.4444444444444444, \"#bd3786\"], [0.5555555555555556, \"#d8576b\"], [0.6666666666666666, \"#ed7953\"], [0.7777777777777778, \"#fb9f3a\"], [0.8888888888888888, \"#fdca26\"], [1.0, \"#f0f921\"]]}, \"colorway\": [\"#636efa\", \"#EF553B\", \"#00cc96\", \"#ab63fa\", \"#FFA15A\", \"#19d3f3\", \"#FF6692\", \"#B6E880\", \"#FF97FF\", \"#FECB52\"], \"font\": {\"color\": \"#2a3f5f\"}, \"geo\": {\"bgcolor\": \"white\", \"lakecolor\": \"white\", \"landcolor\": \"#E5ECF6\", \"showlakes\": true, \"showland\": true, \"subunitcolor\": \"white\"}, \"hoverlabel\": {\"align\": \"left\"}, \"hovermode\": \"closest\", \"mapbox\": {\"style\": \"light\"}, \"paper_bgcolor\": \"white\", \"plot_bgcolor\": \"#E5ECF6\", \"polar\": {\"angularaxis\": {\"gridcolor\": \"white\", \"linecolor\": \"white\", \"ticks\": \"\"}, \"bgcolor\": \"#E5ECF6\", \"radialaxis\": {\"gridcolor\": \"white\", \"linecolor\": \"white\", \"ticks\": \"\"}}, \"scene\": {\"xaxis\": {\"backgroundcolor\": \"#E5ECF6\", \"gridcolor\": \"white\", \"gridwidth\": 2, \"linecolor\": \"white\", \"showbackground\": true, \"ticks\": \"\", \"zerolinecolor\": \"white\"}, \"yaxis\": {\"backgroundcolor\": \"#E5ECF6\", \"gridcolor\": \"white\", \"gridwidth\": 2, \"linecolor\": \"white\", \"showbackground\": true, \"ticks\": \"\", \"zerolinecolor\": \"white\"}, \"zaxis\": {\"backgroundcolor\": \"#E5ECF6\", \"gridcolor\": \"white\", \"gridwidth\": 2, \"linecolor\": \"white\", \"showbackground\": true, \"ticks\": \"\", \"zerolinecolor\": \"white\"}}, \"shapedefaults\": {\"line\": {\"color\": \"#2a3f5f\"}}, \"ternary\": {\"aaxis\": {\"gridcolor\": \"white\", \"linecolor\": \"white\", \"ticks\": \"\"}, \"baxis\": {\"gridcolor\": \"white\", \"linecolor\": \"white\", \"ticks\": \"\"}, \"bgcolor\": \"#E5ECF6\", \"caxis\": {\"gridcolor\": \"white\", \"linecolor\": \"white\", \"ticks\": \"\"}}, \"title\": {\"x\": 0.05}, \"xaxis\": {\"automargin\": true, \"gridcolor\": \"white\", \"linecolor\": \"white\", \"ticks\": \"\", \"title\": {\"standoff\": 15}, \"zerolinecolor\": \"white\", \"zerolinewidth\": 2}, \"yaxis\": {\"automargin\": true, \"gridcolor\": \"white\", \"linecolor\": \"white\", \"ticks\": \"\", \"title\": {\"standoff\": 15}, \"zerolinecolor\": \"white\", \"zerolinewidth\": 2}}}, \"title\": {\"font\": {\"color\": \"#4D5663\"}, \"text\": \"placement According to HSC\"}, \"xaxis\": {\"gridcolor\": \"#E1E5ED\", \"showgrid\": true, \"tickfont\": {\"color\": \"#4D5663\"}, \"title\": {\"font\": {\"color\": \"#4D5663\"}, \"text\": \"Higher Secondary marks\"}, \"zerolinecolor\": \"#E1E5ED\"}, \"yaxis\": {\"gridcolor\": \"#E1E5ED\", \"showgrid\": true, \"tickfont\": {\"color\": \"#4D5663\"}, \"title\": {\"font\": {\"color\": \"#4D5663\"}, \"text\": \"Count\"}, \"zerolinecolor\": \"#E1E5ED\"}},\n",
       "                        {\"showLink\": true, \"linkText\": \"Export to plot.ly\", \"plotlyServerURL\": \"https://plot.ly\", \"responsive\": true}\n",
       "                    ).then(function(){\n",
       "                            \n",
       "var gd = document.getElementById('d79bdfb5-917a-4309-b3b8-75dadaf3f57f');\n",
       "var x = new MutationObserver(function (mutations, observer) {{\n",
       "        var display = window.getComputedStyle(gd).display;\n",
       "        if (!display || display === 'none') {{\n",
       "            console.log([gd, 'removed!']);\n",
       "            Plotly.purge(gd);\n",
       "            observer.disconnect();\n",
       "        }}\n",
       "}});\n",
       "\n",
       "// Listen for the removal of the full notebook cells\n",
       "var notebookContainer = gd.closest('#notebook-container');\n",
       "if (notebookContainer) {{\n",
       "    x.observe(notebookContainer, {childList: true});\n",
       "}}\n",
       "\n",
       "// Listen for the clearing of the current output cell\n",
       "var outputEl = gd.closest('.output');\n",
       "if (outputEl) {{\n",
       "    x.observe(outputEl, {childList: true});\n",
       "}}\n",
       "\n",
       "                        })\n",
       "                };\n",
       "                });\n",
       "            </script>\n",
       "        </div>"
      ]
     },
     "metadata": {},
     "output_type": "display_data"
    }
   ],
   "source": [
    "camp[\"Placed\"]=camp[camp[\"status\"]==\"Placed\"][\"hsc_p\"]\n",
    "camp[\"Not Placed\"]=camp[camp[\"status\"]==\"Not Placed\"][\"hsc_p\"]\n",
    "camp[[\"Placed\",\"Not Placed\"]].iplot(kind=\"histogram\", bins=10, theme=\"white\", title=\"placement According to HSC\",\n",
    "         xTitle='Higher Secondary marks', yTitle='Count')"
   ]
  },
  {
   "cell_type": "code",
   "execution_count": null,
   "metadata": {},
   "outputs": [],
   "source": [
    "camp.gender.value_counts()"
   ]
  },
  {
   "cell_type": "code",
   "execution_count": 19,
   "metadata": {},
   "outputs": [
    {
     "data": {
      "application/vnd.plotly.v1+json": {
       "config": {
        "linkText": "Export to plot.ly",
        "plotlyServerURL": "https://plot.ly",
        "showLink": true
       },
       "data": [
        {
         "histfunc": "count",
         "histnorm": "",
         "marker": {
          "color": "rgba(255, 153, 51, 1.0)",
          "line": {
           "color": "#4D5663",
           "width": 1.3
          }
         },
         "name": "Placed",
         "nbinsx": 10,
         "opacity": 0.8,
         "orientation": "v",
         "type": "histogram",
         "x": [
          67,
          79.33,
          65,
          null,
          85.8,
          null,
          null,
          82,
          73,
          null,
          58,
          69.6,
          null,
          77,
          null,
          65,
          63,
          null,
          null,
          60,
          62,
          79,
          69.8,
          77.4,
          76.5,
          null,
          71,
          63,
          76.76,
          null,
          64,
          null,
          61,
          87,
          null,
          69,
          null,
          79,
          73,
          81,
          78,
          null,
          null,
          87,
          77,
          null,
          null,
          63,
          63,
          null,
          75.2,
          null,
          null,
          80,
          74,
          60.4,
          63,
          68,
          74,
          52.6,
          74,
          84.2,
          86.5,
          null,
          80,
          null,
          83,
          80.92,
          null,
          73,
          82,
          75,
          84.86,
          64.6,
          56.6,
          null,
          66.5,
          64,
          84,
          null,
          69,
          81.7,
          null,
          84,
          70,
          83.84,
          62,
          null,
          66,
          84,
          85,
          null,
          60.23,
          null,
          58,
          73,
          76,
          null,
          69,
          null,
          null,
          63,
          77,
          73,
          69,
          null,
          null,
          82,
          61,
          null,
          69.5,
          null,
          58,
          73.96,
          65,
          73,
          68.2,
          77,
          76,
          60.8,
          null,
          64,
          66.5,
          74,
          67,
          84,
          79,
          72,
          80.4,
          76.7,
          null,
          74.9,
          67,
          73,
          77.44,
          72,
          null,
          67,
          82,
          77,
          65,
          null,
          85,
          77.67,
          null,
          89.4,
          62,
          70,
          77,
          null,
          71,
          65,
          75.4,
          49,
          53,
          null,
          84.2,
          66.5,
          null,
          null,
          87,
          null,
          74.2,
          63,
          67.16,
          null,
          62,
          null,
          null,
          null,
          null,
          80,
          73,
          null,
          73.24,
          null,
          59,
          73,
          68,
          null,
          65,
          null,
          null,
          65,
          null,
          88,
          null,
          78.5,
          null,
          null,
          null,
          67,
          65.2,
          60,
          null,
          66,
          72,
          83.96,
          null,
          69,
          69,
          null,
          70,
          55.68,
          74,
          61,
          null,
          83.33,
          null,
          62,
          80.6,
          58,
          67,
          74,
          null
         ]
        },
        {
         "histfunc": "count",
         "histnorm": "",
         "marker": {
          "color": "rgba(55, 128, 191, 1.0)",
          "line": {
           "color": "#4D5663",
           "width": 1.3
          }
         },
         "name": "Not Placed",
         "nbinsx": 10,
         "opacity": 0.8,
         "orientation": "v",
         "type": "histogram",
         "x": [
          null,
          null,
          null,
          56,
          null,
          55,
          46,
          null,
          null,
          58,
          null,
          null,
          47,
          null,
          62,
          null,
          null,
          55,
          63,
          null,
          null,
          null,
          null,
          null,
          null,
          52.58,
          null,
          null,
          null,
          62,
          null,
          67,
          null,
          null,
          62,
          null,
          51,
          null,
          null,
          null,
          null,
          74,
          49,
          null,
          null,
          76,
          70.89,
          null,
          null,
          50,
          null,
          54.4,
          40.89,
          null,
          null,
          null,
          null,
          null,
          null,
          null,
          null,
          null,
          null,
          61,
          null,
          54,
          null,
          null,
          69.7,
          null,
          null,
          null,
          null,
          null,
          null,
          59,
          null,
          null,
          null,
          69,
          null,
          null,
          63,
          null,
          null,
          null,
          null,
          59.6,
          null,
          null,
          null,
          52,
          null,
          52,
          null,
          null,
          null,
          70.5,
          null,
          54,
          45,
          null,
          null,
          null,
          null,
          59,
          61.08,
          null,
          null,
          52,
          null,
          51,
          null,
          null,
          null,
          null,
          null,
          null,
          null,
          null,
          58,
          null,
          null,
          null,
          null,
          null,
          null,
          null,
          null,
          null,
          62,
          null,
          null,
          null,
          null,
          null,
          47,
          null,
          null,
          null,
          null,
          66,
          null,
          null,
          52,
          null,
          null,
          null,
          null,
          44,
          null,
          null,
          null,
          null,
          null,
          51.57,
          null,
          null,
          67,
          52,
          null,
          55.6,
          null,
          null,
          null,
          63.3,
          null,
          67.9,
          48,
          59.96,
          63.4,
          null,
          null,
          52,
          null,
          63,
          null,
          null,
          null,
          77.8,
          null,
          62,
          52,
          null,
          56.28,
          null,
          52,
          null,
          61.8,
          54,
          64,
          null,
          null,
          null,
          52,
          null,
          null,
          null,
          67,
          null,
          null,
          54.2,
          null,
          null,
          null,
          null,
          41,
          null,
          43,
          null,
          null,
          null,
          null,
          null,
          62
         ]
        }
       ],
       "layout": {
        "barmode": "overlay",
        "legend": {
         "bgcolor": "#FFFFFF",
         "font": {
          "color": "#4D5663"
         }
        },
        "paper_bgcolor": "#FFFFFF",
        "plot_bgcolor": "#FFFFFF",
        "template": {
         "data": {
          "bar": [
           {
            "error_x": {
             "color": "#2a3f5f"
            },
            "error_y": {
             "color": "#2a3f5f"
            },
            "marker": {
             "line": {
              "color": "#E5ECF6",
              "width": 0.5
             }
            },
            "type": "bar"
           }
          ],
          "barpolar": [
           {
            "marker": {
             "line": {
              "color": "#E5ECF6",
              "width": 0.5
             }
            },
            "type": "barpolar"
           }
          ],
          "carpet": [
           {
            "aaxis": {
             "endlinecolor": "#2a3f5f",
             "gridcolor": "white",
             "linecolor": "white",
             "minorgridcolor": "white",
             "startlinecolor": "#2a3f5f"
            },
            "baxis": {
             "endlinecolor": "#2a3f5f",
             "gridcolor": "white",
             "linecolor": "white",
             "minorgridcolor": "white",
             "startlinecolor": "#2a3f5f"
            },
            "type": "carpet"
           }
          ],
          "choropleth": [
           {
            "colorbar": {
             "outlinewidth": 0,
             "ticks": ""
            },
            "type": "choropleth"
           }
          ],
          "contour": [
           {
            "colorbar": {
             "outlinewidth": 0,
             "ticks": ""
            },
            "colorscale": [
             [
              0,
              "#0d0887"
             ],
             [
              0.1111111111111111,
              "#46039f"
             ],
             [
              0.2222222222222222,
              "#7201a8"
             ],
             [
              0.3333333333333333,
              "#9c179e"
             ],
             [
              0.4444444444444444,
              "#bd3786"
             ],
             [
              0.5555555555555556,
              "#d8576b"
             ],
             [
              0.6666666666666666,
              "#ed7953"
             ],
             [
              0.7777777777777778,
              "#fb9f3a"
             ],
             [
              0.8888888888888888,
              "#fdca26"
             ],
             [
              1,
              "#f0f921"
             ]
            ],
            "type": "contour"
           }
          ],
          "contourcarpet": [
           {
            "colorbar": {
             "outlinewidth": 0,
             "ticks": ""
            },
            "type": "contourcarpet"
           }
          ],
          "heatmap": [
           {
            "colorbar": {
             "outlinewidth": 0,
             "ticks": ""
            },
            "colorscale": [
             [
              0,
              "#0d0887"
             ],
             [
              0.1111111111111111,
              "#46039f"
             ],
             [
              0.2222222222222222,
              "#7201a8"
             ],
             [
              0.3333333333333333,
              "#9c179e"
             ],
             [
              0.4444444444444444,
              "#bd3786"
             ],
             [
              0.5555555555555556,
              "#d8576b"
             ],
             [
              0.6666666666666666,
              "#ed7953"
             ],
             [
              0.7777777777777778,
              "#fb9f3a"
             ],
             [
              0.8888888888888888,
              "#fdca26"
             ],
             [
              1,
              "#f0f921"
             ]
            ],
            "type": "heatmap"
           }
          ],
          "heatmapgl": [
           {
            "colorbar": {
             "outlinewidth": 0,
             "ticks": ""
            },
            "colorscale": [
             [
              0,
              "#0d0887"
             ],
             [
              0.1111111111111111,
              "#46039f"
             ],
             [
              0.2222222222222222,
              "#7201a8"
             ],
             [
              0.3333333333333333,
              "#9c179e"
             ],
             [
              0.4444444444444444,
              "#bd3786"
             ],
             [
              0.5555555555555556,
              "#d8576b"
             ],
             [
              0.6666666666666666,
              "#ed7953"
             ],
             [
              0.7777777777777778,
              "#fb9f3a"
             ],
             [
              0.8888888888888888,
              "#fdca26"
             ],
             [
              1,
              "#f0f921"
             ]
            ],
            "type": "heatmapgl"
           }
          ],
          "histogram": [
           {
            "marker": {
             "colorbar": {
              "outlinewidth": 0,
              "ticks": ""
             }
            },
            "type": "histogram"
           }
          ],
          "histogram2d": [
           {
            "colorbar": {
             "outlinewidth": 0,
             "ticks": ""
            },
            "colorscale": [
             [
              0,
              "#0d0887"
             ],
             [
              0.1111111111111111,
              "#46039f"
             ],
             [
              0.2222222222222222,
              "#7201a8"
             ],
             [
              0.3333333333333333,
              "#9c179e"
             ],
             [
              0.4444444444444444,
              "#bd3786"
             ],
             [
              0.5555555555555556,
              "#d8576b"
             ],
             [
              0.6666666666666666,
              "#ed7953"
             ],
             [
              0.7777777777777778,
              "#fb9f3a"
             ],
             [
              0.8888888888888888,
              "#fdca26"
             ],
             [
              1,
              "#f0f921"
             ]
            ],
            "type": "histogram2d"
           }
          ],
          "histogram2dcontour": [
           {
            "colorbar": {
             "outlinewidth": 0,
             "ticks": ""
            },
            "colorscale": [
             [
              0,
              "#0d0887"
             ],
             [
              0.1111111111111111,
              "#46039f"
             ],
             [
              0.2222222222222222,
              "#7201a8"
             ],
             [
              0.3333333333333333,
              "#9c179e"
             ],
             [
              0.4444444444444444,
              "#bd3786"
             ],
             [
              0.5555555555555556,
              "#d8576b"
             ],
             [
              0.6666666666666666,
              "#ed7953"
             ],
             [
              0.7777777777777778,
              "#fb9f3a"
             ],
             [
              0.8888888888888888,
              "#fdca26"
             ],
             [
              1,
              "#f0f921"
             ]
            ],
            "type": "histogram2dcontour"
           }
          ],
          "mesh3d": [
           {
            "colorbar": {
             "outlinewidth": 0,
             "ticks": ""
            },
            "type": "mesh3d"
           }
          ],
          "parcoords": [
           {
            "line": {
             "colorbar": {
              "outlinewidth": 0,
              "ticks": ""
             }
            },
            "type": "parcoords"
           }
          ],
          "pie": [
           {
            "automargin": true,
            "type": "pie"
           }
          ],
          "scatter": [
           {
            "marker": {
             "colorbar": {
              "outlinewidth": 0,
              "ticks": ""
             }
            },
            "type": "scatter"
           }
          ],
          "scatter3d": [
           {
            "line": {
             "colorbar": {
              "outlinewidth": 0,
              "ticks": ""
             }
            },
            "marker": {
             "colorbar": {
              "outlinewidth": 0,
              "ticks": ""
             }
            },
            "type": "scatter3d"
           }
          ],
          "scattercarpet": [
           {
            "marker": {
             "colorbar": {
              "outlinewidth": 0,
              "ticks": ""
             }
            },
            "type": "scattercarpet"
           }
          ],
          "scattergeo": [
           {
            "marker": {
             "colorbar": {
              "outlinewidth": 0,
              "ticks": ""
             }
            },
            "type": "scattergeo"
           }
          ],
          "scattergl": [
           {
            "marker": {
             "colorbar": {
              "outlinewidth": 0,
              "ticks": ""
             }
            },
            "type": "scattergl"
           }
          ],
          "scattermapbox": [
           {
            "marker": {
             "colorbar": {
              "outlinewidth": 0,
              "ticks": ""
             }
            },
            "type": "scattermapbox"
           }
          ],
          "scatterpolar": [
           {
            "marker": {
             "colorbar": {
              "outlinewidth": 0,
              "ticks": ""
             }
            },
            "type": "scatterpolar"
           }
          ],
          "scatterpolargl": [
           {
            "marker": {
             "colorbar": {
              "outlinewidth": 0,
              "ticks": ""
             }
            },
            "type": "scatterpolargl"
           }
          ],
          "scatterternary": [
           {
            "marker": {
             "colorbar": {
              "outlinewidth": 0,
              "ticks": ""
             }
            },
            "type": "scatterternary"
           }
          ],
          "surface": [
           {
            "colorbar": {
             "outlinewidth": 0,
             "ticks": ""
            },
            "colorscale": [
             [
              0,
              "#0d0887"
             ],
             [
              0.1111111111111111,
              "#46039f"
             ],
             [
              0.2222222222222222,
              "#7201a8"
             ],
             [
              0.3333333333333333,
              "#9c179e"
             ],
             [
              0.4444444444444444,
              "#bd3786"
             ],
             [
              0.5555555555555556,
              "#d8576b"
             ],
             [
              0.6666666666666666,
              "#ed7953"
             ],
             [
              0.7777777777777778,
              "#fb9f3a"
             ],
             [
              0.8888888888888888,
              "#fdca26"
             ],
             [
              1,
              "#f0f921"
             ]
            ],
            "type": "surface"
           }
          ],
          "table": [
           {
            "cells": {
             "fill": {
              "color": "#EBF0F8"
             },
             "line": {
              "color": "white"
             }
            },
            "header": {
             "fill": {
              "color": "#C8D4E3"
             },
             "line": {
              "color": "white"
             }
            },
            "type": "table"
           }
          ]
         },
         "layout": {
          "annotationdefaults": {
           "arrowcolor": "#2a3f5f",
           "arrowhead": 0,
           "arrowwidth": 1
          },
          "coloraxis": {
           "colorbar": {
            "outlinewidth": 0,
            "ticks": ""
           }
          },
          "colorscale": {
           "diverging": [
            [
             0,
             "#8e0152"
            ],
            [
             0.1,
             "#c51b7d"
            ],
            [
             0.2,
             "#de77ae"
            ],
            [
             0.3,
             "#f1b6da"
            ],
            [
             0.4,
             "#fde0ef"
            ],
            [
             0.5,
             "#f7f7f7"
            ],
            [
             0.6,
             "#e6f5d0"
            ],
            [
             0.7,
             "#b8e186"
            ],
            [
             0.8,
             "#7fbc41"
            ],
            [
             0.9,
             "#4d9221"
            ],
            [
             1,
             "#276419"
            ]
           ],
           "sequential": [
            [
             0,
             "#0d0887"
            ],
            [
             0.1111111111111111,
             "#46039f"
            ],
            [
             0.2222222222222222,
             "#7201a8"
            ],
            [
             0.3333333333333333,
             "#9c179e"
            ],
            [
             0.4444444444444444,
             "#bd3786"
            ],
            [
             0.5555555555555556,
             "#d8576b"
            ],
            [
             0.6666666666666666,
             "#ed7953"
            ],
            [
             0.7777777777777778,
             "#fb9f3a"
            ],
            [
             0.8888888888888888,
             "#fdca26"
            ],
            [
             1,
             "#f0f921"
            ]
           ],
           "sequentialminus": [
            [
             0,
             "#0d0887"
            ],
            [
             0.1111111111111111,
             "#46039f"
            ],
            [
             0.2222222222222222,
             "#7201a8"
            ],
            [
             0.3333333333333333,
             "#9c179e"
            ],
            [
             0.4444444444444444,
             "#bd3786"
            ],
            [
             0.5555555555555556,
             "#d8576b"
            ],
            [
             0.6666666666666666,
             "#ed7953"
            ],
            [
             0.7777777777777778,
             "#fb9f3a"
            ],
            [
             0.8888888888888888,
             "#fdca26"
            ],
            [
             1,
             "#f0f921"
            ]
           ]
          },
          "colorway": [
           "#636efa",
           "#EF553B",
           "#00cc96",
           "#ab63fa",
           "#FFA15A",
           "#19d3f3",
           "#FF6692",
           "#B6E880",
           "#FF97FF",
           "#FECB52"
          ],
          "font": {
           "color": "#2a3f5f"
          },
          "geo": {
           "bgcolor": "white",
           "lakecolor": "white",
           "landcolor": "#E5ECF6",
           "showlakes": true,
           "showland": true,
           "subunitcolor": "white"
          },
          "hoverlabel": {
           "align": "left"
          },
          "hovermode": "closest",
          "mapbox": {
           "style": "light"
          },
          "paper_bgcolor": "white",
          "plot_bgcolor": "#E5ECF6",
          "polar": {
           "angularaxis": {
            "gridcolor": "white",
            "linecolor": "white",
            "ticks": ""
           },
           "bgcolor": "#E5ECF6",
           "radialaxis": {
            "gridcolor": "white",
            "linecolor": "white",
            "ticks": ""
           }
          },
          "scene": {
           "xaxis": {
            "backgroundcolor": "#E5ECF6",
            "gridcolor": "white",
            "gridwidth": 2,
            "linecolor": "white",
            "showbackground": true,
            "ticks": "",
            "zerolinecolor": "white"
           },
           "yaxis": {
            "backgroundcolor": "#E5ECF6",
            "gridcolor": "white",
            "gridwidth": 2,
            "linecolor": "white",
            "showbackground": true,
            "ticks": "",
            "zerolinecolor": "white"
           },
           "zaxis": {
            "backgroundcolor": "#E5ECF6",
            "gridcolor": "white",
            "gridwidth": 2,
            "linecolor": "white",
            "showbackground": true,
            "ticks": "",
            "zerolinecolor": "white"
           }
          },
          "shapedefaults": {
           "line": {
            "color": "#2a3f5f"
           }
          },
          "ternary": {
           "aaxis": {
            "gridcolor": "white",
            "linecolor": "white",
            "ticks": ""
           },
           "baxis": {
            "gridcolor": "white",
            "linecolor": "white",
            "ticks": ""
           },
           "bgcolor": "#E5ECF6",
           "caxis": {
            "gridcolor": "white",
            "linecolor": "white",
            "ticks": ""
           }
          },
          "title": {
           "x": 0.05
          },
          "xaxis": {
           "automargin": true,
           "gridcolor": "white",
           "linecolor": "white",
           "ticks": "",
           "title": {
            "standoff": 15
           },
           "zerolinecolor": "white",
           "zerolinewidth": 2
          },
          "yaxis": {
           "automargin": true,
           "gridcolor": "white",
           "linecolor": "white",
           "ticks": "",
           "title": {
            "standoff": 15
           },
           "zerolinecolor": "white",
           "zerolinewidth": 2
          }
         }
        },
        "title": {
         "font": {
          "color": "#4D5663"
         },
         "text": "placement According to SSC Percentage"
        },
        "xaxis": {
         "gridcolor": "#E1E5ED",
         "showgrid": true,
         "tickfont": {
          "color": "#4D5663"
         },
         "title": {
          "font": {
           "color": "#4D5663"
          },
          "text": "Secondary Percentage"
         },
         "zerolinecolor": "#E1E5ED"
        },
        "yaxis": {
         "gridcolor": "#E1E5ED",
         "showgrid": true,
         "tickfont": {
          "color": "#4D5663"
         },
         "title": {
          "font": {
           "color": "#4D5663"
          },
          "text": "Count"
         },
         "zerolinecolor": "#E1E5ED"
        }
       }
      },
      "text/html": [
       "<div>\n",
       "        \n",
       "        \n",
       "            <div id=\"c0672a6d-012c-43fc-9298-f1f1e6923e5e\" class=\"plotly-graph-div\" style=\"height:525px; width:100%;\"></div>\n",
       "            <script type=\"text/javascript\">\n",
       "                require([\"plotly\"], function(Plotly) {\n",
       "                    window.PLOTLYENV=window.PLOTLYENV || {};\n",
       "                    window.PLOTLYENV.BASE_URL='https://plot.ly';\n",
       "                    \n",
       "                if (document.getElementById(\"c0672a6d-012c-43fc-9298-f1f1e6923e5e\")) {\n",
       "                    Plotly.newPlot(\n",
       "                        'c0672a6d-012c-43fc-9298-f1f1e6923e5e',\n",
       "                        [{\"histfunc\": \"count\", \"histnorm\": \"\", \"marker\": {\"color\": \"rgba(255, 153, 51, 1.0)\", \"line\": {\"color\": \"#4D5663\", \"width\": 1.3}}, \"name\": \"Placed\", \"nbinsx\": 10, \"opacity\": 0.8, \"orientation\": \"v\", \"type\": \"histogram\", \"x\": [67.0, 79.33, 65.0, null, 85.8, null, null, 82.0, 73.0, null, 58.0, 69.6, null, 77.0, null, 65.0, 63.0, null, null, 60.0, 62.0, 79.0, 69.8, 77.4, 76.5, null, 71.0, 63.0, 76.76, null, 64.0, null, 61.0, 87.0, null, 69.0, null, 79.0, 73.0, 81.0, 78.0, null, null, 87.0, 77.0, null, null, 63.0, 63.0, null, 75.2, null, null, 80.0, 74.0, 60.4, 63.0, 68.0, 74.0, 52.6, 74.0, 84.2, 86.5, null, 80.0, null, 83.0, 80.92, null, 73.0, 82.0, 75.0, 84.86, 64.6, 56.6, null, 66.5, 64.0, 84.0, null, 69.0, 81.7, null, 84.0, 70.0, 83.84, 62.0, null, 66.0, 84.0, 85.0, null, 60.23, null, 58.0, 73.0, 76.0, null, 69.0, null, null, 63.0, 77.0, 73.0, 69.0, null, null, 82.0, 61.0, null, 69.5, null, 58.0, 73.96, 65.0, 73.0, 68.2, 77.0, 76.0, 60.8, null, 64.0, 66.5, 74.0, 67.0, 84.0, 79.0, 72.0, 80.4, 76.7, null, 74.9, 67.0, 73.0, 77.44, 72.0, null, 67.0, 82.0, 77.0, 65.0, null, 85.0, 77.67, null, 89.4, 62.0, 70.0, 77.0, null, 71.0, 65.0, 75.4, 49.0, 53.0, null, 84.2, 66.5, null, null, 87.0, null, 74.2, 63.0, 67.16, null, 62.0, null, null, null, null, 80.0, 73.0, null, 73.24, null, 59.0, 73.0, 68.0, null, 65.0, null, null, 65.0, null, 88.0, null, 78.5, null, null, null, 67.0, 65.2, 60.0, null, 66.0, 72.0, 83.96, null, 69.0, 69.0, null, 70.0, 55.68, 74.0, 61.0, null, 83.33, null, 62.0, 80.6, 58.0, 67.0, 74.0, null]}, {\"histfunc\": \"count\", \"histnorm\": \"\", \"marker\": {\"color\": \"rgba(55, 128, 191, 1.0)\", \"line\": {\"color\": \"#4D5663\", \"width\": 1.3}}, \"name\": \"Not Placed\", \"nbinsx\": 10, \"opacity\": 0.8, \"orientation\": \"v\", \"type\": \"histogram\", \"x\": [null, null, null, 56.0, null, 55.0, 46.0, null, null, 58.0, null, null, 47.0, null, 62.0, null, null, 55.0, 63.0, null, null, null, null, null, null, 52.58, null, null, null, 62.0, null, 67.0, null, null, 62.0, null, 51.0, null, null, null, null, 74.0, 49.0, null, null, 76.0, 70.89, null, null, 50.0, null, 54.4, 40.89, null, null, null, null, null, null, null, null, null, null, 61.0, null, 54.0, null, null, 69.7, null, null, null, null, null, null, 59.0, null, null, null, 69.0, null, null, 63.0, null, null, null, null, 59.6, null, null, null, 52.0, null, 52.0, null, null, null, 70.5, null, 54.0, 45.0, null, null, null, null, 59.0, 61.08, null, null, 52.0, null, 51.0, null, null, null, null, null, null, null, null, 58.0, null, null, null, null, null, null, null, null, null, 62.0, null, null, null, null, null, 47.0, null, null, null, null, 66.0, null, null, 52.0, null, null, null, null, 44.0, null, null, null, null, null, 51.57, null, null, 67.0, 52.0, null, 55.6, null, null, null, 63.3, null, 67.9, 48.0, 59.96, 63.4, null, null, 52.0, null, 63.0, null, null, null, 77.8, null, 62.0, 52.0, null, 56.28, null, 52.0, null, 61.8, 54.0, 64.0, null, null, null, 52.0, null, null, null, 67.0, null, null, 54.2, null, null, null, null, 41.0, null, 43.0, null, null, null, null, null, 62.0]}],\n",
       "                        {\"barmode\": \"overlay\", \"legend\": {\"bgcolor\": \"#FFFFFF\", \"font\": {\"color\": \"#4D5663\"}}, \"paper_bgcolor\": \"#FFFFFF\", \"plot_bgcolor\": \"#FFFFFF\", \"template\": {\"data\": {\"bar\": [{\"error_x\": {\"color\": \"#2a3f5f\"}, \"error_y\": {\"color\": \"#2a3f5f\"}, \"marker\": {\"line\": {\"color\": \"#E5ECF6\", \"width\": 0.5}}, \"type\": \"bar\"}], \"barpolar\": [{\"marker\": {\"line\": {\"color\": \"#E5ECF6\", \"width\": 0.5}}, \"type\": \"barpolar\"}], \"carpet\": [{\"aaxis\": {\"endlinecolor\": \"#2a3f5f\", \"gridcolor\": \"white\", \"linecolor\": \"white\", \"minorgridcolor\": \"white\", \"startlinecolor\": \"#2a3f5f\"}, \"baxis\": {\"endlinecolor\": \"#2a3f5f\", \"gridcolor\": \"white\", \"linecolor\": \"white\", \"minorgridcolor\": \"white\", \"startlinecolor\": \"#2a3f5f\"}, \"type\": \"carpet\"}], \"choropleth\": [{\"colorbar\": {\"outlinewidth\": 0, \"ticks\": \"\"}, \"type\": \"choropleth\"}], \"contour\": [{\"colorbar\": {\"outlinewidth\": 0, \"ticks\": \"\"}, \"colorscale\": [[0.0, \"#0d0887\"], [0.1111111111111111, \"#46039f\"], [0.2222222222222222, \"#7201a8\"], [0.3333333333333333, \"#9c179e\"], [0.4444444444444444, \"#bd3786\"], [0.5555555555555556, \"#d8576b\"], [0.6666666666666666, \"#ed7953\"], [0.7777777777777778, \"#fb9f3a\"], [0.8888888888888888, \"#fdca26\"], [1.0, \"#f0f921\"]], \"type\": \"contour\"}], \"contourcarpet\": [{\"colorbar\": {\"outlinewidth\": 0, \"ticks\": \"\"}, \"type\": \"contourcarpet\"}], \"heatmap\": [{\"colorbar\": {\"outlinewidth\": 0, \"ticks\": \"\"}, \"colorscale\": [[0.0, \"#0d0887\"], [0.1111111111111111, \"#46039f\"], [0.2222222222222222, \"#7201a8\"], [0.3333333333333333, \"#9c179e\"], [0.4444444444444444, \"#bd3786\"], [0.5555555555555556, \"#d8576b\"], [0.6666666666666666, \"#ed7953\"], [0.7777777777777778, \"#fb9f3a\"], [0.8888888888888888, \"#fdca26\"], [1.0, \"#f0f921\"]], \"type\": \"heatmap\"}], \"heatmapgl\": [{\"colorbar\": {\"outlinewidth\": 0, \"ticks\": \"\"}, \"colorscale\": [[0.0, \"#0d0887\"], [0.1111111111111111, \"#46039f\"], [0.2222222222222222, \"#7201a8\"], [0.3333333333333333, \"#9c179e\"], [0.4444444444444444, \"#bd3786\"], [0.5555555555555556, \"#d8576b\"], [0.6666666666666666, \"#ed7953\"], [0.7777777777777778, \"#fb9f3a\"], [0.8888888888888888, \"#fdca26\"], [1.0, \"#f0f921\"]], \"type\": \"heatmapgl\"}], \"histogram\": [{\"marker\": {\"colorbar\": {\"outlinewidth\": 0, \"ticks\": \"\"}}, \"type\": \"histogram\"}], \"histogram2d\": [{\"colorbar\": {\"outlinewidth\": 0, \"ticks\": \"\"}, \"colorscale\": [[0.0, \"#0d0887\"], [0.1111111111111111, \"#46039f\"], [0.2222222222222222, \"#7201a8\"], [0.3333333333333333, \"#9c179e\"], [0.4444444444444444, \"#bd3786\"], [0.5555555555555556, \"#d8576b\"], [0.6666666666666666, \"#ed7953\"], [0.7777777777777778, \"#fb9f3a\"], [0.8888888888888888, \"#fdca26\"], [1.0, \"#f0f921\"]], \"type\": \"histogram2d\"}], \"histogram2dcontour\": [{\"colorbar\": {\"outlinewidth\": 0, \"ticks\": \"\"}, \"colorscale\": [[0.0, \"#0d0887\"], [0.1111111111111111, \"#46039f\"], [0.2222222222222222, \"#7201a8\"], [0.3333333333333333, \"#9c179e\"], [0.4444444444444444, \"#bd3786\"], [0.5555555555555556, \"#d8576b\"], [0.6666666666666666, \"#ed7953\"], [0.7777777777777778, \"#fb9f3a\"], [0.8888888888888888, \"#fdca26\"], [1.0, \"#f0f921\"]], \"type\": \"histogram2dcontour\"}], \"mesh3d\": [{\"colorbar\": {\"outlinewidth\": 0, \"ticks\": \"\"}, \"type\": \"mesh3d\"}], \"parcoords\": [{\"line\": {\"colorbar\": {\"outlinewidth\": 0, \"ticks\": \"\"}}, \"type\": \"parcoords\"}], \"pie\": [{\"automargin\": true, \"type\": \"pie\"}], \"scatter\": [{\"marker\": {\"colorbar\": {\"outlinewidth\": 0, \"ticks\": \"\"}}, \"type\": \"scatter\"}], \"scatter3d\": [{\"line\": {\"colorbar\": {\"outlinewidth\": 0, \"ticks\": \"\"}}, \"marker\": {\"colorbar\": {\"outlinewidth\": 0, \"ticks\": \"\"}}, \"type\": \"scatter3d\"}], \"scattercarpet\": [{\"marker\": {\"colorbar\": {\"outlinewidth\": 0, \"ticks\": \"\"}}, \"type\": \"scattercarpet\"}], \"scattergeo\": [{\"marker\": {\"colorbar\": {\"outlinewidth\": 0, \"ticks\": \"\"}}, \"type\": \"scattergeo\"}], \"scattergl\": [{\"marker\": {\"colorbar\": {\"outlinewidth\": 0, \"ticks\": \"\"}}, \"type\": \"scattergl\"}], \"scattermapbox\": [{\"marker\": {\"colorbar\": {\"outlinewidth\": 0, \"ticks\": \"\"}}, \"type\": \"scattermapbox\"}], \"scatterpolar\": [{\"marker\": {\"colorbar\": {\"outlinewidth\": 0, \"ticks\": \"\"}}, \"type\": \"scatterpolar\"}], \"scatterpolargl\": [{\"marker\": {\"colorbar\": {\"outlinewidth\": 0, \"ticks\": \"\"}}, \"type\": \"scatterpolargl\"}], \"scatterternary\": [{\"marker\": {\"colorbar\": {\"outlinewidth\": 0, \"ticks\": \"\"}}, \"type\": \"scatterternary\"}], \"surface\": [{\"colorbar\": {\"outlinewidth\": 0, \"ticks\": \"\"}, \"colorscale\": [[0.0, \"#0d0887\"], [0.1111111111111111, \"#46039f\"], [0.2222222222222222, \"#7201a8\"], [0.3333333333333333, \"#9c179e\"], [0.4444444444444444, \"#bd3786\"], [0.5555555555555556, \"#d8576b\"], [0.6666666666666666, \"#ed7953\"], [0.7777777777777778, \"#fb9f3a\"], [0.8888888888888888, \"#fdca26\"], [1.0, \"#f0f921\"]], \"type\": \"surface\"}], \"table\": [{\"cells\": {\"fill\": {\"color\": \"#EBF0F8\"}, \"line\": {\"color\": \"white\"}}, \"header\": {\"fill\": {\"color\": \"#C8D4E3\"}, \"line\": {\"color\": \"white\"}}, \"type\": \"table\"}]}, \"layout\": {\"annotationdefaults\": {\"arrowcolor\": \"#2a3f5f\", \"arrowhead\": 0, \"arrowwidth\": 1}, \"coloraxis\": {\"colorbar\": {\"outlinewidth\": 0, \"ticks\": \"\"}}, \"colorscale\": {\"diverging\": [[0, \"#8e0152\"], [0.1, \"#c51b7d\"], [0.2, \"#de77ae\"], [0.3, \"#f1b6da\"], [0.4, \"#fde0ef\"], [0.5, \"#f7f7f7\"], [0.6, \"#e6f5d0\"], [0.7, \"#b8e186\"], [0.8, \"#7fbc41\"], [0.9, \"#4d9221\"], [1, \"#276419\"]], \"sequential\": [[0.0, \"#0d0887\"], [0.1111111111111111, \"#46039f\"], [0.2222222222222222, \"#7201a8\"], [0.3333333333333333, \"#9c179e\"], [0.4444444444444444, \"#bd3786\"], [0.5555555555555556, \"#d8576b\"], [0.6666666666666666, \"#ed7953\"], [0.7777777777777778, \"#fb9f3a\"], [0.8888888888888888, \"#fdca26\"], [1.0, \"#f0f921\"]], \"sequentialminus\": [[0.0, \"#0d0887\"], [0.1111111111111111, \"#46039f\"], [0.2222222222222222, \"#7201a8\"], [0.3333333333333333, \"#9c179e\"], [0.4444444444444444, \"#bd3786\"], [0.5555555555555556, \"#d8576b\"], [0.6666666666666666, \"#ed7953\"], [0.7777777777777778, \"#fb9f3a\"], [0.8888888888888888, \"#fdca26\"], [1.0, \"#f0f921\"]]}, \"colorway\": [\"#636efa\", \"#EF553B\", \"#00cc96\", \"#ab63fa\", \"#FFA15A\", \"#19d3f3\", \"#FF6692\", \"#B6E880\", \"#FF97FF\", \"#FECB52\"], \"font\": {\"color\": \"#2a3f5f\"}, \"geo\": {\"bgcolor\": \"white\", \"lakecolor\": \"white\", \"landcolor\": \"#E5ECF6\", \"showlakes\": true, \"showland\": true, \"subunitcolor\": \"white\"}, \"hoverlabel\": {\"align\": \"left\"}, \"hovermode\": \"closest\", \"mapbox\": {\"style\": \"light\"}, \"paper_bgcolor\": \"white\", \"plot_bgcolor\": \"#E5ECF6\", \"polar\": {\"angularaxis\": {\"gridcolor\": \"white\", \"linecolor\": \"white\", \"ticks\": \"\"}, \"bgcolor\": \"#E5ECF6\", \"radialaxis\": {\"gridcolor\": \"white\", \"linecolor\": \"white\", \"ticks\": \"\"}}, \"scene\": {\"xaxis\": {\"backgroundcolor\": \"#E5ECF6\", \"gridcolor\": \"white\", \"gridwidth\": 2, \"linecolor\": \"white\", \"showbackground\": true, \"ticks\": \"\", \"zerolinecolor\": \"white\"}, \"yaxis\": {\"backgroundcolor\": \"#E5ECF6\", \"gridcolor\": \"white\", \"gridwidth\": 2, \"linecolor\": \"white\", \"showbackground\": true, \"ticks\": \"\", \"zerolinecolor\": \"white\"}, \"zaxis\": {\"backgroundcolor\": \"#E5ECF6\", \"gridcolor\": \"white\", \"gridwidth\": 2, \"linecolor\": \"white\", \"showbackground\": true, \"ticks\": \"\", \"zerolinecolor\": \"white\"}}, \"shapedefaults\": {\"line\": {\"color\": \"#2a3f5f\"}}, \"ternary\": {\"aaxis\": {\"gridcolor\": \"white\", \"linecolor\": \"white\", \"ticks\": \"\"}, \"baxis\": {\"gridcolor\": \"white\", \"linecolor\": \"white\", \"ticks\": \"\"}, \"bgcolor\": \"#E5ECF6\", \"caxis\": {\"gridcolor\": \"white\", \"linecolor\": \"white\", \"ticks\": \"\"}}, \"title\": {\"x\": 0.05}, \"xaxis\": {\"automargin\": true, \"gridcolor\": \"white\", \"linecolor\": \"white\", \"ticks\": \"\", \"title\": {\"standoff\": 15}, \"zerolinecolor\": \"white\", \"zerolinewidth\": 2}, \"yaxis\": {\"automargin\": true, \"gridcolor\": \"white\", \"linecolor\": \"white\", \"ticks\": \"\", \"title\": {\"standoff\": 15}, \"zerolinecolor\": \"white\", \"zerolinewidth\": 2}}}, \"title\": {\"font\": {\"color\": \"#4D5663\"}, \"text\": \"placement According to SSC Percentage\"}, \"xaxis\": {\"gridcolor\": \"#E1E5ED\", \"showgrid\": true, \"tickfont\": {\"color\": \"#4D5663\"}, \"title\": {\"font\": {\"color\": \"#4D5663\"}, \"text\": \"Secondary Percentage\"}, \"zerolinecolor\": \"#E1E5ED\"}, \"yaxis\": {\"gridcolor\": \"#E1E5ED\", \"showgrid\": true, \"tickfont\": {\"color\": \"#4D5663\"}, \"title\": {\"font\": {\"color\": \"#4D5663\"}, \"text\": \"Count\"}, \"zerolinecolor\": \"#E1E5ED\"}},\n",
       "                        {\"showLink\": true, \"linkText\": \"Export to plot.ly\", \"plotlyServerURL\": \"https://plot.ly\", \"responsive\": true}\n",
       "                    ).then(function(){\n",
       "                            \n",
       "var gd = document.getElementById('c0672a6d-012c-43fc-9298-f1f1e6923e5e');\n",
       "var x = new MutationObserver(function (mutations, observer) {{\n",
       "        var display = window.getComputedStyle(gd).display;\n",
       "        if (!display || display === 'none') {{\n",
       "            console.log([gd, 'removed!']);\n",
       "            Plotly.purge(gd);\n",
       "            observer.disconnect();\n",
       "        }}\n",
       "}});\n",
       "\n",
       "// Listen for the removal of the full notebook cells\n",
       "var notebookContainer = gd.closest('#notebook-container');\n",
       "if (notebookContainer) {{\n",
       "    x.observe(notebookContainer, {childList: true});\n",
       "}}\n",
       "\n",
       "// Listen for the clearing of the current output cell\n",
       "var outputEl = gd.closest('.output');\n",
       "if (outputEl) {{\n",
       "    x.observe(outputEl, {childList: true});\n",
       "}}\n",
       "\n",
       "                        })\n",
       "                };\n",
       "                });\n",
       "            </script>\n",
       "        </div>"
      ]
     },
     "metadata": {},
     "output_type": "display_data"
    }
   ],
   "source": [
    "camp[\"Placed\"]=camp[camp[\"status\"]==\"Placed\"][\"ssc_p\"]\n",
    "camp[\"Not Placed\"]=camp[camp[\"status\"]==\"Not Placed\"][\"ssc_p\"]\n",
    "camp[[\"Placed\",\"Not Placed\"]].iplot(kind=\"histogram\", bins=10, theme=\"white\", title=\"placement According to SSC Percentage\",\n",
    "         xTitle='Secondary Percentage', yTitle='Count')"
   ]
  },
  {
   "cell_type": "code",
   "execution_count": 20,
   "metadata": {},
   "outputs": [
    {
     "data": {
      "application/vnd.plotly.v1+json": {
       "config": {
        "linkText": "Export to plot.ly",
        "plotlyServerURL": "https://plot.ly",
        "showLink": true
       },
       "data": [
        {
         "histfunc": "count",
         "histnorm": "",
         "marker": {
          "color": "rgba(255, 153, 51, 1.0)",
          "line": {
           "color": "#4D5663",
           "width": 1.3
          }
         },
         "name": "Placed",
         "nbinsx": 10,
         "opacity": 0.8,
         "orientation": "v",
         "type": "histogram",
         "x": [
          58,
          77.48,
          64,
          null,
          73.3,
          null,
          null,
          66,
          72,
          null,
          60,
          78.3,
          null,
          59,
          null,
          69,
          65.6,
          null,
          null,
          70,
          66,
          85,
          72.23,
          64.74,
          78.86,
          null,
          66,
          66,
          67.5,
          null,
          73,
          null,
          66.4,
          81,
          null,
          72,
          null,
          65.6,
          66,
          64,
          80,
          null,
          null,
          68,
          81,
          null,
          null,
          57,
          68,
          null,
          68.4,
          null,
          null,
          72,
          69,
          65,
          61.4,
          74,
          68,
          72.11,
          72,
          66.89,
          67.4,
          null,
          75,
          null,
          66,
          67,
          null,
          66,
          62,
          71,
          78,
          71.72,
          70.2,
          null,
          71.93,
          65,
          64.5,
          null,
          69,
          67,
          null,
          68,
          70,
          77.2,
          64,
          null,
          73,
          69,
          82,
          null,
          66,
          null,
          64,
          65,
          76,
          null,
          65,
          null,
          null,
          68,
          68,
          73,
          65,
          null,
          null,
          83,
          69,
          null,
          72,
          null,
          61,
          67,
          69,
          66,
          66.6,
          73,
          78,
          64.6,
          null,
          69.6,
          69.3,
          73,
          64.33,
          73,
          75.5,
          69,
          77.72,
          66,
          null,
          62,
          64,
          77,
          72,
          69,
          null,
          72,
          73,
          59,
          69.5,
          null,
          73.43,
          70.67,
          null,
          71.25,
          66,
          65,
          56,
          null,
          58,
          75,
          84,
          65,
          60,
          null,
          65,
          60.9,
          null,
          null,
          65,
          null,
          77.25,
          64,
          63.35,
          null,
          60,
          null,
          null,
          null,
          null,
          72,
          56,
          null,
          64.27,
          null,
          56,
          79,
          68,
          null,
          62.8,
          null,
          null,
          69,
          null,
          78,
          null,
          67,
          null,
          null,
          null,
          72,
          64.8,
          56,
          null,
          72,
          77.5,
          91,
          null,
          57,
          65,
          null,
          66,
          56.87,
          73,
          65,
          null,
          61,
          null,
          65,
          77.6,
          72,
          73,
          58,
          null
         ]
        },
        {
         "histfunc": "count",
         "histnorm": "",
         "marker": {
          "color": "rgba(55, 128, 191, 1.0)",
          "line": {
           "color": "#4D5663",
           "width": 1.3
          }
         },
         "name": "Not Placed",
         "nbinsx": 10,
         "opacity": 0.8,
         "orientation": "v",
         "type": "histogram",
         "x": [
          null,
          null,
          null,
          52,
          null,
          67.25,
          79,
          null,
          null,
          61,
          null,
          null,
          65,
          null,
          50,
          null,
          null,
          64,
          64,
          null,
          null,
          null,
          null,
          null,
          null,
          50.2,
          null,
          null,
          null,
          58,
          null,
          65,
          null,
          null,
          52,
          null,
          57,
          null,
          null,
          null,
          null,
          65,
          65,
          null,
          null,
          72,
          65.6,
          null,
          null,
          52,
          null,
          56.2,
          53,
          null,
          null,
          null,
          null,
          null,
          null,
          null,
          null,
          null,
          null,
          64,
          null,
          57,
          null,
          null,
          72.7,
          null,
          null,
          null,
          null,
          null,
          null,
          77.5,
          null,
          null,
          null,
          66,
          null,
          null,
          74,
          null,
          null,
          null,
          null,
          60,
          null,
          null,
          null,
          50.8,
          null,
          54,
          null,
          null,
          null,
          61,
          null,
          63,
          58,
          null,
          null,
          null,
          null,
          58,
          54,
          null,
          null,
          65,
          null,
          61,
          null,
          null,
          null,
          null,
          null,
          null,
          null,
          null,
          59,
          null,
          null,
          null,
          null,
          null,
          null,
          null,
          null,
          null,
          60,
          null,
          null,
          null,
          null,
          null,
          64,
          null,
          null,
          null,
          null,
          60,
          null,
          null,
          61,
          null,
          null,
          null,
          null,
          55,
          null,
          null,
          null,
          null,
          null,
          59.9,
          null,
          null,
          64,
          58,
          null,
          57.5,
          null,
          null,
          null,
          74,
          null,
          67,
          58,
          61.26,
          60,
          null,
          null,
          55,
          null,
          65,
          null,
          null,
          null,
          64.2,
          null,
          64.21,
          57,
          null,
          59.79,
          null,
          61,
          null,
          54.38,
          69.2,
          61,
          null,
          null,
          null,
          56.3,
          null,
          null,
          null,
          65,
          null,
          null,
          58,
          null,
          null,
          null,
          null,
          60,
          null,
          65,
          null,
          null,
          null,
          null,
          null,
          53
         ]
        }
       ],
       "layout": {
        "barmode": "overlay",
        "legend": {
         "bgcolor": "#FFFFFF",
         "font": {
          "color": "#4D5663"
         }
        },
        "paper_bgcolor": "#FFFFFF",
        "plot_bgcolor": "#FFFFFF",
        "template": {
         "data": {
          "bar": [
           {
            "error_x": {
             "color": "#2a3f5f"
            },
            "error_y": {
             "color": "#2a3f5f"
            },
            "marker": {
             "line": {
              "color": "#E5ECF6",
              "width": 0.5
             }
            },
            "type": "bar"
           }
          ],
          "barpolar": [
           {
            "marker": {
             "line": {
              "color": "#E5ECF6",
              "width": 0.5
             }
            },
            "type": "barpolar"
           }
          ],
          "carpet": [
           {
            "aaxis": {
             "endlinecolor": "#2a3f5f",
             "gridcolor": "white",
             "linecolor": "white",
             "minorgridcolor": "white",
             "startlinecolor": "#2a3f5f"
            },
            "baxis": {
             "endlinecolor": "#2a3f5f",
             "gridcolor": "white",
             "linecolor": "white",
             "minorgridcolor": "white",
             "startlinecolor": "#2a3f5f"
            },
            "type": "carpet"
           }
          ],
          "choropleth": [
           {
            "colorbar": {
             "outlinewidth": 0,
             "ticks": ""
            },
            "type": "choropleth"
           }
          ],
          "contour": [
           {
            "colorbar": {
             "outlinewidth": 0,
             "ticks": ""
            },
            "colorscale": [
             [
              0,
              "#0d0887"
             ],
             [
              0.1111111111111111,
              "#46039f"
             ],
             [
              0.2222222222222222,
              "#7201a8"
             ],
             [
              0.3333333333333333,
              "#9c179e"
             ],
             [
              0.4444444444444444,
              "#bd3786"
             ],
             [
              0.5555555555555556,
              "#d8576b"
             ],
             [
              0.6666666666666666,
              "#ed7953"
             ],
             [
              0.7777777777777778,
              "#fb9f3a"
             ],
             [
              0.8888888888888888,
              "#fdca26"
             ],
             [
              1,
              "#f0f921"
             ]
            ],
            "type": "contour"
           }
          ],
          "contourcarpet": [
           {
            "colorbar": {
             "outlinewidth": 0,
             "ticks": ""
            },
            "type": "contourcarpet"
           }
          ],
          "heatmap": [
           {
            "colorbar": {
             "outlinewidth": 0,
             "ticks": ""
            },
            "colorscale": [
             [
              0,
              "#0d0887"
             ],
             [
              0.1111111111111111,
              "#46039f"
             ],
             [
              0.2222222222222222,
              "#7201a8"
             ],
             [
              0.3333333333333333,
              "#9c179e"
             ],
             [
              0.4444444444444444,
              "#bd3786"
             ],
             [
              0.5555555555555556,
              "#d8576b"
             ],
             [
              0.6666666666666666,
              "#ed7953"
             ],
             [
              0.7777777777777778,
              "#fb9f3a"
             ],
             [
              0.8888888888888888,
              "#fdca26"
             ],
             [
              1,
              "#f0f921"
             ]
            ],
            "type": "heatmap"
           }
          ],
          "heatmapgl": [
           {
            "colorbar": {
             "outlinewidth": 0,
             "ticks": ""
            },
            "colorscale": [
             [
              0,
              "#0d0887"
             ],
             [
              0.1111111111111111,
              "#46039f"
             ],
             [
              0.2222222222222222,
              "#7201a8"
             ],
             [
              0.3333333333333333,
              "#9c179e"
             ],
             [
              0.4444444444444444,
              "#bd3786"
             ],
             [
              0.5555555555555556,
              "#d8576b"
             ],
             [
              0.6666666666666666,
              "#ed7953"
             ],
             [
              0.7777777777777778,
              "#fb9f3a"
             ],
             [
              0.8888888888888888,
              "#fdca26"
             ],
             [
              1,
              "#f0f921"
             ]
            ],
            "type": "heatmapgl"
           }
          ],
          "histogram": [
           {
            "marker": {
             "colorbar": {
              "outlinewidth": 0,
              "ticks": ""
             }
            },
            "type": "histogram"
           }
          ],
          "histogram2d": [
           {
            "colorbar": {
             "outlinewidth": 0,
             "ticks": ""
            },
            "colorscale": [
             [
              0,
              "#0d0887"
             ],
             [
              0.1111111111111111,
              "#46039f"
             ],
             [
              0.2222222222222222,
              "#7201a8"
             ],
             [
              0.3333333333333333,
              "#9c179e"
             ],
             [
              0.4444444444444444,
              "#bd3786"
             ],
             [
              0.5555555555555556,
              "#d8576b"
             ],
             [
              0.6666666666666666,
              "#ed7953"
             ],
             [
              0.7777777777777778,
              "#fb9f3a"
             ],
             [
              0.8888888888888888,
              "#fdca26"
             ],
             [
              1,
              "#f0f921"
             ]
            ],
            "type": "histogram2d"
           }
          ],
          "histogram2dcontour": [
           {
            "colorbar": {
             "outlinewidth": 0,
             "ticks": ""
            },
            "colorscale": [
             [
              0,
              "#0d0887"
             ],
             [
              0.1111111111111111,
              "#46039f"
             ],
             [
              0.2222222222222222,
              "#7201a8"
             ],
             [
              0.3333333333333333,
              "#9c179e"
             ],
             [
              0.4444444444444444,
              "#bd3786"
             ],
             [
              0.5555555555555556,
              "#d8576b"
             ],
             [
              0.6666666666666666,
              "#ed7953"
             ],
             [
              0.7777777777777778,
              "#fb9f3a"
             ],
             [
              0.8888888888888888,
              "#fdca26"
             ],
             [
              1,
              "#f0f921"
             ]
            ],
            "type": "histogram2dcontour"
           }
          ],
          "mesh3d": [
           {
            "colorbar": {
             "outlinewidth": 0,
             "ticks": ""
            },
            "type": "mesh3d"
           }
          ],
          "parcoords": [
           {
            "line": {
             "colorbar": {
              "outlinewidth": 0,
              "ticks": ""
             }
            },
            "type": "parcoords"
           }
          ],
          "pie": [
           {
            "automargin": true,
            "type": "pie"
           }
          ],
          "scatter": [
           {
            "marker": {
             "colorbar": {
              "outlinewidth": 0,
              "ticks": ""
             }
            },
            "type": "scatter"
           }
          ],
          "scatter3d": [
           {
            "line": {
             "colorbar": {
              "outlinewidth": 0,
              "ticks": ""
             }
            },
            "marker": {
             "colorbar": {
              "outlinewidth": 0,
              "ticks": ""
             }
            },
            "type": "scatter3d"
           }
          ],
          "scattercarpet": [
           {
            "marker": {
             "colorbar": {
              "outlinewidth": 0,
              "ticks": ""
             }
            },
            "type": "scattercarpet"
           }
          ],
          "scattergeo": [
           {
            "marker": {
             "colorbar": {
              "outlinewidth": 0,
              "ticks": ""
             }
            },
            "type": "scattergeo"
           }
          ],
          "scattergl": [
           {
            "marker": {
             "colorbar": {
              "outlinewidth": 0,
              "ticks": ""
             }
            },
            "type": "scattergl"
           }
          ],
          "scattermapbox": [
           {
            "marker": {
             "colorbar": {
              "outlinewidth": 0,
              "ticks": ""
             }
            },
            "type": "scattermapbox"
           }
          ],
          "scatterpolar": [
           {
            "marker": {
             "colorbar": {
              "outlinewidth": 0,
              "ticks": ""
             }
            },
            "type": "scatterpolar"
           }
          ],
          "scatterpolargl": [
           {
            "marker": {
             "colorbar": {
              "outlinewidth": 0,
              "ticks": ""
             }
            },
            "type": "scatterpolargl"
           }
          ],
          "scatterternary": [
           {
            "marker": {
             "colorbar": {
              "outlinewidth": 0,
              "ticks": ""
             }
            },
            "type": "scatterternary"
           }
          ],
          "surface": [
           {
            "colorbar": {
             "outlinewidth": 0,
             "ticks": ""
            },
            "colorscale": [
             [
              0,
              "#0d0887"
             ],
             [
              0.1111111111111111,
              "#46039f"
             ],
             [
              0.2222222222222222,
              "#7201a8"
             ],
             [
              0.3333333333333333,
              "#9c179e"
             ],
             [
              0.4444444444444444,
              "#bd3786"
             ],
             [
              0.5555555555555556,
              "#d8576b"
             ],
             [
              0.6666666666666666,
              "#ed7953"
             ],
             [
              0.7777777777777778,
              "#fb9f3a"
             ],
             [
              0.8888888888888888,
              "#fdca26"
             ],
             [
              1,
              "#f0f921"
             ]
            ],
            "type": "surface"
           }
          ],
          "table": [
           {
            "cells": {
             "fill": {
              "color": "#EBF0F8"
             },
             "line": {
              "color": "white"
             }
            },
            "header": {
             "fill": {
              "color": "#C8D4E3"
             },
             "line": {
              "color": "white"
             }
            },
            "type": "table"
           }
          ]
         },
         "layout": {
          "annotationdefaults": {
           "arrowcolor": "#2a3f5f",
           "arrowhead": 0,
           "arrowwidth": 1
          },
          "coloraxis": {
           "colorbar": {
            "outlinewidth": 0,
            "ticks": ""
           }
          },
          "colorscale": {
           "diverging": [
            [
             0,
             "#8e0152"
            ],
            [
             0.1,
             "#c51b7d"
            ],
            [
             0.2,
             "#de77ae"
            ],
            [
             0.3,
             "#f1b6da"
            ],
            [
             0.4,
             "#fde0ef"
            ],
            [
             0.5,
             "#f7f7f7"
            ],
            [
             0.6,
             "#e6f5d0"
            ],
            [
             0.7,
             "#b8e186"
            ],
            [
             0.8,
             "#7fbc41"
            ],
            [
             0.9,
             "#4d9221"
            ],
            [
             1,
             "#276419"
            ]
           ],
           "sequential": [
            [
             0,
             "#0d0887"
            ],
            [
             0.1111111111111111,
             "#46039f"
            ],
            [
             0.2222222222222222,
             "#7201a8"
            ],
            [
             0.3333333333333333,
             "#9c179e"
            ],
            [
             0.4444444444444444,
             "#bd3786"
            ],
            [
             0.5555555555555556,
             "#d8576b"
            ],
            [
             0.6666666666666666,
             "#ed7953"
            ],
            [
             0.7777777777777778,
             "#fb9f3a"
            ],
            [
             0.8888888888888888,
             "#fdca26"
            ],
            [
             1,
             "#f0f921"
            ]
           ],
           "sequentialminus": [
            [
             0,
             "#0d0887"
            ],
            [
             0.1111111111111111,
             "#46039f"
            ],
            [
             0.2222222222222222,
             "#7201a8"
            ],
            [
             0.3333333333333333,
             "#9c179e"
            ],
            [
             0.4444444444444444,
             "#bd3786"
            ],
            [
             0.5555555555555556,
             "#d8576b"
            ],
            [
             0.6666666666666666,
             "#ed7953"
            ],
            [
             0.7777777777777778,
             "#fb9f3a"
            ],
            [
             0.8888888888888888,
             "#fdca26"
            ],
            [
             1,
             "#f0f921"
            ]
           ]
          },
          "colorway": [
           "#636efa",
           "#EF553B",
           "#00cc96",
           "#ab63fa",
           "#FFA15A",
           "#19d3f3",
           "#FF6692",
           "#B6E880",
           "#FF97FF",
           "#FECB52"
          ],
          "font": {
           "color": "#2a3f5f"
          },
          "geo": {
           "bgcolor": "white",
           "lakecolor": "white",
           "landcolor": "#E5ECF6",
           "showlakes": true,
           "showland": true,
           "subunitcolor": "white"
          },
          "hoverlabel": {
           "align": "left"
          },
          "hovermode": "closest",
          "mapbox": {
           "style": "light"
          },
          "paper_bgcolor": "white",
          "plot_bgcolor": "#E5ECF6",
          "polar": {
           "angularaxis": {
            "gridcolor": "white",
            "linecolor": "white",
            "ticks": ""
           },
           "bgcolor": "#E5ECF6",
           "radialaxis": {
            "gridcolor": "white",
            "linecolor": "white",
            "ticks": ""
           }
          },
          "scene": {
           "xaxis": {
            "backgroundcolor": "#E5ECF6",
            "gridcolor": "white",
            "gridwidth": 2,
            "linecolor": "white",
            "showbackground": true,
            "ticks": "",
            "zerolinecolor": "white"
           },
           "yaxis": {
            "backgroundcolor": "#E5ECF6",
            "gridcolor": "white",
            "gridwidth": 2,
            "linecolor": "white",
            "showbackground": true,
            "ticks": "",
            "zerolinecolor": "white"
           },
           "zaxis": {
            "backgroundcolor": "#E5ECF6",
            "gridcolor": "white",
            "gridwidth": 2,
            "linecolor": "white",
            "showbackground": true,
            "ticks": "",
            "zerolinecolor": "white"
           }
          },
          "shapedefaults": {
           "line": {
            "color": "#2a3f5f"
           }
          },
          "ternary": {
           "aaxis": {
            "gridcolor": "white",
            "linecolor": "white",
            "ticks": ""
           },
           "baxis": {
            "gridcolor": "white",
            "linecolor": "white",
            "ticks": ""
           },
           "bgcolor": "#E5ECF6",
           "caxis": {
            "gridcolor": "white",
            "linecolor": "white",
            "ticks": ""
           }
          },
          "title": {
           "x": 0.05
          },
          "xaxis": {
           "automargin": true,
           "gridcolor": "white",
           "linecolor": "white",
           "ticks": "",
           "title": {
            "standoff": 15
           },
           "zerolinecolor": "white",
           "zerolinewidth": 2
          },
          "yaxis": {
           "automargin": true,
           "gridcolor": "white",
           "linecolor": "white",
           "ticks": "",
           "title": {
            "standoff": 15
           },
           "zerolinecolor": "white",
           "zerolinewidth": 2
          }
         }
        },
        "title": {
         "font": {
          "color": "#4D5663"
         },
         "text": "placement According to Degree Percentage"
        },
        "xaxis": {
         "gridcolor": "#E1E5ED",
         "showgrid": true,
         "tickfont": {
          "color": "#4D5663"
         },
         "title": {
          "font": {
           "color": "#4D5663"
          },
          "text": "Degree Percentage"
         },
         "zerolinecolor": "#E1E5ED"
        },
        "yaxis": {
         "gridcolor": "#E1E5ED",
         "showgrid": true,
         "tickfont": {
          "color": "#4D5663"
         },
         "title": {
          "font": {
           "color": "#4D5663"
          },
          "text": "Count"
         },
         "zerolinecolor": "#E1E5ED"
        }
       }
      },
      "text/html": [
       "<div>\n",
       "        \n",
       "        \n",
       "            <div id=\"19e83722-ff57-4068-9072-7f35b4b56dae\" class=\"plotly-graph-div\" style=\"height:525px; width:100%;\"></div>\n",
       "            <script type=\"text/javascript\">\n",
       "                require([\"plotly\"], function(Plotly) {\n",
       "                    window.PLOTLYENV=window.PLOTLYENV || {};\n",
       "                    window.PLOTLYENV.BASE_URL='https://plot.ly';\n",
       "                    \n",
       "                if (document.getElementById(\"19e83722-ff57-4068-9072-7f35b4b56dae\")) {\n",
       "                    Plotly.newPlot(\n",
       "                        '19e83722-ff57-4068-9072-7f35b4b56dae',\n",
       "                        [{\"histfunc\": \"count\", \"histnorm\": \"\", \"marker\": {\"color\": \"rgba(255, 153, 51, 1.0)\", \"line\": {\"color\": \"#4D5663\", \"width\": 1.3}}, \"name\": \"Placed\", \"nbinsx\": 10, \"opacity\": 0.8, \"orientation\": \"v\", \"type\": \"histogram\", \"x\": [58.0, 77.48, 64.0, null, 73.3, null, null, 66.0, 72.0, null, 60.0, 78.3, null, 59.0, null, 69.0, 65.6, null, null, 70.0, 66.0, 85.0, 72.23, 64.74, 78.86, null, 66.0, 66.0, 67.5, null, 73.0, null, 66.4, 81.0, null, 72.0, null, 65.6, 66.0, 64.0, 80.0, null, null, 68.0, 81.0, null, null, 57.0, 68.0, null, 68.4, null, null, 72.0, 69.0, 65.0, 61.4, 74.0, 68.0, 72.11, 72.0, 66.89, 67.4, null, 75.0, null, 66.0, 67.0, null, 66.0, 62.0, 71.0, 78.0, 71.72, 70.2, null, 71.93, 65.0, 64.5, null, 69.0, 67.0, null, 68.0, 70.0, 77.2, 64.0, null, 73.0, 69.0, 82.0, null, 66.0, null, 64.0, 65.0, 76.0, null, 65.0, null, null, 68.0, 68.0, 73.0, 65.0, null, null, 83.0, 69.0, null, 72.0, null, 61.0, 67.0, 69.0, 66.0, 66.6, 73.0, 78.0, 64.6, null, 69.6, 69.3, 73.0, 64.33, 73.0, 75.5, 69.0, 77.72, 66.0, null, 62.0, 64.0, 77.0, 72.0, 69.0, null, 72.0, 73.0, 59.0, 69.5, null, 73.43, 70.67, null, 71.25, 66.0, 65.0, 56.0, null, 58.0, 75.0, 84.0, 65.0, 60.0, null, 65.0, 60.9, null, null, 65.0, null, 77.25, 64.0, 63.35, null, 60.0, null, null, null, null, 72.0, 56.0, null, 64.27, null, 56.0, 79.0, 68.0, null, 62.8, null, null, 69.0, null, 78.0, null, 67.0, null, null, null, 72.0, 64.8, 56.0, null, 72.0, 77.5, 91.0, null, 57.0, 65.0, null, 66.0, 56.87, 73.0, 65.0, null, 61.0, null, 65.0, 77.6, 72.0, 73.0, 58.0, null]}, {\"histfunc\": \"count\", \"histnorm\": \"\", \"marker\": {\"color\": \"rgba(55, 128, 191, 1.0)\", \"line\": {\"color\": \"#4D5663\", \"width\": 1.3}}, \"name\": \"Not Placed\", \"nbinsx\": 10, \"opacity\": 0.8, \"orientation\": \"v\", \"type\": \"histogram\", \"x\": [null, null, null, 52.0, null, 67.25, 79.0, null, null, 61.0, null, null, 65.0, null, 50.0, null, null, 64.0, 64.0, null, null, null, null, null, null, 50.2, null, null, null, 58.0, null, 65.0, null, null, 52.0, null, 57.0, null, null, null, null, 65.0, 65.0, null, null, 72.0, 65.6, null, null, 52.0, null, 56.2, 53.0, null, null, null, null, null, null, null, null, null, null, 64.0, null, 57.0, null, null, 72.7, null, null, null, null, null, null, 77.5, null, null, null, 66.0, null, null, 74.0, null, null, null, null, 60.0, null, null, null, 50.8, null, 54.0, null, null, null, 61.0, null, 63.0, 58.0, null, null, null, null, 58.0, 54.0, null, null, 65.0, null, 61.0, null, null, null, null, null, null, null, null, 59.0, null, null, null, null, null, null, null, null, null, 60.0, null, null, null, null, null, 64.0, null, null, null, null, 60.0, null, null, 61.0, null, null, null, null, 55.0, null, null, null, null, null, 59.9, null, null, 64.0, 58.0, null, 57.5, null, null, null, 74.0, null, 67.0, 58.0, 61.26, 60.0, null, null, 55.0, null, 65.0, null, null, null, 64.2, null, 64.21, 57.0, null, 59.79, null, 61.0, null, 54.38, 69.2, 61.0, null, null, null, 56.3, null, null, null, 65.0, null, null, 58.0, null, null, null, null, 60.0, null, 65.0, null, null, null, null, null, 53.0]}],\n",
       "                        {\"barmode\": \"overlay\", \"legend\": {\"bgcolor\": \"#FFFFFF\", \"font\": {\"color\": \"#4D5663\"}}, \"paper_bgcolor\": \"#FFFFFF\", \"plot_bgcolor\": \"#FFFFFF\", \"template\": {\"data\": {\"bar\": [{\"error_x\": {\"color\": \"#2a3f5f\"}, \"error_y\": {\"color\": \"#2a3f5f\"}, \"marker\": {\"line\": {\"color\": \"#E5ECF6\", \"width\": 0.5}}, \"type\": \"bar\"}], \"barpolar\": [{\"marker\": {\"line\": {\"color\": \"#E5ECF6\", \"width\": 0.5}}, \"type\": \"barpolar\"}], \"carpet\": [{\"aaxis\": {\"endlinecolor\": \"#2a3f5f\", \"gridcolor\": \"white\", \"linecolor\": \"white\", \"minorgridcolor\": \"white\", \"startlinecolor\": \"#2a3f5f\"}, \"baxis\": {\"endlinecolor\": \"#2a3f5f\", \"gridcolor\": \"white\", \"linecolor\": \"white\", \"minorgridcolor\": \"white\", \"startlinecolor\": \"#2a3f5f\"}, \"type\": \"carpet\"}], \"choropleth\": [{\"colorbar\": {\"outlinewidth\": 0, \"ticks\": \"\"}, \"type\": \"choropleth\"}], \"contour\": [{\"colorbar\": {\"outlinewidth\": 0, \"ticks\": \"\"}, \"colorscale\": [[0.0, \"#0d0887\"], [0.1111111111111111, \"#46039f\"], [0.2222222222222222, \"#7201a8\"], [0.3333333333333333, \"#9c179e\"], [0.4444444444444444, \"#bd3786\"], [0.5555555555555556, \"#d8576b\"], [0.6666666666666666, \"#ed7953\"], [0.7777777777777778, \"#fb9f3a\"], [0.8888888888888888, \"#fdca26\"], [1.0, \"#f0f921\"]], \"type\": \"contour\"}], \"contourcarpet\": [{\"colorbar\": {\"outlinewidth\": 0, \"ticks\": \"\"}, \"type\": \"contourcarpet\"}], \"heatmap\": [{\"colorbar\": {\"outlinewidth\": 0, \"ticks\": \"\"}, \"colorscale\": [[0.0, \"#0d0887\"], [0.1111111111111111, \"#46039f\"], [0.2222222222222222, \"#7201a8\"], [0.3333333333333333, \"#9c179e\"], [0.4444444444444444, \"#bd3786\"], [0.5555555555555556, \"#d8576b\"], [0.6666666666666666, \"#ed7953\"], [0.7777777777777778, \"#fb9f3a\"], [0.8888888888888888, \"#fdca26\"], [1.0, \"#f0f921\"]], \"type\": \"heatmap\"}], \"heatmapgl\": [{\"colorbar\": {\"outlinewidth\": 0, \"ticks\": \"\"}, \"colorscale\": [[0.0, \"#0d0887\"], [0.1111111111111111, \"#46039f\"], [0.2222222222222222, \"#7201a8\"], [0.3333333333333333, \"#9c179e\"], [0.4444444444444444, \"#bd3786\"], [0.5555555555555556, \"#d8576b\"], [0.6666666666666666, \"#ed7953\"], [0.7777777777777778, \"#fb9f3a\"], [0.8888888888888888, \"#fdca26\"], [1.0, \"#f0f921\"]], \"type\": \"heatmapgl\"}], \"histogram\": [{\"marker\": {\"colorbar\": {\"outlinewidth\": 0, \"ticks\": \"\"}}, \"type\": \"histogram\"}], \"histogram2d\": [{\"colorbar\": {\"outlinewidth\": 0, \"ticks\": \"\"}, \"colorscale\": [[0.0, \"#0d0887\"], [0.1111111111111111, \"#46039f\"], [0.2222222222222222, \"#7201a8\"], [0.3333333333333333, \"#9c179e\"], [0.4444444444444444, \"#bd3786\"], [0.5555555555555556, \"#d8576b\"], [0.6666666666666666, \"#ed7953\"], [0.7777777777777778, \"#fb9f3a\"], [0.8888888888888888, \"#fdca26\"], [1.0, \"#f0f921\"]], \"type\": \"histogram2d\"}], \"histogram2dcontour\": [{\"colorbar\": {\"outlinewidth\": 0, \"ticks\": \"\"}, \"colorscale\": [[0.0, \"#0d0887\"], [0.1111111111111111, \"#46039f\"], [0.2222222222222222, \"#7201a8\"], [0.3333333333333333, \"#9c179e\"], [0.4444444444444444, \"#bd3786\"], [0.5555555555555556, \"#d8576b\"], [0.6666666666666666, \"#ed7953\"], [0.7777777777777778, \"#fb9f3a\"], [0.8888888888888888, \"#fdca26\"], [1.0, \"#f0f921\"]], \"type\": \"histogram2dcontour\"}], \"mesh3d\": [{\"colorbar\": {\"outlinewidth\": 0, \"ticks\": \"\"}, \"type\": \"mesh3d\"}], \"parcoords\": [{\"line\": {\"colorbar\": {\"outlinewidth\": 0, \"ticks\": \"\"}}, \"type\": \"parcoords\"}], \"pie\": [{\"automargin\": true, \"type\": \"pie\"}], \"scatter\": [{\"marker\": {\"colorbar\": {\"outlinewidth\": 0, \"ticks\": \"\"}}, \"type\": \"scatter\"}], \"scatter3d\": [{\"line\": {\"colorbar\": {\"outlinewidth\": 0, \"ticks\": \"\"}}, \"marker\": {\"colorbar\": {\"outlinewidth\": 0, \"ticks\": \"\"}}, \"type\": \"scatter3d\"}], \"scattercarpet\": [{\"marker\": {\"colorbar\": {\"outlinewidth\": 0, \"ticks\": \"\"}}, \"type\": \"scattercarpet\"}], \"scattergeo\": [{\"marker\": {\"colorbar\": {\"outlinewidth\": 0, \"ticks\": \"\"}}, \"type\": \"scattergeo\"}], \"scattergl\": [{\"marker\": {\"colorbar\": {\"outlinewidth\": 0, \"ticks\": \"\"}}, \"type\": \"scattergl\"}], \"scattermapbox\": [{\"marker\": {\"colorbar\": {\"outlinewidth\": 0, \"ticks\": \"\"}}, \"type\": \"scattermapbox\"}], \"scatterpolar\": [{\"marker\": {\"colorbar\": {\"outlinewidth\": 0, \"ticks\": \"\"}}, \"type\": \"scatterpolar\"}], \"scatterpolargl\": [{\"marker\": {\"colorbar\": {\"outlinewidth\": 0, \"ticks\": \"\"}}, \"type\": \"scatterpolargl\"}], \"scatterternary\": [{\"marker\": {\"colorbar\": {\"outlinewidth\": 0, \"ticks\": \"\"}}, \"type\": \"scatterternary\"}], \"surface\": [{\"colorbar\": {\"outlinewidth\": 0, \"ticks\": \"\"}, \"colorscale\": [[0.0, \"#0d0887\"], [0.1111111111111111, \"#46039f\"], [0.2222222222222222, \"#7201a8\"], [0.3333333333333333, \"#9c179e\"], [0.4444444444444444, \"#bd3786\"], [0.5555555555555556, \"#d8576b\"], [0.6666666666666666, \"#ed7953\"], [0.7777777777777778, \"#fb9f3a\"], [0.8888888888888888, \"#fdca26\"], [1.0, \"#f0f921\"]], \"type\": \"surface\"}], \"table\": [{\"cells\": {\"fill\": {\"color\": \"#EBF0F8\"}, \"line\": {\"color\": \"white\"}}, \"header\": {\"fill\": {\"color\": \"#C8D4E3\"}, \"line\": {\"color\": \"white\"}}, \"type\": \"table\"}]}, \"layout\": {\"annotationdefaults\": {\"arrowcolor\": \"#2a3f5f\", \"arrowhead\": 0, \"arrowwidth\": 1}, \"coloraxis\": {\"colorbar\": {\"outlinewidth\": 0, \"ticks\": \"\"}}, \"colorscale\": {\"diverging\": [[0, \"#8e0152\"], [0.1, \"#c51b7d\"], [0.2, \"#de77ae\"], [0.3, \"#f1b6da\"], [0.4, \"#fde0ef\"], [0.5, \"#f7f7f7\"], [0.6, \"#e6f5d0\"], [0.7, \"#b8e186\"], [0.8, \"#7fbc41\"], [0.9, \"#4d9221\"], [1, \"#276419\"]], \"sequential\": [[0.0, \"#0d0887\"], [0.1111111111111111, \"#46039f\"], [0.2222222222222222, \"#7201a8\"], [0.3333333333333333, \"#9c179e\"], [0.4444444444444444, \"#bd3786\"], [0.5555555555555556, \"#d8576b\"], [0.6666666666666666, \"#ed7953\"], [0.7777777777777778, \"#fb9f3a\"], [0.8888888888888888, \"#fdca26\"], [1.0, \"#f0f921\"]], \"sequentialminus\": [[0.0, \"#0d0887\"], [0.1111111111111111, \"#46039f\"], [0.2222222222222222, \"#7201a8\"], [0.3333333333333333, \"#9c179e\"], [0.4444444444444444, \"#bd3786\"], [0.5555555555555556, \"#d8576b\"], [0.6666666666666666, \"#ed7953\"], [0.7777777777777778, \"#fb9f3a\"], [0.8888888888888888, \"#fdca26\"], [1.0, \"#f0f921\"]]}, \"colorway\": [\"#636efa\", \"#EF553B\", \"#00cc96\", \"#ab63fa\", \"#FFA15A\", \"#19d3f3\", \"#FF6692\", \"#B6E880\", \"#FF97FF\", \"#FECB52\"], \"font\": {\"color\": \"#2a3f5f\"}, \"geo\": {\"bgcolor\": \"white\", \"lakecolor\": \"white\", \"landcolor\": \"#E5ECF6\", \"showlakes\": true, \"showland\": true, \"subunitcolor\": \"white\"}, \"hoverlabel\": {\"align\": \"left\"}, \"hovermode\": \"closest\", \"mapbox\": {\"style\": \"light\"}, \"paper_bgcolor\": \"white\", \"plot_bgcolor\": \"#E5ECF6\", \"polar\": {\"angularaxis\": {\"gridcolor\": \"white\", \"linecolor\": \"white\", \"ticks\": \"\"}, \"bgcolor\": \"#E5ECF6\", \"radialaxis\": {\"gridcolor\": \"white\", \"linecolor\": \"white\", \"ticks\": \"\"}}, \"scene\": {\"xaxis\": {\"backgroundcolor\": \"#E5ECF6\", \"gridcolor\": \"white\", \"gridwidth\": 2, \"linecolor\": \"white\", \"showbackground\": true, \"ticks\": \"\", \"zerolinecolor\": \"white\"}, \"yaxis\": {\"backgroundcolor\": \"#E5ECF6\", \"gridcolor\": \"white\", \"gridwidth\": 2, \"linecolor\": \"white\", \"showbackground\": true, \"ticks\": \"\", \"zerolinecolor\": \"white\"}, \"zaxis\": {\"backgroundcolor\": \"#E5ECF6\", \"gridcolor\": \"white\", \"gridwidth\": 2, \"linecolor\": \"white\", \"showbackground\": true, \"ticks\": \"\", \"zerolinecolor\": \"white\"}}, \"shapedefaults\": {\"line\": {\"color\": \"#2a3f5f\"}}, \"ternary\": {\"aaxis\": {\"gridcolor\": \"white\", \"linecolor\": \"white\", \"ticks\": \"\"}, \"baxis\": {\"gridcolor\": \"white\", \"linecolor\": \"white\", \"ticks\": \"\"}, \"bgcolor\": \"#E5ECF6\", \"caxis\": {\"gridcolor\": \"white\", \"linecolor\": \"white\", \"ticks\": \"\"}}, \"title\": {\"x\": 0.05}, \"xaxis\": {\"automargin\": true, \"gridcolor\": \"white\", \"linecolor\": \"white\", \"ticks\": \"\", \"title\": {\"standoff\": 15}, \"zerolinecolor\": \"white\", \"zerolinewidth\": 2}, \"yaxis\": {\"automargin\": true, \"gridcolor\": \"white\", \"linecolor\": \"white\", \"ticks\": \"\", \"title\": {\"standoff\": 15}, \"zerolinecolor\": \"white\", \"zerolinewidth\": 2}}}, \"title\": {\"font\": {\"color\": \"#4D5663\"}, \"text\": \"placement According to Degree Percentage\"}, \"xaxis\": {\"gridcolor\": \"#E1E5ED\", \"showgrid\": true, \"tickfont\": {\"color\": \"#4D5663\"}, \"title\": {\"font\": {\"color\": \"#4D5663\"}, \"text\": \"Degree Percentage\"}, \"zerolinecolor\": \"#E1E5ED\"}, \"yaxis\": {\"gridcolor\": \"#E1E5ED\", \"showgrid\": true, \"tickfont\": {\"color\": \"#4D5663\"}, \"title\": {\"font\": {\"color\": \"#4D5663\"}, \"text\": \"Count\"}, \"zerolinecolor\": \"#E1E5ED\"}},\n",
       "                        {\"showLink\": true, \"linkText\": \"Export to plot.ly\", \"plotlyServerURL\": \"https://plot.ly\", \"responsive\": true}\n",
       "                    ).then(function(){\n",
       "                            \n",
       "var gd = document.getElementById('19e83722-ff57-4068-9072-7f35b4b56dae');\n",
       "var x = new MutationObserver(function (mutations, observer) {{\n",
       "        var display = window.getComputedStyle(gd).display;\n",
       "        if (!display || display === 'none') {{\n",
       "            console.log([gd, 'removed!']);\n",
       "            Plotly.purge(gd);\n",
       "            observer.disconnect();\n",
       "        }}\n",
       "}});\n",
       "\n",
       "// Listen for the removal of the full notebook cells\n",
       "var notebookContainer = gd.closest('#notebook-container');\n",
       "if (notebookContainer) {{\n",
       "    x.observe(notebookContainer, {childList: true});\n",
       "}}\n",
       "\n",
       "// Listen for the clearing of the current output cell\n",
       "var outputEl = gd.closest('.output');\n",
       "if (outputEl) {{\n",
       "    x.observe(outputEl, {childList: true});\n",
       "}}\n",
       "\n",
       "                        })\n",
       "                };\n",
       "                });\n",
       "            </script>\n",
       "        </div>"
      ]
     },
     "metadata": {},
     "output_type": "display_data"
    }
   ],
   "source": [
    "camp[\"Placed\"]=camp[camp[\"status\"]==\"Placed\"][\"degree_p\"]\n",
    "camp[\"Not Placed\"]=camp[camp[\"status\"]==\"Not Placed\"][\"degree_p\"]\n",
    "camp[[\"Placed\",\"Not Placed\"]].iplot(kind=\"histogram\", bins=10, theme=\"white\", title=\"placement According to Degree Percentage\",\n",
    "         xTitle='Degree Percentage', yTitle='Count')"
   ]
  },
  {
   "cell_type": "code",
   "execution_count": 21,
   "metadata": {},
   "outputs": [
    {
     "data": {
      "application/vnd.plotly.v1+json": {
       "config": {
        "linkText": "Export to plot.ly",
        "plotlyServerURL": "https://plot.ly",
        "showLink": true
       },
       "data": [
        {
         "histfunc": "count",
         "histnorm": "",
         "marker": {
          "color": "rgba(255, 153, 51, 1.0)",
          "line": {
           "color": "#4D5663",
           "width": 1.3
          }
         },
         "name": "Placed",
         "nbinsx": 10,
         "opacity": 0.8,
         "orientation": "v",
         "type": "histogram",
         "x": [
          58.8,
          66.28,
          57.8,
          null,
          55.5,
          null,
          null,
          62.14,
          61.29,
          null,
          60.85,
          63.7,
          null,
          68.63,
          null,
          64.66,
          62.54,
          null,
          null,
          77.89,
          56.7,
          69.06,
          68.81,
          63.62,
          74.01,
          null,
          57.55,
          57.69,
          64.15,
          null,
          56.7,
          null,
          62.21,
          72.78,
          null,
          62.74,
          null,
          55.47,
          56.86,
          62.56,
          66.72,
          null,
          null,
          62.9,
          69.7,
          null,
          null,
          54.55,
          62.46,
          null,
          62.98,
          null,
          null,
          71.04,
          65.56,
          52.71,
          66.88,
          63.59,
          57.99,
          56.66,
          57.24,
          62.48,
          59.69,
          null,
          58.78,
          null,
          58.46,
          60.99,
          null,
          68.07,
          65.45,
          66.94,
          68.53,
          59.75,
          67.2,
          null,
          64.27,
          57.65,
          59.42,
          null,
          62.35,
          70.2,
          null,
          66.69,
          62,
          76.18,
          57.03,
          null,
          64.36,
          62.36,
          68.03,
          null,
          59.47,
          null,
          54.97,
          62.16,
          64.44,
          null,
          57.31,
          null,
          null,
          60.44,
          61.31,
          65.83,
          58.23,
          null,
          null,
          73.52,
          58.31,
          null,
          54.8,
          null,
          53.94,
          63.08,
          55.01,
          60.5,
          70.85,
          67.05,
          70.48,
          64.34,
          null,
          71.49,
          71,
          56.7,
          61.26,
          73.33,
          68.2,
          58.4,
          76.26,
          68.55,
          null,
          60.78,
          53.49,
          60.98,
          67.13,
          65.63,
          null,
          60.41,
          71.77,
          54.43,
          56.94,
          null,
          61.29,
          60.39,
          null,
          63.23,
          55.14,
          62.28,
          64.08,
          null,
          61.3,
          58.87,
          65.25,
          62.48,
          53.2,
          null,
          52.72,
          55.03,
          null,
          null,
          72.29,
          null,
          66.06,
          66.46,
          65.52,
          null,
          52.38,
          null,
          null,
          null,
          null,
          66.04,
          52.64,
          null,
          66.23,
          null,
          57.9,
          70.81,
          68.07,
          null,
          56.6,
          null,
          null,
          61.82,
          null,
          71.43,
          null,
          64.86,
          null,
          null,
          null,
          61.01,
          57.34,
          56.63,
          null,
          58.95,
          54.48,
          69.71,
          null,
          55.8,
          52.81,
          null,
          60.11,
          58.3,
          67.69,
          56.81,
          null,
          71.55,
          null,
          56.49,
          74.49,
          53.62,
          69.72,
          60.23,
          null
         ]
        },
        {
         "histfunc": "count",
         "histnorm": "",
         "marker": {
          "color": "rgba(55, 128, 191, 1.0)",
          "line": {
           "color": "#4D5663",
           "width": 1.3
          }
         },
         "name": "Not Placed",
         "nbinsx": 10,
         "opacity": 0.8,
         "orientation": "v",
         "type": "histogram",
         "x": [
          null,
          null,
          null,
          59.43,
          null,
          51.58,
          53.29,
          null,
          null,
          52.21,
          null,
          null,
          65.04,
          null,
          54.96,
          null,
          null,
          67.28,
          64.08,
          null,
          null,
          null,
          null,
          null,
          null,
          65.33,
          null,
          null,
          null,
          51.29,
          null,
          58.32,
          null,
          null,
          62.77,
          null,
          51.45,
          null,
          null,
          null,
          null,
          69.76,
          51.21,
          null,
          null,
          66.53,
          71.63,
          null,
          null,
          56.11,
          null,
          62.65,
          65.49,
          null,
          null,
          null,
          null,
          null,
          null,
          null,
          null,
          null,
          null,
          59.5,
          null,
          57.1,
          null,
          null,
          59.24,
          null,
          null,
          null,
          null,
          null,
          null,
          67,
          null,
          null,
          null,
          67.99,
          null,
          null,
          60.44,
          null,
          null,
          null,
          null,
          59.08,
          null,
          null,
          null,
          62.79,
          null,
          55.41,
          null,
          null,
          null,
          69.03,
          null,
          59.47,
          64.95,
          null,
          null,
          null,
          null,
          55.3,
          65.69,
          null,
          null,
          56.09,
          null,
          60.64,
          null,
          null,
          null,
          null,
          null,
          null,
          null,
          null,
          58.81,
          null,
          null,
          null,
          null,
          null,
          null,
          null,
          null,
          null,
          64.15,
          null,
          null,
          null,
          null,
          null,
          61.58,
          null,
          null,
          null,
          null,
          61.9,
          null,
          null,
          58.52,
          null,
          null,
          null,
          null,
          58.54,
          null,
          null,
          null,
          null,
          null,
          65.99,
          null,
          null,
          61.87,
          60.59,
          null,
          62.72,
          null,
          null,
          null,
          74.56,
          null,
          75.71,
          58.79,
          65.48,
          69.28,
          null,
          null,
          59.32,
          null,
          60.69,
          null,
          null,
          null,
          72.14,
          null,
          60.02,
          59.81,
          null,
          57.29,
          null,
          62.93,
          null,
          56.13,
          66.94,
          62.5,
          null,
          null,
          null,
          64.74,
          null,
          null,
          null,
          71.96,
          null,
          null,
          58.44,
          null,
          null,
          null,
          null,
          53.39,
          null,
          62.92,
          null,
          null,
          null,
          null,
          null,
          60.22
         ]
        }
       ],
       "layout": {
        "barmode": "overlay",
        "legend": {
         "bgcolor": "#FFFFFF",
         "font": {
          "color": "#4D5663"
         }
        },
        "paper_bgcolor": "#FFFFFF",
        "plot_bgcolor": "#FFFFFF",
        "template": {
         "data": {
          "bar": [
           {
            "error_x": {
             "color": "#2a3f5f"
            },
            "error_y": {
             "color": "#2a3f5f"
            },
            "marker": {
             "line": {
              "color": "#E5ECF6",
              "width": 0.5
             }
            },
            "type": "bar"
           }
          ],
          "barpolar": [
           {
            "marker": {
             "line": {
              "color": "#E5ECF6",
              "width": 0.5
             }
            },
            "type": "barpolar"
           }
          ],
          "carpet": [
           {
            "aaxis": {
             "endlinecolor": "#2a3f5f",
             "gridcolor": "white",
             "linecolor": "white",
             "minorgridcolor": "white",
             "startlinecolor": "#2a3f5f"
            },
            "baxis": {
             "endlinecolor": "#2a3f5f",
             "gridcolor": "white",
             "linecolor": "white",
             "minorgridcolor": "white",
             "startlinecolor": "#2a3f5f"
            },
            "type": "carpet"
           }
          ],
          "choropleth": [
           {
            "colorbar": {
             "outlinewidth": 0,
             "ticks": ""
            },
            "type": "choropleth"
           }
          ],
          "contour": [
           {
            "colorbar": {
             "outlinewidth": 0,
             "ticks": ""
            },
            "colorscale": [
             [
              0,
              "#0d0887"
             ],
             [
              0.1111111111111111,
              "#46039f"
             ],
             [
              0.2222222222222222,
              "#7201a8"
             ],
             [
              0.3333333333333333,
              "#9c179e"
             ],
             [
              0.4444444444444444,
              "#bd3786"
             ],
             [
              0.5555555555555556,
              "#d8576b"
             ],
             [
              0.6666666666666666,
              "#ed7953"
             ],
             [
              0.7777777777777778,
              "#fb9f3a"
             ],
             [
              0.8888888888888888,
              "#fdca26"
             ],
             [
              1,
              "#f0f921"
             ]
            ],
            "type": "contour"
           }
          ],
          "contourcarpet": [
           {
            "colorbar": {
             "outlinewidth": 0,
             "ticks": ""
            },
            "type": "contourcarpet"
           }
          ],
          "heatmap": [
           {
            "colorbar": {
             "outlinewidth": 0,
             "ticks": ""
            },
            "colorscale": [
             [
              0,
              "#0d0887"
             ],
             [
              0.1111111111111111,
              "#46039f"
             ],
             [
              0.2222222222222222,
              "#7201a8"
             ],
             [
              0.3333333333333333,
              "#9c179e"
             ],
             [
              0.4444444444444444,
              "#bd3786"
             ],
             [
              0.5555555555555556,
              "#d8576b"
             ],
             [
              0.6666666666666666,
              "#ed7953"
             ],
             [
              0.7777777777777778,
              "#fb9f3a"
             ],
             [
              0.8888888888888888,
              "#fdca26"
             ],
             [
              1,
              "#f0f921"
             ]
            ],
            "type": "heatmap"
           }
          ],
          "heatmapgl": [
           {
            "colorbar": {
             "outlinewidth": 0,
             "ticks": ""
            },
            "colorscale": [
             [
              0,
              "#0d0887"
             ],
             [
              0.1111111111111111,
              "#46039f"
             ],
             [
              0.2222222222222222,
              "#7201a8"
             ],
             [
              0.3333333333333333,
              "#9c179e"
             ],
             [
              0.4444444444444444,
              "#bd3786"
             ],
             [
              0.5555555555555556,
              "#d8576b"
             ],
             [
              0.6666666666666666,
              "#ed7953"
             ],
             [
              0.7777777777777778,
              "#fb9f3a"
             ],
             [
              0.8888888888888888,
              "#fdca26"
             ],
             [
              1,
              "#f0f921"
             ]
            ],
            "type": "heatmapgl"
           }
          ],
          "histogram": [
           {
            "marker": {
             "colorbar": {
              "outlinewidth": 0,
              "ticks": ""
             }
            },
            "type": "histogram"
           }
          ],
          "histogram2d": [
           {
            "colorbar": {
             "outlinewidth": 0,
             "ticks": ""
            },
            "colorscale": [
             [
              0,
              "#0d0887"
             ],
             [
              0.1111111111111111,
              "#46039f"
             ],
             [
              0.2222222222222222,
              "#7201a8"
             ],
             [
              0.3333333333333333,
              "#9c179e"
             ],
             [
              0.4444444444444444,
              "#bd3786"
             ],
             [
              0.5555555555555556,
              "#d8576b"
             ],
             [
              0.6666666666666666,
              "#ed7953"
             ],
             [
              0.7777777777777778,
              "#fb9f3a"
             ],
             [
              0.8888888888888888,
              "#fdca26"
             ],
             [
              1,
              "#f0f921"
             ]
            ],
            "type": "histogram2d"
           }
          ],
          "histogram2dcontour": [
           {
            "colorbar": {
             "outlinewidth": 0,
             "ticks": ""
            },
            "colorscale": [
             [
              0,
              "#0d0887"
             ],
             [
              0.1111111111111111,
              "#46039f"
             ],
             [
              0.2222222222222222,
              "#7201a8"
             ],
             [
              0.3333333333333333,
              "#9c179e"
             ],
             [
              0.4444444444444444,
              "#bd3786"
             ],
             [
              0.5555555555555556,
              "#d8576b"
             ],
             [
              0.6666666666666666,
              "#ed7953"
             ],
             [
              0.7777777777777778,
              "#fb9f3a"
             ],
             [
              0.8888888888888888,
              "#fdca26"
             ],
             [
              1,
              "#f0f921"
             ]
            ],
            "type": "histogram2dcontour"
           }
          ],
          "mesh3d": [
           {
            "colorbar": {
             "outlinewidth": 0,
             "ticks": ""
            },
            "type": "mesh3d"
           }
          ],
          "parcoords": [
           {
            "line": {
             "colorbar": {
              "outlinewidth": 0,
              "ticks": ""
             }
            },
            "type": "parcoords"
           }
          ],
          "pie": [
           {
            "automargin": true,
            "type": "pie"
           }
          ],
          "scatter": [
           {
            "marker": {
             "colorbar": {
              "outlinewidth": 0,
              "ticks": ""
             }
            },
            "type": "scatter"
           }
          ],
          "scatter3d": [
           {
            "line": {
             "colorbar": {
              "outlinewidth": 0,
              "ticks": ""
             }
            },
            "marker": {
             "colorbar": {
              "outlinewidth": 0,
              "ticks": ""
             }
            },
            "type": "scatter3d"
           }
          ],
          "scattercarpet": [
           {
            "marker": {
             "colorbar": {
              "outlinewidth": 0,
              "ticks": ""
             }
            },
            "type": "scattercarpet"
           }
          ],
          "scattergeo": [
           {
            "marker": {
             "colorbar": {
              "outlinewidth": 0,
              "ticks": ""
             }
            },
            "type": "scattergeo"
           }
          ],
          "scattergl": [
           {
            "marker": {
             "colorbar": {
              "outlinewidth": 0,
              "ticks": ""
             }
            },
            "type": "scattergl"
           }
          ],
          "scattermapbox": [
           {
            "marker": {
             "colorbar": {
              "outlinewidth": 0,
              "ticks": ""
             }
            },
            "type": "scattermapbox"
           }
          ],
          "scatterpolar": [
           {
            "marker": {
             "colorbar": {
              "outlinewidth": 0,
              "ticks": ""
             }
            },
            "type": "scatterpolar"
           }
          ],
          "scatterpolargl": [
           {
            "marker": {
             "colorbar": {
              "outlinewidth": 0,
              "ticks": ""
             }
            },
            "type": "scatterpolargl"
           }
          ],
          "scatterternary": [
           {
            "marker": {
             "colorbar": {
              "outlinewidth": 0,
              "ticks": ""
             }
            },
            "type": "scatterternary"
           }
          ],
          "surface": [
           {
            "colorbar": {
             "outlinewidth": 0,
             "ticks": ""
            },
            "colorscale": [
             [
              0,
              "#0d0887"
             ],
             [
              0.1111111111111111,
              "#46039f"
             ],
             [
              0.2222222222222222,
              "#7201a8"
             ],
             [
              0.3333333333333333,
              "#9c179e"
             ],
             [
              0.4444444444444444,
              "#bd3786"
             ],
             [
              0.5555555555555556,
              "#d8576b"
             ],
             [
              0.6666666666666666,
              "#ed7953"
             ],
             [
              0.7777777777777778,
              "#fb9f3a"
             ],
             [
              0.8888888888888888,
              "#fdca26"
             ],
             [
              1,
              "#f0f921"
             ]
            ],
            "type": "surface"
           }
          ],
          "table": [
           {
            "cells": {
             "fill": {
              "color": "#EBF0F8"
             },
             "line": {
              "color": "white"
             }
            },
            "header": {
             "fill": {
              "color": "#C8D4E3"
             },
             "line": {
              "color": "white"
             }
            },
            "type": "table"
           }
          ]
         },
         "layout": {
          "annotationdefaults": {
           "arrowcolor": "#2a3f5f",
           "arrowhead": 0,
           "arrowwidth": 1
          },
          "coloraxis": {
           "colorbar": {
            "outlinewidth": 0,
            "ticks": ""
           }
          },
          "colorscale": {
           "diverging": [
            [
             0,
             "#8e0152"
            ],
            [
             0.1,
             "#c51b7d"
            ],
            [
             0.2,
             "#de77ae"
            ],
            [
             0.3,
             "#f1b6da"
            ],
            [
             0.4,
             "#fde0ef"
            ],
            [
             0.5,
             "#f7f7f7"
            ],
            [
             0.6,
             "#e6f5d0"
            ],
            [
             0.7,
             "#b8e186"
            ],
            [
             0.8,
             "#7fbc41"
            ],
            [
             0.9,
             "#4d9221"
            ],
            [
             1,
             "#276419"
            ]
           ],
           "sequential": [
            [
             0,
             "#0d0887"
            ],
            [
             0.1111111111111111,
             "#46039f"
            ],
            [
             0.2222222222222222,
             "#7201a8"
            ],
            [
             0.3333333333333333,
             "#9c179e"
            ],
            [
             0.4444444444444444,
             "#bd3786"
            ],
            [
             0.5555555555555556,
             "#d8576b"
            ],
            [
             0.6666666666666666,
             "#ed7953"
            ],
            [
             0.7777777777777778,
             "#fb9f3a"
            ],
            [
             0.8888888888888888,
             "#fdca26"
            ],
            [
             1,
             "#f0f921"
            ]
           ],
           "sequentialminus": [
            [
             0,
             "#0d0887"
            ],
            [
             0.1111111111111111,
             "#46039f"
            ],
            [
             0.2222222222222222,
             "#7201a8"
            ],
            [
             0.3333333333333333,
             "#9c179e"
            ],
            [
             0.4444444444444444,
             "#bd3786"
            ],
            [
             0.5555555555555556,
             "#d8576b"
            ],
            [
             0.6666666666666666,
             "#ed7953"
            ],
            [
             0.7777777777777778,
             "#fb9f3a"
            ],
            [
             0.8888888888888888,
             "#fdca26"
            ],
            [
             1,
             "#f0f921"
            ]
           ]
          },
          "colorway": [
           "#636efa",
           "#EF553B",
           "#00cc96",
           "#ab63fa",
           "#FFA15A",
           "#19d3f3",
           "#FF6692",
           "#B6E880",
           "#FF97FF",
           "#FECB52"
          ],
          "font": {
           "color": "#2a3f5f"
          },
          "geo": {
           "bgcolor": "white",
           "lakecolor": "white",
           "landcolor": "#E5ECF6",
           "showlakes": true,
           "showland": true,
           "subunitcolor": "white"
          },
          "hoverlabel": {
           "align": "left"
          },
          "hovermode": "closest",
          "mapbox": {
           "style": "light"
          },
          "paper_bgcolor": "white",
          "plot_bgcolor": "#E5ECF6",
          "polar": {
           "angularaxis": {
            "gridcolor": "white",
            "linecolor": "white",
            "ticks": ""
           },
           "bgcolor": "#E5ECF6",
           "radialaxis": {
            "gridcolor": "white",
            "linecolor": "white",
            "ticks": ""
           }
          },
          "scene": {
           "xaxis": {
            "backgroundcolor": "#E5ECF6",
            "gridcolor": "white",
            "gridwidth": 2,
            "linecolor": "white",
            "showbackground": true,
            "ticks": "",
            "zerolinecolor": "white"
           },
           "yaxis": {
            "backgroundcolor": "#E5ECF6",
            "gridcolor": "white",
            "gridwidth": 2,
            "linecolor": "white",
            "showbackground": true,
            "ticks": "",
            "zerolinecolor": "white"
           },
           "zaxis": {
            "backgroundcolor": "#E5ECF6",
            "gridcolor": "white",
            "gridwidth": 2,
            "linecolor": "white",
            "showbackground": true,
            "ticks": "",
            "zerolinecolor": "white"
           }
          },
          "shapedefaults": {
           "line": {
            "color": "#2a3f5f"
           }
          },
          "ternary": {
           "aaxis": {
            "gridcolor": "white",
            "linecolor": "white",
            "ticks": ""
           },
           "baxis": {
            "gridcolor": "white",
            "linecolor": "white",
            "ticks": ""
           },
           "bgcolor": "#E5ECF6",
           "caxis": {
            "gridcolor": "white",
            "linecolor": "white",
            "ticks": ""
           }
          },
          "title": {
           "x": 0.05
          },
          "xaxis": {
           "automargin": true,
           "gridcolor": "white",
           "linecolor": "white",
           "ticks": "",
           "title": {
            "standoff": 15
           },
           "zerolinecolor": "white",
           "zerolinewidth": 2
          },
          "yaxis": {
           "automargin": true,
           "gridcolor": "white",
           "linecolor": "white",
           "ticks": "",
           "title": {
            "standoff": 15
           },
           "zerolinecolor": "white",
           "zerolinewidth": 2
          }
         }
        },
        "title": {
         "font": {
          "color": "#4D5663"
         },
         "text": "placement According to Degree Percentage"
        },
        "xaxis": {
         "gridcolor": "#E1E5ED",
         "showgrid": true,
         "tickfont": {
          "color": "#4D5663"
         },
         "title": {
          "font": {
           "color": "#4D5663"
          },
          "text": "MBA Percentage"
         },
         "zerolinecolor": "#E1E5ED"
        },
        "yaxis": {
         "gridcolor": "#E1E5ED",
         "showgrid": true,
         "tickfont": {
          "color": "#4D5663"
         },
         "title": {
          "font": {
           "color": "#4D5663"
          },
          "text": "Count"
         },
         "zerolinecolor": "#E1E5ED"
        }
       }
      },
      "text/html": [
       "<div>\n",
       "        \n",
       "        \n",
       "            <div id=\"f7da82d1-ca13-474e-86b0-857e992ef345\" class=\"plotly-graph-div\" style=\"height:525px; width:100%;\"></div>\n",
       "            <script type=\"text/javascript\">\n",
       "                require([\"plotly\"], function(Plotly) {\n",
       "                    window.PLOTLYENV=window.PLOTLYENV || {};\n",
       "                    window.PLOTLYENV.BASE_URL='https://plot.ly';\n",
       "                    \n",
       "                if (document.getElementById(\"f7da82d1-ca13-474e-86b0-857e992ef345\")) {\n",
       "                    Plotly.newPlot(\n",
       "                        'f7da82d1-ca13-474e-86b0-857e992ef345',\n",
       "                        [{\"histfunc\": \"count\", \"histnorm\": \"\", \"marker\": {\"color\": \"rgba(255, 153, 51, 1.0)\", \"line\": {\"color\": \"#4D5663\", \"width\": 1.3}}, \"name\": \"Placed\", \"nbinsx\": 10, \"opacity\": 0.8, \"orientation\": \"v\", \"type\": \"histogram\", \"x\": [58.8, 66.28, 57.8, null, 55.5, null, null, 62.14, 61.29, null, 60.85, 63.7, null, 68.63, null, 64.66, 62.54, null, null, 77.89, 56.7, 69.06, 68.81, 63.62, 74.01, null, 57.55, 57.69, 64.15, null, 56.7, null, 62.21, 72.78, null, 62.74, null, 55.47, 56.86, 62.56, 66.72, null, null, 62.9, 69.7, null, null, 54.55, 62.46, null, 62.98, null, null, 71.04, 65.56, 52.71, 66.88, 63.59, 57.99, 56.66, 57.24, 62.48, 59.69, null, 58.78, null, 58.46, 60.99, null, 68.07, 65.45, 66.94, 68.53, 59.75, 67.2, null, 64.27, 57.65, 59.42, null, 62.35, 70.2, null, 66.69, 62.0, 76.18, 57.03, null, 64.36, 62.36, 68.03, null, 59.47, null, 54.97, 62.16, 64.44, null, 57.31, null, null, 60.44, 61.31, 65.83, 58.23, null, null, 73.52, 58.31, null, 54.8, null, 53.94, 63.08, 55.01, 60.5, 70.85, 67.05, 70.48, 64.34, null, 71.49, 71.0, 56.7, 61.26, 73.33, 68.2, 58.4, 76.26, 68.55, null, 60.78, 53.49, 60.98, 67.13, 65.63, null, 60.41, 71.77, 54.43, 56.94, null, 61.29, 60.39, null, 63.23, 55.14, 62.28, 64.08, null, 61.3, 58.87, 65.25, 62.48, 53.2, null, 52.72, 55.03, null, null, 72.29, null, 66.06, 66.46, 65.52, null, 52.38, null, null, null, null, 66.04, 52.64, null, 66.23, null, 57.9, 70.81, 68.07, null, 56.6, null, null, 61.82, null, 71.43, null, 64.86, null, null, null, 61.01, 57.34, 56.63, null, 58.95, 54.48, 69.71, null, 55.8, 52.81, null, 60.11, 58.3, 67.69, 56.81, null, 71.55, null, 56.49, 74.49, 53.62, 69.72, 60.23, null]}, {\"histfunc\": \"count\", \"histnorm\": \"\", \"marker\": {\"color\": \"rgba(55, 128, 191, 1.0)\", \"line\": {\"color\": \"#4D5663\", \"width\": 1.3}}, \"name\": \"Not Placed\", \"nbinsx\": 10, \"opacity\": 0.8, \"orientation\": \"v\", \"type\": \"histogram\", \"x\": [null, null, null, 59.43, null, 51.58, 53.29, null, null, 52.21, null, null, 65.04, null, 54.96, null, null, 67.28, 64.08, null, null, null, null, null, null, 65.33, null, null, null, 51.29, null, 58.32, null, null, 62.77, null, 51.45, null, null, null, null, 69.76, 51.21, null, null, 66.53, 71.63, null, null, 56.11, null, 62.65, 65.49, null, null, null, null, null, null, null, null, null, null, 59.5, null, 57.1, null, null, 59.24, null, null, null, null, null, null, 67.0, null, null, null, 67.99, null, null, 60.44, null, null, null, null, 59.08, null, null, null, 62.79, null, 55.41, null, null, null, 69.03, null, 59.47, 64.95, null, null, null, null, 55.3, 65.69, null, null, 56.09, null, 60.64, null, null, null, null, null, null, null, null, 58.81, null, null, null, null, null, null, null, null, null, 64.15, null, null, null, null, null, 61.58, null, null, null, null, 61.9, null, null, 58.52, null, null, null, null, 58.54, null, null, null, null, null, 65.99, null, null, 61.87, 60.59, null, 62.72, null, null, null, 74.56, null, 75.71, 58.79, 65.48, 69.28, null, null, 59.32, null, 60.69, null, null, null, 72.14, null, 60.02, 59.81, null, 57.29, null, 62.93, null, 56.13, 66.94, 62.5, null, null, null, 64.74, null, null, null, 71.96, null, null, 58.44, null, null, null, null, 53.39, null, 62.92, null, null, null, null, null, 60.22]}],\n",
       "                        {\"barmode\": \"overlay\", \"legend\": {\"bgcolor\": \"#FFFFFF\", \"font\": {\"color\": \"#4D5663\"}}, \"paper_bgcolor\": \"#FFFFFF\", \"plot_bgcolor\": \"#FFFFFF\", \"template\": {\"data\": {\"bar\": [{\"error_x\": {\"color\": \"#2a3f5f\"}, \"error_y\": {\"color\": \"#2a3f5f\"}, \"marker\": {\"line\": {\"color\": \"#E5ECF6\", \"width\": 0.5}}, \"type\": \"bar\"}], \"barpolar\": [{\"marker\": {\"line\": {\"color\": \"#E5ECF6\", \"width\": 0.5}}, \"type\": \"barpolar\"}], \"carpet\": [{\"aaxis\": {\"endlinecolor\": \"#2a3f5f\", \"gridcolor\": \"white\", \"linecolor\": \"white\", \"minorgridcolor\": \"white\", \"startlinecolor\": \"#2a3f5f\"}, \"baxis\": {\"endlinecolor\": \"#2a3f5f\", \"gridcolor\": \"white\", \"linecolor\": \"white\", \"minorgridcolor\": \"white\", \"startlinecolor\": \"#2a3f5f\"}, \"type\": \"carpet\"}], \"choropleth\": [{\"colorbar\": {\"outlinewidth\": 0, \"ticks\": \"\"}, \"type\": \"choropleth\"}], \"contour\": [{\"colorbar\": {\"outlinewidth\": 0, \"ticks\": \"\"}, \"colorscale\": [[0.0, \"#0d0887\"], [0.1111111111111111, \"#46039f\"], [0.2222222222222222, \"#7201a8\"], [0.3333333333333333, \"#9c179e\"], [0.4444444444444444, \"#bd3786\"], [0.5555555555555556, \"#d8576b\"], [0.6666666666666666, \"#ed7953\"], [0.7777777777777778, \"#fb9f3a\"], [0.8888888888888888, \"#fdca26\"], [1.0, \"#f0f921\"]], \"type\": \"contour\"}], \"contourcarpet\": [{\"colorbar\": {\"outlinewidth\": 0, \"ticks\": \"\"}, \"type\": \"contourcarpet\"}], \"heatmap\": [{\"colorbar\": {\"outlinewidth\": 0, \"ticks\": \"\"}, \"colorscale\": [[0.0, \"#0d0887\"], [0.1111111111111111, \"#46039f\"], [0.2222222222222222, \"#7201a8\"], [0.3333333333333333, \"#9c179e\"], [0.4444444444444444, \"#bd3786\"], [0.5555555555555556, \"#d8576b\"], [0.6666666666666666, \"#ed7953\"], [0.7777777777777778, \"#fb9f3a\"], [0.8888888888888888, \"#fdca26\"], [1.0, \"#f0f921\"]], \"type\": \"heatmap\"}], \"heatmapgl\": [{\"colorbar\": {\"outlinewidth\": 0, \"ticks\": \"\"}, \"colorscale\": [[0.0, \"#0d0887\"], [0.1111111111111111, \"#46039f\"], [0.2222222222222222, \"#7201a8\"], [0.3333333333333333, \"#9c179e\"], [0.4444444444444444, \"#bd3786\"], [0.5555555555555556, \"#d8576b\"], [0.6666666666666666, \"#ed7953\"], [0.7777777777777778, \"#fb9f3a\"], [0.8888888888888888, \"#fdca26\"], [1.0, \"#f0f921\"]], \"type\": \"heatmapgl\"}], \"histogram\": [{\"marker\": {\"colorbar\": {\"outlinewidth\": 0, \"ticks\": \"\"}}, \"type\": \"histogram\"}], \"histogram2d\": [{\"colorbar\": {\"outlinewidth\": 0, \"ticks\": \"\"}, \"colorscale\": [[0.0, \"#0d0887\"], [0.1111111111111111, \"#46039f\"], [0.2222222222222222, \"#7201a8\"], [0.3333333333333333, \"#9c179e\"], [0.4444444444444444, \"#bd3786\"], [0.5555555555555556, \"#d8576b\"], [0.6666666666666666, \"#ed7953\"], [0.7777777777777778, \"#fb9f3a\"], [0.8888888888888888, \"#fdca26\"], [1.0, \"#f0f921\"]], \"type\": \"histogram2d\"}], \"histogram2dcontour\": [{\"colorbar\": {\"outlinewidth\": 0, \"ticks\": \"\"}, \"colorscale\": [[0.0, \"#0d0887\"], [0.1111111111111111, \"#46039f\"], [0.2222222222222222, \"#7201a8\"], [0.3333333333333333, \"#9c179e\"], [0.4444444444444444, \"#bd3786\"], [0.5555555555555556, \"#d8576b\"], [0.6666666666666666, \"#ed7953\"], [0.7777777777777778, \"#fb9f3a\"], [0.8888888888888888, \"#fdca26\"], [1.0, \"#f0f921\"]], \"type\": \"histogram2dcontour\"}], \"mesh3d\": [{\"colorbar\": {\"outlinewidth\": 0, \"ticks\": \"\"}, \"type\": \"mesh3d\"}], \"parcoords\": [{\"line\": {\"colorbar\": {\"outlinewidth\": 0, \"ticks\": \"\"}}, \"type\": \"parcoords\"}], \"pie\": [{\"automargin\": true, \"type\": \"pie\"}], \"scatter\": [{\"marker\": {\"colorbar\": {\"outlinewidth\": 0, \"ticks\": \"\"}}, \"type\": \"scatter\"}], \"scatter3d\": [{\"line\": {\"colorbar\": {\"outlinewidth\": 0, \"ticks\": \"\"}}, \"marker\": {\"colorbar\": {\"outlinewidth\": 0, \"ticks\": \"\"}}, \"type\": \"scatter3d\"}], \"scattercarpet\": [{\"marker\": {\"colorbar\": {\"outlinewidth\": 0, \"ticks\": \"\"}}, \"type\": \"scattercarpet\"}], \"scattergeo\": [{\"marker\": {\"colorbar\": {\"outlinewidth\": 0, \"ticks\": \"\"}}, \"type\": \"scattergeo\"}], \"scattergl\": [{\"marker\": {\"colorbar\": {\"outlinewidth\": 0, \"ticks\": \"\"}}, \"type\": \"scattergl\"}], \"scattermapbox\": [{\"marker\": {\"colorbar\": {\"outlinewidth\": 0, \"ticks\": \"\"}}, \"type\": \"scattermapbox\"}], \"scatterpolar\": [{\"marker\": {\"colorbar\": {\"outlinewidth\": 0, \"ticks\": \"\"}}, \"type\": \"scatterpolar\"}], \"scatterpolargl\": [{\"marker\": {\"colorbar\": {\"outlinewidth\": 0, \"ticks\": \"\"}}, \"type\": \"scatterpolargl\"}], \"scatterternary\": [{\"marker\": {\"colorbar\": {\"outlinewidth\": 0, \"ticks\": \"\"}}, \"type\": \"scatterternary\"}], \"surface\": [{\"colorbar\": {\"outlinewidth\": 0, \"ticks\": \"\"}, \"colorscale\": [[0.0, \"#0d0887\"], [0.1111111111111111, \"#46039f\"], [0.2222222222222222, \"#7201a8\"], [0.3333333333333333, \"#9c179e\"], [0.4444444444444444, \"#bd3786\"], [0.5555555555555556, \"#d8576b\"], [0.6666666666666666, \"#ed7953\"], [0.7777777777777778, \"#fb9f3a\"], [0.8888888888888888, \"#fdca26\"], [1.0, \"#f0f921\"]], \"type\": \"surface\"}], \"table\": [{\"cells\": {\"fill\": {\"color\": \"#EBF0F8\"}, \"line\": {\"color\": \"white\"}}, \"header\": {\"fill\": {\"color\": \"#C8D4E3\"}, \"line\": {\"color\": \"white\"}}, \"type\": \"table\"}]}, \"layout\": {\"annotationdefaults\": {\"arrowcolor\": \"#2a3f5f\", \"arrowhead\": 0, \"arrowwidth\": 1}, \"coloraxis\": {\"colorbar\": {\"outlinewidth\": 0, \"ticks\": \"\"}}, \"colorscale\": {\"diverging\": [[0, \"#8e0152\"], [0.1, \"#c51b7d\"], [0.2, \"#de77ae\"], [0.3, \"#f1b6da\"], [0.4, \"#fde0ef\"], [0.5, \"#f7f7f7\"], [0.6, \"#e6f5d0\"], [0.7, \"#b8e186\"], [0.8, \"#7fbc41\"], [0.9, \"#4d9221\"], [1, \"#276419\"]], \"sequential\": [[0.0, \"#0d0887\"], [0.1111111111111111, \"#46039f\"], [0.2222222222222222, \"#7201a8\"], [0.3333333333333333, \"#9c179e\"], [0.4444444444444444, \"#bd3786\"], [0.5555555555555556, \"#d8576b\"], [0.6666666666666666, \"#ed7953\"], [0.7777777777777778, \"#fb9f3a\"], [0.8888888888888888, \"#fdca26\"], [1.0, \"#f0f921\"]], \"sequentialminus\": [[0.0, \"#0d0887\"], [0.1111111111111111, \"#46039f\"], [0.2222222222222222, \"#7201a8\"], [0.3333333333333333, \"#9c179e\"], [0.4444444444444444, \"#bd3786\"], [0.5555555555555556, \"#d8576b\"], [0.6666666666666666, \"#ed7953\"], [0.7777777777777778, \"#fb9f3a\"], [0.8888888888888888, \"#fdca26\"], [1.0, \"#f0f921\"]]}, \"colorway\": [\"#636efa\", \"#EF553B\", \"#00cc96\", \"#ab63fa\", \"#FFA15A\", \"#19d3f3\", \"#FF6692\", \"#B6E880\", \"#FF97FF\", \"#FECB52\"], \"font\": {\"color\": \"#2a3f5f\"}, \"geo\": {\"bgcolor\": \"white\", \"lakecolor\": \"white\", \"landcolor\": \"#E5ECF6\", \"showlakes\": true, \"showland\": true, \"subunitcolor\": \"white\"}, \"hoverlabel\": {\"align\": \"left\"}, \"hovermode\": \"closest\", \"mapbox\": {\"style\": \"light\"}, \"paper_bgcolor\": \"white\", \"plot_bgcolor\": \"#E5ECF6\", \"polar\": {\"angularaxis\": {\"gridcolor\": \"white\", \"linecolor\": \"white\", \"ticks\": \"\"}, \"bgcolor\": \"#E5ECF6\", \"radialaxis\": {\"gridcolor\": \"white\", \"linecolor\": \"white\", \"ticks\": \"\"}}, \"scene\": {\"xaxis\": {\"backgroundcolor\": \"#E5ECF6\", \"gridcolor\": \"white\", \"gridwidth\": 2, \"linecolor\": \"white\", \"showbackground\": true, \"ticks\": \"\", \"zerolinecolor\": \"white\"}, \"yaxis\": {\"backgroundcolor\": \"#E5ECF6\", \"gridcolor\": \"white\", \"gridwidth\": 2, \"linecolor\": \"white\", \"showbackground\": true, \"ticks\": \"\", \"zerolinecolor\": \"white\"}, \"zaxis\": {\"backgroundcolor\": \"#E5ECF6\", \"gridcolor\": \"white\", \"gridwidth\": 2, \"linecolor\": \"white\", \"showbackground\": true, \"ticks\": \"\", \"zerolinecolor\": \"white\"}}, \"shapedefaults\": {\"line\": {\"color\": \"#2a3f5f\"}}, \"ternary\": {\"aaxis\": {\"gridcolor\": \"white\", \"linecolor\": \"white\", \"ticks\": \"\"}, \"baxis\": {\"gridcolor\": \"white\", \"linecolor\": \"white\", \"ticks\": \"\"}, \"bgcolor\": \"#E5ECF6\", \"caxis\": {\"gridcolor\": \"white\", \"linecolor\": \"white\", \"ticks\": \"\"}}, \"title\": {\"x\": 0.05}, \"xaxis\": {\"automargin\": true, \"gridcolor\": \"white\", \"linecolor\": \"white\", \"ticks\": \"\", \"title\": {\"standoff\": 15}, \"zerolinecolor\": \"white\", \"zerolinewidth\": 2}, \"yaxis\": {\"automargin\": true, \"gridcolor\": \"white\", \"linecolor\": \"white\", \"ticks\": \"\", \"title\": {\"standoff\": 15}, \"zerolinecolor\": \"white\", \"zerolinewidth\": 2}}}, \"title\": {\"font\": {\"color\": \"#4D5663\"}, \"text\": \"placement According to Degree Percentage\"}, \"xaxis\": {\"gridcolor\": \"#E1E5ED\", \"showgrid\": true, \"tickfont\": {\"color\": \"#4D5663\"}, \"title\": {\"font\": {\"color\": \"#4D5663\"}, \"text\": \"MBA Percentage\"}, \"zerolinecolor\": \"#E1E5ED\"}, \"yaxis\": {\"gridcolor\": \"#E1E5ED\", \"showgrid\": true, \"tickfont\": {\"color\": \"#4D5663\"}, \"title\": {\"font\": {\"color\": \"#4D5663\"}, \"text\": \"Count\"}, \"zerolinecolor\": \"#E1E5ED\"}},\n",
       "                        {\"showLink\": true, \"linkText\": \"Export to plot.ly\", \"plotlyServerURL\": \"https://plot.ly\", \"responsive\": true}\n",
       "                    ).then(function(){\n",
       "                            \n",
       "var gd = document.getElementById('f7da82d1-ca13-474e-86b0-857e992ef345');\n",
       "var x = new MutationObserver(function (mutations, observer) {{\n",
       "        var display = window.getComputedStyle(gd).display;\n",
       "        if (!display || display === 'none') {{\n",
       "            console.log([gd, 'removed!']);\n",
       "            Plotly.purge(gd);\n",
       "            observer.disconnect();\n",
       "        }}\n",
       "}});\n",
       "\n",
       "// Listen for the removal of the full notebook cells\n",
       "var notebookContainer = gd.closest('#notebook-container');\n",
       "if (notebookContainer) {{\n",
       "    x.observe(notebookContainer, {childList: true});\n",
       "}}\n",
       "\n",
       "// Listen for the clearing of the current output cell\n",
       "var outputEl = gd.closest('.output');\n",
       "if (outputEl) {{\n",
       "    x.observe(outputEl, {childList: true});\n",
       "}}\n",
       "\n",
       "                        })\n",
       "                };\n",
       "                });\n",
       "            </script>\n",
       "        </div>"
      ]
     },
     "metadata": {},
     "output_type": "display_data"
    }
   ],
   "source": [
    "camp[\"Placed\"]=camp[camp[\"status\"]==\"Placed\"][\"mba_p\"]\n",
    "camp[\"Not Placed\"]=camp[camp[\"status\"]==\"Not Placed\"][\"mba_p\"]\n",
    "camp[[\"Placed\",\"Not Placed\"]].iplot(kind=\"histogram\", bins=10, theme=\"white\", title=\"placement According to Degree Percentage\",\n",
    "         xTitle='MBA Percentage', yTitle='Count')"
   ]
  },
  {
   "cell_type": "code",
   "execution_count": 22,
   "metadata": {},
   "outputs": [],
   "source": [
    "def status_to_numeric(x):\n",
    "    if x=='Placed':\n",
    "        return 1\n",
    "    if x=='Not Placed':\n",
    "        return 0\n",
    "   "
   ]
  },
  {
   "cell_type": "code",
   "execution_count": 23,
   "metadata": {},
   "outputs": [],
   "source": [
    "def workex_to_numeric(x):\n",
    "    if x=='Yes':\n",
    "        return 1\n",
    "    if x=='No':\n",
    "        return 0\n",
    "   "
   ]
  },
  {
   "cell_type": "code",
   "execution_count": 24,
   "metadata": {},
   "outputs": [],
   "source": [
    "camp['status_num'] = camp['status'].apply(status_to_numeric)\n",
    "camp['workex_num'] = camp['workex'].apply(workex_to_numeric)"
   ]
  },
  {
   "cell_type": "code",
   "execution_count": 25,
   "metadata": {
    "scrolled": true
   },
   "outputs": [
    {
     "name": "stderr",
     "output_type": "stream",
     "text": [
      "C:\\Users\\ralla\\Anaconda3\\lib\\site-packages\\cufflinks\\plotlytools.py:807: FutureWarning:\n",
      "\n",
      "The pandas.np module is deprecated and will be removed from pandas in a future version. Import numpy directly instead\n",
      "\n",
      "C:\\Users\\ralla\\Anaconda3\\lib\\site-packages\\cufflinks\\plotlytools.py:810: FutureWarning:\n",
      "\n",
      "The pandas.np module is deprecated and will be removed from pandas in a future version. Import numpy directly instead\n",
      "\n"
     ]
    },
    {
     "data": {
      "application/vnd.plotly.v1+json": {
       "config": {
        "linkText": "Export to plot.ly",
        "plotlyServerURL": "https://plot.ly",
        "showLink": true
       },
       "data": [
        {
         "marker": {
          "color": "rgba(255, 153, 51, 1.0)",
          "line": {
           "width": 1.3
          },
          "opacity": 0.8,
          "size": [
           12,
           112,
           12,
           12,
           112,
           12,
           112,
           112,
           12,
           112,
           112,
           112,
           12,
           12,
           12,
           112,
           12,
           112,
           12,
           112,
           12,
           12,
           112,
           12,
           12,
           12,
           12,
           12,
           12,
           112,
           112,
           12,
           12,
           12,
           12,
           12,
           12,
           12,
           12,
           12,
           112,
           12,
           12,
           12,
           12,
           12,
           112,
           12,
           12,
           12,
           12,
           12,
           12,
           112,
           12,
           112,
           112,
           112,
           112,
           112,
           12,
           12,
           112,
           12,
           12,
           12,
           112,
           112,
           12,
           12,
           112,
           112,
           112,
           12,
           12,
           12,
           12,
           12,
           12,
           12,
           112,
           12,
           112,
           112,
           112,
           112,
           112,
           112,
           12,
           112,
           12,
           112,
           112,
           112,
           112,
           112,
           112,
           12,
           12,
           112,
           112,
           112,
           112,
           12,
           12,
           12,
           12,
           12,
           112,
           12,
           12,
           112,
           112,
           112,
           12,
           112,
           112,
           12,
           12,
           112,
           112,
           12,
           112,
           12,
           112,
           12,
           112,
           12,
           12,
           112,
           12,
           112,
           112,
           112,
           112,
           12,
           12,
           12,
           12,
           12,
           112,
           12,
           112,
           12,
           12,
           12,
           112,
           12
          ],
          "symbol": "circle"
         },
         "mode": "markers",
         "name": "Placed",
         "text": [
          "No",
          "Yes",
          "No",
          "No",
          "Yes",
          "No",
          "Yes",
          "Yes",
          "No",
          "Yes",
          "Yes",
          "Yes",
          "No",
          "No",
          "No",
          "Yes",
          "No",
          "Yes",
          "No",
          "Yes",
          "No",
          "No",
          "Yes",
          "No",
          "No",
          "No",
          "No",
          "No",
          "No",
          "Yes",
          "Yes",
          "No",
          "No",
          "No",
          "No",
          "No",
          "No",
          "No",
          "No",
          "No",
          "Yes",
          "No",
          "No",
          "No",
          "No",
          "No",
          "Yes",
          "No",
          "No",
          "No",
          "No",
          "No",
          "No",
          "Yes",
          "No",
          "Yes",
          "Yes",
          "Yes",
          "Yes",
          "Yes",
          "No",
          "No",
          "Yes",
          "No",
          "No",
          "No",
          "Yes",
          "Yes",
          "No",
          "No",
          "Yes",
          "Yes",
          "Yes",
          "No",
          "No",
          "No",
          "No",
          "No",
          "No",
          "No",
          "Yes",
          "No",
          "Yes",
          "Yes",
          "Yes",
          "Yes",
          "Yes",
          "Yes",
          "No",
          "Yes",
          "No",
          "Yes",
          "Yes",
          "Yes",
          "Yes",
          "Yes",
          "Yes",
          "No",
          "No",
          "Yes",
          "Yes",
          "Yes",
          "Yes",
          "No",
          "No",
          "No",
          "No",
          "No",
          "Yes",
          "No",
          "No",
          "Yes",
          "Yes",
          "Yes",
          "No",
          "Yes",
          "Yes",
          "No",
          "No",
          "Yes",
          "Yes",
          "No",
          "Yes",
          "No",
          "Yes",
          "No",
          "Yes",
          "No",
          "No",
          "Yes",
          "No",
          "Yes",
          "Yes",
          "Yes",
          "Yes",
          "No",
          "No",
          "No",
          "No",
          "No",
          "Yes",
          "No",
          "Yes",
          "No",
          "No",
          "No",
          "Yes",
          "No"
         ],
         "textfont": {
          "color": "#4D5663"
         },
         "type": "scatter",
         "x": [
          91,
          78.33,
          68,
          73.6,
          64,
          79,
          61,
          68.4,
          87,
          75,
          66.2,
          67,
          65,
          76,
          60.8,
          60,
          97.7,
          79,
          67,
          76.5,
          73.5,
          81,
          65,
          78,
          76,
          58,
          68,
          77,
          87,
          73,
          60,
          62,
          73.2,
          70,
          60,
          66.6,
          71.4,
          76,
          62,
          65.58,
          70,
          73.4,
          64.2,
          73,
          74,
          78.5,
          73,
          61,
          70.29,
          67,
          83.83,
          64.8,
          70.4,
          80,
          90.9,
          62,
          63,
          79,
          63,
          89.83,
          63,
          62,
          75,
          90,
          69,
          62,
          78,
          70,
          73,
          72,
          61,
          78,
          63,
          90,
          82,
          70,
          61,
          79,
          68,
          63,
          72.8,
          75,
          80,
          68.4,
          67,
          66.8,
          59,
          71,
          73,
          61,
          60,
          73.4,
          89.7,
          57,
          68,
          64,
          92,
          56,
          63,
          64,
          70,
          64.8,
          60,
          64.89,
          65.66,
          63,
          74,
          86,
          58.66,
          65,
          60.5,
          59,
          63,
          69.4,
          62.5,
          74,
          87.6,
          67,
          72.5,
          62,
          80,
          58,
          50.83,
          60,
          97,
          56,
          71.5,
          77,
          72,
          65.5,
          61,
          61.4,
          63,
          76,
          63,
          53,
          65,
          60,
          63,
          61.33,
          73,
          62,
          78,
          72,
          82,
          60,
          67,
          66
         ],
         "y": [
          67,
          79.33,
          65,
          85.8,
          82,
          73,
          58,
          69.6,
          77,
          65,
          63,
          60,
          62,
          79,
          69.8,
          77.4,
          76.5,
          71,
          63,
          76.76,
          64,
          61,
          87,
          69,
          79,
          73,
          81,
          78,
          87,
          77,
          63,
          63,
          75.2,
          80,
          74,
          60.4,
          63,
          68,
          74,
          52.6,
          74,
          84.2,
          86.5,
          80,
          83,
          80.92,
          73,
          82,
          75,
          84.86,
          64.6,
          56.6,
          66.5,
          64,
          84,
          69,
          81.7,
          84,
          70,
          83.84,
          62,
          66,
          84,
          85,
          60.23,
          58,
          73,
          76,
          69,
          63,
          77,
          73,
          69,
          82,
          61,
          69.5,
          58,
          73.96,
          65,
          73,
          68.2,
          77,
          76,
          60.8,
          64,
          66.5,
          74,
          67,
          84,
          79,
          72,
          80.4,
          76.7,
          74.9,
          67,
          73,
          77.44,
          72,
          67,
          82,
          77,
          65,
          85,
          77.67,
          89.4,
          62,
          70,
          77,
          71,
          65,
          75.4,
          49,
          53,
          84.2,
          66.5,
          87,
          74.2,
          63,
          67.16,
          62,
          80,
          73,
          73.24,
          59,
          73,
          68,
          65,
          65,
          88,
          78.5,
          67,
          65.2,
          60,
          66,
          72,
          83.96,
          69,
          69,
          70,
          55.68,
          74,
          61,
          83.33,
          62,
          80.6,
          58,
          67,
          74
         ]
        },
        {
         "marker": {
          "color": "rgba(55, 128, 191, 1.0)",
          "line": {
           "width": 1.3
          },
          "opacity": 0.8,
          "size": [
           12,
           112,
           12,
           12,
           12,
           12,
           12,
           12,
           112,
           12,
           12,
           12,
           12,
           112,
           12,
           12,
           12,
           12,
           12,
           12,
           12,
           12,
           12,
           12,
           12,
           12,
           12,
           12,
           12,
           12,
           12,
           112,
           12,
           12,
           112,
           12,
           12,
           12,
           12,
           12,
           12,
           112,
           112,
           12,
           12,
           12,
           12,
           112,
           112,
           12,
           12,
           12,
           12,
           12,
           12,
           112,
           12,
           12,
           12,
           12,
           12,
           12,
           12,
           12,
           12,
           12,
           12
          ],
          "symbol": "circle"
         },
         "mode": "markers",
         "name": "Not Placed",
         "text": [
          "No",
          "Yes",
          "No",
          "No",
          "No",
          "No",
          "No",
          "No",
          "Yes",
          "No",
          "No",
          "No",
          "No",
          "Yes",
          "No",
          "No",
          "No",
          "No",
          "No",
          "No",
          "No",
          "No",
          "No",
          "No",
          "No",
          "No",
          "No",
          "No",
          "No",
          "No",
          "No",
          "Yes",
          "No",
          "No",
          "Yes",
          "No",
          "No",
          "No",
          "No",
          "No",
          "No",
          "Yes",
          "Yes",
          "No",
          "No",
          "No",
          "No",
          "Yes",
          "Yes",
          "No",
          "No",
          "No",
          "No",
          "No",
          "No",
          "Yes",
          "No",
          "No",
          "No",
          "No",
          "No",
          "No",
          "No",
          "No",
          "No",
          "No",
          "No"
         ],
         "textfont": {
          "color": "#4D5663"
         },
         "type": "scatter",
         "x": [
          52,
          49.8,
          49.2,
          70,
          55,
          47,
          67,
          66,
          54.6,
          67,
          53,
          51,
          44,
          63.16,
          39,
          64,
          71.98,
          37,
          61.12,
          45.83,
          70,
          47,
          47,
          62,
          62,
          67,
          51,
          57,
          62,
          62.5,
          82,
          57,
          64,
          50,
          63,
          54,
          40,
          65,
          59,
          64,
          50,
          58,
          74.66,
          63,
          49,
          51,
          78.33,
          62,
          51,
          42.16,
          67.2,
          52,
          62,
          64,
          60.33,
          65,
          62.83,
          64,
          47,
          77.6,
          70.2,
          55,
          70,
          63,
          42,
          60,
          58
         ],
         "y": [
          56,
          55,
          46,
          58,
          47,
          62,
          55,
          63,
          52.58,
          62,
          67,
          62,
          51,
          74,
          49,
          76,
          70.89,
          50,
          54.4,
          40.89,
          61,
          54,
          69.7,
          59,
          69,
          63,
          59.6,
          52,
          52,
          70.5,
          54,
          45,
          59,
          61.08,
          52,
          51,
          58,
          62,
          47,
          66,
          52,
          44,
          51.57,
          67,
          52,
          55.6,
          63.3,
          67.9,
          48,
          59.96,
          63.4,
          52,
          63,
          77.8,
          62,
          52,
          56.28,
          52,
          61.8,
          54,
          64,
          52,
          67,
          54.2,
          41,
          43,
          62
         ]
        }
       ],
       "layout": {
        "legend": {
         "bgcolor": "#F5F6F9",
         "font": {
          "color": "#4D5663"
         }
        },
        "paper_bgcolor": "#F5F6F9",
        "plot_bgcolor": "#F5F6F9",
        "template": {
         "data": {
          "bar": [
           {
            "error_x": {
             "color": "#2a3f5f"
            },
            "error_y": {
             "color": "#2a3f5f"
            },
            "marker": {
             "line": {
              "color": "#E5ECF6",
              "width": 0.5
             }
            },
            "type": "bar"
           }
          ],
          "barpolar": [
           {
            "marker": {
             "line": {
              "color": "#E5ECF6",
              "width": 0.5
             }
            },
            "type": "barpolar"
           }
          ],
          "carpet": [
           {
            "aaxis": {
             "endlinecolor": "#2a3f5f",
             "gridcolor": "white",
             "linecolor": "white",
             "minorgridcolor": "white",
             "startlinecolor": "#2a3f5f"
            },
            "baxis": {
             "endlinecolor": "#2a3f5f",
             "gridcolor": "white",
             "linecolor": "white",
             "minorgridcolor": "white",
             "startlinecolor": "#2a3f5f"
            },
            "type": "carpet"
           }
          ],
          "choropleth": [
           {
            "colorbar": {
             "outlinewidth": 0,
             "ticks": ""
            },
            "type": "choropleth"
           }
          ],
          "contour": [
           {
            "colorbar": {
             "outlinewidth": 0,
             "ticks": ""
            },
            "colorscale": [
             [
              0,
              "#0d0887"
             ],
             [
              0.1111111111111111,
              "#46039f"
             ],
             [
              0.2222222222222222,
              "#7201a8"
             ],
             [
              0.3333333333333333,
              "#9c179e"
             ],
             [
              0.4444444444444444,
              "#bd3786"
             ],
             [
              0.5555555555555556,
              "#d8576b"
             ],
             [
              0.6666666666666666,
              "#ed7953"
             ],
             [
              0.7777777777777778,
              "#fb9f3a"
             ],
             [
              0.8888888888888888,
              "#fdca26"
             ],
             [
              1,
              "#f0f921"
             ]
            ],
            "type": "contour"
           }
          ],
          "contourcarpet": [
           {
            "colorbar": {
             "outlinewidth": 0,
             "ticks": ""
            },
            "type": "contourcarpet"
           }
          ],
          "heatmap": [
           {
            "colorbar": {
             "outlinewidth": 0,
             "ticks": ""
            },
            "colorscale": [
             [
              0,
              "#0d0887"
             ],
             [
              0.1111111111111111,
              "#46039f"
             ],
             [
              0.2222222222222222,
              "#7201a8"
             ],
             [
              0.3333333333333333,
              "#9c179e"
             ],
             [
              0.4444444444444444,
              "#bd3786"
             ],
             [
              0.5555555555555556,
              "#d8576b"
             ],
             [
              0.6666666666666666,
              "#ed7953"
             ],
             [
              0.7777777777777778,
              "#fb9f3a"
             ],
             [
              0.8888888888888888,
              "#fdca26"
             ],
             [
              1,
              "#f0f921"
             ]
            ],
            "type": "heatmap"
           }
          ],
          "heatmapgl": [
           {
            "colorbar": {
             "outlinewidth": 0,
             "ticks": ""
            },
            "colorscale": [
             [
              0,
              "#0d0887"
             ],
             [
              0.1111111111111111,
              "#46039f"
             ],
             [
              0.2222222222222222,
              "#7201a8"
             ],
             [
              0.3333333333333333,
              "#9c179e"
             ],
             [
              0.4444444444444444,
              "#bd3786"
             ],
             [
              0.5555555555555556,
              "#d8576b"
             ],
             [
              0.6666666666666666,
              "#ed7953"
             ],
             [
              0.7777777777777778,
              "#fb9f3a"
             ],
             [
              0.8888888888888888,
              "#fdca26"
             ],
             [
              1,
              "#f0f921"
             ]
            ],
            "type": "heatmapgl"
           }
          ],
          "histogram": [
           {
            "marker": {
             "colorbar": {
              "outlinewidth": 0,
              "ticks": ""
             }
            },
            "type": "histogram"
           }
          ],
          "histogram2d": [
           {
            "colorbar": {
             "outlinewidth": 0,
             "ticks": ""
            },
            "colorscale": [
             [
              0,
              "#0d0887"
             ],
             [
              0.1111111111111111,
              "#46039f"
             ],
             [
              0.2222222222222222,
              "#7201a8"
             ],
             [
              0.3333333333333333,
              "#9c179e"
             ],
             [
              0.4444444444444444,
              "#bd3786"
             ],
             [
              0.5555555555555556,
              "#d8576b"
             ],
             [
              0.6666666666666666,
              "#ed7953"
             ],
             [
              0.7777777777777778,
              "#fb9f3a"
             ],
             [
              0.8888888888888888,
              "#fdca26"
             ],
             [
              1,
              "#f0f921"
             ]
            ],
            "type": "histogram2d"
           }
          ],
          "histogram2dcontour": [
           {
            "colorbar": {
             "outlinewidth": 0,
             "ticks": ""
            },
            "colorscale": [
             [
              0,
              "#0d0887"
             ],
             [
              0.1111111111111111,
              "#46039f"
             ],
             [
              0.2222222222222222,
              "#7201a8"
             ],
             [
              0.3333333333333333,
              "#9c179e"
             ],
             [
              0.4444444444444444,
              "#bd3786"
             ],
             [
              0.5555555555555556,
              "#d8576b"
             ],
             [
              0.6666666666666666,
              "#ed7953"
             ],
             [
              0.7777777777777778,
              "#fb9f3a"
             ],
             [
              0.8888888888888888,
              "#fdca26"
             ],
             [
              1,
              "#f0f921"
             ]
            ],
            "type": "histogram2dcontour"
           }
          ],
          "mesh3d": [
           {
            "colorbar": {
             "outlinewidth": 0,
             "ticks": ""
            },
            "type": "mesh3d"
           }
          ],
          "parcoords": [
           {
            "line": {
             "colorbar": {
              "outlinewidth": 0,
              "ticks": ""
             }
            },
            "type": "parcoords"
           }
          ],
          "pie": [
           {
            "automargin": true,
            "type": "pie"
           }
          ],
          "scatter": [
           {
            "marker": {
             "colorbar": {
              "outlinewidth": 0,
              "ticks": ""
             }
            },
            "type": "scatter"
           }
          ],
          "scatter3d": [
           {
            "line": {
             "colorbar": {
              "outlinewidth": 0,
              "ticks": ""
             }
            },
            "marker": {
             "colorbar": {
              "outlinewidth": 0,
              "ticks": ""
             }
            },
            "type": "scatter3d"
           }
          ],
          "scattercarpet": [
           {
            "marker": {
             "colorbar": {
              "outlinewidth": 0,
              "ticks": ""
             }
            },
            "type": "scattercarpet"
           }
          ],
          "scattergeo": [
           {
            "marker": {
             "colorbar": {
              "outlinewidth": 0,
              "ticks": ""
             }
            },
            "type": "scattergeo"
           }
          ],
          "scattergl": [
           {
            "marker": {
             "colorbar": {
              "outlinewidth": 0,
              "ticks": ""
             }
            },
            "type": "scattergl"
           }
          ],
          "scattermapbox": [
           {
            "marker": {
             "colorbar": {
              "outlinewidth": 0,
              "ticks": ""
             }
            },
            "type": "scattermapbox"
           }
          ],
          "scatterpolar": [
           {
            "marker": {
             "colorbar": {
              "outlinewidth": 0,
              "ticks": ""
             }
            },
            "type": "scatterpolar"
           }
          ],
          "scatterpolargl": [
           {
            "marker": {
             "colorbar": {
              "outlinewidth": 0,
              "ticks": ""
             }
            },
            "type": "scatterpolargl"
           }
          ],
          "scatterternary": [
           {
            "marker": {
             "colorbar": {
              "outlinewidth": 0,
              "ticks": ""
             }
            },
            "type": "scatterternary"
           }
          ],
          "surface": [
           {
            "colorbar": {
             "outlinewidth": 0,
             "ticks": ""
            },
            "colorscale": [
             [
              0,
              "#0d0887"
             ],
             [
              0.1111111111111111,
              "#46039f"
             ],
             [
              0.2222222222222222,
              "#7201a8"
             ],
             [
              0.3333333333333333,
              "#9c179e"
             ],
             [
              0.4444444444444444,
              "#bd3786"
             ],
             [
              0.5555555555555556,
              "#d8576b"
             ],
             [
              0.6666666666666666,
              "#ed7953"
             ],
             [
              0.7777777777777778,
              "#fb9f3a"
             ],
             [
              0.8888888888888888,
              "#fdca26"
             ],
             [
              1,
              "#f0f921"
             ]
            ],
            "type": "surface"
           }
          ],
          "table": [
           {
            "cells": {
             "fill": {
              "color": "#EBF0F8"
             },
             "line": {
              "color": "white"
             }
            },
            "header": {
             "fill": {
              "color": "#C8D4E3"
             },
             "line": {
              "color": "white"
             }
            },
            "type": "table"
           }
          ]
         },
         "layout": {
          "annotationdefaults": {
           "arrowcolor": "#2a3f5f",
           "arrowhead": 0,
           "arrowwidth": 1
          },
          "coloraxis": {
           "colorbar": {
            "outlinewidth": 0,
            "ticks": ""
           }
          },
          "colorscale": {
           "diverging": [
            [
             0,
             "#8e0152"
            ],
            [
             0.1,
             "#c51b7d"
            ],
            [
             0.2,
             "#de77ae"
            ],
            [
             0.3,
             "#f1b6da"
            ],
            [
             0.4,
             "#fde0ef"
            ],
            [
             0.5,
             "#f7f7f7"
            ],
            [
             0.6,
             "#e6f5d0"
            ],
            [
             0.7,
             "#b8e186"
            ],
            [
             0.8,
             "#7fbc41"
            ],
            [
             0.9,
             "#4d9221"
            ],
            [
             1,
             "#276419"
            ]
           ],
           "sequential": [
            [
             0,
             "#0d0887"
            ],
            [
             0.1111111111111111,
             "#46039f"
            ],
            [
             0.2222222222222222,
             "#7201a8"
            ],
            [
             0.3333333333333333,
             "#9c179e"
            ],
            [
             0.4444444444444444,
             "#bd3786"
            ],
            [
             0.5555555555555556,
             "#d8576b"
            ],
            [
             0.6666666666666666,
             "#ed7953"
            ],
            [
             0.7777777777777778,
             "#fb9f3a"
            ],
            [
             0.8888888888888888,
             "#fdca26"
            ],
            [
             1,
             "#f0f921"
            ]
           ],
           "sequentialminus": [
            [
             0,
             "#0d0887"
            ],
            [
             0.1111111111111111,
             "#46039f"
            ],
            [
             0.2222222222222222,
             "#7201a8"
            ],
            [
             0.3333333333333333,
             "#9c179e"
            ],
            [
             0.4444444444444444,
             "#bd3786"
            ],
            [
             0.5555555555555556,
             "#d8576b"
            ],
            [
             0.6666666666666666,
             "#ed7953"
            ],
            [
             0.7777777777777778,
             "#fb9f3a"
            ],
            [
             0.8888888888888888,
             "#fdca26"
            ],
            [
             1,
             "#f0f921"
            ]
           ]
          },
          "colorway": [
           "#636efa",
           "#EF553B",
           "#00cc96",
           "#ab63fa",
           "#FFA15A",
           "#19d3f3",
           "#FF6692",
           "#B6E880",
           "#FF97FF",
           "#FECB52"
          ],
          "font": {
           "color": "#2a3f5f"
          },
          "geo": {
           "bgcolor": "white",
           "lakecolor": "white",
           "landcolor": "#E5ECF6",
           "showlakes": true,
           "showland": true,
           "subunitcolor": "white"
          },
          "hoverlabel": {
           "align": "left"
          },
          "hovermode": "closest",
          "mapbox": {
           "style": "light"
          },
          "paper_bgcolor": "white",
          "plot_bgcolor": "#E5ECF6",
          "polar": {
           "angularaxis": {
            "gridcolor": "white",
            "linecolor": "white",
            "ticks": ""
           },
           "bgcolor": "#E5ECF6",
           "radialaxis": {
            "gridcolor": "white",
            "linecolor": "white",
            "ticks": ""
           }
          },
          "scene": {
           "xaxis": {
            "backgroundcolor": "#E5ECF6",
            "gridcolor": "white",
            "gridwidth": 2,
            "linecolor": "white",
            "showbackground": true,
            "ticks": "",
            "zerolinecolor": "white"
           },
           "yaxis": {
            "backgroundcolor": "#E5ECF6",
            "gridcolor": "white",
            "gridwidth": 2,
            "linecolor": "white",
            "showbackground": true,
            "ticks": "",
            "zerolinecolor": "white"
           },
           "zaxis": {
            "backgroundcolor": "#E5ECF6",
            "gridcolor": "white",
            "gridwidth": 2,
            "linecolor": "white",
            "showbackground": true,
            "ticks": "",
            "zerolinecolor": "white"
           }
          },
          "shapedefaults": {
           "line": {
            "color": "#2a3f5f"
           }
          },
          "ternary": {
           "aaxis": {
            "gridcolor": "white",
            "linecolor": "white",
            "ticks": ""
           },
           "baxis": {
            "gridcolor": "white",
            "linecolor": "white",
            "ticks": ""
           },
           "bgcolor": "#E5ECF6",
           "caxis": {
            "gridcolor": "white",
            "linecolor": "white",
            "ticks": ""
           }
          },
          "title": {
           "x": 0.05
          },
          "xaxis": {
           "automargin": true,
           "gridcolor": "white",
           "linecolor": "white",
           "ticks": "",
           "title": {
            "standoff": 15
           },
           "zerolinecolor": "white",
           "zerolinewidth": 2
          },
          "yaxis": {
           "automargin": true,
           "gridcolor": "white",
           "linecolor": "white",
           "ticks": "",
           "title": {
            "standoff": 15
           },
           "zerolinecolor": "white",
           "zerolinewidth": 2
          }
         }
        },
        "title": {
         "font": {
          "color": "#4D5663"
         }
        },
        "xaxis": {
         "gridcolor": "#E1E5ED",
         "showgrid": true,
         "tickfont": {
          "color": "#4D5663"
         },
         "title": {
          "font": {
           "color": "#4D5663"
          },
          "text": "hsc_p"
         },
         "zerolinecolor": "#E1E5ED"
        },
        "yaxis": {
         "gridcolor": "#E1E5ED",
         "showgrid": true,
         "tickfont": {
          "color": "#4D5663"
         },
         "title": {
          "font": {
           "color": "#4D5663"
          },
          "text": "ssc_p"
         },
         "zerolinecolor": "#E1E5ED"
        }
       }
      },
      "text/html": [
       "<div>\n",
       "        \n",
       "        \n",
       "            <div id=\"8c6ae2ed-dff0-4d49-bb13-ad29ce9f9006\" class=\"plotly-graph-div\" style=\"height:525px; width:100%;\"></div>\n",
       "            <script type=\"text/javascript\">\n",
       "                require([\"plotly\"], function(Plotly) {\n",
       "                    window.PLOTLYENV=window.PLOTLYENV || {};\n",
       "                    window.PLOTLYENV.BASE_URL='https://plot.ly';\n",
       "                    \n",
       "                if (document.getElementById(\"8c6ae2ed-dff0-4d49-bb13-ad29ce9f9006\")) {\n",
       "                    Plotly.newPlot(\n",
       "                        '8c6ae2ed-dff0-4d49-bb13-ad29ce9f9006',\n",
       "                        [{\"marker\": {\"color\": \"rgba(255, 153, 51, 1.0)\", \"line\": {\"width\": 1.3}, \"opacity\": 0.8, \"size\": [12, 112, 12, 12, 112, 12, 112, 112, 12, 112, 112, 112, 12, 12, 12, 112, 12, 112, 12, 112, 12, 12, 112, 12, 12, 12, 12, 12, 12, 112, 112, 12, 12, 12, 12, 12, 12, 12, 12, 12, 112, 12, 12, 12, 12, 12, 112, 12, 12, 12, 12, 12, 12, 112, 12, 112, 112, 112, 112, 112, 12, 12, 112, 12, 12, 12, 112, 112, 12, 12, 112, 112, 112, 12, 12, 12, 12, 12, 12, 12, 112, 12, 112, 112, 112, 112, 112, 112, 12, 112, 12, 112, 112, 112, 112, 112, 112, 12, 12, 112, 112, 112, 112, 12, 12, 12, 12, 12, 112, 12, 12, 112, 112, 112, 12, 112, 112, 12, 12, 112, 112, 12, 112, 12, 112, 12, 112, 12, 12, 112, 12, 112, 112, 112, 112, 12, 12, 12, 12, 12, 112, 12, 112, 12, 12, 12, 112, 12], \"symbol\": \"circle\"}, \"mode\": \"markers\", \"name\": \"Placed\", \"text\": [\"No\", \"Yes\", \"No\", \"No\", \"Yes\", \"No\", \"Yes\", \"Yes\", \"No\", \"Yes\", \"Yes\", \"Yes\", \"No\", \"No\", \"No\", \"Yes\", \"No\", \"Yes\", \"No\", \"Yes\", \"No\", \"No\", \"Yes\", \"No\", \"No\", \"No\", \"No\", \"No\", \"No\", \"Yes\", \"Yes\", \"No\", \"No\", \"No\", \"No\", \"No\", \"No\", \"No\", \"No\", \"No\", \"Yes\", \"No\", \"No\", \"No\", \"No\", \"No\", \"Yes\", \"No\", \"No\", \"No\", \"No\", \"No\", \"No\", \"Yes\", \"No\", \"Yes\", \"Yes\", \"Yes\", \"Yes\", \"Yes\", \"No\", \"No\", \"Yes\", \"No\", \"No\", \"No\", \"Yes\", \"Yes\", \"No\", \"No\", \"Yes\", \"Yes\", \"Yes\", \"No\", \"No\", \"No\", \"No\", \"No\", \"No\", \"No\", \"Yes\", \"No\", \"Yes\", \"Yes\", \"Yes\", \"Yes\", \"Yes\", \"Yes\", \"No\", \"Yes\", \"No\", \"Yes\", \"Yes\", \"Yes\", \"Yes\", \"Yes\", \"Yes\", \"No\", \"No\", \"Yes\", \"Yes\", \"Yes\", \"Yes\", \"No\", \"No\", \"No\", \"No\", \"No\", \"Yes\", \"No\", \"No\", \"Yes\", \"Yes\", \"Yes\", \"No\", \"Yes\", \"Yes\", \"No\", \"No\", \"Yes\", \"Yes\", \"No\", \"Yes\", \"No\", \"Yes\", \"No\", \"Yes\", \"No\", \"No\", \"Yes\", \"No\", \"Yes\", \"Yes\", \"Yes\", \"Yes\", \"No\", \"No\", \"No\", \"No\", \"No\", \"Yes\", \"No\", \"Yes\", \"No\", \"No\", \"No\", \"Yes\", \"No\"], \"textfont\": {\"color\": \"#4D5663\"}, \"type\": \"scatter\", \"x\": [91.0, 78.33, 68.0, 73.6, 64.0, 79.0, 61.0, 68.4, 87.0, 75.0, 66.2, 67.0, 65.0, 76.0, 60.8, 60.0, 97.7, 79.0, 67.0, 76.5, 73.5, 81.0, 65.0, 78.0, 76.0, 58.0, 68.0, 77.0, 87.0, 73.0, 60.0, 62.0, 73.2, 70.0, 60.0, 66.6, 71.4, 76.0, 62.0, 65.58, 70.0, 73.4, 64.2, 73.0, 74.0, 78.5, 73.0, 61.0, 70.29, 67.0, 83.83, 64.8, 70.4, 80.0, 90.9, 62.0, 63.0, 79.0, 63.0, 89.83, 63.0, 62.0, 75.0, 90.0, 69.0, 62.0, 78.0, 70.0, 73.0, 72.0, 61.0, 78.0, 63.0, 90.0, 82.0, 70.0, 61.0, 79.0, 68.0, 63.0, 72.8, 75.0, 80.0, 68.4, 67.0, 66.8, 59.0, 71.0, 73.0, 61.0, 60.0, 73.4, 89.7, 57.0, 68.0, 64.0, 92.0, 56.0, 63.0, 64.0, 70.0, 64.8, 60.0, 64.89, 65.66, 63.0, 74.0, 86.0, 58.66, 65.0, 60.5, 59.0, 63.0, 69.4, 62.5, 74.0, 87.6, 67.0, 72.5, 62.0, 80.0, 58.0, 50.83, 60.0, 97.0, 56.0, 71.5, 77.0, 72.0, 65.5, 61.0, 61.4, 63.0, 76.0, 63.0, 53.0, 65.0, 60.0, 63.0, 61.33, 73.0, 62.0, 78.0, 72.0, 82.0, 60.0, 67.0, 66.0], \"y\": [67.0, 79.33, 65.0, 85.8, 82.0, 73.0, 58.0, 69.6, 77.0, 65.0, 63.0, 60.0, 62.0, 79.0, 69.8, 77.4, 76.5, 71.0, 63.0, 76.76, 64.0, 61.0, 87.0, 69.0, 79.0, 73.0, 81.0, 78.0, 87.0, 77.0, 63.0, 63.0, 75.2, 80.0, 74.0, 60.4, 63.0, 68.0, 74.0, 52.6, 74.0, 84.2, 86.5, 80.0, 83.0, 80.92, 73.0, 82.0, 75.0, 84.86, 64.6, 56.6, 66.5, 64.0, 84.0, 69.0, 81.7, 84.0, 70.0, 83.84, 62.0, 66.0, 84.0, 85.0, 60.23, 58.0, 73.0, 76.0, 69.0, 63.0, 77.0, 73.0, 69.0, 82.0, 61.0, 69.5, 58.0, 73.96, 65.0, 73.0, 68.2, 77.0, 76.0, 60.8, 64.0, 66.5, 74.0, 67.0, 84.0, 79.0, 72.0, 80.4, 76.7, 74.9, 67.0, 73.0, 77.44, 72.0, 67.0, 82.0, 77.0, 65.0, 85.0, 77.67, 89.4, 62.0, 70.0, 77.0, 71.0, 65.0, 75.4, 49.0, 53.0, 84.2, 66.5, 87.0, 74.2, 63.0, 67.16, 62.0, 80.0, 73.0, 73.24, 59.0, 73.0, 68.0, 65.0, 65.0, 88.0, 78.5, 67.0, 65.2, 60.0, 66.0, 72.0, 83.96, 69.0, 69.0, 70.0, 55.68, 74.0, 61.0, 83.33, 62.0, 80.6, 58.0, 67.0, 74.0]}, {\"marker\": {\"color\": \"rgba(55, 128, 191, 1.0)\", \"line\": {\"width\": 1.3}, \"opacity\": 0.8, \"size\": [12, 112, 12, 12, 12, 12, 12, 12, 112, 12, 12, 12, 12, 112, 12, 12, 12, 12, 12, 12, 12, 12, 12, 12, 12, 12, 12, 12, 12, 12, 12, 112, 12, 12, 112, 12, 12, 12, 12, 12, 12, 112, 112, 12, 12, 12, 12, 112, 112, 12, 12, 12, 12, 12, 12, 112, 12, 12, 12, 12, 12, 12, 12, 12, 12, 12, 12], \"symbol\": \"circle\"}, \"mode\": \"markers\", \"name\": \"Not Placed\", \"text\": [\"No\", \"Yes\", \"No\", \"No\", \"No\", \"No\", \"No\", \"No\", \"Yes\", \"No\", \"No\", \"No\", \"No\", \"Yes\", \"No\", \"No\", \"No\", \"No\", \"No\", \"No\", \"No\", \"No\", \"No\", \"No\", \"No\", \"No\", \"No\", \"No\", \"No\", \"No\", \"No\", \"Yes\", \"No\", \"No\", \"Yes\", \"No\", \"No\", \"No\", \"No\", \"No\", \"No\", \"Yes\", \"Yes\", \"No\", \"No\", \"No\", \"No\", \"Yes\", \"Yes\", \"No\", \"No\", \"No\", \"No\", \"No\", \"No\", \"Yes\", \"No\", \"No\", \"No\", \"No\", \"No\", \"No\", \"No\", \"No\", \"No\", \"No\", \"No\"], \"textfont\": {\"color\": \"#4D5663\"}, \"type\": \"scatter\", \"x\": [52.0, 49.8, 49.2, 70.0, 55.0, 47.0, 67.0, 66.0, 54.6, 67.0, 53.0, 51.0, 44.0, 63.16, 39.0, 64.0, 71.98, 37.0, 61.12, 45.83, 70.0, 47.0, 47.0, 62.0, 62.0, 67.0, 51.0, 57.0, 62.0, 62.5, 82.0, 57.0, 64.0, 50.0, 63.0, 54.0, 40.0, 65.0, 59.0, 64.0, 50.0, 58.0, 74.66, 63.0, 49.0, 51.0, 78.33, 62.0, 51.0, 42.16, 67.2, 52.0, 62.0, 64.0, 60.33, 65.0, 62.83, 64.0, 47.0, 77.6, 70.2, 55.0, 70.0, 63.0, 42.0, 60.0, 58.0], \"y\": [56.0, 55.0, 46.0, 58.0, 47.0, 62.0, 55.0, 63.0, 52.58, 62.0, 67.0, 62.0, 51.0, 74.0, 49.0, 76.0, 70.89, 50.0, 54.4, 40.89, 61.0, 54.0, 69.7, 59.0, 69.0, 63.0, 59.6, 52.0, 52.0, 70.5, 54.0, 45.0, 59.0, 61.08, 52.0, 51.0, 58.0, 62.0, 47.0, 66.0, 52.0, 44.0, 51.57, 67.0, 52.0, 55.6, 63.3, 67.9, 48.0, 59.96, 63.4, 52.0, 63.0, 77.8, 62.0, 52.0, 56.28, 52.0, 61.8, 54.0, 64.0, 52.0, 67.0, 54.2, 41.0, 43.0, 62.0]}],\n",
       "                        {\"legend\": {\"bgcolor\": \"#F5F6F9\", \"font\": {\"color\": \"#4D5663\"}}, \"paper_bgcolor\": \"#F5F6F9\", \"plot_bgcolor\": \"#F5F6F9\", \"template\": {\"data\": {\"bar\": [{\"error_x\": {\"color\": \"#2a3f5f\"}, \"error_y\": {\"color\": \"#2a3f5f\"}, \"marker\": {\"line\": {\"color\": \"#E5ECF6\", \"width\": 0.5}}, \"type\": \"bar\"}], \"barpolar\": [{\"marker\": {\"line\": {\"color\": \"#E5ECF6\", \"width\": 0.5}}, \"type\": \"barpolar\"}], \"carpet\": [{\"aaxis\": {\"endlinecolor\": \"#2a3f5f\", \"gridcolor\": \"white\", \"linecolor\": \"white\", \"minorgridcolor\": \"white\", \"startlinecolor\": \"#2a3f5f\"}, \"baxis\": {\"endlinecolor\": \"#2a3f5f\", \"gridcolor\": \"white\", \"linecolor\": \"white\", \"minorgridcolor\": \"white\", \"startlinecolor\": \"#2a3f5f\"}, \"type\": \"carpet\"}], \"choropleth\": [{\"colorbar\": {\"outlinewidth\": 0, \"ticks\": \"\"}, \"type\": \"choropleth\"}], \"contour\": [{\"colorbar\": {\"outlinewidth\": 0, \"ticks\": \"\"}, \"colorscale\": [[0.0, \"#0d0887\"], [0.1111111111111111, \"#46039f\"], [0.2222222222222222, \"#7201a8\"], [0.3333333333333333, \"#9c179e\"], [0.4444444444444444, \"#bd3786\"], [0.5555555555555556, \"#d8576b\"], [0.6666666666666666, \"#ed7953\"], [0.7777777777777778, \"#fb9f3a\"], [0.8888888888888888, \"#fdca26\"], [1.0, \"#f0f921\"]], \"type\": \"contour\"}], \"contourcarpet\": [{\"colorbar\": {\"outlinewidth\": 0, \"ticks\": \"\"}, \"type\": \"contourcarpet\"}], \"heatmap\": [{\"colorbar\": {\"outlinewidth\": 0, \"ticks\": \"\"}, \"colorscale\": [[0.0, \"#0d0887\"], [0.1111111111111111, \"#46039f\"], [0.2222222222222222, \"#7201a8\"], [0.3333333333333333, \"#9c179e\"], [0.4444444444444444, \"#bd3786\"], [0.5555555555555556, \"#d8576b\"], [0.6666666666666666, \"#ed7953\"], [0.7777777777777778, \"#fb9f3a\"], [0.8888888888888888, \"#fdca26\"], [1.0, \"#f0f921\"]], \"type\": \"heatmap\"}], \"heatmapgl\": [{\"colorbar\": {\"outlinewidth\": 0, \"ticks\": \"\"}, \"colorscale\": [[0.0, \"#0d0887\"], [0.1111111111111111, \"#46039f\"], [0.2222222222222222, \"#7201a8\"], [0.3333333333333333, \"#9c179e\"], [0.4444444444444444, \"#bd3786\"], [0.5555555555555556, \"#d8576b\"], [0.6666666666666666, \"#ed7953\"], [0.7777777777777778, \"#fb9f3a\"], [0.8888888888888888, \"#fdca26\"], [1.0, \"#f0f921\"]], \"type\": \"heatmapgl\"}], \"histogram\": [{\"marker\": {\"colorbar\": {\"outlinewidth\": 0, \"ticks\": \"\"}}, \"type\": \"histogram\"}], \"histogram2d\": [{\"colorbar\": {\"outlinewidth\": 0, \"ticks\": \"\"}, \"colorscale\": [[0.0, \"#0d0887\"], [0.1111111111111111, \"#46039f\"], [0.2222222222222222, \"#7201a8\"], [0.3333333333333333, \"#9c179e\"], [0.4444444444444444, \"#bd3786\"], [0.5555555555555556, \"#d8576b\"], [0.6666666666666666, \"#ed7953\"], [0.7777777777777778, \"#fb9f3a\"], [0.8888888888888888, \"#fdca26\"], [1.0, \"#f0f921\"]], \"type\": \"histogram2d\"}], \"histogram2dcontour\": [{\"colorbar\": {\"outlinewidth\": 0, \"ticks\": \"\"}, \"colorscale\": [[0.0, \"#0d0887\"], [0.1111111111111111, \"#46039f\"], [0.2222222222222222, \"#7201a8\"], [0.3333333333333333, \"#9c179e\"], [0.4444444444444444, \"#bd3786\"], [0.5555555555555556, \"#d8576b\"], [0.6666666666666666, \"#ed7953\"], [0.7777777777777778, \"#fb9f3a\"], [0.8888888888888888, \"#fdca26\"], [1.0, \"#f0f921\"]], \"type\": \"histogram2dcontour\"}], \"mesh3d\": [{\"colorbar\": {\"outlinewidth\": 0, \"ticks\": \"\"}, \"type\": \"mesh3d\"}], \"parcoords\": [{\"line\": {\"colorbar\": {\"outlinewidth\": 0, \"ticks\": \"\"}}, \"type\": \"parcoords\"}], \"pie\": [{\"automargin\": true, \"type\": \"pie\"}], \"scatter\": [{\"marker\": {\"colorbar\": {\"outlinewidth\": 0, \"ticks\": \"\"}}, \"type\": \"scatter\"}], \"scatter3d\": [{\"line\": {\"colorbar\": {\"outlinewidth\": 0, \"ticks\": \"\"}}, \"marker\": {\"colorbar\": {\"outlinewidth\": 0, \"ticks\": \"\"}}, \"type\": \"scatter3d\"}], \"scattercarpet\": [{\"marker\": {\"colorbar\": {\"outlinewidth\": 0, \"ticks\": \"\"}}, \"type\": \"scattercarpet\"}], \"scattergeo\": [{\"marker\": {\"colorbar\": {\"outlinewidth\": 0, \"ticks\": \"\"}}, \"type\": \"scattergeo\"}], \"scattergl\": [{\"marker\": {\"colorbar\": {\"outlinewidth\": 0, \"ticks\": \"\"}}, \"type\": \"scattergl\"}], \"scattermapbox\": [{\"marker\": {\"colorbar\": {\"outlinewidth\": 0, \"ticks\": \"\"}}, \"type\": \"scattermapbox\"}], \"scatterpolar\": [{\"marker\": {\"colorbar\": {\"outlinewidth\": 0, \"ticks\": \"\"}}, \"type\": \"scatterpolar\"}], \"scatterpolargl\": [{\"marker\": {\"colorbar\": {\"outlinewidth\": 0, \"ticks\": \"\"}}, \"type\": \"scatterpolargl\"}], \"scatterternary\": [{\"marker\": {\"colorbar\": {\"outlinewidth\": 0, \"ticks\": \"\"}}, \"type\": \"scatterternary\"}], \"surface\": [{\"colorbar\": {\"outlinewidth\": 0, \"ticks\": \"\"}, \"colorscale\": [[0.0, \"#0d0887\"], [0.1111111111111111, \"#46039f\"], [0.2222222222222222, \"#7201a8\"], [0.3333333333333333, \"#9c179e\"], [0.4444444444444444, \"#bd3786\"], [0.5555555555555556, \"#d8576b\"], [0.6666666666666666, \"#ed7953\"], [0.7777777777777778, \"#fb9f3a\"], [0.8888888888888888, \"#fdca26\"], [1.0, \"#f0f921\"]], \"type\": \"surface\"}], \"table\": [{\"cells\": {\"fill\": {\"color\": \"#EBF0F8\"}, \"line\": {\"color\": \"white\"}}, \"header\": {\"fill\": {\"color\": \"#C8D4E3\"}, \"line\": {\"color\": \"white\"}}, \"type\": \"table\"}]}, \"layout\": {\"annotationdefaults\": {\"arrowcolor\": \"#2a3f5f\", \"arrowhead\": 0, \"arrowwidth\": 1}, \"coloraxis\": {\"colorbar\": {\"outlinewidth\": 0, \"ticks\": \"\"}}, \"colorscale\": {\"diverging\": [[0, \"#8e0152\"], [0.1, \"#c51b7d\"], [0.2, \"#de77ae\"], [0.3, \"#f1b6da\"], [0.4, \"#fde0ef\"], [0.5, \"#f7f7f7\"], [0.6, \"#e6f5d0\"], [0.7, \"#b8e186\"], [0.8, \"#7fbc41\"], [0.9, \"#4d9221\"], [1, \"#276419\"]], \"sequential\": [[0.0, \"#0d0887\"], [0.1111111111111111, \"#46039f\"], [0.2222222222222222, \"#7201a8\"], [0.3333333333333333, \"#9c179e\"], [0.4444444444444444, \"#bd3786\"], [0.5555555555555556, \"#d8576b\"], [0.6666666666666666, \"#ed7953\"], [0.7777777777777778, \"#fb9f3a\"], [0.8888888888888888, \"#fdca26\"], [1.0, \"#f0f921\"]], \"sequentialminus\": [[0.0, \"#0d0887\"], [0.1111111111111111, \"#46039f\"], [0.2222222222222222, \"#7201a8\"], [0.3333333333333333, \"#9c179e\"], [0.4444444444444444, \"#bd3786\"], [0.5555555555555556, \"#d8576b\"], [0.6666666666666666, \"#ed7953\"], [0.7777777777777778, \"#fb9f3a\"], [0.8888888888888888, \"#fdca26\"], [1.0, \"#f0f921\"]]}, \"colorway\": [\"#636efa\", \"#EF553B\", \"#00cc96\", \"#ab63fa\", \"#FFA15A\", \"#19d3f3\", \"#FF6692\", \"#B6E880\", \"#FF97FF\", \"#FECB52\"], \"font\": {\"color\": \"#2a3f5f\"}, \"geo\": {\"bgcolor\": \"white\", \"lakecolor\": \"white\", \"landcolor\": \"#E5ECF6\", \"showlakes\": true, \"showland\": true, \"subunitcolor\": \"white\"}, \"hoverlabel\": {\"align\": \"left\"}, \"hovermode\": \"closest\", \"mapbox\": {\"style\": \"light\"}, \"paper_bgcolor\": \"white\", \"plot_bgcolor\": \"#E5ECF6\", \"polar\": {\"angularaxis\": {\"gridcolor\": \"white\", \"linecolor\": \"white\", \"ticks\": \"\"}, \"bgcolor\": \"#E5ECF6\", \"radialaxis\": {\"gridcolor\": \"white\", \"linecolor\": \"white\", \"ticks\": \"\"}}, \"scene\": {\"xaxis\": {\"backgroundcolor\": \"#E5ECF6\", \"gridcolor\": \"white\", \"gridwidth\": 2, \"linecolor\": \"white\", \"showbackground\": true, \"ticks\": \"\", \"zerolinecolor\": \"white\"}, \"yaxis\": {\"backgroundcolor\": \"#E5ECF6\", \"gridcolor\": \"white\", \"gridwidth\": 2, \"linecolor\": \"white\", \"showbackground\": true, \"ticks\": \"\", \"zerolinecolor\": \"white\"}, \"zaxis\": {\"backgroundcolor\": \"#E5ECF6\", \"gridcolor\": \"white\", \"gridwidth\": 2, \"linecolor\": \"white\", \"showbackground\": true, \"ticks\": \"\", \"zerolinecolor\": \"white\"}}, \"shapedefaults\": {\"line\": {\"color\": \"#2a3f5f\"}}, \"ternary\": {\"aaxis\": {\"gridcolor\": \"white\", \"linecolor\": \"white\", \"ticks\": \"\"}, \"baxis\": {\"gridcolor\": \"white\", \"linecolor\": \"white\", \"ticks\": \"\"}, \"bgcolor\": \"#E5ECF6\", \"caxis\": {\"gridcolor\": \"white\", \"linecolor\": \"white\", \"ticks\": \"\"}}, \"title\": {\"x\": 0.05}, \"xaxis\": {\"automargin\": true, \"gridcolor\": \"white\", \"linecolor\": \"white\", \"ticks\": \"\", \"title\": {\"standoff\": 15}, \"zerolinecolor\": \"white\", \"zerolinewidth\": 2}, \"yaxis\": {\"automargin\": true, \"gridcolor\": \"white\", \"linecolor\": \"white\", \"ticks\": \"\", \"title\": {\"standoff\": 15}, \"zerolinecolor\": \"white\", \"zerolinewidth\": 2}}}, \"title\": {\"font\": {\"color\": \"#4D5663\"}}, \"xaxis\": {\"gridcolor\": \"#E1E5ED\", \"showgrid\": true, \"tickfont\": {\"color\": \"#4D5663\"}, \"title\": {\"font\": {\"color\": \"#4D5663\"}, \"text\": \"hsc_p\"}, \"zerolinecolor\": \"#E1E5ED\"}, \"yaxis\": {\"gridcolor\": \"#E1E5ED\", \"showgrid\": true, \"tickfont\": {\"color\": \"#4D5663\"}, \"title\": {\"font\": {\"color\": \"#4D5663\"}, \"text\": \"ssc_p\"}, \"zerolinecolor\": \"#E1E5ED\"}},\n",
       "                        {\"showLink\": true, \"linkText\": \"Export to plot.ly\", \"plotlyServerURL\": \"https://plot.ly\", \"responsive\": true}\n",
       "                    ).then(function(){\n",
       "                            \n",
       "var gd = document.getElementById('8c6ae2ed-dff0-4d49-bb13-ad29ce9f9006');\n",
       "var x = new MutationObserver(function (mutations, observer) {{\n",
       "        var display = window.getComputedStyle(gd).display;\n",
       "        if (!display || display === 'none') {{\n",
       "            console.log([gd, 'removed!']);\n",
       "            Plotly.purge(gd);\n",
       "            observer.disconnect();\n",
       "        }}\n",
       "}});\n",
       "\n",
       "// Listen for the removal of the full notebook cells\n",
       "var notebookContainer = gd.closest('#notebook-container');\n",
       "if (notebookContainer) {{\n",
       "    x.observe(notebookContainer, {childList: true});\n",
       "}}\n",
       "\n",
       "// Listen for the clearing of the current output cell\n",
       "var outputEl = gd.closest('.output');\n",
       "if (outputEl) {{\n",
       "    x.observe(outputEl, {childList: true});\n",
       "}}\n",
       "\n",
       "                        })\n",
       "                };\n",
       "                });\n",
       "            </script>\n",
       "        </div>"
      ]
     },
     "metadata": {},
     "output_type": "display_data"
    }
   ],
   "source": [
    "camp[['status_num']] = camp[['status_num']].astype('float64', copy=False)\n",
    "camp.iplot(kind='bubble', x=\"hsc_p\",y=\"ssc_p\",categories=\"status\", size='workex_num', text='workex', xTitle='hsc_p', yTitle='ssc_p')"
   ]
  },
  {
   "cell_type": "code",
   "execution_count": 26,
   "metadata": {},
   "outputs": [
    {
     "data": {
      "application/vnd.plotly.v1+json": {
       "config": {
        "linkText": "Export to plot.ly",
        "plotlyServerURL": "https://plot.ly",
        "showLink": true
       },
       "data": [
        {
         "boxpoints": false,
         "line": {
          "width": 1.3
         },
         "marker": {
          "color": "rgba(255, 153, 51, 1.0)"
         },
         "name": "Not Placed",
         "orientation": "v",
         "type": "box",
         "y": [
          null,
          null,
          null,
          52,
          null,
          49.8,
          49.2,
          null,
          null,
          70,
          null,
          null,
          55,
          null,
          47,
          null,
          null,
          67,
          66,
          null,
          null,
          null,
          null,
          null,
          null,
          54.6,
          null,
          null,
          null,
          67,
          null,
          53,
          null,
          null,
          51,
          null,
          44,
          null,
          null,
          null,
          null,
          63.16,
          39,
          null,
          null,
          64,
          71.98,
          null,
          null,
          37,
          null,
          61.12,
          45.83,
          null,
          null,
          null,
          null,
          null,
          null,
          null,
          null,
          null,
          null,
          70,
          null,
          47,
          null,
          null,
          47,
          null,
          null,
          null,
          null,
          null,
          null,
          62,
          null,
          null,
          null,
          62,
          null,
          null,
          67,
          null,
          null,
          null,
          null,
          51,
          null,
          null,
          null,
          57,
          null,
          62,
          null,
          null,
          null,
          62.5,
          null,
          82,
          57,
          null,
          null,
          null,
          null,
          64,
          50,
          null,
          null,
          63,
          null,
          54,
          null,
          null,
          null,
          null,
          null,
          null,
          null,
          null,
          40,
          null,
          null,
          null,
          null,
          null,
          null,
          null,
          null,
          null,
          65,
          null,
          null,
          null,
          null,
          null,
          59,
          null,
          null,
          null,
          null,
          64,
          null,
          null,
          50,
          null,
          null,
          null,
          null,
          58,
          null,
          null,
          null,
          null,
          null,
          74.66,
          null,
          null,
          63,
          49,
          null,
          51,
          null,
          null,
          null,
          78.33,
          null,
          62,
          51,
          42.16,
          67.2,
          null,
          null,
          52,
          null,
          62,
          null,
          null,
          null,
          64,
          null,
          60.33,
          65,
          null,
          62.83,
          null,
          64,
          null,
          47,
          77.6,
          70.2,
          null,
          null,
          null,
          55,
          null,
          null,
          null,
          70,
          null,
          null,
          63,
          null,
          null,
          null,
          null,
          42,
          null,
          60,
          null,
          null,
          null,
          null,
          null,
          58
         ]
        },
        {
         "boxpoints": false,
         "line": {
          "width": 1.3
         },
         "marker": {
          "color": "rgba(55, 128, 191, 1.0)"
         },
         "name": "Placed",
         "orientation": "v",
         "type": "box",
         "y": [
          91,
          78.33,
          68,
          null,
          73.6,
          null,
          null,
          64,
          79,
          null,
          61,
          68.4,
          null,
          87,
          null,
          75,
          66.2,
          null,
          null,
          67,
          65,
          76,
          60.8,
          60,
          97.7,
          null,
          79,
          67,
          76.5,
          null,
          73.5,
          null,
          81,
          65,
          null,
          78,
          null,
          76,
          58,
          68,
          77,
          null,
          null,
          87,
          73,
          null,
          null,
          60,
          62,
          null,
          73.2,
          null,
          null,
          70,
          60,
          66.6,
          71.4,
          76,
          62,
          65.58,
          70,
          73.4,
          64.2,
          null,
          73,
          null,
          74,
          78.5,
          null,
          73,
          61,
          70.29,
          67,
          83.83,
          64.8,
          null,
          70.4,
          80,
          90.9,
          null,
          62,
          63,
          null,
          79,
          63,
          89.83,
          63,
          null,
          62,
          75,
          90,
          null,
          69,
          null,
          62,
          78,
          70,
          null,
          73,
          null,
          null,
          72,
          61,
          78,
          63,
          null,
          null,
          90,
          82,
          null,
          70,
          null,
          61,
          79,
          68,
          63,
          72.8,
          75,
          80,
          68.4,
          null,
          67,
          66.8,
          59,
          71,
          73,
          61,
          60,
          73.4,
          89.7,
          null,
          57,
          68,
          64,
          92,
          56,
          null,
          63,
          64,
          70,
          64.8,
          null,
          60,
          64.89,
          null,
          65.66,
          63,
          74,
          86,
          null,
          58.66,
          65,
          60.5,
          59,
          63,
          null,
          69.4,
          62.5,
          null,
          null,
          74,
          null,
          87.6,
          67,
          72.5,
          null,
          62,
          null,
          null,
          null,
          null,
          80,
          58,
          null,
          50.83,
          null,
          60,
          97,
          56,
          null,
          71.5,
          null,
          null,
          77,
          null,
          72,
          null,
          65.5,
          null,
          null,
          null,
          61,
          61.4,
          63,
          null,
          76,
          63,
          53,
          null,
          65,
          60,
          null,
          63,
          61.33,
          73,
          62,
          null,
          78,
          null,
          72,
          82,
          60,
          67,
          66,
          null
         ]
        }
       ],
       "layout": {
        "template": {
         "data": {
          "bar": [
           {
            "error_x": {
             "color": "#2a3f5f"
            },
            "error_y": {
             "color": "#2a3f5f"
            },
            "marker": {
             "line": {
              "color": "#E5ECF6",
              "width": 0.5
             }
            },
            "type": "bar"
           }
          ],
          "barpolar": [
           {
            "marker": {
             "line": {
              "color": "#E5ECF6",
              "width": 0.5
             }
            },
            "type": "barpolar"
           }
          ],
          "carpet": [
           {
            "aaxis": {
             "endlinecolor": "#2a3f5f",
             "gridcolor": "white",
             "linecolor": "white",
             "minorgridcolor": "white",
             "startlinecolor": "#2a3f5f"
            },
            "baxis": {
             "endlinecolor": "#2a3f5f",
             "gridcolor": "white",
             "linecolor": "white",
             "minorgridcolor": "white",
             "startlinecolor": "#2a3f5f"
            },
            "type": "carpet"
           }
          ],
          "choropleth": [
           {
            "colorbar": {
             "outlinewidth": 0,
             "ticks": ""
            },
            "type": "choropleth"
           }
          ],
          "contour": [
           {
            "colorbar": {
             "outlinewidth": 0,
             "ticks": ""
            },
            "colorscale": [
             [
              0,
              "#0d0887"
             ],
             [
              0.1111111111111111,
              "#46039f"
             ],
             [
              0.2222222222222222,
              "#7201a8"
             ],
             [
              0.3333333333333333,
              "#9c179e"
             ],
             [
              0.4444444444444444,
              "#bd3786"
             ],
             [
              0.5555555555555556,
              "#d8576b"
             ],
             [
              0.6666666666666666,
              "#ed7953"
             ],
             [
              0.7777777777777778,
              "#fb9f3a"
             ],
             [
              0.8888888888888888,
              "#fdca26"
             ],
             [
              1,
              "#f0f921"
             ]
            ],
            "type": "contour"
           }
          ],
          "contourcarpet": [
           {
            "colorbar": {
             "outlinewidth": 0,
             "ticks": ""
            },
            "type": "contourcarpet"
           }
          ],
          "heatmap": [
           {
            "colorbar": {
             "outlinewidth": 0,
             "ticks": ""
            },
            "colorscale": [
             [
              0,
              "#0d0887"
             ],
             [
              0.1111111111111111,
              "#46039f"
             ],
             [
              0.2222222222222222,
              "#7201a8"
             ],
             [
              0.3333333333333333,
              "#9c179e"
             ],
             [
              0.4444444444444444,
              "#bd3786"
             ],
             [
              0.5555555555555556,
              "#d8576b"
             ],
             [
              0.6666666666666666,
              "#ed7953"
             ],
             [
              0.7777777777777778,
              "#fb9f3a"
             ],
             [
              0.8888888888888888,
              "#fdca26"
             ],
             [
              1,
              "#f0f921"
             ]
            ],
            "type": "heatmap"
           }
          ],
          "heatmapgl": [
           {
            "colorbar": {
             "outlinewidth": 0,
             "ticks": ""
            },
            "colorscale": [
             [
              0,
              "#0d0887"
             ],
             [
              0.1111111111111111,
              "#46039f"
             ],
             [
              0.2222222222222222,
              "#7201a8"
             ],
             [
              0.3333333333333333,
              "#9c179e"
             ],
             [
              0.4444444444444444,
              "#bd3786"
             ],
             [
              0.5555555555555556,
              "#d8576b"
             ],
             [
              0.6666666666666666,
              "#ed7953"
             ],
             [
              0.7777777777777778,
              "#fb9f3a"
             ],
             [
              0.8888888888888888,
              "#fdca26"
             ],
             [
              1,
              "#f0f921"
             ]
            ],
            "type": "heatmapgl"
           }
          ],
          "histogram": [
           {
            "marker": {
             "colorbar": {
              "outlinewidth": 0,
              "ticks": ""
             }
            },
            "type": "histogram"
           }
          ],
          "histogram2d": [
           {
            "colorbar": {
             "outlinewidth": 0,
             "ticks": ""
            },
            "colorscale": [
             [
              0,
              "#0d0887"
             ],
             [
              0.1111111111111111,
              "#46039f"
             ],
             [
              0.2222222222222222,
              "#7201a8"
             ],
             [
              0.3333333333333333,
              "#9c179e"
             ],
             [
              0.4444444444444444,
              "#bd3786"
             ],
             [
              0.5555555555555556,
              "#d8576b"
             ],
             [
              0.6666666666666666,
              "#ed7953"
             ],
             [
              0.7777777777777778,
              "#fb9f3a"
             ],
             [
              0.8888888888888888,
              "#fdca26"
             ],
             [
              1,
              "#f0f921"
             ]
            ],
            "type": "histogram2d"
           }
          ],
          "histogram2dcontour": [
           {
            "colorbar": {
             "outlinewidth": 0,
             "ticks": ""
            },
            "colorscale": [
             [
              0,
              "#0d0887"
             ],
             [
              0.1111111111111111,
              "#46039f"
             ],
             [
              0.2222222222222222,
              "#7201a8"
             ],
             [
              0.3333333333333333,
              "#9c179e"
             ],
             [
              0.4444444444444444,
              "#bd3786"
             ],
             [
              0.5555555555555556,
              "#d8576b"
             ],
             [
              0.6666666666666666,
              "#ed7953"
             ],
             [
              0.7777777777777778,
              "#fb9f3a"
             ],
             [
              0.8888888888888888,
              "#fdca26"
             ],
             [
              1,
              "#f0f921"
             ]
            ],
            "type": "histogram2dcontour"
           }
          ],
          "mesh3d": [
           {
            "colorbar": {
             "outlinewidth": 0,
             "ticks": ""
            },
            "type": "mesh3d"
           }
          ],
          "parcoords": [
           {
            "line": {
             "colorbar": {
              "outlinewidth": 0,
              "ticks": ""
             }
            },
            "type": "parcoords"
           }
          ],
          "pie": [
           {
            "automargin": true,
            "type": "pie"
           }
          ],
          "scatter": [
           {
            "marker": {
             "colorbar": {
              "outlinewidth": 0,
              "ticks": ""
             }
            },
            "type": "scatter"
           }
          ],
          "scatter3d": [
           {
            "line": {
             "colorbar": {
              "outlinewidth": 0,
              "ticks": ""
             }
            },
            "marker": {
             "colorbar": {
              "outlinewidth": 0,
              "ticks": ""
             }
            },
            "type": "scatter3d"
           }
          ],
          "scattercarpet": [
           {
            "marker": {
             "colorbar": {
              "outlinewidth": 0,
              "ticks": ""
             }
            },
            "type": "scattercarpet"
           }
          ],
          "scattergeo": [
           {
            "marker": {
             "colorbar": {
              "outlinewidth": 0,
              "ticks": ""
             }
            },
            "type": "scattergeo"
           }
          ],
          "scattergl": [
           {
            "marker": {
             "colorbar": {
              "outlinewidth": 0,
              "ticks": ""
             }
            },
            "type": "scattergl"
           }
          ],
          "scattermapbox": [
           {
            "marker": {
             "colorbar": {
              "outlinewidth": 0,
              "ticks": ""
             }
            },
            "type": "scattermapbox"
           }
          ],
          "scatterpolar": [
           {
            "marker": {
             "colorbar": {
              "outlinewidth": 0,
              "ticks": ""
             }
            },
            "type": "scatterpolar"
           }
          ],
          "scatterpolargl": [
           {
            "marker": {
             "colorbar": {
              "outlinewidth": 0,
              "ticks": ""
             }
            },
            "type": "scatterpolargl"
           }
          ],
          "scatterternary": [
           {
            "marker": {
             "colorbar": {
              "outlinewidth": 0,
              "ticks": ""
             }
            },
            "type": "scatterternary"
           }
          ],
          "surface": [
           {
            "colorbar": {
             "outlinewidth": 0,
             "ticks": ""
            },
            "colorscale": [
             [
              0,
              "#0d0887"
             ],
             [
              0.1111111111111111,
              "#46039f"
             ],
             [
              0.2222222222222222,
              "#7201a8"
             ],
             [
              0.3333333333333333,
              "#9c179e"
             ],
             [
              0.4444444444444444,
              "#bd3786"
             ],
             [
              0.5555555555555556,
              "#d8576b"
             ],
             [
              0.6666666666666666,
              "#ed7953"
             ],
             [
              0.7777777777777778,
              "#fb9f3a"
             ],
             [
              0.8888888888888888,
              "#fdca26"
             ],
             [
              1,
              "#f0f921"
             ]
            ],
            "type": "surface"
           }
          ],
          "table": [
           {
            "cells": {
             "fill": {
              "color": "#EBF0F8"
             },
             "line": {
              "color": "white"
             }
            },
            "header": {
             "fill": {
              "color": "#C8D4E3"
             },
             "line": {
              "color": "white"
             }
            },
            "type": "table"
           }
          ]
         },
         "layout": {
          "annotationdefaults": {
           "arrowcolor": "#2a3f5f",
           "arrowhead": 0,
           "arrowwidth": 1
          },
          "coloraxis": {
           "colorbar": {
            "outlinewidth": 0,
            "ticks": ""
           }
          },
          "colorscale": {
           "diverging": [
            [
             0,
             "#8e0152"
            ],
            [
             0.1,
             "#c51b7d"
            ],
            [
             0.2,
             "#de77ae"
            ],
            [
             0.3,
             "#f1b6da"
            ],
            [
             0.4,
             "#fde0ef"
            ],
            [
             0.5,
             "#f7f7f7"
            ],
            [
             0.6,
             "#e6f5d0"
            ],
            [
             0.7,
             "#b8e186"
            ],
            [
             0.8,
             "#7fbc41"
            ],
            [
             0.9,
             "#4d9221"
            ],
            [
             1,
             "#276419"
            ]
           ],
           "sequential": [
            [
             0,
             "#0d0887"
            ],
            [
             0.1111111111111111,
             "#46039f"
            ],
            [
             0.2222222222222222,
             "#7201a8"
            ],
            [
             0.3333333333333333,
             "#9c179e"
            ],
            [
             0.4444444444444444,
             "#bd3786"
            ],
            [
             0.5555555555555556,
             "#d8576b"
            ],
            [
             0.6666666666666666,
             "#ed7953"
            ],
            [
             0.7777777777777778,
             "#fb9f3a"
            ],
            [
             0.8888888888888888,
             "#fdca26"
            ],
            [
             1,
             "#f0f921"
            ]
           ],
           "sequentialminus": [
            [
             0,
             "#0d0887"
            ],
            [
             0.1111111111111111,
             "#46039f"
            ],
            [
             0.2222222222222222,
             "#7201a8"
            ],
            [
             0.3333333333333333,
             "#9c179e"
            ],
            [
             0.4444444444444444,
             "#bd3786"
            ],
            [
             0.5555555555555556,
             "#d8576b"
            ],
            [
             0.6666666666666666,
             "#ed7953"
            ],
            [
             0.7777777777777778,
             "#fb9f3a"
            ],
            [
             0.8888888888888888,
             "#fdca26"
            ],
            [
             1,
             "#f0f921"
            ]
           ]
          },
          "colorway": [
           "#636efa",
           "#EF553B",
           "#00cc96",
           "#ab63fa",
           "#FFA15A",
           "#19d3f3",
           "#FF6692",
           "#B6E880",
           "#FF97FF",
           "#FECB52"
          ],
          "font": {
           "color": "#2a3f5f"
          },
          "geo": {
           "bgcolor": "white",
           "lakecolor": "white",
           "landcolor": "#E5ECF6",
           "showlakes": true,
           "showland": true,
           "subunitcolor": "white"
          },
          "hoverlabel": {
           "align": "left"
          },
          "hovermode": "closest",
          "mapbox": {
           "style": "light"
          },
          "paper_bgcolor": "white",
          "plot_bgcolor": "#E5ECF6",
          "polar": {
           "angularaxis": {
            "gridcolor": "white",
            "linecolor": "white",
            "ticks": ""
           },
           "bgcolor": "#E5ECF6",
           "radialaxis": {
            "gridcolor": "white",
            "linecolor": "white",
            "ticks": ""
           }
          },
          "scene": {
           "xaxis": {
            "backgroundcolor": "#E5ECF6",
            "gridcolor": "white",
            "gridwidth": 2,
            "linecolor": "white",
            "showbackground": true,
            "ticks": "",
            "zerolinecolor": "white"
           },
           "yaxis": {
            "backgroundcolor": "#E5ECF6",
            "gridcolor": "white",
            "gridwidth": 2,
            "linecolor": "white",
            "showbackground": true,
            "ticks": "",
            "zerolinecolor": "white"
           },
           "zaxis": {
            "backgroundcolor": "#E5ECF6",
            "gridcolor": "white",
            "gridwidth": 2,
            "linecolor": "white",
            "showbackground": true,
            "ticks": "",
            "zerolinecolor": "white"
           }
          },
          "shapedefaults": {
           "line": {
            "color": "#2a3f5f"
           }
          },
          "ternary": {
           "aaxis": {
            "gridcolor": "white",
            "linecolor": "white",
            "ticks": ""
           },
           "baxis": {
            "gridcolor": "white",
            "linecolor": "white",
            "ticks": ""
           },
           "bgcolor": "#E5ECF6",
           "caxis": {
            "gridcolor": "white",
            "linecolor": "white",
            "ticks": ""
           }
          },
          "title": {
           "x": 0.05
          },
          "xaxis": {
           "automargin": true,
           "gridcolor": "white",
           "linecolor": "white",
           "ticks": "",
           "title": {
            "standoff": 15
           },
           "zerolinecolor": "white",
           "zerolinewidth": 2
          },
          "yaxis": {
           "automargin": true,
           "gridcolor": "white",
           "linecolor": "white",
           "ticks": "",
           "title": {
            "standoff": 15
           },
           "zerolinecolor": "white",
           "zerolinewidth": 2
          }
         }
        },
        "title": {
         "text": "Box plot with HSC Marks and Status "
        }
       }
      },
      "text/html": [
       "<div>\n",
       "        \n",
       "        \n",
       "            <div id=\"39b7ccbb-192b-4275-8641-ecb875ac7fbd\" class=\"plotly-graph-div\" style=\"height:525px; width:100%;\"></div>\n",
       "            <script type=\"text/javascript\">\n",
       "                require([\"plotly\"], function(Plotly) {\n",
       "                    window.PLOTLYENV=window.PLOTLYENV || {};\n",
       "                    window.PLOTLYENV.BASE_URL='https://plot.ly';\n",
       "                    \n",
       "                if (document.getElementById(\"39b7ccbb-192b-4275-8641-ecb875ac7fbd\")) {\n",
       "                    Plotly.newPlot(\n",
       "                        '39b7ccbb-192b-4275-8641-ecb875ac7fbd',\n",
       "                        [{\"boxpoints\": false, \"line\": {\"width\": 1.3}, \"marker\": {\"color\": \"rgba(255, 153, 51, 1.0)\"}, \"name\": \"Not Placed\", \"orientation\": \"v\", \"type\": \"box\", \"y\": [null, null, null, 52.0, null, 49.8, 49.2, null, null, 70.0, null, null, 55.0, null, 47.0, null, null, 67.0, 66.0, null, null, null, null, null, null, 54.6, null, null, null, 67.0, null, 53.0, null, null, 51.0, null, 44.0, null, null, null, null, 63.16, 39.0, null, null, 64.0, 71.98, null, null, 37.0, null, 61.12, 45.83, null, null, null, null, null, null, null, null, null, null, 70.0, null, 47.0, null, null, 47.0, null, null, null, null, null, null, 62.0, null, null, null, 62.0, null, null, 67.0, null, null, null, null, 51.0, null, null, null, 57.0, null, 62.0, null, null, null, 62.5, null, 82.0, 57.0, null, null, null, null, 64.0, 50.0, null, null, 63.0, null, 54.0, null, null, null, null, null, null, null, null, 40.0, null, null, null, null, null, null, null, null, null, 65.0, null, null, null, null, null, 59.0, null, null, null, null, 64.0, null, null, 50.0, null, null, null, null, 58.0, null, null, null, null, null, 74.66, null, null, 63.0, 49.0, null, 51.0, null, null, null, 78.33, null, 62.0, 51.0, 42.16, 67.2, null, null, 52.0, null, 62.0, null, null, null, 64.0, null, 60.33, 65.0, null, 62.83, null, 64.0, null, 47.0, 77.6, 70.2, null, null, null, 55.0, null, null, null, 70.0, null, null, 63.0, null, null, null, null, 42.0, null, 60.0, null, null, null, null, null, 58.0]}, {\"boxpoints\": false, \"line\": {\"width\": 1.3}, \"marker\": {\"color\": \"rgba(55, 128, 191, 1.0)\"}, \"name\": \"Placed\", \"orientation\": \"v\", \"type\": \"box\", \"y\": [91.0, 78.33, 68.0, null, 73.6, null, null, 64.0, 79.0, null, 61.0, 68.4, null, 87.0, null, 75.0, 66.2, null, null, 67.0, 65.0, 76.0, 60.8, 60.0, 97.7, null, 79.0, 67.0, 76.5, null, 73.5, null, 81.0, 65.0, null, 78.0, null, 76.0, 58.0, 68.0, 77.0, null, null, 87.0, 73.0, null, null, 60.0, 62.0, null, 73.2, null, null, 70.0, 60.0, 66.6, 71.4, 76.0, 62.0, 65.58, 70.0, 73.4, 64.2, null, 73.0, null, 74.0, 78.5, null, 73.0, 61.0, 70.29, 67.0, 83.83, 64.8, null, 70.4, 80.0, 90.9, null, 62.0, 63.0, null, 79.0, 63.0, 89.83, 63.0, null, 62.0, 75.0, 90.0, null, 69.0, null, 62.0, 78.0, 70.0, null, 73.0, null, null, 72.0, 61.0, 78.0, 63.0, null, null, 90.0, 82.0, null, 70.0, null, 61.0, 79.0, 68.0, 63.0, 72.8, 75.0, 80.0, 68.4, null, 67.0, 66.8, 59.0, 71.0, 73.0, 61.0, 60.0, 73.4, 89.7, null, 57.0, 68.0, 64.0, 92.0, 56.0, null, 63.0, 64.0, 70.0, 64.8, null, 60.0, 64.89, null, 65.66, 63.0, 74.0, 86.0, null, 58.66, 65.0, 60.5, 59.0, 63.0, null, 69.4, 62.5, null, null, 74.0, null, 87.6, 67.0, 72.5, null, 62.0, null, null, null, null, 80.0, 58.0, null, 50.83, null, 60.0, 97.0, 56.0, null, 71.5, null, null, 77.0, null, 72.0, null, 65.5, null, null, null, 61.0, 61.4, 63.0, null, 76.0, 63.0, 53.0, null, 65.0, 60.0, null, 63.0, 61.33, 73.0, 62.0, null, 78.0, null, 72.0, 82.0, 60.0, 67.0, 66.0, null]}],\n",
       "                        {\"template\": {\"data\": {\"bar\": [{\"error_x\": {\"color\": \"#2a3f5f\"}, \"error_y\": {\"color\": \"#2a3f5f\"}, \"marker\": {\"line\": {\"color\": \"#E5ECF6\", \"width\": 0.5}}, \"type\": \"bar\"}], \"barpolar\": [{\"marker\": {\"line\": {\"color\": \"#E5ECF6\", \"width\": 0.5}}, \"type\": \"barpolar\"}], \"carpet\": [{\"aaxis\": {\"endlinecolor\": \"#2a3f5f\", \"gridcolor\": \"white\", \"linecolor\": \"white\", \"minorgridcolor\": \"white\", \"startlinecolor\": \"#2a3f5f\"}, \"baxis\": {\"endlinecolor\": \"#2a3f5f\", \"gridcolor\": \"white\", \"linecolor\": \"white\", \"minorgridcolor\": \"white\", \"startlinecolor\": \"#2a3f5f\"}, \"type\": \"carpet\"}], \"choropleth\": [{\"colorbar\": {\"outlinewidth\": 0, \"ticks\": \"\"}, \"type\": \"choropleth\"}], \"contour\": [{\"colorbar\": {\"outlinewidth\": 0, \"ticks\": \"\"}, \"colorscale\": [[0.0, \"#0d0887\"], [0.1111111111111111, \"#46039f\"], [0.2222222222222222, \"#7201a8\"], [0.3333333333333333, \"#9c179e\"], [0.4444444444444444, \"#bd3786\"], [0.5555555555555556, \"#d8576b\"], [0.6666666666666666, \"#ed7953\"], [0.7777777777777778, \"#fb9f3a\"], [0.8888888888888888, \"#fdca26\"], [1.0, \"#f0f921\"]], \"type\": \"contour\"}], \"contourcarpet\": [{\"colorbar\": {\"outlinewidth\": 0, \"ticks\": \"\"}, \"type\": \"contourcarpet\"}], \"heatmap\": [{\"colorbar\": {\"outlinewidth\": 0, \"ticks\": \"\"}, \"colorscale\": [[0.0, \"#0d0887\"], [0.1111111111111111, \"#46039f\"], [0.2222222222222222, \"#7201a8\"], [0.3333333333333333, \"#9c179e\"], [0.4444444444444444, \"#bd3786\"], [0.5555555555555556, \"#d8576b\"], [0.6666666666666666, \"#ed7953\"], [0.7777777777777778, \"#fb9f3a\"], [0.8888888888888888, \"#fdca26\"], [1.0, \"#f0f921\"]], \"type\": \"heatmap\"}], \"heatmapgl\": [{\"colorbar\": {\"outlinewidth\": 0, \"ticks\": \"\"}, \"colorscale\": [[0.0, \"#0d0887\"], [0.1111111111111111, \"#46039f\"], [0.2222222222222222, \"#7201a8\"], [0.3333333333333333, \"#9c179e\"], [0.4444444444444444, \"#bd3786\"], [0.5555555555555556, \"#d8576b\"], [0.6666666666666666, \"#ed7953\"], [0.7777777777777778, \"#fb9f3a\"], [0.8888888888888888, \"#fdca26\"], [1.0, \"#f0f921\"]], \"type\": \"heatmapgl\"}], \"histogram\": [{\"marker\": {\"colorbar\": {\"outlinewidth\": 0, \"ticks\": \"\"}}, \"type\": \"histogram\"}], \"histogram2d\": [{\"colorbar\": {\"outlinewidth\": 0, \"ticks\": \"\"}, \"colorscale\": [[0.0, \"#0d0887\"], [0.1111111111111111, \"#46039f\"], [0.2222222222222222, \"#7201a8\"], [0.3333333333333333, \"#9c179e\"], [0.4444444444444444, \"#bd3786\"], [0.5555555555555556, \"#d8576b\"], [0.6666666666666666, \"#ed7953\"], [0.7777777777777778, \"#fb9f3a\"], [0.8888888888888888, \"#fdca26\"], [1.0, \"#f0f921\"]], \"type\": \"histogram2d\"}], \"histogram2dcontour\": [{\"colorbar\": {\"outlinewidth\": 0, \"ticks\": \"\"}, \"colorscale\": [[0.0, \"#0d0887\"], [0.1111111111111111, \"#46039f\"], [0.2222222222222222, \"#7201a8\"], [0.3333333333333333, \"#9c179e\"], [0.4444444444444444, \"#bd3786\"], [0.5555555555555556, \"#d8576b\"], [0.6666666666666666, \"#ed7953\"], [0.7777777777777778, \"#fb9f3a\"], [0.8888888888888888, \"#fdca26\"], [1.0, \"#f0f921\"]], \"type\": \"histogram2dcontour\"}], \"mesh3d\": [{\"colorbar\": {\"outlinewidth\": 0, \"ticks\": \"\"}, \"type\": \"mesh3d\"}], \"parcoords\": [{\"line\": {\"colorbar\": {\"outlinewidth\": 0, \"ticks\": \"\"}}, \"type\": \"parcoords\"}], \"pie\": [{\"automargin\": true, \"type\": \"pie\"}], \"scatter\": [{\"marker\": {\"colorbar\": {\"outlinewidth\": 0, \"ticks\": \"\"}}, \"type\": \"scatter\"}], \"scatter3d\": [{\"line\": {\"colorbar\": {\"outlinewidth\": 0, \"ticks\": \"\"}}, \"marker\": {\"colorbar\": {\"outlinewidth\": 0, \"ticks\": \"\"}}, \"type\": \"scatter3d\"}], \"scattercarpet\": [{\"marker\": {\"colorbar\": {\"outlinewidth\": 0, \"ticks\": \"\"}}, \"type\": \"scattercarpet\"}], \"scattergeo\": [{\"marker\": {\"colorbar\": {\"outlinewidth\": 0, \"ticks\": \"\"}}, \"type\": \"scattergeo\"}], \"scattergl\": [{\"marker\": {\"colorbar\": {\"outlinewidth\": 0, \"ticks\": \"\"}}, \"type\": \"scattergl\"}], \"scattermapbox\": [{\"marker\": {\"colorbar\": {\"outlinewidth\": 0, \"ticks\": \"\"}}, \"type\": \"scattermapbox\"}], \"scatterpolar\": [{\"marker\": {\"colorbar\": {\"outlinewidth\": 0, \"ticks\": \"\"}}, \"type\": \"scatterpolar\"}], \"scatterpolargl\": [{\"marker\": {\"colorbar\": {\"outlinewidth\": 0, \"ticks\": \"\"}}, \"type\": \"scatterpolargl\"}], \"scatterternary\": [{\"marker\": {\"colorbar\": {\"outlinewidth\": 0, \"ticks\": \"\"}}, \"type\": \"scatterternary\"}], \"surface\": [{\"colorbar\": {\"outlinewidth\": 0, \"ticks\": \"\"}, \"colorscale\": [[0.0, \"#0d0887\"], [0.1111111111111111, \"#46039f\"], [0.2222222222222222, \"#7201a8\"], [0.3333333333333333, \"#9c179e\"], [0.4444444444444444, \"#bd3786\"], [0.5555555555555556, \"#d8576b\"], [0.6666666666666666, \"#ed7953\"], [0.7777777777777778, \"#fb9f3a\"], [0.8888888888888888, \"#fdca26\"], [1.0, \"#f0f921\"]], \"type\": \"surface\"}], \"table\": [{\"cells\": {\"fill\": {\"color\": \"#EBF0F8\"}, \"line\": {\"color\": \"white\"}}, \"header\": {\"fill\": {\"color\": \"#C8D4E3\"}, \"line\": {\"color\": \"white\"}}, \"type\": \"table\"}]}, \"layout\": {\"annotationdefaults\": {\"arrowcolor\": \"#2a3f5f\", \"arrowhead\": 0, \"arrowwidth\": 1}, \"coloraxis\": {\"colorbar\": {\"outlinewidth\": 0, \"ticks\": \"\"}}, \"colorscale\": {\"diverging\": [[0, \"#8e0152\"], [0.1, \"#c51b7d\"], [0.2, \"#de77ae\"], [0.3, \"#f1b6da\"], [0.4, \"#fde0ef\"], [0.5, \"#f7f7f7\"], [0.6, \"#e6f5d0\"], [0.7, \"#b8e186\"], [0.8, \"#7fbc41\"], [0.9, \"#4d9221\"], [1, \"#276419\"]], \"sequential\": [[0.0, \"#0d0887\"], [0.1111111111111111, \"#46039f\"], [0.2222222222222222, \"#7201a8\"], [0.3333333333333333, \"#9c179e\"], [0.4444444444444444, \"#bd3786\"], [0.5555555555555556, \"#d8576b\"], [0.6666666666666666, \"#ed7953\"], [0.7777777777777778, \"#fb9f3a\"], [0.8888888888888888, \"#fdca26\"], [1.0, \"#f0f921\"]], \"sequentialminus\": [[0.0, \"#0d0887\"], [0.1111111111111111, \"#46039f\"], [0.2222222222222222, \"#7201a8\"], [0.3333333333333333, \"#9c179e\"], [0.4444444444444444, \"#bd3786\"], [0.5555555555555556, \"#d8576b\"], [0.6666666666666666, \"#ed7953\"], [0.7777777777777778, \"#fb9f3a\"], [0.8888888888888888, \"#fdca26\"], [1.0, \"#f0f921\"]]}, \"colorway\": [\"#636efa\", \"#EF553B\", \"#00cc96\", \"#ab63fa\", \"#FFA15A\", \"#19d3f3\", \"#FF6692\", \"#B6E880\", \"#FF97FF\", \"#FECB52\"], \"font\": {\"color\": \"#2a3f5f\"}, \"geo\": {\"bgcolor\": \"white\", \"lakecolor\": \"white\", \"landcolor\": \"#E5ECF6\", \"showlakes\": true, \"showland\": true, \"subunitcolor\": \"white\"}, \"hoverlabel\": {\"align\": \"left\"}, \"hovermode\": \"closest\", \"mapbox\": {\"style\": \"light\"}, \"paper_bgcolor\": \"white\", \"plot_bgcolor\": \"#E5ECF6\", \"polar\": {\"angularaxis\": {\"gridcolor\": \"white\", \"linecolor\": \"white\", \"ticks\": \"\"}, \"bgcolor\": \"#E5ECF6\", \"radialaxis\": {\"gridcolor\": \"white\", \"linecolor\": \"white\", \"ticks\": \"\"}}, \"scene\": {\"xaxis\": {\"backgroundcolor\": \"#E5ECF6\", \"gridcolor\": \"white\", \"gridwidth\": 2, \"linecolor\": \"white\", \"showbackground\": true, \"ticks\": \"\", \"zerolinecolor\": \"white\"}, \"yaxis\": {\"backgroundcolor\": \"#E5ECF6\", \"gridcolor\": \"white\", \"gridwidth\": 2, \"linecolor\": \"white\", \"showbackground\": true, \"ticks\": \"\", \"zerolinecolor\": \"white\"}, \"zaxis\": {\"backgroundcolor\": \"#E5ECF6\", \"gridcolor\": \"white\", \"gridwidth\": 2, \"linecolor\": \"white\", \"showbackground\": true, \"ticks\": \"\", \"zerolinecolor\": \"white\"}}, \"shapedefaults\": {\"line\": {\"color\": \"#2a3f5f\"}}, \"ternary\": {\"aaxis\": {\"gridcolor\": \"white\", \"linecolor\": \"white\", \"ticks\": \"\"}, \"baxis\": {\"gridcolor\": \"white\", \"linecolor\": \"white\", \"ticks\": \"\"}, \"bgcolor\": \"#E5ECF6\", \"caxis\": {\"gridcolor\": \"white\", \"linecolor\": \"white\", \"ticks\": \"\"}}, \"title\": {\"x\": 0.05}, \"xaxis\": {\"automargin\": true, \"gridcolor\": \"white\", \"linecolor\": \"white\", \"ticks\": \"\", \"title\": {\"standoff\": 15}, \"zerolinecolor\": \"white\", \"zerolinewidth\": 2}, \"yaxis\": {\"automargin\": true, \"gridcolor\": \"white\", \"linecolor\": \"white\", \"ticks\": \"\", \"title\": {\"standoff\": 15}, \"zerolinecolor\": \"white\", \"zerolinewidth\": 2}}}, \"title\": {\"text\": \"Box plot with HSC Marks and Status \"}},\n",
       "                        {\"showLink\": true, \"linkText\": \"Export to plot.ly\", \"plotlyServerURL\": \"https://plot.ly\", \"responsive\": true}\n",
       "                    ).then(function(){\n",
       "                            \n",
       "var gd = document.getElementById('39b7ccbb-192b-4275-8641-ecb875ac7fbd');\n",
       "var x = new MutationObserver(function (mutations, observer) {{\n",
       "        var display = window.getComputedStyle(gd).display;\n",
       "        if (!display || display === 'none') {{\n",
       "            console.log([gd, 'removed!']);\n",
       "            Plotly.purge(gd);\n",
       "            observer.disconnect();\n",
       "        }}\n",
       "}});\n",
       "\n",
       "// Listen for the removal of the full notebook cells\n",
       "var notebookContainer = gd.closest('#notebook-container');\n",
       "if (notebookContainer) {{\n",
       "    x.observe(notebookContainer, {childList: true});\n",
       "}}\n",
       "\n",
       "// Listen for the clearing of the current output cell\n",
       "var outputEl = gd.closest('.output');\n",
       "if (outputEl) {{\n",
       "    x.observe(outputEl, {childList: true});\n",
       "}}\n",
       "\n",
       "                        })\n",
       "                };\n",
       "                });\n",
       "            </script>\n",
       "        </div>"
      ]
     },
     "metadata": {},
     "output_type": "display_data"
    }
   ],
   "source": [
    "#we will get help from pivot tables to get Fare values in different columns for each class.\n",
    "layout=dict(title=\"Box plot with HSC Marks and Status \")\n",
    "camp[['hsc_p', 'status']].pivot(columns='status', values='hsc_p').iplot(kind='box',layout=layout,xTitle='status',yTitle=\"hsc_p\")\n"
   ]
  },
  {
   "cell_type": "code",
   "execution_count": 27,
   "metadata": {},
   "outputs": [
    {
     "data": {
      "application/vnd.plotly.v1+json": {
       "config": {
        "linkText": "Export to plot.ly",
        "plotlyServerURL": "https://plot.ly",
        "showLink": true
       },
       "data": [
        {
         "boxpoints": false,
         "line": {
          "width": 1.3
         },
         "marker": {
          "color": "rgba(255, 153, 51, 1.0)"
         },
         "name": "Not Placed",
         "orientation": "v",
         "type": "box",
         "y": [
          null,
          null,
          null,
          56,
          null,
          55,
          46,
          null,
          null,
          58,
          null,
          null,
          47,
          null,
          62,
          null,
          null,
          55,
          63,
          null,
          null,
          null,
          null,
          null,
          null,
          52.58,
          null,
          null,
          null,
          62,
          null,
          67,
          null,
          null,
          62,
          null,
          51,
          null,
          null,
          null,
          null,
          74,
          49,
          null,
          null,
          76,
          70.89,
          null,
          null,
          50,
          null,
          54.4,
          40.89,
          null,
          null,
          null,
          null,
          null,
          null,
          null,
          null,
          null,
          null,
          61,
          null,
          54,
          null,
          null,
          69.7,
          null,
          null,
          null,
          null,
          null,
          null,
          59,
          null,
          null,
          null,
          69,
          null,
          null,
          63,
          null,
          null,
          null,
          null,
          59.6,
          null,
          null,
          null,
          52,
          null,
          52,
          null,
          null,
          null,
          70.5,
          null,
          54,
          45,
          null,
          null,
          null,
          null,
          59,
          61.08,
          null,
          null,
          52,
          null,
          51,
          null,
          null,
          null,
          null,
          null,
          null,
          null,
          null,
          58,
          null,
          null,
          null,
          null,
          null,
          null,
          null,
          null,
          null,
          62,
          null,
          null,
          null,
          null,
          null,
          47,
          null,
          null,
          null,
          null,
          66,
          null,
          null,
          52,
          null,
          null,
          null,
          null,
          44,
          null,
          null,
          null,
          null,
          null,
          51.57,
          null,
          null,
          67,
          52,
          null,
          55.6,
          null,
          null,
          null,
          63.3,
          null,
          67.9,
          48,
          59.96,
          63.4,
          null,
          null,
          52,
          null,
          63,
          null,
          null,
          null,
          77.8,
          null,
          62,
          52,
          null,
          56.28,
          null,
          52,
          null,
          61.8,
          54,
          64,
          null,
          null,
          null,
          52,
          null,
          null,
          null,
          67,
          null,
          null,
          54.2,
          null,
          null,
          null,
          null,
          41,
          null,
          43,
          null,
          null,
          null,
          null,
          null,
          62
         ]
        },
        {
         "boxpoints": false,
         "line": {
          "width": 1.3
         },
         "marker": {
          "color": "rgba(55, 128, 191, 1.0)"
         },
         "name": "Placed",
         "orientation": "v",
         "type": "box",
         "y": [
          67,
          79.33,
          65,
          null,
          85.8,
          null,
          null,
          82,
          73,
          null,
          58,
          69.6,
          null,
          77,
          null,
          65,
          63,
          null,
          null,
          60,
          62,
          79,
          69.8,
          77.4,
          76.5,
          null,
          71,
          63,
          76.76,
          null,
          64,
          null,
          61,
          87,
          null,
          69,
          null,
          79,
          73,
          81,
          78,
          null,
          null,
          87,
          77,
          null,
          null,
          63,
          63,
          null,
          75.2,
          null,
          null,
          80,
          74,
          60.4,
          63,
          68,
          74,
          52.6,
          74,
          84.2,
          86.5,
          null,
          80,
          null,
          83,
          80.92,
          null,
          73,
          82,
          75,
          84.86,
          64.6,
          56.6,
          null,
          66.5,
          64,
          84,
          null,
          69,
          81.7,
          null,
          84,
          70,
          83.84,
          62,
          null,
          66,
          84,
          85,
          null,
          60.23,
          null,
          58,
          73,
          76,
          null,
          69,
          null,
          null,
          63,
          77,
          73,
          69,
          null,
          null,
          82,
          61,
          null,
          69.5,
          null,
          58,
          73.96,
          65,
          73,
          68.2,
          77,
          76,
          60.8,
          null,
          64,
          66.5,
          74,
          67,
          84,
          79,
          72,
          80.4,
          76.7,
          null,
          74.9,
          67,
          73,
          77.44,
          72,
          null,
          67,
          82,
          77,
          65,
          null,
          85,
          77.67,
          null,
          89.4,
          62,
          70,
          77,
          null,
          71,
          65,
          75.4,
          49,
          53,
          null,
          84.2,
          66.5,
          null,
          null,
          87,
          null,
          74.2,
          63,
          67.16,
          null,
          62,
          null,
          null,
          null,
          null,
          80,
          73,
          null,
          73.24,
          null,
          59,
          73,
          68,
          null,
          65,
          null,
          null,
          65,
          null,
          88,
          null,
          78.5,
          null,
          null,
          null,
          67,
          65.2,
          60,
          null,
          66,
          72,
          83.96,
          null,
          69,
          69,
          null,
          70,
          55.68,
          74,
          61,
          null,
          83.33,
          null,
          62,
          80.6,
          58,
          67,
          74,
          null
         ]
        }
       ],
       "layout": {
        "template": {
         "data": {
          "bar": [
           {
            "error_x": {
             "color": "#2a3f5f"
            },
            "error_y": {
             "color": "#2a3f5f"
            },
            "marker": {
             "line": {
              "color": "#E5ECF6",
              "width": 0.5
             }
            },
            "type": "bar"
           }
          ],
          "barpolar": [
           {
            "marker": {
             "line": {
              "color": "#E5ECF6",
              "width": 0.5
             }
            },
            "type": "barpolar"
           }
          ],
          "carpet": [
           {
            "aaxis": {
             "endlinecolor": "#2a3f5f",
             "gridcolor": "white",
             "linecolor": "white",
             "minorgridcolor": "white",
             "startlinecolor": "#2a3f5f"
            },
            "baxis": {
             "endlinecolor": "#2a3f5f",
             "gridcolor": "white",
             "linecolor": "white",
             "minorgridcolor": "white",
             "startlinecolor": "#2a3f5f"
            },
            "type": "carpet"
           }
          ],
          "choropleth": [
           {
            "colorbar": {
             "outlinewidth": 0,
             "ticks": ""
            },
            "type": "choropleth"
           }
          ],
          "contour": [
           {
            "colorbar": {
             "outlinewidth": 0,
             "ticks": ""
            },
            "colorscale": [
             [
              0,
              "#0d0887"
             ],
             [
              0.1111111111111111,
              "#46039f"
             ],
             [
              0.2222222222222222,
              "#7201a8"
             ],
             [
              0.3333333333333333,
              "#9c179e"
             ],
             [
              0.4444444444444444,
              "#bd3786"
             ],
             [
              0.5555555555555556,
              "#d8576b"
             ],
             [
              0.6666666666666666,
              "#ed7953"
             ],
             [
              0.7777777777777778,
              "#fb9f3a"
             ],
             [
              0.8888888888888888,
              "#fdca26"
             ],
             [
              1,
              "#f0f921"
             ]
            ],
            "type": "contour"
           }
          ],
          "contourcarpet": [
           {
            "colorbar": {
             "outlinewidth": 0,
             "ticks": ""
            },
            "type": "contourcarpet"
           }
          ],
          "heatmap": [
           {
            "colorbar": {
             "outlinewidth": 0,
             "ticks": ""
            },
            "colorscale": [
             [
              0,
              "#0d0887"
             ],
             [
              0.1111111111111111,
              "#46039f"
             ],
             [
              0.2222222222222222,
              "#7201a8"
             ],
             [
              0.3333333333333333,
              "#9c179e"
             ],
             [
              0.4444444444444444,
              "#bd3786"
             ],
             [
              0.5555555555555556,
              "#d8576b"
             ],
             [
              0.6666666666666666,
              "#ed7953"
             ],
             [
              0.7777777777777778,
              "#fb9f3a"
             ],
             [
              0.8888888888888888,
              "#fdca26"
             ],
             [
              1,
              "#f0f921"
             ]
            ],
            "type": "heatmap"
           }
          ],
          "heatmapgl": [
           {
            "colorbar": {
             "outlinewidth": 0,
             "ticks": ""
            },
            "colorscale": [
             [
              0,
              "#0d0887"
             ],
             [
              0.1111111111111111,
              "#46039f"
             ],
             [
              0.2222222222222222,
              "#7201a8"
             ],
             [
              0.3333333333333333,
              "#9c179e"
             ],
             [
              0.4444444444444444,
              "#bd3786"
             ],
             [
              0.5555555555555556,
              "#d8576b"
             ],
             [
              0.6666666666666666,
              "#ed7953"
             ],
             [
              0.7777777777777778,
              "#fb9f3a"
             ],
             [
              0.8888888888888888,
              "#fdca26"
             ],
             [
              1,
              "#f0f921"
             ]
            ],
            "type": "heatmapgl"
           }
          ],
          "histogram": [
           {
            "marker": {
             "colorbar": {
              "outlinewidth": 0,
              "ticks": ""
             }
            },
            "type": "histogram"
           }
          ],
          "histogram2d": [
           {
            "colorbar": {
             "outlinewidth": 0,
             "ticks": ""
            },
            "colorscale": [
             [
              0,
              "#0d0887"
             ],
             [
              0.1111111111111111,
              "#46039f"
             ],
             [
              0.2222222222222222,
              "#7201a8"
             ],
             [
              0.3333333333333333,
              "#9c179e"
             ],
             [
              0.4444444444444444,
              "#bd3786"
             ],
             [
              0.5555555555555556,
              "#d8576b"
             ],
             [
              0.6666666666666666,
              "#ed7953"
             ],
             [
              0.7777777777777778,
              "#fb9f3a"
             ],
             [
              0.8888888888888888,
              "#fdca26"
             ],
             [
              1,
              "#f0f921"
             ]
            ],
            "type": "histogram2d"
           }
          ],
          "histogram2dcontour": [
           {
            "colorbar": {
             "outlinewidth": 0,
             "ticks": ""
            },
            "colorscale": [
             [
              0,
              "#0d0887"
             ],
             [
              0.1111111111111111,
              "#46039f"
             ],
             [
              0.2222222222222222,
              "#7201a8"
             ],
             [
              0.3333333333333333,
              "#9c179e"
             ],
             [
              0.4444444444444444,
              "#bd3786"
             ],
             [
              0.5555555555555556,
              "#d8576b"
             ],
             [
              0.6666666666666666,
              "#ed7953"
             ],
             [
              0.7777777777777778,
              "#fb9f3a"
             ],
             [
              0.8888888888888888,
              "#fdca26"
             ],
             [
              1,
              "#f0f921"
             ]
            ],
            "type": "histogram2dcontour"
           }
          ],
          "mesh3d": [
           {
            "colorbar": {
             "outlinewidth": 0,
             "ticks": ""
            },
            "type": "mesh3d"
           }
          ],
          "parcoords": [
           {
            "line": {
             "colorbar": {
              "outlinewidth": 0,
              "ticks": ""
             }
            },
            "type": "parcoords"
           }
          ],
          "pie": [
           {
            "automargin": true,
            "type": "pie"
           }
          ],
          "scatter": [
           {
            "marker": {
             "colorbar": {
              "outlinewidth": 0,
              "ticks": ""
             }
            },
            "type": "scatter"
           }
          ],
          "scatter3d": [
           {
            "line": {
             "colorbar": {
              "outlinewidth": 0,
              "ticks": ""
             }
            },
            "marker": {
             "colorbar": {
              "outlinewidth": 0,
              "ticks": ""
             }
            },
            "type": "scatter3d"
           }
          ],
          "scattercarpet": [
           {
            "marker": {
             "colorbar": {
              "outlinewidth": 0,
              "ticks": ""
             }
            },
            "type": "scattercarpet"
           }
          ],
          "scattergeo": [
           {
            "marker": {
             "colorbar": {
              "outlinewidth": 0,
              "ticks": ""
             }
            },
            "type": "scattergeo"
           }
          ],
          "scattergl": [
           {
            "marker": {
             "colorbar": {
              "outlinewidth": 0,
              "ticks": ""
             }
            },
            "type": "scattergl"
           }
          ],
          "scattermapbox": [
           {
            "marker": {
             "colorbar": {
              "outlinewidth": 0,
              "ticks": ""
             }
            },
            "type": "scattermapbox"
           }
          ],
          "scatterpolar": [
           {
            "marker": {
             "colorbar": {
              "outlinewidth": 0,
              "ticks": ""
             }
            },
            "type": "scatterpolar"
           }
          ],
          "scatterpolargl": [
           {
            "marker": {
             "colorbar": {
              "outlinewidth": 0,
              "ticks": ""
             }
            },
            "type": "scatterpolargl"
           }
          ],
          "scatterternary": [
           {
            "marker": {
             "colorbar": {
              "outlinewidth": 0,
              "ticks": ""
             }
            },
            "type": "scatterternary"
           }
          ],
          "surface": [
           {
            "colorbar": {
             "outlinewidth": 0,
             "ticks": ""
            },
            "colorscale": [
             [
              0,
              "#0d0887"
             ],
             [
              0.1111111111111111,
              "#46039f"
             ],
             [
              0.2222222222222222,
              "#7201a8"
             ],
             [
              0.3333333333333333,
              "#9c179e"
             ],
             [
              0.4444444444444444,
              "#bd3786"
             ],
             [
              0.5555555555555556,
              "#d8576b"
             ],
             [
              0.6666666666666666,
              "#ed7953"
             ],
             [
              0.7777777777777778,
              "#fb9f3a"
             ],
             [
              0.8888888888888888,
              "#fdca26"
             ],
             [
              1,
              "#f0f921"
             ]
            ],
            "type": "surface"
           }
          ],
          "table": [
           {
            "cells": {
             "fill": {
              "color": "#EBF0F8"
             },
             "line": {
              "color": "white"
             }
            },
            "header": {
             "fill": {
              "color": "#C8D4E3"
             },
             "line": {
              "color": "white"
             }
            },
            "type": "table"
           }
          ]
         },
         "layout": {
          "annotationdefaults": {
           "arrowcolor": "#2a3f5f",
           "arrowhead": 0,
           "arrowwidth": 1
          },
          "coloraxis": {
           "colorbar": {
            "outlinewidth": 0,
            "ticks": ""
           }
          },
          "colorscale": {
           "diverging": [
            [
             0,
             "#8e0152"
            ],
            [
             0.1,
             "#c51b7d"
            ],
            [
             0.2,
             "#de77ae"
            ],
            [
             0.3,
             "#f1b6da"
            ],
            [
             0.4,
             "#fde0ef"
            ],
            [
             0.5,
             "#f7f7f7"
            ],
            [
             0.6,
             "#e6f5d0"
            ],
            [
             0.7,
             "#b8e186"
            ],
            [
             0.8,
             "#7fbc41"
            ],
            [
             0.9,
             "#4d9221"
            ],
            [
             1,
             "#276419"
            ]
           ],
           "sequential": [
            [
             0,
             "#0d0887"
            ],
            [
             0.1111111111111111,
             "#46039f"
            ],
            [
             0.2222222222222222,
             "#7201a8"
            ],
            [
             0.3333333333333333,
             "#9c179e"
            ],
            [
             0.4444444444444444,
             "#bd3786"
            ],
            [
             0.5555555555555556,
             "#d8576b"
            ],
            [
             0.6666666666666666,
             "#ed7953"
            ],
            [
             0.7777777777777778,
             "#fb9f3a"
            ],
            [
             0.8888888888888888,
             "#fdca26"
            ],
            [
             1,
             "#f0f921"
            ]
           ],
           "sequentialminus": [
            [
             0,
             "#0d0887"
            ],
            [
             0.1111111111111111,
             "#46039f"
            ],
            [
             0.2222222222222222,
             "#7201a8"
            ],
            [
             0.3333333333333333,
             "#9c179e"
            ],
            [
             0.4444444444444444,
             "#bd3786"
            ],
            [
             0.5555555555555556,
             "#d8576b"
            ],
            [
             0.6666666666666666,
             "#ed7953"
            ],
            [
             0.7777777777777778,
             "#fb9f3a"
            ],
            [
             0.8888888888888888,
             "#fdca26"
            ],
            [
             1,
             "#f0f921"
            ]
           ]
          },
          "colorway": [
           "#636efa",
           "#EF553B",
           "#00cc96",
           "#ab63fa",
           "#FFA15A",
           "#19d3f3",
           "#FF6692",
           "#B6E880",
           "#FF97FF",
           "#FECB52"
          ],
          "font": {
           "color": "#2a3f5f"
          },
          "geo": {
           "bgcolor": "white",
           "lakecolor": "white",
           "landcolor": "#E5ECF6",
           "showlakes": true,
           "showland": true,
           "subunitcolor": "white"
          },
          "hoverlabel": {
           "align": "left"
          },
          "hovermode": "closest",
          "mapbox": {
           "style": "light"
          },
          "paper_bgcolor": "white",
          "plot_bgcolor": "#E5ECF6",
          "polar": {
           "angularaxis": {
            "gridcolor": "white",
            "linecolor": "white",
            "ticks": ""
           },
           "bgcolor": "#E5ECF6",
           "radialaxis": {
            "gridcolor": "white",
            "linecolor": "white",
            "ticks": ""
           }
          },
          "scene": {
           "xaxis": {
            "backgroundcolor": "#E5ECF6",
            "gridcolor": "white",
            "gridwidth": 2,
            "linecolor": "white",
            "showbackground": true,
            "ticks": "",
            "zerolinecolor": "white"
           },
           "yaxis": {
            "backgroundcolor": "#E5ECF6",
            "gridcolor": "white",
            "gridwidth": 2,
            "linecolor": "white",
            "showbackground": true,
            "ticks": "",
            "zerolinecolor": "white"
           },
           "zaxis": {
            "backgroundcolor": "#E5ECF6",
            "gridcolor": "white",
            "gridwidth": 2,
            "linecolor": "white",
            "showbackground": true,
            "ticks": "",
            "zerolinecolor": "white"
           }
          },
          "shapedefaults": {
           "line": {
            "color": "#2a3f5f"
           }
          },
          "ternary": {
           "aaxis": {
            "gridcolor": "white",
            "linecolor": "white",
            "ticks": ""
           },
           "baxis": {
            "gridcolor": "white",
            "linecolor": "white",
            "ticks": ""
           },
           "bgcolor": "#E5ECF6",
           "caxis": {
            "gridcolor": "white",
            "linecolor": "white",
            "ticks": ""
           }
          },
          "title": {
           "x": 0.05
          },
          "xaxis": {
           "automargin": true,
           "gridcolor": "white",
           "linecolor": "white",
           "ticks": "",
           "title": {
            "standoff": 15
           },
           "zerolinecolor": "white",
           "zerolinewidth": 2
          },
          "yaxis": {
           "automargin": true,
           "gridcolor": "white",
           "linecolor": "white",
           "ticks": "",
           "title": {
            "standoff": 15
           },
           "zerolinecolor": "white",
           "zerolinewidth": 2
          }
         }
        },
        "title": {
         "text": "Box plot with HSC Marks and Status "
        }
       }
      },
      "text/html": [
       "<div>\n",
       "        \n",
       "        \n",
       "            <div id=\"41104012-6caf-4c77-8685-a7804ba9ab32\" class=\"plotly-graph-div\" style=\"height:525px; width:100%;\"></div>\n",
       "            <script type=\"text/javascript\">\n",
       "                require([\"plotly\"], function(Plotly) {\n",
       "                    window.PLOTLYENV=window.PLOTLYENV || {};\n",
       "                    window.PLOTLYENV.BASE_URL='https://plot.ly';\n",
       "                    \n",
       "                if (document.getElementById(\"41104012-6caf-4c77-8685-a7804ba9ab32\")) {\n",
       "                    Plotly.newPlot(\n",
       "                        '41104012-6caf-4c77-8685-a7804ba9ab32',\n",
       "                        [{\"boxpoints\": false, \"line\": {\"width\": 1.3}, \"marker\": {\"color\": \"rgba(255, 153, 51, 1.0)\"}, \"name\": \"Not Placed\", \"orientation\": \"v\", \"type\": \"box\", \"y\": [null, null, null, 56.0, null, 55.0, 46.0, null, null, 58.0, null, null, 47.0, null, 62.0, null, null, 55.0, 63.0, null, null, null, null, null, null, 52.58, null, null, null, 62.0, null, 67.0, null, null, 62.0, null, 51.0, null, null, null, null, 74.0, 49.0, null, null, 76.0, 70.89, null, null, 50.0, null, 54.4, 40.89, null, null, null, null, null, null, null, null, null, null, 61.0, null, 54.0, null, null, 69.7, null, null, null, null, null, null, 59.0, null, null, null, 69.0, null, null, 63.0, null, null, null, null, 59.6, null, null, null, 52.0, null, 52.0, null, null, null, 70.5, null, 54.0, 45.0, null, null, null, null, 59.0, 61.08, null, null, 52.0, null, 51.0, null, null, null, null, null, null, null, null, 58.0, null, null, null, null, null, null, null, null, null, 62.0, null, null, null, null, null, 47.0, null, null, null, null, 66.0, null, null, 52.0, null, null, null, null, 44.0, null, null, null, null, null, 51.57, null, null, 67.0, 52.0, null, 55.6, null, null, null, 63.3, null, 67.9, 48.0, 59.96, 63.4, null, null, 52.0, null, 63.0, null, null, null, 77.8, null, 62.0, 52.0, null, 56.28, null, 52.0, null, 61.8, 54.0, 64.0, null, null, null, 52.0, null, null, null, 67.0, null, null, 54.2, null, null, null, null, 41.0, null, 43.0, null, null, null, null, null, 62.0]}, {\"boxpoints\": false, \"line\": {\"width\": 1.3}, \"marker\": {\"color\": \"rgba(55, 128, 191, 1.0)\"}, \"name\": \"Placed\", \"orientation\": \"v\", \"type\": \"box\", \"y\": [67.0, 79.33, 65.0, null, 85.8, null, null, 82.0, 73.0, null, 58.0, 69.6, null, 77.0, null, 65.0, 63.0, null, null, 60.0, 62.0, 79.0, 69.8, 77.4, 76.5, null, 71.0, 63.0, 76.76, null, 64.0, null, 61.0, 87.0, null, 69.0, null, 79.0, 73.0, 81.0, 78.0, null, null, 87.0, 77.0, null, null, 63.0, 63.0, null, 75.2, null, null, 80.0, 74.0, 60.4, 63.0, 68.0, 74.0, 52.6, 74.0, 84.2, 86.5, null, 80.0, null, 83.0, 80.92, null, 73.0, 82.0, 75.0, 84.86, 64.6, 56.6, null, 66.5, 64.0, 84.0, null, 69.0, 81.7, null, 84.0, 70.0, 83.84, 62.0, null, 66.0, 84.0, 85.0, null, 60.23, null, 58.0, 73.0, 76.0, null, 69.0, null, null, 63.0, 77.0, 73.0, 69.0, null, null, 82.0, 61.0, null, 69.5, null, 58.0, 73.96, 65.0, 73.0, 68.2, 77.0, 76.0, 60.8, null, 64.0, 66.5, 74.0, 67.0, 84.0, 79.0, 72.0, 80.4, 76.7, null, 74.9, 67.0, 73.0, 77.44, 72.0, null, 67.0, 82.0, 77.0, 65.0, null, 85.0, 77.67, null, 89.4, 62.0, 70.0, 77.0, null, 71.0, 65.0, 75.4, 49.0, 53.0, null, 84.2, 66.5, null, null, 87.0, null, 74.2, 63.0, 67.16, null, 62.0, null, null, null, null, 80.0, 73.0, null, 73.24, null, 59.0, 73.0, 68.0, null, 65.0, null, null, 65.0, null, 88.0, null, 78.5, null, null, null, 67.0, 65.2, 60.0, null, 66.0, 72.0, 83.96, null, 69.0, 69.0, null, 70.0, 55.68, 74.0, 61.0, null, 83.33, null, 62.0, 80.6, 58.0, 67.0, 74.0, null]}],\n",
       "                        {\"template\": {\"data\": {\"bar\": [{\"error_x\": {\"color\": \"#2a3f5f\"}, \"error_y\": {\"color\": \"#2a3f5f\"}, \"marker\": {\"line\": {\"color\": \"#E5ECF6\", \"width\": 0.5}}, \"type\": \"bar\"}], \"barpolar\": [{\"marker\": {\"line\": {\"color\": \"#E5ECF6\", \"width\": 0.5}}, \"type\": \"barpolar\"}], \"carpet\": [{\"aaxis\": {\"endlinecolor\": \"#2a3f5f\", \"gridcolor\": \"white\", \"linecolor\": \"white\", \"minorgridcolor\": \"white\", \"startlinecolor\": \"#2a3f5f\"}, \"baxis\": {\"endlinecolor\": \"#2a3f5f\", \"gridcolor\": \"white\", \"linecolor\": \"white\", \"minorgridcolor\": \"white\", \"startlinecolor\": \"#2a3f5f\"}, \"type\": \"carpet\"}], \"choropleth\": [{\"colorbar\": {\"outlinewidth\": 0, \"ticks\": \"\"}, \"type\": \"choropleth\"}], \"contour\": [{\"colorbar\": {\"outlinewidth\": 0, \"ticks\": \"\"}, \"colorscale\": [[0.0, \"#0d0887\"], [0.1111111111111111, \"#46039f\"], [0.2222222222222222, \"#7201a8\"], [0.3333333333333333, \"#9c179e\"], [0.4444444444444444, \"#bd3786\"], [0.5555555555555556, \"#d8576b\"], [0.6666666666666666, \"#ed7953\"], [0.7777777777777778, \"#fb9f3a\"], [0.8888888888888888, \"#fdca26\"], [1.0, \"#f0f921\"]], \"type\": \"contour\"}], \"contourcarpet\": [{\"colorbar\": {\"outlinewidth\": 0, \"ticks\": \"\"}, \"type\": \"contourcarpet\"}], \"heatmap\": [{\"colorbar\": {\"outlinewidth\": 0, \"ticks\": \"\"}, \"colorscale\": [[0.0, \"#0d0887\"], [0.1111111111111111, \"#46039f\"], [0.2222222222222222, \"#7201a8\"], [0.3333333333333333, \"#9c179e\"], [0.4444444444444444, \"#bd3786\"], [0.5555555555555556, \"#d8576b\"], [0.6666666666666666, \"#ed7953\"], [0.7777777777777778, \"#fb9f3a\"], [0.8888888888888888, \"#fdca26\"], [1.0, \"#f0f921\"]], \"type\": \"heatmap\"}], \"heatmapgl\": [{\"colorbar\": {\"outlinewidth\": 0, \"ticks\": \"\"}, \"colorscale\": [[0.0, \"#0d0887\"], [0.1111111111111111, \"#46039f\"], [0.2222222222222222, \"#7201a8\"], [0.3333333333333333, \"#9c179e\"], [0.4444444444444444, \"#bd3786\"], [0.5555555555555556, \"#d8576b\"], [0.6666666666666666, \"#ed7953\"], [0.7777777777777778, \"#fb9f3a\"], [0.8888888888888888, \"#fdca26\"], [1.0, \"#f0f921\"]], \"type\": \"heatmapgl\"}], \"histogram\": [{\"marker\": {\"colorbar\": {\"outlinewidth\": 0, \"ticks\": \"\"}}, \"type\": \"histogram\"}], \"histogram2d\": [{\"colorbar\": {\"outlinewidth\": 0, \"ticks\": \"\"}, \"colorscale\": [[0.0, \"#0d0887\"], [0.1111111111111111, \"#46039f\"], [0.2222222222222222, \"#7201a8\"], [0.3333333333333333, \"#9c179e\"], [0.4444444444444444, \"#bd3786\"], [0.5555555555555556, \"#d8576b\"], [0.6666666666666666, \"#ed7953\"], [0.7777777777777778, \"#fb9f3a\"], [0.8888888888888888, \"#fdca26\"], [1.0, \"#f0f921\"]], \"type\": \"histogram2d\"}], \"histogram2dcontour\": [{\"colorbar\": {\"outlinewidth\": 0, \"ticks\": \"\"}, \"colorscale\": [[0.0, \"#0d0887\"], [0.1111111111111111, \"#46039f\"], [0.2222222222222222, \"#7201a8\"], [0.3333333333333333, \"#9c179e\"], [0.4444444444444444, \"#bd3786\"], [0.5555555555555556, \"#d8576b\"], [0.6666666666666666, \"#ed7953\"], [0.7777777777777778, \"#fb9f3a\"], [0.8888888888888888, \"#fdca26\"], [1.0, \"#f0f921\"]], \"type\": \"histogram2dcontour\"}], \"mesh3d\": [{\"colorbar\": {\"outlinewidth\": 0, \"ticks\": \"\"}, \"type\": \"mesh3d\"}], \"parcoords\": [{\"line\": {\"colorbar\": {\"outlinewidth\": 0, \"ticks\": \"\"}}, \"type\": \"parcoords\"}], \"pie\": [{\"automargin\": true, \"type\": \"pie\"}], \"scatter\": [{\"marker\": {\"colorbar\": {\"outlinewidth\": 0, \"ticks\": \"\"}}, \"type\": \"scatter\"}], \"scatter3d\": [{\"line\": {\"colorbar\": {\"outlinewidth\": 0, \"ticks\": \"\"}}, \"marker\": {\"colorbar\": {\"outlinewidth\": 0, \"ticks\": \"\"}}, \"type\": \"scatter3d\"}], \"scattercarpet\": [{\"marker\": {\"colorbar\": {\"outlinewidth\": 0, \"ticks\": \"\"}}, \"type\": \"scattercarpet\"}], \"scattergeo\": [{\"marker\": {\"colorbar\": {\"outlinewidth\": 0, \"ticks\": \"\"}}, \"type\": \"scattergeo\"}], \"scattergl\": [{\"marker\": {\"colorbar\": {\"outlinewidth\": 0, \"ticks\": \"\"}}, \"type\": \"scattergl\"}], \"scattermapbox\": [{\"marker\": {\"colorbar\": {\"outlinewidth\": 0, \"ticks\": \"\"}}, \"type\": \"scattermapbox\"}], \"scatterpolar\": [{\"marker\": {\"colorbar\": {\"outlinewidth\": 0, \"ticks\": \"\"}}, \"type\": \"scatterpolar\"}], \"scatterpolargl\": [{\"marker\": {\"colorbar\": {\"outlinewidth\": 0, \"ticks\": \"\"}}, \"type\": \"scatterpolargl\"}], \"scatterternary\": [{\"marker\": {\"colorbar\": {\"outlinewidth\": 0, \"ticks\": \"\"}}, \"type\": \"scatterternary\"}], \"surface\": [{\"colorbar\": {\"outlinewidth\": 0, \"ticks\": \"\"}, \"colorscale\": [[0.0, \"#0d0887\"], [0.1111111111111111, \"#46039f\"], [0.2222222222222222, \"#7201a8\"], [0.3333333333333333, \"#9c179e\"], [0.4444444444444444, \"#bd3786\"], [0.5555555555555556, \"#d8576b\"], [0.6666666666666666, \"#ed7953\"], [0.7777777777777778, \"#fb9f3a\"], [0.8888888888888888, \"#fdca26\"], [1.0, \"#f0f921\"]], \"type\": \"surface\"}], \"table\": [{\"cells\": {\"fill\": {\"color\": \"#EBF0F8\"}, \"line\": {\"color\": \"white\"}}, \"header\": {\"fill\": {\"color\": \"#C8D4E3\"}, \"line\": {\"color\": \"white\"}}, \"type\": \"table\"}]}, \"layout\": {\"annotationdefaults\": {\"arrowcolor\": \"#2a3f5f\", \"arrowhead\": 0, \"arrowwidth\": 1}, \"coloraxis\": {\"colorbar\": {\"outlinewidth\": 0, \"ticks\": \"\"}}, \"colorscale\": {\"diverging\": [[0, \"#8e0152\"], [0.1, \"#c51b7d\"], [0.2, \"#de77ae\"], [0.3, \"#f1b6da\"], [0.4, \"#fde0ef\"], [0.5, \"#f7f7f7\"], [0.6, \"#e6f5d0\"], [0.7, \"#b8e186\"], [0.8, \"#7fbc41\"], [0.9, \"#4d9221\"], [1, \"#276419\"]], \"sequential\": [[0.0, \"#0d0887\"], [0.1111111111111111, \"#46039f\"], [0.2222222222222222, \"#7201a8\"], [0.3333333333333333, \"#9c179e\"], [0.4444444444444444, \"#bd3786\"], [0.5555555555555556, \"#d8576b\"], [0.6666666666666666, \"#ed7953\"], [0.7777777777777778, \"#fb9f3a\"], [0.8888888888888888, \"#fdca26\"], [1.0, \"#f0f921\"]], \"sequentialminus\": [[0.0, \"#0d0887\"], [0.1111111111111111, \"#46039f\"], [0.2222222222222222, \"#7201a8\"], [0.3333333333333333, \"#9c179e\"], [0.4444444444444444, \"#bd3786\"], [0.5555555555555556, \"#d8576b\"], [0.6666666666666666, \"#ed7953\"], [0.7777777777777778, \"#fb9f3a\"], [0.8888888888888888, \"#fdca26\"], [1.0, \"#f0f921\"]]}, \"colorway\": [\"#636efa\", \"#EF553B\", \"#00cc96\", \"#ab63fa\", \"#FFA15A\", \"#19d3f3\", \"#FF6692\", \"#B6E880\", \"#FF97FF\", \"#FECB52\"], \"font\": {\"color\": \"#2a3f5f\"}, \"geo\": {\"bgcolor\": \"white\", \"lakecolor\": \"white\", \"landcolor\": \"#E5ECF6\", \"showlakes\": true, \"showland\": true, \"subunitcolor\": \"white\"}, \"hoverlabel\": {\"align\": \"left\"}, \"hovermode\": \"closest\", \"mapbox\": {\"style\": \"light\"}, \"paper_bgcolor\": \"white\", \"plot_bgcolor\": \"#E5ECF6\", \"polar\": {\"angularaxis\": {\"gridcolor\": \"white\", \"linecolor\": \"white\", \"ticks\": \"\"}, \"bgcolor\": \"#E5ECF6\", \"radialaxis\": {\"gridcolor\": \"white\", \"linecolor\": \"white\", \"ticks\": \"\"}}, \"scene\": {\"xaxis\": {\"backgroundcolor\": \"#E5ECF6\", \"gridcolor\": \"white\", \"gridwidth\": 2, \"linecolor\": \"white\", \"showbackground\": true, \"ticks\": \"\", \"zerolinecolor\": \"white\"}, \"yaxis\": {\"backgroundcolor\": \"#E5ECF6\", \"gridcolor\": \"white\", \"gridwidth\": 2, \"linecolor\": \"white\", \"showbackground\": true, \"ticks\": \"\", \"zerolinecolor\": \"white\"}, \"zaxis\": {\"backgroundcolor\": \"#E5ECF6\", \"gridcolor\": \"white\", \"gridwidth\": 2, \"linecolor\": \"white\", \"showbackground\": true, \"ticks\": \"\", \"zerolinecolor\": \"white\"}}, \"shapedefaults\": {\"line\": {\"color\": \"#2a3f5f\"}}, \"ternary\": {\"aaxis\": {\"gridcolor\": \"white\", \"linecolor\": \"white\", \"ticks\": \"\"}, \"baxis\": {\"gridcolor\": \"white\", \"linecolor\": \"white\", \"ticks\": \"\"}, \"bgcolor\": \"#E5ECF6\", \"caxis\": {\"gridcolor\": \"white\", \"linecolor\": \"white\", \"ticks\": \"\"}}, \"title\": {\"x\": 0.05}, \"xaxis\": {\"automargin\": true, \"gridcolor\": \"white\", \"linecolor\": \"white\", \"ticks\": \"\", \"title\": {\"standoff\": 15}, \"zerolinecolor\": \"white\", \"zerolinewidth\": 2}, \"yaxis\": {\"automargin\": true, \"gridcolor\": \"white\", \"linecolor\": \"white\", \"ticks\": \"\", \"title\": {\"standoff\": 15}, \"zerolinecolor\": \"white\", \"zerolinewidth\": 2}}}, \"title\": {\"text\": \"Box plot with HSC Marks and Status \"}},\n",
       "                        {\"showLink\": true, \"linkText\": \"Export to plot.ly\", \"plotlyServerURL\": \"https://plot.ly\", \"responsive\": true}\n",
       "                    ).then(function(){\n",
       "                            \n",
       "var gd = document.getElementById('41104012-6caf-4c77-8685-a7804ba9ab32');\n",
       "var x = new MutationObserver(function (mutations, observer) {{\n",
       "        var display = window.getComputedStyle(gd).display;\n",
       "        if (!display || display === 'none') {{\n",
       "            console.log([gd, 'removed!']);\n",
       "            Plotly.purge(gd);\n",
       "            observer.disconnect();\n",
       "        }}\n",
       "}});\n",
       "\n",
       "// Listen for the removal of the full notebook cells\n",
       "var notebookContainer = gd.closest('#notebook-container');\n",
       "if (notebookContainer) {{\n",
       "    x.observe(notebookContainer, {childList: true});\n",
       "}}\n",
       "\n",
       "// Listen for the clearing of the current output cell\n",
       "var outputEl = gd.closest('.output');\n",
       "if (outputEl) {{\n",
       "    x.observe(outputEl, {childList: true});\n",
       "}}\n",
       "\n",
       "                        })\n",
       "                };\n",
       "                });\n",
       "            </script>\n",
       "        </div>"
      ]
     },
     "metadata": {},
     "output_type": "display_data"
    }
   ],
   "source": [
    "layout=dict(title=\"Box plot with HSC Marks and Status \")\n",
    "camp[['ssc_p', 'status']].pivot(columns='status', values='ssc_p').iplot(kind='box',layout=layout,xTitle='status',yTitle=\"ssc_p\")\n"
   ]
  },
  {
   "cell_type": "code",
   "execution_count": null,
   "metadata": {},
   "outputs": [],
   "source": [
    "df1.head()"
   ]
  },
  {
   "cell_type": "code",
   "execution_count": null,
   "metadata": {},
   "outputs": [],
   "source": [
    "camp.gender.value_counts()"
   ]
  },
  {
   "cell_type": "code",
   "execution_count": null,
   "metadata": {},
   "outputs": [],
   "source": [
    "import plotly.express as px\n",
    "df = px.data.tips()\n",
    "fig = px.bar(df, x=\"sex\", y=\"total_bill\", color='time')\n",
    "df.head()"
   ]
  },
  {
   "cell_type": "markdown",
   "metadata": {},
   "source": [
    "# Splitting the data"
   ]
  },
  {
   "cell_type": "code",
   "execution_count": 49,
   "metadata": {},
   "outputs": [],
   "source": [
    "x=camp.drop(['status','salary','sl_no','Placed','Not Placed','status_num','workex_num'],axis=1)\n",
    "y=camp['status']\n",
    "\n",
    "x1=x.copy()"
   ]
  },
  {
   "cell_type": "code",
   "execution_count": 50,
   "metadata": {},
   "outputs": [
    {
     "data": {
      "text/html": [
       "<div>\n",
       "<style scoped>\n",
       "    .dataframe tbody tr th:only-of-type {\n",
       "        vertical-align: middle;\n",
       "    }\n",
       "\n",
       "    .dataframe tbody tr th {\n",
       "        vertical-align: top;\n",
       "    }\n",
       "\n",
       "    .dataframe thead th {\n",
       "        text-align: right;\n",
       "    }\n",
       "</style>\n",
       "<table border=\"1\" class=\"dataframe\">\n",
       "  <thead>\n",
       "    <tr style=\"text-align: right;\">\n",
       "      <th></th>\n",
       "      <th>gender</th>\n",
       "      <th>ssc_p</th>\n",
       "      <th>ssc_b</th>\n",
       "      <th>hsc_p</th>\n",
       "      <th>hsc_b</th>\n",
       "      <th>hsc_s</th>\n",
       "      <th>degree_p</th>\n",
       "      <th>degree_t</th>\n",
       "      <th>workex</th>\n",
       "      <th>etest_p</th>\n",
       "      <th>specialisation</th>\n",
       "      <th>mba_p</th>\n",
       "    </tr>\n",
       "  </thead>\n",
       "  <tbody>\n",
       "    <tr>\n",
       "      <th>0</th>\n",
       "      <td>M</td>\n",
       "      <td>67.00</td>\n",
       "      <td>Others</td>\n",
       "      <td>91.00</td>\n",
       "      <td>Others</td>\n",
       "      <td>Commerce</td>\n",
       "      <td>58.00</td>\n",
       "      <td>Sci&amp;Tech</td>\n",
       "      <td>No</td>\n",
       "      <td>55.0</td>\n",
       "      <td>Mkt&amp;HR</td>\n",
       "      <td>58.80</td>\n",
       "    </tr>\n",
       "    <tr>\n",
       "      <th>1</th>\n",
       "      <td>M</td>\n",
       "      <td>79.33</td>\n",
       "      <td>Central</td>\n",
       "      <td>78.33</td>\n",
       "      <td>Others</td>\n",
       "      <td>Science</td>\n",
       "      <td>77.48</td>\n",
       "      <td>Sci&amp;Tech</td>\n",
       "      <td>Yes</td>\n",
       "      <td>86.5</td>\n",
       "      <td>Mkt&amp;Fin</td>\n",
       "      <td>66.28</td>\n",
       "    </tr>\n",
       "    <tr>\n",
       "      <th>2</th>\n",
       "      <td>M</td>\n",
       "      <td>65.00</td>\n",
       "      <td>Central</td>\n",
       "      <td>68.00</td>\n",
       "      <td>Central</td>\n",
       "      <td>Arts</td>\n",
       "      <td>64.00</td>\n",
       "      <td>Comm&amp;Mgmt</td>\n",
       "      <td>No</td>\n",
       "      <td>75.0</td>\n",
       "      <td>Mkt&amp;Fin</td>\n",
       "      <td>57.80</td>\n",
       "    </tr>\n",
       "    <tr>\n",
       "      <th>3</th>\n",
       "      <td>M</td>\n",
       "      <td>56.00</td>\n",
       "      <td>Central</td>\n",
       "      <td>52.00</td>\n",
       "      <td>Central</td>\n",
       "      <td>Science</td>\n",
       "      <td>52.00</td>\n",
       "      <td>Sci&amp;Tech</td>\n",
       "      <td>No</td>\n",
       "      <td>66.0</td>\n",
       "      <td>Mkt&amp;HR</td>\n",
       "      <td>59.43</td>\n",
       "    </tr>\n",
       "    <tr>\n",
       "      <th>4</th>\n",
       "      <td>M</td>\n",
       "      <td>85.80</td>\n",
       "      <td>Central</td>\n",
       "      <td>73.60</td>\n",
       "      <td>Central</td>\n",
       "      <td>Commerce</td>\n",
       "      <td>73.30</td>\n",
       "      <td>Comm&amp;Mgmt</td>\n",
       "      <td>No</td>\n",
       "      <td>96.8</td>\n",
       "      <td>Mkt&amp;Fin</td>\n",
       "      <td>55.50</td>\n",
       "    </tr>\n",
       "  </tbody>\n",
       "</table>\n",
       "</div>"
      ],
      "text/plain": [
       "  gender  ssc_p    ssc_b  hsc_p    hsc_b     hsc_s  degree_p   degree_t  \\\n",
       "0      M  67.00   Others  91.00   Others  Commerce     58.00   Sci&Tech   \n",
       "1      M  79.33  Central  78.33   Others   Science     77.48   Sci&Tech   \n",
       "2      M  65.00  Central  68.00  Central      Arts     64.00  Comm&Mgmt   \n",
       "3      M  56.00  Central  52.00  Central   Science     52.00   Sci&Tech   \n",
       "4      M  85.80  Central  73.60  Central  Commerce     73.30  Comm&Mgmt   \n",
       "\n",
       "  workex  etest_p specialisation  mba_p  \n",
       "0     No     55.0         Mkt&HR  58.80  \n",
       "1    Yes     86.5        Mkt&Fin  66.28  \n",
       "2     No     75.0        Mkt&Fin  57.80  \n",
       "3     No     66.0         Mkt&HR  59.43  \n",
       "4     No     96.8        Mkt&Fin  55.50  "
      ]
     },
     "execution_count": 50,
     "metadata": {},
     "output_type": "execute_result"
    }
   ],
   "source": [
    "x.head()"
   ]
  },
  {
   "cell_type": "code",
   "execution_count": 51,
   "metadata": {},
   "outputs": [],
   "source": [
    "# Categorical boolean mask\n",
    "categorical_feature_mask = np.array(x1.dtypes==object)\n",
    "# filter categorical columns using mask and turn it into a list\n",
    "categorical_cols = x1.columns[categorical_feature_mask].tolist()"
   ]
  },
  {
   "cell_type": "code",
   "execution_count": 52,
   "metadata": {},
   "outputs": [],
   "source": [
    "from sklearn.preprocessing import LabelEncoder\n",
    "le = LabelEncoder()\n",
    "y= le.fit_transform(y)\n"
   ]
  },
  {
   "cell_type": "code",
   "execution_count": 53,
   "metadata": {},
   "outputs": [
    {
     "data": {
      "text/html": [
       "<div>\n",
       "<style scoped>\n",
       "    .dataframe tbody tr th:only-of-type {\n",
       "        vertical-align: middle;\n",
       "    }\n",
       "\n",
       "    .dataframe tbody tr th {\n",
       "        vertical-align: top;\n",
       "    }\n",
       "\n",
       "    .dataframe thead th {\n",
       "        text-align: right;\n",
       "    }\n",
       "</style>\n",
       "<table border=\"1\" class=\"dataframe\">\n",
       "  <thead>\n",
       "    <tr style=\"text-align: right;\">\n",
       "      <th></th>\n",
       "      <th>gender</th>\n",
       "      <th>ssc_b</th>\n",
       "      <th>hsc_b</th>\n",
       "      <th>hsc_s</th>\n",
       "      <th>degree_t</th>\n",
       "      <th>workex</th>\n",
       "      <th>specialisation</th>\n",
       "    </tr>\n",
       "  </thead>\n",
       "  <tbody>\n",
       "    <tr>\n",
       "      <th>0</th>\n",
       "      <td>1</td>\n",
       "      <td>1</td>\n",
       "      <td>1</td>\n",
       "      <td>1</td>\n",
       "      <td>2</td>\n",
       "      <td>0</td>\n",
       "      <td>1</td>\n",
       "    </tr>\n",
       "    <tr>\n",
       "      <th>1</th>\n",
       "      <td>1</td>\n",
       "      <td>0</td>\n",
       "      <td>1</td>\n",
       "      <td>2</td>\n",
       "      <td>2</td>\n",
       "      <td>1</td>\n",
       "      <td>0</td>\n",
       "    </tr>\n",
       "    <tr>\n",
       "      <th>2</th>\n",
       "      <td>1</td>\n",
       "      <td>0</td>\n",
       "      <td>0</td>\n",
       "      <td>0</td>\n",
       "      <td>0</td>\n",
       "      <td>0</td>\n",
       "      <td>0</td>\n",
       "    </tr>\n",
       "    <tr>\n",
       "      <th>3</th>\n",
       "      <td>1</td>\n",
       "      <td>0</td>\n",
       "      <td>0</td>\n",
       "      <td>2</td>\n",
       "      <td>2</td>\n",
       "      <td>0</td>\n",
       "      <td>1</td>\n",
       "    </tr>\n",
       "    <tr>\n",
       "      <th>4</th>\n",
       "      <td>1</td>\n",
       "      <td>0</td>\n",
       "      <td>0</td>\n",
       "      <td>1</td>\n",
       "      <td>0</td>\n",
       "      <td>0</td>\n",
       "      <td>0</td>\n",
       "    </tr>\n",
       "    <tr>\n",
       "      <th>5</th>\n",
       "      <td>1</td>\n",
       "      <td>1</td>\n",
       "      <td>1</td>\n",
       "      <td>2</td>\n",
       "      <td>2</td>\n",
       "      <td>1</td>\n",
       "      <td>0</td>\n",
       "    </tr>\n",
       "    <tr>\n",
       "      <th>6</th>\n",
       "      <td>0</td>\n",
       "      <td>1</td>\n",
       "      <td>1</td>\n",
       "      <td>1</td>\n",
       "      <td>0</td>\n",
       "      <td>0</td>\n",
       "      <td>0</td>\n",
       "    </tr>\n",
       "    <tr>\n",
       "      <th>7</th>\n",
       "      <td>1</td>\n",
       "      <td>0</td>\n",
       "      <td>0</td>\n",
       "      <td>2</td>\n",
       "      <td>2</td>\n",
       "      <td>1</td>\n",
       "      <td>0</td>\n",
       "    </tr>\n",
       "    <tr>\n",
       "      <th>8</th>\n",
       "      <td>1</td>\n",
       "      <td>0</td>\n",
       "      <td>0</td>\n",
       "      <td>1</td>\n",
       "      <td>0</td>\n",
       "      <td>0</td>\n",
       "      <td>0</td>\n",
       "    </tr>\n",
       "    <tr>\n",
       "      <th>9</th>\n",
       "      <td>1</td>\n",
       "      <td>0</td>\n",
       "      <td>0</td>\n",
       "      <td>1</td>\n",
       "      <td>0</td>\n",
       "      <td>0</td>\n",
       "      <td>0</td>\n",
       "    </tr>\n",
       "  </tbody>\n",
       "</table>\n",
       "</div>"
      ],
      "text/plain": [
       "   gender  ssc_b  hsc_b  hsc_s  degree_t  workex  specialisation\n",
       "0       1      1      1      1         2       0               1\n",
       "1       1      0      1      2         2       1               0\n",
       "2       1      0      0      0         0       0               0\n",
       "3       1      0      0      2         2       0               1\n",
       "4       1      0      0      1         0       0               0\n",
       "5       1      1      1      2         2       1               0\n",
       "6       0      1      1      1         0       0               0\n",
       "7       1      0      0      2         2       1               0\n",
       "8       1      0      0      1         0       0               0\n",
       "9       1      0      0      1         0       0               0"
      ]
     },
     "execution_count": 53,
     "metadata": {},
     "output_type": "execute_result"
    }
   ],
   "source": [
    "# apply le on categorical feature columns\n",
    "x1[categorical_cols] = x1[categorical_cols].apply(lambda col: le.fit_transform(col))\n",
    "x1[categorical_cols].head(10)"
   ]
  },
  {
   "cell_type": "code",
   "execution_count": 54,
   "metadata": {},
   "outputs": [
    {
     "data": {
      "text/plain": [
       "gender            0\n",
       "ssc_p             0\n",
       "ssc_b             0\n",
       "hsc_p             0\n",
       "hsc_b             0\n",
       "hsc_s             0\n",
       "degree_p          0\n",
       "degree_t          0\n",
       "workex            0\n",
       "etest_p           0\n",
       "specialisation    0\n",
       "mba_p             0\n",
       "dtype: int64"
      ]
     },
     "execution_count": 54,
     "metadata": {},
     "output_type": "execute_result"
    }
   ],
   "source": [
    "x1.isnull().sum()"
   ]
  },
  {
   "cell_type": "code",
   "execution_count": 55,
   "metadata": {},
   "outputs": [],
   "source": [
    "from sklearn.preprocessing import LabelEncoder\n",
    "le = LabelEncoder()\n",
    "y= le.fit_transform(y)"
   ]
  },
  {
   "cell_type": "code",
   "execution_count": 56,
   "metadata": {},
   "outputs": [],
   "source": [
    "from sklearn.model_selection import train_test_split\n",
    "xTrain, xTest, yTrain, yTest = train_test_split(x1, y, test_size = 0.2, random_state = 0)"
   ]
  },
  {
   "cell_type": "markdown",
   "metadata": {},
   "source": [
    "# RandomForest Classifier without HyperParameters\n"
   ]
  },
  {
   "cell_type": "code",
   "execution_count": 57,
   "metadata": {},
   "outputs": [],
   "source": [
    "from sklearn import model_selection\n",
    "from sklearn.ensemble import RandomForestClassifier\n",
    "# random forest model creation\n",
    "rfc = RandomForestClassifier(n_estimators=20, \n",
    "                               bootstrap = True,\n",
    "                               max_features = 'auto')\n",
    "rfc.fit(xTrain,yTrain)\n",
    "# predictions\n",
    "rfc_predict = rfc.predict(xTest)"
   ]
  },
  {
   "cell_type": "code",
   "execution_count": 58,
   "metadata": {},
   "outputs": [],
   "source": [
    "\n",
    "from sklearn.model_selection import cross_val_score\n",
    "from sklearn.metrics import confusion_matrix\n",
    "from sklearn.metrics import classification_report\n",
    "\n",
    "rfc_cv_score = cross_val_score(rfc,xTrain,yTrain, cv=10, scoring='roc_auc')"
   ]
  },
  {
   "cell_type": "code",
   "execution_count": 59,
   "metadata": {},
   "outputs": [
    {
     "name": "stdout",
     "output_type": "stream",
     "text": [
      "=== Confusion Matrix ===\n",
      "[[10  5]\n",
      " [ 0 28]]\n",
      "\n",
      "\n",
      "=== Classification Report ===\n",
      "              precision    recall  f1-score   support\n",
      "\n",
      "           0       1.00      0.67      0.80        15\n",
      "           1       0.85      1.00      0.92        28\n",
      "\n",
      "    accuracy                           0.88        43\n",
      "   macro avg       0.92      0.83      0.86        43\n",
      "weighted avg       0.90      0.88      0.88        43\n",
      "\n",
      "\n",
      "\n",
      "=== All AUC Scores ===\n",
      "[0.91666667 1.         0.81666667 0.83333333 0.96666667 0.91666667\n",
      " 0.96666667 0.9        0.9        0.90833333]\n",
      "\n",
      "\n",
      "=== Mean AUC Score ===\n",
      "Mean AUC Score - rfc:  0.9125\n"
     ]
    }
   ],
   "source": [
    "print(\"=== Confusion Matrix ===\")\n",
    "print(confusion_matrix(yTest,rfc_predict))\n",
    "print('\\n')\n",
    "print(\"=== Classification Report ===\")\n",
    "print(classification_report(yTest,rfc_predict))\n",
    "print('\\n')\n",
    "print(\"=== All AUC Scores ===\")\n",
    "print(rfc_cv_score)\n",
    "print('\\n')\n",
    "print(\"=== Mean AUC Score ===\")\n",
    "print(\"Mean AUC Score - rfc: \", rfc_cv_score.mean())"
   ]
  },
  {
   "cell_type": "markdown",
   "metadata": {},
   "source": [
    "# Random forest classifier with hyperparmeters"
   ]
  },
  {
   "cell_type": "code",
   "execution_count": null,
   "metadata": {},
   "outputs": [],
   "source": [
    "n_estimators=[500,800,1500,2500,5000]\n",
    "max_features=['auto','sqrt','log2']\n",
    "max_depth=[10,20,30,40,50]\n",
    "min_samples_split=[2,5,10,15,20]\n",
    "min_samples_leaf=[1,2,5,10,15]"
   ]
  },
  {
   "cell_type": "code",
   "execution_count": null,
   "metadata": {},
   "outputs": [],
   "source": [
    "grid_param={'n_estimators':n_estimators,\n",
    "           'max_features':max_features,\n",
    "           'max_depth':max_depth,\n",
    "           'min_samples_split':min_samples_split,\n",
    "            'min_samples_leaf':min_samples_leaf\n",
    "           }"
   ]
  },
  {
   "cell_type": "code",
   "execution_count": null,
   "metadata": {},
   "outputs": [],
   "source": [
    "from sklearn.model_selection import RandomizedSearchCV\n",
    "RFR=RandomForestClassifier(random_state=1)\n",
    "RFR_random=RandomizedSearchCV(estimator=RFR,\n",
    "                              param_distributions=grid_param,\n",
    "                             n_iter=500,cv=5,verbose=2,random_state=42,n_jobs=-1)\n"
   ]
  },
  {
   "cell_type": "code",
   "execution_count": null,
   "metadata": {},
   "outputs": [],
   "source": [
    "RFR_random.fit(x_code,y)\n",
    "print(RFR_random.best_params_)"
   ]
  },
  {
   "cell_type": "code",
   "execution_count": 60,
   "metadata": {},
   "outputs": [],
   "source": [
    "from sklearn import model_selection\n",
    "from sklearn.ensemble import RandomForestClassifier\n",
    "# random forest model creation\n",
    "rfc = RandomForestClassifier(n_estimators=1500, \n",
    "                               bootstrap = True,\n",
    "                               max_features = 'sqrt',\n",
    "                            max_depth=20,\n",
    "                            min_samples_split=5,\n",
    "                            min_samples_leaf=2)\n",
    "\n",
    "random_model=rfc.fit(xTrain,yTrain)\n",
    "# predictions\n",
    "rfc_predict = rfc.predict(xTest)\n"
   ]
  },
  {
   "cell_type": "code",
   "execution_count": 61,
   "metadata": {},
   "outputs": [],
   "source": [
    "from sklearn.model_selection import cross_val_score\n",
    "from sklearn.metrics import confusion_matrix\n",
    "from sklearn.metrics import classification_report\n",
    "\n",
    "rfc_cv_score = cross_val_score(rfc,xTrain,yTrain, cv=10, scoring='roc_auc')"
   ]
  },
  {
   "cell_type": "code",
   "execution_count": 62,
   "metadata": {},
   "outputs": [
    {
     "name": "stdout",
     "output_type": "stream",
     "text": [
      "=== Confusion Matrix ===\n",
      "[[ 8  7]\n",
      " [ 1 27]]\n",
      "\n",
      "\n",
      "=== Classification Report ===\n",
      "              precision    recall  f1-score   support\n",
      "\n",
      "           0       0.89      0.53      0.67        15\n",
      "           1       0.79      0.96      0.87        28\n",
      "\n",
      "    accuracy                           0.81        43\n",
      "   macro avg       0.84      0.75      0.77        43\n",
      "weighted avg       0.83      0.81      0.80        43\n",
      "\n",
      "\n",
      "\n",
      "=== All AUC Scores ===\n",
      "[0.93055556 1.         0.83333333 0.76666667 0.91666667 0.93333333\n",
      " 0.98333333 0.93333333 0.85       0.95      ]\n",
      "\n",
      "\n",
      "=== Mean AUC Score ===\n",
      "Mean AUC Score - rfc:  0.9097222222222221\n"
     ]
    }
   ],
   "source": [
    "print(\"=== Confusion Matrix ===\")\n",
    "print(confusion_matrix(yTest,rfc_predict))\n",
    "print('\\n')\n",
    "print(\"=== Classification Report ===\")\n",
    "print(classification_report(yTest,rfc_predict))\n",
    "print('\\n')\n",
    "print(\"=== All AUC Scores ===\")\n",
    "print(rfc_cv_score)\n",
    "print('\\n')\n",
    "print(\"=== Mean AUC Score ===\")\n",
    "print(\"Mean AUC Score - rfc: \", rfc_cv_score.mean())"
   ]
  },
  {
   "cell_type": "code",
   "execution_count": 64,
   "metadata": {},
   "outputs": [
    {
     "data": {
      "text/plain": [
       "<matplotlib.axes._subplots.AxesSubplot at 0x217d2209ac8>"
      ]
     },
     "execution_count": 64,
     "metadata": {},
     "output_type": "execute_result"
    },
    {
     "data": {
      "image/png": "[encoded data removed]",
      "text/plain": [
       "<Figure size 432x288 with 1 Axes>"
      ]
     },
     "metadata": {
      "needs_background": "light"
     },
     "output_type": "display_data"
    }
   ],
   "source": [
    "import matplotlib.pyplot as plt\n",
    "\n",
    "\n",
    "feat_importances = pd.Series(rfc.feature_importances_, index=x.columns)\n",
    "feat_importances.nlargest(4).plot(kind='barh')"
   ]
  },
  {
   "cell_type": "markdown",
   "metadata": {},
   "source": [
    "# one hot coder for KNN neighbours"
   ]
  },
  {
   "cell_type": "code",
   "execution_count": 65,
   "metadata": {},
   "outputs": [],
   "source": [
    "import category_encoders as ce\n",
    "\n",
    "encoder = ce.OneHotEncoder(cols=['gender','ssc_b','hsc_b','degree_t','specialisation','hsc_s','workex'])\n",
    "\n",
    "\n",
    "x_code=encoder.fit_transform(x)"
   ]
  },
  {
   "cell_type": "markdown",
   "metadata": {},
   "source": [
    "# Converting numerical values into standard scaler"
   ]
  },
  {
   "cell_type": "code",
   "execution_count": 66,
   "metadata": {},
   "outputs": [],
   "source": [
    "from sklearn.preprocessing import StandardScaler\n",
    "\n",
    "# copy of datasets\n",
    "X_stand = x_code.copy()\n",
    "\n",
    "\n",
    "# numerical features\n",
    "num_cols =X_stand.iloc[:,0:21]\n",
    "\n",
    "# apply standardization on numerical features\n",
    "for i in num_cols:\n",
    "    \n",
    "    # fit on training data column\n",
    "    scale = StandardScaler().fit(X_stand[[i]])\n",
    "    \n",
    "    # transform the training data column\n",
    "    X_stand[i] = scale.transform(X_stand[[i]].values.reshape(-1, 1))\n",
    "    "
   ]
  },
  {
   "cell_type": "code",
   "execution_count": 67,
   "metadata": {},
   "outputs": [],
   "source": [
    "from sklearn.preprocessing import LabelEncoder\n",
    "le = LabelEncoder()\n",
    "y= le.fit_transform(y)"
   ]
  },
  {
   "cell_type": "markdown",
   "metadata": {},
   "source": [
    "# Splitting the data into train test split data"
   ]
  },
  {
   "cell_type": "code",
   "execution_count": 77,
   "metadata": {},
   "outputs": [],
   "source": [
    "from sklearn.model_selection import train_test_split\n",
    "xTrain, xTest, yTrain, yTest = train_test_split(X_stand, y, test_size = 0.2, random_state = 42)"
   ]
  },
  {
   "cell_type": "markdown",
   "metadata": {},
   "source": [
    "# Knn classifier without HyperParameters"
   ]
  },
  {
   "cell_type": "code",
   "execution_count": 78,
   "metadata": {},
   "outputs": [],
   "source": [
    "from sklearn.neighbors import KNeighborsClassifier\n",
    "\n",
    "\n",
    "# knn \n",
    "knn = KNeighborsClassifier(n_neighbors=5)\n",
    "knn.fit(xTrain,yTrain)\n",
    "knnpred=knn.predict(xTest)"
   ]
  },
  {
   "cell_type": "code",
   "execution_count": 79,
   "metadata": {},
   "outputs": [],
   "source": [
    "\n",
    "from sklearn.model_selection import cross_val_score\n",
    "from sklearn.metrics import confusion_matrix\n",
    "from sklearn.metrics import classification_report\n",
    "\n",
    "knn_cv_score = cross_val_score(knn,xTrain,yTrain, cv=10, scoring='roc_auc')"
   ]
  },
  {
   "cell_type": "code",
   "execution_count": 80,
   "metadata": {
    "scrolled": false
   },
   "outputs": [
    {
     "name": "stdout",
     "output_type": "stream",
     "text": [
      "=== Confusion Matrix ===\n",
      "[[ 3  9]\n",
      " [ 3 28]]\n",
      "\n",
      "\n",
      "=== Classification Report ===\n",
      "              precision    recall  f1-score   support\n",
      "\n",
      "           0       0.50      0.25      0.33        12\n",
      "           1       0.76      0.90      0.82        31\n",
      "\n",
      "    accuracy                           0.72        43\n",
      "   macro avg       0.63      0.58      0.58        43\n",
      "weighted avg       0.69      0.72      0.69        43\n",
      "\n",
      "\n",
      "\n",
      "=== All AUC Scores ===\n",
      "[0.79861111 0.64583333 0.77272727 0.8030303  0.77272727 0.79166667\n",
      " 0.775      0.80833333 0.80833333 0.825     ]\n",
      "\n",
      "\n",
      "=== Mean AUC Score ===\n",
      "Mean AUC Score - log:  0.7801262626262626\n"
     ]
    }
   ],
   "source": [
    "print(\"=== Confusion Matrix ===\")\n",
    "print(confusion_matrix(yTest,knnpred))\n",
    "print('\\n')\n",
    "print(\"=== Classification Report ===\")\n",
    "print(classification_report(yTest,knnpred))\n",
    "print('\\n')\n",
    "print(\"=== All AUC Scores ===\")\n",
    "print(knn_cv_score)\n",
    "print('\\n')\n",
    "print(\"=== Mean AUC Score ===\")\n",
    "print(\"Mean AUC Score - log: \", knn_cv_score.mean())"
   ]
  },
  {
   "cell_type": "markdown",
   "metadata": {},
   "source": [
    "# KNN with hyperparameters"
   ]
  },
  {
   "cell_type": "code",
   "execution_count": 81,
   "metadata": {},
   "outputs": [],
   "source": [
    "from sklearn.neighbors import KNeighborsClassifier\n",
    "from sklearn.metrics import classification_report\n",
    "from sklearn.model_selection import train_test_split\n",
    "from sklearn.metrics import roc_auc_score\n",
    "from sklearn.model_selection import GridSearchCV\n",
    "knn = KNeighborsClassifier()"
   ]
  },
  {
   "cell_type": "code",
   "execution_count": 82,
   "metadata": {},
   "outputs": [
    {
     "name": "stdout",
     "output_type": "stream",
     "text": [
      "Best leaf_size: 1\n",
      "Best p: 2\n",
      "Best n_neighbors: 12\n"
     ]
    }
   ],
   "source": [
    "leaf_size = list(range(1,50))\n",
    "n_neighbors = list(range(1,30))\n",
    "p=[1,2]\n",
    "#Convert to dictionary\n",
    "hyperparameters = dict(leaf_size=leaf_size, n_neighbors=n_neighbors, p=p)\n",
    "#Create new KNN object\n",
    "knn_2 = KNeighborsClassifier()\n",
    "#Use GridSearch\n",
    "clf = GridSearchCV(knn_2, hyperparameters, cv=10)\n",
    "#Fit the model\n",
    "best_model = clf.fit(xTrain,yTrain)\n",
    "#Print The value of best Hyperparameters\n",
    "print('Best leaf_size:', best_model.best_estimator_.get_params()['leaf_size'])\n",
    "print('Best p:', best_model.best_estimator_.get_params()['p'])\n",
    "print('Best n_neighbors:', best_model.best_estimator_.get_params()['n_neighbors'])"
   ]
  },
  {
   "cell_type": "code",
   "execution_count": 83,
   "metadata": {},
   "outputs": [
    {
     "name": "stdout",
     "output_type": "stream",
     "text": [
      "              precision    recall  f1-score   support\n",
      "\n",
      "           0       0.67      0.33      0.44        12\n",
      "           1       0.78      0.94      0.85        31\n",
      "\n",
      "    accuracy                           0.77        43\n",
      "   macro avg       0.73      0.63      0.65        43\n",
      "weighted avg       0.75      0.77      0.74        43\n",
      "\n"
     ]
    },
    {
     "data": {
      "text/plain": [
       "0.6344086021505376"
      ]
     },
     "execution_count": 83,
     "metadata": {},
     "output_type": "execute_result"
    }
   ],
   "source": [
    "knn = KNeighborsClassifier(n_neighbors=10,leaf_size=1,p=2)\n",
    "#Create x and y variables.\n",
    "\n",
    "#Split data into training and testing.\n",
    "\n",
    "#Training the model.\n",
    "clf=knn.fit(xTrain, yTrain)\n",
    "#Predict test data set.\n",
    "y_pred = clf.predict(xTest)\n",
    "#Checking performance our model with classification report.\n",
    "print(classification_report(yTest, y_pred))\n",
    "#Checking performance our model with ROC Score.\n",
    "roc_auc_score(yTest, y_pred)\n",
    "print(confusion_matrix(yTest,y_pred))"
   ]
  },
  {
   "cell_type": "code",
   "execution_count": 84,
   "metadata": {},
   "outputs": [],
   "source": [
    "fg=pd.DataFrame(yTest,y_pred)"
   ]
  },
  {
   "cell_type": "markdown",
   "metadata": {},
   "source": [
    "# XGB with hyper parameters"
   ]
  },
  {
   "cell_type": "code",
   "execution_count": 85,
   "metadata": {},
   "outputs": [
    {
     "data": {
      "text/html": [
       "        <script type=\"text/javascript\">\n",
       "        window.PlotlyConfig = {MathJaxConfig: 'local'};\n",
       "        if (window.MathJax) {MathJax.Hub.Config({SVG: {font: \"STIX-Web\"}});}\n",
       "        if (typeof require !== 'undefined') {\n",
       "        require.undef(\"plotly\");\n",
       "        requirejs.config({\n",
       "            paths: {\n",
       "                'plotly': ['https://cdn.plot.ly/plotly-latest.min']\n",
       "            }\n",
       "        });\n",
       "        require(['plotly'], function(Plotly) {\n",
       "            window._Plotly = Plotly;\n",
       "        });\n",
       "        }\n",
       "        </script>\n",
       "        "
      ]
     },
     "metadata": {},
     "output_type": "display_data"
    }
   ],
   "source": [
    "# Python libraries\n",
    "import pandas as pd\n",
    "import numpy as np\n",
    "from datetime import datetime\n",
    "from sklearn.preprocessing import StandardScaler, LabelEncoder\n",
    "from sklearn.model_selection import GridSearchCV, RandomizedSearchCV, cross_val_score, learning_curve, train_test_split\n",
    "from sklearn.metrics import precision_score, roc_auc_score, recall_score, confusion_matrix, roc_curve, precision_recall_curve, accuracy_score\n",
    "import xgboost as xgb\n",
    "import warnings\n",
    "import plotly.offline as py\n",
    "py.init_notebook_mode(connected=True)\n",
    "import plotly.graph_objs as go\n",
    "import plotly.tools as tls\n",
    "import plotly.figure_factory as ff\n",
    "\n",
    "warnings.filterwarnings('ignore')\n",
    "\n",
    "warnings.filterwarnings('ignore')"
   ]
  },
  {
   "cell_type": "code",
   "execution_count": 86,
   "metadata": {},
   "outputs": [],
   "source": [
    "def model_performance_plot(model) : \n",
    "    #conf matrix\n",
    "    conf_matrix = confusion_matrix(yTest, y_pred)\n",
    "    trace1 = go.Heatmap(z = conf_matrix  ,x = [\"0 (pred)\",\"1 (pred)\"],\n",
    "                        y = [\"0 (true)\",\"1 (true)\"],xgap = 2, ygap = 2, \n",
    "                        colorscale = 'Viridis', showscale  = False)\n",
    "\n",
    "    #show metrics\n",
    "    tp = conf_matrix[1,1]\n",
    "    fn = conf_matrix[1,0]\n",
    "    fp = conf_matrix[0,1]\n",
    "    tn = conf_matrix[0,0]\n",
    "    Accuracy  =  ((tp+tn)/(tp+tn+fp+fn))\n",
    "    Precision =  (tp/(tp+fp))\n",
    "    Recall    =  (tp/(tp+fn))\n",
    "    F1_score  =  (2*(((tp/(tp+fp))*(tp/(tp+fn)))/((tp/(tp+fp))+(tp/(tp+fn)))))\n",
    "\n",
    "    show_metrics = pd.DataFrame(data=[[Accuracy , Precision, Recall, F1_score]])\n",
    "    show_metrics = show_metrics.T\n",
    "\n",
    "    colors = ['gold', 'lightgreen', 'lightcoral', 'lightskyblue']\n",
    "    trace2 = go.Bar(x = (show_metrics[0].values), \n",
    "                   y = ['Accuracy', 'Precision', 'Recall', 'F1_score'], text = np.round_(show_metrics[0].values,4),\n",
    "                    textposition = 'auto',\n",
    "                   orientation = 'h', opacity = 0.8,marker=dict(\n",
    "            color=colors,\n",
    "            line=dict(color='#000000',width=1.5)))\n",
    "    \n",
    "    #plot roc curve\n",
    "    model_roc_auc = round(roc_auc_score(yTest, y_score) , 3)\n",
    "    fpr, tpr, t = roc_curve(yTest, y_score)\n",
    "    trace3 = go.Scatter(x = fpr,y = tpr,\n",
    "                        name = \"Roc : \",\n",
    "                        line = dict(color = ('rgb(22, 96, 167)'),width = 2), fill='tozeroy')\n",
    "    trace4 = go.Scatter(x = [0,1],y = [0,1],\n",
    "                        line = dict(color = ('black'),width = 1.5,\n",
    "                        dash = 'dot'))\n",
    "    \n",
    "    # Precision-recall curve\n",
    "    precision, recall, thresholds = precision_recall_curve(yTest, y_score)\n",
    "    trace5 = go.Scatter(x = recall, y = precision,\n",
    "                        name = \"Precision\" + str(precision),\n",
    "                        line = dict(color = ('lightcoral'),width = 2), fill='tozeroy')\n",
    "    \n",
    "    #subplots\n",
    "    fig = tls.make_subplots(rows=2, cols=2, print_grid=False, \n",
    "                        subplot_titles=('Confusion Matrix',\n",
    "                                        'Metrics',\n",
    "                                        'ROC curve'+\" \"+ '('+ str(model_roc_auc)+')',\n",
    "                                        'Precision - Recall curve'))\n",
    "    \n",
    "    fig.append_trace(trace1,1,1)\n",
    "    fig.append_trace(trace2,1,2)\n",
    "    fig.append_trace(trace3,2,1)\n",
    "    fig.append_trace(trace4,2,1)\n",
    "    fig.append_trace(trace5,2,2)\n",
    "    \n",
    "    fig['layout'].update(showlegend = False, title = '<b>Model performance</b><br>'+str(model),\n",
    "                        autosize = False, height = 900,width = 830,\n",
    "                        plot_bgcolor = 'rgba(240,240,240, 0.95)',\n",
    "                        paper_bgcolor = 'rgba(240,240,240, 0.95)',\n",
    "                        margin = dict(b = 195))\n",
    "    fig[\"layout\"][\"xaxis2\"].update((dict(range=[0, 1])))\n",
    "    fig[\"layout\"][\"xaxis3\"].update(dict(title = \"false positive rate\"))\n",
    "    fig[\"layout\"][\"yaxis3\"].update(dict(title = \"true positive rate\"))\n",
    "    fig[\"layout\"][\"xaxis4\"].update(dict(title = \"recall\"), range = [0,1.05])\n",
    "    fig[\"layout\"][\"yaxis4\"].update(dict(title = \"precision\"), range = [0,1.05])\n",
    "    fig.layout.titlefont.size = 14\n",
    "    \n",
    "    py.iplot(fig)"
   ]
  },
  {
   "cell_type": "code",
   "execution_count": 87,
   "metadata": {
    "scrolled": true
   },
   "outputs": [
    {
     "name": "stdout",
     "output_type": "stream",
     "text": [
      "Fitting 5 folds for each of 800 candidates, totalling 4000 fits\n"
     ]
    },
    {
     "name": "stderr",
     "output_type": "stream",
     "text": [
      "[Parallel(n_jobs=-1)]: Using backend LokyBackend with 4 concurrent workers.\n",
      "[Parallel(n_jobs=-1)]: Done  24 tasks      | elapsed:   13.0s\n",
      "[Parallel(n_jobs=-1)]: Done 180 tasks      | elapsed:   20.1s\n",
      "[Parallel(n_jobs=-1)]: Done 500 tasks      | elapsed:   34.8s\n",
      "[Parallel(n_jobs=-1)]: Done 948 tasks      | elapsed:  1.0min\n",
      "[Parallel(n_jobs=-1)]: Done 1524 tasks      | elapsed:  1.6min\n",
      "[Parallel(n_jobs=-1)]: Done 2228 tasks      | elapsed:  2.2min\n",
      "[Parallel(n_jobs=-1)]: Done 3060 tasks      | elapsed:  3.0min\n",
      "[Parallel(n_jobs=-1)]: Done 4000 out of 4000 | elapsed:  3.9min finished\n"
     ]
    },
    {
     "name": "stdout",
     "output_type": "stream",
     "text": [
      "\n",
      " Time taken: 0 hours 3 minutes and 53.83 seconds.\n"
     ]
    }
   ],
   "source": [
    "def timer(start_time=None):\n",
    "    if not start_time:\n",
    "        start_time = datetime.now()\n",
    "        return start_time\n",
    "    elif start_time:\n",
    "        thour, temp_sec = divmod((datetime.now() - start_time).total_seconds(), 3600)\n",
    "        tmin, tsec = divmod(temp_sec, 60)\n",
    "        print('\\n Time taken: %i hours %i minutes and %s seconds.' % (thour, tmin, round(tsec, 2)))\n",
    "        \n",
    "        \n",
    "xgb_cfl = xgb.XGBClassifier(n_jobs = -1)\n",
    "\n",
    "\n",
    "# A parameter grid for XGBoost\n",
    "params = {\n",
    "        'n_estimators' : [100, 200, 500, 750],\n",
    "        'learning_rate' : [0.01, 0.02, 0.05, 0.1, 0.25],\n",
    "        'min_child_weight': [1, 5, 7, 10],\n",
    "        'gamma': [0.1, 0.5, 1, 1.5, 5],\n",
    "        'subsample': [0.6, 0.8, 1.0],\n",
    "        'colsample_bytree': [0.6, 0.8, 1.0],\n",
    "        'max_depth': [3, 4, 5, 10, 12]\n",
    "        }\n",
    "\n",
    "folds = 5\n",
    "param_comb = 800\n",
    "\n",
    "random_search = RandomizedSearchCV(xgb_cfl, param_distributions=params, n_iter=param_comb, scoring='accuracy', n_jobs=-1, cv=5, verbose=3, random_state=42)\n",
    "\n",
    "# Here we go\n",
    "start_time = timer(None) # timing starts from this point for \"start_time\" variable\n",
    "random_search.fit(x_code, y)\n",
    "timer(start_time) # timing ends here for \"start_time\" variable"
   ]
  },
  {
   "cell_type": "code",
   "execution_count": 88,
   "metadata": {},
   "outputs": [
    {
     "name": "stdout",
     "output_type": "stream",
     "text": [
      "\n",
      " All results:\n",
      "{'mean_fit_time': array([0.2847455 , 0.33740687, 0.17589917, 0.23106747, 0.09134779,\n",
      "       0.43714972, 0.07515702, 0.06296372, 0.10593886, 0.05077081,\n",
      "       0.08994832, 0.04697304, 0.15750971, 0.14011979, 0.20468278,\n",
      "       0.07675567, 0.33760715, 0.04357471, 0.10533986, 0.08135309,\n",
      "       0.10174179, 0.20628209, 0.0861506 , 0.1707027 , 0.44914308,\n",
      "       0.12332907, 0.0957449 , 0.07555652, 0.35739598, 0.14551673,\n",
      "       0.40436916, 0.21867509, 0.34020557, 0.12612748, 0.27823939,\n",
      "       0.34540238, 0.04177594, 0.38557959, 0.22886882, 0.17969718,\n",
      "       0.06696138, 0.25105615, 0.05416884, 0.06476307, 0.41416283,\n",
      "       0.06736159, 0.18929167, 0.05776677, 0.12972589, 0.39717255,\n",
      "       0.09294691, 0.10014267, 0.39157596, 0.30422621, 0.5606792 ,\n",
      "       0.06096511, 0.08834939, 0.113135  , 0.22407188, 0.42955389,\n",
      "       0.08675032, 0.26204982, 0.34640112, 0.28903461, 0.37858357,\n",
      "       0.06056528, 0.27424297, 0.08235269, 0.10873742, 0.07795539,\n",
      "       0.04417467, 0.04237542, 0.22946877, 0.29583077, 0.09454575,\n",
      "       0.05017104, 0.0561677 , 0.05457015, 0.13112488, 0.33340917,\n",
      "       0.07355781, 0.2902339 , 0.19328914, 0.04757271, 0.06496301,\n",
      "       0.32961087, 0.1926897 , 0.08675013, 0.04517374, 0.22007418,\n",
      "       0.05556812, 0.17350097, 0.11253524, 0.12113066, 0.09594507,\n",
      "       0.28363814, 0.22247257, 0.26864619, 0.21307812, 0.04477415,\n",
      "       0.09434605, 0.34380322, 0.23226695, 0.26324954, 0.12372913,\n",
      "       0.05756688, 0.35739536, 0.04277558, 0.19248981, 0.36958866,\n",
      "       0.21107922, 0.11573377, 0.32101607, 0.04477415, 0.26165013,\n",
      "       0.17250123, 0.0927465 , 0.24126205, 0.33340907, 0.36079383,\n",
      "       0.05476828, 0.41536245, 0.14771528, 0.50251269, 0.32861185,\n",
      "       0.41356325, 0.04537368, 0.21987419, 0.19049082, 0.56967411,\n",
      "       0.11613369, 0.19668741, 0.46833258, 0.32801237, 0.05336928,\n",
      "       0.364991  , 0.18609357, 0.04297528, 0.079954  , 0.5520843 ,\n",
      "       0.24326062, 0.06816111, 0.06136456, 0.27884021, 0.49651613,\n",
      "       0.20768123, 0.09254704, 0.06136484, 0.2768414 , 0.05276961,\n",
      "       0.06056509, 0.29643025, 0.21227837, 0.3637917 , 0.13292403,\n",
      "       0.10074205, 0.06476312, 0.29862919, 0.13112483, 0.25385466,\n",
      "       0.05476847, 0.1409194 , 0.59825768, 0.05536809, 0.06136479,\n",
      "       0.29882908, 0.24825788, 0.66741805, 0.06636186, 0.4425468 ,\n",
      "       0.17809772, 0.06776094, 0.27204418, 0.06056557, 0.06216402,\n",
      "       0.04917212, 0.24406047, 0.36319199, 0.09534492, 0.42715583,\n",
      "       0.32401466, 0.27744102, 0.08015413, 0.04637322, 0.5978581 ,\n",
      "       0.15910873, 0.24445887, 0.32641315, 0.09394608, 0.05117054,\n",
      "       0.12912602, 0.10613904, 0.19648786, 0.09374619, 0.18549366,\n",
      "       0.23766389, 0.10753865, 0.06456285, 0.09374599, 0.08595052,\n",
      "       0.06676149, 0.09194703, 0.21447716, 0.05756674, 0.14731565,\n",
      "       0.06096487, 0.42895427, 0.09154725, 0.13972001, 0.37998252,\n",
      "       0.79414577, 0.11133618, 0.44334631, 0.16950297, 0.04377503,\n",
      "       0.32521434, 0.3617929 , 0.06236396, 0.25925207, 0.11653318,\n",
      "       0.26205034, 0.10094194, 0.36339192, 0.49931445, 0.35719552,\n",
      "       0.23246675, 0.36219234, 0.656424  , 0.52609873, 0.29283228,\n",
      "       0.06916027, 0.09374633, 0.32021661, 0.39497375, 0.40956564,\n",
      "       0.30842352, 0.34200463, 0.12352905, 0.49511695, 0.09734426,\n",
      "       0.14471693, 0.40636759, 0.54528809, 0.11753297, 0.47073112,\n",
      "       0.04777222, 0.10833778, 0.15651021, 0.07535691, 0.34720135,\n",
      "       0.36758971, 0.20448322, 0.11913185, 0.12792654, 0.23246684,\n",
      "       0.36099353, 0.05636783, 0.38897767, 0.10773816, 0.08834949,\n",
      "       0.11273565, 0.46073637, 0.10434012, 0.36099324, 0.06336355,\n",
      "       0.06416335, 0.05216985, 0.19408884, 0.21847515, 0.40396891,\n",
      "       0.07895474, 0.06995988, 0.1701025 , 0.27524257, 0.28723545,\n",
      "       0.11733265, 0.05017142, 0.10913682, 0.10533957, 0.40117064,\n",
      "       0.26404924, 0.05676751, 0.08255248, 0.23766398, 0.17250109,\n",
      "       0.25225549, 0.51950274, 0.2300683 , 0.26944537, 0.41516213,\n",
      "       0.1161334 , 0.10653887, 0.66661859, 0.06456304, 0.37878327,\n",
      "       0.10014257, 0.28383741, 0.06156464, 0.14991422, 0.06816101,\n",
      "       0.09294691, 0.36319213, 0.59985671, 0.28763561, 0.36399164,\n",
      "       0.39357486, 0.05416899, 0.26025062, 0.09714422, 0.10553946,\n",
      "       0.09434638, 0.05796642, 0.08914862, 0.10533953, 0.24665842,\n",
      "       0.10394044, 0.34820104, 0.31801796, 0.37278647, 0.29363184,\n",
      "       0.06796103, 0.260251  , 0.26085114, 0.31861768, 0.17449999,\n",
      "       0.11593366, 0.26904602, 0.30142751, 0.07735562, 0.18309488,\n",
      "       0.15750966, 0.38757801, 0.30882335, 0.15990839, 0.11473413,\n",
      "       0.13372345, 0.09994249, 0.21327777, 0.34140477, 0.32641358,\n",
      "       0.06516271, 0.24685884, 0.43055348, 0.48472238, 0.26704717,\n",
      "       0.37718406, 0.15291233, 0.30502539, 0.23686428, 0.05416875,\n",
      "       0.32121625, 0.13432288, 0.57447152, 0.1461164 , 0.09174724,\n",
      "       0.06296368, 0.05956583, 0.05117068, 0.10973687, 0.21927447,\n",
      "       0.40296817, 0.17469988, 0.26664734, 0.4053678 , 0.0923471 ,\n",
      "       0.31402049, 0.31641927, 0.2664475 , 0.14591637, 0.18489428,\n",
      "       0.19308949, 0.35799503, 0.43655028, 0.36998839, 0.44634466,\n",
      "       0.22906899, 0.24965715, 0.25165586, 0.10374064, 0.36559057,\n",
      "       0.33540812, 0.05556836, 0.63143888, 0.12612758, 0.37798371,\n",
      "       0.39937139, 0.11113615, 0.06496286, 0.08774953, 0.36718993,\n",
      "       0.09174733, 0.1061388 , 0.26864614, 0.16070824, 0.15031385,\n",
      "       0.09574509, 0.33500834, 0.10234113, 0.38957696, 0.60205569,\n",
      "       0.07175903, 0.25025668, 0.30902305, 0.34440274, 0.27944007,\n",
      "       0.31541939, 0.08635087, 0.12752686, 0.13971996, 0.1309248 ,\n",
      "       0.06476274, 0.07015967, 0.06496301, 0.34860044, 0.32461419,\n",
      "       0.15690994, 0.05716705, 0.04597359, 0.06696157, 0.3432034 ,\n",
      "       0.33620768, 0.09634476, 0.04957151, 0.10414009, 0.08834925,\n",
      "       0.27044516, 0.07715602, 0.58046808, 0.08275237, 0.49051948,\n",
      "       0.35779519, 0.1317246 , 0.13452268, 0.10174174, 0.44114761,\n",
      "       0.05816641, 0.14391756, 0.17350068, 0.23266687, 0.05177021,\n",
      "       0.09394608, 0.08395176, 0.23646445, 0.36099315, 0.18369479,\n",
      "       0.07535658, 0.18409462, 0.05316958, 0.55927992, 0.22187276,\n",
      "       0.12472858, 0.23286672, 0.32661324, 0.05716715, 0.54149022,\n",
      "       0.09374633, 0.62744122, 0.33460808, 0.30542493, 0.17090206,\n",
      "       0.33520799, 0.33540778, 0.05556812, 0.05776682, 0.05436878,\n",
      "       0.51310658, 0.40936565, 0.07195859, 0.0943459 , 0.2818387 ,\n",
      "       0.05137038, 0.11753263, 0.30822425, 0.08215289, 0.26784658,\n",
      "       0.1163332 , 0.19428897, 0.34460278, 0.27724118, 0.21207871,\n",
      "       0.40756683, 0.42495675, 0.28103895, 0.29962864, 0.22147326,\n",
      "       0.25745263, 0.27983947, 0.26404891, 0.09334607, 0.07975445,\n",
      "       0.0553679 , 0.21707559, 0.1782979 , 0.05476837, 0.34979973,\n",
      "       0.25285511, 0.1898911 , 0.0685606 , 0.47412868, 0.05596752,\n",
      "       0.10753822, 0.12352948, 0.11673293, 0.40297012, 0.08115344,\n",
      "       0.06136508, 0.55108471, 0.34720106, 0.12153015, 0.11693306,\n",
      "       0.50511127, 0.07535672, 0.11813245, 0.34340391, 0.15571094,\n",
      "       0.23346567, 0.50850892, 0.10973701, 0.35040231, 0.09534688,\n",
      "       0.30702429, 0.06176448, 0.0497715 , 0.10114212, 0.12612772,\n",
      "       0.2456593 , 0.11353507, 0.5031117 , 0.11593323, 0.12572808,\n",
      "       0.38038235, 0.50591068, 0.04997129, 0.08075328, 0.25165596,\n",
      "       0.28043942, 0.31242127, 0.0549684 , 0.08035378, 0.69000502,\n",
      "       0.33420825, 0.35019951, 0.15291228, 0.06516237, 0.22187285,\n",
      "       0.20748119, 0.1025414 , 0.06596184, 0.32321529, 0.39697261,\n",
      "       0.08854923, 0.05037074, 0.17949719, 0.1307251 , 0.37358608,\n",
      "       0.30222669, 0.45114188, 0.06036525, 0.04617348, 0.24745812,\n",
      "       0.40996528, 0.2362648 , 0.23406587, 0.08155332, 0.21767507,\n",
      "       0.07115927, 0.05736675, 0.16850324, 0.23926291, 0.07135878,\n",
      "       0.07455721, 0.41076479, 0.04557362, 0.3645915 , 0.17609935,\n",
      "       0.23426585, 0.10214167, 0.06296372, 0.08075342, 0.29203291,\n",
      "       0.35279832, 0.25185575, 0.17709856, 0.08894849, 0.20388341,\n",
      "       0.3128191 , 0.28143902, 0.05916591, 0.10933747, 0.18729277,\n",
      "       0.22427168, 0.1025413 , 0.20748138, 0.38517962, 0.3140203 ,\n",
      "       0.04577355, 0.17969689, 0.34040518, 0.04957137, 0.17709851,\n",
      "       0.16610489, 0.10893755, 0.61664762, 0.32601337, 0.17789803,\n",
      "       0.30442586, 0.05576773, 0.06376343, 0.32321482, 0.09914322,\n",
      "       0.37998238, 0.5316958 , 0.30162716, 0.0967443 , 0.05376887,\n",
      "       0.44714422, 0.33121042, 0.18889179, 0.36499109, 0.25785227,\n",
      "       0.1513134 , 0.11313529, 0.45973711, 0.11333447, 0.07075915,\n",
      "       0.34660153, 0.07175879, 0.09994254, 0.49711537, 0.07255831,\n",
      "       0.39577327, 0.15611024, 0.31362038, 0.10933714, 0.10593925,\n",
      "       0.52529945, 0.26924586, 0.40017118, 0.35779514, 0.27344337,\n",
      "       0.25885201, 0.19428878, 0.34200411, 0.31821799, 0.11893182,\n",
      "       0.18649302, 0.40476818, 0.0457737 , 0.22367206, 0.24126158,\n",
      "       0.20408297, 0.29563065, 0.14251842, 0.05976539, 0.31342058,\n",
      "       0.0965445 , 0.44794364, 0.31342087, 0.26664724, 0.36818914,\n",
      "       0.0789547 , 0.19568782, 0.38078198, 0.06356354, 0.35519667,\n",
      "       0.24485998, 0.30102763, 0.29483142, 0.08595061, 0.35999403,\n",
      "       0.2282692 , 0.51030807, 0.59386039, 0.45933728, 0.10094194,\n",
      "       0.09894333, 0.40177026, 0.14111915, 0.28163881, 0.28903461,\n",
      "       0.06036501, 0.32361479, 0.26085076, 0.28843489, 0.23326621,\n",
      "       0.10953708, 0.2206738 , 0.42755523, 0.35359774, 0.1846941 ,\n",
      "       0.19009104, 0.33620749, 0.14411745, 0.05956578, 0.07875466,\n",
      "       0.26904583, 0.33580766, 0.260251  , 0.29503117, 0.09494553,\n",
      "       0.04417453, 0.06196442, 0.06436291, 0.28483701, 0.04957123,\n",
      "       0.49571648, 0.42535658, 0.06696153, 0.06076498, 0.08635039,\n",
      "       0.05596795, 0.3885776 , 0.45493975, 0.06356349, 0.10673862,\n",
      "       0.33780656, 0.08375196, 0.05316949, 0.13272386, 0.24785862,\n",
      "       0.08635044, 0.09934292, 0.48432207, 0.04237566, 0.05436878,\n",
      "       0.29603076, 0.29223275, 0.05536799, 0.18589334, 0.04737248,\n",
      "       0.5388916 , 0.13312364, 0.51310682, 0.1349227 , 0.34420333,\n",
      "       0.11993127, 0.34120469, 0.08575082, 0.05236993, 0.10434003,\n",
      "       0.38677869, 0.38198133, 0.048772  , 0.08934879, 0.10134172,\n",
      "       0.31042218, 0.04417434, 0.204283  , 0.04297523, 0.5005136 ,\n",
      "       0.1089375 , 0.17869639, 0.08914871, 0.39837198, 0.08455148,\n",
      "       0.45513959, 0.25265532, 0.0667614 , 0.23266697, 0.17729816,\n",
      "       0.21627607, 0.08175297, 0.05256982, 0.36678991, 0.11473389,\n",
      "       0.24106207, 0.04737272, 0.11173592, 0.12092943, 0.35319796,\n",
      "       0.26924605, 0.09694424, 0.09494576, 0.35499682, 0.04417453,\n",
      "       0.30282674, 0.12932577, 0.14771562, 0.27264376, 0.14751544,\n",
      "       0.30362625, 0.21087899, 0.22027407, 0.04097657, 0.18729277,\n",
      "       0.06576271, 0.41076498, 0.07415738, 0.36918883, 0.40636735,\n",
      "       0.15750961, 0.05556798, 0.07555647, 0.09114776, 0.4119647 ,\n",
      "       0.55808067, 0.4259562 , 0.07135878, 0.07275815, 0.21227875]), 'std_fit_time': array([0.0326323 , 0.02795214, 0.01423261, 0.00775179, 0.00649526,\n",
      "       0.02150605, 0.0051118 , 0.00884952, 0.00282682, 0.0098409 ,\n",
      "       0.0098128 , 0.00414477, 0.00749514, 0.00354203, 0.02143907,\n",
      "       0.00735497, 0.02720571, 0.00332094, 0.0058483 , 0.00360917,\n",
      "       0.00330876, 0.01030127, 0.00573798, 0.00453172, 0.05146272,\n",
      "       0.01131804, 0.01062217, 0.0182173 , 0.01305497, 0.01159675,\n",
      "       0.0242809 , 0.01863757, 0.00716828, 0.00969791, 0.01077611,\n",
      "       0.01955004, 0.00483055, 0.02785084, 0.02613839, 0.00499357,\n",
      "       0.00209628, 0.02431237, 0.00312227, 0.01654851, 0.03268379,\n",
      "       0.00934562, 0.02437911, 0.00730078, 0.01485662, 0.03213527,\n",
      "       0.0093115 , 0.00633366, 0.03151236, 0.02014412, 0.04898201,\n",
      "       0.00451382, 0.0048387 , 0.01429415, 0.01468025, 0.01938371,\n",
      "       0.00863035, 0.02012208, 0.01976398, 0.00487157, 0.01006217,\n",
      "       0.00338045, 0.02309174, 0.00338021, 0.0050724 , 0.00328427,\n",
      "       0.00396752, 0.00286888, 0.02409071, 0.00460201, 0.00594985,\n",
      "       0.00376064, 0.00348507, 0.00426974, 0.00894798, 0.01161391,\n",
      "       0.00458422, 0.02818741, 0.00733309, 0.00319816, 0.00836178,\n",
      "       0.01598333, 0.00751619, 0.00883605, 0.00278387, 0.01351827,\n",
      "       0.00854155, 0.01639337, 0.00646453, 0.01002168, 0.00662933,\n",
      "       0.01185004, 0.01288617, 0.00670204, 0.01086438, 0.0009792 ,\n",
      "       0.01512549, 0.00662928, 0.01439445, 0.00947311, 0.01234453,\n",
      "       0.00417389, 0.03132918, 0.00263657, 0.01938579, 0.00690739,\n",
      "       0.01955788, 0.00425888, 0.02968435, 0.00630188, 0.0150833 ,\n",
      "       0.01220108, 0.00642715, 0.01564465, 0.03710359, 0.0272827 ,\n",
      "       0.00636512, 0.02201099, 0.0066716 , 0.01647559, 0.01306757,\n",
      "       0.02291626, 0.00483857, 0.00282689, 0.00754814, 0.05917753,\n",
      "       0.00584161, 0.00888078, 0.0140582 , 0.02802256, 0.00101894,\n",
      "       0.01189937, 0.01127888, 0.00334466, 0.0062895 , 0.01308637,\n",
      "       0.01992424, 0.00600979, 0.00785952, 0.00680786, 0.00730066,\n",
      "       0.00518961, 0.00633993, 0.00101915, 0.01286126, 0.00787964,\n",
      "       0.00300506, 0.01110394, 0.01657489, 0.00437926, 0.01289236,\n",
      "       0.00645827, 0.00448753, 0.01730353, 0.00775174, 0.01235429,\n",
      "       0.00430547, 0.01268912, 0.01517808, 0.00279849, 0.00048947,\n",
      "       0.01430273, 0.01353627, 0.02684285, 0.00467065, 0.01983209,\n",
      "       0.00231395, 0.01133164, 0.00934107, 0.00646492, 0.00980016,\n",
      "       0.00563197, 0.01226296, 0.02412412, 0.00888504, 0.01223392,\n",
      "       0.00661121, 0.00940947, 0.0094899 , 0.00149583, 0.01064093,\n",
      "       0.01621916, 0.02367303, 0.01554242, 0.00141334, 0.00406725,\n",
      "       0.00832338, 0.00556108, 0.00760117, 0.00453156, 0.00462743,\n",
      "       0.01694196, 0.00500086, 0.00556828, 0.00916821, 0.01704317,\n",
      "       0.00411603, 0.0056537 , 0.00767921, 0.00249669, 0.01337262,\n",
      "       0.00154853, 0.04339614, 0.01756953, 0.01169618, 0.01729216,\n",
      "       0.06386195, 0.01852157, 0.01124678, 0.02648452, 0.00222557,\n",
      "       0.00783373, 0.01727609, 0.01030127, 0.00847058, 0.00598315,\n",
      "       0.00762213, 0.00414496, 0.01852168, 0.02063375, 0.01795171,\n",
      "       0.02511416, 0.02121635, 0.01590874, 0.04402283, 0.02065704,\n",
      "       0.01014121, 0.00597652, 0.01534858, 0.01904035, 0.01590817,\n",
      "       0.01973318, 0.01734961, 0.01581008, 0.0312906 , 0.00951495,\n",
      "       0.01621887, 0.02442822, 0.08860296, 0.02094121, 0.07481257,\n",
      "       0.00305741, 0.00947259, 0.01869319, 0.01533499, 0.03194153,\n",
      "       0.03033672, 0.01978358, 0.01250532, 0.00404753, 0.01687361,\n",
      "       0.01811607, 0.00733324, 0.0250011 , 0.01244073, 0.01957018,\n",
      "       0.02752648, 0.03062905, 0.01081229, 0.01306769, 0.00749445,\n",
      "       0.00278409, 0.00411621, 0.01086407, 0.02252271, 0.02083436,\n",
      "       0.00739855, 0.00485537, 0.00483031, 0.01311664, 0.00957756,\n",
      "       0.00901945, 0.00566781, 0.0054874 , 0.00279852, 0.01385702,\n",
      "       0.00678994, 0.00222602, 0.00523541, 0.01303713, 0.01260374,\n",
      "       0.02535934, 0.00883565, 0.01010161, 0.00697012, 0.02535971,\n",
      "       0.01762394, 0.01083088, 0.01313758, 0.00627629, 0.02162103,\n",
      "       0.00584124, 0.02127602, 0.00765346, 0.02095455, 0.01454344,\n",
      "       0.01459305, 0.00810951, 0.0150963 , 0.00639637, 0.00702163,\n",
      "       0.01832408, 0.00396768, 0.00959857, 0.01413949, 0.0039266 ,\n",
      "       0.00818279, 0.01194306, 0.00584136, 0.01058811, 0.00817828,\n",
      "       0.00167226, 0.00955701, 0.02839076, 0.02935668, 0.01204975,\n",
      "       0.00985322, 0.02133827, 0.00551102, 0.00817855, 0.01047448,\n",
      "       0.00404722, 0.00803056, 0.0052736 , 0.00325996, 0.01566784,\n",
      "       0.00899689, 0.01291382, 0.00838575, 0.00755877, 0.01809394,\n",
      "       0.01119002, 0.00786952, 0.00307065, 0.01047454, 0.02555556,\n",
      "       0.00667137, 0.02755201, 0.01513594, 0.01880398, 0.01199984,\n",
      "       0.02461601, 0.01015292, 0.00827485, 0.00807002, 0.00171922,\n",
      "       0.02138498, 0.01604828, 0.01653598, 0.0007481 , 0.00271157,\n",
      "       0.00244772, 0.00162383, 0.00365292, 0.0056323 , 0.01156238,\n",
      "       0.00975736, 0.00342726, 0.00518947, 0.03431773, 0.00893025,\n",
      "       0.01580747, 0.00646507, 0.00921633, 0.01541843, 0.00680772,\n",
      "       0.00837128, 0.01781585, 0.01062211, 0.0104133 , 0.00788465,\n",
      "       0.00957367, 0.00594303, 0.00702148, 0.00255973, 0.00324772,\n",
      "       0.00904153, 0.00483847, 0.01258484, 0.01469381, 0.00885836,\n",
      "       0.01008593, 0.0071904 , 0.00565386, 0.01242534, 0.02170028,\n",
      "       0.00878989, 0.00820272, 0.01161047, 0.00772593, 0.00624457,\n",
      "       0.00518911, 0.01455742, 0.00738778, 0.01091909, 0.03786531,\n",
      "       0.00679073, 0.01387127, 0.00738237, 0.01443642, 0.01493879,\n",
      "       0.01465601, 0.00730642, 0.00912939, 0.00832378, 0.00962779,\n",
      "       0.0079301 , 0.00732786, 0.00771536, 0.00754259, 0.00851329,\n",
      "       0.00985379, 0.00401765, 0.0046449 , 0.0067191 , 0.01999431,\n",
      "       0.01178476, 0.01131806, 0.00618002, 0.0044426 , 0.00300476,\n",
      "       0.00449647, 0.00248108, 0.02436135, 0.00342743, 0.02792276,\n",
      "       0.01177463, 0.00798046, 0.00968155, 0.01035553, 0.01353614,\n",
      "       0.00376091, 0.00275502, 0.01586032, 0.00858367, 0.00869919,\n",
      "       0.0030315 , 0.00141327, 0.00387588, 0.00607578, 0.007463  ,\n",
      "       0.00371813, 0.0074895 , 0.01201637, 0.01233155, 0.00328475,\n",
      "       0.01181543, 0.01017285, 0.02039842, 0.00762202, 0.01840038,\n",
      "       0.00587561, 0.02024055, 0.01466723, 0.00765331, 0.01233818,\n",
      "       0.02595902, 0.01274569, 0.00542294, 0.00132599, 0.00627638,\n",
      "       0.01186944, 0.00598312, 0.00521235, 0.00205792, 0.00622541,\n",
      "       0.0007996 , 0.00760097, 0.01668251, 0.00222593, 0.01153472,\n",
      "       0.00313525, 0.00943081, 0.01166207, 0.00749519, 0.00537832,\n",
      "       0.01984201, 0.02508909, 0.02571001, 0.01386865, 0.00844744,\n",
      "       0.01024301, 0.01345343, 0.00858349, 0.00733341, 0.0086531 ,\n",
      "       0.00338028, 0.00961543, 0.00360909, 0.00470451, 0.01070832,\n",
      "       0.00758528, 0.00227891, 0.00286887, 0.02056601, 0.00517387,\n",
      "       0.0045842 , 0.01002624, 0.00858323, 0.02105406, 0.01060359,\n",
      "       0.00578027, 0.06044517, 0.0236726 , 0.0116998 , 0.0221681 ,\n",
      "       0.01888483, 0.01417084, 0.00803047, 0.03605514, 0.0200627 ,\n",
      "       0.02376522, 0.02291659, 0.01209915, 0.01899312, 0.00560608,\n",
      "       0.00936245, 0.00359782, 0.00159901, 0.00348517, 0.01302168,\n",
      "       0.02276754, 0.01326829, 0.02423977, 0.01184249, 0.00461925,\n",
      "       0.00959871, 0.03650535, 0.00363122, 0.00466188, 0.00381341,\n",
      "       0.00483878, 0.00343908, 0.00260619, 0.00392718, 0.03477421,\n",
      "       0.03446285, 0.05345786, 0.01475612, 0.01091903, 0.01374693,\n",
      "       0.01236384, 0.00205774, 0.01409116, 0.0173175 , 0.02210923,\n",
      "       0.00508042, 0.0047974 , 0.00796024, 0.00910325, 0.02611081,\n",
      "       0.00770512, 0.0077828 , 0.00224355, 0.00324787, 0.00810945,\n",
      "       0.01762422, 0.02181041, 0.01649993, 0.01378488, 0.00430586,\n",
      "       0.00901484, 0.00936695, 0.00947292, 0.00877192, 0.00402748,\n",
      "       0.01114013, 0.02605474, 0.00426843, 0.02111074, 0.00967768,\n",
      "       0.01556827, 0.00430539, 0.00596318, 0.00684886, 0.00948993,\n",
      "       0.03392763, 0.00303119, 0.01324984, 0.00565359, 0.00662974,\n",
      "       0.00433239, 0.00440645, 0.00897035, 0.0049207 , 0.00475558,\n",
      "       0.00508055, 0.00205789, 0.00496097, 0.00854149, 0.00837118,\n",
      "       0.00461906, 0.00425908, 0.00906341, 0.00224375, 0.01723421,\n",
      "       0.01199982, 0.0057236 , 0.02325861, 0.01369463, 0.01821051,\n",
      "       0.00978409, 0.00146889, 0.00396762, 0.00830406, 0.00074789,\n",
      "       0.00721774, 0.01614007, 0.01389727, 0.01437774, 0.00348488,\n",
      "       0.00519716, 0.00711188, 0.01734546, 0.01711798, 0.02854238,\n",
      "       0.01417104, 0.0052656 , 0.00437944, 0.01220136, 0.00730013,\n",
      "       0.01550085, 0.01216536, 0.00786964, 0.01008581, 0.00313497,\n",
      "       0.01383451, 0.00767355, 0.00856015, 0.00449617, 0.00433348,\n",
      "       0.00908555, 0.00886305, 0.00966117, 0.00227916, 0.00664763,\n",
      "       0.01945166, 0.00951529, 0.0034277 , 0.00976385, 0.00712322,\n",
      "       0.00667757, 0.01519649, 0.00074812, 0.00655078, 0.01603572,\n",
      "       0.00740914, 0.00953198, 0.00272592, 0.00401777, 0.0038242 ,\n",
      "       0.00371819, 0.00901479, 0.00440664, 0.00759562, 0.00801054,\n",
      "       0.00126422, 0.00687793, 0.01105707, 0.00542296, 0.00760095,\n",
      "       0.01023118, 0.02392283, 0.01672366, 0.00373953, 0.00897046,\n",
      "       0.00870375, 0.02252224, 0.03866337, 0.03106719, 0.01032853,\n",
      "       0.00809502, 0.02082069, 0.01054686, 0.01880852, 0.01553997,\n",
      "       0.00272583, 0.01722243, 0.01602828, 0.01049335, 0.00910723,\n",
      "       0.00402762, 0.00499319, 0.00829946, 0.00780315, 0.00466213,\n",
      "       0.01006185, 0.00611548, 0.00406688, 0.00407684, 0.00248043,\n",
      "       0.00425881, 0.01570115, 0.01051247, 0.01559109, 0.00109502,\n",
      "       0.00039966, 0.00063211, 0.00604969, 0.00939664, 0.0032603 ,\n",
      "       0.01103929, 0.00567479, 0.00650748, 0.00183205, 0.00402778,\n",
      "       0.00493657, 0.01922874, 0.01493671, 0.00048961, 0.0085371 ,\n",
      "       0.01162094, 0.00039985, 0.00746321, 0.00946855, 0.00683678,\n",
      "       0.00241529, 0.00556822, 0.00708307, 0.0013555 , 0.00079951,\n",
      "       0.00735511, 0.00508045, 0.00174272, 0.00964857, 0.00101926,\n",
      "       0.02570207, 0.01062206, 0.01996483, 0.00771567, 0.02031186,\n",
      "       0.00973103, 0.03847292, 0.00735495, 0.01030143, 0.00998625,\n",
      "       0.01541858, 0.01458495, 0.00171935, 0.00224386, 0.00162382,\n",
      "       0.00621268, 0.00318577, 0.00135588, 0.00063203, 0.02468729,\n",
      "       0.00063203, 0.00426083, 0.00239871, 0.01653883, 0.00185365,\n",
      "       0.01547776, 0.00860664, 0.00751661, 0.02326227, 0.00844745,\n",
      "       0.01368287, 0.00916884, 0.00664766, 0.01403489, 0.01079026,\n",
      "       0.00639627, 0.00205807, 0.0017194 , 0.00384599, 0.00549575,\n",
      "       0.0037713 , 0.00489618, 0.00209681, 0.00772599, 0.00039966,\n",
      "       0.01304617, 0.00500103, 0.02326268, 0.01282093, 0.00387585,\n",
      "       0.00932   , 0.00572405, 0.00162385, 0.002529  , 0.00643358,\n",
      "       0.00707833, 0.01197662, 0.00448719, 0.01053143, 0.01366825,\n",
      "       0.00601637, 0.00407694, 0.00392686, 0.00278399, 0.02869821,\n",
      "       0.04183609, 0.03358074, 0.00955699, 0.00444256, 0.03078889]), 'mean_score_time': array([0.00379839, 0.00299821, 0.00259891, 0.00259862, 0.00259838,\n",
      "       0.00239878, 0.0021987 , 0.00259881, 0.00299826, 0.00419765,\n",
      "       0.00319839, 0.00319862, 0.00259867, 0.00279851, 0.00299807,\n",
      "       0.00439773, 0.00279822, 0.0029984 , 0.00299845, 0.00259886,\n",
      "       0.00219865, 0.0029983 , 0.00239873, 0.00239835, 0.00339856,\n",
      "       0.0109941 , 0.01059399, 0.00239902, 0.00439701, 0.00279837,\n",
      "       0.00339775, 0.00299807, 0.00339808, 0.00259871, 0.00319848,\n",
      "       0.0029985 , 0.00239882, 0.00299826, 0.00239873, 0.0027986 ,\n",
      "       0.00259876, 0.00539718, 0.00219889, 0.0021987 , 0.00239878,\n",
      "       0.00239854, 0.00259829, 0.00239902, 0.0105947 , 0.00279856,\n",
      "       0.00239868, 0.00379782, 0.00399852, 0.00539699, 0.00699601,\n",
      "       0.00239873, 0.00259843, 0.00339828, 0.00219874, 0.00339861,\n",
      "       0.00239859, 0.00239916, 0.00339875, 0.00299845, 0.0041975 ,\n",
      "       0.00199876, 0.00279832, 0.00299835, 0.00239887, 0.00199895,\n",
      "       0.00199895, 0.00239878, 0.00279822, 0.00339875, 0.00359831,\n",
      "       0.00259876, 0.00239882, 0.0021975 , 0.00439763, 0.00219874,\n",
      "       0.00239863, 0.00259881, 0.00299864, 0.00219889, 0.0027987 ,\n",
      "       0.0027988 , 0.0021987 , 0.00239878, 0.00299878, 0.00299816,\n",
      "       0.00239873, 0.00259895, 0.00239882, 0.00239873, 0.00219893,\n",
      "       0.00239835, 0.00259852, 0.00259862, 0.00239882, 0.00219889,\n",
      "       0.00239863, 0.00299859, 0.00219884, 0.00259876, 0.00259857,\n",
      "       0.0019989 , 0.0029984 , 0.00219865, 0.00219917, 0.0039979 ,\n",
      "       0.00279841, 0.00479741, 0.00439897, 0.00219889, 0.00219903,\n",
      "       0.00279856, 0.00239868, 0.00239859, 0.00679631, 0.00239844,\n",
      "       0.00199904, 0.00259857, 0.00199909, 0.00439725, 0.00259886,\n",
      "       0.00339832, 0.00219898, 0.00239863, 0.00239868, 0.00459762,\n",
      "       0.00359783, 0.00319848, 0.00779495, 0.0027988 , 0.005197  ,\n",
      "       0.0037981 , 0.00279846, 0.0029983 , 0.00219884, 0.00279837,\n",
      "       0.00299845, 0.00299835, 0.00239873, 0.00339837, 0.00459747,\n",
      "       0.00279837, 0.00339823, 0.00259852, 0.00219908, 0.00259857,\n",
      "       0.00539713, 0.0027986 , 0.0027986 , 0.00299859, 0.00379791,\n",
      "       0.00299854, 0.00239854, 0.00439773, 0.00359807, 0.00279856,\n",
      "       0.00199895, 0.00319834, 0.00259871, 0.00219903, 0.00299845,\n",
      "       0.00299835, 0.00339813, 0.00319848, 0.00239882, 0.00239902,\n",
      "       0.00239902, 0.00419798, 0.0037981 , 0.00359802, 0.00659633,\n",
      "       0.00259838, 0.00359793, 0.00339823, 0.00219927, 0.0041975 ,\n",
      "       0.0039979 , 0.00299854, 0.00239873, 0.00319848, 0.00459762,\n",
      "       0.00339823, 0.0027986 , 0.00299845, 0.00279841, 0.00299864,\n",
      "       0.00319829, 0.00439782, 0.00399776, 0.00239863, 0.0027986 ,\n",
      "       0.00259867, 0.00279822, 0.00319843, 0.00259886, 0.00239873,\n",
      "       0.00239892, 0.00299859, 0.00299835, 0.00259876, 0.0039978 ,\n",
      "       0.00299869, 0.0037982 , 0.00359845, 0.00379801, 0.00359836,\n",
      "       0.00379786, 0.00379786, 0.00419788, 0.00239868, 0.00259838,\n",
      "       0.00379777, 0.0039978 , 0.00259867, 0.00299797, 0.00459733,\n",
      "       0.00279837, 0.0027987 , 0.00319834, 0.00419755, 0.00379806,\n",
      "       0.00419788, 0.00379868, 0.00779557, 0.00499763, 0.00339837,\n",
      "       0.00259876, 0.00239873, 0.00279875, 0.00279846, 0.00359821,\n",
      "       0.00259895, 0.00679617, 0.00619636, 0.00299811, 0.00299835,\n",
      "       0.00339866, 0.00299826, 0.00359788, 0.00239854, 0.00379786,\n",
      "       0.00259891, 0.00319872, 0.0029983 , 0.00639639, 0.00259862,\n",
      "       0.00319839, 0.00279841, 0.0049973 , 0.00219889, 0.00299859,\n",
      "       0.00239859, 0.00259824, 0.00339808, 0.00259833, 0.00279865,\n",
      "       0.00259829, 0.00299873, 0.0027986 , 0.00299859, 0.00279832,\n",
      "       0.00279827, 0.00239892, 0.00299845, 0.00259848, 0.0027987 ,\n",
      "       0.00359797, 0.00239863, 0.00619645, 0.00239887, 0.0049974 ,\n",
      "       0.00279851, 0.00239844, 0.00319815, 0.00239887, 0.00279851,\n",
      "       0.00279837, 0.00259876, 0.00239878, 0.0029985 , 0.00259891,\n",
      "       0.00279856, 0.00439763, 0.00299859, 0.00299854, 0.00299892,\n",
      "       0.00299864, 0.00239887, 0.00479741, 0.0037982 , 0.00299821,\n",
      "       0.0019989 , 0.00359836, 0.00339856, 0.00259848, 0.00219893,\n",
      "       0.00359788, 0.00299854, 0.0039978 , 0.00259867, 0.00239882,\n",
      "       0.00339823, 0.00279865, 0.0027987 , 0.00379791, 0.00279846,\n",
      "       0.00459733, 0.00359855, 0.00239882, 0.00259886, 0.00259891,\n",
      "       0.00259857, 0.00299821, 0.00299845, 0.00279913, 0.00259876,\n",
      "       0.00219874, 0.00299835, 0.00299788, 0.00279856, 0.00279865,\n",
      "       0.00259852, 0.00239873, 0.00299811, 0.00279865, 0.00219898,\n",
      "       0.00299845, 0.00259867, 0.00379796, 0.00279856, 0.00239887,\n",
      "       0.00259891, 0.00239882, 0.00259867, 0.00299811, 0.00279846,\n",
      "       0.00519705, 0.00499706, 0.00359797, 0.00519705, 0.0029984 ,\n",
      "       0.00339847, 0.00339789, 0.00279875, 0.00259876, 0.00239873,\n",
      "       0.00419755, 0.0027987 , 0.00339804, 0.00279865, 0.00279875,\n",
      "       0.00459752, 0.00319824, 0.00239882, 0.00259886, 0.00299821,\n",
      "       0.00359793, 0.00239873, 0.00299845, 0.00339842, 0.00259852,\n",
      "       0.00519719, 0.0041976 , 0.0029984 , 0.00259867, 0.00299835,\n",
      "       0.00279856, 0.0029984 , 0.00299835, 0.00299826, 0.00319839,\n",
      "       0.00279865, 0.00279832, 0.00299835, 0.00519714, 0.00339832,\n",
      "       0.00279846, 0.00259857, 0.00379801, 0.00239902, 0.0029983 ,\n",
      "       0.00299859, 0.0027986 , 0.00279832, 0.00239887, 0.00299854,\n",
      "       0.00259857, 0.00279875, 0.00259838, 0.00559673, 0.00319843,\n",
      "       0.00399785, 0.00439758, 0.00259886, 0.00339828, 0.00259862,\n",
      "       0.00379801, 0.00259848, 0.00279884, 0.0059968 , 0.00299807,\n",
      "       0.00339823, 0.00259814, 0.00319829, 0.00399809, 0.00259891,\n",
      "       0.00259867, 0.00299864, 0.00239878, 0.00299845, 0.00239878,\n",
      "       0.00259891, 0.00259876, 0.00219879, 0.00239863, 0.00259891,\n",
      "       0.00359783, 0.0027987 , 0.00219889, 0.00239887, 0.00219879,\n",
      "       0.00479765, 0.00279818, 0.0029983 , 0.00279851, 0.0039978 ,\n",
      "       0.00459762, 0.00459771, 0.00539708, 0.00259857, 0.00679636,\n",
      "       0.0029984 , 0.00279846, 0.00339808, 0.00279856, 0.00219874,\n",
      "       0.00239878, 0.00239892, 0.00299859, 0.0027987 , 0.00279846,\n",
      "       0.00219917, 0.00219889, 0.00259852, 0.0029984 , 0.00279875,\n",
      "       0.00219874, 0.00259862, 0.00499697, 0.00259848, 0.00439758,\n",
      "       0.00279846, 0.00679598, 0.00319867, 0.00299869, 0.00319834,\n",
      "       0.00259876, 0.00299873, 0.00259867, 0.0021987 , 0.00279846,\n",
      "       0.0029984 , 0.00259871, 0.00239887, 0.00259852, 0.00239873,\n",
      "       0.00219889, 0.00239882, 0.00279789, 0.00239868, 0.0029984 ,\n",
      "       0.00259862, 0.00279841, 0.00339823, 0.00259881, 0.00299845,\n",
      "       0.00299816, 0.00379786, 0.00339837, 0.00299845, 0.00279837,\n",
      "       0.00279865, 0.00299859, 0.00259857, 0.00239868, 0.00259871,\n",
      "       0.0027988 , 0.0029983 , 0.00219893, 0.00259881, 0.0027987 ,\n",
      "       0.00259862, 0.00259876, 0.00219889, 0.00319805, 0.00259891,\n",
      "       0.00259867, 0.00419745, 0.00599694, 0.00339751, 0.00499721,\n",
      "       0.00279813, 0.00319834, 0.00299845, 0.00339823, 0.00719614,\n",
      "       0.00259848, 0.00279837, 0.0029983 , 0.00779543, 0.00439773,\n",
      "       0.00319858, 0.00319843, 0.00299821, 0.00319533, 0.00319681,\n",
      "       0.00579681, 0.00259862, 0.00259857, 0.00259862, 0.00319834,\n",
      "       0.00319815, 0.00259862, 0.00359836, 0.00819578, 0.00359821,\n",
      "       0.00419755, 0.00259876, 0.00319839, 0.00239897, 0.00339832,\n",
      "       0.00259852, 0.0029984 , 0.00259871, 0.00259857, 0.00399818,\n",
      "       0.00279846, 0.0027986 , 0.00299854, 0.0027986 , 0.00279875,\n",
      "       0.00279846, 0.00259881, 0.00279889, 0.00399776, 0.00439811,\n",
      "       0.00279846, 0.00239873, 0.0039979 , 0.0027986 , 0.00299854,\n",
      "       0.00239906, 0.00279856, 0.00239873, 0.00259862, 0.00259886,\n",
      "       0.00299854, 0.00319815, 0.00299826, 0.00519719, 0.0057971 ,\n",
      "       0.00319839, 0.00279851, 0.00339842, 0.00259871, 0.00259895,\n",
      "       0.00219893, 0.00379796, 0.00279875, 0.00599642, 0.00339837,\n",
      "       0.00279832, 0.002599  , 0.00259876, 0.00279865, 0.00319829,\n",
      "       0.0029983 , 0.00279851, 0.00199904, 0.00659661, 0.00239863,\n",
      "       0.00300045, 0.00259857, 0.00259881, 0.00239868, 0.00239873,\n",
      "       0.00299835, 0.00259857, 0.00279832, 0.0029985 , 0.00239863,\n",
      "       0.00219898, 0.00259876, 0.00359826, 0.0029985 , 0.00339799,\n",
      "       0.00279832, 0.0027988 , 0.00499697, 0.00259862, 0.00279846,\n",
      "       0.00279827, 0.00259862, 0.00239868, 0.00299845, 0.00239863,\n",
      "       0.00259876, 0.00319829, 0.00299864, 0.00319839, 0.00239873,\n",
      "       0.00319834, 0.00299826, 0.00259843, 0.00299854, 0.00339828,\n",
      "       0.0029985 , 0.0029983 , 0.0031981 , 0.00279899, 0.00259881,\n",
      "       0.00279875, 0.00399799, 0.00539718, 0.0027988 , 0.0027986 ,\n",
      "       0.00339856, 0.00219917, 0.00259891, 0.00219893, 0.00239887,\n",
      "       0.0027987 , 0.0029983 , 0.00299835, 0.00279841, 0.00299911,\n",
      "       0.00319834, 0.0029983 , 0.0029984 , 0.00319819, 0.00199895,\n",
      "       0.00239878, 0.00299854, 0.00239902, 0.00279865, 0.00299854,\n",
      "       0.00259871, 0.00259876, 0.00239882, 0.00299873, 0.00319819,\n",
      "       0.0023994 , 0.00299845, 0.00279832, 0.00259881, 0.00459762,\n",
      "       0.00220051, 0.00239892, 0.00419784, 0.00239868, 0.0027986 ,\n",
      "       0.0027986 , 0.00399814, 0.00299835, 0.0027986 , 0.0029983 ,\n",
      "       0.0029984 , 0.00539703, 0.01139369, 0.0033998 , 0.00239887,\n",
      "       0.00239873, 0.00679631, 0.00259876, 0.00279841, 0.00279846,\n",
      "       0.00339828, 0.00259876, 0.00459743, 0.00339823, 0.00259876,\n",
      "       0.0027987 , 0.00279856, 0.00299859, 0.00279837, 0.00259857,\n",
      "       0.00239873, 0.00259881, 0.00259862, 0.00219884, 0.00239878,\n",
      "       0.00239897, 0.00259943, 0.00259871, 0.00239873, 0.00219874,\n",
      "       0.00259852, 0.00219898, 0.00259876, 0.00319819, 0.00239882,\n",
      "       0.00239868, 0.00259871, 0.00439768, 0.0029985 , 0.00319839,\n",
      "       0.00239868, 0.00299845, 0.00279846, 0.00239868, 0.00219908,\n",
      "       0.00299854, 0.00239873, 0.00219884, 0.00279851, 0.00299802,\n",
      "       0.00219889, 0.00239873, 0.0029983 , 0.00219879, 0.00239868,\n",
      "       0.00299845, 0.00279841, 0.0027988 , 0.00239878, 0.00239887,\n",
      "       0.00639672, 0.00259871, 0.00279851, 0.00239849, 0.00259852,\n",
      "       0.00399785, 0.00279846, 0.00459743, 0.00579672, 0.00279908,\n",
      "       0.00259881, 0.00239868, 0.00199895, 0.00279851, 0.00239873,\n",
      "       0.00319829, 0.00239878, 0.00279875, 0.00219893, 0.00279875,\n",
      "       0.00219994, 0.00239859, 0.00239878, 0.00319819, 0.00259871,\n",
      "       0.00279875, 0.00299835, 0.00239878, 0.00259871, 0.00259881,\n",
      "       0.00419769, 0.00539708, 0.00239873, 0.0029985 , 0.00339851,\n",
      "       0.00259857, 0.00239873, 0.00259895, 0.00259848, 0.00239892,\n",
      "       0.0029984 , 0.00259871, 0.00259838, 0.0029984 , 0.00239873,\n",
      "       0.00259867, 0.00259867, 0.00219874, 0.00299859, 0.00239887,\n",
      "       0.0027987 , 0.00339851, 0.00259857, 0.00399737, 0.00399809,\n",
      "       0.00299792, 0.00319834, 0.00219903, 0.00339813, 0.00379825,\n",
      "       0.0029984 , 0.00299845, 0.00319839, 0.00259871, 0.00399723,\n",
      "       0.00259891, 0.00319853, 0.00259891, 0.00219879, 0.00259871]), 'std_score_time': array([1.71996354e-03, 1.90734863e-07, 1.19917393e-03, 7.99644037e-04,\n",
      "       7.99822941e-04, 4.89745710e-04, 3.99708815e-04, 4.89823747e-04,\n",
      "       6.32108197e-04, 2.92402980e-03, 9.79374503e-04, 1.46880237e-03,\n",
      "       4.89609479e-04, 3.99804211e-04, 6.32334408e-04, 2.24392691e-03,\n",
      "       3.99543463e-04, 6.31957368e-04, 1.54821925e-03, 4.89667781e-04,\n",
      "       3.99852009e-04, 1.09523519e-03, 4.89687315e-04, 4.89026080e-04,\n",
      "       4.90154936e-04, 1.69963491e-02, 9.84521758e-03, 4.90037741e-04,\n",
      "       2.33052305e-03, 1.16561525e-03, 4.89161846e-04, 1.78416128e-07,\n",
      "       1.35548888e-03, 4.89745664e-04, 1.93805598e-03, 1.16800773e-07,\n",
      "       4.89609386e-04, 2.86102295e-07, 4.89589960e-04, 3.99613420e-04,\n",
      "       4.89687315e-04, 4.31471251e-03, 3.99851867e-04, 3.99828085e-04,\n",
      "       4.89259007e-04, 4.89648413e-04, 4.89784860e-04, 4.89648366e-04,\n",
      "       8.95342536e-03, 4.00066489e-04, 4.89628932e-04, 2.63656210e-03,\n",
      "       2.52869639e-03, 5.81354001e-03, 6.02964257e-03, 4.89687269e-04,\n",
      "       7.99727459e-04, 1.85369974e-03, 3.99804268e-04, 4.89726210e-04,\n",
      "       4.89706807e-04, 4.89434226e-04, 8.00800338e-04, 1.90734863e-07,\n",
      "       3.99637293e-04, 3.23406696e-07, 4.00066461e-04, 6.32183594e-04,\n",
      "       4.89570468e-04, 3.50402318e-07, 1.78416128e-07, 4.89843011e-04,\n",
      "       3.99899522e-04, 1.35511660e-03, 1.74280423e-03, 4.89492632e-04,\n",
      "       4.89512085e-04, 4.00200311e-04, 3.32080428e-03, 3.99804240e-04,\n",
      "       4.89959928e-04, 4.89726187e-04, 6.31882023e-04, 3.99732718e-04,\n",
      "       3.99899948e-04, 3.99947206e-04, 3.99827971e-04, 4.89648482e-04,\n",
      "       3.16297988e-07, 2.33601546e-07, 4.89687269e-04, 4.88968023e-04,\n",
      "       4.89706831e-04, 4.89590007e-04, 3.99947234e-04, 4.89317797e-04,\n",
      "       7.99417560e-04, 4.89765376e-04, 7.99846663e-04, 3.99971037e-04,\n",
      "       4.89667920e-04, 6.32108132e-04, 3.99518024e-04, 4.89784628e-04,\n",
      "       4.89920871e-04, 3.37174788e-07, 3.16297988e-07, 3.99851895e-04,\n",
      "       3.99589624e-04, 1.99897296e-03, 7.47780261e-04, 3.65297161e-03,\n",
      "       2.86802386e-03, 3.99971065e-04, 4.00018706e-04, 1.16548440e-03,\n",
      "       4.89434179e-04, 4.89901429e-04, 7.62156970e-03, 4.89628956e-04,\n",
      "       1.90734863e-07, 4.89823631e-04, 2.78041453e-07, 1.85336555e-03,\n",
      "       4.89667920e-04, 4.89862464e-04, 4.00161772e-04, 4.89667874e-04,\n",
      "       4.89726187e-04, 1.62412645e-03, 2.24370600e-03, 4.00137940e-04,\n",
      "       7.13490508e-03, 3.99947291e-04, 4.91228735e-03, 7.47907684e-04,\n",
      "       7.47920407e-04, 6.32259018e-04, 3.99756499e-04, 3.99732718e-04,\n",
      "       5.35248383e-07, 2.13248060e-07, 4.89784582e-04, 1.01910346e-03,\n",
      "       1.74238304e-03, 3.99971037e-04, 1.85386429e-03, 4.89687269e-04,\n",
      "       3.99637265e-04, 4.89629002e-04, 4.83879045e-03, 7.48277254e-04,\n",
      "       3.99851810e-04, 6.32183558e-04, 1.16542711e-03, 6.31957404e-04,\n",
      "       4.89356335e-04, 2.41517914e-03, 1.35587555e-03, 3.99708844e-04,\n",
      "       1.78416128e-07, 9.79335550e-04, 4.89648320e-04, 3.99661103e-04,\n",
      "       2.43140197e-07, 2.61174468e-07, 4.89726187e-04, 4.00137940e-04,\n",
      "       4.89804070e-04, 4.89940548e-04, 4.89453667e-04, 3.91676063e-03,\n",
      "       2.22604938e-03, 1.35572094e-03, 5.70990928e-03, 4.89667827e-04,\n",
      "       1.19926931e-03, 4.89551050e-04, 3.99780757e-04, 9.79150692e-04,\n",
      "       1.54868093e-03, 1.78416128e-07, 4.89687408e-04, 1.46875674e-03,\n",
      "       4.89550980e-04, 4.89745664e-04, 3.99732860e-04, 4.42200589e-07,\n",
      "       3.99875726e-04, 6.32334300e-04, 3.99637350e-04, 3.82423565e-03,\n",
      "       2.09589714e-03, 4.89278460e-04, 3.99613476e-04, 4.89122757e-04,\n",
      "       4.00018934e-04, 3.99804211e-04, 4.89473113e-04, 4.89979312e-04,\n",
      "       4.89434203e-04, 1.50789149e-07, 3.01578299e-07, 4.89784605e-04,\n",
      "       3.51979465e-03, 3.87384339e-07, 7.48124380e-04, 2.24383772e-03,\n",
      "       1.59895421e-03, 7.99369968e-04, 3.99756471e-04, 2.13414887e-03,\n",
      "       2.92438834e-03, 4.89531519e-04, 4.89862604e-04, 1.71975281e-03,\n",
      "       1.54837314e-03, 4.89804070e-04, 1.13443158e-06, 3.19795610e-03,\n",
      "       3.99613448e-04, 3.99780302e-04, 3.99971321e-04, 3.99851895e-04,\n",
      "       1.16565612e-03, 1.93842978e-03, 9.79803067e-04, 8.10464302e-03,\n",
      "       3.51938843e-03, 4.89726234e-04, 4.89590169e-04, 4.89590007e-04,\n",
      "       3.99923339e-04, 3.99661331e-04, 7.99357928e-04, 4.89843382e-04,\n",
      "       7.10694198e-03, 7.40906865e-03, 3.01578299e-07, 1.50789149e-07,\n",
      "       1.35570685e-03, 6.32183533e-04, 4.89609386e-04, 7.99870525e-04,\n",
      "       1.16443767e-03, 4.89512085e-04, 9.79890413e-04, 6.32032992e-04,\n",
      "       4.02760131e-03, 4.89473136e-04, 3.99828000e-04, 3.99875698e-04,\n",
      "       5.01693665e-03, 3.99732604e-04, 6.32183612e-04, 4.89706947e-04,\n",
      "       4.89453760e-04, 7.99822827e-04, 4.89531542e-04, 7.48035146e-04,\n",
      "       4.89882061e-04, 1.09497407e-03, 7.48086085e-04, 6.32108240e-04,\n",
      "       3.99351305e-04, 3.99804154e-04, 4.89434203e-04, 6.32108143e-04,\n",
      "       4.89453714e-04, 3.99661075e-04, 2.24373150e-03, 4.89473206e-04,\n",
      "       6.39619828e-03, 4.89667827e-04, 2.44831946e-03, 3.99923453e-04,\n",
      "       4.89531519e-04, 1.46902931e-03, 4.89375831e-04, 3.99923509e-04,\n",
      "       7.47767533e-04, 4.89589960e-04, 4.89745687e-04, 2.43140197e-07,\n",
      "       4.89998861e-04, 7.47882228e-04, 4.89784605e-04, 1.50789149e-07,\n",
      "       1.78416128e-07, 5.76164530e-07, 1.09540928e-03, 4.89473136e-04,\n",
      "       2.63706095e-03, 2.63644643e-03, 3.23406696e-07, 2.13248060e-07,\n",
      "       1.35617086e-03, 1.01921570e-03, 4.89745826e-04, 3.99947348e-04,\n",
      "       1.19941239e-03, 2.33601546e-07, 2.61174468e-07, 4.89901452e-04,\n",
      "       4.89804047e-04, 7.99870496e-04, 7.48035191e-04, 3.99780359e-04,\n",
      "       1.59912119e-03, 3.99899579e-04, 4.22122808e-03, 1.74296831e-03,\n",
      "       4.89706854e-04, 4.89667804e-04, 4.89706923e-04, 4.89531519e-04,\n",
      "       1.90734863e-07, 4.42200589e-07, 4.00234330e-04, 4.89979520e-04,\n",
      "       3.99446530e-04, 6.31957397e-04, 8.52992240e-07, 3.99947177e-04,\n",
      "       3.99875726e-04, 4.89687269e-04, 4.89784651e-04, 6.32108150e-04,\n",
      "       3.99756584e-04, 3.99565793e-04, 3.56832255e-07, 4.89512062e-04,\n",
      "       1.59897806e-03, 3.99827971e-04, 4.89765167e-04, 4.90096066e-04,\n",
      "       4.89512085e-04, 4.89706714e-04, 3.98950589e-07, 7.47984154e-04,\n",
      "       5.41579554e-03, 3.99765968e-03, 1.19936469e-03, 1.46902933e-03,\n",
      "       3.50402318e-07, 7.99870496e-04, 1.85383342e-03, 4.00042886e-04,\n",
      "       7.99953946e-04, 4.90076682e-04, 2.39899161e-03, 3.99661103e-04,\n",
      "       4.89512085e-04, 3.99756471e-04, 3.99804154e-04, 3.19857598e-03,\n",
      "       1.93776087e-03, 4.89414718e-04, 4.89862488e-04, 6.31881954e-04,\n",
      "       4.89648482e-04, 4.89589914e-04, 2.86102295e-07, 4.89784651e-04,\n",
      "       4.89784605e-04, 3.18636503e-03, 9.78352875e-04, 6.32108139e-04,\n",
      "       4.89414858e-04, 3.01578299e-07, 3.99708844e-04, 9.53674316e-08,\n",
      "       2.61174468e-07, 2.86102295e-07, 3.99947206e-04, 3.99875698e-04,\n",
      "       3.99828028e-04, 1.50789149e-07, 4.39758302e-03, 7.99822813e-04,\n",
      "       3.99780302e-04, 4.89628932e-04, 1.16568882e-03, 4.89843057e-04,\n",
      "       6.32108193e-04, 1.50789149e-07, 3.99971037e-04, 3.99589709e-04,\n",
      "       4.89570515e-04, 3.50402318e-07, 7.99262625e-04, 7.48124319e-04,\n",
      "       4.89473206e-04, 5.19700051e-03, 3.99923367e-04, 2.09648819e-03,\n",
      "       3.32081002e-03, 4.89862488e-04, 7.99489041e-04, 4.89765144e-04,\n",
      "       1.16548440e-03, 4.89745664e-04, 3.99851838e-04, 4.55800826e-03,\n",
      "       1.05982355e-06, 1.01920635e-03, 4.89376110e-04, 1.46897738e-03,\n",
      "       3.03149976e-03, 4.89609456e-04, 4.89609386e-04, 2.78041453e-07,\n",
      "       4.89648599e-04, 2.43140197e-07, 4.89745687e-04, 4.89804070e-04,\n",
      "       4.89784628e-04, 3.99899550e-04, 4.89765167e-04, 4.89706738e-04,\n",
      "       4.89667827e-04, 3.99542040e-04, 3.99851810e-04, 4.89862511e-04,\n",
      "       4.00018763e-04, 3.59799864e-03, 4.00471698e-04, 3.16297988e-07,\n",
      "       4.00042573e-04, 6.32032769e-04, 2.72605410e-03, 3.19824219e-03,\n",
      "       5.31108376e-03, 4.89628863e-04, 7.10661204e-03, 9.53674316e-08,\n",
      "       3.99661274e-04, 1.85348377e-03, 3.99828000e-04, 3.99804126e-04,\n",
      "       4.89551027e-04, 4.89628932e-04, 3.01578299e-07, 3.99899522e-04,\n",
      "       3.99661160e-04, 3.99589567e-04, 3.99613391e-04, 4.89687339e-04,\n",
      "       2.78041453e-07, 3.99684963e-04, 3.99684934e-04, 4.89473136e-04,\n",
      "       3.28419641e-03, 4.89453714e-04, 4.89531519e-04, 3.99661160e-04,\n",
      "       6.10918883e-03, 3.99804467e-04, 1.16800773e-07, 3.99971094e-04,\n",
      "       4.89784628e-04, 2.43140197e-07, 1.19929314e-03, 3.99589567e-04,\n",
      "       3.99780416e-04, 1.78416128e-07, 4.89648343e-04, 4.89570515e-04,\n",
      "       4.89589960e-04, 4.89784628e-04, 3.99851810e-04, 4.89609386e-04,\n",
      "       3.99377164e-04, 4.89434203e-04, 9.53674316e-08, 4.89667804e-04,\n",
      "       3.99756528e-04, 7.99751339e-04, 4.89628932e-04, 3.23406696e-07,\n",
      "       5.51978917e-07, 7.47907714e-04, 7.99441371e-04, 1.90734863e-07,\n",
      "       3.99732661e-04, 3.99756442e-04, 2.61174468e-07, 4.89628909e-04,\n",
      "       4.89628840e-04, 4.89356405e-04, 3.99708787e-04, 6.31957368e-04,\n",
      "       3.99828000e-04, 4.89823562e-04, 4.00137969e-04, 4.89375831e-04,\n",
      "       4.89492632e-04, 3.99971037e-04, 3.99875783e-04, 4.89609386e-04,\n",
      "       4.89706854e-04, 1.16567250e-03, 4.81403159e-03, 4.89941151e-04,\n",
      "       5.51049565e-03, 3.99495167e-04, 3.99732661e-04, 2.43140197e-07,\n",
      "       2.33122633e-03, 9.40553686e-03, 4.89551003e-04, 3.99613476e-04,\n",
      "       6.32108283e-04, 9.59451199e-03, 1.49551590e-03, 3.99971207e-04,\n",
      "       1.16576241e-03, 2.43140197e-07, 7.44758926e-04, 4.00627803e-04,\n",
      "       5.59692384e-03, 4.89765121e-04, 4.89726234e-04, 7.99703634e-04,\n",
      "       1.16549258e-03, 7.47754740e-04, 7.99465208e-04, 4.89804116e-04,\n",
      "       1.03943825e-02, 1.74226269e-03, 3.99732604e-04, 4.89589960e-04,\n",
      "       1.46867239e-03, 4.89687246e-04, 1.85366377e-03, 4.89589937e-04,\n",
      "       2.78041453e-07, 7.99512884e-04, 4.89726187e-04, 2.86102295e-07,\n",
      "       7.48111633e-04, 3.99971065e-04, 2.78041453e-07, 3.99851867e-04,\n",
      "       3.99804240e-04, 3.99661132e-04, 4.89434203e-04, 3.99876010e-04,\n",
      "       2.60628523e-03, 2.33100961e-03, 3.99661103e-04, 4.89589983e-04,\n",
      "       1.99909212e-03, 3.99851867e-04, 6.32334318e-04, 4.89512039e-04,\n",
      "       3.99828028e-04, 4.89687315e-04, 4.89570445e-04, 4.89667804e-04,\n",
      "       6.32108157e-04, 3.99708815e-04, 1.90734863e-07, 5.41549105e-03,\n",
      "       6.10901252e-03, 1.46912664e-03, 3.99804154e-04, 1.49573250e-03,\n",
      "       4.89356335e-04, 4.89745664e-04, 3.99828028e-04, 1.59873963e-03,\n",
      "       3.99684991e-04, 5.51059079e-03, 1.35519396e-03, 3.99709128e-04,\n",
      "       4.90174683e-04, 1.19960309e-03, 3.99995003e-04, 3.99756471e-04,\n",
      "       4.62310777e-07, 3.99565707e-04, 1.90734863e-07, 7.19604493e-03,\n",
      "       4.89862441e-04, 3.36296991e-06, 4.89531566e-04, 4.89920871e-04,\n",
      "       4.89434203e-04, 4.89589937e-04, 3.98950589e-07, 4.89823631e-04,\n",
      "       3.99947177e-04, 2.43140197e-07, 4.89473113e-04, 3.99804154e-04,\n",
      "       4.89589937e-04, 4.89726280e-04, 1.16800773e-07, 7.99512870e-04,\n",
      "       3.99828028e-04, 3.99947547e-04, 3.51979489e-03, 4.89765144e-04,\n",
      "       3.99780302e-04, 3.99804154e-04, 4.89765260e-04, 4.89920917e-04,\n",
      "       2.43140197e-07, 4.89667804e-04, 4.89589937e-04, 3.99756471e-04,\n",
      "       2.33601546e-07, 9.78985159e-04, 4.89492586e-04, 3.99971065e-04,\n",
      "       3.23406696e-07, 4.89706784e-04, 2.78041453e-07, 4.89609433e-04,\n",
      "       1.09458224e-03, 6.28991411e-07, 7.47894942e-04, 3.99804268e-04,\n",
      "       4.89628863e-04, 3.99923453e-04, 1.99916365e-03, 3.38033335e-03,\n",
      "       3.99708787e-04, 7.47958647e-04, 4.90057488e-04, 3.99708986e-04,\n",
      "       4.89609433e-04, 3.99947177e-04, 4.89473206e-04, 4.00018763e-04,\n",
      "       2.78041453e-07, 1.50789149e-07, 3.99756471e-04, 1.18155591e-06,\n",
      "       3.99851838e-04, 6.32183601e-04, 2.78041453e-07, 3.99923339e-04,\n",
      "       1.78416128e-07, 4.89453784e-04, 3.16297988e-07, 4.89648320e-04,\n",
      "       3.99875669e-04, 2.78041453e-07, 4.89745664e-04, 4.89589983e-04,\n",
      "       4.89609433e-04, 2.86102295e-07, 3.99804154e-04, 4.90311258e-04,\n",
      "       1.90734863e-07, 4.00662518e-04, 4.89628886e-04, 3.71804592e-03,\n",
      "       3.98935845e-04, 4.89531566e-04, 2.92432641e-03, 4.89531612e-04,\n",
      "       3.99851838e-04, 3.99851838e-04, 2.52899794e-03, 2.13248060e-07,\n",
      "       3.99732604e-04, 1.09475631e-03, 3.16297988e-07, 5.81365967e-03,\n",
      "       1.20197151e-02, 1.35498661e-03, 4.89667804e-04, 4.89492632e-04,\n",
      "       8.60615977e-03, 4.89589914e-04, 3.99637379e-04, 3.99780302e-04,\n",
      "       1.35567871e-03, 4.89784651e-04, 2.86874059e-03, 7.99751310e-04,\n",
      "       4.89492678e-04, 3.99780302e-04, 3.99828000e-04, 2.13248060e-07,\n",
      "       3.99732718e-04, 4.89726187e-04, 4.89784605e-04, 4.89726187e-04,\n",
      "       4.89667804e-04, 3.99756471e-04, 4.89745664e-04, 4.89687269e-04,\n",
      "       4.89942196e-04, 4.89745756e-04, 4.89784582e-04, 3.99923396e-04,\n",
      "       4.89687315e-04, 4.00042545e-04, 4.89589960e-04, 1.93820845e-03,\n",
      "       4.89901475e-04, 4.89628840e-04, 4.89453644e-04, 1.85360718e-03,\n",
      "       1.09493043e-03, 3.99947206e-04, 4.89628886e-04, 3.23406696e-07,\n",
      "       3.99780302e-04, 4.89823515e-04, 4.00114102e-04, 2.78041453e-07,\n",
      "       4.89492632e-04, 3.99637293e-04, 3.99684934e-04, 7.92181383e-07,\n",
      "       3.99971037e-04, 4.89589914e-04, 1.78416128e-07, 3.99899522e-04,\n",
      "       4.89434203e-04, 1.90734863e-07, 3.99637237e-04, 3.99947291e-04,\n",
      "       4.89842988e-04, 4.89667827e-04, 6.37132944e-03, 4.89648320e-04,\n",
      "       3.99804154e-04, 4.89589960e-04, 4.89979288e-04, 2.52830055e-03,\n",
      "       7.47793001e-04, 3.71807664e-03, 5.18921652e-03, 4.00091365e-04,\n",
      "       4.89531612e-04, 4.89726234e-04, 1.78416128e-07, 3.99923396e-04,\n",
      "       4.89589960e-04, 3.99756471e-04, 4.89551050e-04, 3.99685048e-04,\n",
      "       3.99827971e-04, 3.99804211e-04, 3.99450515e-04, 4.89609386e-04,\n",
      "       4.89551050e-04, 3.99804183e-04, 4.89648320e-04, 3.99684934e-04,\n",
      "       6.32183558e-04, 4.89648366e-04, 4.89745664e-04, 4.89628886e-04,\n",
      "       2.48060980e-03, 5.81423018e-03, 4.89590007e-04, 2.43140197e-07,\n",
      "       1.85382829e-03, 4.89726210e-04, 4.89492632e-04, 4.89745640e-04,\n",
      "       4.89648366e-04, 4.89628886e-04, 2.33601546e-07, 4.89745687e-04,\n",
      "       4.89278530e-04, 1.78416128e-07, 4.89589937e-04, 4.89706738e-04,\n",
      "       4.89706738e-04, 4.00042573e-04, 2.61174468e-07, 4.89765121e-04,\n",
      "       4.00018848e-04, 7.99369855e-04, 4.89336867e-04, 3.03178277e-03,\n",
      "       1.78779196e-03, 1.54800395e-03, 3.99732718e-04, 3.99780273e-04,\n",
      "       4.89726187e-04, 3.99947262e-04, 1.78416128e-07, 1.26414085e-03,\n",
      "       1.46883464e-03, 7.99870496e-04, 6.33013255e-04, 4.89122734e-04,\n",
      "       9.79296628e-04, 4.89706761e-04, 3.99899522e-04, 1.01841198e-03]), 'param_subsample': masked_array(data=[0.6, 1.0, 0.6, 1.0, 0.8, 0.8, 0.8, 0.8, 0.6, 0.8, 0.6,\n",
      "                   0.8, 0.8, 0.6, 0.6, 0.6, 1.0, 1.0, 1.0, 0.8, 0.6, 0.6,\n",
      "                   0.6, 0.8, 0.8, 1.0, 0.8, 0.6, 1.0, 0.8, 0.8, 1.0, 1.0,\n",
      "                   1.0, 1.0, 0.6, 0.6, 0.6, 0.6, 0.6, 0.6, 1.0, 0.6, 0.8,\n",
      "                   1.0, 0.8, 0.6, 0.8, 0.8, 1.0, 0.8, 0.8, 0.6, 0.8, 0.8,\n",
      "                   0.6, 1.0, 0.8, 0.8, 0.6, 1.0, 1.0, 0.6, 0.8, 0.8, 1.0,\n",
      "                   0.8, 0.6, 1.0, 0.8, 0.6, 0.8, 0.8, 1.0, 0.6, 0.8, 1.0,\n",
      "                   0.8, 1.0, 1.0, 1.0, 1.0, 0.6, 1.0, 0.8, 0.8, 0.8, 0.6,\n",
      "                   0.6, 1.0, 0.8, 0.6, 1.0, 0.8, 0.8, 0.6, 1.0, 0.8, 1.0,\n",
      "                   0.6, 0.8, 1.0, 1.0, 0.8, 0.6, 0.8, 1.0, 0.8, 0.6, 1.0,\n",
      "                   0.6, 0.8, 0.8, 0.6, 0.6, 0.8, 1.0, 1.0, 0.6, 1.0, 0.6,\n",
      "                   0.8, 0.6, 0.6, 1.0, 1.0, 0.6, 0.6, 0.6, 1.0, 0.8, 0.8,\n",
      "                   1.0, 0.8, 1.0, 0.8, 0.8, 0.6, 0.6, 1.0, 0.8, 0.8, 0.6,\n",
      "                   0.6, 1.0, 0.8, 0.6, 1.0, 1.0, 0.6, 0.8, 0.6, 0.6, 0.6,\n",
      "                   0.6, 1.0, 1.0, 0.8, 1.0, 0.8, 0.8, 0.8, 0.8, 0.8, 1.0,\n",
      "                   0.6, 0.6, 0.6, 1.0, 1.0, 0.6, 1.0, 1.0, 0.8, 0.6, 0.6,\n",
      "                   0.8, 1.0, 0.8, 0.8, 1.0, 0.6, 0.6, 0.6, 1.0, 1.0, 1.0,\n",
      "                   0.8, 0.6, 0.6, 1.0, 0.6, 0.6, 0.8, 0.6, 0.6, 0.6, 1.0,\n",
      "                   0.6, 0.6, 1.0, 0.6, 0.6, 0.8, 0.8, 0.8, 0.8, 0.6, 0.8,\n",
      "                   0.6, 0.8, 0.6, 1.0, 1.0, 0.6, 0.8, 0.8, 0.6, 1.0, 1.0,\n",
      "                   0.8, 0.6, 0.6, 0.8, 1.0, 0.6, 0.8, 0.6, 1.0, 1.0, 1.0,\n",
      "                   0.8, 0.6, 0.6, 0.8, 0.8, 1.0, 1.0, 1.0, 0.8, 1.0, 0.8,\n",
      "                   1.0, 0.8, 0.8, 0.6, 1.0, 0.8, 0.6, 0.8, 0.8, 0.6, 1.0,\n",
      "                   0.8, 0.8, 0.6, 1.0, 0.6, 0.6, 0.6, 0.8, 0.6, 1.0, 1.0,\n",
      "                   1.0, 0.8, 0.6, 0.6, 0.6, 1.0, 0.8, 1.0, 0.8, 1.0, 0.6,\n",
      "                   1.0, 0.6, 0.8, 0.8, 0.8, 0.6, 1.0, 0.6, 1.0, 1.0, 0.8,\n",
      "                   1.0, 0.8, 1.0, 0.8, 1.0, 0.6, 1.0, 1.0, 0.8, 0.8, 0.8,\n",
      "                   0.6, 0.6, 1.0, 0.8, 0.8, 0.8, 0.8, 0.6, 1.0, 0.6, 0.8,\n",
      "                   0.8, 1.0, 0.6, 0.8, 1.0, 0.6, 1.0, 0.8, 0.8, 1.0, 0.6,\n",
      "                   0.6, 0.6, 0.6, 0.8, 0.8, 0.8, 1.0, 0.6, 0.8, 0.8, 0.6,\n",
      "                   0.6, 1.0, 0.8, 0.8, 1.0, 0.8, 0.6, 0.8, 1.0, 1.0, 0.8,\n",
      "                   1.0, 0.8, 1.0, 0.6, 0.6, 1.0, 0.6, 0.6, 1.0, 0.8, 0.8,\n",
      "                   0.8, 1.0, 1.0, 0.6, 0.8, 0.8, 1.0, 0.6, 0.8, 0.8, 1.0,\n",
      "                   1.0, 0.6, 1.0, 0.8, 0.6, 0.6, 0.6, 0.6, 0.6, 0.6, 0.8,\n",
      "                   0.6, 0.8, 0.8, 1.0, 0.8, 1.0, 1.0, 0.8, 0.8, 0.8, 0.6,\n",
      "                   0.8, 0.6, 0.6, 0.6, 1.0, 0.8, 1.0, 1.0, 0.8, 1.0, 0.8,\n",
      "                   0.8, 0.8, 0.8, 0.8, 1.0, 1.0, 0.6, 1.0, 0.8, 0.8, 0.6,\n",
      "                   1.0, 0.8, 0.6, 1.0, 0.6, 0.8, 0.8, 0.8, 1.0, 0.8, 0.6,\n",
      "                   1.0, 1.0, 0.8, 1.0, 1.0, 0.6, 0.6, 0.6, 0.6, 1.0, 0.6,\n",
      "                   0.6, 0.8, 0.8, 1.0, 0.8, 0.8, 0.6, 0.8, 0.6, 0.6, 1.0,\n",
      "                   0.8, 0.6, 0.8, 1.0, 0.6, 0.6, 0.6, 0.8, 0.6, 0.6, 1.0,\n",
      "                   0.8, 0.6, 1.0, 0.6, 0.6, 1.0, 1.0, 0.8, 0.8, 1.0, 0.6,\n",
      "                   0.8, 0.6, 0.6, 1.0, 0.8, 0.8, 0.8, 0.6, 0.6, 0.8, 0.6,\n",
      "                   0.6, 1.0, 0.8, 0.6, 0.6, 0.8, 0.8, 0.8, 0.6, 0.8, 1.0,\n",
      "                   0.8, 0.6, 1.0, 0.8, 0.6, 1.0, 1.0, 0.6, 0.6, 0.8, 0.8,\n",
      "                   0.8, 0.6, 0.8, 0.8, 0.8, 1.0, 0.6, 0.6, 0.8, 1.0, 0.8,\n",
      "                   0.8, 0.8, 0.8, 0.8, 0.8, 0.8, 1.0, 0.6, 0.8, 0.6, 1.0,\n",
      "                   1.0, 0.6, 1.0, 0.8, 0.6, 1.0, 1.0, 0.6, 0.6, 0.6, 0.6,\n",
      "                   0.6, 1.0, 0.8, 0.8, 1.0, 0.8, 0.8, 0.6, 1.0, 0.8, 0.8,\n",
      "                   0.6, 0.8, 0.6, 1.0, 0.6, 1.0, 0.6, 0.8, 1.0, 0.6, 0.6,\n",
      "                   0.6, 0.6, 0.6, 0.8, 1.0, 1.0, 0.8, 0.8, 0.8, 1.0, 0.6,\n",
      "                   1.0, 1.0, 0.8, 0.6, 0.8, 0.6, 1.0, 0.8, 0.6, 0.8, 1.0,\n",
      "                   0.8, 0.8, 0.8, 0.6, 0.8, 0.6, 1.0, 1.0, 0.8, 0.6, 0.6,\n",
      "                   0.8, 0.8, 0.8, 0.6, 0.8, 1.0, 0.6, 0.8, 0.8, 0.6, 0.6,\n",
      "                   0.6, 0.6, 0.6, 0.8, 1.0, 1.0, 0.8, 0.6, 0.8, 0.6, 0.6,\n",
      "                   0.6, 0.8, 1.0, 0.6, 0.6, 1.0, 0.6, 0.6, 0.6, 1.0, 0.6,\n",
      "                   0.6, 1.0, 0.6, 1.0, 0.8, 1.0, 0.6, 1.0, 1.0, 0.6, 0.8,\n",
      "                   0.6, 1.0, 0.6, 0.8, 0.8, 0.6, 1.0, 0.6, 0.8, 0.6, 1.0,\n",
      "                   1.0, 0.6, 0.8, 1.0, 0.6, 0.6, 1.0, 0.6, 1.0, 0.6, 0.8,\n",
      "                   0.8, 0.6, 0.8, 0.6, 0.8, 0.6, 0.8, 0.8, 0.8, 0.6, 1.0,\n",
      "                   0.8, 0.6, 0.8, 1.0, 0.8, 0.8, 1.0, 0.8, 0.8, 1.0, 1.0,\n",
      "                   0.6, 0.8, 0.8, 0.6, 0.8, 1.0, 0.6, 1.0, 1.0, 1.0, 0.6,\n",
      "                   0.6, 0.8, 1.0, 1.0, 0.8, 1.0, 1.0, 0.6, 0.8, 0.8, 0.6,\n",
      "                   0.8, 0.6, 0.6, 1.0, 0.6, 0.6, 1.0, 0.6, 0.8, 1.0, 1.0,\n",
      "                   1.0, 0.8, 1.0, 0.8, 0.6, 1.0, 1.0, 0.6, 1.0, 1.0, 0.8,\n",
      "                   0.8, 0.8, 1.0, 0.6, 0.8, 0.8, 1.0, 0.8, 0.6, 0.8, 0.8,\n",
      "                   0.8, 1.0, 0.6, 0.8, 0.8, 1.0, 0.8, 0.8, 0.6, 0.6, 0.6,\n",
      "                   0.6, 0.8, 0.8, 1.0, 0.8, 0.6, 1.0, 0.8, 0.6, 0.8, 0.8,\n",
      "                   0.6, 1.0, 1.0, 0.6, 0.6, 0.6, 0.8, 0.6, 1.0, 1.0, 1.0,\n",
      "                   0.6, 0.6, 0.8, 0.6, 0.8, 0.8, 1.0, 0.6, 0.8, 1.0, 1.0,\n",
      "                   0.8, 0.8, 0.6, 0.8, 0.6, 0.8, 1.0, 0.6, 0.8, 1.0, 1.0,\n",
      "                   0.6, 0.8, 0.6, 0.8, 0.6, 0.8, 1.0, 0.6, 0.8, 0.6, 0.8,\n",
      "                   1.0, 0.8, 0.8, 1.0, 1.0, 1.0, 1.0, 1.0],\n",
      "             mask=[False, False, False, False, False, False, False, False,\n",
      "                   False, False, False, False, False, False, False, False,\n",
      "                   False, False, False, False, False, False, False, False,\n",
      "                   False, False, False, False, False, False, False, False,\n",
      "                   False, False, False, False, False, False, False, False,\n",
      "                   False, False, False, False, False, False, False, False,\n",
      "                   False, False, False, False, False, False, False, False,\n",
      "                   False, False, False, False, False, False, False, False,\n",
      "                   False, False, False, False, False, False, False, False,\n",
      "                   False, False, False, False, False, False, False, False,\n",
      "                   False, False, False, False, False, False, False, False,\n",
      "                   False, False, False, False, False, False, False, False,\n",
      "                   False, False, False, False, False, False, False, False,\n",
      "                   False, False, False, False, False, False, False, False,\n",
      "                   False, False, False, False, False, False, False, False,\n",
      "                   False, False, False, False, False, False, False, False,\n",
      "                   False, False, False, False, False, False, False, False,\n",
      "                   False, False, False, False, False, False, False, False,\n",
      "                   False, False, False, False, False, False, False, False,\n",
      "                   False, False, False, False, False, False, False, False,\n",
      "                   False, False, False, False, False, False, False, False,\n",
      "                   False, False, False, False, False, False, False, False,\n",
      "                   False, False, False, False, False, False, False, False,\n",
      "                   False, False, False, False, False, False, False, False,\n",
      "                   False, False, False, False, False, False, False, False,\n",
      "                   False, False, False, False, False, False, False, False,\n",
      "                   False, False, False, False, False, False, False, False,\n",
      "                   False, False, False, False, False, False, False, False,\n",
      "                   False, False, False, False, False, False, False, False,\n",
      "                   False, False, False, False, False, False, False, False,\n",
      "                   False, False, False, False, False, False, False, False,\n",
      "                   False, False, False, False, False, False, False, False,\n",
      "                   False, False, False, False, False, False, False, False,\n",
      "                   False, False, False, False, False, False, False, False,\n",
      "                   False, False, False, False, False, False, False, False,\n",
      "                   False, False, False, False, False, False, False, False,\n",
      "                   False, False, False, False, False, False, False, False,\n",
      "                   False, False, False, False, False, False, False, False,\n",
      "                   False, False, False, False, False, False, False, False,\n",
      "                   False, False, False, False, False, False, False, False,\n",
      "                   False, False, False, False, False, False, False, False,\n",
      "                   False, False, False, False, False, False, False, False,\n",
      "                   False, False, False, False, False, False, False, False,\n",
      "                   False, False, False, False, False, False, False, False,\n",
      "                   False, False, False, False, False, False, False, False,\n",
      "                   False, False, False, False, False, False, False, False,\n",
      "                   False, False, False, False, False, False, False, False,\n",
      "                   False, False, False, False, False, False, False, False,\n",
      "                   False, False, False, False, False, False, False, False,\n",
      "                   False, False, False, False, False, False, False, False,\n",
      "                   False, False, False, False, False, False, False, False,\n",
      "                   False, False, False, False, False, False, False, False,\n",
      "                   False, False, False, False, False, False, False, False,\n",
      "                   False, False, False, False, False, False, False, False,\n",
      "                   False, False, False, False, False, False, False, False,\n",
      "                   False, False, False, False, False, False, False, False,\n",
      "                   False, False, False, False, False, False, False, False,\n",
      "                   False, False, False, False, False, False, False, False,\n",
      "                   False, False, False, False, False, False, False, False,\n",
      "                   False, False, False, False, False, False, False, False,\n",
      "                   False, False, False, False, False, False, False, False,\n",
      "                   False, False, False, False, False, False, False, False,\n",
      "                   False, False, False, False, False, False, False, False,\n",
      "                   False, False, False, False, False, False, False, False,\n",
      "                   False, False, False, False, False, False, False, False,\n",
      "                   False, False, False, False, False, False, False, False,\n",
      "                   False, False, False, False, False, False, False, False,\n",
      "                   False, False, False, False, False, False, False, False,\n",
      "                   False, False, False, False, False, False, False, False,\n",
      "                   False, False, False, False, False, False, False, False,\n",
      "                   False, False, False, False, False, False, False, False,\n",
      "                   False, False, False, False, False, False, False, False,\n",
      "                   False, False, False, False, False, False, False, False,\n",
      "                   False, False, False, False, False, False, False, False,\n",
      "                   False, False, False, False, False, False, False, False,\n",
      "                   False, False, False, False, False, False, False, False,\n",
      "                   False, False, False, False, False, False, False, False,\n",
      "                   False, False, False, False, False, False, False, False,\n",
      "                   False, False, False, False, False, False, False, False,\n",
      "                   False, False, False, False, False, False, False, False,\n",
      "                   False, False, False, False, False, False, False, False,\n",
      "                   False, False, False, False, False, False, False, False,\n",
      "                   False, False, False, False, False, False, False, False,\n",
      "                   False, False, False, False, False, False, False, False,\n",
      "                   False, False, False, False, False, False, False, False,\n",
      "                   False, False, False, False, False, False, False, False,\n",
      "                   False, False, False, False, False, False, False, False,\n",
      "                   False, False, False, False, False, False, False, False,\n",
      "                   False, False, False, False, False, False, False, False,\n",
      "                   False, False, False, False, False, False, False, False,\n",
      "                   False, False, False, False, False, False, False, False,\n",
      "                   False, False, False, False, False, False, False, False,\n",
      "                   False, False, False, False, False, False, False, False,\n",
      "                   False, False, False, False, False, False, False, False,\n",
      "                   False, False, False, False, False, False, False, False,\n",
      "                   False, False, False, False, False, False, False, False,\n",
      "                   False, False, False, False, False, False, False, False,\n",
      "                   False, False, False, False, False, False, False, False,\n",
      "                   False, False, False, False, False, False, False, False,\n",
      "                   False, False, False, False, False, False, False, False],\n",
      "       fill_value='?',\n",
      "            dtype=object), 'param_n_estimators': masked_array(data=[500, 500, 500, 500, 200, 750, 200, 100, 200, 100, 100,\n",
      "                   100, 200, 200, 500, 100, 750, 100, 200, 200, 200, 500,\n",
      "                   200, 500, 750, 200, 100, 100, 500, 200, 750, 500, 750,\n",
      "                   200, 500, 750, 100, 750, 500, 500, 200, 500, 100, 100,\n",
      "                   750, 100, 500, 100, 200, 750, 200, 200, 750, 500, 750,\n",
      "                   100, 200, 200, 500, 500, 200, 500, 750, 500, 750, 100,\n",
      "                   500, 200, 200, 200, 100, 100, 500, 750, 200, 100, 100,\n",
      "                   100, 200, 500, 100, 500, 200, 100, 100, 500, 500, 200,\n",
      "                   100, 500, 100, 500, 200, 200, 200, 750, 500, 500, 500,\n",
      "                   100, 200, 750, 500, 750, 200, 100, 750, 100, 500, 750,\n",
      "                   500, 200, 500, 100, 750, 200, 200, 500, 750, 750, 100,\n",
      "                   750, 200, 750, 500, 750, 100, 500, 500, 500, 200, 200,\n",
      "                   500, 500, 100, 750, 500, 100, 200, 750, 500, 100, 100,\n",
      "                   750, 750, 500, 200, 100, 500, 100, 100, 750, 500, 750,\n",
      "                   200, 100, 100, 500, 200, 500, 100, 200, 750, 100, 100,\n",
      "                   500, 500, 750, 100, 500, 500, 100, 500, 100, 100, 100,\n",
      "                   500, 500, 200, 500, 500, 500, 100, 100, 750, 200, 500,\n",
      "                   500, 200, 100, 200, 200, 500, 200, 500, 500, 200, 100,\n",
      "                   200, 100, 100, 200, 500, 100, 200, 100, 750, 100, 200,\n",
      "                   750, 750, 100, 750, 200, 100, 750, 750, 100, 500, 200,\n",
      "                   500, 200, 500, 750, 500, 500, 500, 750, 750, 500, 100,\n",
      "                   100, 750, 500, 750, 750, 500, 200, 750, 200, 200, 750,\n",
      "                   750, 200, 500, 100, 200, 200, 100, 750, 500, 500, 200,\n",
      "                   200, 500, 750, 100, 750, 200, 100, 200, 750, 200, 750,\n",
      "                   100, 100, 100, 500, 500, 750, 100, 100, 200, 500, 500,\n",
      "                   200, 100, 200, 200, 500, 750, 100, 200, 500, 200, 500,\n",
      "                   750, 500, 500, 750, 200, 200, 750, 100, 500, 200, 500,\n",
      "                   100, 200, 100, 200, 500, 750, 750, 500, 750, 100, 500,\n",
      "                   200, 200, 200, 100, 200, 200, 500, 200, 750, 500, 750,\n",
      "                   500, 100, 500, 500, 750, 200, 200, 750, 500, 100, 500,\n",
      "                   200, 750, 750, 200, 200, 200, 200, 500, 500, 500, 100,\n",
      "                   500, 500, 750, 500, 750, 200, 500, 500, 100, 750, 200,\n",
      "                   750, 200, 200, 100, 100, 100, 200, 500, 750, 500, 500,\n",
      "                   750, 200, 500, 500, 500, 200, 500, 500, 750, 750, 500,\n",
      "                   750, 500, 500, 500, 200, 750, 750, 100, 750, 200, 750,\n",
      "                   750, 200, 100, 200, 750, 200, 200, 500, 200, 200, 200,\n",
      "                   750, 200, 750, 750, 100, 500, 750, 750, 500, 500, 200,\n",
      "                   200, 200, 200, 100, 100, 100, 750, 750, 200, 100, 100,\n",
      "                   100, 500, 750, 200, 100, 200, 200, 750, 200, 750, 200,\n",
      "                   750, 750, 200, 200, 200, 750, 100, 200, 200, 500, 100,\n",
      "                   200, 200, 500, 750, 500, 200, 500, 100, 750, 500, 200,\n",
      "                   500, 750, 100, 750, 100, 750, 500, 500, 200, 750, 750,\n",
      "                   100, 100, 100, 750, 750, 100, 200, 750, 100, 200, 500,\n",
      "                   200, 500, 200, 500, 750, 500, 200, 750, 750, 500, 750,\n",
      "                   500, 750, 500, 500, 100, 100, 100, 500, 500, 100, 750,\n",
      "                   500, 500, 100, 750, 100, 200, 200, 200, 750, 100, 100,\n",
      "                   750, 750, 200, 100, 500, 100, 100, 500, 200, 500, 500,\n",
      "                   100, 500, 100, 750, 100, 100, 200, 200, 500, 200, 750,\n",
      "                   200, 200, 500, 500, 100, 200, 500, 750, 500, 100, 200,\n",
      "                   750, 750, 750, 200, 100, 500, 500, 200, 100, 750, 750,\n",
      "                   200, 100, 200, 200, 750, 500, 750, 100, 100, 500, 500,\n",
      "                   500, 500, 100, 500, 100, 100, 200, 500, 100, 100, 750,\n",
      "                   100, 750, 200, 500, 200, 100, 100, 500, 750, 750, 500,\n",
      "                   100, 500, 500, 750, 100, 200, 500, 500, 200, 500, 750,\n",
      "                   500, 100, 500, 750, 100, 200, 200, 200, 750, 750, 500,\n",
      "                   750, 100, 100, 500, 200, 750, 750, 750, 200, 100, 750,\n",
      "                   750, 200, 750, 500, 200, 100, 750, 200, 100, 750, 100,\n",
      "                   200, 750, 100, 750, 200, 750, 200, 200, 750, 750, 500,\n",
      "                   750, 750, 500, 200, 500, 500, 200, 200, 750, 100, 500,\n",
      "                   500, 500, 750, 200, 100, 500, 200, 750, 750, 750, 750,\n",
      "                   200, 500, 750, 100, 750, 500, 500, 750, 200, 750, 500,\n",
      "                   750, 750, 750, 200, 200, 750, 200, 500, 500, 100, 750,\n",
      "                   500, 500, 500, 200, 500, 750, 750, 500, 500, 500, 200,\n",
      "                   100, 200, 750, 750, 750, 750, 200, 100, 100, 100, 500,\n",
      "                   100, 750, 750, 100, 100, 100, 100, 750, 750, 100, 200,\n",
      "                   750, 200, 100, 200, 500, 100, 200, 500, 100, 100, 750,\n",
      "                   750, 100, 500, 100, 750, 200, 500, 200, 750, 200, 750,\n",
      "                   200, 100, 200, 750, 500, 100, 200, 200, 500, 100, 500,\n",
      "                   100, 750, 200, 500, 100, 750, 200, 750, 500, 100, 200,\n",
      "                   200, 500, 100, 100, 750, 200, 500, 100, 200, 200, 750,\n",
      "                   500, 200, 200, 750, 100, 500, 200, 200, 750, 200, 750,\n",
      "                   500, 500, 100, 200, 100, 750, 100, 750, 750, 200, 100,\n",
      "                   100, 200, 500, 750, 750, 100, 100, 500],\n",
      "             mask=[False, False, False, False, False, False, False, False,\n",
      "                   False, False, False, False, False, False, False, False,\n",
      "                   False, False, False, False, False, False, False, False,\n",
      "                   False, False, False, False, False, False, False, False,\n",
      "                   False, False, False, False, False, False, False, False,\n",
      "                   False, False, False, False, False, False, False, False,\n",
      "                   False, False, False, False, False, False, False, False,\n",
      "                   False, False, False, False, False, False, False, False,\n",
      "                   False, False, False, False, False, False, False, False,\n",
      "                   False, False, False, False, False, False, False, False,\n",
      "                   False, False, False, False, False, False, False, False,\n",
      "                   False, False, False, False, False, False, False, False,\n",
      "                   False, False, False, False, False, False, False, False,\n",
      "                   False, False, False, False, False, False, False, False,\n",
      "                   False, False, False, False, False, False, False, False,\n",
      "                   False, False, False, False, False, False, False, False,\n",
      "                   False, False, False, False, False, False, False, False,\n",
      "                   False, False, False, False, False, False, False, False,\n",
      "                   False, False, False, False, False, False, False, False,\n",
      "                   False, False, False, False, False, False, False, False,\n",
      "                   False, False, False, False, False, False, False, False,\n",
      "                   False, False, False, False, False, False, False, False,\n",
      "                   False, False, False, False, False, False, False, False,\n",
      "                   False, False, False, False, False, False, False, False,\n",
      "                   False, False, False, False, False, False, False, False,\n",
      "                   False, False, False, False, False, False, False, False,\n",
      "                   False, False, False, False, False, False, False, False,\n",
      "                   False, False, False, False, False, False, False, False,\n",
      "                   False, False, False, False, False, False, False, False,\n",
      "                   False, False, False, False, False, False, False, False,\n",
      "                   False, False, False, False, False, False, False, False,\n",
      "                   False, False, False, False, False, False, False, False,\n",
      "                   False, False, False, False, False, False, False, False,\n",
      "                   False, False, False, False, False, False, False, False,\n",
      "                   False, False, False, False, False, False, False, False,\n",
      "                   False, False, False, False, False, False, False, False,\n",
      "                   False, False, False, False, False, False, False, False,\n",
      "                   False, False, False, False, False, False, False, False,\n",
      "                   False, False, False, False, False, False, False, False,\n",
      "                   False, False, False, False, False, False, False, False,\n",
      "                   False, False, False, False, False, False, False, False,\n",
      "                   False, False, False, False, False, False, False, False,\n",
      "                   False, False, False, False, False, False, False, False,\n",
      "                   False, False, False, False, False, False, False, False,\n",
      "                   False, False, False, False, False, False, False, False,\n",
      "                   False, False, False, False, False, False, False, False,\n",
      "                   False, False, False, False, False, False, False, False,\n",
      "                   False, False, False, False, False, False, False, False,\n",
      "                   False, False, False, False, False, False, False, False,\n",
      "                   False, False, False, False, False, False, False, False,\n",
      "                   False, False, False, False, False, False, False, False,\n",
      "                   False, False, False, False, False, False, False, False,\n",
      "                   False, False, False, False, False, False, False, False,\n",
      "                   False, False, False, False, False, False, False, False,\n",
      "                   False, False, False, False, False, False, False, False,\n",
      "                   False, False, False, False, False, False, False, False,\n",
      "                   False, False, False, False, False, False, False, False,\n",
      "                   False, False, False, False, False, False, False, False,\n",
      "                   False, False, False, False, False, False, False, False,\n",
      "                   False, False, False, False, False, False, False, False,\n",
      "                   False, False, False, False, False, False, False, False,\n",
      "                   False, False, False, False, False, False, False, False,\n",
      "                   False, False, False, False, False, False, False, False,\n",
      "                   False, False, False, False, False, False, False, False,\n",
      "                   False, False, False, False, False, False, False, False,\n",
      "                   False, False, False, False, False, False, False, False,\n",
      "                   False, False, False, False, False, False, False, False,\n",
      "                   False, False, False, False, False, False, False, False,\n",
      "                   False, False, False, False, False, False, False, False,\n",
      "                   False, False, False, False, False, False, False, False,\n",
      "                   False, False, False, False, False, False, False, False,\n",
      "                   False, False, False, False, False, False, False, False,\n",
      "                   False, False, False, False, False, False, False, False,\n",
      "                   False, False, False, False, False, False, False, False,\n",
      "                   False, False, False, False, False, False, False, False,\n",
      "                   False, False, False, False, False, False, False, False,\n",
      "                   False, False, False, False, False, False, False, False,\n",
      "                   False, False, False, False, False, False, False, False,\n",
      "                   False, False, False, False, False, False, False, False,\n",
      "                   False, False, False, False, False, False, False, False,\n",
      "                   False, False, False, False, False, False, False, False,\n",
      "                   False, False, False, False, False, False, False, False,\n",
      "                   False, False, False, False, False, False, False, False,\n",
      "                   False, False, False, False, False, False, False, False,\n",
      "                   False, False, False, False, False, False, False, False,\n",
      "                   False, False, False, False, False, False, False, False,\n",
      "                   False, False, False, False, False, False, False, False,\n",
      "                   False, False, False, False, False, False, False, False,\n",
      "                   False, False, False, False, False, False, False, False,\n",
      "                   False, False, False, False, False, False, False, False,\n",
      "                   False, False, False, False, False, False, False, False,\n",
      "                   False, False, False, False, False, False, False, False,\n",
      "                   False, False, False, False, False, False, False, False,\n",
      "                   False, False, False, False, False, False, False, False,\n",
      "                   False, False, False, False, False, False, False, False,\n",
      "                   False, False, False, False, False, False, False, False,\n",
      "                   False, False, False, False, False, False, False, False,\n",
      "                   False, False, False, False, False, False, False, False,\n",
      "                   False, False, False, False, False, False, False, False,\n",
      "                   False, False, False, False, False, False, False, False],\n",
      "       fill_value='?',\n",
      "            dtype=object), 'param_min_child_weight': masked_array(data=[7, 1, 10, 7, 5, 1, 10, 7, 7, 10, 1, 10, 1, 1, 7, 1, 10,\n",
      "                   10, 7, 10, 5, 5, 10, 10, 1, 5, 5, 7, 7, 7, 1, 7, 10, 1,\n",
      "                   5, 5, 10, 5, 5, 10, 10, 1, 5, 5, 5, 7, 10, 7, 5, 10,\n",
      "                   10, 10, 7, 7, 1, 5, 7, 5, 7, 1, 10, 7, 5, 5, 1, 7, 5,\n",
      "                   7, 1, 7, 5, 10, 7, 10, 10, 5, 7, 5, 7, 5, 5, 5, 1, 7,\n",
      "                   5, 1, 10, 7, 7, 10, 5, 10, 7, 5, 7, 10, 10, 5, 7, 7, 7,\n",
      "                   5, 10, 10, 5, 7, 5, 10, 7, 10, 10, 7, 5, 10, 10, 1, 7,\n",
      "                   10, 7, 10, 7, 5, 1, 1, 5, 1, 10, 5, 7, 1, 10, 1, 1, 5,\n",
      "                   10, 5, 10, 7, 10, 1, 5, 5, 5, 7, 1, 5, 5, 1, 5, 7, 5,\n",
      "                   7, 10, 10, 1, 5, 7, 5, 1, 7, 5, 1, 1, 5, 1, 1, 5, 1, 5,\n",
      "                   1, 10, 5, 7, 7, 10, 10, 10, 1, 10, 1, 10, 5, 1, 10, 1,\n",
      "                   1, 7, 1, 5, 7, 1, 7, 10, 10, 10, 7, 5, 5, 7, 1, 10, 5,\n",
      "                   5, 7, 1, 5, 7, 1, 5, 7, 1, 1, 1, 1, 10, 10, 7, 5, 10,\n",
      "                   10, 10, 5, 1, 1, 1, 7, 5, 1, 10, 7, 5, 5, 10, 1, 7, 10,\n",
      "                   5, 10, 1, 10, 1, 10, 1, 10, 1, 10, 7, 5, 7, 10, 1, 5,\n",
      "                   7, 7, 7, 10, 7, 5, 7, 5, 10, 5, 10, 10, 10, 5, 5, 10,\n",
      "                   7, 7, 5, 10, 1, 7, 7, 7, 10, 10, 7, 1, 10, 10, 10, 10,\n",
      "                   1, 7, 1, 10, 1, 5, 10, 5, 1, 7, 1, 10, 7, 7, 1, 5, 10,\n",
      "                   1, 1, 10, 1, 7, 7, 7, 5, 5, 7, 7, 10, 5, 10, 1, 1, 5,\n",
      "                   10, 5, 7, 5, 10, 7, 1, 5, 10, 1, 1, 10, 1, 5, 10, 1,\n",
      "                   10, 1, 5, 5, 1, 1, 5, 10, 1, 1, 7, 5, 5, 1, 7, 7, 10,\n",
      "                   1, 1, 5, 10, 1, 5, 10, 7, 5, 5, 10, 7, 5, 10, 5, 1, 7,\n",
      "                   5, 10, 10, 7, 1, 1, 1, 7, 7, 5, 7, 7, 10, 7, 1, 10, 5,\n",
      "                   5, 7, 7, 10, 10, 10, 7, 7, 1, 5, 10, 10, 5, 10, 1, 5,\n",
      "                   7, 10, 7, 7, 7, 10, 10, 5, 5, 5, 5, 5, 5, 7, 1, 1, 7,\n",
      "                   5, 1, 7, 10, 10, 5, 5, 10, 7, 1, 7, 1, 10, 7, 7, 7, 5,\n",
      "                   7, 5, 1, 5, 7, 10, 5, 5, 5, 10, 10, 10, 5, 1, 1, 5, 10,\n",
      "                   10, 7, 1, 1, 1, 5, 1, 1, 10, 5, 10, 5, 7, 1, 1, 1, 7,\n",
      "                   10, 7, 5, 1, 10, 5, 1, 5, 7, 7, 1, 5, 1, 5, 10, 10, 10,\n",
      "                   5, 1, 1, 5, 7, 10, 10, 10, 7, 5, 7, 5, 5, 7, 5, 5, 7,\n",
      "                   7, 7, 10, 7, 10, 5, 1, 1, 10, 1, 5, 10, 7, 1, 1, 1, 1,\n",
      "                   10, 5, 10, 10, 1, 10, 7, 1, 10, 7, 1, 1, 10, 10, 7, 10,\n",
      "                   1, 5, 10, 1, 10, 10, 5, 1, 7, 5, 5, 10, 7, 5, 7, 10, 1,\n",
      "                   7, 10, 5, 5, 5, 10, 10, 1, 5, 10, 7, 7, 5, 7, 1, 10, 5,\n",
      "                   1, 10, 10, 7, 1, 7, 10, 5, 1, 1, 10, 10, 10, 1, 10, 1,\n",
      "                   10, 7, 5, 10, 5, 5, 7, 5, 1, 10, 10, 5, 10, 1, 1, 7, 1,\n",
      "                   7, 10, 7, 10, 1, 1, 5, 7, 1, 7, 7, 5, 1, 5, 1, 7, 7, 7,\n",
      "                   1, 5, 7, 10, 7, 7, 10, 5, 1, 5, 1, 7, 5, 5, 1, 10, 1,\n",
      "                   10, 5, 5, 1, 1, 5, 10, 1, 5, 5, 7, 7, 10, 7, 1, 5, 1,\n",
      "                   7, 1, 5, 7, 10, 10, 5, 1, 7, 10, 7, 1, 10, 10, 7, 7, 1,\n",
      "                   1, 7, 10, 5, 10, 1, 5, 1, 5, 7, 5, 5, 10, 5, 10, 1, 1,\n",
      "                   7, 10, 1, 1, 1, 10, 7, 7, 10, 5, 7, 7, 5, 10, 5, 10, 1,\n",
      "                   10, 5, 7, 5, 10, 1, 7, 5, 7, 5, 10, 7, 1, 5, 1, 5, 1,\n",
      "                   10, 5, 10, 10, 7, 10, 10, 1, 5, 1, 5, 7, 7, 5, 10, 10,\n",
      "                   7, 10, 1, 7, 10, 7, 1, 10, 5, 7, 5, 5, 10, 1, 5, 10, 1,\n",
      "                   10, 10, 1, 1, 7, 5, 10, 7, 5, 7, 10, 5, 7, 10, 5, 10,\n",
      "                   10, 7, 7, 1, 7, 1, 10, 1, 7, 7, 10, 10, 1, 1, 5, 5, 5,\n",
      "                   5, 1, 5, 5, 10, 1, 1, 5, 7, 1, 5],\n",
      "             mask=[False, False, False, False, False, False, False, False,\n",
      "                   False, False, False, False, False, False, False, False,\n",
      "                   False, False, False, False, False, False, False, False,\n",
      "                   False, False, False, False, False, False, False, False,\n",
      "                   False, False, False, False, False, False, False, False,\n",
      "                   False, False, False, False, False, False, False, False,\n",
      "                   False, False, False, False, False, False, False, False,\n",
      "                   False, False, False, False, False, False, False, False,\n",
      "                   False, False, False, False, False, False, False, False,\n",
      "                   False, False, False, False, False, False, False, False,\n",
      "                   False, False, False, False, False, False, False, False,\n",
      "                   False, False, False, False, False, False, False, False,\n",
      "                   False, False, False, False, False, False, False, False,\n",
      "                   False, False, False, False, False, False, False, False,\n",
      "                   False, False, False, False, False, False, False, False,\n",
      "                   False, False, False, False, False, False, False, False,\n",
      "                   False, False, False, False, False, False, False, False,\n",
      "                   False, False, False, False, False, False, False, False,\n",
      "                   False, False, False, False, False, False, False, False,\n",
      "                   False, False, False, False, False, False, False, False,\n",
      "                   False, False, False, False, False, False, False, False,\n",
      "                   False, False, False, False, False, False, False, False,\n",
      "                   False, False, False, False, False, False, False, False,\n",
      "                   False, False, False, False, False, False, False, False,\n",
      "                   False, False, False, False, False, False, False, False,\n",
      "                   False, False, False, False, False, False, False, False,\n",
      "                   False, False, False, False, False, False, False, False,\n",
      "                   False, False, False, False, False, False, False, False,\n",
      "                   False, False, False, False, False, False, False, False,\n",
      "                   False, False, False, False, False, False, False, False,\n",
      "                   False, False, False, False, False, False, False, False,\n",
      "                   False, False, False, False, False, False, False, False,\n",
      "                   False, False, False, False, False, False, False, False,\n",
      "                   False, False, False, False, False, False, False, False,\n",
      "                   False, False, False, False, False, False, False, False,\n",
      "                   False, False, False, False, False, False, False, False,\n",
      "                   False, False, False, False, False, False, False, False,\n",
      "                   False, False, False, False, False, False, False, False,\n",
      "                   False, False, False, False, False, False, False, False,\n",
      "                   False, False, False, False, False, False, False, False,\n",
      "                   False, False, False, False, False, False, False, False,\n",
      "                   False, False, False, False, False, False, False, False,\n",
      "                   False, False, False, False, False, False, False, False,\n",
      "                   False, False, False, False, False, False, False, False,\n",
      "                   False, False, False, False, False, False, False, False,\n",
      "                   False, False, False, False, False, False, False, False,\n",
      "                   False, False, False, False, False, False, False, False,\n",
      "                   False, False, False, False, False, False, False, False,\n",
      "                   False, False, False, False, False, False, False, False,\n",
      "                   False, False, False, False, False, False, False, False,\n",
      "                   False, False, False, False, False, False, False, False,\n",
      "                   False, False, False, False, False, False, False, False,\n",
      "                   False, False, False, False, False, False, False, False,\n",
      "                   False, False, False, False, False, False, False, False,\n",
      "                   False, False, False, False, False, False, False, False,\n",
      "                   False, False, False, False, False, False, False, False,\n",
      "                   False, False, False, False, False, False, False, False,\n",
      "                   False, False, False, False, False, False, False, False,\n",
      "                   False, False, False, False, False, False, False, False,\n",
      "                   False, False, False, False, False, False, False, False,\n",
      "                   False, False, False, False, False, False, False, False,\n",
      "                   False, False, False, False, False, False, False, False,\n",
      "                   False, False, False, False, False, False, False, False,\n",
      "                   False, False, False, False, False, False, False, False,\n",
      "                   False, False, False, False, False, False, False, False,\n",
      "                   False, False, False, False, False, False, False, False,\n",
      "                   False, False, False, False, False, False, False, False,\n",
      "                   False, False, False, False, False, False, False, False,\n",
      "                   False, False, False, False, False, False, False, False,\n",
      "                   False, False, False, False, False, False, False, False,\n",
      "                   False, False, False, False, False, False, False, False,\n",
      "                   False, False, False, False, False, False, False, False,\n",
      "                   False, False, False, False, False, False, False, False,\n",
      "                   False, False, False, False, False, False, False, False,\n",
      "                   False, False, False, False, False, False, False, False,\n",
      "                   False, False, False, False, False, False, False, False,\n",
      "                   False, False, False, False, False, False, False, False,\n",
      "                   False, False, False, False, False, False, False, False,\n",
      "                   False, False, False, False, False, False, False, False,\n",
      "                   False, False, False, False, False, False, False, False,\n",
      "                   False, False, False, False, False, False, False, False,\n",
      "                   False, False, False, False, False, False, False, False,\n",
      "                   False, False, False, False, False, False, False, False,\n",
      "                   False, False, False, False, False, False, False, False,\n",
      "                   False, False, False, False, False, False, False, False,\n",
      "                   False, False, False, False, False, False, False, False,\n",
      "                   False, False, False, False, False, False, False, False,\n",
      "                   False, False, False, False, False, False, False, False,\n",
      "                   False, False, False, False, False, False, False, False,\n",
      "                   False, False, False, False, False, False, False, False,\n",
      "                   False, False, False, False, False, False, False, False,\n",
      "                   False, False, False, False, False, False, False, False,\n",
      "                   False, False, False, False, False, False, False, False,\n",
      "                   False, False, False, False, False, False, False, False,\n",
      "                   False, False, False, False, False, False, False, False,\n",
      "                   False, False, False, False, False, False, False, False,\n",
      "                   False, False, False, False, False, False, False, False,\n",
      "                   False, False, False, False, False, False, False, False,\n",
      "                   False, False, False, False, False, False, False, False,\n",
      "                   False, False, False, False, False, False, False, False],\n",
      "       fill_value='?',\n",
      "            dtype=object), 'param_max_depth': masked_array(data=[10, 4, 4, 10, 3, 3, 5, 4, 12, 4, 5, 3, 10, 5, 12, 5, 5,\n",
      "                   5, 10, 12, 5, 12, 4, 12, 5, 3, 4, 10, 10, 12, 4, 10, 3,\n",
      "                   5, 4, 5, 4, 12, 10, 12, 3, 3, 5, 5, 4, 10, 4, 4, 10,\n",
      "                   10, 3, 10, 12, 10, 3, 3, 3, 3, 5, 5, 10, 3, 3, 12, 3,\n",
      "                   5, 4, 5, 3, 10, 10, 12, 12, 10, 10, 12, 10, 12, 4, 4,\n",
      "                   3, 12, 10, 4, 3, 12, 5, 3, 3, 12, 4, 5, 10, 4, 4, 3, 5,\n",
      "                   10, 5, 10, 3, 4, 10, 12, 12, 3, 10, 5, 5, 3, 10, 5, 12,\n",
      "                   10, 4, 10, 12, 10, 10, 3, 10, 12, 10, 3, 4, 10, 4, 3,\n",
      "                   4, 12, 4, 12, 12, 3, 10, 5, 10, 4, 4, 4, 5, 10, 3, 3,\n",
      "                   3, 12, 3, 4, 3, 12, 4, 5, 12, 4, 3, 4, 5, 5, 3, 10, 12,\n",
      "                   3, 12, 3, 4, 12, 12, 10, 5, 5, 10, 12, 3, 10, 10, 12,\n",
      "                   3, 4, 10, 5, 5, 5, 3, 3, 10, 5, 3, 12, 4, 4, 3, 4, 5,\n",
      "                   10, 12, 5, 4, 5, 10, 3, 5, 5, 12, 5, 3, 10, 10, 10, 5,\n",
      "                   5, 10, 10, 12, 4, 4, 10, 4, 4, 3, 4, 12, 12, 4, 3, 10,\n",
      "                   12, 12, 3, 4, 10, 3, 3, 12, 10, 3, 4, 10, 4, 3, 4, 3,\n",
      "                   5, 3, 4, 4, 12, 4, 4, 12, 5, 5, 4, 5, 3, 3, 12, 5, 10,\n",
      "                   5, 12, 10, 5, 5, 3, 4, 5, 12, 10, 10, 10, 10, 4, 3, 4,\n",
      "                   4, 5, 3, 10, 4, 4, 10, 4, 3, 3, 10, 3, 4, 3, 3, 10, 12,\n",
      "                   3, 4, 12, 4, 10, 12, 12, 3, 3, 4, 12, 10, 10, 4, 5, 3,\n",
      "                   10, 5, 5, 4, 4, 4, 10, 3, 3, 3, 12, 12, 3, 10, 3, 10,\n",
      "                   12, 12, 3, 10, 5, 12, 3, 12, 4, 12, 4, 10, 5, 10, 5, 3,\n",
      "                   3, 10, 12, 5, 3, 12, 5, 10, 4, 12, 3, 3, 3, 10, 5, 10,\n",
      "                   4, 12, 5, 10, 12, 3, 10, 12, 10, 4, 12, 3, 12, 4, 3,\n",
      "                   12, 3, 12, 12, 3, 5, 10, 3, 4, 5, 12, 5, 10, 4, 4, 3,\n",
      "                   12, 10, 5, 4, 10, 3, 5, 4, 12, 4, 10, 12, 4, 4, 3, 3,\n",
      "                   12, 4, 4, 3, 5, 10, 12, 3, 3, 3, 4, 5, 5, 5, 3, 3, 5,\n",
      "                   3, 10, 12, 5, 10, 4, 10, 4, 10, 4, 4, 12, 12, 5, 5, 12,\n",
      "                   5, 3, 5, 5, 3, 10, 10, 12, 3, 5, 12, 3, 4, 4, 12, 3, 3,\n",
      "                   5, 5, 10, 5, 5, 5, 3, 4, 12, 5, 3, 5, 5, 10, 3, 3, 10,\n",
      "                   3, 4, 5, 5, 5, 4, 10, 10, 10, 4, 5, 4, 4, 10, 5, 3, 4,\n",
      "                   12, 3, 10, 12, 3, 12, 10, 5, 10, 3, 10, 3, 4, 10, 12,\n",
      "                   12, 4, 5, 5, 5, 5, 10, 3, 12, 10, 4, 5, 12, 5, 5, 5,\n",
      "                   10, 4, 4, 5, 4, 12, 10, 4, 3, 3, 12, 3, 10, 5, 10, 5,\n",
      "                   4, 5, 10, 3, 3, 10, 12, 10, 4, 12, 4, 10, 12, 4, 10, 4,\n",
      "                   12, 12, 3, 10, 4, 3, 12, 10, 3, 10, 12, 5, 5, 3, 10, 3,\n",
      "                   4, 4, 5, 5, 12, 4, 12, 10, 5, 10, 3, 12, 10, 4, 3, 5,\n",
      "                   4, 3, 12, 10, 3, 4, 3, 12, 10, 10, 10, 12, 12, 5, 5,\n",
      "                   12, 12, 12, 4, 5, 10, 5, 3, 12, 10, 4, 3, 4, 12, 5, 4,\n",
      "                   4, 10, 5, 4, 4, 10, 10, 5, 4, 10, 5, 12, 5, 10, 5, 12,\n",
      "                   3, 4, 12, 10, 5, 5, 3, 10, 10, 10, 10, 10, 3, 10, 4, 4,\n",
      "                   4, 12, 5, 5, 5, 3, 10, 12, 5, 5, 4, 3, 4, 5, 12, 12, 4,\n",
      "                   12, 12, 4, 4, 5, 3, 10, 5, 10, 10, 3, 4, 5, 10, 4, 3,\n",
      "                   4, 10, 3, 5, 10, 3, 4, 5, 4, 10, 3, 3, 12, 3, 4, 12, 3,\n",
      "                   3, 4, 4, 3, 4, 3, 5, 3, 5, 5, 10, 12, 10, 12, 3, 5, 5,\n",
      "                   3, 5, 4, 3, 10, 10, 4, 3, 5, 10, 3, 10, 3, 4, 12, 12,\n",
      "                   5, 4, 5, 12, 10, 10, 12, 5, 4, 4, 4, 12, 12, 12, 4, 4,\n",
      "                   4, 10, 3, 4, 4, 3, 12, 3, 12, 12, 10, 4, 3, 5, 3, 10,\n",
      "                   12, 10, 4, 10, 4, 3, 10, 4, 5, 3, 10, 4, 3, 5, 12, 12,\n",
      "                   4, 12, 12, 10, 12, 5, 5, 4, 10, 5, 3, 4, 4, 12, 4, 10,\n",
      "                   12, 10, 4, 4, 4, 5, 5, 3, 3],\n",
      "             mask=[False, False, False, False, False, False, False, False,\n",
      "                   False, False, False, False, False, False, False, False,\n",
      "                   False, False, False, False, False, False, False, False,\n",
      "                   False, False, False, False, False, False, False, False,\n",
      "                   False, False, False, False, False, False, False, False,\n",
      "                   False, False, False, False, False, False, False, False,\n",
      "                   False, False, False, False, False, False, False, False,\n",
      "                   False, False, False, False, False, False, False, False,\n",
      "                   False, False, False, False, False, False, False, False,\n",
      "                   False, False, False, False, False, False, False, False,\n",
      "                   False, False, False, False, False, False, False, False,\n",
      "                   False, False, False, False, False, False, False, False,\n",
      "                   False, False, False, False, False, False, False, False,\n",
      "                   False, False, False, False, False, False, False, False,\n",
      "                   False, False, False, False, False, False, False, False,\n",
      "                   False, False, False, False, False, False, False, False,\n",
      "                   False, False, False, False, False, False, False, False,\n",
      "                   False, False, False, False, False, False, False, False,\n",
      "                   False, False, False, False, False, False, False, False,\n",
      "                   False, False, False, False, False, False, False, False,\n",
      "                   False, False, False, False, False, False, False, False,\n",
      "                   False, False, False, False, False, False, False, False,\n",
      "                   False, False, False, False, False, False, False, False,\n",
      "                   False, False, False, False, False, False, False, False,\n",
      "                   False, False, False, False, False, False, False, False,\n",
      "                   False, False, False, False, False, False, False, False,\n",
      "                   False, False, False, False, False, False, False, False,\n",
      "                   False, False, False, False, False, False, False, False,\n",
      "                   False, False, False, False, False, False, False, False,\n",
      "                   False, False, False, False, False, False, False, False,\n",
      "                   False, False, False, False, False, False, False, False,\n",
      "                   False, False, False, False, False, False, False, False,\n",
      "                   False, False, False, False, False, False, False, False,\n",
      "                   False, False, False, False, False, False, False, False,\n",
      "                   False, False, False, False, False, False, False, False,\n",
      "                   False, False, False, False, False, False, False, False,\n",
      "                   False, False, False, False, False, False, False, False,\n",
      "                   False, False, False, False, False, False, False, False,\n",
      "                   False, False, False, False, False, False, False, False,\n",
      "                   False, False, False, False, False, False, False, False,\n",
      "                   False, False, False, False, False, False, False, False,\n",
      "                   False, False, False, False, False, False, False, False,\n",
      "                   False, False, False, False, False, False, False, False,\n",
      "                   False, False, False, False, False, False, False, False,\n",
      "                   False, False, False, False, False, False, False, False,\n",
      "                   False, False, False, False, False, False, False, False,\n",
      "                   False, False, False, False, False, False, False, False,\n",
      "                   False, False, False, False, False, False, False, False,\n",
      "                   False, False, False, False, False, False, False, False,\n",
      "                   False, False, False, False, False, False, False, False,\n",
      "                   False, False, False, False, False, False, False, False,\n",
      "                   False, False, False, False, False, False, False, False,\n",
      "                   False, False, False, False, False, False, False, False,\n",
      "                   False, False, False, False, False, False, False, False,\n",
      "                   False, False, False, False, False, False, False, False,\n",
      "                   False, False, False, False, False, False, False, False,\n",
      "                   False, False, False, False, False, False, False, False,\n",
      "                   False, False, False, False, False, False, False, False,\n",
      "                   False, False, False, False, False, False, False, False,\n",
      "                   False, False, False, False, False, False, False, False,\n",
      "                   False, False, False, False, False, False, False, False,\n",
      "                   False, False, False, False, False, False, False, False,\n",
      "                   False, False, False, False, False, False, False, False,\n",
      "                   False, False, False, False, False, False, False, False,\n",
      "                   False, False, False, False, False, False, False, False,\n",
      "                   False, False, False, False, False, False, False, False,\n",
      "                   False, False, False, False, False, False, False, False,\n",
      "                   False, False, False, False, False, False, False, False,\n",
      "                   False, False, False, False, False, False, False, False,\n",
      "                   False, False, False, False, False, False, False, False,\n",
      "                   False, False, False, False, False, False, False, False,\n",
      "                   False, False, False, False, False, False, False, False,\n",
      "                   False, False, False, False, False, False, False, False,\n",
      "                   False, False, False, False, False, False, False, False,\n",
      "                   False, False, False, False, False, False, False, False,\n",
      "                   False, False, False, False, False, False, False, False,\n",
      "                   False, False, False, False, False, False, False, False,\n",
      "                   False, False, False, False, False, False, False, False,\n",
      "                   False, False, False, False, False, False, False, False,\n",
      "                   False, False, False, False, False, False, False, False,\n",
      "                   False, False, False, False, False, False, False, False,\n",
      "                   False, False, False, False, False, False, False, False,\n",
      "                   False, False, False, False, False, False, False, False,\n",
      "                   False, False, False, False, False, False, False, False,\n",
      "                   False, False, False, False, False, False, False, False,\n",
      "                   False, False, False, False, False, False, False, False,\n",
      "                   False, False, False, False, False, False, False, False,\n",
      "                   False, False, False, False, False, False, False, False,\n",
      "                   False, False, False, False, False, False, False, False,\n",
      "                   False, False, False, False, False, False, False, False,\n",
      "                   False, False, False, False, False, False, False, False,\n",
      "                   False, False, False, False, False, False, False, False,\n",
      "                   False, False, False, False, False, False, False, False,\n",
      "                   False, False, False, False, False, False, False, False,\n",
      "                   False, False, False, False, False, False, False, False,\n",
      "                   False, False, False, False, False, False, False, False,\n",
      "                   False, False, False, False, False, False, False, False,\n",
      "                   False, False, False, False, False, False, False, False,\n",
      "                   False, False, False, False, False, False, False, False,\n",
      "                   False, False, False, False, False, False, False, False],\n",
      "       fill_value='?',\n",
      "            dtype=object), 'param_learning_rate': masked_array(data=[0.01, 0.02, 0.1, 0.05, 0.1, 0.25, 0.1, 0.01, 0.05, 0.1,\n",
      "                   0.02, 0.25, 0.1, 0.02, 0.01, 0.1, 0.02, 0.25, 0.01,\n",
      "                   0.05, 0.02, 0.02, 0.01, 0.05, 0.25, 0.1, 0.01, 0.25,\n",
      "                   0.01, 0.02, 0.1, 0.25, 0.05, 0.1, 0.1, 0.01, 0.1, 0.02,\n",
      "                   0.1, 0.01, 0.05, 0.01, 0.01, 0.05, 0.05, 0.01, 0.1,\n",
      "                   0.02, 0.05, 0.01, 0.25, 0.02, 0.05, 0.1, 0.01, 0.1,\n",
      "                   0.05, 0.05, 0.25, 0.01, 0.05, 0.05, 0.02, 0.01, 0.02,\n",
      "                   0.05, 0.02, 0.05, 0.1, 0.25, 0.25, 0.1, 0.05, 0.01,\n",
      "                   0.01, 0.1, 0.01, 0.01, 0.02, 0.05, 0.05, 0.1, 0.02,\n",
      "                   0.25, 0.1, 0.05, 0.25, 0.05, 0.01, 0.02, 0.1, 0.02,\n",
      "                   0.01, 0.01, 0.25, 0.25, 0.25, 0.1, 0.1, 0.02, 0.1, 0.1,\n",
      "                   0.1, 0.25, 0.01, 0.1, 0.02, 0.25, 0.25, 0.02, 0.1,\n",
      "                   0.01, 0.02, 0.25, 0.25, 0.1, 0.1, 0.05, 0.1, 0.01,\n",
      "                   0.25, 0.25, 0.25, 0.02, 0.02, 0.05, 0.01, 0.05, 0.1,\n",
      "                   0.01, 0.01, 0.02, 0.01, 0.1, 0.25, 0.01, 0.25, 0.25,\n",
      "                   0.25, 0.05, 0.25, 0.01, 0.01, 0.05, 0.01, 0.25, 0.1,\n",
      "                   0.25, 0.05, 0.1, 0.01, 0.05, 0.01, 0.05, 0.01, 0.01,\n",
      "                   0.25, 0.25, 0.1, 0.02, 0.1, 0.05, 0.25, 0.25, 0.02,\n",
      "                   0.1, 0.1, 0.01, 0.1, 0.25, 0.1, 0.25, 0.25, 0.05, 0.02,\n",
      "                   0.05, 0.02, 0.01, 0.25, 0.01, 0.05, 0.1, 0.1, 0.02,\n",
      "                   0.01, 0.01, 0.1, 0.05, 0.02, 0.25, 0.02, 0.02, 0.25,\n",
      "                   0.05, 0.05, 0.1, 0.02, 0.1, 0.1, 0.02, 0.01, 0.25,\n",
      "                   0.05, 0.1, 0.25, 0.02, 0.05, 0.01, 0.05, 0.1, 0.02,\n",
      "                   0.1, 0.25, 0.1, 0.25, 0.25, 0.02, 0.05, 0.05, 0.01,\n",
      "                   0.01, 0.1, 0.05, 0.01, 0.25, 0.02, 0.01, 0.01, 0.02,\n",
      "                   0.05, 0.05, 0.1, 0.1, 0.25, 0.02, 0.1, 0.02, 0.05, 0.1,\n",
      "                   0.1, 0.25, 0.01, 0.05, 0.25, 0.01, 0.05, 0.1, 0.01,\n",
      "                   0.05, 0.02, 0.05, 0.25, 0.05, 0.01, 0.25, 0.05, 0.25,\n",
      "                   0.05, 0.01, 0.01, 0.05, 0.02, 0.1, 0.25, 0.02, 0.25,\n",
      "                   0.25, 0.02, 0.05, 0.05, 0.05, 0.01, 0.01, 0.25, 0.1,\n",
      "                   0.25, 0.05, 0.01, 0.02, 0.05, 0.05, 0.05, 0.25, 0.1,\n",
      "                   0.1, 0.1, 0.01, 0.05, 0.1, 0.05, 0.1, 0.25, 0.01, 0.1,\n",
      "                   0.25, 0.05, 0.01, 0.1, 0.25, 0.25, 0.25, 0.01, 0.01,\n",
      "                   0.25, 0.05, 0.02, 0.01, 0.1, 0.25, 0.05, 0.1, 0.05,\n",
      "                   0.05, 0.02, 0.1, 0.25, 0.25, 0.25, 0.01, 0.1, 0.01,\n",
      "                   0.25, 0.02, 0.05, 0.01, 0.02, 0.05, 0.05, 0.05, 0.25,\n",
      "                   0.01, 0.1, 0.02, 0.02, 0.02, 0.1, 0.1, 0.05, 0.1, 0.1,\n",
      "                   0.02, 0.02, 0.01, 0.02, 0.1, 0.02, 0.1, 0.25, 0.02,\n",
      "                   0.25, 0.02, 0.1, 0.05, 0.01, 0.25, 0.05, 0.05, 0.05,\n",
      "                   0.02, 0.1, 0.01, 0.25, 0.02, 0.02, 0.02, 0.25, 0.02,\n",
      "                   0.02, 0.01, 0.25, 0.25, 0.01, 0.25, 0.1, 0.1, 0.01,\n",
      "                   0.01, 0.01, 0.1, 0.05, 0.1, 0.02, 0.01, 0.02, 0.1,\n",
      "                   0.02, 0.01, 0.01, 0.02, 0.01, 0.25, 0.05, 0.25, 0.05,\n",
      "                   0.1, 0.01, 0.02, 0.1, 0.01, 0.25, 0.1, 0.05, 0.01,\n",
      "                   0.05, 0.1, 0.01, 0.1, 0.02, 0.1, 0.01, 0.05, 0.02,\n",
      "                   0.25, 0.05, 0.25, 0.1, 0.05, 0.1, 0.05, 0.01, 0.01,\n",
      "                   0.01, 0.1, 0.1, 0.25, 0.01, 0.1, 0.01, 0.25, 0.01,\n",
      "                   0.01, 0.01, 0.01, 0.25, 0.02, 0.25, 0.25, 0.05, 0.02,\n",
      "                   0.25, 0.02, 0.25, 0.05, 0.25, 0.05, 0.1, 0.1, 0.25,\n",
      "                   0.01, 0.25, 0.05, 0.05, 0.1, 0.1, 0.01, 0.1, 0.01,\n",
      "                   0.01, 0.25, 0.02, 0.25, 0.1, 0.05, 0.01, 0.1, 0.05,\n",
      "                   0.25, 0.02, 0.02, 0.05, 0.01, 0.05, 0.1, 0.02, 0.01,\n",
      "                   0.25, 0.25, 0.05, 0.02, 0.01, 0.25, 0.25, 0.25, 0.25,\n",
      "                   0.01, 0.1, 0.02, 0.1, 0.01, 0.1, 0.25, 0.02, 0.05,\n",
      "                   0.05, 0.02, 0.1, 0.1, 0.05, 0.02, 0.01, 0.05, 0.05,\n",
      "                   0.1, 0.02, 0.05, 0.02, 0.05, 0.25, 0.25, 0.05, 0.05,\n",
      "                   0.01, 0.01, 0.05, 0.01, 0.1, 0.25, 0.05, 0.02, 0.02,\n",
      "                   0.05, 0.01, 0.25, 0.01, 0.25, 0.05, 0.05, 0.1, 0.02,\n",
      "                   0.25, 0.01, 0.1, 0.02, 0.05, 0.02, 0.25, 0.05, 0.1,\n",
      "                   0.25, 0.02, 0.25, 0.01, 0.01, 0.05, 0.25, 0.25, 0.02,\n",
      "                   0.02, 0.25, 0.1, 0.25, 0.25, 0.01, 0.01, 0.1, 0.05,\n",
      "                   0.01, 0.02, 0.25, 0.02, 0.25, 0.1, 0.01, 0.01, 0.05,\n",
      "                   0.05, 0.1, 0.1, 0.05, 0.01, 0.25, 0.01, 0.25, 0.1,\n",
      "                   0.25, 0.05, 0.25, 0.02, 0.01, 0.05, 0.01, 0.05, 0.25,\n",
      "                   0.25, 0.02, 0.1, 0.01, 0.1, 0.1, 0.25, 0.25, 0.25,\n",
      "                   0.01, 0.01, 0.02, 0.1, 0.02, 0.1, 0.01, 0.01, 0.05,\n",
      "                   0.01, 0.25, 0.25, 0.25, 0.05, 0.01, 0.02, 0.1, 0.1,\n",
      "                   0.02, 0.02, 0.01, 0.05, 0.25, 0.05, 0.1, 0.02, 0.01,\n",
      "                   0.01, 0.02, 0.01, 0.1, 0.1, 0.05, 0.25, 0.05, 0.05,\n",
      "                   0.01, 0.25, 0.01, 0.25, 0.05, 0.05, 0.02, 0.25, 0.01,\n",
      "                   0.02, 0.02, 0.25, 0.01, 0.02, 0.1, 0.02, 0.1, 0.05,\n",
      "                   0.02, 0.1, 0.1, 0.1, 0.02, 0.1, 0.1, 0.01, 0.02, 0.05,\n",
      "                   0.02, 0.05, 0.05, 0.01, 0.05, 0.25, 0.25, 0.02, 0.05,\n",
      "                   0.1, 0.02, 0.02, 0.05, 0.1, 0.05, 0.1, 0.02, 0.1, 0.1,\n",
      "                   0.1, 0.25, 0.1, 0.05, 0.1, 0.02, 0.05, 0.1, 0.1, 0.05,\n",
      "                   0.25, 0.01, 0.02, 0.25, 0.05, 0.1, 0.05, 0.25, 0.02,\n",
      "                   0.05, 0.25, 0.25, 0.05, 0.25, 0.05, 0.05, 0.05, 0.02,\n",
      "                   0.05, 0.25, 0.25, 0.01, 0.25, 0.02, 0.02, 0.05, 0.05,\n",
      "                   0.01, 0.02, 0.02, 0.25, 0.02, 0.05, 0.1, 0.01, 0.01,\n",
      "                   0.05, 0.01, 0.05, 0.02, 0.02, 0.01, 0.25, 0.25, 0.1,\n",
      "                   0.25, 0.25, 0.05, 0.1, 0.25, 0.02, 0.25, 0.05, 0.01,\n",
      "                   0.25, 0.1, 0.1, 0.05, 0.25, 0.02, 0.02, 0.25, 0.25,\n",
      "                   0.1, 0.25, 0.02, 0.02, 0.02, 0.01, 0.02, 0.1, 0.05,\n",
      "                   0.01, 0.25, 0.05, 0.02, 0.02, 0.05, 0.05, 0.05, 0.25,\n",
      "                   0.02, 0.05, 0.02, 0.05, 0.01, 0.01, 0.01, 0.01, 0.05,\n",
      "                   0.25, 0.01, 0.25, 0.05, 0.05, 0.1, 0.05, 0.05, 0.25,\n",
      "                   0.01, 0.1, 0.02, 0.05, 0.01, 0.01, 0.05, 0.25, 0.01,\n",
      "                   0.25, 0.02, 0.25, 0.1, 0.1, 0.1, 0.25],\n",
      "             mask=[False, False, False, False, False, False, False, False,\n",
      "                   False, False, False, False, False, False, False, False,\n",
      "                   False, False, False, False, False, False, False, False,\n",
      "                   False, False, False, False, False, False, False, False,\n",
      "                   False, False, False, False, False, False, False, False,\n",
      "                   False, False, False, False, False, False, False, False,\n",
      "                   False, False, False, False, False, False, False, False,\n",
      "                   False, False, False, False, False, False, False, False,\n",
      "                   False, False, False, False, False, False, False, False,\n",
      "                   False, False, False, False, False, False, False, False,\n",
      "                   False, False, False, False, False, False, False, False,\n",
      "                   False, False, False, False, False, False, False, False,\n",
      "                   False, False, False, False, False, False, False, False,\n",
      "                   False, False, False, False, False, False, False, False,\n",
      "                   False, False, False, False, False, False, False, False,\n",
      "                   False, False, False, False, False, False, False, False,\n",
      "                   False, False, False, False, False, False, False, False,\n",
      "                   False, False, False, False, False, False, False, False,\n",
      "                   False, False, False, False, False, False, False, False,\n",
      "                   False, False, False, False, False, False, False, False,\n",
      "                   False, False, False, False, False, False, False, False,\n",
      "                   False, False, False, False, False, False, False, False,\n",
      "                   False, False, False, False, False, False, False, False,\n",
      "                   False, False, False, False, False, False, False, False,\n",
      "                   False, False, False, False, False, False, False, False,\n",
      "                   False, False, False, False, False, False, False, False,\n",
      "                   False, False, False, False, False, False, False, False,\n",
      "                   False, False, False, False, False, False, False, False,\n",
      "                   False, False, False, False, False, False, False, False,\n",
      "                   False, False, False, False, False, False, False, False,\n",
      "                   False, False, False, False, False, False, False, False,\n",
      "                   False, False, False, False, False, False, False, False,\n",
      "                   False, False, False, False, False, False, False, False,\n",
      "                   False, False, False, False, False, False, False, False,\n",
      "                   False, False, False, False, False, False, False, False,\n",
      "                   False, False, False, False, False, False, False, False,\n",
      "                   False, False, False, False, False, False, False, False,\n",
      "                   False, False, False, False, False, False, False, False,\n",
      "                   False, False, False, False, False, False, False, False,\n",
      "                   False, False, False, False, False, False, False, False,\n",
      "                   False, False, False, False, False, False, False, False,\n",
      "                   False, False, False, False, False, False, False, False,\n",
      "                   False, False, False, False, False, False, False, False,\n",
      "                   False, False, False, False, False, False, False, False,\n",
      "                   False, False, False, False, False, False, False, False,\n",
      "                   False, False, False, False, False, False, False, False,\n",
      "                   False, False, False, False, False, False, False, False,\n",
      "                   False, False, False, False, False, False, False, False,\n",
      "                   False, False, False, False, False, False, False, False,\n",
      "                   False, False, False, False, False, False, False, False,\n",
      "                   False, False, False, False, False, False, False, False,\n",
      "                   False, False, False, False, False, False, False, False,\n",
      "                   False, False, False, False, False, False, False, False,\n",
      "                   False, False, False, False, False, False, False, False,\n",
      "                   False, False, False, False, False, False, False, False,\n",
      "                   False, False, False, False, False, False, False, False,\n",
      "                   False, False, False, False, False, False, False, False,\n",
      "                   False, False, False, False, False, False, False, False,\n",
      "                   False, False, False, False, False, False, False, False,\n",
      "                   False, False, False, False, False, False, False, False,\n",
      "                   False, False, False, False, False, False, False, False,\n",
      "                   False, False, False, False, False, False, False, False,\n",
      "                   False, False, False, False, False, False, False, False,\n",
      "                   False, False, False, False, False, False, False, False,\n",
      "                   False, False, False, False, False, False, False, False,\n",
      "                   False, False, False, False, False, False, False, False,\n",
      "                   False, False, False, False, False, False, False, False,\n",
      "                   False, False, False, False, False, False, False, False,\n",
      "                   False, False, False, False, False, False, False, False,\n",
      "                   False, False, False, False, False, False, False, False,\n",
      "                   False, False, False, False, False, False, False, False,\n",
      "                   False, False, False, False, False, False, False, False,\n",
      "                   False, False, False, False, False, False, False, False,\n",
      "                   False, False, False, False, False, False, False, False,\n",
      "                   False, False, False, False, False, False, False, False,\n",
      "                   False, False, False, False, False, False, False, False,\n",
      "                   False, False, False, False, False, False, False, False,\n",
      "                   False, False, False, False, False, False, False, False,\n",
      "                   False, False, False, False, False, False, False, False,\n",
      "                   False, False, False, False, False, False, False, False,\n",
      "                   False, False, False, False, False, False, False, False,\n",
      "                   False, False, False, False, False, False, False, False,\n",
      "                   False, False, False, False, False, False, False, False,\n",
      "                   False, False, False, False, False, False, False, False,\n",
      "                   False, False, False, False, False, False, False, False,\n",
      "                   False, False, False, False, False, False, False, False,\n",
      "                   False, False, False, False, False, False, False, False,\n",
      "                   False, False, False, False, False, False, False, False,\n",
      "                   False, False, False, False, False, False, False, False,\n",
      "                   False, False, False, False, False, False, False, False,\n",
      "                   False, False, False, False, False, False, False, False,\n",
      "                   False, False, False, False, False, False, False, False,\n",
      "                   False, False, False, False, False, False, False, False,\n",
      "                   False, False, False, False, False, False, False, False,\n",
      "                   False, False, False, False, False, False, False, False,\n",
      "                   False, False, False, False, False, False, False, False,\n",
      "                   False, False, False, False, False, False, False, False,\n",
      "                   False, False, False, False, False, False, False, False,\n",
      "                   False, False, False, False, False, False, False, False,\n",
      "                   False, False, False, False, False, False, False, False],\n",
      "       fill_value='?',\n",
      "            dtype=object), 'param_gamma': masked_array(data=[1, 0.5, 1, 5, 0.1, 5, 0.1, 0.5, 5, 5, 5, 1, 5, 0.5, 1,\n",
      "                   1.5, 0.1, 5, 5, 1.5, 0.5, 0.1, 1, 1.5, 0.5, 1.5, 1, 5,\n",
      "                   0.1, 1, 0.1, 0.5, 1.5, 0.5, 1, 1.5, 0.1, 1, 5, 0.5,\n",
      "                   1.5, 1.5, 1.5, 1.5, 1, 0.1, 1.5, 0.1, 0.5, 0.5, 5, 0.5,\n",
      "                   0.5, 5, 1.5, 0.5, 1, 0.5, 0.1, 0.5, 5, 1, 1, 0.1, 0.5,\n",
      "                   5, 1, 0.5, 0.1, 1, 5, 1.5, 0.1, 5, 1, 1.5, 1.5, 5, 0.5,\n",
      "                   1.5, 0.5, 0.5, 1, 0.1, 0.1, 1.5, 0.1, 1.5, 5, 0.5, 0.5,\n",
      "                   1.5, 0.1, 5, 5, 1.5, 5, 5, 0.1, 0.1, 0.5, 1.5, 1, 5, 5,\n",
      "                   0.5, 1, 1, 0.1, 1, 1.5, 1.5, 0.5, 5, 0.5, 1, 0.5, 1.5,\n",
      "                   0.5, 5, 1.5, 5, 5, 1, 1, 0.1, 1.5, 1.5, 0.1, 0.5, 1,\n",
      "                   1.5, 0.1, 5, 1.5, 1, 1, 0.5, 5, 5, 0.1, 0.1, 5, 0.5,\n",
      "                   1.5, 1, 5, 1, 1.5, 5, 0.5, 0.5, 1.5, 0.1, 1.5, 0.5,\n",
      "                   0.5, 0.5, 1, 0.5, 5, 0.1, 1.5, 0.1, 0.1, 1.5, 0.1, 5,\n",
      "                   5, 0.5, 1.5, 1, 5, 0.1, 1, 0.5, 5, 1.5, 0.1, 0.1, 0.1,\n",
      "                   1, 0.5, 1, 0.5, 0.1, 1.5, 1, 1.5, 5, 1.5, 0.1, 0.1,\n",
      "                   0.1, 0.5, 5, 1, 0.5, 0.1, 1.5, 5, 5, 0.5, 1, 5, 1, 1,\n",
      "                   0.5, 0.5, 1.5, 0.5, 1.5, 0.1, 5, 0.1, 0.1, 0.1, 1, 0.5,\n",
      "                   0.5, 5, 1.5, 1, 0.5, 0.1, 1, 0.1, 5, 0.5, 1.5, 5, 5,\n",
      "                   0.5, 5, 0.1, 1, 5, 5, 0.5, 0.1, 0.1, 1, 0.1, 5, 5, 0.1,\n",
      "                   1.5, 0.1, 5, 1.5, 1, 0.1, 5, 1.5, 0.1, 5, 1.5, 1.5,\n",
      "                   0.1, 1.5, 5, 5, 5, 5, 1, 5, 1.5, 1, 1.5, 0.5, 0.1, 0.5,\n",
      "                   5, 0.1, 5, 0.1, 1.5, 0.5, 0.5, 5, 1.5, 1.5, 5, 5, 1,\n",
      "                   0.1, 0.1, 0.1, 1.5, 5, 1, 1, 1.5, 1.5, 1.5, 0.1, 5,\n",
      "                   1.5, 5, 0.5, 5, 5, 1.5, 1.5, 5, 0.5, 1.5, 1.5, 1.5, 1,\n",
      "                   0.5, 1.5, 0.5, 0.5, 0.1, 1.5, 0.1, 1, 1, 5, 5, 1, 0.1,\n",
      "                   1, 1.5, 0.5, 1, 0.5, 1, 1, 0.1, 1, 1, 1, 0.1, 0.5, 1,\n",
      "                   1, 1, 5, 1.5, 0.1, 5, 0.1, 0.5, 0.5, 5, 0.5, 1.5, 1,\n",
      "                   0.1, 1, 0.5, 0.5, 0.1, 1, 0.1, 1, 1, 1, 0.5, 0.1, 0.5,\n",
      "                   1.5, 0.1, 1, 0.1, 0.5, 1.5, 1, 1, 0.1, 0.5, 0.5, 0.5,\n",
      "                   0.1, 0.5, 1, 5, 0.5, 5, 0.1, 5, 5, 1, 1, 1.5, 1, 1.5,\n",
      "                   1, 0.1, 5, 0.5, 0.1, 1, 0.1, 1, 0.1, 0.1, 1, 0.5, 0.1,\n",
      "                   5, 0.1, 0.1, 1, 1, 1.5, 1.5, 0.1, 0.5, 0.1, 1, 1.5,\n",
      "                   1.5, 0.1, 1.5, 0.5, 0.5, 5, 1, 1.5, 0.5, 5, 1, 5, 0.1,\n",
      "                   5, 0.5, 1, 1.5, 5, 5, 0.1, 1.5, 5, 5, 0.5, 0.5, 1, 0.5,\n",
      "                   0.1, 1, 0.1, 5, 5, 0.1, 1, 5, 0.1, 5, 1, 0.5, 5, 1.5,\n",
      "                   1.5, 1.5, 1, 0.1, 1.5, 0.1, 0.5, 5, 1, 1, 1, 0.5, 5, 1,\n",
      "                   0.5, 0.1, 1.5, 1, 0.1, 1.5, 0.5, 1, 5, 5, 0.5, 0.1,\n",
      "                   0.1, 0.1, 5, 1, 1, 0.5, 5, 0.5, 1, 1.5, 1, 0.5, 1, 5,\n",
      "                   1.5, 0.5, 1, 5, 0.1, 1.5, 1.5, 5, 0.5, 0.5, 0.1, 1.5,\n",
      "                   1, 1.5, 1, 5, 0.5, 0.1, 1, 1.5, 1, 1, 1.5, 5, 0.1, 0.5,\n",
      "                   1.5, 5, 1, 1, 0.1, 1, 0.1, 1, 1.5, 0.5, 5, 5, 1, 0.5,\n",
      "                   0.5, 0.1, 1.5, 0.5, 0.1, 1.5, 0.5, 1.5, 1.5, 5, 0.5, 1,\n",
      "                   5, 0.1, 0.1, 1.5, 5, 0.1, 5, 1, 1.5, 5, 0.5, 0.5, 0.5,\n",
      "                   5, 0.1, 1, 0.5, 0.5, 1, 1, 1.5, 5, 1, 1.5, 1.5, 1, 1.5,\n",
      "                   1, 1.5, 1, 1, 1, 0.5, 1, 1, 0.5, 1, 5, 1, 0.5, 0.5,\n",
      "                   0.5, 1, 0.5, 0.5, 5, 1, 5, 5, 1.5, 0.1, 5, 1.5, 0.1,\n",
      "                   1.5, 1.5, 0.5, 1, 0.5, 0.1, 5, 5, 1.5, 1.5, 1.5, 1,\n",
      "                   0.1, 0.1, 1, 0.1, 5, 0.5, 0.5, 5, 1, 1, 0.5, 5, 0.5, 5,\n",
      "                   0.5, 5, 0.1, 1, 5, 1.5, 1, 1.5, 1.5, 1, 0.5, 1, 0.5,\n",
      "                   0.1, 0.1, 0.5, 0.5, 1.5, 1.5, 1, 0.1, 1.5, 0.1, 1, 0.5,\n",
      "                   5, 5, 1.5, 1, 5, 1, 0.1, 5, 0.5, 1, 0.1, 1, 0.1, 1.5,\n",
      "                   1.5, 1, 1.5, 1, 0.1, 5, 0.1, 0.5, 5, 1, 1.5, 0.5, 1, 1,\n",
      "                   1.5, 0.1, 1, 0.1, 1.5, 0.5, 0.5, 1.5, 0.1, 1, 1, 5, 5,\n",
      "                   1, 0.5, 0.5, 1.5, 1.5, 1.5, 1, 1, 0.1, 5, 1.5, 1.5, 1,\n",
      "                   1, 1, 1.5, 1, 1, 1.5, 5, 5, 5, 0.1, 0.1, 1, 1.5, 0.5,\n",
      "                   5, 0.5, 5, 0.5, 1, 1.5, 1, 0.1, 0.5, 1.5, 1.5, 1, 1.5,\n",
      "                   1.5, 0.5, 0.5, 1, 0.5, 1, 0.1, 1, 1.5, 0.5, 1.5, 1,\n",
      "                   0.1, 1, 0.1, 0.1, 5, 1, 1, 5, 0.1, 5, 5, 1.5, 0.5, 1,\n",
      "                   0.1, 1, 0.1, 5, 0.1, 0.1, 0.1, 1, 5, 0.5, 1, 0.1, 1,\n",
      "                   0.5, 1, 1.5, 5, 0.5, 1.5, 1, 1, 0.5, 0.5, 0.1, 1.5,\n",
      "                   0.5, 1, 0.5, 1.5, 1.5, 0.5, 0.1, 5, 0.1, 1, 0.1, 1, 5,\n",
      "                   5, 0.5, 0.1],\n",
      "             mask=[False, False, False, False, False, False, False, False,\n",
      "                   False, False, False, False, False, False, False, False,\n",
      "                   False, False, False, False, False, False, False, False,\n",
      "                   False, False, False, False, False, False, False, False,\n",
      "                   False, False, False, False, False, False, False, False,\n",
      "                   False, False, False, False, False, False, False, False,\n",
      "                   False, False, False, False, False, False, False, False,\n",
      "                   False, False, False, False, False, False, False, False,\n",
      "                   False, False, False, False, False, False, False, False,\n",
      "                   False, False, False, False, False, False, False, False,\n",
      "                   False, False, False, False, False, False, False, False,\n",
      "                   False, False, False, False, False, False, False, False,\n",
      "                   False, False, False, False, False, False, False, False,\n",
      "                   False, False, False, False, False, False, False, False,\n",
      "                   False, False, False, False, False, False, False, False,\n",
      "                   False, False, False, False, False, False, False, False,\n",
      "                   False, False, False, False, False, False, False, False,\n",
      "                   False, False, False, False, False, False, False, False,\n",
      "                   False, False, False, False, False, False, False, False,\n",
      "                   False, False, False, False, False, False, False, False,\n",
      "                   False, False, False, False, False, False, False, False,\n",
      "                   False, False, False, False, False, False, False, False,\n",
      "                   False, False, False, False, False, False, False, False,\n",
      "                   False, False, False, False, False, False, False, False,\n",
      "                   False, False, False, False, False, False, False, False,\n",
      "                   False, False, False, False, False, False, False, False,\n",
      "                   False, False, False, False, False, False, False, False,\n",
      "                   False, False, False, False, False, False, False, False,\n",
      "                   False, False, False, False, False, False, False, False,\n",
      "                   False, False, False, False, False, False, False, False,\n",
      "                   False, False, False, False, False, False, False, False,\n",
      "                   False, False, False, False, False, False, False, False,\n",
      "                   False, False, False, False, False, False, False, False,\n",
      "                   False, False, False, False, False, False, False, False,\n",
      "                   False, False, False, False, False, False, False, False,\n",
      "                   False, False, False, False, False, False, False, False,\n",
      "                   False, False, False, False, False, False, False, False,\n",
      "                   False, False, False, False, False, False, False, False,\n",
      "                   False, False, False, False, False, False, False, False,\n",
      "                   False, False, False, False, False, False, False, False,\n",
      "                   False, False, False, False, False, False, False, False,\n",
      "                   False, False, False, False, False, False, False, False,\n",
      "                   False, False, False, False, False, False, False, False,\n",
      "                   False, False, False, False, False, False, False, False,\n",
      "                   False, False, False, False, False, False, False, False,\n",
      "                   False, False, False, False, False, False, False, False,\n",
      "                   False, False, False, False, False, False, False, False,\n",
      "                   False, False, False, False, False, False, False, False,\n",
      "                   False, False, False, False, False, False, False, False,\n",
      "                   False, False, False, False, False, False, False, False,\n",
      "                   False, False, False, False, False, False, False, False,\n",
      "                   False, False, False, False, False, False, False, False,\n",
      "                   False, False, False, False, False, False, False, False,\n",
      "                   False, False, False, False, False, False, False, False,\n",
      "                   False, False, False, False, False, False, False, False,\n",
      "                   False, False, False, False, False, False, False, False,\n",
      "                   False, False, False, False, False, False, False, False,\n",
      "                   False, False, False, False, False, False, False, False,\n",
      "                   False, False, False, False, False, False, False, False,\n",
      "                   False, False, False, False, False, False, False, False,\n",
      "                   False, False, False, False, False, False, False, False,\n",
      "                   False, False, False, False, False, False, False, False,\n",
      "                   False, False, False, False, False, False, False, False,\n",
      "                   False, False, False, False, False, False, False, False,\n",
      "                   False, False, False, False, False, False, False, False,\n",
      "                   False, False, False, False, False, False, False, False,\n",
      "                   False, False, False, False, False, False, False, False,\n",
      "                   False, False, False, False, False, False, False, False,\n",
      "                   False, False, False, False, False, False, False, False,\n",
      "                   False, False, False, False, False, False, False, False,\n",
      "                   False, False, False, False, False, False, False, False,\n",
      "                   False, False, False, False, False, False, False, False,\n",
      "                   False, False, False, False, False, False, False, False,\n",
      "                   False, False, False, False, False, False, False, False,\n",
      "                   False, False, False, False, False, False, False, False,\n",
      "                   False, False, False, False, False, False, False, False,\n",
      "                   False, False, False, False, False, False, False, False,\n",
      "                   False, False, False, False, False, False, False, False,\n",
      "                   False, False, False, False, False, False, False, False,\n",
      "                   False, False, False, False, False, False, False, False,\n",
      "                   False, False, False, False, False, False, False, False,\n",
      "                   False, False, False, False, False, False, False, False,\n",
      "                   False, False, False, False, False, False, False, False,\n",
      "                   False, False, False, False, False, False, False, False,\n",
      "                   False, False, False, False, False, False, False, False,\n",
      "                   False, False, False, False, False, False, False, False,\n",
      "                   False, False, False, False, False, False, False, False,\n",
      "                   False, False, False, False, False, False, False, False,\n",
      "                   False, False, False, False, False, False, False, False,\n",
      "                   False, False, False, False, False, False, False, False,\n",
      "                   False, False, False, False, False, False, False, False,\n",
      "                   False, False, False, False, False, False, False, False,\n",
      "                   False, False, False, False, False, False, False, False,\n",
      "                   False, False, False, False, False, False, False, False,\n",
      "                   False, False, False, False, False, False, False, False,\n",
      "                   False, False, False, False, False, False, False, False,\n",
      "                   False, False, False, False, False, False, False, False,\n",
      "                   False, False, False, False, False, False, False, False,\n",
      "                   False, False, False, False, False, False, False, False,\n",
      "                   False, False, False, False, False, False, False, False],\n",
      "       fill_value='?',\n",
      "            dtype=object), 'param_colsample_bytree': masked_array(data=[0.6, 0.8, 0.8, 0.6, 0.6, 0.8, 0.6, 0.8, 0.8, 0.8, 1.0,\n",
      "                   1.0, 0.8, 0.8, 0.6, 0.8, 0.8, 0.6, 0.6, 0.8, 1.0, 0.6,\n",
      "                   0.8, 0.6, 0.6, 0.8, 1.0, 1.0, 1.0, 1.0, 0.8, 0.8, 1.0,\n",
      "                   0.6, 1.0, 0.8, 0.8, 1.0, 0.8, 0.8, 0.6, 0.6, 0.8, 0.6,\n",
      "                   0.8, 1.0, 0.6, 0.6, 0.8, 0.8, 0.6, 0.6, 1.0, 1.0, 1.0,\n",
      "                   1.0, 0.6, 0.8, 0.6, 1.0, 0.6, 1.0, 0.8, 1.0, 0.6, 1.0,\n",
      "                   1.0, 0.8, 0.8, 0.6, 0.6, 0.8, 0.8, 0.6, 0.8, 0.6, 0.8,\n",
      "                   0.6, 0.8, 1.0, 1.0, 0.8, 1.0, 0.6, 0.6, 0.6, 1.0, 0.8,\n",
      "                   0.6, 0.8, 0.8, 0.6, 0.8, 0.8, 1.0, 1.0, 0.8, 1.0, 0.8,\n",
      "                   0.8, 0.8, 0.6, 1.0, 0.6, 1.0, 1.0, 0.6, 1.0, 0.6, 0.8,\n",
      "                   1.0, 0.8, 1.0, 0.8, 0.8, 1.0, 0.8, 1.0, 1.0, 0.6, 1.0,\n",
      "                   1.0, 0.8, 1.0, 1.0, 0.6, 0.6, 1.0, 1.0, 1.0, 1.0, 0.8,\n",
      "                   0.6, 1.0, 1.0, 0.6, 0.6, 0.6, 0.8, 0.8, 0.8, 0.8, 0.6,\n",
      "                   0.6, 1.0, 0.6, 0.6, 0.6, 0.8, 0.6, 0.6, 0.8, 0.8, 1.0,\n",
      "                   0.6, 1.0, 0.8, 1.0, 0.6, 0.8, 0.6, 1.0, 1.0, 1.0, 0.6,\n",
      "                   0.6, 1.0, 1.0, 0.8, 1.0, 0.6, 0.8, 0.6, 0.8, 0.6, 0.8,\n",
      "                   0.6, 0.6, 0.6, 0.6, 1.0, 0.8, 0.8, 0.6, 0.6, 0.6, 0.8,\n",
      "                   0.6, 0.6, 0.8, 0.8, 1.0, 1.0, 1.0, 0.8, 1.0, 0.8, 0.8,\n",
      "                   0.8, 1.0, 1.0, 0.6, 0.6, 1.0, 1.0, 0.6, 1.0, 0.8, 0.8,\n",
      "                   0.6, 1.0, 1.0, 0.6, 0.8, 0.8, 1.0, 0.6, 0.8, 1.0, 1.0,\n",
      "                   1.0, 0.8, 1.0, 1.0, 1.0, 0.6, 0.8, 1.0, 1.0, 0.6, 0.6,\n",
      "                   1.0, 0.6, 0.8, 1.0, 0.6, 0.8, 1.0, 0.8, 0.8, 1.0, 1.0,\n",
      "                   0.8, 0.8, 0.8, 0.6, 0.6, 0.8, 0.6, 0.8, 0.8, 0.6, 0.6,\n",
      "                   1.0, 0.8, 1.0, 0.6, 0.6, 0.6, 1.0, 0.6, 1.0, 0.6, 0.8,\n",
      "                   0.6, 1.0, 0.6, 0.6, 0.8, 0.8, 1.0, 0.8, 1.0, 0.8, 1.0,\n",
      "                   0.8, 0.6, 1.0, 0.8, 1.0, 0.6, 1.0, 0.8, 0.6, 0.6, 0.6,\n",
      "                   0.6, 1.0, 0.6, 0.6, 0.8, 1.0, 1.0, 0.8, 0.8, 0.8, 0.6,\n",
      "                   0.8, 0.6, 0.6, 0.6, 0.6, 0.8, 1.0, 1.0, 1.0, 0.8, 1.0,\n",
      "                   0.6, 0.6, 1.0, 0.6, 0.6, 0.6, 1.0, 0.6, 0.6, 1.0, 0.8,\n",
      "                   0.8, 0.8, 0.8, 0.8, 0.6, 0.8, 0.8, 0.6, 0.6, 0.6, 0.6,\n",
      "                   0.8, 0.8, 0.8, 1.0, 0.8, 0.6, 0.8, 0.6, 1.0, 0.6, 0.6,\n",
      "                   0.6, 0.6, 0.6, 1.0, 0.6, 1.0, 0.8, 1.0, 1.0, 0.8, 0.8,\n",
      "                   1.0, 1.0, 0.8, 0.6, 0.8, 0.6, 0.8, 0.8, 0.8, 0.6, 1.0,\n",
      "                   0.6, 0.6, 0.8, 0.6, 0.8, 1.0, 0.8, 1.0, 1.0, 1.0, 1.0,\n",
      "                   1.0, 0.6, 0.8, 0.6, 1.0, 1.0, 0.8, 0.6, 0.6, 1.0, 0.8,\n",
      "                   0.6, 0.8, 1.0, 0.6, 0.8, 0.8, 0.6, 0.8, 0.8, 1.0, 0.6,\n",
      "                   0.8, 0.6, 1.0, 1.0, 0.8, 0.8, 1.0, 0.6, 1.0, 1.0, 0.8,\n",
      "                   1.0, 1.0, 0.8, 0.6, 0.8, 1.0, 0.8, 0.8, 1.0, 0.6, 0.6,\n",
      "                   0.8, 1.0, 0.6, 0.6, 0.6, 1.0, 0.8, 0.6, 0.6, 0.6, 1.0,\n",
      "                   0.8, 1.0, 0.8, 0.8, 0.6, 0.8, 1.0, 1.0, 1.0, 0.6, 0.8,\n",
      "                   0.8, 0.6, 0.8, 1.0, 0.6, 0.6, 0.8, 0.6, 1.0, 0.6, 0.8,\n",
      "                   1.0, 1.0, 0.6, 0.6, 1.0, 0.6, 0.6, 0.6, 0.8, 0.8, 1.0,\n",
      "                   1.0, 0.8, 1.0, 0.6, 0.8, 1.0, 0.6, 1.0, 0.8, 1.0, 0.8,\n",
      "                   0.8, 0.6, 0.6, 0.6, 1.0, 1.0, 1.0, 0.8, 0.8, 1.0, 0.6,\n",
      "                   0.8, 0.6, 0.8, 0.6, 1.0, 1.0, 1.0, 1.0, 0.6, 1.0, 0.8,\n",
      "                   1.0, 0.8, 1.0, 1.0, 0.6, 0.6, 1.0, 1.0, 0.6, 1.0, 0.8,\n",
      "                   1.0, 0.6, 1.0, 0.8, 0.6, 1.0, 0.8, 1.0, 0.8, 0.8, 1.0,\n",
      "                   0.8, 0.6, 1.0, 0.8, 0.8, 0.8, 0.6, 0.6, 1.0, 0.8, 0.8,\n",
      "                   0.8, 1.0, 0.6, 1.0, 0.6, 0.6, 1.0, 1.0, 1.0, 0.8, 0.8,\n",
      "                   1.0, 0.6, 1.0, 1.0, 0.6, 0.6, 0.8, 0.6, 0.6, 1.0, 1.0,\n",
      "                   0.6, 1.0, 0.8, 0.8, 1.0, 1.0, 1.0, 0.8, 1.0, 1.0, 1.0,\n",
      "                   0.6, 0.6, 1.0, 0.6, 0.8, 1.0, 0.8, 0.8, 1.0, 0.6, 1.0,\n",
      "                   0.8, 0.6, 0.8, 0.6, 1.0, 0.6, 0.6, 0.6, 0.8, 0.6, 0.6,\n",
      "                   1.0, 0.6, 1.0, 0.8, 0.8, 0.8, 1.0, 0.8, 1.0, 0.6, 1.0,\n",
      "                   0.6, 1.0, 0.6, 0.8, 0.6, 1.0, 0.8, 0.8, 0.8, 1.0, 0.6,\n",
      "                   1.0, 1.0, 0.8, 0.8, 1.0, 1.0, 1.0, 0.6, 0.6, 0.8, 0.8,\n",
      "                   1.0, 0.8, 1.0, 0.6, 1.0, 0.8, 1.0, 0.6, 0.6, 0.8, 0.8,\n",
      "                   0.8, 1.0, 1.0, 0.6, 0.6, 1.0, 0.8, 0.8, 0.8, 0.6, 0.8,\n",
      "                   1.0, 0.6, 0.6, 0.8, 0.8, 1.0, 1.0, 1.0, 0.8, 0.6, 0.8,\n",
      "                   1.0, 1.0, 0.6, 0.8, 0.6, 0.8, 0.8, 0.6, 0.6, 0.6, 1.0,\n",
      "                   0.6, 0.6, 0.6, 0.6, 1.0, 0.6, 0.6, 0.6, 0.8, 1.0, 0.8,\n",
      "                   1.0, 0.8, 1.0, 1.0, 0.6, 1.0, 0.8, 0.8, 0.6, 0.6, 0.6,\n",
      "                   0.8, 1.0, 0.6, 0.8, 0.8, 0.8, 0.6, 0.6, 0.8, 0.8, 0.8,\n",
      "                   0.6, 0.8, 0.8, 0.8, 0.6, 0.6, 0.8, 0.6, 1.0, 1.0, 0.8,\n",
      "                   0.8, 0.6, 1.0, 1.0, 1.0, 1.0, 0.6, 0.6, 1.0, 0.8, 0.8,\n",
      "                   0.8, 0.6, 0.6, 1.0, 0.6, 0.8, 0.6, 1.0, 0.8, 0.6, 0.8,\n",
      "                   0.6, 1.0, 0.8, 1.0, 0.6, 1.0, 0.8, 0.8, 0.8, 1.0, 0.6,\n",
      "                   0.6, 0.6, 1.0, 1.0, 1.0, 0.8, 0.8, 0.8, 1.0, 0.8, 0.6,\n",
      "                   0.6, 1.0, 0.8, 0.6, 1.0, 1.0, 0.6, 0.8, 0.8, 0.8, 1.0,\n",
      "                   1.0, 0.6, 1.0, 0.6, 1.0, 1.0, 1.0, 0.8, 0.8, 1.0, 1.0,\n",
      "                   0.8, 0.8, 1.0, 0.8, 0.6, 0.6, 1.0, 0.8, 0.6, 0.6, 0.6,\n",
      "                   0.8, 1.0, 0.6, 0.8, 0.6, 0.8, 1.0, 0.6, 0.8, 1.0, 0.6,\n",
      "                   0.8, 1.0, 1.0, 0.8, 0.6, 1.0, 1.0, 0.6],\n",
      "             mask=[False, False, False, False, False, False, False, False,\n",
      "                   False, False, False, False, False, False, False, False,\n",
      "                   False, False, False, False, False, False, False, False,\n",
      "                   False, False, False, False, False, False, False, False,\n",
      "                   False, False, False, False, False, False, False, False,\n",
      "                   False, False, False, False, False, False, False, False,\n",
      "                   False, False, False, False, False, False, False, False,\n",
      "                   False, False, False, False, False, False, False, False,\n",
      "                   False, False, False, False, False, False, False, False,\n",
      "                   False, False, False, False, False, False, False, False,\n",
      "                   False, False, False, False, False, False, False, False,\n",
      "                   False, False, False, False, False, False, False, False,\n",
      "                   False, False, False, False, False, False, False, False,\n",
      "                   False, False, False, False, False, False, False, False,\n",
      "                   False, False, False, False, False, False, False, False,\n",
      "                   False, False, False, False, False, False, False, False,\n",
      "                   False, False, False, False, False, False, False, False,\n",
      "                   False, False, False, False, False, False, False, False,\n",
      "                   False, False, False, False, False, False, False, False,\n",
      "                   False, False, False, False, False, False, False, False,\n",
      "                   False, False, False, False, False, False, False, False,\n",
      "                   False, False, False, False, False, False, False, False,\n",
      "                   False, False, False, False, False, False, False, False,\n",
      "                   False, False, False, False, False, False, False, False,\n",
      "                   False, False, False, False, False, False, False, False,\n",
      "                   False, False, False, False, False, False, False, False,\n",
      "                   False, False, False, False, False, False, False, False,\n",
      "                   False, False, False, False, False, False, False, False,\n",
      "                   False, False, False, False, False, False, False, False,\n",
      "                   False, False, False, False, False, False, False, False,\n",
      "                   False, False, False, False, False, False, False, False,\n",
      "                   False, False, False, False, False, False, False, False,\n",
      "                   False, False, False, False, False, False, False, False,\n",
      "                   False, False, False, False, False, False, False, False,\n",
      "                   False, False, False, False, False, False, False, False,\n",
      "                   False, False, False, False, False, False, False, False,\n",
      "                   False, False, False, False, False, False, False, False,\n",
      "                   False, False, False, False, False, False, False, False,\n",
      "                   False, False, False, False, False, False, False, False,\n",
      "                   False, False, False, False, False, False, False, False,\n",
      "                   False, False, False, False, False, False, False, False,\n",
      "                   False, False, False, False, False, False, False, False,\n",
      "                   False, False, False, False, False, False, False, False,\n",
      "                   False, False, False, False, False, False, False, False,\n",
      "                   False, False, False, False, False, False, False, False,\n",
      "                   False, False, False, False, False, False, False, False,\n",
      "                   False, False, False, False, False, False, False, False,\n",
      "                   False, False, False, False, False, False, False, False,\n",
      "                   False, False, False, False, False, False, False, False,\n",
      "                   False, False, False, False, False, False, False, False,\n",
      "                   False, False, False, False, False, False, False, False,\n",
      "                   False, False, False, False, False, False, False, False,\n",
      "                   False, False, False, False, False, False, False, False,\n",
      "                   False, False, False, False, False, False, False, False,\n",
      "                   False, False, False, False, False, False, False, False,\n",
      "                   False, False, False, False, False, False, False, False,\n",
      "                   False, False, False, False, False, False, False, False,\n",
      "                   False, False, False, False, False, False, False, False,\n",
      "                   False, False, False, False, False, False, False, False,\n",
      "                   False, False, False, False, False, False, False, False,\n",
      "                   False, False, False, False, False, False, False, False,\n",
      "                   False, False, False, False, False, False, False, False,\n",
      "                   False, False, False, False, False, False, False, False,\n",
      "                   False, False, False, False, False, False, False, False,\n",
      "                   False, False, False, False, False, False, False, False,\n",
      "                   False, False, False, False, False, False, False, False,\n",
      "                   False, False, False, False, False, False, False, False,\n",
      "                   False, False, False, False, False, False, False, False,\n",
      "                   False, False, False, False, False, False, False, False,\n",
      "                   False, False, False, False, False, False, False, False,\n",
      "                   False, False, False, False, False, False, False, False,\n",
      "                   False, False, False, False, False, False, False, False,\n",
      "                   False, False, False, False, False, False, False, False,\n",
      "                   False, False, False, False, False, False, False, False,\n",
      "                   False, False, False, False, False, False, False, False,\n",
      "                   False, False, False, False, False, False, False, False,\n",
      "                   False, False, False, False, False, False, False, False,\n",
      "                   False, False, False, False, False, False, False, False,\n",
      "                   False, False, False, False, False, False, False, False,\n",
      "                   False, False, False, False, False, False, False, False,\n",
      "                   False, False, False, False, False, False, False, False,\n",
      "                   False, False, False, False, False, False, False, False,\n",
      "                   False, False, False, False, False, False, False, False,\n",
      "                   False, False, False, False, False, False, False, False,\n",
      "                   False, False, False, False, False, False, False, False,\n",
      "                   False, False, False, False, False, False, False, False,\n",
      "                   False, False, False, False, False, False, False, False,\n",
      "                   False, False, False, False, False, False, False, False,\n",
      "                   False, False, False, False, False, False, False, False,\n",
      "                   False, False, False, False, False, False, False, False,\n",
      "                   False, False, False, False, False, False, False, False,\n",
      "                   False, False, False, False, False, False, False, False,\n",
      "                   False, False, False, False, False, False, False, False,\n",
      "                   False, False, False, False, False, False, False, False,\n",
      "                   False, False, False, False, False, False, False, False,\n",
      "                   False, False, False, False, False, False, False, False,\n",
      "                   False, False, False, False, False, False, False, False,\n",
      "                   False, False, False, False, False, False, False, False,\n",
      "                   False, False, False, False, False, False, False, False,\n",
      "                   False, False, False, False, False, False, False, False],\n",
      "       fill_value='?',\n",
      "            dtype=object), 'params': [{'subsample': 0.6, 'n_estimators': 500, 'min_child_weight': 7, 'max_depth': 10, 'learning_rate': 0.01, 'gamma': 1, 'colsample_bytree': 0.6}, {'subsample': 1.0, 'n_estimators': 500, 'min_child_weight': 1, 'max_depth': 4, 'learning_rate': 0.02, 'gamma': 0.5, 'colsample_bytree': 0.8}, {'subsample': 0.6, 'n_estimators': 500, 'min_child_weight': 10, 'max_depth': 4, 'learning_rate': 0.1, 'gamma': 1, 'colsample_bytree': 0.8}, {'subsample': 1.0, 'n_estimators': 500, 'min_child_weight': 7, 'max_depth': 10, 'learning_rate': 0.05, 'gamma': 5, 'colsample_bytree': 0.6}, {'subsample': 0.8, 'n_estimators': 200, 'min_child_weight': 5, 'max_depth': 3, 'learning_rate': 0.1, 'gamma': 0.1, 'colsample_bytree': 0.6}, {'subsample': 0.8, 'n_estimators': 750, 'min_child_weight': 1, 'max_depth': 3, 'learning_rate': 0.25, 'gamma': 5, 'colsample_bytree': 0.8}, {'subsample': 0.8, 'n_estimators': 200, 'min_child_weight': 10, 'max_depth': 5, 'learning_rate': 0.1, 'gamma': 0.1, 'colsample_bytree': 0.6}, {'subsample': 0.8, 'n_estimators': 100, 'min_child_weight': 7, 'max_depth': 4, 'learning_rate': 0.01, 'gamma': 0.5, 'colsample_bytree': 0.8}, {'subsample': 0.6, 'n_estimators': 200, 'min_child_weight': 7, 'max_depth': 12, 'learning_rate': 0.05, 'gamma': 5, 'colsample_bytree': 0.8}, {'subsample': 0.8, 'n_estimators': 100, 'min_child_weight': 10, 'max_depth': 4, 'learning_rate': 0.1, 'gamma': 5, 'colsample_bytree': 0.8}, {'subsample': 0.6, 'n_estimators': 100, 'min_child_weight': 1, 'max_depth': 5, 'learning_rate': 0.02, 'gamma': 5, 'colsample_bytree': 1.0}, {'subsample': 0.8, 'n_estimators': 100, 'min_child_weight': 10, 'max_depth': 3, 'learning_rate': 0.25, 'gamma': 1, 'colsample_bytree': 1.0}, {'subsample': 0.8, 'n_estimators': 200, 'min_child_weight': 1, 'max_depth': 10, 'learning_rate': 0.1, 'gamma': 5, 'colsample_bytree': 0.8}, {'subsample': 0.6, 'n_estimators': 200, 'min_child_weight': 1, 'max_depth': 5, 'learning_rate': 0.02, 'gamma': 0.5, 'colsample_bytree': 0.8}, {'subsample': 0.6, 'n_estimators': 500, 'min_child_weight': 7, 'max_depth': 12, 'learning_rate': 0.01, 'gamma': 1, 'colsample_bytree': 0.6}, {'subsample': 0.6, 'n_estimators': 100, 'min_child_weight': 1, 'max_depth': 5, 'learning_rate': 0.1, 'gamma': 1.5, 'colsample_bytree': 0.8}, {'subsample': 1.0, 'n_estimators': 750, 'min_child_weight': 10, 'max_depth': 5, 'learning_rate': 0.02, 'gamma': 0.1, 'colsample_bytree': 0.8}, {'subsample': 1.0, 'n_estimators': 100, 'min_child_weight': 10, 'max_depth': 5, 'learning_rate': 0.25, 'gamma': 5, 'colsample_bytree': 0.6}, {'subsample': 1.0, 'n_estimators': 200, 'min_child_weight': 7, 'max_depth': 10, 'learning_rate': 0.01, 'gamma': 5, 'colsample_bytree': 0.6}, {'subsample': 0.8, 'n_estimators': 200, 'min_child_weight': 10, 'max_depth': 12, 'learning_rate': 0.05, 'gamma': 1.5, 'colsample_bytree': 0.8}, {'subsample': 0.6, 'n_estimators': 200, 'min_child_weight': 5, 'max_depth': 5, 'learning_rate': 0.02, 'gamma': 0.5, 'colsample_bytree': 1.0}, {'subsample': 0.6, 'n_estimators': 500, 'min_child_weight': 5, 'max_depth': 12, 'learning_rate': 0.02, 'gamma': 0.1, 'colsample_bytree': 0.6}, {'subsample': 0.6, 'n_estimators': 200, 'min_child_weight': 10, 'max_depth': 4, 'learning_rate': 0.01, 'gamma': 1, 'colsample_bytree': 0.8}, {'subsample': 0.8, 'n_estimators': 500, 'min_child_weight': 10, 'max_depth': 12, 'learning_rate': 0.05, 'gamma': 1.5, 'colsample_bytree': 0.6}, {'subsample': 0.8, 'n_estimators': 750, 'min_child_weight': 1, 'max_depth': 5, 'learning_rate': 0.25, 'gamma': 0.5, 'colsample_bytree': 0.6}, {'subsample': 1.0, 'n_estimators': 200, 'min_child_weight': 5, 'max_depth': 3, 'learning_rate': 0.1, 'gamma': 1.5, 'colsample_bytree': 0.8}, {'subsample': 0.8, 'n_estimators': 100, 'min_child_weight': 5, 'max_depth': 4, 'learning_rate': 0.01, 'gamma': 1, 'colsample_bytree': 1.0}, {'subsample': 0.6, 'n_estimators': 100, 'min_child_weight': 7, 'max_depth': 10, 'learning_rate': 0.25, 'gamma': 5, 'colsample_bytree': 1.0}, {'subsample': 1.0, 'n_estimators': 500, 'min_child_weight': 7, 'max_depth': 10, 'learning_rate': 0.01, 'gamma': 0.1, 'colsample_bytree': 1.0}, {'subsample': 0.8, 'n_estimators': 200, 'min_child_weight': 7, 'max_depth': 12, 'learning_rate': 0.02, 'gamma': 1, 'colsample_bytree': 1.0}, {'subsample': 0.8, 'n_estimators': 750, 'min_child_weight': 1, 'max_depth': 4, 'learning_rate': 0.1, 'gamma': 0.1, 'colsample_bytree': 0.8}, {'subsample': 1.0, 'n_estimators': 500, 'min_child_weight': 7, 'max_depth': 10, 'learning_rate': 0.25, 'gamma': 0.5, 'colsample_bytree': 0.8}, {'subsample': 1.0, 'n_estimators': 750, 'min_child_weight': 10, 'max_depth': 3, 'learning_rate': 0.05, 'gamma': 1.5, 'colsample_bytree': 1.0}, {'subsample': 1.0, 'n_estimators': 200, 'min_child_weight': 1, 'max_depth': 5, 'learning_rate': 0.1, 'gamma': 0.5, 'colsample_bytree': 0.6}, {'subsample': 1.0, 'n_estimators': 500, 'min_child_weight': 5, 'max_depth': 4, 'learning_rate': 0.1, 'gamma': 1, 'colsample_bytree': 1.0}, {'subsample': 0.6, 'n_estimators': 750, 'min_child_weight': 5, 'max_depth': 5, 'learning_rate': 0.01, 'gamma': 1.5, 'colsample_bytree': 0.8}, {'subsample': 0.6, 'n_estimators': 100, 'min_child_weight': 10, 'max_depth': 4, 'learning_rate': 0.1, 'gamma': 0.1, 'colsample_bytree': 0.8}, {'subsample': 0.6, 'n_estimators': 750, 'min_child_weight': 5, 'max_depth': 12, 'learning_rate': 0.02, 'gamma': 1, 'colsample_bytree': 1.0}, {'subsample': 0.6, 'n_estimators': 500, 'min_child_weight': 5, 'max_depth': 10, 'learning_rate': 0.1, 'gamma': 5, 'colsample_bytree': 0.8}, {'subsample': 0.6, 'n_estimators': 500, 'min_child_weight': 10, 'max_depth': 12, 'learning_rate': 0.01, 'gamma': 0.5, 'colsample_bytree': 0.8}, {'subsample': 0.6, 'n_estimators': 200, 'min_child_weight': 10, 'max_depth': 3, 'learning_rate': 0.05, 'gamma': 1.5, 'colsample_bytree': 0.6}, {'subsample': 1.0, 'n_estimators': 500, 'min_child_weight': 1, 'max_depth': 3, 'learning_rate': 0.01, 'gamma': 1.5, 'colsample_bytree': 0.6}, {'subsample': 0.6, 'n_estimators': 100, 'min_child_weight': 5, 'max_depth': 5, 'learning_rate': 0.01, 'gamma': 1.5, 'colsample_bytree': 0.8}, {'subsample': 0.8, 'n_estimators': 100, 'min_child_weight': 5, 'max_depth': 5, 'learning_rate': 0.05, 'gamma': 1.5, 'colsample_bytree': 0.6}, {'subsample': 1.0, 'n_estimators': 750, 'min_child_weight': 5, 'max_depth': 4, 'learning_rate': 0.05, 'gamma': 1, 'colsample_bytree': 0.8}, {'subsample': 0.8, 'n_estimators': 100, 'min_child_weight': 7, 'max_depth': 10, 'learning_rate': 0.01, 'gamma': 0.1, 'colsample_bytree': 1.0}, {'subsample': 0.6, 'n_estimators': 500, 'min_child_weight': 10, 'max_depth': 4, 'learning_rate': 0.1, 'gamma': 1.5, 'colsample_bytree': 0.6}, {'subsample': 0.8, 'n_estimators': 100, 'min_child_weight': 7, 'max_depth': 4, 'learning_rate': 0.02, 'gamma': 0.1, 'colsample_bytree': 0.6}, {'subsample': 0.8, 'n_estimators': 200, 'min_child_weight': 5, 'max_depth': 10, 'learning_rate': 0.05, 'gamma': 0.5, 'colsample_bytree': 0.8}, {'subsample': 1.0, 'n_estimators': 750, 'min_child_weight': 10, 'max_depth': 10, 'learning_rate': 0.01, 'gamma': 0.5, 'colsample_bytree': 0.8}, {'subsample': 0.8, 'n_estimators': 200, 'min_child_weight': 10, 'max_depth': 3, 'learning_rate': 0.25, 'gamma': 5, 'colsample_bytree': 0.6}, {'subsample': 0.8, 'n_estimators': 200, 'min_child_weight': 10, 'max_depth': 10, 'learning_rate': 0.02, 'gamma': 0.5, 'colsample_bytree': 0.6}, {'subsample': 0.6, 'n_estimators': 750, 'min_child_weight': 7, 'max_depth': 12, 'learning_rate': 0.05, 'gamma': 0.5, 'colsample_bytree': 1.0}, {'subsample': 0.8, 'n_estimators': 500, 'min_child_weight': 7, 'max_depth': 10, 'learning_rate': 0.1, 'gamma': 5, 'colsample_bytree': 1.0}, {'subsample': 0.8, 'n_estimators': 750, 'min_child_weight': 1, 'max_depth': 3, 'learning_rate': 0.01, 'gamma': 1.5, 'colsample_bytree': 1.0}, {'subsample': 0.6, 'n_estimators': 100, 'min_child_weight': 5, 'max_depth': 3, 'learning_rate': 0.1, 'gamma': 0.5, 'colsample_bytree': 1.0}, {'subsample': 1.0, 'n_estimators': 200, 'min_child_weight': 7, 'max_depth': 3, 'learning_rate': 0.05, 'gamma': 1, 'colsample_bytree': 0.6}, {'subsample': 0.8, 'n_estimators': 200, 'min_child_weight': 5, 'max_depth': 3, 'learning_rate': 0.05, 'gamma': 0.5, 'colsample_bytree': 0.8}, {'subsample': 0.8, 'n_estimators': 500, 'min_child_weight': 7, 'max_depth': 5, 'learning_rate': 0.25, 'gamma': 0.1, 'colsample_bytree': 0.6}, {'subsample': 0.6, 'n_estimators': 500, 'min_child_weight': 1, 'max_depth': 5, 'learning_rate': 0.01, 'gamma': 0.5, 'colsample_bytree': 1.0}, {'subsample': 1.0, 'n_estimators': 200, 'min_child_weight': 10, 'max_depth': 10, 'learning_rate': 0.05, 'gamma': 5, 'colsample_bytree': 0.6}, {'subsample': 1.0, 'n_estimators': 500, 'min_child_weight': 7, 'max_depth': 3, 'learning_rate': 0.05, 'gamma': 1, 'colsample_bytree': 1.0}, {'subsample': 0.6, 'n_estimators': 750, 'min_child_weight': 5, 'max_depth': 3, 'learning_rate': 0.02, 'gamma': 1, 'colsample_bytree': 0.8}, {'subsample': 0.8, 'n_estimators': 500, 'min_child_weight': 5, 'max_depth': 12, 'learning_rate': 0.01, 'gamma': 0.1, 'colsample_bytree': 1.0}, {'subsample': 0.8, 'n_estimators': 750, 'min_child_weight': 1, 'max_depth': 3, 'learning_rate': 0.02, 'gamma': 0.5, 'colsample_bytree': 0.6}, {'subsample': 1.0, 'n_estimators': 100, 'min_child_weight': 7, 'max_depth': 5, 'learning_rate': 0.05, 'gamma': 5, 'colsample_bytree': 1.0}, {'subsample': 0.8, 'n_estimators': 500, 'min_child_weight': 5, 'max_depth': 4, 'learning_rate': 0.02, 'gamma': 1, 'colsample_bytree': 1.0}, {'subsample': 0.6, 'n_estimators': 200, 'min_child_weight': 7, 'max_depth': 5, 'learning_rate': 0.05, 'gamma': 0.5, 'colsample_bytree': 0.8}, {'subsample': 1.0, 'n_estimators': 200, 'min_child_weight': 1, 'max_depth': 3, 'learning_rate': 0.1, 'gamma': 0.1, 'colsample_bytree': 0.8}, {'subsample': 0.8, 'n_estimators': 200, 'min_child_weight': 7, 'max_depth': 10, 'learning_rate': 0.25, 'gamma': 1, 'colsample_bytree': 0.6}, {'subsample': 0.6, 'n_estimators': 100, 'min_child_weight': 5, 'max_depth': 10, 'learning_rate': 0.25, 'gamma': 5, 'colsample_bytree': 0.6}, {'subsample': 0.8, 'n_estimators': 100, 'min_child_weight': 10, 'max_depth': 12, 'learning_rate': 0.1, 'gamma': 1.5, 'colsample_bytree': 0.8}, {'subsample': 0.8, 'n_estimators': 500, 'min_child_weight': 7, 'max_depth': 12, 'learning_rate': 0.05, 'gamma': 0.1, 'colsample_bytree': 0.8}, {'subsample': 1.0, 'n_estimators': 750, 'min_child_weight': 10, 'max_depth': 10, 'learning_rate': 0.01, 'gamma': 5, 'colsample_bytree': 0.6}, {'subsample': 0.6, 'n_estimators': 200, 'min_child_weight': 10, 'max_depth': 10, 'learning_rate': 0.01, 'gamma': 1, 'colsample_bytree': 0.8}, {'subsample': 0.8, 'n_estimators': 100, 'min_child_weight': 5, 'max_depth': 12, 'learning_rate': 0.1, 'gamma': 1.5, 'colsample_bytree': 0.6}, {'subsample': 1.0, 'n_estimators': 100, 'min_child_weight': 7, 'max_depth': 10, 'learning_rate': 0.01, 'gamma': 1.5, 'colsample_bytree': 0.8}, {'subsample': 0.8, 'n_estimators': 100, 'min_child_weight': 5, 'max_depth': 12, 'learning_rate': 0.01, 'gamma': 5, 'colsample_bytree': 0.6}, {'subsample': 1.0, 'n_estimators': 200, 'min_child_weight': 7, 'max_depth': 4, 'learning_rate': 0.02, 'gamma': 0.5, 'colsample_bytree': 0.8}, {'subsample': 1.0, 'n_estimators': 500, 'min_child_weight': 5, 'max_depth': 4, 'learning_rate': 0.05, 'gamma': 1.5, 'colsample_bytree': 1.0}, {'subsample': 1.0, 'n_estimators': 100, 'min_child_weight': 5, 'max_depth': 3, 'learning_rate': 0.05, 'gamma': 0.5, 'colsample_bytree': 1.0}, {'subsample': 1.0, 'n_estimators': 500, 'min_child_weight': 5, 'max_depth': 12, 'learning_rate': 0.1, 'gamma': 0.5, 'colsample_bytree': 0.8}, {'subsample': 0.6, 'n_estimators': 200, 'min_child_weight': 1, 'max_depth': 10, 'learning_rate': 0.02, 'gamma': 1, 'colsample_bytree': 1.0}, {'subsample': 1.0, 'n_estimators': 100, 'min_child_weight': 7, 'max_depth': 4, 'learning_rate': 0.25, 'gamma': 0.1, 'colsample_bytree': 0.6}, {'subsample': 0.8, 'n_estimators': 100, 'min_child_weight': 5, 'max_depth': 3, 'learning_rate': 0.1, 'gamma': 0.1, 'colsample_bytree': 0.6}, {'subsample': 0.8, 'n_estimators': 500, 'min_child_weight': 1, 'max_depth': 12, 'learning_rate': 0.05, 'gamma': 1.5, 'colsample_bytree': 0.6}, {'subsample': 0.8, 'n_estimators': 500, 'min_child_weight': 10, 'max_depth': 5, 'learning_rate': 0.25, 'gamma': 0.1, 'colsample_bytree': 1.0}, {'subsample': 0.6, 'n_estimators': 200, 'min_child_weight': 7, 'max_depth': 3, 'learning_rate': 0.05, 'gamma': 1.5, 'colsample_bytree': 0.8}, {'subsample': 0.6, 'n_estimators': 100, 'min_child_weight': 7, 'max_depth': 3, 'learning_rate': 0.01, 'gamma': 5, 'colsample_bytree': 0.6}, {'subsample': 1.0, 'n_estimators': 500, 'min_child_weight': 10, 'max_depth': 12, 'learning_rate': 0.02, 'gamma': 0.5, 'colsample_bytree': 0.8}, {'subsample': 0.8, 'n_estimators': 100, 'min_child_weight': 5, 'max_depth': 4, 'learning_rate': 0.1, 'gamma': 0.5, 'colsample_bytree': 0.8}, {'subsample': 0.6, 'n_estimators': 500, 'min_child_weight': 10, 'max_depth': 5, 'learning_rate': 0.02, 'gamma': 1.5, 'colsample_bytree': 0.6}, {'subsample': 1.0, 'n_estimators': 200, 'min_child_weight': 7, 'max_depth': 10, 'learning_rate': 0.01, 'gamma': 0.1, 'colsample_bytree': 0.8}, {'subsample': 0.8, 'n_estimators': 200, 'min_child_weight': 5, 'max_depth': 4, 'learning_rate': 0.01, 'gamma': 5, 'colsample_bytree': 0.8}, {'subsample': 0.8, 'n_estimators': 200, 'min_child_weight': 7, 'max_depth': 4, 'learning_rate': 0.25, 'gamma': 5, 'colsample_bytree': 1.0}, {'subsample': 0.6, 'n_estimators': 750, 'min_child_weight': 10, 'max_depth': 3, 'learning_rate': 0.25, 'gamma': 1.5, 'colsample_bytree': 1.0}, {'subsample': 1.0, 'n_estimators': 500, 'min_child_weight': 10, 'max_depth': 5, 'learning_rate': 0.25, 'gamma': 5, 'colsample_bytree': 0.8}, {'subsample': 0.8, 'n_estimators': 500, 'min_child_weight': 5, 'max_depth': 10, 'learning_rate': 0.1, 'gamma': 5, 'colsample_bytree': 1.0}, {'subsample': 1.0, 'n_estimators': 500, 'min_child_weight': 7, 'max_depth': 5, 'learning_rate': 0.1, 'gamma': 0.1, 'colsample_bytree': 0.8}, {'subsample': 0.6, 'n_estimators': 100, 'min_child_weight': 7, 'max_depth': 10, 'learning_rate': 0.02, 'gamma': 0.1, 'colsample_bytree': 0.8}, {'subsample': 0.8, 'n_estimators': 200, 'min_child_weight': 7, 'max_depth': 3, 'learning_rate': 0.1, 'gamma': 0.5, 'colsample_bytree': 0.8}, {'subsample': 1.0, 'n_estimators': 750, 'min_child_weight': 5, 'max_depth': 4, 'learning_rate': 0.1, 'gamma': 1.5, 'colsample_bytree': 0.6}, {'subsample': 1.0, 'n_estimators': 500, 'min_child_weight': 10, 'max_depth': 10, 'learning_rate': 0.1, 'gamma': 1, 'colsample_bytree': 1.0}, {'subsample': 0.8, 'n_estimators': 750, 'min_child_weight': 10, 'max_depth': 12, 'learning_rate': 0.25, 'gamma': 5, 'colsample_bytree': 0.6}, {'subsample': 0.6, 'n_estimators': 200, 'min_child_weight': 5, 'max_depth': 12, 'learning_rate': 0.01, 'gamma': 5, 'colsample_bytree': 1.0}, {'subsample': 0.8, 'n_estimators': 100, 'min_child_weight': 7, 'max_depth': 3, 'learning_rate': 0.1, 'gamma': 0.5, 'colsample_bytree': 1.0}, {'subsample': 1.0, 'n_estimators': 750, 'min_child_weight': 5, 'max_depth': 10, 'learning_rate': 0.02, 'gamma': 1, 'colsample_bytree': 0.6}, {'subsample': 0.8, 'n_estimators': 100, 'min_child_weight': 10, 'max_depth': 5, 'learning_rate': 0.25, 'gamma': 1, 'colsample_bytree': 1.0}, {'subsample': 0.6, 'n_estimators': 500, 'min_child_weight': 7, 'max_depth': 5, 'learning_rate': 0.25, 'gamma': 0.1, 'colsample_bytree': 0.6}, {'subsample': 1.0, 'n_estimators': 750, 'min_child_weight': 10, 'max_depth': 3, 'learning_rate': 0.02, 'gamma': 1, 'colsample_bytree': 0.8}, {'subsample': 0.6, 'n_estimators': 500, 'min_child_weight': 10, 'max_depth': 10, 'learning_rate': 0.1, 'gamma': 1.5, 'colsample_bytree': 1.0}, {'subsample': 0.8, 'n_estimators': 200, 'min_child_weight': 7, 'max_depth': 5, 'learning_rate': 0.01, 'gamma': 1.5, 'colsample_bytree': 0.8}, {'subsample': 0.8, 'n_estimators': 500, 'min_child_weight': 5, 'max_depth': 12, 'learning_rate': 0.02, 'gamma': 0.5, 'colsample_bytree': 1.0}, {'subsample': 0.6, 'n_estimators': 100, 'min_child_weight': 10, 'max_depth': 10, 'learning_rate': 0.25, 'gamma': 5, 'colsample_bytree': 0.8}, {'subsample': 0.6, 'n_estimators': 750, 'min_child_weight': 10, 'max_depth': 4, 'learning_rate': 0.25, 'gamma': 0.5, 'colsample_bytree': 0.8}, {'subsample': 0.8, 'n_estimators': 200, 'min_child_weight': 1, 'max_depth': 10, 'learning_rate': 0.1, 'gamma': 1, 'colsample_bytree': 1.0}, {'subsample': 1.0, 'n_estimators': 200, 'min_child_weight': 7, 'max_depth': 12, 'learning_rate': 0.1, 'gamma': 0.5, 'colsample_bytree': 0.8}, {'subsample': 1.0, 'n_estimators': 500, 'min_child_weight': 10, 'max_depth': 10, 'learning_rate': 0.05, 'gamma': 1.5, 'colsample_bytree': 1.0}, {'subsample': 0.6, 'n_estimators': 750, 'min_child_weight': 7, 'max_depth': 10, 'learning_rate': 0.1, 'gamma': 0.5, 'colsample_bytree': 1.0}, {'subsample': 1.0, 'n_estimators': 750, 'min_child_weight': 10, 'max_depth': 3, 'learning_rate': 0.01, 'gamma': 5, 'colsample_bytree': 0.6}, {'subsample': 0.6, 'n_estimators': 100, 'min_child_weight': 7, 'max_depth': 10, 'learning_rate': 0.25, 'gamma': 1.5, 'colsample_bytree': 1.0}, {'subsample': 0.8, 'n_estimators': 750, 'min_child_weight': 5, 'max_depth': 12, 'learning_rate': 0.25, 'gamma': 5, 'colsample_bytree': 1.0}, {'subsample': 0.6, 'n_estimators': 200, 'min_child_weight': 1, 'max_depth': 10, 'learning_rate': 0.25, 'gamma': 5, 'colsample_bytree': 0.8}, {'subsample': 0.6, 'n_estimators': 750, 'min_child_weight': 1, 'max_depth': 3, 'learning_rate': 0.02, 'gamma': 1, 'colsample_bytree': 1.0}, {'subsample': 1.0, 'n_estimators': 500, 'min_child_weight': 5, 'max_depth': 4, 'learning_rate': 0.02, 'gamma': 1, 'colsample_bytree': 1.0}, {'subsample': 1.0, 'n_estimators': 750, 'min_child_weight': 1, 'max_depth': 10, 'learning_rate': 0.05, 'gamma': 0.1, 'colsample_bytree': 0.6}, {'subsample': 0.6, 'n_estimators': 100, 'min_child_weight': 10, 'max_depth': 4, 'learning_rate': 0.01, 'gamma': 1.5, 'colsample_bytree': 0.6}, {'subsample': 0.6, 'n_estimators': 500, 'min_child_weight': 5, 'max_depth': 3, 'learning_rate': 0.05, 'gamma': 1.5, 'colsample_bytree': 1.0}, {'subsample': 0.6, 'n_estimators': 500, 'min_child_weight': 7, 'max_depth': 4, 'learning_rate': 0.1, 'gamma': 0.1, 'colsample_bytree': 1.0}, {'subsample': 1.0, 'n_estimators': 500, 'min_child_weight': 1, 'max_depth': 12, 'learning_rate': 0.01, 'gamma': 0.5, 'colsample_bytree': 1.0}, {'subsample': 0.8, 'n_estimators': 200, 'min_child_weight': 10, 'max_depth': 4, 'learning_rate': 0.01, 'gamma': 1, 'colsample_bytree': 1.0}, {'subsample': 0.8, 'n_estimators': 200, 'min_child_weight': 1, 'max_depth': 12, 'learning_rate': 0.02, 'gamma': 1.5, 'colsample_bytree': 0.8}, {'subsample': 1.0, 'n_estimators': 500, 'min_child_weight': 1, 'max_depth': 12, 'learning_rate': 0.01, 'gamma': 0.1, 'colsample_bytree': 0.6}, {'subsample': 0.8, 'n_estimators': 500, 'min_child_weight': 5, 'max_depth': 3, 'learning_rate': 0.1, 'gamma': 5, 'colsample_bytree': 1.0}, {'subsample': 1.0, 'n_estimators': 100, 'min_child_weight': 10, 'max_depth': 10, 'learning_rate': 0.25, 'gamma': 1.5, 'colsample_bytree': 1.0}, {'subsample': 0.8, 'n_estimators': 750, 'min_child_weight': 5, 'max_depth': 5, 'learning_rate': 0.01, 'gamma': 1, 'colsample_bytree': 0.6}, {'subsample': 0.8, 'n_estimators': 500, 'min_child_weight': 10, 'max_depth': 10, 'learning_rate': 0.25, 'gamma': 1, 'colsample_bytree': 0.6}, {'subsample': 0.6, 'n_estimators': 100, 'min_child_weight': 7, 'max_depth': 4, 'learning_rate': 0.25, 'gamma': 0.5, 'colsample_bytree': 0.6}, {'subsample': 0.6, 'n_estimators': 200, 'min_child_weight': 10, 'max_depth': 4, 'learning_rate': 0.25, 'gamma': 5, 'colsample_bytree': 0.8}, {'subsample': 1.0, 'n_estimators': 750, 'min_child_weight': 1, 'max_depth': 4, 'learning_rate': 0.05, 'gamma': 5, 'colsample_bytree': 0.8}, {'subsample': 0.8, 'n_estimators': 500, 'min_child_weight': 5, 'max_depth': 5, 'learning_rate': 0.25, 'gamma': 0.1, 'colsample_bytree': 0.8}, {'subsample': 0.8, 'n_estimators': 100, 'min_child_weight': 5, 'max_depth': 10, 'learning_rate': 0.01, 'gamma': 0.1, 'colsample_bytree': 0.8}, {'subsample': 0.6, 'n_estimators': 100, 'min_child_weight': 5, 'max_depth': 3, 'learning_rate': 0.01, 'gamma': 5, 'colsample_bytree': 0.6}, {'subsample': 0.6, 'n_estimators': 750, 'min_child_weight': 7, 'max_depth': 3, 'learning_rate': 0.05, 'gamma': 0.5, 'colsample_bytree': 0.6}, {'subsample': 1.0, 'n_estimators': 750, 'min_child_weight': 1, 'max_depth': 3, 'learning_rate': 0.01, 'gamma': 1.5, 'colsample_bytree': 1.0}, {'subsample': 0.8, 'n_estimators': 500, 'min_child_weight': 5, 'max_depth': 12, 'learning_rate': 0.25, 'gamma': 1, 'colsample_bytree': 0.6}, {'subsample': 0.6, 'n_estimators': 200, 'min_child_weight': 5, 'max_depth': 3, 'learning_rate': 0.1, 'gamma': 5, 'colsample_bytree': 0.6}, {'subsample': 1.0, 'n_estimators': 100, 'min_child_weight': 1, 'max_depth': 4, 'learning_rate': 0.25, 'gamma': 1, 'colsample_bytree': 0.6}, {'subsample': 1.0, 'n_estimators': 500, 'min_child_weight': 5, 'max_depth': 3, 'learning_rate': 0.05, 'gamma': 1.5, 'colsample_bytree': 0.8}, {'subsample': 0.6, 'n_estimators': 100, 'min_child_weight': 7, 'max_depth': 12, 'learning_rate': 0.1, 'gamma': 5, 'colsample_bytree': 0.6}, {'subsample': 0.8, 'n_estimators': 100, 'min_child_weight': 5, 'max_depth': 4, 'learning_rate': 0.01, 'gamma': 0.5, 'colsample_bytree': 0.6}, {'subsample': 0.6, 'n_estimators': 750, 'min_child_weight': 7, 'max_depth': 5, 'learning_rate': 0.05, 'gamma': 0.5, 'colsample_bytree': 0.8}, {'subsample': 0.6, 'n_estimators': 500, 'min_child_weight': 10, 'max_depth': 12, 'learning_rate': 0.01, 'gamma': 1.5, 'colsample_bytree': 0.8}, {'subsample': 0.6, 'n_estimators': 750, 'min_child_weight': 10, 'max_depth': 4, 'learning_rate': 0.05, 'gamma': 0.1, 'colsample_bytree': 1.0}, {'subsample': 0.6, 'n_estimators': 200, 'min_child_weight': 1, 'max_depth': 3, 'learning_rate': 0.01, 'gamma': 1.5, 'colsample_bytree': 0.6}, {'subsample': 1.0, 'n_estimators': 100, 'min_child_weight': 5, 'max_depth': 4, 'learning_rate': 0.01, 'gamma': 0.5, 'colsample_bytree': 1.0}, {'subsample': 1.0, 'n_estimators': 100, 'min_child_weight': 7, 'max_depth': 5, 'learning_rate': 0.25, 'gamma': 0.5, 'colsample_bytree': 0.8}, {'subsample': 0.8, 'n_estimators': 500, 'min_child_weight': 5, 'max_depth': 5, 'learning_rate': 0.25, 'gamma': 0.5, 'colsample_bytree': 1.0}, {'subsample': 1.0, 'n_estimators': 200, 'min_child_weight': 1, 'max_depth': 3, 'learning_rate': 0.1, 'gamma': 1, 'colsample_bytree': 0.6}, {'subsample': 0.8, 'n_estimators': 500, 'min_child_weight': 7, 'max_depth': 10, 'learning_rate': 0.02, 'gamma': 0.5, 'colsample_bytree': 0.8}, {'subsample': 0.8, 'n_estimators': 100, 'min_child_weight': 5, 'max_depth': 12, 'learning_rate': 0.1, 'gamma': 5, 'colsample_bytree': 0.6}, {'subsample': 0.8, 'n_estimators': 200, 'min_child_weight': 1, 'max_depth': 3, 'learning_rate': 0.05, 'gamma': 0.1, 'colsample_bytree': 1.0}, {'subsample': 0.8, 'n_estimators': 750, 'min_child_weight': 1, 'max_depth': 12, 'learning_rate': 0.25, 'gamma': 1.5, 'colsample_bytree': 1.0}, {'subsample': 0.8, 'n_estimators': 100, 'min_child_weight': 5, 'max_depth': 3, 'learning_rate': 0.25, 'gamma': 0.1, 'colsample_bytree': 1.0}, {'subsample': 1.0, 'n_estimators': 100, 'min_child_weight': 1, 'max_depth': 4, 'learning_rate': 0.02, 'gamma': 0.1, 'colsample_bytree': 0.6}, {'subsample': 0.6, 'n_estimators': 500, 'min_child_weight': 1, 'max_depth': 12, 'learning_rate': 0.1, 'gamma': 1.5, 'colsample_bytree': 0.6}, {'subsample': 0.6, 'n_estimators': 500, 'min_child_weight': 5, 'max_depth': 12, 'learning_rate': 0.1, 'gamma': 0.1, 'colsample_bytree': 1.0}, {'subsample': 0.6, 'n_estimators': 750, 'min_child_weight': 1, 'max_depth': 10, 'learning_rate': 0.01, 'gamma': 5, 'colsample_bytree': 1.0}, {'subsample': 1.0, 'n_estimators': 100, 'min_child_weight': 5, 'max_depth': 5, 'learning_rate': 0.1, 'gamma': 5, 'colsample_bytree': 0.8}, {'subsample': 1.0, 'n_estimators': 500, 'min_child_weight': 1, 'max_depth': 5, 'learning_rate': 0.25, 'gamma': 0.5, 'colsample_bytree': 1.0}, {'subsample': 0.6, 'n_estimators': 500, 'min_child_weight': 10, 'max_depth': 10, 'learning_rate': 0.1, 'gamma': 1.5, 'colsample_bytree': 0.6}, {'subsample': 1.0, 'n_estimators': 100, 'min_child_weight': 5, 'max_depth': 12, 'learning_rate': 0.25, 'gamma': 1, 'colsample_bytree': 0.8}, {'subsample': 1.0, 'n_estimators': 500, 'min_child_weight': 7, 'max_depth': 3, 'learning_rate': 0.25, 'gamma': 5, 'colsample_bytree': 0.6}, {'subsample': 0.8, 'n_estimators': 100, 'min_child_weight': 7, 'max_depth': 10, 'learning_rate': 0.05, 'gamma': 0.1, 'colsample_bytree': 0.8}, {'subsample': 0.6, 'n_estimators': 100, 'min_child_weight': 10, 'max_depth': 10, 'learning_rate': 0.02, 'gamma': 1, 'colsample_bytree': 0.6}, {'subsample': 0.6, 'n_estimators': 100, 'min_child_weight': 10, 'max_depth': 12, 'learning_rate': 0.05, 'gamma': 0.5, 'colsample_bytree': 0.8}, {'subsample': 0.8, 'n_estimators': 500, 'min_child_weight': 10, 'max_depth': 3, 'learning_rate': 0.02, 'gamma': 5, 'colsample_bytree': 0.6}, {'subsample': 1.0, 'n_estimators': 500, 'min_child_weight': 1, 'max_depth': 4, 'learning_rate': 0.01, 'gamma': 1.5, 'colsample_bytree': 0.6}, {'subsample': 0.8, 'n_estimators': 200, 'min_child_weight': 10, 'max_depth': 10, 'learning_rate': 0.25, 'gamma': 0.1, 'colsample_bytree': 0.6}, {'subsample': 0.8, 'n_estimators': 500, 'min_child_weight': 1, 'max_depth': 5, 'learning_rate': 0.01, 'gamma': 0.1, 'colsample_bytree': 0.6}, {'subsample': 1.0, 'n_estimators': 500, 'min_child_weight': 10, 'max_depth': 5, 'learning_rate': 0.05, 'gamma': 0.1, 'colsample_bytree': 1.0}, {'subsample': 0.6, 'n_estimators': 500, 'min_child_weight': 5, 'max_depth': 5, 'learning_rate': 0.1, 'gamma': 1, 'colsample_bytree': 0.8}, {'subsample': 0.6, 'n_estimators': 100, 'min_child_weight': 1, 'max_depth': 3, 'learning_rate': 0.1, 'gamma': 0.5, 'colsample_bytree': 0.8}, {'subsample': 0.6, 'n_estimators': 100, 'min_child_weight': 10, 'max_depth': 3, 'learning_rate': 0.02, 'gamma': 1, 'colsample_bytree': 0.6}, {'subsample': 1.0, 'n_estimators': 750, 'min_child_weight': 1, 'max_depth': 10, 'learning_rate': 0.01, 'gamma': 0.5, 'colsample_bytree': 0.6}, {'subsample': 1.0, 'n_estimators': 200, 'min_child_weight': 1, 'max_depth': 5, 'learning_rate': 0.01, 'gamma': 0.1, 'colsample_bytree': 0.6}, {'subsample': 1.0, 'n_estimators': 500, 'min_child_weight': 7, 'max_depth': 3, 'learning_rate': 0.1, 'gamma': 1.5, 'colsample_bytree': 0.8}, {'subsample': 0.8, 'n_estimators': 500, 'min_child_weight': 1, 'max_depth': 12, 'learning_rate': 0.05, 'gamma': 1, 'colsample_bytree': 0.6}, {'subsample': 0.6, 'n_estimators': 200, 'min_child_weight': 5, 'max_depth': 4, 'learning_rate': 0.02, 'gamma': 1.5, 'colsample_bytree': 0.6}, {'subsample': 0.6, 'n_estimators': 100, 'min_child_weight': 7, 'max_depth': 4, 'learning_rate': 0.25, 'gamma': 5, 'colsample_bytree': 0.8}, {'subsample': 1.0, 'n_estimators': 200, 'min_child_weight': 1, 'max_depth': 3, 'learning_rate': 0.02, 'gamma': 1.5, 'colsample_bytree': 0.8}, {'subsample': 0.6, 'n_estimators': 200, 'min_child_weight': 7, 'max_depth': 4, 'learning_rate': 0.02, 'gamma': 0.1, 'colsample_bytree': 1.0}, {'subsample': 0.6, 'n_estimators': 500, 'min_child_weight': 10, 'max_depth': 5, 'learning_rate': 0.25, 'gamma': 0.1, 'colsample_bytree': 1.0}, {'subsample': 0.8, 'n_estimators': 200, 'min_child_weight': 10, 'max_depth': 10, 'learning_rate': 0.05, 'gamma': 0.1, 'colsample_bytree': 1.0}, {'subsample': 0.6, 'n_estimators': 500, 'min_child_weight': 10, 'max_depth': 12, 'learning_rate': 0.05, 'gamma': 0.5, 'colsample_bytree': 0.8}, {'subsample': 0.6, 'n_estimators': 500, 'min_child_weight': 7, 'max_depth': 5, 'learning_rate': 0.1, 'gamma': 5, 'colsample_bytree': 1.0}, {'subsample': 0.6, 'n_estimators': 200, 'min_child_weight': 5, 'max_depth': 4, 'learning_rate': 0.02, 'gamma': 1, 'colsample_bytree': 0.8}, {'subsample': 1.0, 'n_estimators': 100, 'min_child_weight': 5, 'max_depth': 5, 'learning_rate': 0.1, 'gamma': 0.5, 'colsample_bytree': 0.8}, {'subsample': 0.6, 'n_estimators': 200, 'min_child_weight': 7, 'max_depth': 10, 'learning_rate': 0.1, 'gamma': 0.1, 'colsample_bytree': 0.8}, {'subsample': 0.6, 'n_estimators': 100, 'min_child_weight': 1, 'max_depth': 3, 'learning_rate': 0.02, 'gamma': 1.5, 'colsample_bytree': 1.0}, {'subsample': 1.0, 'n_estimators': 100, 'min_child_weight': 10, 'max_depth': 5, 'learning_rate': 0.01, 'gamma': 5, 'colsample_bytree': 1.0}, {'subsample': 0.6, 'n_estimators': 200, 'min_child_weight': 5, 'max_depth': 5, 'learning_rate': 0.25, 'gamma': 5, 'colsample_bytree': 0.6}, {'subsample': 0.6, 'n_estimators': 500, 'min_child_weight': 5, 'max_depth': 12, 'learning_rate': 0.05, 'gamma': 0.5, 'colsample_bytree': 0.6}, {'subsample': 0.8, 'n_estimators': 100, 'min_child_weight': 7, 'max_depth': 5, 'learning_rate': 0.1, 'gamma': 1, 'colsample_bytree': 1.0}, {'subsample': 0.8, 'n_estimators': 200, 'min_child_weight': 1, 'max_depth': 3, 'learning_rate': 0.25, 'gamma': 5, 'colsample_bytree': 1.0}, {'subsample': 0.8, 'n_estimators': 100, 'min_child_weight': 5, 'max_depth': 10, 'learning_rate': 0.02, 'gamma': 1, 'colsample_bytree': 0.6}, {'subsample': 0.8, 'n_estimators': 750, 'min_child_weight': 7, 'max_depth': 10, 'learning_rate': 0.05, 'gamma': 1, 'colsample_bytree': 1.0}, {'subsample': 0.6, 'n_estimators': 100, 'min_child_weight': 1, 'max_depth': 10, 'learning_rate': 0.01, 'gamma': 0.5, 'colsample_bytree': 0.8}, {'subsample': 0.8, 'n_estimators': 200, 'min_child_weight': 5, 'max_depth': 5, 'learning_rate': 0.05, 'gamma': 0.5, 'colsample_bytree': 0.8}, {'subsample': 0.6, 'n_estimators': 750, 'min_child_weight': 7, 'max_depth': 5, 'learning_rate': 0.1, 'gamma': 1.5, 'colsample_bytree': 0.6}, {'subsample': 0.8, 'n_estimators': 750, 'min_child_weight': 1, 'max_depth': 10, 'learning_rate': 0.02, 'gamma': 0.5, 'colsample_bytree': 1.0}, {'subsample': 0.6, 'n_estimators': 100, 'min_child_weight': 1, 'max_depth': 10, 'learning_rate': 0.1, 'gamma': 1.5, 'colsample_bytree': 1.0}, {'subsample': 1.0, 'n_estimators': 750, 'min_child_weight': 1, 'max_depth': 12, 'learning_rate': 0.25, 'gamma': 0.1, 'colsample_bytree': 0.6}, {'subsample': 1.0, 'n_estimators': 200, 'min_child_weight': 1, 'max_depth': 4, 'learning_rate': 0.1, 'gamma': 5, 'colsample_bytree': 0.8}, {'subsample': 0.6, 'n_estimators': 100, 'min_child_weight': 10, 'max_depth': 4, 'learning_rate': 0.25, 'gamma': 0.1, 'colsample_bytree': 0.8}, {'subsample': 0.8, 'n_estimators': 750, 'min_child_weight': 10, 'max_depth': 10, 'learning_rate': 0.25, 'gamma': 0.1, 'colsample_bytree': 1.0}, {'subsample': 0.8, 'n_estimators': 750, 'min_child_weight': 7, 'max_depth': 4, 'learning_rate': 0.02, 'gamma': 0.1, 'colsample_bytree': 0.6}, {'subsample': 0.6, 'n_estimators': 100, 'min_child_weight': 5, 'max_depth': 4, 'learning_rate': 0.05, 'gamma': 1, 'colsample_bytree': 0.8}, {'subsample': 1.0, 'n_estimators': 500, 'min_child_weight': 10, 'max_depth': 3, 'learning_rate': 0.05, 'gamma': 0.5, 'colsample_bytree': 1.0}, {'subsample': 1.0, 'n_estimators': 200, 'min_child_weight': 10, 'max_depth': 4, 'learning_rate': 0.01, 'gamma': 0.5, 'colsample_bytree': 1.0}, {'subsample': 0.8, 'n_estimators': 500, 'min_child_weight': 10, 'max_depth': 12, 'learning_rate': 0.01, 'gamma': 5, 'colsample_bytree': 1.0}, {'subsample': 0.6, 'n_estimators': 200, 'min_child_weight': 5, 'max_depth': 12, 'learning_rate': 0.1, 'gamma': 1.5, 'colsample_bytree': 0.8}, {'subsample': 0.6, 'n_estimators': 500, 'min_child_weight': 1, 'max_depth': 4, 'learning_rate': 0.05, 'gamma': 1, 'colsample_bytree': 1.0}, {'subsample': 0.8, 'n_estimators': 750, 'min_child_weight': 1, 'max_depth': 3, 'learning_rate': 0.01, 'gamma': 0.5, 'colsample_bytree': 1.0}, {'subsample': 1.0, 'n_estimators': 500, 'min_child_weight': 1, 'max_depth': 10, 'learning_rate': 0.25, 'gamma': 0.1, 'colsample_bytree': 1.0}, {'subsample': 0.6, 'n_estimators': 500, 'min_child_weight': 7, 'max_depth': 12, 'learning_rate': 0.02, 'gamma': 1, 'colsample_bytree': 0.6}, {'subsample': 0.8, 'n_estimators': 500, 'min_child_weight': 5, 'max_depth': 12, 'learning_rate': 0.01, 'gamma': 0.1, 'colsample_bytree': 0.8}, {'subsample': 0.6, 'n_estimators': 750, 'min_child_weight': 1, 'max_depth': 3, 'learning_rate': 0.01, 'gamma': 5, 'colsample_bytree': 1.0}, {'subsample': 1.0, 'n_estimators': 750, 'min_child_weight': 10, 'max_depth': 4, 'learning_rate': 0.02, 'gamma': 0.5, 'colsample_bytree': 1.0}, {'subsample': 1.0, 'n_estimators': 500, 'min_child_weight': 7, 'max_depth': 10, 'learning_rate': 0.05, 'gamma': 1.5, 'colsample_bytree': 0.6}, {'subsample': 1.0, 'n_estimators': 100, 'min_child_weight': 5, 'max_depth': 3, 'learning_rate': 0.05, 'gamma': 5, 'colsample_bytree': 0.6}, {'subsample': 0.8, 'n_estimators': 100, 'min_child_weight': 5, 'max_depth': 3, 'learning_rate': 0.1, 'gamma': 5, 'colsample_bytree': 1.0}, {'subsample': 0.6, 'n_estimators': 750, 'min_child_weight': 10, 'max_depth': 12, 'learning_rate': 0.1, 'gamma': 0.5, 'colsample_bytree': 0.6}, {'subsample': 0.6, 'n_estimators': 500, 'min_child_weight': 1, 'max_depth': 10, 'learning_rate': 0.25, 'gamma': 5, 'colsample_bytree': 0.8}, {'subsample': 0.8, 'n_estimators': 750, 'min_child_weight': 7, 'max_depth': 3, 'learning_rate': 0.02, 'gamma': 0.1, 'colsample_bytree': 1.0}, {'subsample': 0.8, 'n_estimators': 750, 'min_child_weight': 10, 'max_depth': 4, 'learning_rate': 0.1, 'gamma': 1, 'colsample_bytree': 0.6}, {'subsample': 1.0, 'n_estimators': 500, 'min_child_weight': 5, 'max_depth': 10, 'learning_rate': 0.02, 'gamma': 5, 'colsample_bytree': 0.8}, {'subsample': 1.0, 'n_estimators': 200, 'min_child_weight': 10, 'max_depth': 4, 'learning_rate': 0.05, 'gamma': 5, 'colsample_bytree': 1.0}, {'subsample': 1.0, 'n_estimators': 750, 'min_child_weight': 1, 'max_depth': 3, 'learning_rate': 0.1, 'gamma': 0.5, 'colsample_bytree': 0.8}, {'subsample': 0.8, 'n_estimators': 200, 'min_child_weight': 10, 'max_depth': 4, 'learning_rate': 0.1, 'gamma': 0.1, 'colsample_bytree': 0.8}, {'subsample': 1.0, 'n_estimators': 200, 'min_child_weight': 1, 'max_depth': 3, 'learning_rate': 0.25, 'gamma': 0.1, 'colsample_bytree': 1.0}, {'subsample': 0.8, 'n_estimators': 750, 'min_child_weight': 10, 'max_depth': 5, 'learning_rate': 0.01, 'gamma': 1, 'colsample_bytree': 1.0}, {'subsample': 1.0, 'n_estimators': 750, 'min_child_weight': 1, 'max_depth': 3, 'learning_rate': 0.05, 'gamma': 0.1, 'colsample_bytree': 0.8}, {'subsample': 0.8, 'n_estimators': 200, 'min_child_weight': 10, 'max_depth': 4, 'learning_rate': 0.25, 'gamma': 5, 'colsample_bytree': 0.8}, {'subsample': 0.8, 'n_estimators': 500, 'min_child_weight': 1, 'max_depth': 4, 'learning_rate': 0.01, 'gamma': 5, 'colsample_bytree': 0.8}, {'subsample': 0.6, 'n_estimators': 100, 'min_child_weight': 10, 'max_depth': 12, 'learning_rate': 0.05, 'gamma': 0.1, 'colsample_bytree': 0.6}, {'subsample': 1.0, 'n_estimators': 200, 'min_child_weight': 7, 'max_depth': 4, 'learning_rate': 0.1, 'gamma': 1.5, 'colsample_bytree': 0.6}, {'subsample': 0.8, 'n_estimators': 200, 'min_child_weight': 5, 'max_depth': 4, 'learning_rate': 0.01, 'gamma': 0.1, 'colsample_bytree': 0.8}, {'subsample': 0.6, 'n_estimators': 100, 'min_child_weight': 7, 'max_depth': 12, 'learning_rate': 0.05, 'gamma': 5, 'colsample_bytree': 0.6}, {'subsample': 0.8, 'n_estimators': 750, 'min_child_weight': 10, 'max_depth': 5, 'learning_rate': 0.02, 'gamma': 1.5, 'colsample_bytree': 0.8}, {'subsample': 0.8, 'n_estimators': 500, 'min_child_weight': 1, 'max_depth': 5, 'learning_rate': 0.05, 'gamma': 1, 'colsample_bytree': 0.8}, {'subsample': 0.6, 'n_estimators': 500, 'min_child_weight': 5, 'max_depth': 4, 'learning_rate': 0.25, 'gamma': 0.1, 'colsample_bytree': 0.6}, {'subsample': 1.0, 'n_estimators': 200, 'min_child_weight': 7, 'max_depth': 5, 'learning_rate': 0.05, 'gamma': 5, 'colsample_bytree': 0.6}, {'subsample': 0.8, 'n_estimators': 200, 'min_child_weight': 7, 'max_depth': 3, 'learning_rate': 0.01, 'gamma': 1.5, 'colsample_bytree': 1.0}, {'subsample': 0.8, 'n_estimators': 500, 'min_child_weight': 7, 'max_depth': 3, 'learning_rate': 0.25, 'gamma': 0.1, 'colsample_bytree': 0.8}, {'subsample': 0.6, 'n_estimators': 750, 'min_child_weight': 10, 'max_depth': 12, 'learning_rate': 0.05, 'gamma': 5, 'colsample_bytree': 1.0}, {'subsample': 1.0, 'n_estimators': 100, 'min_child_weight': 7, 'max_depth': 5, 'learning_rate': 0.25, 'gamma': 1.5, 'colsample_bytree': 0.6}, {'subsample': 0.6, 'n_estimators': 750, 'min_child_weight': 5, 'max_depth': 10, 'learning_rate': 0.05, 'gamma': 1.5, 'colsample_bytree': 0.6}, {'subsample': 0.6, 'n_estimators': 200, 'min_child_weight': 7, 'max_depth': 5, 'learning_rate': 0.01, 'gamma': 0.1, 'colsample_bytree': 0.6}, {'subsample': 0.6, 'n_estimators': 100, 'min_child_weight': 5, 'max_depth': 12, 'learning_rate': 0.01, 'gamma': 1.5, 'colsample_bytree': 1.0}, {'subsample': 0.8, 'n_estimators': 200, 'min_child_weight': 10, 'max_depth': 10, 'learning_rate': 0.05, 'gamma': 5, 'colsample_bytree': 0.6}, {'subsample': 0.6, 'n_estimators': 750, 'min_child_weight': 5, 'max_depth': 5, 'learning_rate': 0.02, 'gamma': 5, 'colsample_bytree': 1.0}, {'subsample': 1.0, 'n_estimators': 200, 'min_child_weight': 10, 'max_depth': 5, 'learning_rate': 0.1, 'gamma': 5, 'colsample_bytree': 0.6}, {'subsample': 1.0, 'n_estimators': 750, 'min_child_weight': 10, 'max_depth': 3, 'learning_rate': 0.25, 'gamma': 5, 'colsample_bytree': 0.8}, {'subsample': 1.0, 'n_estimators': 100, 'min_child_weight': 10, 'max_depth': 4, 'learning_rate': 0.02, 'gamma': 1, 'colsample_bytree': 0.6}, {'subsample': 0.8, 'n_estimators': 100, 'min_child_weight': 5, 'max_depth': 5, 'learning_rate': 0.25, 'gamma': 5, 'colsample_bytree': 1.0}, {'subsample': 0.6, 'n_estimators': 100, 'min_child_weight': 5, 'max_depth': 12, 'learning_rate': 0.25, 'gamma': 1.5, 'colsample_bytree': 0.6}, {'subsample': 0.6, 'n_estimators': 500, 'min_child_weight': 10, 'max_depth': 10, 'learning_rate': 0.02, 'gamma': 1, 'colsample_bytree': 0.6}, {'subsample': 0.6, 'n_estimators': 500, 'min_child_weight': 7, 'max_depth': 10, 'learning_rate': 0.05, 'gamma': 1.5, 'colsample_bytree': 0.8}, {'subsample': 1.0, 'n_estimators': 750, 'min_child_weight': 7, 'max_depth': 10, 'learning_rate': 0.05, 'gamma': 0.5, 'colsample_bytree': 0.8}, {'subsample': 0.8, 'n_estimators': 100, 'min_child_weight': 5, 'max_depth': 10, 'learning_rate': 0.05, 'gamma': 0.1, 'colsample_bytree': 1.0}, {'subsample': 1.0, 'n_estimators': 100, 'min_child_weight': 10, 'max_depth': 4, 'learning_rate': 0.01, 'gamma': 0.5, 'colsample_bytree': 0.8}, {'subsample': 0.8, 'n_estimators': 200, 'min_child_weight': 1, 'max_depth': 3, 'learning_rate': 0.01, 'gamma': 5, 'colsample_bytree': 1.0}, {'subsample': 1.0, 'n_estimators': 500, 'min_child_weight': 7, 'max_depth': 4, 'learning_rate': 0.25, 'gamma': 0.1, 'colsample_bytree': 0.8}, {'subsample': 0.6, 'n_estimators': 500, 'min_child_weight': 7, 'max_depth': 4, 'learning_rate': 0.1, 'gamma': 5, 'colsample_bytree': 1.0}, {'subsample': 1.0, 'n_estimators': 200, 'min_child_weight': 7, 'max_depth': 5, 'learning_rate': 0.25, 'gamma': 0.1, 'colsample_bytree': 0.8}, {'subsample': 0.6, 'n_estimators': 100, 'min_child_weight': 10, 'max_depth': 3, 'learning_rate': 0.05, 'gamma': 1.5, 'colsample_bytree': 0.6}, {'subsample': 0.8, 'n_estimators': 200, 'min_child_weight': 10, 'max_depth': 10, 'learning_rate': 0.01, 'gamma': 0.5, 'colsample_bytree': 1.0}, {'subsample': 0.8, 'n_estimators': 200, 'min_child_weight': 7, 'max_depth': 4, 'learning_rate': 0.02, 'gamma': 0.5, 'colsample_bytree': 0.8}, {'subsample': 0.8, 'n_estimators': 500, 'min_child_weight': 1, 'max_depth': 4, 'learning_rate': 0.05, 'gamma': 5, 'colsample_bytree': 1.0}, {'subsample': 0.6, 'n_estimators': 750, 'min_child_weight': 10, 'max_depth': 10, 'learning_rate': 0.05, 'gamma': 1.5, 'colsample_bytree': 0.6}, {'subsample': 1.0, 'n_estimators': 100, 'min_child_weight': 10, 'max_depth': 4, 'learning_rate': 0.05, 'gamma': 1.5, 'colsample_bytree': 1.0}, {'subsample': 0.6, 'n_estimators': 200, 'min_child_weight': 10, 'max_depth': 3, 'learning_rate': 0.25, 'gamma': 5, 'colsample_bytree': 0.8}, {'subsample': 1.0, 'n_estimators': 500, 'min_child_weight': 10, 'max_depth': 3, 'learning_rate': 0.1, 'gamma': 5, 'colsample_bytree': 0.6}, {'subsample': 1.0, 'n_estimators': 200, 'min_child_weight': 1, 'max_depth': 10, 'learning_rate': 0.1, 'gamma': 1, 'colsample_bytree': 0.6}, {'subsample': 0.8, 'n_estimators': 500, 'min_child_weight': 7, 'max_depth': 3, 'learning_rate': 0.1, 'gamma': 0.1, 'colsample_bytree': 0.6}, {'subsample': 1.0, 'n_estimators': 750, 'min_child_weight': 1, 'max_depth': 4, 'learning_rate': 0.01, 'gamma': 0.1, 'colsample_bytree': 0.6}, {'subsample': 0.8, 'n_estimators': 500, 'min_child_weight': 10, 'max_depth': 3, 'learning_rate': 0.05, 'gamma': 0.1, 'colsample_bytree': 1.0}, {'subsample': 1.0, 'n_estimators': 500, 'min_child_weight': 1, 'max_depth': 3, 'learning_rate': 0.1, 'gamma': 1.5, 'colsample_bytree': 0.6}, {'subsample': 0.8, 'n_estimators': 750, 'min_child_weight': 5, 'max_depth': 10, 'learning_rate': 0.05, 'gamma': 5, 'colsample_bytree': 0.6}, {'subsample': 1.0, 'n_estimators': 200, 'min_child_weight': 10, 'max_depth': 12, 'learning_rate': 0.1, 'gamma': 1, 'colsample_bytree': 0.8}, {'subsample': 0.6, 'n_estimators': 200, 'min_child_weight': 5, 'max_depth': 3, 'learning_rate': 0.25, 'gamma': 1, 'colsample_bytree': 1.0}, {'subsample': 1.0, 'n_estimators': 750, 'min_child_weight': 1, 'max_depth': 4, 'learning_rate': 0.01, 'gamma': 1.5, 'colsample_bytree': 1.0}, {'subsample': 1.0, 'n_estimators': 100, 'min_child_weight': 7, 'max_depth': 12, 'learning_rate': 0.1, 'gamma': 1.5, 'colsample_bytree': 0.8}, {'subsample': 0.8, 'n_estimators': 500, 'min_child_weight': 1, 'max_depth': 4, 'learning_rate': 0.25, 'gamma': 1.5, 'colsample_bytree': 0.8}, {'subsample': 0.8, 'n_estimators': 200, 'min_child_weight': 10, 'max_depth': 10, 'learning_rate': 0.05, 'gamma': 0.1, 'colsample_bytree': 0.8}, {'subsample': 0.8, 'n_estimators': 500, 'min_child_weight': 7, 'max_depth': 12, 'learning_rate': 0.01, 'gamma': 5, 'colsample_bytree': 0.6}, {'subsample': 0.6, 'n_estimators': 100, 'min_child_weight': 7, 'max_depth': 12, 'learning_rate': 0.1, 'gamma': 1.5, 'colsample_bytree': 0.8}, {'subsample': 0.6, 'n_estimators': 200, 'min_child_weight': 1, 'max_depth': 3, 'learning_rate': 0.25, 'gamma': 5, 'colsample_bytree': 0.6}, {'subsample': 1.0, 'n_estimators': 100, 'min_child_weight': 5, 'max_depth': 3, 'learning_rate': 0.25, 'gamma': 0.5, 'colsample_bytree': 0.6}, {'subsample': 0.8, 'n_estimators': 200, 'min_child_weight': 10, 'max_depth': 4, 'learning_rate': 0.25, 'gamma': 5, 'colsample_bytree': 0.6}, {'subsample': 0.8, 'n_estimators': 500, 'min_child_weight': 1, 'max_depth': 12, 'learning_rate': 0.01, 'gamma': 5, 'colsample_bytree': 0.6}, {'subsample': 0.8, 'n_estimators': 750, 'min_child_weight': 1, 'max_depth': 10, 'learning_rate': 0.01, 'gamma': 1.5, 'colsample_bytree': 0.8}, {'subsample': 0.8, 'n_estimators': 750, 'min_child_weight': 10, 'max_depth': 10, 'learning_rate': 0.25, 'gamma': 1.5, 'colsample_bytree': 1.0}, {'subsample': 0.6, 'n_estimators': 500, 'min_child_weight': 1, 'max_depth': 4, 'learning_rate': 0.05, 'gamma': 5, 'colsample_bytree': 1.0}, {'subsample': 1.0, 'n_estimators': 750, 'min_child_weight': 7, 'max_depth': 5, 'learning_rate': 0.02, 'gamma': 0.5, 'colsample_bytree': 1.0}, {'subsample': 0.6, 'n_estimators': 100, 'min_child_weight': 7, 'max_depth': 3, 'learning_rate': 0.01, 'gamma': 1.5, 'colsample_bytree': 0.8}, {'subsample': 0.8, 'n_estimators': 500, 'min_child_weight': 7, 'max_depth': 10, 'learning_rate': 0.1, 'gamma': 1.5, 'colsample_bytree': 1.0}, {'subsample': 0.8, 'n_estimators': 200, 'min_child_weight': 5, 'max_depth': 5, 'learning_rate': 0.25, 'gamma': 1.5, 'colsample_bytree': 0.6}, {'subsample': 1.0, 'n_estimators': 200, 'min_child_weight': 5, 'max_depth': 5, 'learning_rate': 0.05, 'gamma': 1, 'colsample_bytree': 0.6}, {'subsample': 0.6, 'n_estimators': 200, 'min_child_weight': 7, 'max_depth': 4, 'learning_rate': 0.1, 'gamma': 0.5, 'colsample_bytree': 1.0}, {'subsample': 0.8, 'n_estimators': 100, 'min_child_weight': 7, 'max_depth': 4, 'learning_rate': 0.05, 'gamma': 1.5, 'colsample_bytree': 0.6}, {'subsample': 1.0, 'n_estimators': 200, 'min_child_weight': 10, 'max_depth': 4, 'learning_rate': 0.05, 'gamma': 0.5, 'colsample_bytree': 0.6}, {'subsample': 0.6, 'n_estimators': 200, 'min_child_weight': 5, 'max_depth': 10, 'learning_rate': 0.02, 'gamma': 0.5, 'colsample_bytree': 0.6}, {'subsample': 1.0, 'n_estimators': 500, 'min_child_weight': 10, 'max_depth': 3, 'learning_rate': 0.1, 'gamma': 0.1, 'colsample_bytree': 1.0}, {'subsample': 0.8, 'n_estimators': 200, 'min_child_weight': 1, 'max_depth': 3, 'learning_rate': 0.25, 'gamma': 1.5, 'colsample_bytree': 0.6}, {'subsample': 0.8, 'n_estimators': 750, 'min_child_weight': 1, 'max_depth': 3, 'learning_rate': 0.25, 'gamma': 0.1, 'colsample_bytree': 0.6}, {'subsample': 1.0, 'n_estimators': 500, 'min_child_weight': 5, 'max_depth': 12, 'learning_rate': 0.25, 'gamma': 1, 'colsample_bytree': 1.0}, {'subsample': 0.6, 'n_estimators': 750, 'min_child_weight': 10, 'max_depth': 12, 'learning_rate': 0.01, 'gamma': 1, 'colsample_bytree': 0.8}, {'subsample': 0.6, 'n_estimators': 500, 'min_child_weight': 5, 'max_depth': 3, 'learning_rate': 0.1, 'gamma': 5, 'colsample_bytree': 0.8}, {'subsample': 0.6, 'n_estimators': 100, 'min_child_weight': 7, 'max_depth': 10, 'learning_rate': 0.01, 'gamma': 5, 'colsample_bytree': 0.8}, {'subsample': 0.6, 'n_estimators': 500, 'min_child_weight': 5, 'max_depth': 3, 'learning_rate': 0.25, 'gamma': 1, 'colsample_bytree': 0.8}, {'subsample': 0.8, 'n_estimators': 500, 'min_child_weight': 10, 'max_depth': 10, 'learning_rate': 0.02, 'gamma': 0.1, 'colsample_bytree': 0.8}, {'subsample': 0.8, 'n_estimators': 750, 'min_child_weight': 7, 'max_depth': 12, 'learning_rate': 0.05, 'gamma': 1, 'colsample_bytree': 0.6}, {'subsample': 0.8, 'n_estimators': 200, 'min_child_weight': 1, 'max_depth': 12, 'learning_rate': 0.01, 'gamma': 1.5, 'colsample_bytree': 0.8}, {'subsample': 1.0, 'n_estimators': 200, 'min_child_weight': 5, 'max_depth': 3, 'learning_rate': 0.02, 'gamma': 0.5, 'colsample_bytree': 0.8}, {'subsample': 0.6, 'n_estimators': 750, 'min_child_weight': 10, 'max_depth': 10, 'learning_rate': 0.05, 'gamma': 1, 'colsample_bytree': 0.6}, {'subsample': 0.8, 'n_estimators': 500, 'min_child_weight': 1, 'max_depth': 5, 'learning_rate': 0.05, 'gamma': 0.5, 'colsample_bytree': 0.6}, {'subsample': 0.8, 'n_estimators': 100, 'min_child_weight': 1, 'max_depth': 12, 'learning_rate': 0.05, 'gamma': 1, 'colsample_bytree': 0.6}, {'subsample': 0.6, 'n_estimators': 500, 'min_child_weight': 10, 'max_depth': 3, 'learning_rate': 0.25, 'gamma': 1, 'colsample_bytree': 0.6}, {'subsample': 0.6, 'n_estimators': 200, 'min_child_weight': 1, 'max_depth': 12, 'learning_rate': 0.01, 'gamma': 0.1, 'colsample_bytree': 0.8}, {'subsample': 1.0, 'n_estimators': 750, 'min_child_weight': 5, 'max_depth': 4, 'learning_rate': 0.1, 'gamma': 1, 'colsample_bytree': 0.8}, {'subsample': 0.8, 'n_estimators': 750, 'min_child_weight': 10, 'max_depth': 12, 'learning_rate': 0.02, 'gamma': 1, 'colsample_bytree': 0.8}, {'subsample': 0.8, 'n_estimators': 200, 'min_child_weight': 1, 'max_depth': 4, 'learning_rate': 0.02, 'gamma': 1, 'colsample_bytree': 1.0}, {'subsample': 1.0, 'n_estimators': 200, 'min_child_weight': 10, 'max_depth': 10, 'learning_rate': 0.02, 'gamma': 0.1, 'colsample_bytree': 0.8}, {'subsample': 0.8, 'n_estimators': 200, 'min_child_weight': 1, 'max_depth': 5, 'learning_rate': 0.1, 'gamma': 0.5, 'colsample_bytree': 0.6}, {'subsample': 0.6, 'n_estimators': 200, 'min_child_weight': 5, 'max_depth': 10, 'learning_rate': 0.1, 'gamma': 1, 'colsample_bytree': 0.8}, {'subsample': 0.8, 'n_estimators': 500, 'min_child_weight': 5, 'max_depth': 5, 'learning_rate': 0.05, 'gamma': 1, 'colsample_bytree': 0.6}, {'subsample': 1.0, 'n_estimators': 500, 'min_child_weight': 1, 'max_depth': 3, 'learning_rate': 0.1, 'gamma': 1, 'colsample_bytree': 1.0}, {'subsample': 1.0, 'n_estimators': 500, 'min_child_weight': 1, 'max_depth': 3, 'learning_rate': 0.1, 'gamma': 5, 'colsample_bytree': 0.6}, {'subsample': 0.8, 'n_estimators': 100, 'min_child_weight': 5, 'max_depth': 10, 'learning_rate': 0.02, 'gamma': 1.5, 'colsample_bytree': 0.6}, {'subsample': 1.0, 'n_estimators': 500, 'min_child_weight': 10, 'max_depth': 12, 'learning_rate': 0.02, 'gamma': 0.1, 'colsample_bytree': 0.6}, {'subsample': 0.8, 'n_estimators': 500, 'min_child_weight': 1, 'max_depth': 5, 'learning_rate': 0.01, 'gamma': 5, 'colsample_bytree': 0.6}, {'subsample': 1.0, 'n_estimators': 750, 'min_child_weight': 1, 'max_depth': 3, 'learning_rate': 0.02, 'gamma': 0.1, 'colsample_bytree': 0.6}, {'subsample': 0.6, 'n_estimators': 500, 'min_child_weight': 7, 'max_depth': 12, 'learning_rate': 0.1, 'gamma': 0.5, 'colsample_bytree': 1.0}, {'subsample': 0.6, 'n_estimators': 750, 'min_child_weight': 5, 'max_depth': 5, 'learning_rate': 0.02, 'gamma': 0.5, 'colsample_bytree': 0.6}, {'subsample': 1.0, 'n_estimators': 200, 'min_child_weight': 5, 'max_depth': 10, 'learning_rate': 0.1, 'gamma': 5, 'colsample_bytree': 1.0}, {'subsample': 0.6, 'n_estimators': 500, 'min_child_weight': 1, 'max_depth': 4, 'learning_rate': 0.25, 'gamma': 0.5, 'colsample_bytree': 0.8}, {'subsample': 0.6, 'n_estimators': 500, 'min_child_weight': 7, 'max_depth': 12, 'learning_rate': 0.02, 'gamma': 1.5, 'colsample_bytree': 1.0}, {'subsample': 1.0, 'n_estimators': 100, 'min_child_weight': 7, 'max_depth': 3, 'learning_rate': 0.25, 'gamma': 1, 'colsample_bytree': 1.0}, {'subsample': 0.8, 'n_estimators': 750, 'min_child_weight': 10, 'max_depth': 3, 'learning_rate': 0.02, 'gamma': 0.1, 'colsample_bytree': 0.8}, {'subsample': 0.8, 'n_estimators': 200, 'min_child_weight': 1, 'max_depth': 3, 'learning_rate': 0.1, 'gamma': 1, 'colsample_bytree': 0.8}, {'subsample': 0.8, 'n_estimators': 750, 'min_child_weight': 1, 'max_depth': 10, 'learning_rate': 0.05, 'gamma': 0.5, 'colsample_bytree': 1.0}, {'subsample': 1.0, 'n_estimators': 200, 'min_child_weight': 5, 'max_depth': 5, 'learning_rate': 0.01, 'gamma': 0.5, 'colsample_bytree': 1.0}, {'subsample': 1.0, 'n_estimators': 200, 'min_child_weight': 10, 'max_depth': 10, 'learning_rate': 0.25, 'gamma': 0.1, 'colsample_bytree': 0.8}, {'subsample': 0.6, 'n_estimators': 100, 'min_child_weight': 1, 'max_depth': 4, 'learning_rate': 0.05, 'gamma': 1, 'colsample_bytree': 0.6}, {'subsample': 0.8, 'n_estimators': 100, 'min_child_weight': 5, 'max_depth': 12, 'learning_rate': 0.05, 'gamma': 0.1, 'colsample_bytree': 0.8}, {'subsample': 0.8, 'n_estimators': 100, 'min_child_weight': 10, 'max_depth': 5, 'learning_rate': 0.05, 'gamma': 1, 'colsample_bytree': 0.6}, {'subsample': 1.0, 'n_estimators': 200, 'min_child_weight': 7, 'max_depth': 10, 'learning_rate': 0.02, 'gamma': 1, 'colsample_bytree': 0.8}, {'subsample': 0.6, 'n_estimators': 500, 'min_child_weight': 5, 'max_depth': 12, 'learning_rate': 0.1, 'gamma': 1, 'colsample_bytree': 0.8}, {'subsample': 0.8, 'n_estimators': 750, 'min_child_weight': 5, 'max_depth': 3, 'learning_rate': 0.01, 'gamma': 0.5, 'colsample_bytree': 0.8}, {'subsample': 0.8, 'n_estimators': 500, 'min_child_weight': 10, 'max_depth': 10, 'learning_rate': 0.25, 'gamma': 0.1, 'colsample_bytree': 0.6}, {'subsample': 1.0, 'n_estimators': 500, 'min_child_weight': 7, 'max_depth': 12, 'learning_rate': 0.02, 'gamma': 0.5, 'colsample_bytree': 1.0}, {'subsample': 1.0, 'n_estimators': 750, 'min_child_weight': 5, 'max_depth': 10, 'learning_rate': 0.02, 'gamma': 1.5, 'colsample_bytree': 0.6}, {'subsample': 0.6, 'n_estimators': 200, 'min_child_weight': 10, 'max_depth': 4, 'learning_rate': 0.02, 'gamma': 0.1, 'colsample_bytree': 0.6}, {'subsample': 1.0, 'n_estimators': 500, 'min_child_weight': 5, 'max_depth': 12, 'learning_rate': 0.25, 'gamma': 1, 'colsample_bytree': 0.8}, {'subsample': 0.8, 'n_estimators': 500, 'min_child_weight': 1, 'max_depth': 3, 'learning_rate': 0.02, 'gamma': 0.1, 'colsample_bytree': 0.6}, {'subsample': 0.6, 'n_estimators': 500, 'min_child_weight': 7, 'max_depth': 12, 'learning_rate': 0.02, 'gamma': 0.5, 'colsample_bytree': 0.8}, {'subsample': 0.6, 'n_estimators': 200, 'min_child_weight': 5, 'max_depth': 4, 'learning_rate': 0.01, 'gamma': 1.5, 'colsample_bytree': 1.0}, {'subsample': 0.6, 'n_estimators': 500, 'min_child_weight': 10, 'max_depth': 3, 'learning_rate': 0.25, 'gamma': 1, 'colsample_bytree': 0.8}, {'subsample': 0.6, 'n_estimators': 500, 'min_child_weight': 10, 'max_depth': 12, 'learning_rate': 0.25, 'gamma': 1, 'colsample_bytree': 1.0}, {'subsample': 0.6, 'n_estimators': 750, 'min_child_weight': 7, 'max_depth': 3, 'learning_rate': 0.01, 'gamma': 0.1, 'colsample_bytree': 1.0}, {'subsample': 0.6, 'n_estimators': 750, 'min_child_weight': 1, 'max_depth': 12, 'learning_rate': 0.25, 'gamma': 0.5, 'colsample_bytree': 1.0}, {'subsample': 0.8, 'n_estimators': 500, 'min_child_weight': 1, 'max_depth': 12, 'learning_rate': 0.1, 'gamma': 0.5, 'colsample_bytree': 1.0}, {'subsample': 0.6, 'n_estimators': 750, 'min_child_weight': 1, 'max_depth': 3, 'learning_rate': 0.1, 'gamma': 0.5, 'colsample_bytree': 1.0}, {'subsample': 0.8, 'n_estimators': 500, 'min_child_weight': 7, 'max_depth': 5, 'learning_rate': 0.01, 'gamma': 0.1, 'colsample_bytree': 0.6}, {'subsample': 0.8, 'n_estimators': 500, 'min_child_weight': 7, 'max_depth': 10, 'learning_rate': 0.01, 'gamma': 0.5, 'colsample_bytree': 0.8}, {'subsample': 1.0, 'n_estimators': 500, 'min_child_weight': 5, 'max_depth': 3, 'learning_rate': 0.01, 'gamma': 1, 'colsample_bytree': 0.6}, {'subsample': 0.8, 'n_estimators': 200, 'min_child_weight': 7, 'max_depth': 4, 'learning_rate': 0.1, 'gamma': 5, 'colsample_bytree': 1.0}, {'subsample': 1.0, 'n_estimators': 750, 'min_child_weight': 7, 'max_depth': 5, 'learning_rate': 0.05, 'gamma': 0.5, 'colsample_bytree': 1.0}, {'subsample': 1.0, 'n_estimators': 750, 'min_child_weight': 10, 'max_depth': 12, 'learning_rate': 0.1, 'gamma': 5, 'colsample_bytree': 0.8}, {'subsample': 0.8, 'n_estimators': 100, 'min_child_weight': 7, 'max_depth': 5, 'learning_rate': 0.02, 'gamma': 0.1, 'colsample_bytree': 0.6}, {'subsample': 0.8, 'n_estimators': 750, 'min_child_weight': 1, 'max_depth': 10, 'learning_rate': 0.01, 'gamma': 5, 'colsample_bytree': 0.6}, {'subsample': 0.8, 'n_estimators': 200, 'min_child_weight': 10, 'max_depth': 4, 'learning_rate': 0.02, 'gamma': 5, 'colsample_bytree': 1.0}, {'subsample': 0.6, 'n_estimators': 750, 'min_child_weight': 5, 'max_depth': 4, 'learning_rate': 0.1, 'gamma': 1, 'colsample_bytree': 0.8}, {'subsample': 0.8, 'n_estimators': 750, 'min_child_weight': 5, 'max_depth': 3, 'learning_rate': 0.02, 'gamma': 1, 'colsample_bytree': 0.6}, {'subsample': 0.6, 'n_estimators': 200, 'min_child_weight': 7, 'max_depth': 12, 'learning_rate': 0.01, 'gamma': 1.5, 'colsample_bytree': 0.8}, {'subsample': 0.6, 'n_estimators': 100, 'min_child_weight': 7, 'max_depth': 10, 'learning_rate': 0.01, 'gamma': 1, 'colsample_bytree': 1.0}, {'subsample': 0.6, 'n_estimators': 200, 'min_child_weight': 10, 'max_depth': 5, 'learning_rate': 0.02, 'gamma': 1.5, 'colsample_bytree': 0.6}, {'subsample': 1.0, 'n_estimators': 750, 'min_child_weight': 10, 'max_depth': 4, 'learning_rate': 0.01, 'gamma': 1, 'colsample_bytree': 0.8}, {'subsample': 0.8, 'n_estimators': 200, 'min_child_weight': 10, 'max_depth': 10, 'learning_rate': 0.25, 'gamma': 0.1, 'colsample_bytree': 0.8}, {'subsample': 1.0, 'n_estimators': 200, 'min_child_weight': 7, 'max_depth': 3, 'learning_rate': 0.05, 'gamma': 5, 'colsample_bytree': 0.6}, {'subsample': 1.0, 'n_estimators': 500, 'min_child_weight': 7, 'max_depth': 5, 'learning_rate': 0.25, 'gamma': 0.5, 'colsample_bytree': 0.8}, {'subsample': 0.8, 'n_estimators': 200, 'min_child_weight': 1, 'max_depth': 4, 'learning_rate': 0.05, 'gamma': 0.1, 'colsample_bytree': 0.8}, {'subsample': 1.0, 'n_estimators': 200, 'min_child_weight': 5, 'max_depth': 12, 'learning_rate': 0.1, 'gamma': 1, 'colsample_bytree': 1.0}, {'subsample': 0.8, 'n_estimators': 200, 'min_child_weight': 10, 'max_depth': 4, 'learning_rate': 0.01, 'gamma': 0.1, 'colsample_bytree': 0.6}, {'subsample': 0.8, 'n_estimators': 750, 'min_child_weight': 10, 'max_depth': 10, 'learning_rate': 0.02, 'gamma': 1, 'colsample_bytree': 0.8}, {'subsample': 0.8, 'n_estimators': 200, 'min_child_weight': 5, 'max_depth': 12, 'learning_rate': 0.1, 'gamma': 0.1, 'colsample_bytree': 0.6}, {'subsample': 0.8, 'n_estimators': 750, 'min_child_weight': 10, 'max_depth': 4, 'learning_rate': 0.01, 'gamma': 0.1, 'colsample_bytree': 1.0}, {'subsample': 0.8, 'n_estimators': 750, 'min_child_weight': 1, 'max_depth': 4, 'learning_rate': 0.25, 'gamma': 1, 'colsample_bytree': 1.0}, {'subsample': 1.0, 'n_estimators': 100, 'min_child_weight': 5, 'max_depth': 3, 'learning_rate': 0.1, 'gamma': 0.5, 'colsample_bytree': 0.8}, {'subsample': 1.0, 'n_estimators': 500, 'min_child_weight': 7, 'max_depth': 3, 'learning_rate': 0.05, 'gamma': 0.1, 'colsample_bytree': 0.8}, {'subsample': 0.6, 'n_estimators': 750, 'min_child_weight': 10, 'max_depth': 12, 'learning_rate': 0.01, 'gamma': 5, 'colsample_bytree': 1.0}, {'subsample': 1.0, 'n_estimators': 750, 'min_child_weight': 7, 'max_depth': 4, 'learning_rate': 0.05, 'gamma': 0.1, 'colsample_bytree': 0.6}, {'subsample': 0.8, 'n_estimators': 500, 'min_child_weight': 7, 'max_depth': 4, 'learning_rate': 0.1, 'gamma': 0.1, 'colsample_bytree': 1.0}, {'subsample': 0.8, 'n_estimators': 500, 'min_child_weight': 7, 'max_depth': 3, 'learning_rate': 0.01, 'gamma': 1, 'colsample_bytree': 1.0}, {'subsample': 0.6, 'n_estimators': 200, 'min_child_weight': 10, 'max_depth': 5, 'learning_rate': 0.1, 'gamma': 1, 'colsample_bytree': 0.8}, {'subsample': 1.0, 'n_estimators': 200, 'min_child_weight': 10, 'max_depth': 10, 'learning_rate': 0.02, 'gamma': 1.5, 'colsample_bytree': 1.0}, {'subsample': 0.8, 'n_estimators': 200, 'min_child_weight': 5, 'max_depth': 12, 'learning_rate': 0.1, 'gamma': 1.5, 'colsample_bytree': 1.0}, {'subsample': 0.6, 'n_estimators': 200, 'min_child_weight': 5, 'max_depth': 3, 'learning_rate': 0.01, 'gamma': 0.1, 'colsample_bytree': 0.8}, {'subsample': 1.0, 'n_estimators': 100, 'min_child_weight': 5, 'max_depth': 3, 'learning_rate': 0.05, 'gamma': 0.5, 'colsample_bytree': 0.6}, {'subsample': 0.6, 'n_estimators': 100, 'min_child_weight': 5, 'max_depth': 3, 'learning_rate': 0.02, 'gamma': 0.1, 'colsample_bytree': 0.8}, {'subsample': 0.8, 'n_estimators': 100, 'min_child_weight': 5, 'max_depth': 4, 'learning_rate': 0.25, 'gamma': 1, 'colsample_bytree': 1.0}, {'subsample': 0.8, 'n_estimators': 750, 'min_child_weight': 5, 'max_depth': 5, 'learning_rate': 0.05, 'gamma': 1.5, 'colsample_bytree': 0.8}, {'subsample': 0.8, 'n_estimators': 750, 'min_child_weight': 7, 'max_depth': 5, 'learning_rate': 0.25, 'gamma': 1.5, 'colsample_bytree': 0.8}, {'subsample': 1.0, 'n_estimators': 200, 'min_child_weight': 1, 'max_depth': 5, 'learning_rate': 0.1, 'gamma': 0.1, 'colsample_bytree': 1.0}, {'subsample': 0.8, 'n_estimators': 100, 'min_child_weight': 1, 'max_depth': 3, 'learning_rate': 0.05, 'gamma': 1.5, 'colsample_bytree': 0.6}, {'subsample': 0.6, 'n_estimators': 100, 'min_child_weight': 7, 'max_depth': 3, 'learning_rate': 0.1, 'gamma': 0.5, 'colsample_bytree': 0.6}, {'subsample': 1.0, 'n_estimators': 100, 'min_child_weight': 5, 'max_depth': 5, 'learning_rate': 0.05, 'gamma': 0.5, 'colsample_bytree': 0.8}, {'subsample': 1.0, 'n_estimators': 500, 'min_child_weight': 1, 'max_depth': 3, 'learning_rate': 0.01, 'gamma': 5, 'colsample_bytree': 1.0}, {'subsample': 0.8, 'n_estimators': 750, 'min_child_weight': 7, 'max_depth': 10, 'learning_rate': 0.01, 'gamma': 1, 'colsample_bytree': 0.6}, {'subsample': 1.0, 'n_estimators': 200, 'min_child_weight': 10, 'max_depth': 12, 'learning_rate': 0.01, 'gamma': 1.5, 'colsample_bytree': 0.6}, {'subsample': 1.0, 'n_estimators': 100, 'min_child_weight': 10, 'max_depth': 5, 'learning_rate': 0.1, 'gamma': 0.5, 'colsample_bytree': 0.6}, {'subsample': 0.6, 'n_estimators': 200, 'min_child_weight': 5, 'max_depth': 10, 'learning_rate': 0.1, 'gamma': 5, 'colsample_bytree': 1.0}, {'subsample': 0.6, 'n_estimators': 200, 'min_child_weight': 5, 'max_depth': 4, 'learning_rate': 0.25, 'gamma': 1, 'colsample_bytree': 0.8}, {'subsample': 0.6, 'n_estimators': 750, 'min_child_weight': 10, 'max_depth': 10, 'learning_rate': 0.01, 'gamma': 5, 'colsample_bytree': 0.6}, {'subsample': 0.6, 'n_estimators': 200, 'min_child_weight': 7, 'max_depth': 4, 'learning_rate': 0.1, 'gamma': 0.1, 'colsample_bytree': 0.6}, {'subsample': 1.0, 'n_estimators': 750, 'min_child_weight': 1, 'max_depth': 10, 'learning_rate': 0.01, 'gamma': 5, 'colsample_bytree': 0.6}, {'subsample': 0.6, 'n_estimators': 200, 'min_child_weight': 7, 'max_depth': 4, 'learning_rate': 0.25, 'gamma': 0.5, 'colsample_bytree': 1.0}, {'subsample': 0.6, 'n_estimators': 750, 'min_child_weight': 1, 'max_depth': 4, 'learning_rate': 0.01, 'gamma': 1, 'colsample_bytree': 0.8}, {'subsample': 0.8, 'n_estimators': 750, 'min_child_weight': 10, 'max_depth': 12, 'learning_rate': 0.01, 'gamma': 1.5, 'colsample_bytree': 1.0}, {'subsample': 0.8, 'n_estimators': 200, 'min_child_weight': 7, 'max_depth': 12, 'learning_rate': 0.01, 'gamma': 5, 'colsample_bytree': 0.8}, {'subsample': 1.0, 'n_estimators': 200, 'min_child_weight': 7, 'max_depth': 5, 'learning_rate': 0.01, 'gamma': 5, 'colsample_bytree': 0.8}, {'subsample': 0.8, 'n_estimators': 200, 'min_child_weight': 7, 'max_depth': 5, 'learning_rate': 0.25, 'gamma': 0.1, 'colsample_bytree': 0.6}, {'subsample': 0.8, 'n_estimators': 750, 'min_child_weight': 5, 'max_depth': 12, 'learning_rate': 0.02, 'gamma': 1.5, 'colsample_bytree': 0.8}, {'subsample': 0.6, 'n_estimators': 100, 'min_child_weight': 7, 'max_depth': 5, 'learning_rate': 0.25, 'gamma': 5, 'colsample_bytree': 1.0}, {'subsample': 0.8, 'n_estimators': 200, 'min_child_weight': 5, 'max_depth': 3, 'learning_rate': 0.25, 'gamma': 5, 'colsample_bytree': 1.0}, {'subsample': 0.6, 'n_estimators': 200, 'min_child_weight': 1, 'max_depth': 5, 'learning_rate': 0.05, 'gamma': 0.5, 'colsample_bytree': 1.0}, {'subsample': 0.6, 'n_estimators': 500, 'min_child_weight': 5, 'max_depth': 5, 'learning_rate': 0.02, 'gamma': 0.5, 'colsample_bytree': 0.6}, {'subsample': 1.0, 'n_estimators': 100, 'min_child_weight': 7, 'max_depth': 3, 'learning_rate': 0.25, 'gamma': 1, 'colsample_bytree': 0.8}, {'subsample': 0.8, 'n_estimators': 200, 'min_child_weight': 10, 'max_depth': 10, 'learning_rate': 0.02, 'gamma': 0.5, 'colsample_bytree': 0.8}, {'subsample': 0.6, 'n_estimators': 200, 'min_child_weight': 5, 'max_depth': 10, 'learning_rate': 0.25, 'gamma': 0.1, 'colsample_bytree': 0.6}, {'subsample': 0.8, 'n_estimators': 500, 'min_child_weight': 5, 'max_depth': 12, 'learning_rate': 0.05, 'gamma': 1, 'colsample_bytree': 0.8}, {'subsample': 1.0, 'n_estimators': 750, 'min_child_weight': 5, 'max_depth': 3, 'learning_rate': 0.25, 'gamma': 0.1, 'colsample_bytree': 1.0}, {'subsample': 0.6, 'n_estimators': 500, 'min_child_weight': 10, 'max_depth': 5, 'learning_rate': 0.05, 'gamma': 5, 'colsample_bytree': 0.6}, {'subsample': 0.6, 'n_estimators': 200, 'min_child_weight': 10, 'max_depth': 12, 'learning_rate': 0.1, 'gamma': 5, 'colsample_bytree': 0.6}, {'subsample': 0.6, 'n_estimators': 500, 'min_child_weight': 10, 'max_depth': 3, 'learning_rate': 0.1, 'gamma': 0.1, 'colsample_bytree': 0.8}, {'subsample': 0.8, 'n_estimators': 100, 'min_child_weight': 5, 'max_depth': 4, 'learning_rate': 0.25, 'gamma': 1, 'colsample_bytree': 0.6}, {'subsample': 0.6, 'n_estimators': 750, 'min_child_weight': 1, 'max_depth': 4, 'learning_rate': 0.01, 'gamma': 5, 'colsample_bytree': 1.0}, {'subsample': 0.6, 'n_estimators': 500, 'min_child_weight': 1, 'max_depth': 12, 'learning_rate': 0.25, 'gamma': 0.1, 'colsample_bytree': 0.6}, {'subsample': 1.0, 'n_estimators': 200, 'min_child_weight': 5, 'max_depth': 3, 'learning_rate': 0.05, 'gamma': 5, 'colsample_bytree': 0.8}, {'subsample': 0.8, 'n_estimators': 500, 'min_child_weight': 10, 'max_depth': 3, 'learning_rate': 0.05, 'gamma': 1, 'colsample_bytree': 1.0}, {'subsample': 0.6, 'n_estimators': 750, 'min_child_weight': 10, 'max_depth': 5, 'learning_rate': 0.1, 'gamma': 0.5, 'colsample_bytree': 1.0}, {'subsample': 1.0, 'n_estimators': 100, 'min_child_weight': 7, 'max_depth': 5, 'learning_rate': 0.1, 'gamma': 5, 'colsample_bytree': 0.6}, {'subsample': 0.6, 'n_estimators': 750, 'min_child_weight': 1, 'max_depth': 10, 'learning_rate': 0.01, 'gamma': 1.5, 'colsample_bytree': 0.6}, {'subsample': 0.6, 'n_estimators': 100, 'min_child_weight': 1, 'max_depth': 5, 'learning_rate': 0.1, 'gamma': 1.5, 'colsample_bytree': 1.0}, {'subsample': 1.0, 'n_estimators': 750, 'min_child_weight': 1, 'max_depth': 5, 'learning_rate': 0.01, 'gamma': 1.5, 'colsample_bytree': 0.6}, {'subsample': 1.0, 'n_estimators': 500, 'min_child_weight': 5, 'max_depth': 5, 'learning_rate': 0.01, 'gamma': 1, 'colsample_bytree': 0.6}, {'subsample': 0.8, 'n_estimators': 500, 'min_child_weight': 1, 'max_depth': 3, 'learning_rate': 0.25, 'gamma': 0.1, 'colsample_bytree': 0.6}, {'subsample': 0.8, 'n_estimators': 200, 'min_child_weight': 1, 'max_depth': 4, 'learning_rate': 0.02, 'gamma': 1.5, 'colsample_bytree': 0.8}, {'subsample': 1.0, 'n_estimators': 750, 'min_child_weight': 10, 'max_depth': 12, 'learning_rate': 0.25, 'gamma': 0.1, 'colsample_bytree': 0.8}, {'subsample': 0.6, 'n_estimators': 750, 'min_child_weight': 5, 'max_depth': 5, 'learning_rate': 0.1, 'gamma': 0.5, 'colsample_bytree': 1.0}, {'subsample': 0.8, 'n_estimators': 100, 'min_child_weight': 10, 'max_depth': 3, 'learning_rate': 0.05, 'gamma': 5, 'colsample_bytree': 1.0}, {'subsample': 0.6, 'n_estimators': 100, 'min_child_weight': 5, 'max_depth': 5, 'learning_rate': 0.01, 'gamma': 1, 'colsample_bytree': 0.8}, {'subsample': 0.6, 'n_estimators': 100, 'min_child_weight': 7, 'max_depth': 5, 'learning_rate': 0.1, 'gamma': 1, 'colsample_bytree': 1.0}, {'subsample': 1.0, 'n_estimators': 750, 'min_child_weight': 1, 'max_depth': 10, 'learning_rate': 0.05, 'gamma': 1, 'colsample_bytree': 0.6}, {'subsample': 0.8, 'n_estimators': 750, 'min_child_weight': 1, 'max_depth': 3, 'learning_rate': 0.25, 'gamma': 0.5, 'colsample_bytree': 0.8}, {'subsample': 0.8, 'n_estimators': 100, 'min_child_weight': 1, 'max_depth': 3, 'learning_rate': 0.02, 'gamma': 5, 'colsample_bytree': 1.0}, {'subsample': 0.8, 'n_estimators': 200, 'min_child_weight': 7, 'max_depth': 10, 'learning_rate': 0.02, 'gamma': 1, 'colsample_bytree': 0.6}, {'subsample': 0.6, 'n_estimators': 750, 'min_child_weight': 10, 'max_depth': 3, 'learning_rate': 0.05, 'gamma': 0.5, 'colsample_bytree': 1.0}, {'subsample': 0.6, 'n_estimators': 100, 'min_child_weight': 7, 'max_depth': 4, 'learning_rate': 0.01, 'gamma': 0.1, 'colsample_bytree': 0.8}, {'subsample': 0.8, 'n_estimators': 200, 'min_child_weight': 5, 'max_depth': 5, 'learning_rate': 0.05, 'gamma': 1.5, 'colsample_bytree': 1.0}, {'subsample': 0.6, 'n_estimators': 500, 'min_child_weight': 1, 'max_depth': 5, 'learning_rate': 0.1, 'gamma': 1, 'colsample_bytree': 0.8}, {'subsample': 0.6, 'n_estimators': 200, 'min_child_weight': 10, 'max_depth': 5, 'learning_rate': 0.02, 'gamma': 0.1, 'colsample_bytree': 0.8}, {'subsample': 1.0, 'n_estimators': 500, 'min_child_weight': 5, 'max_depth': 4, 'learning_rate': 0.01, 'gamma': 1.5, 'colsample_bytree': 0.6}, {'subsample': 0.8, 'n_estimators': 200, 'min_child_weight': 1, 'max_depth': 10, 'learning_rate': 0.25, 'gamma': 0.5, 'colsample_bytree': 0.6}, {'subsample': 0.6, 'n_estimators': 500, 'min_child_weight': 5, 'max_depth': 10, 'learning_rate': 0.25, 'gamma': 1, 'colsample_bytree': 0.6}, {'subsample': 0.6, 'n_estimators': 750, 'min_child_weight': 7, 'max_depth': 10, 'learning_rate': 0.05, 'gamma': 5, 'colsample_bytree': 1.0}, {'subsample': 0.8, 'n_estimators': 500, 'min_child_weight': 7, 'max_depth': 4, 'learning_rate': 0.02, 'gamma': 5, 'colsample_bytree': 1.0}, {'subsample': 0.8, 'n_estimators': 200, 'min_child_weight': 1, 'max_depth': 5, 'learning_rate': 0.01, 'gamma': 0.5, 'colsample_bytree': 1.0}, {'subsample': 0.8, 'n_estimators': 750, 'min_child_weight': 5, 'max_depth': 4, 'learning_rate': 0.25, 'gamma': 0.1, 'colsample_bytree': 0.8}, {'subsample': 0.6, 'n_estimators': 750, 'min_child_weight': 1, 'max_depth': 4, 'learning_rate': 0.25, 'gamma': 0.1, 'colsample_bytree': 0.8}, {'subsample': 0.8, 'n_estimators': 500, 'min_child_weight': 5, 'max_depth': 10, 'learning_rate': 0.25, 'gamma': 0.1, 'colsample_bytree': 1.0}, {'subsample': 1.0, 'n_estimators': 750, 'min_child_weight': 10, 'max_depth': 5, 'learning_rate': 0.25, 'gamma': 5, 'colsample_bytree': 0.6}, {'subsample': 0.8, 'n_estimators': 500, 'min_child_weight': 10, 'max_depth': 3, 'learning_rate': 0.01, 'gamma': 1, 'colsample_bytree': 0.8}, {'subsample': 0.6, 'n_estimators': 750, 'min_child_weight': 10, 'max_depth': 4, 'learning_rate': 0.1, 'gamma': 1, 'colsample_bytree': 0.6}, {'subsample': 1.0, 'n_estimators': 500, 'min_child_weight': 5, 'max_depth': 12, 'learning_rate': 0.02, 'gamma': 0.5, 'colsample_bytree': 0.8}, {'subsample': 0.8, 'n_estimators': 500, 'min_child_weight': 1, 'max_depth': 3, 'learning_rate': 0.1, 'gamma': 5, 'colsample_bytree': 0.6}, {'subsample': 0.6, 'n_estimators': 100, 'min_child_weight': 1, 'max_depth': 10, 'learning_rate': 0.01, 'gamma': 0.5, 'colsample_bytree': 1.0}, {'subsample': 1.0, 'n_estimators': 100, 'min_child_weight': 5, 'max_depth': 12, 'learning_rate': 0.1, 'gamma': 1, 'colsample_bytree': 1.0}, {'subsample': 1.0, 'n_estimators': 100, 'min_child_weight': 7, 'max_depth': 3, 'learning_rate': 0.25, 'gamma': 1.5, 'colsample_bytree': 1.0}, {'subsample': 0.6, 'n_estimators': 500, 'min_child_weight': 10, 'max_depth': 12, 'learning_rate': 0.02, 'gamma': 1, 'colsample_bytree': 1.0}, {'subsample': 0.6, 'n_estimators': 500, 'min_child_weight': 10, 'max_depth': 10, 'learning_rate': 0.05, 'gamma': 0.5, 'colsample_bytree': 0.6}, {'subsample': 0.8, 'n_estimators': 100, 'min_child_weight': 10, 'max_depth': 5, 'learning_rate': 0.05, 'gamma': 1, 'colsample_bytree': 1.0}, {'subsample': 0.8, 'n_estimators': 750, 'min_child_weight': 7, 'max_depth': 10, 'learning_rate': 0.02, 'gamma': 5, 'colsample_bytree': 0.8}, {'subsample': 0.8, 'n_estimators': 500, 'min_child_weight': 5, 'max_depth': 3, 'learning_rate': 0.1, 'gamma': 1.5, 'colsample_bytree': 1.0}, {'subsample': 0.6, 'n_estimators': 500, 'min_child_weight': 7, 'max_depth': 10, 'learning_rate': 0.1, 'gamma': 0.5, 'colsample_bytree': 0.8}, {'subsample': 0.8, 'n_estimators': 100, 'min_child_weight': 5, 'max_depth': 3, 'learning_rate': 0.05, 'gamma': 1, 'colsample_bytree': 1.0}, {'subsample': 0.8, 'n_estimators': 750, 'min_child_weight': 5, 'max_depth': 4, 'learning_rate': 0.02, 'gamma': 5, 'colsample_bytree': 1.0}, {'subsample': 0.8, 'n_estimators': 100, 'min_child_weight': 7, 'max_depth': 10, 'learning_rate': 0.01, 'gamma': 0.1, 'colsample_bytree': 0.6}, {'subsample': 1.0, 'n_estimators': 200, 'min_child_weight': 5, 'max_depth': 12, 'learning_rate': 0.05, 'gamma': 1.5, 'colsample_bytree': 0.6}, {'subsample': 0.6, 'n_estimators': 200, 'min_child_weight': 5, 'max_depth': 12, 'learning_rate': 0.05, 'gamma': 1.5, 'colsample_bytree': 1.0}, {'subsample': 0.6, 'n_estimators': 200, 'min_child_weight': 7, 'max_depth': 4, 'learning_rate': 0.1, 'gamma': 5, 'colsample_bytree': 1.0}, {'subsample': 0.8, 'n_estimators': 750, 'min_child_weight': 7, 'max_depth': 5, 'learning_rate': 0.02, 'gamma': 0.5, 'colsample_bytree': 0.6}, {'subsample': 1.0, 'n_estimators': 100, 'min_child_weight': 7, 'max_depth': 5, 'learning_rate': 0.05, 'gamma': 0.5, 'colsample_bytree': 1.0}, {'subsample': 0.8, 'n_estimators': 100, 'min_child_weight': 10, 'max_depth': 5, 'learning_rate': 0.02, 'gamma': 0.1, 'colsample_bytree': 0.8}, {'subsample': 0.8, 'n_estimators': 750, 'min_child_weight': 7, 'max_depth': 5, 'learning_rate': 0.05, 'gamma': 1.5, 'colsample_bytree': 1.0}, {'subsample': 0.8, 'n_estimators': 750, 'min_child_weight': 10, 'max_depth': 10, 'learning_rate': 0.25, 'gamma': 1, 'colsample_bytree': 0.6}, {'subsample': 0.8, 'n_estimators': 200, 'min_child_weight': 5, 'max_depth': 3, 'learning_rate': 0.25, 'gamma': 1.5, 'colsample_bytree': 1.0}, {'subsample': 0.8, 'n_estimators': 100, 'min_child_weight': 1, 'max_depth': 12, 'learning_rate': 0.05, 'gamma': 1, 'colsample_bytree': 0.8}, {'subsample': 0.8, 'n_estimators': 500, 'min_child_weight': 1, 'max_depth': 10, 'learning_rate': 0.05, 'gamma': 5, 'colsample_bytree': 0.6}, {'subsample': 0.8, 'n_estimators': 100, 'min_child_weight': 10, 'max_depth': 4, 'learning_rate': 0.01, 'gamma': 0.5, 'colsample_bytree': 1.0}, {'subsample': 1.0, 'n_estimators': 100, 'min_child_weight': 1, 'max_depth': 5, 'learning_rate': 0.01, 'gamma': 0.1, 'colsample_bytree': 0.8}, {'subsample': 0.6, 'n_estimators': 500, 'min_child_weight': 5, 'max_depth': 12, 'learning_rate': 0.05, 'gamma': 1, 'colsample_bytree': 1.0}, {'subsample': 0.8, 'n_estimators': 200, 'min_child_weight': 10, 'max_depth': 5, 'learning_rate': 0.01, 'gamma': 1.5, 'colsample_bytree': 0.8}, {'subsample': 0.6, 'n_estimators': 500, 'min_child_weight': 7, 'max_depth': 5, 'learning_rate': 0.1, 'gamma': 1, 'colsample_bytree': 0.8}, {'subsample': 1.0, 'n_estimators': 500, 'min_child_weight': 1, 'max_depth': 5, 'learning_rate': 0.25, 'gamma': 1, 'colsample_bytree': 1.0}, {'subsample': 1.0, 'n_estimators': 100, 'min_child_weight': 1, 'max_depth': 10, 'learning_rate': 0.05, 'gamma': 1.5, 'colsample_bytree': 0.8}, {'subsample': 0.6, 'n_estimators': 500, 'min_child_weight': 1, 'max_depth': 4, 'learning_rate': 0.02, 'gamma': 5, 'colsample_bytree': 0.6}, {'subsample': 1.0, 'n_estimators': 100, 'min_child_weight': 1, 'max_depth': 4, 'learning_rate': 0.02, 'gamma': 0.1, 'colsample_bytree': 1.0}, {'subsample': 0.8, 'n_estimators': 750, 'min_child_weight': 10, 'max_depth': 5, 'learning_rate': 0.05, 'gamma': 0.5, 'colsample_bytree': 0.8}, {'subsample': 0.6, 'n_estimators': 100, 'min_child_weight': 5, 'max_depth': 4, 'learning_rate': 0.01, 'gamma': 1.5, 'colsample_bytree': 0.8}, {'subsample': 1.0, 'n_estimators': 100, 'min_child_weight': 10, 'max_depth': 12, 'learning_rate': 0.25, 'gamma': 5, 'colsample_bytree': 0.8}, {'subsample': 1.0, 'n_estimators': 200, 'min_child_weight': 10, 'max_depth': 10, 'learning_rate': 0.01, 'gamma': 1, 'colsample_bytree': 0.6}, {'subsample': 0.6, 'n_estimators': 200, 'min_child_weight': 1, 'max_depth': 4, 'learning_rate': 0.25, 'gamma': 1, 'colsample_bytree': 0.6}, {'subsample': 0.6, 'n_estimators': 500, 'min_child_weight': 10, 'max_depth': 3, 'learning_rate': 0.05, 'gamma': 0.1, 'colsample_bytree': 1.0}, {'subsample': 0.6, 'n_estimators': 200, 'min_child_weight': 7, 'max_depth': 3, 'learning_rate': 0.05, 'gamma': 1, 'colsample_bytree': 0.8}, {'subsample': 0.6, 'n_estimators': 750, 'min_child_weight': 1, 'max_depth': 12, 'learning_rate': 0.1, 'gamma': 0.1, 'colsample_bytree': 0.8}, {'subsample': 0.6, 'n_estimators': 200, 'min_child_weight': 10, 'max_depth': 3, 'learning_rate': 0.02, 'gamma': 1, 'colsample_bytree': 0.8}, {'subsample': 1.0, 'n_estimators': 200, 'min_child_weight': 7, 'max_depth': 10, 'learning_rate': 0.25, 'gamma': 1.5, 'colsample_bytree': 1.0}, {'subsample': 0.8, 'n_estimators': 500, 'min_child_weight': 1, 'max_depth': 5, 'learning_rate': 0.01, 'gamma': 0.5, 'colsample_bytree': 0.6}, {'subsample': 0.8, 'n_estimators': 500, 'min_child_weight': 1, 'max_depth': 10, 'learning_rate': 0.1, 'gamma': 5, 'colsample_bytree': 1.0}, {'subsample': 1.0, 'n_estimators': 100, 'min_child_weight': 10, 'max_depth': 5, 'learning_rate': 0.02, 'gamma': 5, 'colsample_bytree': 0.6}, {'subsample': 0.8, 'n_estimators': 200, 'min_child_weight': 10, 'max_depth': 4, 'learning_rate': 0.05, 'gamma': 1, 'colsample_bytree': 0.6}, {'subsample': 0.8, 'n_estimators': 500, 'min_child_weight': 7, 'max_depth': 5, 'learning_rate': 0.02, 'gamma': 0.5, 'colsample_bytree': 1.0}, {'subsample': 0.6, 'n_estimators': 750, 'min_child_weight': 10, 'max_depth': 10, 'learning_rate': 0.25, 'gamma': 0.5, 'colsample_bytree': 1.0}, {'subsample': 1.0, 'n_estimators': 500, 'min_child_weight': 1, 'max_depth': 3, 'learning_rate': 0.05, 'gamma': 0.1, 'colsample_bytree': 1.0}, {'subsample': 0.8, 'n_estimators': 100, 'min_child_weight': 5, 'max_depth': 3, 'learning_rate': 0.1, 'gamma': 1.5, 'colsample_bytree': 0.8}, {'subsample': 0.8, 'n_estimators': 200, 'min_child_weight': 10, 'max_depth': 10, 'learning_rate': 0.25, 'gamma': 0.5, 'colsample_bytree': 0.8}, {'subsample': 0.6, 'n_estimators': 750, 'min_child_weight': 1, 'max_depth': 12, 'learning_rate': 0.02, 'gamma': 0.1, 'colsample_bytree': 1.0}, {'subsample': 0.8, 'n_estimators': 750, 'min_child_weight': 10, 'max_depth': 10, 'learning_rate': 0.25, 'gamma': 1.5, 'colsample_bytree': 0.6}, {'subsample': 0.6, 'n_estimators': 750, 'min_child_weight': 10, 'max_depth': 4, 'learning_rate': 0.01, 'gamma': 0.5, 'colsample_bytree': 1.0}, {'subsample': 1.0, 'n_estimators': 200, 'min_child_weight': 5, 'max_depth': 12, 'learning_rate': 0.01, 'gamma': 1.5, 'colsample_bytree': 1.0}, {'subsample': 0.6, 'n_estimators': 100, 'min_child_weight': 1, 'max_depth': 4, 'learning_rate': 0.05, 'gamma': 1.5, 'colsample_bytree': 0.6}, {'subsample': 1.0, 'n_estimators': 500, 'min_child_weight': 7, 'max_depth': 10, 'learning_rate': 0.25, 'gamma': 5, 'colsample_bytree': 0.6}, {'subsample': 0.6, 'n_estimators': 500, 'min_child_weight': 5, 'max_depth': 12, 'learning_rate': 0.25, 'gamma': 0.5, 'colsample_bytree': 0.8}, {'subsample': 0.8, 'n_estimators': 200, 'min_child_weight': 5, 'max_depth': 4, 'learning_rate': 0.02, 'gamma': 1, 'colsample_bytree': 0.6}, {'subsample': 1.0, 'n_estimators': 100, 'min_child_weight': 10, 'max_depth': 10, 'learning_rate': 0.02, 'gamma': 5, 'colsample_bytree': 0.6}, {'subsample': 0.6, 'n_estimators': 750, 'min_child_weight': 7, 'max_depth': 4, 'learning_rate': 0.25, 'gamma': 0.1, 'colsample_bytree': 1.0}, {'subsample': 0.6, 'n_estimators': 750, 'min_child_weight': 5, 'max_depth': 12, 'learning_rate': 0.1, 'gamma': 0.1, 'colsample_bytree': 1.0}, {'subsample': 0.6, 'n_estimators': 200, 'min_child_weight': 7, 'max_depth': 12, 'learning_rate': 0.25, 'gamma': 1.5, 'colsample_bytree': 0.6}, {'subsample': 0.6, 'n_estimators': 100, 'min_child_weight': 10, 'max_depth': 3, 'learning_rate': 0.25, 'gamma': 5, 'colsample_bytree': 1.0}, {'subsample': 0.6, 'n_estimators': 200, 'min_child_weight': 1, 'max_depth': 10, 'learning_rate': 0.01, 'gamma': 0.1, 'colsample_bytree': 0.8}, {'subsample': 0.8, 'n_estimators': 200, 'min_child_weight': 7, 'max_depth': 4, 'learning_rate': 0.01, 'gamma': 5, 'colsample_bytree': 0.8}, {'subsample': 1.0, 'n_estimators': 750, 'min_child_weight': 10, 'max_depth': 3, 'learning_rate': 0.1, 'gamma': 1, 'colsample_bytree': 1.0}, {'subsample': 1.0, 'n_estimators': 500, 'min_child_weight': 5, 'max_depth': 12, 'learning_rate': 0.05, 'gamma': 1.5, 'colsample_bytree': 1.0}, {'subsample': 0.8, 'n_estimators': 750, 'min_child_weight': 5, 'max_depth': 10, 'learning_rate': 0.01, 'gamma': 5, 'colsample_bytree': 1.0}, {'subsample': 0.8, 'n_estimators': 100, 'min_child_weight': 5, 'max_depth': 3, 'learning_rate': 0.02, 'gamma': 0.5, 'colsample_bytree': 0.8}, {'subsample': 0.8, 'n_estimators': 100, 'min_child_weight': 10, 'max_depth': 10, 'learning_rate': 0.25, 'gamma': 0.5, 'colsample_bytree': 1.0}, {'subsample': 1.0, 'n_estimators': 500, 'min_child_weight': 10, 'max_depth': 12, 'learning_rate': 0.02, 'gamma': 0.5, 'colsample_bytree': 1.0}, {'subsample': 0.6, 'n_estimators': 500, 'min_child_weight': 1, 'max_depth': 5, 'learning_rate': 0.25, 'gamma': 5, 'colsample_bytree': 1.0}, {'subsample': 1.0, 'n_estimators': 500, 'min_child_weight': 5, 'max_depth': 5, 'learning_rate': 0.1, 'gamma': 0.1, 'colsample_bytree': 0.6}, {'subsample': 1.0, 'n_estimators': 500, 'min_child_weight': 10, 'max_depth': 3, 'learning_rate': 0.01, 'gamma': 1, 'colsample_bytree': 0.6}, {'subsample': 0.8, 'n_estimators': 100, 'min_child_weight': 7, 'max_depth': 10, 'learning_rate': 0.01, 'gamma': 0.5, 'colsample_bytree': 1.0}, {'subsample': 0.6, 'n_estimators': 500, 'min_child_weight': 7, 'max_depth': 3, 'learning_rate': 0.05, 'gamma': 0.5, 'colsample_bytree': 0.6}, {'subsample': 0.8, 'n_estimators': 100, 'min_child_weight': 5, 'max_depth': 4, 'learning_rate': 0.05, 'gamma': 1, 'colsample_bytree': 0.8}, {'subsample': 0.6, 'n_estimators': 100, 'min_child_weight': 7, 'max_depth': 4, 'learning_rate': 0.1, 'gamma': 1, 'colsample_bytree': 1.0}, {'subsample': 1.0, 'n_estimators': 200, 'min_child_weight': 1, 'max_depth': 5, 'learning_rate': 0.1, 'gamma': 1.5, 'colsample_bytree': 0.8}, {'subsample': 0.8, 'n_estimators': 500, 'min_child_weight': 10, 'max_depth': 5, 'learning_rate': 0.05, 'gamma': 5, 'colsample_bytree': 0.8}, {'subsample': 0.6, 'n_estimators': 100, 'min_child_weight': 5, 'max_depth': 12, 'learning_rate': 0.01, 'gamma': 1, 'colsample_bytree': 1.0}, {'subsample': 0.8, 'n_estimators': 100, 'min_child_weight': 1, 'max_depth': 4, 'learning_rate': 0.25, 'gamma': 1.5, 'colsample_bytree': 0.6}, {'subsample': 1.0, 'n_estimators': 750, 'min_child_weight': 10, 'max_depth': 12, 'learning_rate': 0.01, 'gamma': 1.5, 'colsample_bytree': 1.0}, {'subsample': 0.8, 'n_estimators': 100, 'min_child_weight': 10, 'max_depth': 10, 'learning_rate': 0.25, 'gamma': 1, 'colsample_bytree': 0.8}, {'subsample': 0.8, 'n_estimators': 750, 'min_child_weight': 7, 'max_depth': 5, 'learning_rate': 0.1, 'gamma': 1.5, 'colsample_bytree': 0.6}, {'subsample': 0.8, 'n_estimators': 200, 'min_child_weight': 1, 'max_depth': 10, 'learning_rate': 0.25, 'gamma': 1, 'colsample_bytree': 0.8}, {'subsample': 0.6, 'n_estimators': 500, 'min_child_weight': 7, 'max_depth': 3, 'learning_rate': 0.05, 'gamma': 1.5, 'colsample_bytree': 0.6}, {'subsample': 0.8, 'n_estimators': 200, 'min_child_weight': 10, 'max_depth': 12, 'learning_rate': 0.25, 'gamma': 1, 'colsample_bytree': 1.0}, {'subsample': 0.6, 'n_estimators': 100, 'min_child_weight': 5, 'max_depth': 10, 'learning_rate': 0.02, 'gamma': 1, 'colsample_bytree': 0.6}, {'subsample': 1.0, 'n_estimators': 100, 'min_child_weight': 1, 'max_depth': 4, 'learning_rate': 0.01, 'gamma': 1, 'colsample_bytree': 0.6}, {'subsample': 1.0, 'n_estimators': 500, 'min_child_weight': 1, 'max_depth': 3, 'learning_rate': 0.05, 'gamma': 0.5, 'colsample_bytree': 0.6}, {'subsample': 0.8, 'n_estimators': 750, 'min_child_weight': 10, 'max_depth': 5, 'learning_rate': 0.01, 'gamma': 1, 'colsample_bytree': 0.8}, {'subsample': 0.6, 'n_estimators': 750, 'min_child_weight': 10, 'max_depth': 4, 'learning_rate': 0.05, 'gamma': 1, 'colsample_bytree': 0.6}, {'subsample': 0.6, 'n_estimators': 500, 'min_child_weight': 10, 'max_depth': 3, 'learning_rate': 0.25, 'gamma': 0.5, 'colsample_bytree': 0.6}, {'subsample': 0.8, 'n_estimators': 100, 'min_child_weight': 1, 'max_depth': 12, 'learning_rate': 0.25, 'gamma': 1, 'colsample_bytree': 1.0}, {'subsample': 0.8, 'n_estimators': 500, 'min_child_weight': 10, 'max_depth': 10, 'learning_rate': 0.02, 'gamma': 5, 'colsample_bytree': 0.6}, {'subsample': 0.8, 'n_estimators': 500, 'min_child_weight': 1, 'max_depth': 3, 'learning_rate': 0.1, 'gamma': 1, 'colsample_bytree': 1.0}, {'subsample': 0.6, 'n_estimators': 750, 'min_child_weight': 10, 'max_depth': 4, 'learning_rate': 0.01, 'gamma': 0.5, 'colsample_bytree': 0.8}, {'subsample': 0.8, 'n_estimators': 100, 'min_child_weight': 7, 'max_depth': 3, 'learning_rate': 0.1, 'gamma': 0.5, 'colsample_bytree': 0.8}, {'subsample': 1.0, 'n_estimators': 200, 'min_child_weight': 5, 'max_depth': 12, 'learning_rate': 0.1, 'gamma': 0.5, 'colsample_bytree': 0.8}, {'subsample': 0.6, 'n_estimators': 500, 'min_child_weight': 10, 'max_depth': 10, 'learning_rate': 0.25, 'gamma': 1, 'colsample_bytree': 1.0}, {'subsample': 0.8, 'n_estimators': 500, 'min_child_weight': 5, 'max_depth': 10, 'learning_rate': 0.25, 'gamma': 0.5, 'colsample_bytree': 0.8}, {'subsample': 0.8, 'n_estimators': 200, 'min_child_weight': 5, 'max_depth': 10, 'learning_rate': 0.25, 'gamma': 0.5, 'colsample_bytree': 1.0}, {'subsample': 0.6, 'n_estimators': 500, 'min_child_weight': 7, 'max_depth': 12, 'learning_rate': 0.01, 'gamma': 5, 'colsample_bytree': 0.6}, {'subsample': 0.6, 'n_estimators': 750, 'min_child_weight': 5, 'max_depth': 12, 'learning_rate': 0.01, 'gamma': 1, 'colsample_bytree': 1.0}, {'subsample': 0.6, 'n_estimators': 500, 'min_child_weight': 1, 'max_depth': 5, 'learning_rate': 0.02, 'gamma': 5, 'colsample_bytree': 0.6}, {'subsample': 0.6, 'n_estimators': 100, 'min_child_weight': 10, 'max_depth': 5, 'learning_rate': 0.1, 'gamma': 5, 'colsample_bytree': 1.0}, {'subsample': 0.6, 'n_estimators': 500, 'min_child_weight': 10, 'max_depth': 12, 'learning_rate': 0.02, 'gamma': 1.5, 'colsample_bytree': 0.6}, {'subsample': 0.8, 'n_estimators': 750, 'min_child_weight': 5, 'max_depth': 12, 'learning_rate': 0.1, 'gamma': 0.1, 'colsample_bytree': 0.8}, {'subsample': 1.0, 'n_estimators': 100, 'min_child_weight': 10, 'max_depth': 12, 'learning_rate': 0.01, 'gamma': 5, 'colsample_bytree': 0.6}, {'subsample': 1.0, 'n_estimators': 200, 'min_child_weight': 1, 'max_depth': 4, 'learning_rate': 0.01, 'gamma': 1.5, 'colsample_bytree': 1.0}, {'subsample': 0.8, 'n_estimators': 200, 'min_child_weight': 1, 'max_depth': 5, 'learning_rate': 0.05, 'gamma': 0.1, 'colsample_bytree': 0.8}, {'subsample': 0.6, 'n_estimators': 200, 'min_child_weight': 7, 'max_depth': 10, 'learning_rate': 0.01, 'gamma': 1.5, 'colsample_bytree': 0.8}, {'subsample': 0.8, 'n_estimators': 750, 'min_child_weight': 1, 'max_depth': 5, 'learning_rate': 0.25, 'gamma': 1.5, 'colsample_bytree': 0.8}, {'subsample': 0.6, 'n_estimators': 750, 'min_child_weight': 7, 'max_depth': 3, 'learning_rate': 0.25, 'gamma': 0.5, 'colsample_bytree': 1.0}, {'subsample': 0.6, 'n_estimators': 500, 'min_child_weight': 10, 'max_depth': 12, 'learning_rate': 0.25, 'gamma': 1, 'colsample_bytree': 0.6}, {'subsample': 0.6, 'n_estimators': 750, 'min_child_weight': 7, 'max_depth': 10, 'learning_rate': 0.05, 'gamma': 0.5, 'colsample_bytree': 1.0}, {'subsample': 0.8, 'n_estimators': 100, 'min_child_weight': 10, 'max_depth': 4, 'learning_rate': 0.01, 'gamma': 0.1, 'colsample_bytree': 1.0}, {'subsample': 1.0, 'n_estimators': 100, 'min_child_weight': 1, 'max_depth': 3, 'learning_rate': 0.02, 'gamma': 5, 'colsample_bytree': 0.8}, {'subsample': 0.6, 'n_estimators': 500, 'min_child_weight': 1, 'max_depth': 4, 'learning_rate': 0.1, 'gamma': 5, 'colsample_bytree': 0.8}, {'subsample': 0.6, 'n_estimators': 200, 'min_child_weight': 5, 'max_depth': 12, 'learning_rate': 0.1, 'gamma': 1.5, 'colsample_bytree': 1.0}, {'subsample': 1.0, 'n_estimators': 750, 'min_child_weight': 7, 'max_depth': 5, 'learning_rate': 0.02, 'gamma': 1.5, 'colsample_bytree': 1.0}, {'subsample': 0.6, 'n_estimators': 750, 'min_child_weight': 1, 'max_depth': 4, 'learning_rate': 0.02, 'gamma': 1.5, 'colsample_bytree': 1.0}, {'subsample': 0.6, 'n_estimators': 750, 'min_child_weight': 7, 'max_depth': 4, 'learning_rate': 0.01, 'gamma': 1, 'colsample_bytree': 0.6}, {'subsample': 0.6, 'n_estimators': 200, 'min_child_weight': 7, 'max_depth': 10, 'learning_rate': 0.05, 'gamma': 0.1, 'colsample_bytree': 0.6}, {'subsample': 1.0, 'n_estimators': 100, 'min_child_weight': 5, 'max_depth': 5, 'learning_rate': 0.25, 'gamma': 0.1, 'colsample_bytree': 0.8}, {'subsample': 0.6, 'n_estimators': 750, 'min_child_weight': 1, 'max_depth': 4, 'learning_rate': 0.05, 'gamma': 1, 'colsample_bytree': 0.8}, {'subsample': 0.6, 'n_estimators': 750, 'min_child_weight': 5, 'max_depth': 4, 'learning_rate': 0.1, 'gamma': 0.1, 'colsample_bytree': 1.0}, {'subsample': 1.0, 'n_estimators': 200, 'min_child_weight': 1, 'max_depth': 10, 'learning_rate': 0.02, 'gamma': 5, 'colsample_bytree': 0.8}, {'subsample': 0.6, 'n_estimators': 750, 'min_child_weight': 7, 'max_depth': 10, 'learning_rate': 0.01, 'gamma': 0.5, 'colsample_bytree': 1.0}, {'subsample': 1.0, 'n_estimators': 500, 'min_child_weight': 7, 'max_depth': 5, 'learning_rate': 0.01, 'gamma': 0.5, 'colsample_bytree': 0.6}, {'subsample': 0.8, 'n_estimators': 200, 'min_child_weight': 7, 'max_depth': 4, 'learning_rate': 0.02, 'gamma': 5, 'colsample_bytree': 1.0}, {'subsample': 1.0, 'n_estimators': 100, 'min_child_weight': 1, 'max_depth': 10, 'learning_rate': 0.01, 'gamma': 1, 'colsample_bytree': 0.8}, {'subsample': 0.6, 'n_estimators': 750, 'min_child_weight': 5, 'max_depth': 5, 'learning_rate': 0.1, 'gamma': 1, 'colsample_bytree': 1.0}, {'subsample': 1.0, 'n_estimators': 200, 'min_child_weight': 7, 'max_depth': 12, 'learning_rate': 0.1, 'gamma': 0.5, 'colsample_bytree': 0.6}, {'subsample': 1.0, 'n_estimators': 100, 'min_child_weight': 10, 'max_depth': 5, 'learning_rate': 0.05, 'gamma': 5, 'colsample_bytree': 0.6}, {'subsample': 0.6, 'n_estimators': 750, 'min_child_weight': 7, 'max_depth': 10, 'learning_rate': 0.25, 'gamma': 0.5, 'colsample_bytree': 0.8}, {'subsample': 0.8, 'n_estimators': 100, 'min_child_weight': 7, 'max_depth': 5, 'learning_rate': 0.05, 'gamma': 5, 'colsample_bytree': 0.8}, {'subsample': 0.6, 'n_estimators': 200, 'min_child_weight': 10, 'max_depth': 12, 'learning_rate': 0.05, 'gamma': 0.5, 'colsample_bytree': 0.8}, {'subsample': 1.0, 'n_estimators': 750, 'min_child_weight': 5, 'max_depth': 3, 'learning_rate': 0.01, 'gamma': 5, 'colsample_bytree': 1.0}, {'subsample': 0.6, 'n_estimators': 100, 'min_child_weight': 1, 'max_depth': 4, 'learning_rate': 0.25, 'gamma': 0.1, 'colsample_bytree': 1.0}, {'subsample': 0.8, 'n_estimators': 750, 'min_child_weight': 5, 'max_depth': 12, 'learning_rate': 0.01, 'gamma': 1, 'colsample_bytree': 0.6}, {'subsample': 0.8, 'n_estimators': 200, 'min_child_weight': 1, 'max_depth': 10, 'learning_rate': 0.25, 'gamma': 5, 'colsample_bytree': 0.6}, {'subsample': 0.6, 'n_estimators': 750, 'min_child_weight': 7, 'max_depth': 5, 'learning_rate': 0.05, 'gamma': 1.5, 'colsample_bytree': 1.0}, {'subsample': 1.0, 'n_estimators': 200, 'min_child_weight': 5, 'max_depth': 5, 'learning_rate': 0.05, 'gamma': 1, 'colsample_bytree': 0.8}, {'subsample': 0.6, 'n_estimators': 200, 'min_child_weight': 5, 'max_depth': 3, 'learning_rate': 0.02, 'gamma': 1.5, 'colsample_bytree': 0.8}, {'subsample': 0.8, 'n_estimators': 750, 'min_child_weight': 1, 'max_depth': 10, 'learning_rate': 0.25, 'gamma': 1.5, 'colsample_bytree': 0.8}, {'subsample': 0.6, 'n_estimators': 750, 'min_child_weight': 10, 'max_depth': 10, 'learning_rate': 0.01, 'gamma': 1, 'colsample_bytree': 0.6}, {'subsample': 1.0, 'n_estimators': 500, 'min_child_weight': 1, 'max_depth': 10, 'learning_rate': 0.02, 'gamma': 0.5, 'colsample_bytree': 0.8}, {'subsample': 1.0, 'n_estimators': 750, 'min_child_weight': 10, 'max_depth': 10, 'learning_rate': 0.02, 'gamma': 1, 'colsample_bytree': 1.0}, {'subsample': 0.6, 'n_estimators': 750, 'min_child_weight': 5, 'max_depth': 10, 'learning_rate': 0.25, 'gamma': 0.5, 'colsample_bytree': 0.6}, {'subsample': 0.8, 'n_estimators': 500, 'min_child_weight': 5, 'max_depth': 3, 'learning_rate': 0.01, 'gamma': 0.1, 'colsample_bytree': 0.6}, {'subsample': 1.0, 'n_estimators': 200, 'min_child_weight': 1, 'max_depth': 10, 'learning_rate': 0.02, 'gamma': 0.1, 'colsample_bytree': 0.8}, {'subsample': 0.6, 'n_estimators': 500, 'min_child_weight': 1, 'max_depth': 4, 'learning_rate': 0.1, 'gamma': 0.5, 'colsample_bytree': 0.8}, {'subsample': 0.6, 'n_estimators': 500, 'min_child_weight': 5, 'max_depth': 4, 'learning_rate': 0.02, 'gamma': 0.5, 'colsample_bytree': 1.0}, {'subsample': 1.0, 'n_estimators': 200, 'min_child_weight': 10, 'max_depth': 4, 'learning_rate': 0.1, 'gamma': 1.5, 'colsample_bytree': 1.0}, {'subsample': 0.6, 'n_estimators': 200, 'min_child_weight': 1, 'max_depth': 12, 'learning_rate': 0.05, 'gamma': 1.5, 'colsample_bytree': 1.0}, {'subsample': 1.0, 'n_estimators': 750, 'min_child_weight': 5, 'max_depth': 5, 'learning_rate': 0.02, 'gamma': 1, 'colsample_bytree': 0.8}, {'subsample': 0.6, 'n_estimators': 100, 'min_child_weight': 5, 'max_depth': 5, 'learning_rate': 0.1, 'gamma': 0.1, 'colsample_bytree': 0.6}, {'subsample': 0.8, 'n_estimators': 500, 'min_child_weight': 7, 'max_depth': 5, 'learning_rate': 0.1, 'gamma': 1.5, 'colsample_bytree': 0.8}, {'subsample': 0.8, 'n_estimators': 500, 'min_child_weight': 7, 'max_depth': 3, 'learning_rate': 0.1, 'gamma': 0.1, 'colsample_bytree': 1.0}, {'subsample': 0.6, 'n_estimators': 500, 'min_child_weight': 10, 'max_depth': 10, 'learning_rate': 0.02, 'gamma': 1, 'colsample_bytree': 1.0}, {'subsample': 0.8, 'n_estimators': 750, 'min_child_weight': 7, 'max_depth': 12, 'learning_rate': 0.1, 'gamma': 0.5, 'colsample_bytree': 0.6}, {'subsample': 0.6, 'n_estimators': 200, 'min_child_weight': 1, 'max_depth': 5, 'learning_rate': 0.1, 'gamma': 5, 'colsample_bytree': 0.8}, {'subsample': 0.8, 'n_estimators': 100, 'min_child_weight': 5, 'max_depth': 5, 'learning_rate': 0.01, 'gamma': 5, 'colsample_bytree': 0.6}, {'subsample': 0.6, 'n_estimators': 500, 'min_child_weight': 1, 'max_depth': 4, 'learning_rate': 0.02, 'gamma': 1.5, 'colsample_bytree': 0.8}, {'subsample': 0.8, 'n_estimators': 200, 'min_child_weight': 7, 'max_depth': 3, 'learning_rate': 0.05, 'gamma': 1, 'colsample_bytree': 0.8}, {'subsample': 0.8, 'n_estimators': 750, 'min_child_weight': 1, 'max_depth': 4, 'learning_rate': 0.02, 'gamma': 5, 'colsample_bytree': 0.6}, {'subsample': 0.8, 'n_estimators': 750, 'min_child_weight': 5, 'max_depth': 5, 'learning_rate': 0.05, 'gamma': 1, 'colsample_bytree': 0.6}, {'subsample': 0.6, 'n_estimators': 750, 'min_child_weight': 7, 'max_depth': 12, 'learning_rate': 0.05, 'gamma': 0.1, 'colsample_bytree': 0.6}, {'subsample': 1.0, 'n_estimators': 750, 'min_child_weight': 10, 'max_depth': 12, 'learning_rate': 0.01, 'gamma': 5, 'colsample_bytree': 1.0}, {'subsample': 0.8, 'n_estimators': 200, 'min_child_weight': 10, 'max_depth': 4, 'learning_rate': 0.05, 'gamma': 0.5, 'colsample_bytree': 0.6}, {'subsample': 0.6, 'n_estimators': 500, 'min_child_weight': 5, 'max_depth': 12, 'learning_rate': 0.25, 'gamma': 1, 'colsample_bytree': 0.6}, {'subsample': 0.8, 'n_estimators': 750, 'min_child_weight': 1, 'max_depth': 12, 'learning_rate': 0.25, 'gamma': 0.1, 'colsample_bytree': 0.6}, {'subsample': 1.0, 'n_estimators': 100, 'min_child_weight': 7, 'max_depth': 4, 'learning_rate': 0.02, 'gamma': 1, 'colsample_bytree': 0.6}, {'subsample': 0.8, 'n_estimators': 750, 'min_child_weight': 10, 'max_depth': 4, 'learning_rate': 0.05, 'gamma': 0.1, 'colsample_bytree': 1.0}, {'subsample': 0.8, 'n_estimators': 500, 'min_child_weight': 7, 'max_depth': 5, 'learning_rate': 0.1, 'gamma': 1.5, 'colsample_bytree': 0.6}, {'subsample': 1.0, 'n_estimators': 500, 'min_child_weight': 1, 'max_depth': 3, 'learning_rate': 0.02, 'gamma': 1.5, 'colsample_bytree': 0.6}, {'subsample': 0.8, 'n_estimators': 750, 'min_child_weight': 10, 'max_depth': 10, 'learning_rate': 0.02, 'gamma': 1, 'colsample_bytree': 0.6}, {'subsample': 0.8, 'n_estimators': 200, 'min_child_weight': 10, 'max_depth': 5, 'learning_rate': 0.05, 'gamma': 1.5, 'colsample_bytree': 0.8}, {'subsample': 1.0, 'n_estimators': 750, 'min_child_weight': 7, 'max_depth': 10, 'learning_rate': 0.1, 'gamma': 1, 'colsample_bytree': 1.0}, {'subsample': 1.0, 'n_estimators': 500, 'min_child_weight': 7, 'max_depth': 10, 'learning_rate': 0.05, 'gamma': 0.1, 'colsample_bytree': 0.8}, {'subsample': 0.6, 'n_estimators': 750, 'min_child_weight': 1, 'max_depth': 3, 'learning_rate': 0.1, 'gamma': 5, 'colsample_bytree': 1.0}, {'subsample': 0.8, 'n_estimators': 750, 'min_child_weight': 1, 'max_depth': 4, 'learning_rate': 0.02, 'gamma': 0.1, 'colsample_bytree': 0.8}, {'subsample': 0.8, 'n_estimators': 750, 'min_child_weight': 7, 'max_depth': 5, 'learning_rate': 0.1, 'gamma': 0.5, 'colsample_bytree': 1.0}, {'subsample': 0.6, 'n_estimators': 200, 'min_child_weight': 10, 'max_depth': 10, 'learning_rate': 0.1, 'gamma': 5, 'colsample_bytree': 1.0}, {'subsample': 0.8, 'n_estimators': 200, 'min_child_weight': 5, 'max_depth': 4, 'learning_rate': 0.1, 'gamma': 1, 'colsample_bytree': 0.6}, {'subsample': 1.0, 'n_estimators': 750, 'min_child_weight': 10, 'max_depth': 3, 'learning_rate': 0.25, 'gamma': 1.5, 'colsample_bytree': 1.0}, {'subsample': 0.6, 'n_estimators': 200, 'min_child_weight': 1, 'max_depth': 4, 'learning_rate': 0.1, 'gamma': 0.5, 'colsample_bytree': 0.8}, {'subsample': 1.0, 'n_estimators': 500, 'min_child_weight': 5, 'max_depth': 10, 'learning_rate': 0.05, 'gamma': 1, 'colsample_bytree': 0.8}, {'subsample': 1.0, 'n_estimators': 500, 'min_child_weight': 1, 'max_depth': 3, 'learning_rate': 0.1, 'gamma': 1, 'colsample_bytree': 0.6}, {'subsample': 1.0, 'n_estimators': 100, 'min_child_weight': 5, 'max_depth': 5, 'learning_rate': 0.02, 'gamma': 1.5, 'colsample_bytree': 0.6}, {'subsample': 0.6, 'n_estimators': 750, 'min_child_weight': 7, 'max_depth': 10, 'learning_rate': 0.05, 'gamma': 0.1, 'colsample_bytree': 0.6}, {'subsample': 0.6, 'n_estimators': 500, 'min_child_weight': 5, 'max_depth': 3, 'learning_rate': 0.1, 'gamma': 1, 'colsample_bytree': 0.8}, {'subsample': 0.8, 'n_estimators': 500, 'min_child_weight': 5, 'max_depth': 4, 'learning_rate': 0.1, 'gamma': 0.1, 'colsample_bytree': 1.0}, {'subsample': 1.0, 'n_estimators': 500, 'min_child_weight': 10, 'max_depth': 5, 'learning_rate': 0.05, 'gamma': 1.5, 'colsample_bytree': 0.6}, {'subsample': 1.0, 'n_estimators': 200, 'min_child_weight': 5, 'max_depth': 4, 'learning_rate': 0.25, 'gamma': 0.5, 'colsample_bytree': 0.8}, {'subsample': 0.8, 'n_estimators': 500, 'min_child_weight': 10, 'max_depth': 10, 'learning_rate': 0.01, 'gamma': 0.5, 'colsample_bytree': 0.8}, {'subsample': 1.0, 'n_estimators': 750, 'min_child_weight': 1, 'max_depth': 3, 'learning_rate': 0.02, 'gamma': 1.5, 'colsample_bytree': 0.8}, {'subsample': 1.0, 'n_estimators': 750, 'min_child_weight': 1, 'max_depth': 3, 'learning_rate': 0.25, 'gamma': 0.1, 'colsample_bytree': 0.6}, {'subsample': 0.6, 'n_estimators': 500, 'min_child_weight': 7, 'max_depth': 12, 'learning_rate': 0.05, 'gamma': 1, 'colsample_bytree': 0.6}, {'subsample': 0.8, 'n_estimators': 500, 'min_child_weight': 10, 'max_depth': 3, 'learning_rate': 0.1, 'gamma': 1, 'colsample_bytree': 0.8}, {'subsample': 0.8, 'n_estimators': 500, 'min_child_weight': 1, 'max_depth': 4, 'learning_rate': 0.05, 'gamma': 5, 'colsample_bytree': 0.8}, {'subsample': 0.6, 'n_estimators': 200, 'min_child_weight': 1, 'max_depth': 12, 'learning_rate': 0.25, 'gamma': 5, 'colsample_bytree': 0.8}, {'subsample': 0.8, 'n_estimators': 100, 'min_child_weight': 1, 'max_depth': 3, 'learning_rate': 0.02, 'gamma': 1, 'colsample_bytree': 0.6}, {'subsample': 0.6, 'n_estimators': 200, 'min_child_weight': 10, 'max_depth': 3, 'learning_rate': 0.05, 'gamma': 0.5, 'colsample_bytree': 0.8}, {'subsample': 0.6, 'n_estimators': 750, 'min_child_weight': 7, 'max_depth': 4, 'learning_rate': 0.25, 'gamma': 0.5, 'colsample_bytree': 0.8}, {'subsample': 1.0, 'n_estimators': 750, 'min_child_weight': 7, 'max_depth': 4, 'learning_rate': 0.25, 'gamma': 1.5, 'colsample_bytree': 0.8}, {'subsample': 0.6, 'n_estimators': 750, 'min_child_weight': 10, 'max_depth': 3, 'learning_rate': 0.05, 'gamma': 1.5, 'colsample_bytree': 0.6}, {'subsample': 0.6, 'n_estimators': 750, 'min_child_weight': 5, 'max_depth': 4, 'learning_rate': 0.25, 'gamma': 1.5, 'colsample_bytree': 0.6}, {'subsample': 1.0, 'n_estimators': 200, 'min_child_weight': 7, 'max_depth': 3, 'learning_rate': 0.05, 'gamma': 1, 'colsample_bytree': 0.8}, {'subsample': 0.6, 'n_estimators': 100, 'min_child_weight': 7, 'max_depth': 5, 'learning_rate': 0.05, 'gamma': 1, 'colsample_bytree': 0.6}, {'subsample': 0.8, 'n_estimators': 100, 'min_child_weight': 5, 'max_depth': 3, 'learning_rate': 0.05, 'gamma': 0.1, 'colsample_bytree': 1.0}, {'subsample': 1.0, 'n_estimators': 100, 'min_child_weight': 10, 'max_depth': 5, 'learning_rate': 0.02, 'gamma': 5, 'colsample_bytree': 1.0}, {'subsample': 1.0, 'n_estimators': 500, 'min_child_weight': 5, 'max_depth': 5, 'learning_rate': 0.05, 'gamma': 1.5, 'colsample_bytree': 0.8}, {'subsample': 1.0, 'n_estimators': 100, 'min_child_weight': 10, 'max_depth': 10, 'learning_rate': 0.25, 'gamma': 1.5, 'colsample_bytree': 0.8}, {'subsample': 0.8, 'n_estimators': 750, 'min_child_weight': 1, 'max_depth': 12, 'learning_rate': 0.25, 'gamma': 1, 'colsample_bytree': 0.6}, {'subsample': 1.0, 'n_estimators': 750, 'min_child_weight': 10, 'max_depth': 10, 'learning_rate': 0.01, 'gamma': 1, 'colsample_bytree': 1.0}, {'subsample': 0.8, 'n_estimators': 100, 'min_child_weight': 5, 'max_depth': 12, 'learning_rate': 0.25, 'gamma': 1, 'colsample_bytree': 1.0}, {'subsample': 0.6, 'n_estimators': 100, 'min_child_weight': 7, 'max_depth': 3, 'learning_rate': 0.02, 'gamma': 1.5, 'colsample_bytree': 1.0}, {'subsample': 1.0, 'n_estimators': 100, 'min_child_weight': 5, 'max_depth': 5, 'learning_rate': 0.02, 'gamma': 1, 'colsample_bytree': 1.0}, {'subsample': 1.0, 'n_estimators': 100, 'min_child_weight': 10, 'max_depth': 5, 'learning_rate': 0.05, 'gamma': 1, 'colsample_bytree': 0.6}, {'subsample': 0.6, 'n_estimators': 750, 'min_child_weight': 1, 'max_depth': 3, 'learning_rate': 0.05, 'gamma': 1.5, 'colsample_bytree': 0.6}, {'subsample': 1.0, 'n_estimators': 750, 'min_child_weight': 7, 'max_depth': 5, 'learning_rate': 0.01, 'gamma': 5, 'colsample_bytree': 1.0}, {'subsample': 1.0, 'n_estimators': 100, 'min_child_weight': 5, 'max_depth': 4, 'learning_rate': 0.02, 'gamma': 5, 'colsample_bytree': 0.8}, {'subsample': 0.8, 'n_estimators': 200, 'min_child_weight': 7, 'max_depth': 3, 'learning_rate': 0.02, 'gamma': 5, 'colsample_bytree': 0.8}, {'subsample': 0.8, 'n_estimators': 750, 'min_child_weight': 5, 'max_depth': 10, 'learning_rate': 0.25, 'gamma': 0.1, 'colsample_bytree': 0.8}, {'subsample': 0.8, 'n_estimators': 200, 'min_child_weight': 10, 'max_depth': 10, 'learning_rate': 0.02, 'gamma': 0.1, 'colsample_bytree': 0.6}, {'subsample': 1.0, 'n_estimators': 100, 'min_child_weight': 7, 'max_depth': 4, 'learning_rate': 0.05, 'gamma': 1, 'colsample_bytree': 0.6}, {'subsample': 0.6, 'n_estimators': 200, 'min_child_weight': 1, 'max_depth': 3, 'learning_rate': 0.1, 'gamma': 1.5, 'colsample_bytree': 1.0}, {'subsample': 0.8, 'n_estimators': 500, 'min_child_weight': 5, 'max_depth': 5, 'learning_rate': 0.01, 'gamma': 0.5, 'colsample_bytree': 0.6}, {'subsample': 0.8, 'n_estimators': 100, 'min_child_weight': 1, 'max_depth': 10, 'learning_rate': 0.01, 'gamma': 5, 'colsample_bytree': 0.8}, {'subsample': 1.0, 'n_estimators': 200, 'min_child_weight': 5, 'max_depth': 3, 'learning_rate': 0.05, 'gamma': 0.5, 'colsample_bytree': 0.6}, {'subsample': 0.8, 'n_estimators': 500, 'min_child_weight': 1, 'max_depth': 10, 'learning_rate': 0.01, 'gamma': 5, 'colsample_bytree': 1.0}, {'subsample': 0.6, 'n_estimators': 100, 'min_child_weight': 10, 'max_depth': 3, 'learning_rate': 0.05, 'gamma': 0.5, 'colsample_bytree': 0.8}, {'subsample': 0.8, 'n_estimators': 100, 'min_child_weight': 5, 'max_depth': 4, 'learning_rate': 0.02, 'gamma': 1, 'colsample_bytree': 0.6}, {'subsample': 0.8, 'n_estimators': 750, 'min_child_weight': 10, 'max_depth': 12, 'learning_rate': 0.02, 'gamma': 1.5, 'colsample_bytree': 0.8}, {'subsample': 0.8, 'n_estimators': 750, 'min_child_weight': 10, 'max_depth': 12, 'learning_rate': 0.01, 'gamma': 1, 'colsample_bytree': 0.6}, {'subsample': 1.0, 'n_estimators': 100, 'min_child_weight': 7, 'max_depth': 5, 'learning_rate': 0.25, 'gamma': 0.1, 'colsample_bytree': 1.0}, {'subsample': 0.6, 'n_estimators': 500, 'min_child_weight': 10, 'max_depth': 4, 'learning_rate': 0.25, 'gamma': 0.5, 'colsample_bytree': 0.8}, {'subsample': 0.8, 'n_estimators': 100, 'min_child_weight': 10, 'max_depth': 5, 'learning_rate': 0.1, 'gamma': 1.5, 'colsample_bytree': 1.0}, {'subsample': 0.8, 'n_estimators': 750, 'min_child_weight': 1, 'max_depth': 12, 'learning_rate': 0.25, 'gamma': 1.5, 'colsample_bytree': 0.6}, {'subsample': 1.0, 'n_estimators': 200, 'min_child_weight': 5, 'max_depth': 10, 'learning_rate': 0.25, 'gamma': 1, 'colsample_bytree': 1.0}, {'subsample': 0.8, 'n_estimators': 500, 'min_child_weight': 1, 'max_depth': 10, 'learning_rate': 0.05, 'gamma': 1.5, 'colsample_bytree': 0.8}, {'subsample': 0.8, 'n_estimators': 200, 'min_child_weight': 5, 'max_depth': 12, 'learning_rate': 0.1, 'gamma': 1.5, 'colsample_bytree': 0.8}, {'subsample': 0.6, 'n_estimators': 750, 'min_child_weight': 7, 'max_depth': 5, 'learning_rate': 0.25, 'gamma': 0.5, 'colsample_bytree': 0.8}, {'subsample': 0.6, 'n_estimators': 200, 'min_child_weight': 7, 'max_depth': 4, 'learning_rate': 0.02, 'gamma': 0.5, 'colsample_bytree': 1.0}, {'subsample': 0.6, 'n_estimators': 750, 'min_child_weight': 5, 'max_depth': 4, 'learning_rate': 0.25, 'gamma': 1, 'colsample_bytree': 0.6}, {'subsample': 0.6, 'n_estimators': 200, 'min_child_weight': 10, 'max_depth': 4, 'learning_rate': 0.05, 'gamma': 0.5, 'colsample_bytree': 0.6}, {'subsample': 0.8, 'n_estimators': 100, 'min_child_weight': 10, 'max_depth': 12, 'learning_rate': 0.01, 'gamma': 1, 'colsample_bytree': 0.6}, {'subsample': 0.8, 'n_estimators': 200, 'min_child_weight': 7, 'max_depth': 12, 'learning_rate': 0.25, 'gamma': 0.1, 'colsample_bytree': 1.0}, {'subsample': 1.0, 'n_estimators': 750, 'min_child_weight': 10, 'max_depth': 12, 'learning_rate': 0.1, 'gamma': 1, 'colsample_bytree': 1.0}, {'subsample': 0.8, 'n_estimators': 500, 'min_child_weight': 1, 'max_depth': 4, 'learning_rate': 0.1, 'gamma': 1.5, 'colsample_bytree': 1.0}, {'subsample': 0.6, 'n_estimators': 100, 'min_child_weight': 7, 'max_depth': 4, 'learning_rate': 0.05, 'gamma': 0.5, 'colsample_bytree': 0.8}, {'subsample': 1.0, 'n_estimators': 200, 'min_child_weight': 10, 'max_depth': 4, 'learning_rate': 0.25, 'gamma': 1.5, 'colsample_bytree': 0.8}, {'subsample': 0.8, 'n_estimators': 200, 'min_child_weight': 7, 'max_depth': 10, 'learning_rate': 0.02, 'gamma': 1, 'colsample_bytree': 0.8}, {'subsample': 0.6, 'n_estimators': 500, 'min_child_weight': 1, 'max_depth': 3, 'learning_rate': 0.02, 'gamma': 0.1, 'colsample_bytree': 1.0}, {'subsample': 0.8, 'n_estimators': 100, 'min_child_weight': 10, 'max_depth': 4, 'learning_rate': 0.25, 'gamma': 1, 'colsample_bytree': 0.8}, {'subsample': 0.8, 'n_estimators': 500, 'min_child_weight': 5, 'max_depth': 4, 'learning_rate': 0.25, 'gamma': 0.1, 'colsample_bytree': 0.6}, {'subsample': 0.6, 'n_estimators': 100, 'min_child_weight': 7, 'max_depth': 3, 'learning_rate': 0.1, 'gamma': 0.1, 'colsample_bytree': 0.6}, {'subsample': 1.0, 'n_estimators': 750, 'min_child_weight': 5, 'max_depth': 12, 'learning_rate': 0.25, 'gamma': 5, 'colsample_bytree': 1.0}, {'subsample': 1.0, 'n_estimators': 200, 'min_child_weight': 5, 'max_depth': 3, 'learning_rate': 0.02, 'gamma': 1, 'colsample_bytree': 0.8}, {'subsample': 0.6, 'n_estimators': 500, 'min_child_weight': 10, 'max_depth': 12, 'learning_rate': 0.02, 'gamma': 1, 'colsample_bytree': 0.6}, {'subsample': 0.6, 'n_estimators': 100, 'min_child_weight': 1, 'max_depth': 12, 'learning_rate': 0.02, 'gamma': 5, 'colsample_bytree': 1.0}, {'subsample': 0.6, 'n_estimators': 750, 'min_child_weight': 5, 'max_depth': 10, 'learning_rate': 0.01, 'gamma': 0.1, 'colsample_bytree': 1.0}, {'subsample': 0.8, 'n_estimators': 200, 'min_child_weight': 10, 'max_depth': 4, 'learning_rate': 0.02, 'gamma': 5, 'colsample_bytree': 0.6}, {'subsample': 0.6, 'n_estimators': 750, 'min_child_weight': 1, 'max_depth': 3, 'learning_rate': 0.1, 'gamma': 5, 'colsample_bytree': 0.8}, {'subsample': 1.0, 'n_estimators': 500, 'min_child_weight': 10, 'max_depth': 5, 'learning_rate': 0.05, 'gamma': 1.5, 'colsample_bytree': 0.8}, {'subsample': 1.0, 'n_estimators': 100, 'min_child_weight': 10, 'max_depth': 3, 'learning_rate': 0.01, 'gamma': 0.5, 'colsample_bytree': 0.8}, {'subsample': 1.0, 'n_estimators': 200, 'min_child_weight': 1, 'max_depth': 10, 'learning_rate': 0.25, 'gamma': 1, 'colsample_bytree': 1.0}, {'subsample': 0.6, 'n_estimators': 200, 'min_child_weight': 1, 'max_depth': 12, 'learning_rate': 0.05, 'gamma': 0.1, 'colsample_bytree': 1.0}, {'subsample': 0.6, 'n_estimators': 500, 'min_child_weight': 7, 'max_depth': 10, 'learning_rate': 0.02, 'gamma': 1, 'colsample_bytree': 0.6}, {'subsample': 0.8, 'n_estimators': 100, 'min_child_weight': 5, 'max_depth': 4, 'learning_rate': 0.02, 'gamma': 0.1, 'colsample_bytree': 1.0}, {'subsample': 0.6, 'n_estimators': 100, 'min_child_weight': 10, 'max_depth': 10, 'learning_rate': 0.05, 'gamma': 5, 'colsample_bytree': 0.6}, {'subsample': 0.8, 'n_estimators': 750, 'min_child_weight': 7, 'max_depth': 4, 'learning_rate': 0.05, 'gamma': 0.1, 'colsample_bytree': 1.0}, {'subsample': 0.8, 'n_estimators': 200, 'min_child_weight': 5, 'max_depth': 3, 'learning_rate': 0.05, 'gamma': 0.1, 'colsample_bytree': 1.0}, {'subsample': 1.0, 'n_estimators': 500, 'min_child_weight': 7, 'max_depth': 10, 'learning_rate': 0.25, 'gamma': 0.1, 'colsample_bytree': 1.0}, {'subsample': 0.6, 'n_estimators': 100, 'min_child_weight': 10, 'max_depth': 4, 'learning_rate': 0.02, 'gamma': 1, 'colsample_bytree': 0.8}, {'subsample': 0.8, 'n_estimators': 200, 'min_child_weight': 5, 'max_depth': 5, 'learning_rate': 0.05, 'gamma': 5, 'colsample_bytree': 0.8}, {'subsample': 1.0, 'n_estimators': 200, 'min_child_weight': 7, 'max_depth': 3, 'learning_rate': 0.02, 'gamma': 0.5, 'colsample_bytree': 1.0}, {'subsample': 1.0, 'n_estimators': 750, 'min_child_weight': 10, 'max_depth': 10, 'learning_rate': 0.05, 'gamma': 1, 'colsample_bytree': 1.0}, {'subsample': 0.8, 'n_estimators': 500, 'min_child_weight': 5, 'max_depth': 4, 'learning_rate': 0.01, 'gamma': 0.1, 'colsample_bytree': 0.8}, {'subsample': 0.8, 'n_estimators': 200, 'min_child_weight': 10, 'max_depth': 3, 'learning_rate': 0.01, 'gamma': 1, 'colsample_bytree': 0.8}, {'subsample': 0.6, 'n_estimators': 200, 'min_child_weight': 10, 'max_depth': 5, 'learning_rate': 0.01, 'gamma': 0.5, 'colsample_bytree': 1.0}, {'subsample': 0.8, 'n_estimators': 750, 'min_child_weight': 7, 'max_depth': 12, 'learning_rate': 0.01, 'gamma': 1, 'colsample_bytree': 0.8}, {'subsample': 0.6, 'n_estimators': 100, 'min_child_weight': 7, 'max_depth': 12, 'learning_rate': 0.05, 'gamma': 1.5, 'colsample_bytree': 0.6}, {'subsample': 0.8, 'n_estimators': 500, 'min_child_weight': 1, 'max_depth': 4, 'learning_rate': 0.25, 'gamma': 5, 'colsample_bytree': 0.6}, {'subsample': 1.0, 'n_estimators': 200, 'min_child_weight': 7, 'max_depth': 12, 'learning_rate': 0.01, 'gamma': 0.5, 'colsample_bytree': 1.0}, {'subsample': 0.6, 'n_estimators': 200, 'min_child_weight': 1, 'max_depth': 12, 'learning_rate': 0.25, 'gamma': 1.5, 'colsample_bytree': 0.8}, {'subsample': 0.8, 'n_estimators': 750, 'min_child_weight': 10, 'max_depth': 10, 'learning_rate': 0.05, 'gamma': 1, 'colsample_bytree': 0.6}, {'subsample': 1.0, 'n_estimators': 200, 'min_child_weight': 1, 'max_depth': 12, 'learning_rate': 0.05, 'gamma': 1, 'colsample_bytree': 0.6}, {'subsample': 1.0, 'n_estimators': 750, 'min_child_weight': 7, 'max_depth': 5, 'learning_rate': 0.1, 'gamma': 0.5, 'colsample_bytree': 0.6}, {'subsample': 0.6, 'n_estimators': 500, 'min_child_weight': 7, 'max_depth': 5, 'learning_rate': 0.05, 'gamma': 0.5, 'colsample_bytree': 0.8}, {'subsample': 0.8, 'n_estimators': 500, 'min_child_weight': 10, 'max_depth': 4, 'learning_rate': 0.05, 'gamma': 0.1, 'colsample_bytree': 1.0}, {'subsample': 0.6, 'n_estimators': 100, 'min_child_weight': 10, 'max_depth': 10, 'learning_rate': 0.25, 'gamma': 1.5, 'colsample_bytree': 0.6}, {'subsample': 0.8, 'n_estimators': 200, 'min_child_weight': 1, 'max_depth': 5, 'learning_rate': 0.01, 'gamma': 0.5, 'colsample_bytree': 0.8}, {'subsample': 0.6, 'n_estimators': 100, 'min_child_weight': 1, 'max_depth': 3, 'learning_rate': 0.1, 'gamma': 1, 'colsample_bytree': 0.6}, {'subsample': 0.8, 'n_estimators': 750, 'min_child_weight': 5, 'max_depth': 4, 'learning_rate': 0.02, 'gamma': 0.5, 'colsample_bytree': 0.8}, {'subsample': 1.0, 'n_estimators': 100, 'min_child_weight': 5, 'max_depth': 4, 'learning_rate': 0.05, 'gamma': 1.5, 'colsample_bytree': 1.0}, {'subsample': 0.6, 'n_estimators': 750, 'min_child_weight': 5, 'max_depth': 12, 'learning_rate': 0.01, 'gamma': 1.5, 'colsample_bytree': 0.6}, {'subsample': 0.8, 'n_estimators': 750, 'min_child_weight': 5, 'max_depth': 4, 'learning_rate': 0.01, 'gamma': 0.5, 'colsample_bytree': 0.8}, {'subsample': 0.6, 'n_estimators': 200, 'min_child_weight': 1, 'max_depth': 10, 'learning_rate': 0.05, 'gamma': 0.1, 'colsample_bytree': 1.0}, {'subsample': 0.8, 'n_estimators': 100, 'min_child_weight': 5, 'max_depth': 12, 'learning_rate': 0.25, 'gamma': 5, 'colsample_bytree': 0.6}, {'subsample': 1.0, 'n_estimators': 100, 'min_child_weight': 5, 'max_depth': 10, 'learning_rate': 0.01, 'gamma': 0.1, 'colsample_bytree': 0.8}, {'subsample': 0.8, 'n_estimators': 200, 'min_child_weight': 10, 'max_depth': 4, 'learning_rate': 0.25, 'gamma': 1, 'colsample_bytree': 1.0}, {'subsample': 0.8, 'n_estimators': 500, 'min_child_weight': 1, 'max_depth': 4, 'learning_rate': 0.02, 'gamma': 0.1, 'colsample_bytree': 1.0}, {'subsample': 1.0, 'n_estimators': 750, 'min_child_weight': 1, 'max_depth': 4, 'learning_rate': 0.25, 'gamma': 1, 'colsample_bytree': 0.8}, {'subsample': 1.0, 'n_estimators': 750, 'min_child_weight': 5, 'max_depth': 5, 'learning_rate': 0.1, 'gamma': 5, 'colsample_bytree': 0.6}, {'subsample': 1.0, 'n_estimators': 100, 'min_child_weight': 7, 'max_depth': 5, 'learning_rate': 0.1, 'gamma': 5, 'colsample_bytree': 1.0}, {'subsample': 1.0, 'n_estimators': 100, 'min_child_weight': 1, 'max_depth': 3, 'learning_rate': 0.1, 'gamma': 0.5, 'colsample_bytree': 1.0}, {'subsample': 1.0, 'n_estimators': 500, 'min_child_weight': 5, 'max_depth': 3, 'learning_rate': 0.25, 'gamma': 0.1, 'colsample_bytree': 0.6}], 'split0_test_score': array([0.88372093, 0.88372093, 0.86046512, 0.86046512, 0.8372093 ,\n",
      "       0.88372093, 0.8372093 , 0.90697674, 0.86046512, 0.88372093,\n",
      "       0.88372093, 0.86046512, 0.90697674, 0.86046512, 0.88372093,\n",
      "       0.88372093, 0.86046512, 0.86046512, 0.90697674, 0.8372093 ,\n",
      "       0.8372093 , 0.86046512, 0.90697674, 0.8372093 , 0.90697674,\n",
      "       0.86046512, 0.88372093, 0.86046512, 0.8372093 , 0.88372093,\n",
      "       0.86046512, 0.86046512, 0.86046512, 0.93023256, 0.8372093 ,\n",
      "       0.86046512, 0.86046512, 0.86046512, 0.8372093 , 0.90697674,\n",
      "       0.86046512, 0.90697674, 0.90697674, 0.88372093, 0.81395349,\n",
      "       0.88372093, 0.86046512, 0.88372093, 0.81395349, 0.86046512,\n",
      "       0.86046512, 0.88372093, 0.86046512, 0.8372093 , 0.88372093,\n",
      "       0.8372093 , 0.88372093, 0.8372093 , 0.86046512, 0.88372093,\n",
      "       0.86046512, 0.8372093 , 0.8372093 , 0.8372093 , 0.88372093,\n",
      "       0.8372093 , 0.8372093 , 0.8372093 , 0.86046512, 0.8372093 ,\n",
      "       0.8372093 , 0.8372093 , 0.8372093 , 0.86046512, 0.90697674,\n",
      "       0.8372093 , 0.88372093, 0.86046512, 0.8372093 , 0.86046512,\n",
      "       0.86046512, 0.81395349, 0.88372093, 0.86046512, 0.86046512,\n",
      "       0.88372093, 0.81395349, 0.8372093 , 0.86046512, 0.86046512,\n",
      "       0.8372093 , 0.86046512, 0.88372093, 0.86046512, 0.81395349,\n",
      "       0.86046512, 0.88372093, 0.81395349, 0.86046512, 0.90697674,\n",
      "       0.8372093 , 0.88372093, 0.86046512, 0.86046512, 0.86046512,\n",
      "       0.86046512, 0.8372093 , 0.86046512, 0.8372093 , 0.86046512,\n",
      "       0.86046512, 0.88372093, 0.8372093 , 0.90697674, 0.8372093 ,\n",
      "       0.88372093, 0.8372093 , 0.86046512, 0.81395349, 0.86046512,\n",
      "       0.8372093 , 0.81395349, 0.88372093, 0.88372093, 0.8372093 ,\n",
      "       0.88372093, 0.90697674, 0.8372093 , 0.81395349, 0.90697674,\n",
      "       0.90697674, 0.90697674, 0.90697674, 0.81395349, 0.86046512,\n",
      "       0.8372093 , 0.8372093 , 0.8372093 , 0.90697674, 0.90697674,\n",
      "       0.86046512, 0.86046512, 0.90697674, 0.8372093 , 0.90697674,\n",
      "       0.81395349, 0.8372093 , 0.8372093 , 0.8372093 , 0.88372093,\n",
      "       0.88372093, 0.8372093 , 0.90697674, 0.90697674, 0.90697674,\n",
      "       0.88372093, 0.86046512, 0.86046512, 0.90697674, 0.86046512,\n",
      "       0.86046512, 0.88372093, 0.90697674, 0.8372093 , 0.90697674,\n",
      "       0.88372093, 0.86046512, 0.88372093, 0.88372093, 0.88372093,\n",
      "       0.86046512, 0.81395349, 0.88372093, 0.88372093, 0.86046512,\n",
      "       0.90697674, 0.88372093, 0.90697674, 0.86046512, 0.88372093,\n",
      "       0.86046512, 0.86046512, 0.86046512, 0.86046512, 0.93023256,\n",
      "       0.90697674, 0.8372093 , 0.90697674, 0.86046512, 0.8372093 ,\n",
      "       0.90697674, 0.88372093, 0.86046512, 0.8372093 , 0.86046512,\n",
      "       0.86046512, 0.86046512, 0.81395349, 0.81395349, 0.88372093,\n",
      "       0.93023256, 0.8372093 , 0.8372093 , 0.86046512, 0.86046512,\n",
      "       0.90697674, 0.8372093 , 0.88372093, 0.81395349, 0.8372093 ,\n",
      "       0.88372093, 0.88372093, 0.8372093 , 0.88372093, 0.90697674,\n",
      "       0.81395349, 0.86046512, 0.86046512, 0.86046512, 0.90697674,\n",
      "       0.88372093, 0.8372093 , 0.88372093, 0.86046512, 0.86046512,\n",
      "       0.8372093 , 0.8372093 , 0.88372093, 0.86046512, 0.86046512,\n",
      "       0.88372093, 0.8372093 , 0.86046512, 0.86046512, 0.86046512,\n",
      "       0.8372093 , 0.88372093, 0.86046512, 0.88372093, 0.8372093 ,\n",
      "       0.86046512, 0.8372093 , 0.86046512, 0.86046512, 0.88372093,\n",
      "       0.86046512, 0.88372093, 0.88372093, 0.88372093, 0.8372093 ,\n",
      "       0.86046512, 0.86046512, 0.86046512, 0.86046512, 0.86046512,\n",
      "       0.90697674, 0.88372093, 0.8372093 , 0.86046512, 0.88372093,\n",
      "       0.88372093, 0.8372093 , 0.86046512, 0.88372093, 0.86046512,\n",
      "       0.81395349, 0.8372093 , 0.86046512, 0.86046512, 0.8372093 ,\n",
      "       0.81395349, 0.90697674, 0.88372093, 0.8372093 , 0.86046512,\n",
      "       0.8372093 , 0.90697674, 0.90697674, 0.88372093, 0.90697674,\n",
      "       0.86046512, 0.88372093, 0.90697674, 0.86046512, 0.90697674,\n",
      "       0.86046512, 0.88372093, 0.8372093 , 0.90697674, 0.86046512,\n",
      "       0.86046512, 0.8372093 , 0.90697674, 0.8372093 , 0.86046512,\n",
      "       0.8372093 , 0.86046512, 0.8372093 , 0.86046512, 0.8372093 ,\n",
      "       0.86046512, 0.88372093, 0.90697674, 0.8372093 , 0.86046512,\n",
      "       0.8372093 , 0.93023256, 0.8372093 , 0.8372093 , 0.86046512,\n",
      "       0.81395349, 0.86046512, 0.86046512, 0.86046512, 0.86046512,\n",
      "       0.88372093, 0.86046512, 0.8372093 , 0.90697674, 0.8372093 ,\n",
      "       0.93023256, 0.81395349, 0.8372093 , 0.86046512, 0.90697674,\n",
      "       0.86046512, 0.86046512, 0.88372093, 0.93023256, 0.86046512,\n",
      "       0.88372093, 0.8372093 , 0.8372093 , 0.90697674, 0.88372093,\n",
      "       0.88372093, 0.86046512, 0.86046512, 0.90697674, 0.88372093,\n",
      "       0.90697674, 0.86046512, 0.88372093, 0.86046512, 0.81395349,\n",
      "       0.8372093 , 0.88372093, 0.8372093 , 0.86046512, 0.8372093 ,\n",
      "       0.8372093 , 0.88372093, 0.8372093 , 0.88372093, 0.8372093 ,\n",
      "       0.90697674, 0.86046512, 0.88372093, 0.8372093 , 0.86046512,\n",
      "       0.86046512, 0.86046512, 0.8372093 , 0.88372093, 0.8372093 ,\n",
      "       0.81395349, 0.90697674, 0.8372093 , 0.88372093, 0.8372093 ,\n",
      "       0.86046512, 0.86046512, 0.88372093, 0.88372093, 0.86046512,\n",
      "       0.86046512, 0.86046512, 0.8372093 , 0.8372093 , 0.8372093 ,\n",
      "       0.86046512, 0.88372093, 0.88372093, 0.90697674, 0.86046512,\n",
      "       0.86046512, 0.86046512, 0.93023256, 0.8372093 , 0.86046512,\n",
      "       0.8372093 , 0.86046512, 0.86046512, 0.88372093, 0.8372093 ,\n",
      "       0.90697674, 0.8372093 , 0.8372093 , 0.8372093 , 0.8372093 ,\n",
      "       0.81395349, 0.8372093 , 0.90697674, 0.86046512, 0.8372093 ,\n",
      "       0.8372093 , 0.86046512, 0.88372093, 0.8372093 , 0.90697674,\n",
      "       0.88372093, 0.90697674, 0.81395349, 0.8372093 , 0.8372093 ,\n",
      "       0.90697674, 0.90697674, 0.8372093 , 0.86046512, 0.90697674,\n",
      "       0.86046512, 0.88372093, 0.86046512, 0.8372093 , 0.81395349,\n",
      "       0.8372093 , 0.8372093 , 0.88372093, 0.81395349, 0.90697674,\n",
      "       0.8372093 , 0.8372093 , 0.88372093, 0.86046512, 0.86046512,\n",
      "       0.86046512, 0.81395349, 0.86046512, 0.86046512, 0.86046512,\n",
      "       0.88372093, 0.8372093 , 0.81395349, 0.81395349, 0.90697674,\n",
      "       0.8372093 , 0.86046512, 0.8372093 , 0.88372093, 0.8372093 ,\n",
      "       0.88372093, 0.8372093 , 0.86046512, 0.90697674, 0.90697674,\n",
      "       0.88372093, 0.90697674, 0.8372093 , 0.86046512, 0.90697674,\n",
      "       0.8372093 , 0.86046512, 0.90697674, 0.90697674, 0.8372093 ,\n",
      "       0.90697674, 0.8372093 , 0.90697674, 0.88372093, 0.90697674,\n",
      "       0.93023256, 0.8372093 , 0.86046512, 0.86046512, 0.86046512,\n",
      "       0.90697674, 0.86046512, 0.86046512, 0.8372093 , 0.90697674,\n",
      "       0.86046512, 0.81395349, 0.86046512, 0.86046512, 0.8372093 ,\n",
      "       0.86046512, 0.81395349, 0.90697674, 0.88372093, 0.8372093 ,\n",
      "       0.8372093 , 0.90697674, 0.86046512, 0.8372093 , 0.8372093 ,\n",
      "       0.86046512, 0.8372093 , 0.86046512, 0.8372093 , 0.90697674,\n",
      "       0.88372093, 0.86046512, 0.86046512, 0.86046512, 0.8372093 ,\n",
      "       0.90697674, 0.8372093 , 0.8372093 , 0.79069767, 0.90697674,\n",
      "       0.90697674, 0.90697674, 0.90697674, 0.86046512, 0.90697674,\n",
      "       0.8372093 , 0.88372093, 0.90697674, 0.88372093, 0.90697674,\n",
      "       0.8372093 , 0.90697674, 0.88372093, 0.88372093, 0.86046512,\n",
      "       0.90697674, 0.86046512, 0.8372093 , 0.86046512, 0.8372093 ,\n",
      "       0.88372093, 0.90697674, 0.86046512, 0.8372093 , 0.86046512,\n",
      "       0.86046512, 0.86046512, 0.8372093 , 0.8372093 , 0.88372093,\n",
      "       0.86046512, 0.90697674, 0.88372093, 0.93023256, 0.88372093,\n",
      "       0.8372093 , 0.88372093, 0.86046512, 0.81395349, 0.86046512,\n",
      "       0.8372093 , 0.8372093 , 0.88372093, 0.8372093 , 0.86046512,\n",
      "       0.86046512, 0.8372093 , 0.88372093, 0.8372093 , 0.86046512,\n",
      "       0.88372093, 0.81395349, 0.88372093, 0.88372093, 0.8372093 ,\n",
      "       0.86046512, 0.8372093 , 0.90697674, 0.88372093, 0.88372093,\n",
      "       0.88372093, 0.86046512, 0.8372093 , 0.8372093 , 0.86046512,\n",
      "       0.8372093 , 0.8372093 , 0.90697674, 0.90697674, 0.86046512,\n",
      "       0.8372093 , 0.86046512, 0.86046512, 0.8372093 , 0.88372093,\n",
      "       0.88372093, 0.90697674, 0.86046512, 0.81395349, 0.86046512,\n",
      "       0.86046512, 0.8372093 , 0.86046512, 0.86046512, 0.88372093,\n",
      "       0.8372093 , 0.86046512, 0.88372093, 0.86046512, 0.90697674,\n",
      "       0.88372093, 0.86046512, 0.86046512, 0.8372093 , 0.86046512,\n",
      "       0.86046512, 0.90697674, 0.88372093, 0.86046512, 0.8372093 ,\n",
      "       0.8372093 , 0.88372093, 0.8372093 , 0.8372093 , 0.81395349,\n",
      "       0.86046512, 0.86046512, 0.88372093, 0.86046512, 0.8372093 ,\n",
      "       0.86046512, 0.90697674, 0.86046512, 0.88372093, 0.86046512,\n",
      "       0.8372093 , 0.86046512, 0.90697674, 0.88372093, 0.90697674,\n",
      "       0.8372093 , 0.88372093, 0.86046512, 0.81395349, 0.86046512,\n",
      "       0.86046512, 0.86046512, 0.90697674, 0.86046512, 0.86046512,\n",
      "       0.86046512, 0.90697674, 0.88372093, 0.86046512, 0.86046512,\n",
      "       0.88372093, 0.8372093 , 0.8372093 , 0.86046512, 0.8372093 ,\n",
      "       0.90697674, 0.86046512, 0.86046512, 0.86046512, 0.88372093,\n",
      "       0.86046512, 0.90697674, 0.86046512, 0.8372093 , 0.86046512,\n",
      "       0.8372093 , 0.86046512, 0.88372093, 0.88372093, 0.8372093 ,\n",
      "       0.86046512, 0.90697674, 0.8372093 , 0.8372093 , 0.8372093 ,\n",
      "       0.8372093 , 0.8372093 , 0.86046512, 0.8372093 , 0.8372093 ,\n",
      "       0.81395349, 0.86046512, 0.88372093, 0.81395349, 0.88372093,\n",
      "       0.88372093, 0.8372093 , 0.86046512, 0.86046512, 0.86046512,\n",
      "       0.79069767, 0.8372093 , 0.90697674, 0.8372093 , 0.8372093 ,\n",
      "       0.8372093 , 0.88372093, 0.88372093, 0.90697674, 0.90697674,\n",
      "       0.8372093 , 0.86046512, 0.86046512, 0.8372093 , 0.8372093 ,\n",
      "       0.86046512, 0.86046512, 0.88372093, 0.86046512, 0.86046512,\n",
      "       0.93023256, 0.86046512, 0.81395349, 0.90697674, 0.88372093,\n",
      "       0.88372093, 0.90697674, 0.8372093 , 0.88372093, 0.86046512,\n",
      "       0.86046512, 0.88372093, 0.88372093, 0.86046512, 0.86046512,\n",
      "       0.86046512, 0.8372093 , 0.90697674, 0.90697674, 0.90697674,\n",
      "       0.8372093 , 0.8372093 , 0.81395349, 0.8372093 , 0.8372093 ,\n",
      "       0.93023256, 0.8372093 , 0.90697674, 0.8372093 , 0.8372093 ,\n",
      "       0.88372093, 0.86046512, 0.86046512, 0.88372093, 0.86046512,\n",
      "       0.86046512, 0.88372093, 0.86046512, 0.86046512, 0.88372093,\n",
      "       0.88372093, 0.8372093 , 0.86046512, 0.8372093 , 0.88372093,\n",
      "       0.86046512, 0.86046512, 0.88372093, 0.86046512, 0.88372093,\n",
      "       0.86046512, 0.88372093, 0.90697674, 0.90697674, 0.86046512,\n",
      "       0.8372093 , 0.88372093, 0.90697674, 0.86046512, 0.81395349,\n",
      "       0.81395349, 0.90697674, 0.8372093 , 0.8372093 , 0.86046512,\n",
      "       0.8372093 , 0.90697674, 0.90697674, 0.86046512, 0.88372093,\n",
      "       0.88372093, 0.88372093, 0.86046512, 0.8372093 , 0.90697674,\n",
      "       0.88372093, 0.8372093 , 0.8372093 , 0.86046512, 0.90697674,\n",
      "       0.93023256, 0.86046512, 0.86046512, 0.86046512, 0.86046512,\n",
      "       0.86046512, 0.8372093 , 0.88372093, 0.8372093 , 0.90697674,\n",
      "       0.90697674, 0.88372093, 0.8372093 , 0.88372093, 0.8372093 ]), 'split1_test_score': array([0.76744186, 0.74418605, 0.76744186, 0.81395349, 0.79069767,\n",
      "       0.76744186, 0.81395349, 0.76744186, 0.81395349, 0.79069767,\n",
      "       0.76744186, 0.79069767, 0.79069767, 0.79069767, 0.76744186,\n",
      "       0.79069767, 0.76744186, 0.79069767, 0.81395349, 0.76744186,\n",
      "       0.79069767, 0.79069767, 0.76744186, 0.76744186, 0.76744186,\n",
      "       0.79069767, 0.74418605, 0.8372093 , 0.79069767, 0.79069767,\n",
      "       0.74418605, 0.81395349, 0.79069767, 0.74418605, 0.79069767,\n",
      "       0.76744186, 0.76744186, 0.74418605, 0.8372093 , 0.76744186,\n",
      "       0.76744186, 0.76744186, 0.72093023, 0.76744186, 0.76744186,\n",
      "       0.76744186, 0.76744186, 0.74418605, 0.79069767, 0.76744186,\n",
      "       0.79069767, 0.76744186, 0.76744186, 0.79069767, 0.76744186,\n",
      "       0.79069767, 0.79069767, 0.79069767, 0.74418605, 0.74418605,\n",
      "       0.79069767, 0.79069767, 0.76744186, 0.76744186, 0.76744186,\n",
      "       0.79069767, 0.79069767, 0.79069767, 0.74418605, 0.74418605,\n",
      "       0.86046512, 0.79069767, 0.74418605, 0.79069767, 0.76744186,\n",
      "       0.79069767, 0.72093023, 0.79069767, 0.79069767, 0.79069767,\n",
      "       0.76744186, 0.74418605, 0.74418605, 0.79069767, 0.79069767,\n",
      "       0.76744186, 0.79069767, 0.79069767, 0.81395349, 0.76744186,\n",
      "       0.79069767, 0.76744186, 0.76744186, 0.79069767, 0.76744186,\n",
      "       0.76744186, 0.79069767, 0.79069767, 0.76744186, 0.81395349,\n",
      "       0.74418605, 0.76744186, 0.76744186, 0.76744186, 0.74418605,\n",
      "       0.74418605, 0.79069767, 0.79069767, 0.8372093 , 0.76744186,\n",
      "       0.76744186, 0.79069767, 0.79069767, 0.76744186, 0.76744186,\n",
      "       0.76744186, 0.81395349, 0.79069767, 0.81395349, 0.79069767,\n",
      "       0.81395349, 0.79069767, 0.76744186, 0.74418605, 0.79069767,\n",
      "       0.74418605, 0.79069767, 0.76744186, 0.79069767, 0.74418605,\n",
      "       0.79069767, 0.76744186, 0.76744186, 0.79069767, 0.79069767,\n",
      "       0.79069767, 0.76744186, 0.8372093 , 0.76744186, 0.79069767,\n",
      "       0.79069767, 0.76744186, 0.76744186, 0.74418605, 0.79069767,\n",
      "       0.81395349, 0.8372093 , 0.76744186, 0.79069767, 0.8372093 ,\n",
      "       0.79069767, 0.76744186, 0.76744186, 0.76744186, 0.79069767,\n",
      "       0.76744186, 0.81395349, 0.76744186, 0.76744186, 0.74418605,\n",
      "       0.81395349, 0.74418605, 0.76744186, 0.81395349, 0.76744186,\n",
      "       0.79069767, 0.74418605, 0.76744186, 0.79069767, 0.76744186,\n",
      "       0.76744186, 0.76744186, 0.81395349, 0.79069767, 0.76744186,\n",
      "       0.76744186, 0.76744186, 0.76744186, 0.76744186, 0.79069767,\n",
      "       0.74418605, 0.79069767, 0.76744186, 0.76744186, 0.76744186,\n",
      "       0.76744186, 0.81395349, 0.79069767, 0.76744186, 0.79069767,\n",
      "       0.79069767, 0.81395349, 0.76744186, 0.79069767, 0.76744186,\n",
      "       0.79069767, 0.79069767, 0.74418605, 0.81395349, 0.76744186,\n",
      "       0.76744186, 0.86046512, 0.74418605, 0.74418605, 0.79069767,\n",
      "       0.76744186, 0.74418605, 0.76744186, 0.79069767, 0.81395349,\n",
      "       0.74418605, 0.76744186, 0.79069767, 0.81395349, 0.76744186,\n",
      "       0.79069767, 0.74418605, 0.81395349, 0.76744186, 0.79069767,\n",
      "       0.76744186, 0.81395349, 0.74418605, 0.74418605, 0.76744186,\n",
      "       0.76744186, 0.79069767, 0.79069767, 0.76744186, 0.79069767,\n",
      "       0.81395349, 0.79069767, 0.76744186, 0.76744186, 0.74418605,\n",
      "       0.81395349, 0.76744186, 0.79069767, 0.76744186, 0.79069767,\n",
      "       0.79069767, 0.76744186, 0.79069767, 0.79069767, 0.79069767,\n",
      "       0.76744186, 0.79069767, 0.79069767, 0.79069767, 0.76744186,\n",
      "       0.76744186, 0.79069767, 0.81395349, 0.79069767, 0.74418605,\n",
      "       0.76744186, 0.79069767, 0.76744186, 0.79069767, 0.74418605,\n",
      "       0.76744186, 0.79069767, 0.79069767, 0.79069767, 0.79069767,\n",
      "       0.79069767, 0.81395349, 0.76744186, 0.76744186, 0.81395349,\n",
      "       0.79069767, 0.76744186, 0.76744186, 0.79069767, 0.79069767,\n",
      "       0.79069767, 0.76744186, 0.79069767, 0.79069767, 0.79069767,\n",
      "       0.76744186, 0.79069767, 0.76744186, 0.79069767, 0.79069767,\n",
      "       0.74418605, 0.79069767, 0.79069767, 0.79069767, 0.79069767,\n",
      "       0.79069767, 0.76744186, 0.79069767, 0.81395349, 0.74418605,\n",
      "       0.79069767, 0.79069767, 0.8372093 , 0.81395349, 0.76744186,\n",
      "       0.79069767, 0.81395349, 0.76744186, 0.76744186, 0.79069767,\n",
      "       0.76744186, 0.76744186, 0.74418605, 0.79069767, 0.74418605,\n",
      "       0.81395349, 0.79069767, 0.79069767, 0.79069767, 0.74418605,\n",
      "       0.76744186, 0.76744186, 0.74418605, 0.76744186, 0.8372093 ,\n",
      "       0.76744186, 0.79069767, 0.76744186, 0.74418605, 0.76744186,\n",
      "       0.79069767, 0.76744186, 0.76744186, 0.79069767, 0.76744186,\n",
      "       0.76744186, 0.79069767, 0.76744186, 0.79069767, 0.81395349,\n",
      "       0.79069767, 0.79069767, 0.79069767, 0.76744186, 0.81395349,\n",
      "       0.76744186, 0.76744186, 0.81395349, 0.79069767, 0.79069767,\n",
      "       0.79069767, 0.79069767, 0.76744186, 0.76744186, 0.79069767,\n",
      "       0.79069767, 0.76744186, 0.76744186, 0.76744186, 0.76744186,\n",
      "       0.79069767, 0.76744186, 0.76744186, 0.79069767, 0.79069767,\n",
      "       0.79069767, 0.76744186, 0.76744186, 0.79069767, 0.76744186,\n",
      "       0.74418605, 0.79069767, 0.76744186, 0.72093023, 0.76744186,\n",
      "       0.76744186, 0.76744186, 0.76744186, 0.74418605, 0.74418605,\n",
      "       0.76744186, 0.76744186, 0.81395349, 0.79069767, 0.76744186,\n",
      "       0.79069767, 0.74418605, 0.79069767, 0.76744186, 0.76744186,\n",
      "       0.79069767, 0.79069767, 0.76744186, 0.76744186, 0.76744186,\n",
      "       0.76744186, 0.81395349, 0.81395349, 0.76744186, 0.79069767,\n",
      "       0.79069767, 0.76744186, 0.79069767, 0.76744186, 0.74418605,\n",
      "       0.76744186, 0.76744186, 0.76744186, 0.74418605, 0.74418605,\n",
      "       0.76744186, 0.76744186, 0.81395349, 0.79069767, 0.76744186,\n",
      "       0.76744186, 0.76744186, 0.79069767, 0.79069767, 0.72093023,\n",
      "       0.74418605, 0.76744186, 0.81395349, 0.76744186, 0.79069767,\n",
      "       0.76744186, 0.79069767, 0.76744186, 0.79069767, 0.79069767,\n",
      "       0.76744186, 0.79069767, 0.76744186, 0.81395349, 0.74418605,\n",
      "       0.76744186, 0.76744186, 0.76744186, 0.74418605, 0.79069767,\n",
      "       0.8372093 , 0.76744186, 0.74418605, 0.79069767, 0.81395349,\n",
      "       0.76744186, 0.81395349, 0.79069767, 0.76744186, 0.76744186,\n",
      "       0.76744186, 0.76744186, 0.76744186, 0.76744186, 0.76744186,\n",
      "       0.79069767, 0.79069767, 0.76744186, 0.81395349, 0.76744186,\n",
      "       0.76744186, 0.76744186, 0.79069767, 0.76744186, 0.76744186,\n",
      "       0.76744186, 0.76744186, 0.79069767, 0.72093023, 0.81395349,\n",
      "       0.76744186, 0.79069767, 0.79069767, 0.76744186, 0.76744186,\n",
      "       0.76744186, 0.79069767, 0.76744186, 0.76744186, 0.79069767,\n",
      "       0.76744186, 0.79069767, 0.79069767, 0.76744186, 0.74418605,\n",
      "       0.79069767, 0.79069767, 0.79069767, 0.79069767, 0.76744186,\n",
      "       0.76744186, 0.74418605, 0.81395349, 0.74418605, 0.79069767,\n",
      "       0.79069767, 0.76744186, 0.76744186, 0.76744186, 0.76744186,\n",
      "       0.79069767, 0.81395349, 0.79069767, 0.79069767, 0.74418605,\n",
      "       0.76744186, 0.79069767, 0.8372093 , 0.74418605, 0.79069767,\n",
      "       0.79069767, 0.74418605, 0.76744186, 0.79069767, 0.76744186,\n",
      "       0.79069767, 0.76744186, 0.76744186, 0.76744186, 0.79069767,\n",
      "       0.81395349, 0.76744186, 0.76744186, 0.76744186, 0.79069767,\n",
      "       0.79069767, 0.72093023, 0.79069767, 0.79069767, 0.79069767,\n",
      "       0.76744186, 0.79069767, 0.76744186, 0.76744186, 0.79069767,\n",
      "       0.79069767, 0.76744186, 0.79069767, 0.76744186, 0.74418605,\n",
      "       0.76744186, 0.76744186, 0.79069767, 0.76744186, 0.74418605,\n",
      "       0.76744186, 0.76744186, 0.76744186, 0.79069767, 0.81395349,\n",
      "       0.76744186, 0.81395349, 0.79069767, 0.79069767, 0.76744186,\n",
      "       0.79069767, 0.76744186, 0.76744186, 0.76744186, 0.76744186,\n",
      "       0.79069767, 0.81395349, 0.79069767, 0.79069767, 0.76744186,\n",
      "       0.81395349, 0.74418605, 0.81395349, 0.76744186, 0.76744186,\n",
      "       0.79069767, 0.81395349, 0.79069767, 0.76744186, 0.74418605,\n",
      "       0.76744186, 0.79069767, 0.79069767, 0.74418605, 0.76744186,\n",
      "       0.76744186, 0.79069767, 0.79069767, 0.79069767, 0.76744186,\n",
      "       0.76744186, 0.76744186, 0.76744186, 0.74418605, 0.76744186,\n",
      "       0.76744186, 0.76744186, 0.76744186, 0.74418605, 0.76744186,\n",
      "       0.79069767, 0.79069767, 0.79069767, 0.76744186, 0.76744186,\n",
      "       0.76744186, 0.76744186, 0.76744186, 0.79069767, 0.79069767,\n",
      "       0.76744186, 0.79069767, 0.74418605, 0.81395349, 0.76744186,\n",
      "       0.76744186, 0.76744186, 0.79069767, 0.79069767, 0.76744186,\n",
      "       0.79069767, 0.74418605, 0.76744186, 0.76744186, 0.76744186,\n",
      "       0.76744186, 0.76744186, 0.76744186, 0.76744186, 0.79069767,\n",
      "       0.76744186, 0.76744186, 0.74418605, 0.81395349, 0.79069767,\n",
      "       0.8372093 , 0.79069767, 0.76744186, 0.79069767, 0.79069767,\n",
      "       0.79069767, 0.79069767, 0.76744186, 0.76744186, 0.79069767,\n",
      "       0.79069767, 0.76744186, 0.76744186, 0.76744186, 0.76744186,\n",
      "       0.79069767, 0.76744186, 0.76744186, 0.74418605, 0.76744186,\n",
      "       0.74418605, 0.76744186, 0.81395349, 0.74418605, 0.74418605,\n",
      "       0.76744186, 0.74418605, 0.81395349, 0.79069767, 0.76744186,\n",
      "       0.74418605, 0.79069767, 0.79069767, 0.76744186, 0.79069767,\n",
      "       0.79069767, 0.79069767, 0.79069767, 0.81395349, 0.79069767,\n",
      "       0.74418605, 0.76744186, 0.76744186, 0.76744186, 0.79069767,\n",
      "       0.76744186, 0.79069767, 0.74418605, 0.74418605, 0.76744186,\n",
      "       0.79069767, 0.79069767, 0.76744186, 0.76744186, 0.76744186,\n",
      "       0.81395349, 0.76744186, 0.79069767, 0.79069767, 0.76744186,\n",
      "       0.74418605, 0.76744186, 0.79069767, 0.74418605, 0.76744186,\n",
      "       0.79069767, 0.79069767, 0.76744186, 0.76744186, 0.76744186,\n",
      "       0.8372093 , 0.79069767, 0.76744186, 0.76744186, 0.79069767,\n",
      "       0.81395349, 0.79069767, 0.79069767, 0.79069767, 0.79069767,\n",
      "       0.74418605, 0.76744186, 0.79069767, 0.79069767, 0.76744186,\n",
      "       0.79069767, 0.76744186, 0.79069767, 0.76744186, 0.76744186,\n",
      "       0.79069767, 0.76744186, 0.79069767, 0.76744186, 0.79069767,\n",
      "       0.76744186, 0.74418605, 0.79069767, 0.76744186, 0.76744186,\n",
      "       0.76744186, 0.76744186, 0.74418605, 0.76744186, 0.79069767,\n",
      "       0.76744186, 0.74418605, 0.76744186, 0.79069767, 0.8372093 ,\n",
      "       0.81395349, 0.76744186, 0.76744186, 0.79069767, 0.74418605,\n",
      "       0.76744186, 0.74418605, 0.81395349, 0.79069767, 0.79069767,\n",
      "       0.74418605, 0.79069767, 0.79069767, 0.8372093 , 0.76744186,\n",
      "       0.79069767, 0.76744186, 0.76744186, 0.76744186, 0.76744186,\n",
      "       0.79069767, 0.79069767, 0.76744186, 0.76744186, 0.74418605,\n",
      "       0.76744186, 0.76744186, 0.76744186, 0.74418605, 0.79069767,\n",
      "       0.74418605, 0.79069767, 0.79069767, 0.79069767, 0.76744186,\n",
      "       0.79069767, 0.79069767, 0.76744186, 0.76744186, 0.81395349,\n",
      "       0.79069767, 0.76744186, 0.74418605, 0.79069767, 0.76744186,\n",
      "       0.81395349, 0.76744186, 0.79069767, 0.79069767, 0.76744186,\n",
      "       0.79069767, 0.79069767, 0.79069767, 0.79069767, 0.79069767,\n",
      "       0.74418605, 0.81395349, 0.76744186, 0.79069767, 0.74418605,\n",
      "       0.76744186, 0.81395349, 0.76744186, 0.74418605, 0.76744186]), 'split2_test_score': array([0.90697674, 0.88372093, 0.86046512, 0.90697674, 0.81395349,\n",
      "       0.86046512, 0.90697674, 0.90697674, 0.90697674, 0.90697674,\n",
      "       0.93023256, 0.90697674, 0.90697674, 0.93023256, 0.90697674,\n",
      "       0.93023256, 0.90697674, 0.86046512, 0.93023256, 0.88372093,\n",
      "       0.93023256, 0.93023256, 0.90697674, 0.88372093, 0.86046512,\n",
      "       0.95348837, 0.95348837, 0.88372093, 0.93023256, 0.93023256,\n",
      "       0.88372093, 0.93023256, 0.90697674, 0.86046512, 0.93023256,\n",
      "       0.90697674, 0.90697674, 0.93023256, 0.93023256, 0.86046512,\n",
      "       0.86046512, 0.90697674, 0.90697674, 0.93023256, 0.93023256,\n",
      "       0.93023256, 0.86046512, 0.90697674, 0.93023256, 0.88372093,\n",
      "       0.90697674, 0.90697674, 0.90697674, 0.93023256, 0.90697674,\n",
      "       0.90697674, 0.93023256, 0.93023256, 0.8372093 , 0.90697674,\n",
      "       0.90697674, 0.93023256, 0.93023256, 0.93023256, 0.90697674,\n",
      "       0.93023256, 0.93023256, 0.90697674, 0.93023256, 0.90697674,\n",
      "       0.90697674, 0.90697674, 0.90697674, 0.90697674, 0.90697674,\n",
      "       0.86046512, 0.93023256, 0.93023256, 0.93023256, 0.93023256,\n",
      "       0.93023256, 0.95348837, 0.93023256, 0.88372093, 0.86046512,\n",
      "       0.90697674, 0.88372093, 0.90697674, 0.90697674, 0.90697674,\n",
      "       0.88372093, 0.86046512, 0.95348837, 0.93023256, 0.88372093,\n",
      "       0.88372093, 0.86046512, 0.88372093, 0.86046512, 0.90697674,\n",
      "       0.90697674, 0.90697674, 0.88372093, 0.90697674, 0.90697674,\n",
      "       0.93023256, 0.93023256, 0.90697674, 0.88372093, 0.90697674,\n",
      "       0.88372093, 0.93023256, 0.90697674, 0.90697674, 0.90697674,\n",
      "       0.88372093, 0.93023256, 0.90697674, 0.88372093, 0.90697674,\n",
      "       0.90697674, 0.95348837, 0.90697674, 0.88372093, 0.93023256,\n",
      "       0.90697674, 0.88372093, 0.93023256, 0.88372093, 0.88372093,\n",
      "       0.88372093, 0.90697674, 0.93023256, 0.88372093, 0.88372093,\n",
      "       0.93023256, 0.86046512, 0.86046512, 0.90697674, 0.88372093,\n",
      "       0.86046512, 0.93023256, 0.90697674, 0.90697674, 0.93023256,\n",
      "       0.8372093 , 0.90697674, 0.8372093 , 0.93023256, 0.90697674,\n",
      "       0.93023256, 0.90697674, 0.86046512, 0.88372093, 0.90697674,\n",
      "       0.93023256, 0.93023256, 0.90697674, 0.88372093, 0.93023256,\n",
      "       0.88372093, 0.88372093, 0.86046512, 0.93023256, 0.88372093,\n",
      "       0.93023256, 0.8372093 , 0.93023256, 0.93023256, 0.88372093,\n",
      "       0.86046512, 0.93023256, 0.93023256, 0.93023256, 0.86046512,\n",
      "       0.90697674, 0.90697674, 0.90697674, 0.88372093, 0.90697674,\n",
      "       0.88372093, 0.88372093, 0.90697674, 0.86046512, 0.88372093,\n",
      "       0.88372093, 0.93023256, 0.86046512, 0.88372093, 0.90697674,\n",
      "       0.90697674, 0.90697674, 0.88372093, 0.86046512, 0.88372093,\n",
      "       0.88372093, 0.93023256, 0.95348837, 0.86046512, 0.93023256,\n",
      "       0.8372093 , 0.90697674, 0.88372093, 0.93023256, 0.86046512,\n",
      "       0.95348837, 0.90697674, 0.93023256, 0.93023256, 0.88372093,\n",
      "       0.88372093, 0.88372093, 0.86046512, 0.90697674, 0.90697674,\n",
      "       0.88372093, 0.93023256, 0.90697674, 0.88372093, 0.86046512,\n",
      "       0.90697674, 0.90697674, 0.86046512, 0.90697674, 0.90697674,\n",
      "       0.90697674, 0.93023256, 0.93023256, 0.88372093, 0.93023256,\n",
      "       0.90697674, 0.90697674, 0.86046512, 0.90697674, 0.93023256,\n",
      "       0.88372093, 0.90697674, 0.88372093, 0.90697674, 0.90697674,\n",
      "       0.88372093, 0.86046512, 0.88372093, 0.90697674, 0.93023256,\n",
      "       0.86046512, 0.95348837, 0.95348837, 0.90697674, 0.88372093,\n",
      "       0.90697674, 0.8372093 , 0.90697674, 0.93023256, 0.88372093,\n",
      "       0.86046512, 0.90697674, 0.93023256, 0.90697674, 0.93023256,\n",
      "       0.90697674, 0.93023256, 0.88372093, 0.86046512, 0.90697674,\n",
      "       0.93023256, 0.90697674, 0.86046512, 0.90697674, 0.93023256,\n",
      "       0.90697674, 0.86046512, 0.93023256, 0.90697674, 0.88372093,\n",
      "       0.90697674, 0.86046512, 0.88372093, 0.93023256, 0.93023256,\n",
      "       0.88372093, 0.90697674, 0.90697674, 0.88372093, 0.81395349,\n",
      "       0.90697674, 0.88372093, 0.86046512, 0.90697674, 0.93023256,\n",
      "       0.90697674, 0.86046512, 0.90697674, 0.93023256, 0.8372093 ,\n",
      "       0.86046512, 0.90697674, 0.88372093, 0.93023256, 0.86046512,\n",
      "       0.90697674, 0.90697674, 0.90697674, 0.90697674, 0.95348837,\n",
      "       0.90697674, 0.86046512, 0.90697674, 0.8372093 , 0.93023256,\n",
      "       0.88372093, 0.93023256, 0.90697674, 0.88372093, 0.88372093,\n",
      "       0.86046512, 0.86046512, 0.93023256, 0.86046512, 0.93023256,\n",
      "       0.86046512, 0.90697674, 0.88372093, 0.93023256, 0.93023256,\n",
      "       0.93023256, 0.88372093, 0.86046512, 0.93023256, 0.88372093,\n",
      "       0.93023256, 0.95348837, 0.88372093, 0.90697674, 0.90697674,\n",
      "       0.88372093, 0.90697674, 0.93023256, 0.93023256, 0.90697674,\n",
      "       0.95348837, 0.88372093, 0.90697674, 0.88372093, 0.88372093,\n",
      "       0.93023256, 0.93023256, 0.90697674, 0.88372093, 0.93023256,\n",
      "       0.88372093, 0.90697674, 0.86046512, 0.93023256, 0.88372093,\n",
      "       0.90697674, 0.90697674, 0.90697674, 0.93023256, 0.88372093,\n",
      "       0.93023256, 0.86046512, 0.90697674, 0.93023256, 0.86046512,\n",
      "       0.93023256, 0.88372093, 0.90697674, 0.93023256, 0.88372093,\n",
      "       0.88372093, 0.90697674, 0.81395349, 0.88372093, 0.86046512,\n",
      "       0.93023256, 0.93023256, 0.90697674, 0.90697674, 0.90697674,\n",
      "       0.90697674, 0.90697674, 0.90697674, 0.90697674, 0.88372093,\n",
      "       0.90697674, 0.90697674, 0.8372093 , 0.86046512, 0.90697674,\n",
      "       0.86046512, 0.90697674, 0.93023256, 0.90697674, 0.93023256,\n",
      "       0.90697674, 0.88372093, 0.81395349, 0.86046512, 0.88372093,\n",
      "       0.95348837, 0.90697674, 0.90697674, 0.90697674, 0.88372093,\n",
      "       0.93023256, 0.88372093, 0.90697674, 0.90697674, 0.93023256,\n",
      "       0.93023256, 0.93023256, 0.90697674, 0.93023256, 0.93023256,\n",
      "       0.93023256, 0.90697674, 0.90697674, 0.93023256, 0.88372093,\n",
      "       0.93023256, 0.90697674, 0.90697674, 0.90697674, 0.8372093 ,\n",
      "       0.86046512, 0.88372093, 0.90697674, 0.93023256, 0.88372093,\n",
      "       0.88372093, 0.90697674, 0.93023256, 0.88372093, 0.93023256,\n",
      "       0.88372093, 0.95348837, 0.88372093, 0.93023256, 0.93023256,\n",
      "       0.90697674, 0.8372093 , 0.93023256, 0.88372093, 0.86046512,\n",
      "       0.86046512, 0.88372093, 0.8372093 , 0.93023256, 0.8372093 ,\n",
      "       0.90697674, 0.86046512, 0.88372093, 0.90697674, 0.90697674,\n",
      "       0.88372093, 0.90697674, 0.93023256, 0.86046512, 0.90697674,\n",
      "       0.88372093, 0.88372093, 0.90697674, 0.90697674, 0.88372093,\n",
      "       0.88372093, 0.81395349, 0.93023256, 0.90697674, 0.88372093,\n",
      "       0.86046512, 0.90697674, 0.88372093, 0.88372093, 0.90697674,\n",
      "       0.86046512, 0.88372093, 0.88372093, 0.90697674, 0.93023256,\n",
      "       0.81395349, 0.8372093 , 0.88372093, 0.86046512, 0.90697674,\n",
      "       0.86046512, 0.93023256, 0.90697674, 0.93023256, 0.93023256,\n",
      "       0.90697674, 0.88372093, 0.86046512, 0.88372093, 0.90697674,\n",
      "       0.93023256, 0.88372093, 0.90697674, 0.93023256, 0.90697674,\n",
      "       0.93023256, 0.90697674, 0.88372093, 0.93023256, 0.93023256,\n",
      "       0.88372093, 0.90697674, 0.86046512, 0.90697674, 0.90697674,\n",
      "       0.93023256, 0.8372093 , 0.90697674, 0.88372093, 0.88372093,\n",
      "       0.88372093, 0.93023256, 0.88372093, 0.93023256, 0.90697674,\n",
      "       0.86046512, 0.90697674, 0.86046512, 0.90697674, 0.86046512,\n",
      "       0.88372093, 0.90697674, 0.86046512, 0.88372093, 0.90697674,\n",
      "       0.90697674, 0.93023256, 0.90697674, 0.88372093, 0.93023256,\n",
      "       0.86046512, 0.88372093, 0.88372093, 0.86046512, 0.88372093,\n",
      "       0.88372093, 0.90697674, 0.90697674, 0.90697674, 0.93023256,\n",
      "       0.88372093, 0.93023256, 0.90697674, 0.90697674, 0.88372093,\n",
      "       0.86046512, 0.88372093, 0.93023256, 0.90697674, 0.88372093,\n",
      "       0.93023256, 0.93023256, 0.93023256, 0.90697674, 0.88372093,\n",
      "       0.93023256, 0.90697674, 0.90697674, 0.93023256, 0.90697674,\n",
      "       0.93023256, 0.88372093, 0.88372093, 0.90697674, 0.93023256,\n",
      "       0.86046512, 0.90697674, 0.88372093, 0.90697674, 0.88372093,\n",
      "       0.90697674, 0.90697674, 0.90697674, 0.86046512, 0.88372093,\n",
      "       0.90697674, 0.88372093, 0.88372093, 0.86046512, 0.90697674,\n",
      "       0.90697674, 0.86046512, 0.93023256, 0.95348837, 0.88372093,\n",
      "       0.90697674, 0.88372093, 0.90697674, 0.93023256, 0.93023256,\n",
      "       0.88372093, 0.86046512, 0.88372093, 0.90697674, 0.90697674,\n",
      "       0.88372093, 0.90697674, 0.86046512, 0.88372093, 0.88372093,\n",
      "       0.90697674, 0.8372093 , 0.88372093, 0.90697674, 0.90697674,\n",
      "       0.93023256, 0.90697674, 0.90697674, 0.90697674, 0.90697674,\n",
      "       0.86046512, 0.88372093, 0.88372093, 0.90697674, 0.93023256,\n",
      "       0.90697674, 0.90697674, 0.88372093, 0.93023256, 0.90697674,\n",
      "       0.88372093, 0.90697674, 0.90697674, 0.90697674, 0.88372093,\n",
      "       0.93023256, 0.93023256, 0.88372093, 0.93023256, 0.93023256,\n",
      "       0.81395349, 0.86046512, 0.90697674, 0.88372093, 0.8372093 ,\n",
      "       0.93023256, 0.90697674, 0.88372093, 0.93023256, 0.90697674,\n",
      "       0.88372093, 0.93023256, 0.93023256, 0.90697674, 0.88372093,\n",
      "       0.88372093, 0.90697674, 0.93023256, 0.93023256, 0.88372093,\n",
      "       0.93023256, 0.90697674, 0.88372093, 0.90697674, 0.88372093,\n",
      "       0.88372093, 0.88372093, 0.86046512, 0.93023256, 0.86046512,\n",
      "       0.90697674, 0.90697674, 0.88372093, 0.88372093, 0.93023256,\n",
      "       0.90697674, 0.90697674, 0.86046512, 0.88372093, 0.88372093,\n",
      "       0.86046512, 0.88372093, 0.88372093, 0.93023256, 0.88372093,\n",
      "       0.90697674, 0.90697674, 0.88372093, 0.90697674, 0.90697674,\n",
      "       0.93023256, 0.90697674, 0.90697674, 0.88372093, 0.90697674,\n",
      "       0.90697674, 0.93023256, 0.90697674, 0.93023256, 0.90697674,\n",
      "       0.88372093, 0.95348837, 0.88372093, 0.86046512, 0.93023256,\n",
      "       0.90697674, 0.90697674, 0.88372093, 0.90697674, 0.88372093,\n",
      "       0.88372093, 0.88372093, 0.90697674, 0.88372093, 0.93023256,\n",
      "       0.90697674, 0.88372093, 0.93023256, 0.90697674, 0.90697674,\n",
      "       0.81395349, 0.90697674, 0.93023256, 0.88372093, 0.93023256,\n",
      "       0.93023256, 0.93023256, 0.93023256, 0.90697674, 0.95348837,\n",
      "       0.88372093, 0.88372093, 0.88372093, 0.88372093, 0.88372093,\n",
      "       0.86046512, 0.93023256, 0.88372093, 0.8372093 , 0.88372093,\n",
      "       0.90697674, 0.8372093 , 0.86046512, 0.88372093, 0.88372093,\n",
      "       0.88372093, 0.93023256, 0.90697674, 0.88372093, 0.93023256,\n",
      "       0.93023256, 0.88372093, 0.88372093, 0.90697674, 0.93023256,\n",
      "       0.93023256, 0.86046512, 0.93023256, 0.93023256, 0.90697674,\n",
      "       0.90697674, 0.90697674, 0.86046512, 0.90697674, 0.88372093,\n",
      "       0.90697674, 0.95348837, 0.86046512, 0.90697674, 0.93023256,\n",
      "       0.88372093, 0.88372093, 0.93023256, 0.93023256, 0.88372093,\n",
      "       0.93023256, 0.88372093, 0.88372093, 0.93023256, 0.90697674,\n",
      "       0.88372093, 0.95348837, 0.90697674, 0.88372093, 0.88372093,\n",
      "       0.93023256, 0.90697674, 0.86046512, 0.88372093, 0.93023256,\n",
      "       0.90697674, 0.88372093, 0.93023256, 0.93023256, 0.93023256,\n",
      "       0.88372093, 0.88372093, 0.93023256, 0.90697674, 0.88372093,\n",
      "       0.86046512, 0.90697674, 0.93023256, 0.90697674, 0.88372093]), 'split3_test_score': array([0.81395349, 0.8372093 , 0.81395349, 0.81395349, 0.8372093 ,\n",
      "       0.81395349, 0.79069767, 0.81395349, 0.81395349, 0.81395349,\n",
      "       0.81395349, 0.81395349, 0.8372093 , 0.8372093 , 0.81395349,\n",
      "       0.81395349, 0.8372093 , 0.79069767, 0.81395349, 0.81395349,\n",
      "       0.8372093 , 0.8372093 , 0.8372093 , 0.81395349, 0.8372093 ,\n",
      "       0.8372093 , 0.81395349, 0.81395349, 0.8372093 , 0.8372093 ,\n",
      "       0.86046512, 0.81395349, 0.8372093 , 0.8372093 , 0.8372093 ,\n",
      "       0.8372093 , 0.81395349, 0.8372093 , 0.79069767, 0.81395349,\n",
      "       0.81395349, 0.8372093 , 0.81395349, 0.8372093 , 0.8372093 ,\n",
      "       0.81395349, 0.81395349, 0.81395349, 0.81395349, 0.8372093 ,\n",
      "       0.81395349, 0.79069767, 0.81395349, 0.8372093 , 0.8372093 ,\n",
      "       0.8372093 , 0.81395349, 0.81395349, 0.86046512, 0.8372093 ,\n",
      "       0.81395349, 0.86046512, 0.8372093 , 0.8372093 , 0.8372093 ,\n",
      "       0.81395349, 0.86046512, 0.81395349, 0.86046512, 0.81395349,\n",
      "       0.81395349, 0.79069767, 0.8372093 , 0.81395349, 0.8372093 ,\n",
      "       0.81395349, 0.81395349, 0.81395349, 0.8372093 , 0.81395349,\n",
      "       0.81395349, 0.86046512, 0.8372093 , 0.8372093 , 0.81395349,\n",
      "       0.8372093 , 0.81395349, 0.81395349, 0.81395349, 0.8372093 ,\n",
      "       0.86046512, 0.81395349, 0.81395349, 0.81395349, 0.81395349,\n",
      "       0.81395349, 0.81395349, 0.8372093 , 0.86046512, 0.81395349,\n",
      "       0.8372093 , 0.86046512, 0.8372093 , 0.81395349, 0.81395349,\n",
      "       0.8372093 , 0.86046512, 0.81395349, 0.79069767, 0.8372093 ,\n",
      "       0.81395349, 0.81395349, 0.8372093 , 0.81395349, 0.81395349,\n",
      "       0.81395349, 0.8372093 , 0.8372093 , 0.81395349, 0.81395349,\n",
      "       0.79069767, 0.8372093 , 0.81395349, 0.8372093 , 0.8372093 ,\n",
      "       0.86046512, 0.8372093 , 0.8372093 , 0.81395349, 0.8372093 ,\n",
      "       0.81395349, 0.8372093 , 0.8372093 , 0.8372093 , 0.8372093 ,\n",
      "       0.8372093 , 0.81395349, 0.8372093 , 0.81395349, 0.81395349,\n",
      "       0.88372093, 0.81395349, 0.81395349, 0.81395349, 0.8372093 ,\n",
      "       0.86046512, 0.79069767, 0.8372093 , 0.8372093 , 0.81395349,\n",
      "       0.81395349, 0.81395349, 0.79069767, 0.81395349, 0.8372093 ,\n",
      "       0.81395349, 0.81395349, 0.86046512, 0.81395349, 0.8372093 ,\n",
      "       0.79069767, 0.8372093 , 0.8372093 , 0.81395349, 0.8372093 ,\n",
      "       0.8372093 , 0.8372093 , 0.8372093 , 0.81395349, 0.8372093 ,\n",
      "       0.81395349, 0.81395349, 0.8372093 , 0.8372093 , 0.8372093 ,\n",
      "       0.8372093 , 0.81395349, 0.81395349, 0.81395349, 0.8372093 ,\n",
      "       0.8372093 , 0.79069767, 0.8372093 , 0.8372093 , 0.8372093 ,\n",
      "       0.8372093 , 0.8372093 , 0.8372093 , 0.81395349, 0.81395349,\n",
      "       0.8372093 , 0.81395349, 0.81395349, 0.81395349, 0.8372093 ,\n",
      "       0.81395349, 0.8372093 , 0.86046512, 0.81395349, 0.8372093 ,\n",
      "       0.81395349, 0.81395349, 0.8372093 , 0.8372093 , 0.8372093 ,\n",
      "       0.81395349, 0.8372093 , 0.8372093 , 0.81395349, 0.81395349,\n",
      "       0.8372093 , 0.81395349, 0.86046512, 0.81395349, 0.81395349,\n",
      "       0.81395349, 0.8372093 , 0.8372093 , 0.8372093 , 0.81395349,\n",
      "       0.81395349, 0.79069767, 0.81395349, 0.81395349, 0.8372093 ,\n",
      "       0.81395349, 0.8372093 , 0.8372093 , 0.8372093 , 0.8372093 ,\n",
      "       0.81395349, 0.8372093 , 0.8372093 , 0.81395349, 0.8372093 ,\n",
      "       0.81395349, 0.81395349, 0.81395349, 0.86046512, 0.81395349,\n",
      "       0.86046512, 0.81395349, 0.86046512, 0.81395349, 0.8372093 ,\n",
      "       0.81395349, 0.8372093 , 0.81395349, 0.81395349, 0.81395349,\n",
      "       0.8372093 , 0.8372093 , 0.81395349, 0.81395349, 0.8372093 ,\n",
      "       0.81395349, 0.8372093 , 0.81395349, 0.81395349, 0.81395349,\n",
      "       0.81395349, 0.81395349, 0.79069767, 0.81395349, 0.81395349,\n",
      "       0.8372093 , 0.81395349, 0.81395349, 0.81395349, 0.8372093 ,\n",
      "       0.8372093 , 0.81395349, 0.81395349, 0.8372093 , 0.81395349,\n",
      "       0.8372093 , 0.8372093 , 0.81395349, 0.8372093 , 0.8372093 ,\n",
      "       0.8372093 , 0.8372093 , 0.81395349, 0.79069767, 0.8372093 ,\n",
      "       0.8372093 , 0.8372093 , 0.81395349, 0.8372093 , 0.81395349,\n",
      "       0.8372093 , 0.8372093 , 0.8372093 , 0.8372093 , 0.81395349,\n",
      "       0.81395349, 0.81395349, 0.81395349, 0.81395349, 0.81395349,\n",
      "       0.81395349, 0.81395349, 0.8372093 , 0.81395349, 0.8372093 ,\n",
      "       0.86046512, 0.81395349, 0.8372093 , 0.8372093 , 0.86046512,\n",
      "       0.81395349, 0.8372093 , 0.8372093 , 0.81395349, 0.8372093 ,\n",
      "       0.8372093 , 0.86046512, 0.8372093 , 0.81395349, 0.79069767,\n",
      "       0.81395349, 0.86046512, 0.81395349, 0.8372093 , 0.8372093 ,\n",
      "       0.81395349, 0.8372093 , 0.8372093 , 0.8372093 , 0.81395349,\n",
      "       0.8372093 , 0.8372093 , 0.81395349, 0.8372093 , 0.81395349,\n",
      "       0.86046512, 0.81395349, 0.8372093 , 0.81395349, 0.81395349,\n",
      "       0.81395349, 0.81395349, 0.81395349, 0.86046512, 0.81395349,\n",
      "       0.8372093 , 0.81395349, 0.8372093 , 0.81395349, 0.86046512,\n",
      "       0.81395349, 0.81395349, 0.81395349, 0.8372093 , 0.8372093 ,\n",
      "       0.8372093 , 0.86046512, 0.79069767, 0.8372093 , 0.79069767,\n",
      "       0.8372093 , 0.81395349, 0.86046512, 0.86046512, 0.81395349,\n",
      "       0.81395349, 0.8372093 , 0.81395349, 0.81395349, 0.8372093 ,\n",
      "       0.81395349, 0.81395349, 0.86046512, 0.8372093 , 0.86046512,\n",
      "       0.8372093 , 0.8372093 , 0.8372093 , 0.8372093 , 0.86046512,\n",
      "       0.81395349, 0.81395349, 0.81395349, 0.81395349, 0.81395349,\n",
      "       0.81395349, 0.81395349, 0.81395349, 0.81395349, 0.8372093 ,\n",
      "       0.81395349, 0.81395349, 0.81395349, 0.86046512, 0.8372093 ,\n",
      "       0.81395349, 0.81395349, 0.8372093 , 0.81395349, 0.8372093 ,\n",
      "       0.8372093 , 0.8372093 , 0.81395349, 0.8372093 , 0.8372093 ,\n",
      "       0.8372093 , 0.8372093 , 0.81395349, 0.86046512, 0.81395349,\n",
      "       0.8372093 , 0.81395349, 0.8372093 , 0.81395349, 0.8372093 ,\n",
      "       0.8372093 , 0.8372093 , 0.81395349, 0.8372093 , 0.81395349,\n",
      "       0.8372093 , 0.81395349, 0.81395349, 0.81395349, 0.86046512,\n",
      "       0.79069767, 0.81395349, 0.81395349, 0.81395349, 0.81395349,\n",
      "       0.81395349, 0.81395349, 0.81395349, 0.8372093 , 0.86046512,\n",
      "       0.81395349, 0.8372093 , 0.81395349, 0.8372093 , 0.8372093 ,\n",
      "       0.81395349, 0.81395349, 0.8372093 , 0.86046512, 0.81395349,\n",
      "       0.81395349, 0.8372093 , 0.81395349, 0.8372093 , 0.86046512,\n",
      "       0.81395349, 0.81395349, 0.81395349, 0.81395349, 0.8372093 ,\n",
      "       0.81395349, 0.8372093 , 0.8372093 , 0.8372093 , 0.8372093 ,\n",
      "       0.8372093 , 0.8372093 , 0.81395349, 0.81395349, 0.81395349,\n",
      "       0.8372093 , 0.86046512, 0.81395349, 0.8372093 , 0.81395349,\n",
      "       0.81395349, 0.8372093 , 0.8372093 , 0.8372093 , 0.8372093 ,\n",
      "       0.8372093 , 0.81395349, 0.81395349, 0.81395349, 0.8372093 ,\n",
      "       0.88372093, 0.86046512, 0.8372093 , 0.79069767, 0.81395349,\n",
      "       0.8372093 , 0.8372093 , 0.8372093 , 0.8372093 , 0.8372093 ,\n",
      "       0.8372093 , 0.8372093 , 0.81395349, 0.81395349, 0.81395349,\n",
      "       0.8372093 , 0.81395349, 0.8372093 , 0.8372093 , 0.81395349,\n",
      "       0.8372093 , 0.8372093 , 0.81395349, 0.8372093 , 0.8372093 ,\n",
      "       0.81395349, 0.8372093 , 0.81395349, 0.88372093, 0.8372093 ,\n",
      "       0.8372093 , 0.81395349, 0.81395349, 0.8372093 , 0.81395349,\n",
      "       0.81395349, 0.8372093 , 0.8372093 , 0.81395349, 0.8372093 ,\n",
      "       0.81395349, 0.81395349, 0.81395349, 0.81395349, 0.8372093 ,\n",
      "       0.81395349, 0.81395349, 0.8372093 , 0.81395349, 0.8372093 ,\n",
      "       0.8372093 , 0.86046512, 0.81395349, 0.79069767, 0.8372093 ,\n",
      "       0.81395349, 0.86046512, 0.81395349, 0.81395349, 0.8372093 ,\n",
      "       0.81395349, 0.81395349, 0.8372093 , 0.8372093 , 0.8372093 ,\n",
      "       0.8372093 , 0.8372093 , 0.81395349, 0.81395349, 0.86046512,\n",
      "       0.81395349, 0.81395349, 0.8372093 , 0.81395349, 0.8372093 ,\n",
      "       0.81395349, 0.8372093 , 0.81395349, 0.81395349, 0.8372093 ,\n",
      "       0.8372093 , 0.8372093 , 0.81395349, 0.81395349, 0.81395349,\n",
      "       0.86046512, 0.81395349, 0.8372093 , 0.81395349, 0.81395349,\n",
      "       0.86046512, 0.8372093 , 0.81395349, 0.8372093 , 0.8372093 ,\n",
      "       0.81395349, 0.81395349, 0.81395349, 0.81395349, 0.8372093 ,\n",
      "       0.81395349, 0.8372093 , 0.81395349, 0.8372093 , 0.81395349,\n",
      "       0.8372093 , 0.81395349, 0.8372093 , 0.86046512, 0.81395349,\n",
      "       0.88372093, 0.8372093 , 0.81395349, 0.8372093 , 0.81395349,\n",
      "       0.81395349, 0.81395349, 0.88372093, 0.81395349, 0.8372093 ,\n",
      "       0.86046512, 0.81395349, 0.8372093 , 0.8372093 , 0.81395349,\n",
      "       0.81395349, 0.81395349, 0.81395349, 0.8372093 , 0.8372093 ,\n",
      "       0.8372093 , 0.81395349, 0.81395349, 0.81395349, 0.8372093 ,\n",
      "       0.86046512, 0.86046512, 0.81395349, 0.81395349, 0.8372093 ,\n",
      "       0.81395349, 0.8372093 , 0.8372093 , 0.8372093 , 0.81395349,\n",
      "       0.8372093 , 0.81395349, 0.8372093 , 0.81395349, 0.8372093 ,\n",
      "       0.8372093 , 0.86046512, 0.81395349, 0.8372093 , 0.8372093 ,\n",
      "       0.81395349, 0.81395349, 0.8372093 , 0.8372093 , 0.86046512,\n",
      "       0.8372093 , 0.8372093 , 0.81395349, 0.8372093 , 0.8372093 ,\n",
      "       0.81395349, 0.8372093 , 0.81395349, 0.8372093 , 0.8372093 ,\n",
      "       0.8372093 , 0.8372093 , 0.8372093 , 0.81395349, 0.8372093 ,\n",
      "       0.8372093 , 0.81395349, 0.8372093 , 0.81395349, 0.81395349,\n",
      "       0.79069767, 0.81395349, 0.8372093 , 0.81395349, 0.81395349,\n",
      "       0.8372093 , 0.8372093 , 0.81395349, 0.81395349, 0.86046512,\n",
      "       0.8372093 , 0.81395349, 0.86046512, 0.8372093 , 0.81395349,\n",
      "       0.81395349, 0.8372093 , 0.8372093 , 0.8372093 , 0.81395349,\n",
      "       0.79069767, 0.81395349, 0.79069767, 0.88372093, 0.81395349,\n",
      "       0.81395349, 0.81395349, 0.8372093 , 0.8372093 , 0.81395349,\n",
      "       0.81395349, 0.8372093 , 0.81395349, 0.8372093 , 0.8372093 ,\n",
      "       0.8372093 , 0.8372093 , 0.8372093 , 0.8372093 , 0.8372093 ,\n",
      "       0.81395349, 0.8372093 , 0.81395349, 0.8372093 , 0.8372093 ,\n",
      "       0.8372093 , 0.8372093 , 0.8372093 , 0.81395349, 0.8372093 ,\n",
      "       0.81395349, 0.8372093 , 0.81395349, 0.81395349, 0.81395349,\n",
      "       0.88372093, 0.81395349, 0.8372093 , 0.8372093 , 0.8372093 ,\n",
      "       0.81395349, 0.8372093 , 0.8372093 , 0.8372093 , 0.81395349,\n",
      "       0.81395349, 0.81395349, 0.86046512, 0.81395349, 0.79069767,\n",
      "       0.8372093 , 0.8372093 , 0.8372093 , 0.8372093 , 0.8372093 ,\n",
      "       0.81395349, 0.81395349, 0.81395349, 0.81395349, 0.8372093 ,\n",
      "       0.8372093 , 0.8372093 , 0.81395349, 0.8372093 , 0.8372093 ,\n",
      "       0.8372093 , 0.81395349, 0.88372093, 0.81395349, 0.81395349,\n",
      "       0.81395349, 0.81395349, 0.81395349, 0.8372093 , 0.81395349,\n",
      "       0.8372093 , 0.8372093 , 0.81395349, 0.8372093 , 0.88372093,\n",
      "       0.81395349, 0.8372093 , 0.8372093 , 0.8372093 , 0.8372093 ,\n",
      "       0.86046512, 0.8372093 , 0.8372093 , 0.8372093 , 0.8372093 ,\n",
      "       0.8372093 , 0.81395349, 0.8372093 , 0.8372093 , 0.81395349,\n",
      "       0.86046512, 0.8372093 , 0.8372093 , 0.81395349, 0.8372093 ,\n",
      "       0.8372093 , 0.81395349, 0.81395349, 0.81395349, 0.8372093 ,\n",
      "       0.81395349, 0.8372093 , 0.81395349, 0.8372093 , 0.8372093 ,\n",
      "       0.88372093, 0.81395349, 0.81395349, 0.81395349, 0.8372093 ,\n",
      "       0.8372093 , 0.81395349, 0.81395349, 0.8372093 , 0.86046512]), 'split4_test_score': array([0.79069767, 0.79069767, 0.76744186, 0.79069767, 0.88372093,\n",
      "       0.8372093 , 0.76744186, 0.79069767, 0.79069767, 0.79069767,\n",
      "       0.79069767, 0.76744186, 0.81395349, 0.81395349, 0.79069767,\n",
      "       0.8372093 , 0.79069767, 0.76744186, 0.79069767, 0.76744186,\n",
      "       0.81395349, 0.81395349, 0.79069767, 0.76744186, 0.8372093 ,\n",
      "       0.81395349, 0.79069767, 0.81395349, 0.81395349, 0.79069767,\n",
      "       0.81395349, 0.81395349, 0.79069767, 0.8372093 , 0.81395349,\n",
      "       0.81395349, 0.76744186, 0.81395349, 0.79069767, 0.76744186,\n",
      "       0.76744186, 0.81395349, 0.76744186, 0.81395349, 0.8372093 ,\n",
      "       0.79069767, 0.76744186, 0.79069767, 0.86046512, 0.79069767,\n",
      "       0.74418605, 0.76744186, 0.79069767, 0.76744186, 0.8372093 ,\n",
      "       0.81395349, 0.81395349, 0.86046512, 0.76744186, 0.8372093 ,\n",
      "       0.76744186, 0.81395349, 0.81395349, 0.81395349, 0.79069767,\n",
      "       0.79069767, 0.86046512, 0.79069767, 0.81395349, 0.76744186,\n",
      "       0.79069767, 0.76744186, 0.81395349, 0.79069767, 0.79069767,\n",
      "       0.79069767, 0.79069767, 0.8372093 , 0.81395349, 0.81395349,\n",
      "       0.81395349, 0.79069767, 0.8372093 , 0.79069767, 0.8372093 ,\n",
      "       0.8372093 , 0.76744186, 0.79069767, 0.76744186, 0.79069767,\n",
      "       0.8372093 , 0.76744186, 0.79069767, 0.79069767, 0.79069767,\n",
      "       0.74418605, 0.79069767, 0.81395349, 0.81395349, 0.76744186,\n",
      "       0.81395349, 0.81395349, 0.79069767, 0.76744186, 0.76744186,\n",
      "       0.81395349, 0.8372093 , 0.76744186, 0.74418605, 0.79069767,\n",
      "       0.74418605, 0.79069767, 0.86046512, 0.74418605, 0.72093023,\n",
      "       0.8372093 , 0.81395349, 0.79069767, 0.79069767, 0.79069767,\n",
      "       0.79069767, 0.79069767, 0.81395349, 0.8372093 , 0.81395349,\n",
      "       0.81395349, 0.79069767, 0.8372093 , 0.79069767, 0.8372093 ,\n",
      "       0.76744186, 0.81395349, 0.81395349, 0.81395349, 0.76744186,\n",
      "       0.81395349, 0.76744186, 0.76744186, 0.74418605, 0.8372093 ,\n",
      "       0.86046512, 0.79069767, 0.79069767, 0.76744186, 0.88372093,\n",
      "       0.86046512, 0.81395349, 0.8372093 , 0.81395349, 0.79069767,\n",
      "       0.79069767, 0.79069767, 0.76744186, 0.79069767, 0.8372093 ,\n",
      "       0.76744186, 0.81395349, 0.88372093, 0.79069767, 0.81395349,\n",
      "       0.81395349, 0.86046512, 0.86046512, 0.86046512, 0.81395349,\n",
      "       0.86046512, 0.8372093 , 0.81395349, 0.79069767, 0.81395349,\n",
      "       0.76744186, 0.88372093, 0.79069767, 0.79069767, 0.76744186,\n",
      "       0.79069767, 0.79069767, 0.79069767, 0.76744186, 0.8372093 ,\n",
      "       0.79069767, 0.8372093 , 0.8372093 , 0.76744186, 0.81395349,\n",
      "       0.81395349, 0.81395349, 0.81395349, 0.81395349, 0.79069767,\n",
      "       0.8372093 , 0.76744186, 0.74418605, 0.76744186, 0.79069767,\n",
      "       0.76744186, 0.81395349, 0.79069767, 0.79069767, 0.8372093 ,\n",
      "       0.76744186, 0.76744186, 0.81395349, 0.81395349, 0.79069767,\n",
      "       0.76744186, 0.81395349, 0.79069767, 0.86046512, 0.76744186,\n",
      "       0.8372093 , 0.86046512, 0.79069767, 0.81395349, 0.72093023,\n",
      "       0.76744186, 0.81395349, 0.81395349, 0.79069767, 0.76744186,\n",
      "       0.79069767, 0.8372093 , 0.8372093 , 0.8372093 , 0.86046512,\n",
      "       0.79069767, 0.81395349, 0.8372093 , 0.79069767, 0.81395349,\n",
      "       0.79069767, 0.81395349, 0.76744186, 0.81395349, 0.81395349,\n",
      "       0.76744186, 0.8372093 , 0.76744186, 0.79069767, 0.76744186,\n",
      "       0.81395349, 0.76744186, 0.79069767, 0.76744186, 0.79069767,\n",
      "       0.76744186, 0.81395349, 0.79069767, 0.79069767, 0.76744186,\n",
      "       0.81395349, 0.8372093 , 0.79069767, 0.79069767, 0.81395349,\n",
      "       0.76744186, 0.81395349, 0.8372093 , 0.76744186, 0.79069767,\n",
      "       0.76744186, 0.81395349, 0.76744186, 0.79069767, 0.76744186,\n",
      "       0.79069767, 0.81395349, 0.76744186, 0.79069767, 0.81395349,\n",
      "       0.81395349, 0.76744186, 0.76744186, 0.81395349, 0.76744186,\n",
      "       0.81395349, 0.76744186, 0.76744186, 0.81395349, 0.8372093 ,\n",
      "       0.76744186, 0.79069767, 0.74418605, 0.76744186, 0.76744186,\n",
      "       0.81395349, 0.76744186, 0.76744186, 0.74418605, 0.81395349,\n",
      "       0.79069767, 0.81395349, 0.81395349, 0.81395349, 0.86046512,\n",
      "       0.76744186, 0.79069767, 0.79069767, 0.8372093 , 0.81395349,\n",
      "       0.74418605, 0.79069767, 0.8372093 , 0.76744186, 0.79069767,\n",
      "       0.81395349, 0.76744186, 0.81395349, 0.8372093 , 0.86046512,\n",
      "       0.79069767, 0.76744186, 0.79069767, 0.81395349, 0.79069767,\n",
      "       0.81395349, 0.81395349, 0.79069767, 0.76744186, 0.79069767,\n",
      "       0.76744186, 0.8372093 , 0.76744186, 0.81395349, 0.74418605,\n",
      "       0.81395349, 0.76744186, 0.8372093 , 0.8372093 , 0.72093023,\n",
      "       0.81395349, 0.8372093 , 0.76744186, 0.79069767, 0.79069767,\n",
      "       0.86046512, 0.8372093 , 0.86046512, 0.8372093 , 0.8372093 ,\n",
      "       0.79069767, 0.79069767, 0.79069767, 0.79069767, 0.79069767,\n",
      "       0.8372093 , 0.79069767, 0.81395349, 0.79069767, 0.81395349,\n",
      "       0.76744186, 0.79069767, 0.81395349, 0.79069767, 0.79069767,\n",
      "       0.81395349, 0.81395349, 0.79069767, 0.81395349, 0.8372093 ,\n",
      "       0.81395349, 0.76744186, 0.81395349, 0.8372093 , 0.76744186,\n",
      "       0.88372093, 0.79069767, 0.79069767, 0.79069767, 0.72093023,\n",
      "       0.74418605, 0.79069767, 0.86046512, 0.8372093 , 0.8372093 ,\n",
      "       0.81395349, 0.81395349, 0.8372093 , 0.76744186, 0.81395349,\n",
      "       0.79069767, 0.79069767, 0.79069767, 0.79069767, 0.8372093 ,\n",
      "       0.8372093 , 0.76744186, 0.76744186, 0.76744186, 0.79069767,\n",
      "       0.76744186, 0.79069767, 0.81395349, 0.8372093 , 0.81395349,\n",
      "       0.79069767, 0.76744186, 0.88372093, 0.76744186, 0.86046512,\n",
      "       0.8372093 , 0.8372093 , 0.76744186, 0.81395349, 0.81395349,\n",
      "       0.81395349, 0.76744186, 0.76744186, 0.8372093 , 0.79069767,\n",
      "       0.8372093 , 0.79069767, 0.86046512, 0.8372093 , 0.81395349,\n",
      "       0.8372093 , 0.8372093 , 0.76744186, 0.81395349, 0.81395349,\n",
      "       0.81395349, 0.76744186, 0.76744186, 0.79069767, 0.81395349,\n",
      "       0.76744186, 0.74418605, 0.8372093 , 0.76744186, 0.8372093 ,\n",
      "       0.76744186, 0.79069767, 0.79069767, 0.81395349, 0.8372093 ,\n",
      "       0.81395349, 0.76744186, 0.8372093 , 0.81395349, 0.79069767,\n",
      "       0.79069767, 0.81395349, 0.86046512, 0.8372093 , 0.76744186,\n",
      "       0.74418605, 0.76744186, 0.86046512, 0.81395349, 0.8372093 ,\n",
      "       0.79069767, 0.76744186, 0.74418605, 0.79069767, 0.8372093 ,\n",
      "       0.8372093 , 0.79069767, 0.8372093 , 0.81395349, 0.79069767,\n",
      "       0.79069767, 0.8372093 , 0.76744186, 0.79069767, 0.79069767,\n",
      "       0.8372093 , 0.8372093 , 0.79069767, 0.79069767, 0.76744186,\n",
      "       0.76744186, 0.81395349, 0.8372093 , 0.76744186, 0.8372093 ,\n",
      "       0.8372093 , 0.79069767, 0.79069767, 0.79069767, 0.74418605,\n",
      "       0.86046512, 0.86046512, 0.86046512, 0.76744186, 0.79069767,\n",
      "       0.76744186, 0.86046512, 0.81395349, 0.76744186, 0.81395349,\n",
      "       0.81395349, 0.76744186, 0.76744186, 0.79069767, 0.79069767,\n",
      "       0.86046512, 0.79069767, 0.81395349, 0.81395349, 0.76744186,\n",
      "       0.8372093 , 0.81395349, 0.76744186, 0.81395349, 0.81395349,\n",
      "       0.76744186, 0.81395349, 0.76744186, 0.8372093 , 0.8372093 ,\n",
      "       0.81395349, 0.74418605, 0.76744186, 0.81395349, 0.76744186,\n",
      "       0.79069767, 0.81395349, 0.76744186, 0.81395349, 0.74418605,\n",
      "       0.76744186, 0.76744186, 0.79069767, 0.76744186, 0.81395349,\n",
      "       0.79069767, 0.79069767, 0.86046512, 0.76744186, 0.81395349,\n",
      "       0.8372093 , 0.79069767, 0.76744186, 0.76744186, 0.81395349,\n",
      "       0.74418605, 0.79069767, 0.8372093 , 0.76744186, 0.8372093 ,\n",
      "       0.76744186, 0.76744186, 0.79069767, 0.81395349, 0.79069767,\n",
      "       0.81395349, 0.81395349, 0.76744186, 0.79069767, 0.8372093 ,\n",
      "       0.76744186, 0.76744186, 0.81395349, 0.79069767, 0.79069767,\n",
      "       0.81395349, 0.81395349, 0.81395349, 0.76744186, 0.79069767,\n",
      "       0.81395349, 0.86046512, 0.79069767, 0.79069767, 0.76744186,\n",
      "       0.81395349, 0.79069767, 0.76744186, 0.79069767, 0.79069767,\n",
      "       0.81395349, 0.79069767, 0.76744186, 0.81395349, 0.8372093 ,\n",
      "       0.79069767, 0.76744186, 0.81395349, 0.74418605, 0.79069767,\n",
      "       0.76744186, 0.76744186, 0.72093023, 0.88372093, 0.79069767,\n",
      "       0.8372093 , 0.76744186, 0.81395349, 0.79069767, 0.74418605,\n",
      "       0.86046512, 0.88372093, 0.79069767, 0.81395349, 0.81395349,\n",
      "       0.74418605, 0.76744186, 0.88372093, 0.79069767, 0.79069767,\n",
      "       0.8372093 , 0.76744186, 0.8372093 , 0.74418605, 0.72093023,\n",
      "       0.79069767, 0.74418605, 0.8372093 , 0.79069767, 0.8372093 ,\n",
      "       0.81395349, 0.8372093 , 0.79069767, 0.76744186, 0.90697674,\n",
      "       0.8372093 , 0.8372093 , 0.8372093 , 0.79069767, 0.81395349,\n",
      "       0.79069767, 0.76744186, 0.8372093 , 0.79069767, 0.76744186,\n",
      "       0.79069767, 0.79069767, 0.79069767, 0.79069767, 0.76744186,\n",
      "       0.81395349, 0.8372093 , 0.79069767, 0.8372093 , 0.81395349,\n",
      "       0.8372093 , 0.76744186, 0.81395349, 0.79069767, 0.8372093 ,\n",
      "       0.81395349, 0.79069767, 0.8372093 , 0.81395349, 0.79069767,\n",
      "       0.8372093 , 0.81395349, 0.81395349, 0.81395349, 0.81395349,\n",
      "       0.76744186, 0.81395349, 0.81395349, 0.8372093 , 0.86046512,\n",
      "       0.81395349, 0.79069767, 0.88372093, 0.76744186, 0.76744186,\n",
      "       0.76744186, 0.79069767, 0.88372093, 0.79069767, 0.76744186,\n",
      "       0.81395349, 0.81395349, 0.76744186, 0.76744186, 0.81395349,\n",
      "       0.8372093 , 0.86046512, 0.8372093 , 0.8372093 , 0.74418605,\n",
      "       0.81395349, 0.76744186, 0.8372093 , 0.8372093 , 0.79069767,\n",
      "       0.79069767, 0.76744186, 0.8372093 , 0.88372093, 0.79069767,\n",
      "       0.86046512, 0.79069767, 0.81395349, 0.8372093 , 0.79069767,\n",
      "       0.76744186, 0.81395349, 0.81395349, 0.81395349, 0.79069767,\n",
      "       0.79069767, 0.79069767, 0.76744186, 0.81395349, 0.81395349,\n",
      "       0.79069767, 0.81395349, 0.76744186, 0.81395349, 0.79069767,\n",
      "       0.8372093 , 0.79069767, 0.86046512, 0.76744186, 0.79069767,\n",
      "       0.79069767, 0.8372093 , 0.79069767, 0.79069767, 0.76744186,\n",
      "       0.86046512, 0.76744186, 0.81395349, 0.79069767, 0.81395349,\n",
      "       0.79069767, 0.86046512, 0.81395349, 0.79069767, 0.76744186,\n",
      "       0.76744186, 0.76744186, 0.8372093 , 0.72093023, 0.76744186,\n",
      "       0.81395349, 0.79069767, 0.8372093 , 0.8372093 , 0.79069767,\n",
      "       0.76744186, 0.81395349, 0.76744186, 0.76744186, 0.76744186,\n",
      "       0.79069767, 0.8372093 , 0.79069767, 0.79069767, 0.81395349,\n",
      "       0.8372093 , 0.76744186, 0.88372093, 0.76744186, 0.79069767,\n",
      "       0.81395349, 0.76744186, 0.79069767, 0.81395349, 0.79069767,\n",
      "       0.81395349, 0.79069767, 0.76744186, 0.86046512, 0.8372093 ,\n",
      "       0.79069767, 0.81395349, 0.76744186, 0.8372093 , 0.86046512,\n",
      "       0.8372093 , 0.76744186, 0.81395349, 0.81395349, 0.79069767,\n",
      "       0.81395349, 0.76744186, 0.79069767, 0.81395349, 0.79069767,\n",
      "       0.81395349, 0.76744186, 0.8372093 , 0.76744186, 0.81395349,\n",
      "       0.79069767, 0.79069767, 0.76744186, 0.74418605, 0.74418605,\n",
      "       0.8372093 , 0.88372093, 0.81395349, 0.81395349, 0.81395349,\n",
      "       0.8372093 , 0.81395349, 0.74418605, 0.76744186, 0.86046512,\n",
      "       0.74418605, 0.79069767, 0.79069767, 0.79069767, 0.86046512]), 'mean_test_score': array([0.83255814, 0.82790698, 0.81395349, 0.8372093 , 0.83255814,\n",
      "       0.83255814, 0.82325581, 0.8372093 , 0.8372093 , 0.8372093 ,\n",
      "       0.8372093 , 0.82790698, 0.85116279, 0.84651163, 0.83255814,\n",
      "       0.85116279, 0.83255814, 0.81395349, 0.85116279, 0.81395349,\n",
      "       0.84186047, 0.84651163, 0.84186047, 0.81395349, 0.84186047,\n",
      "       0.85116279, 0.8372093 , 0.84186047, 0.84186047, 0.84651163,\n",
      "       0.83255814, 0.84651163, 0.8372093 , 0.84186047, 0.84186047,\n",
      "       0.8372093 , 0.82325581, 0.8372093 , 0.8372093 , 0.82325581,\n",
      "       0.81395349, 0.84651163, 0.82325581, 0.84651163, 0.8372093 ,\n",
      "       0.8372093 , 0.81395349, 0.82790698, 0.84186047, 0.82790698,\n",
      "       0.82325581, 0.82325581, 0.82790698, 0.83255814, 0.84651163,\n",
      "       0.8372093 , 0.84651163, 0.84651163, 0.81395349, 0.84186047,\n",
      "       0.82790698, 0.84651163, 0.8372093 , 0.8372093 , 0.8372093 ,\n",
      "       0.83255814, 0.85581395, 0.82790698, 0.84186047, 0.81395349,\n",
      "       0.84186047, 0.81860465, 0.82790698, 0.83255814, 0.84186047,\n",
      "       0.81860465, 0.82790698, 0.84651163, 0.84186047, 0.84186047,\n",
      "       0.8372093 , 0.83255814, 0.84651163, 0.83255814, 0.83255814,\n",
      "       0.84651163, 0.81395349, 0.82790698, 0.83255814, 0.83255814,\n",
      "       0.84186047, 0.81395349, 0.84186047, 0.8372093 , 0.81395349,\n",
      "       0.81395349, 0.82790698, 0.82790698, 0.83255814, 0.84186047,\n",
      "       0.82790698, 0.84651163, 0.82790698, 0.82325581, 0.81860465,\n",
      "       0.8372093 , 0.85116279, 0.82790698, 0.81860465, 0.83255814,\n",
      "       0.81395349, 0.84186047, 0.84651163, 0.82790698, 0.80930233,\n",
      "       0.8372093 , 0.84651163, 0.8372093 , 0.82325581, 0.83255814,\n",
      "       0.82790698, 0.8372093 , 0.8372093 , 0.8372093 , 0.84186047,\n",
      "       0.84186047, 0.84186047, 0.84186047, 0.81860465, 0.84186047,\n",
      "       0.83255814, 0.84651163, 0.85116279, 0.82790698, 0.82790698,\n",
      "       0.84186047, 0.80930233, 0.82790698, 0.82790698, 0.84651163,\n",
      "       0.85116279, 0.83255814, 0.8372093 , 0.81395349, 0.86976744,\n",
      "       0.8372093 , 0.8372093 , 0.82325581, 0.84186047, 0.84651163,\n",
      "       0.84186047, 0.82325581, 0.81860465, 0.83255814, 0.85581395,\n",
      "       0.83255814, 0.84651163, 0.85581395, 0.83255814, 0.8372093 ,\n",
      "       0.83255814, 0.84186047, 0.84651163, 0.85116279, 0.84186047,\n",
      "       0.86046512, 0.82325581, 0.84651163, 0.84186047, 0.8372093 ,\n",
      "       0.81395349, 0.84186047, 0.85116279, 0.84651163, 0.81860465,\n",
      "       0.84186047, 0.83255814, 0.8372093 , 0.81860465, 0.85116279,\n",
      "       0.82325581, 0.83255814, 0.84186047, 0.81860465, 0.84651163,\n",
      "       0.84186047, 0.84651163, 0.84186047, 0.82790698, 0.82790698,\n",
      "       0.85581395, 0.8372093 , 0.81395349, 0.81395349, 0.82790698,\n",
      "       0.82325581, 0.84651163, 0.83255814, 0.81860465, 0.85116279,\n",
      "       0.82325581, 0.8372093 , 0.82325581, 0.8372093 , 0.82790698,\n",
      "       0.84186047, 0.82790698, 0.84186047, 0.84186047, 0.82325581,\n",
      "       0.8372093 , 0.84186047, 0.82790698, 0.84651163, 0.82325581,\n",
      "       0.81395349, 0.8372093 , 0.84651163, 0.82790698, 0.82790698,\n",
      "       0.83255814, 0.8372093 , 0.82790698, 0.83255814, 0.84651163,\n",
      "       0.82325581, 0.84186047, 0.85581395, 0.82790698, 0.84651163,\n",
      "       0.84186047, 0.8372093 , 0.81860465, 0.83255814, 0.8372093 ,\n",
      "       0.82325581, 0.84186047, 0.82325581, 0.84186047, 0.82325581,\n",
      "       0.84186047, 0.80930233, 0.8372093 , 0.82790698, 0.84651163,\n",
      "       0.81395349, 0.85581395, 0.84651163, 0.8372093 , 0.81395349,\n",
      "       0.8372093 , 0.83255814, 0.8372093 , 0.8372093 , 0.82790698,\n",
      "       0.82325581, 0.84651163, 0.8372093 , 0.82790698, 0.83255814,\n",
      "       0.82790698, 0.8372093 , 0.81860465, 0.82790698, 0.82790698,\n",
      "       0.83255814, 0.8372093 , 0.81395349, 0.82790698, 0.84651163,\n",
      "       0.83255814, 0.82325581, 0.83255814, 0.8372093 , 0.82325581,\n",
      "       0.8372093 , 0.82790698, 0.83255814, 0.85116279, 0.86046512,\n",
      "       0.82325581, 0.84186047, 0.82790698, 0.81860465, 0.82325581,\n",
      "       0.83255814, 0.83255814, 0.81395349, 0.8372093 , 0.84186047,\n",
      "       0.8372093 , 0.82325581, 0.85116279, 0.84651163, 0.82325581,\n",
      "       0.81395349, 0.83255814, 0.83255814, 0.85116279, 0.81860465,\n",
      "       0.82325581, 0.84186047, 0.85116279, 0.81860465, 0.84651163,\n",
      "       0.8372093 , 0.82790698, 0.82790698, 0.82790698, 0.85116279,\n",
      "       0.82325581, 0.8372093 , 0.8372093 , 0.83255814, 0.82325581,\n",
      "       0.83255814, 0.83255814, 0.82790698, 0.82325581, 0.8372093 ,\n",
      "       0.82790698, 0.84186047, 0.81395349, 0.8372093 , 0.8372093 ,\n",
      "       0.84186047, 0.82325581, 0.8372093 , 0.86511628, 0.80930233,\n",
      "       0.84651163, 0.85116279, 0.81395349, 0.84651163, 0.84186047,\n",
      "       0.85581395, 0.84186047, 0.85581395, 0.85116279, 0.85116279,\n",
      "       0.84651163, 0.82325581, 0.84186047, 0.8372093 , 0.81860465,\n",
      "       0.84651163, 0.84186047, 0.83255814, 0.82325581, 0.84651163,\n",
      "       0.81860465, 0.83255814, 0.81860465, 0.84186047, 0.82325581,\n",
      "       0.85116279, 0.84186047, 0.82790698, 0.84186047, 0.83255814,\n",
      "       0.84651163, 0.81395349, 0.8372093 , 0.86046512, 0.80930233,\n",
      "       0.8372093 , 0.84186047, 0.82325581, 0.82790698, 0.80930233,\n",
      "       0.81395349, 0.82790698, 0.8372093 , 0.8372093 , 0.83255814,\n",
      "       0.84186047, 0.84186047, 0.84651163, 0.82790698, 0.8372093 ,\n",
      "       0.83255814, 0.82790698, 0.8372093 , 0.8372093 , 0.83255814,\n",
      "       0.84186047, 0.82790698, 0.82325581, 0.80930233, 0.83255814,\n",
      "       0.80930233, 0.8372093 , 0.84651163, 0.85116279, 0.84186047,\n",
      "       0.84186047, 0.81395349, 0.83255814, 0.80930233, 0.83255814,\n",
      "       0.84186047, 0.8372093 , 0.83255814, 0.83255814, 0.82325581,\n",
      "       0.8372093 , 0.82325581, 0.8372093 , 0.84651163, 0.84186047,\n",
      "       0.85116279, 0.84186047, 0.84186047, 0.84186047, 0.82790698,\n",
      "       0.85116279, 0.85116279, 0.82790698, 0.84186047, 0.84186047,\n",
      "       0.84186047, 0.83255814, 0.82325581, 0.82790698, 0.82325581,\n",
      "       0.80465116, 0.81395349, 0.84186047, 0.82790698, 0.8372093 ,\n",
      "       0.81395349, 0.82325581, 0.8372093 , 0.82790698, 0.85581395,\n",
      "       0.84186047, 0.82790698, 0.82790698, 0.84651163, 0.84651163,\n",
      "       0.83255814, 0.82325581, 0.84651163, 0.83255814, 0.82325581,\n",
      "       0.80465116, 0.82325581, 0.82325581, 0.84651163, 0.82790698,\n",
      "       0.8372093 , 0.81395349, 0.81395349, 0.84651163, 0.85116279,\n",
      "       0.8372093 , 0.84186047, 0.84651163, 0.82790698, 0.84186047,\n",
      "       0.82325581, 0.8372093 , 0.8372093 , 0.82790698, 0.82790698,\n",
      "       0.84651163, 0.82790698, 0.84651163, 0.8372093 , 0.82790698,\n",
      "       0.82790698, 0.8372093 , 0.8372093 , 0.82325581, 0.84651163,\n",
      "       0.84186047, 0.82790698, 0.82790698, 0.82325581, 0.83255814,\n",
      "       0.84186047, 0.83255814, 0.84651163, 0.81395349, 0.82325581,\n",
      "       0.81860465, 0.8372093 , 0.85581395, 0.83255814, 0.84186047,\n",
      "       0.8372093 , 0.83255814, 0.81395349, 0.81860465, 0.82325581,\n",
      "       0.85581395, 0.82790698, 0.84186047, 0.84186047, 0.82790698,\n",
      "       0.85116279, 0.84186047, 0.83255814, 0.8372093 , 0.84186047,\n",
      "       0.83255814, 0.82790698, 0.80930233, 0.84186047, 0.85116279,\n",
      "       0.85581395, 0.81395349, 0.83255814, 0.83255814, 0.83255814,\n",
      "       0.82790698, 0.84651163, 0.83255814, 0.84186047, 0.8372093 ,\n",
      "       0.81395349, 0.82325581, 0.82790698, 0.83255814, 0.83255814,\n",
      "       0.83255814, 0.83255814, 0.83255814, 0.81860465, 0.8372093 ,\n",
      "       0.85116279, 0.85116279, 0.82790698, 0.80930233, 0.8372093 ,\n",
      "       0.80930233, 0.83255814, 0.83255814, 0.80930233, 0.8372093 ,\n",
      "       0.81860465, 0.83255814, 0.8372093 , 0.85581395, 0.85116279,\n",
      "       0.82790698, 0.85581395, 0.82790698, 0.82325581, 0.84186047,\n",
      "       0.81395349, 0.81395349, 0.84651163, 0.82325581, 0.82790698,\n",
      "       0.84186047, 0.84651163, 0.84651163, 0.82325581, 0.82790698,\n",
      "       0.85581395, 0.83255814, 0.84186047, 0.8372093 , 0.81860465,\n",
      "       0.85116279, 0.82790698, 0.8372093 , 0.83255814, 0.83255814,\n",
      "       0.8372093 , 0.8372093 , 0.81860465, 0.82790698, 0.8372093 ,\n",
      "       0.82325581, 0.82325581, 0.84651163, 0.82325581, 0.82790698,\n",
      "       0.81860465, 0.82325581, 0.80930233, 0.83255814, 0.83255814,\n",
      "       0.84651163, 0.82325581, 0.84186047, 0.83255814, 0.81395349,\n",
      "       0.86046512, 0.84651163, 0.83255814, 0.84186047, 0.84186047,\n",
      "       0.80930233, 0.81395349, 0.86046512, 0.83255814, 0.84651163,\n",
      "       0.84651163, 0.82790698, 0.82790698, 0.82325581, 0.80930233,\n",
      "       0.82790698, 0.81395349, 0.84186047, 0.8372093 , 0.8372093 ,\n",
      "       0.84186047, 0.8372093 , 0.82325581, 0.81860465, 0.84651163,\n",
      "       0.8372093 , 0.84186047, 0.8372093 , 0.82790698, 0.84186047,\n",
      "       0.82790698, 0.8372093 , 0.83255814, 0.85116279, 0.82790698,\n",
      "       0.8372093 , 0.83255814, 0.84186047, 0.8372093 , 0.8372093 ,\n",
      "       0.84186047, 0.86046512, 0.82325581, 0.8372093 , 0.84651163,\n",
      "       0.82325581, 0.81395349, 0.84651163, 0.82790698, 0.83255814,\n",
      "       0.84651163, 0.84186047, 0.8372093 , 0.8372093 , 0.83255814,\n",
      "       0.83255814, 0.8372093 , 0.84186047, 0.83255814, 0.82325581,\n",
      "       0.83255814, 0.83255814, 0.85116279, 0.84651163, 0.84651163,\n",
      "       0.8372093 , 0.84186047, 0.85116279, 0.81860465, 0.82325581,\n",
      "       0.81395349, 0.82790698, 0.85116279, 0.84651163, 0.81395349,\n",
      "       0.83255814, 0.84651163, 0.81395349, 0.81395349, 0.84651163,\n",
      "       0.8372093 , 0.84186047, 0.83255814, 0.82790698, 0.80930233,\n",
      "       0.81860465, 0.82790698, 0.84186047, 0.8372093 , 0.82790698,\n",
      "       0.8372093 , 0.81860465, 0.83255814, 0.86511628, 0.82790698,\n",
      "       0.82790698, 0.82325581, 0.85116279, 0.82790698, 0.82325581,\n",
      "       0.82325581, 0.85116279, 0.8372093 , 0.85116279, 0.84186047,\n",
      "       0.8372093 , 0.84651163, 0.82325581, 0.82325581, 0.84186047,\n",
      "       0.8372093 , 0.84186047, 0.82790698, 0.84186047, 0.83255814,\n",
      "       0.84651163, 0.82790698, 0.84186047, 0.83255814, 0.84186047,\n",
      "       0.8372093 , 0.84651163, 0.83255814, 0.83255814, 0.82325581,\n",
      "       0.84186047, 0.82790698, 0.85116279, 0.82790698, 0.84651163,\n",
      "       0.83255814, 0.84186047, 0.85581395, 0.84186047, 0.84186047,\n",
      "       0.81395349, 0.81395349, 0.82790698, 0.80465116, 0.81395349,\n",
      "       0.84186047, 0.82790698, 0.84651163, 0.82790698, 0.8372093 ,\n",
      "       0.8372093 , 0.81860465, 0.81395349, 0.82790698, 0.81860465,\n",
      "       0.82790698, 0.84651163, 0.8372093 , 0.83255814, 0.85116279,\n",
      "       0.84651163, 0.81860465, 0.86046512, 0.83255814, 0.8372093 ,\n",
      "       0.84186047, 0.81395349, 0.8372093 , 0.84186047, 0.83255814,\n",
      "       0.84186047, 0.84186047, 0.82325581, 0.85581395, 0.84186047,\n",
      "       0.82325581, 0.85116279, 0.82790698, 0.8372093 , 0.84651163,\n",
      "       0.82790698, 0.8372093 , 0.84186047, 0.84186047, 0.82790698,\n",
      "       0.84186047, 0.83255814, 0.8372093 , 0.84186047, 0.84186047,\n",
      "       0.84651163, 0.84186047, 0.8372093 , 0.81860465, 0.84186047,\n",
      "       0.85116279, 0.82325581, 0.81395349, 0.81860465, 0.8372093 ,\n",
      "       0.85581395, 0.85116279, 0.84186047, 0.84651163, 0.84651163,\n",
      "       0.84186047, 0.83255814, 0.82790698, 0.82325581, 0.84651163,\n",
      "       0.82325581, 0.84186047, 0.82790698, 0.83255814, 0.84186047]), 'std_test_score': array([0.0538411 , 0.05424141, 0.04160126, 0.04160126, 0.03085232,\n",
      "       0.04001082, 0.04788665, 0.05883307, 0.04160126, 0.04878181,\n",
      "       0.06064374, 0.05009456, 0.04788665, 0.04788665, 0.0538411 ,\n",
      "       0.05009456, 0.04966083, 0.03891442, 0.05620021, 0.0441248 ,\n",
      "       0.04743274, 0.04788665, 0.05771941, 0.0441248 , 0.0450947 ,\n",
      "       0.05620021, 0.07354134, 0.02712071, 0.04743274, 0.05424141,\n",
      "       0.04966083, 0.0455719 , 0.0441248 , 0.05956395, 0.04743274,\n",
      "       0.04651163, 0.05424141, 0.06064374, 0.05095094, 0.05424141,\n",
      "       0.04160126, 0.05424141, 0.0744186 , 0.05620021, 0.05303142,\n",
      "       0.06064374, 0.04160126, 0.05992604, 0.04966083, 0.04313311,\n",
      "       0.05620021, 0.05992604, 0.05009456, 0.05581395, 0.04788665,\n",
      "       0.03891442, 0.05220917, 0.04788665, 0.04878181, 0.05581395,\n",
      "       0.05009456, 0.04788665, 0.05303142, 0.05303142, 0.05303142,\n",
      "       0.05179316, 0.0450947 , 0.04313311, 0.06135305, 0.05696488,\n",
      "       0.04001082, 0.04966083, 0.05220917, 0.0450947 , 0.05771941,\n",
      "       0.02712071, 0.07295064, 0.04788665, 0.04743274, 0.04966083,\n",
      "       0.0550333 , 0.07114911, 0.06170465, 0.0372093 , 0.02712071,\n",
      "       0.04788665, 0.03891442, 0.04313311, 0.04743274, 0.04966083,\n",
      "       0.03085232, 0.04160126, 0.06804065, 0.05303142, 0.03891442,\n",
      "       0.05303142, 0.03778623, 0.03154572, 0.0372093 , 0.05581395,\n",
      "       0.05220917, 0.05009456, 0.04313311, 0.05424141, 0.05956395,\n",
      "       0.06064374, 0.0455719 , 0.05009456, 0.04743274, 0.04966083,\n",
      "       0.05303142, 0.05581395, 0.03778623, 0.06835785, 0.06309144,\n",
      "       0.0441248 , 0.04313311, 0.0441248 , 0.03154572, 0.0450947 ,\n",
      "       0.04313311, 0.06064374, 0.05095094, 0.05095094, 0.04743274,\n",
      "       0.05771941, 0.04743274, 0.05179316, 0.03417893, 0.05581395,\n",
      "       0.0538411 , 0.05424141, 0.05992604, 0.03154572, 0.04313311,\n",
      "       0.04743274, 0.0372093 , 0.03154572, 0.06835785, 0.04313311,\n",
      "       0.03154572, 0.05771941, 0.05883307, 0.05696488, 0.05009456,\n",
      "       0.02080063, 0.03891442, 0.02790698, 0.04743274, 0.04313311,\n",
      "       0.05581395, 0.04788665, 0.05581395, 0.0538411 , 0.0450947 ,\n",
      "       0.0647832 , 0.0455719 , 0.04743274, 0.0538411 , 0.06064374,\n",
      "       0.03417893, 0.05179316, 0.0455719 , 0.04313311, 0.04966083,\n",
      "       0.04651163, 0.0405479 , 0.05620021, 0.05581395, 0.0441248 ,\n",
      "       0.04160126, 0.05771941, 0.05009456, 0.05424141, 0.04262861,\n",
      "       0.05771941, 0.0538411 , 0.05883307, 0.04743274, 0.0405479 ,\n",
      "       0.05009456, 0.0372093 , 0.0450947 , 0.04262861, 0.05620021,\n",
      "       0.04966083, 0.04313311, 0.04001082, 0.0405479 , 0.04313311,\n",
      "       0.0450947 , 0.05095094, 0.05303142, 0.03288869, 0.04313311,\n",
      "       0.04313311, 0.04788665, 0.07114911, 0.02278595, 0.05424141,\n",
      "       0.05992604, 0.04651163, 0.0455719 , 0.06064374, 0.03154572,\n",
      "       0.07557245, 0.05220917, 0.05956395, 0.04966083, 0.03778623,\n",
      "       0.05095094, 0.0450947 , 0.03154572, 0.0405479 , 0.0744186 ,\n",
      "       0.03891442, 0.06064374, 0.03480612, 0.04313311, 0.05009456,\n",
      "       0.0538411 , 0.03891442, 0.04788665, 0.0538411 , 0.0455719 ,\n",
      "       0.04788665, 0.04743274, 0.04743274, 0.04313311, 0.04788665,\n",
      "       0.0450947 , 0.03891442, 0.04262861, 0.04743274, 0.06064374,\n",
      "       0.03778623, 0.04966083, 0.04313311, 0.0538411 , 0.04788665,\n",
      "       0.03417893, 0.0372093 , 0.03891442, 0.05009456, 0.05424141,\n",
      "       0.04160126, 0.05771941, 0.0634334 , 0.04878181, 0.0441248 ,\n",
      "       0.04651163, 0.02278595, 0.04160126, 0.05303142, 0.04788665,\n",
      "       0.05424141, 0.04313311, 0.05303142, 0.05009456, 0.06643189,\n",
      "       0.058093  , 0.04878181, 0.0450947 , 0.03778623, 0.05009456,\n",
      "       0.05179316, 0.03602775, 0.04160126, 0.05009456, 0.04313311,\n",
      "       0.04001082, 0.05424141, 0.0647832 , 0.03891442, 0.04313311,\n",
      "       0.03891442, 0.05424141, 0.0538411 , 0.05009456, 0.05095094,\n",
      "       0.04788665, 0.04743274, 0.06835785, 0.0450947 , 0.04788665,\n",
      "       0.0538411 , 0.04743274, 0.03288869, 0.06411185, 0.04966083,\n",
      "       0.0441248 , 0.03154572, 0.04788665, 0.04313311, 0.04313311,\n",
      "       0.03288869, 0.0450947 , 0.03085232, 0.04313311, 0.03085232,\n",
      "       0.05620021, 0.0450947 , 0.05220917, 0.05179316, 0.05992604,\n",
      "       0.04651163, 0.06170465, 0.05220917, 0.01860465, 0.05992604,\n",
      "       0.03154572, 0.05696488, 0.0441248 , 0.03417893, 0.05009456,\n",
      "       0.04001082, 0.0372093 , 0.06170465, 0.05424141, 0.05095094,\n",
      "       0.06170465, 0.04001082, 0.0441248 , 0.06064374, 0.07354134,\n",
      "       0.04966083, 0.04788665, 0.03891442, 0.05581395, 0.05956395,\n",
      "       0.05620021, 0.05424141, 0.0441248 , 0.05220917, 0.0450947 ,\n",
      "       0.03417893, 0.04001082, 0.0450947 , 0.05992604, 0.03778623,\n",
      "       0.07145252, 0.04313311, 0.0450947 , 0.03891442, 0.03417893,\n",
      "       0.0455719 , 0.05581395, 0.0450947 , 0.04313311, 0.04788665,\n",
      "       0.04001082, 0.0538411 , 0.03085232, 0.05956395, 0.0405479 ,\n",
      "       0.04788665, 0.04743274, 0.05620021, 0.04743274, 0.0372093 ,\n",
      "       0.04788665, 0.04160126, 0.04651163, 0.04651163, 0.0372093 ,\n",
      "       0.06411185, 0.04743274, 0.04788665, 0.07295064, 0.05771941,\n",
      "       0.05303142, 0.05009456, 0.04160126, 0.05095094, 0.0450947 ,\n",
      "       0.0538411 , 0.0538411 , 0.03154572, 0.04788665, 0.04651163,\n",
      "       0.0450947 , 0.05992604, 0.04878181, 0.05883307, 0.04001082,\n",
      "       0.04001082, 0.05009456, 0.05992604, 0.0372093 , 0.04966083,\n",
      "       0.0372093 , 0.04160126, 0.0455719 , 0.04788665, 0.04743274,\n",
      "       0.0538411 , 0.0441248 , 0.03085232, 0.0372093 , 0.04743274,\n",
      "       0.06135305, 0.0441248 , 0.06309144, 0.0538411 , 0.0455719 ,\n",
      "       0.05303142, 0.04788665, 0.05095094, 0.03778623, 0.0647832 ,\n",
      "       0.05424141, 0.0647832 , 0.04001082, 0.04743274, 0.06675674,\n",
      "       0.06511628, 0.05220917, 0.0455719 , 0.0538411 , 0.0450947 ,\n",
      "       0.0538411 , 0.0538411 , 0.05424141, 0.04313311, 0.02371637,\n",
      "       0.03778623, 0.04651163, 0.04966083, 0.05424141, 0.05696488,\n",
      "       0.0441248 , 0.04788665, 0.06064374, 0.04788665, 0.0450947 ,\n",
      "       0.02712071, 0.06835785, 0.04788665, 0.04788665, 0.04788665,\n",
      "       0.0538411 , 0.01139298, 0.04788665, 0.04001082, 0.05424141,\n",
      "       0.04313311, 0.04788665, 0.03154572, 0.05620021, 0.03154572,\n",
      "       0.04878181, 0.03288869, 0.05303142, 0.05009456, 0.05220917,\n",
      "       0.0441248 , 0.05771941, 0.0455719 , 0.03480612, 0.05771941,\n",
      "       0.0405479 , 0.03891442, 0.05883307, 0.07145252, 0.03154572,\n",
      "       0.04788665, 0.02371637, 0.05992604, 0.05303142, 0.058093  ,\n",
      "       0.06170465, 0.03891442, 0.03891442, 0.04788665, 0.03778623,\n",
      "       0.0450947 , 0.03778623, 0.03778623, 0.04788665, 0.07838279,\n",
      "       0.03417893, 0.02712071, 0.03154572, 0.03891442, 0.04788665,\n",
      "       0.04262861, 0.06064374, 0.04262861, 0.06961223, 0.04743274,\n",
      "       0.03891442, 0.05771941, 0.04160126, 0.04001082, 0.04788665,\n",
      "       0.0450947 , 0.03154572, 0.04001082, 0.04743274, 0.06835785,\n",
      "       0.05424141, 0.04001082, 0.04001082, 0.06064374, 0.04743274,\n",
      "       0.0538411 , 0.05220917, 0.0372093 , 0.04743274, 0.05220917,\n",
      "       0.0538411 , 0.05696488, 0.06309144, 0.04001082, 0.0538411 ,\n",
      "       0.03154572, 0.05620021, 0.05771941, 0.05771941, 0.06411185,\n",
      "       0.03288869, 0.0744186 , 0.03778623, 0.0538411 , 0.02712071,\n",
      "       0.0538411 , 0.0450947 , 0.03417893, 0.04743274, 0.03891442,\n",
      "       0.0405479 , 0.0634334 , 0.05009456, 0.0450947 , 0.06064374,\n",
      "       0.04743274, 0.0450947 , 0.03085232, 0.0372093 , 0.05095094,\n",
      "       0.04743274, 0.06309144, 0.05303142, 0.0538411 , 0.05009456,\n",
      "       0.03778623, 0.0450947 , 0.05009456, 0.04313311, 0.04001082,\n",
      "       0.03288869, 0.0441248 , 0.05620021, 0.04788665, 0.04313311,\n",
      "       0.04966083, 0.04313311, 0.05220917, 0.04788665, 0.04313311,\n",
      "       0.0450947 , 0.0538411 , 0.0450947 , 0.06064374, 0.05179316,\n",
      "       0.04788665, 0.03154572, 0.05303142, 0.0538411 , 0.06643189,\n",
      "       0.04160126, 0.0441248 , 0.04001082, 0.05220917, 0.03891442,\n",
      "       0.04788665, 0.04788665, 0.05009456, 0.05620021, 0.04313311,\n",
      "       0.05179316, 0.04788665, 0.05956395, 0.04743274, 0.0538411 ,\n",
      "       0.04788665, 0.05424141, 0.0538411 , 0.07114911, 0.05303142,\n",
      "       0.03891442, 0.03480612, 0.0450947 , 0.0538411 , 0.05771941,\n",
      "       0.04966083, 0.04160126, 0.04651163, 0.0450947 , 0.05220917,\n",
      "       0.04313311, 0.05009456, 0.04313311, 0.0455719 , 0.05956395,\n",
      "       0.05009456, 0.05696488, 0.0372093 , 0.0441248 , 0.0441248 ,\n",
      "       0.04743274, 0.05696488, 0.04788665, 0.05179316, 0.05424141,\n",
      "       0.03602775, 0.04001082, 0.0441248 , 0.05009456, 0.04743274,\n",
      "       0.05009456, 0.0624019 , 0.04743274, 0.05009456, 0.05009456,\n",
      "       0.02941654, 0.0450947 , 0.05771941, 0.04878181, 0.05303142,\n",
      "       0.04743274, 0.04651163, 0.04313311, 0.05303142, 0.04788665,\n",
      "       0.02371637, 0.04160126, 0.05424141, 0.04313311, 0.03417893,\n",
      "       0.04788665, 0.05771941, 0.0441248 , 0.06064374, 0.04966083,\n",
      "       0.05179316, 0.05303142, 0.0450947 , 0.0538411 , 0.0455719 ,\n",
      "       0.05771941, 0.0538411 , 0.04313311, 0.04788665, 0.04313311,\n",
      "       0.06064374, 0.0538411 , 0.03480612, 0.05179316, 0.04313311,\n",
      "       0.04160126, 0.03778623, 0.03480612, 0.05220917, 0.03288869,\n",
      "       0.0538411 , 0.05424141, 0.0441248 , 0.0441248 , 0.04788665,\n",
      "       0.0441248 , 0.04001082, 0.0450947 , 0.0455719 , 0.04966083,\n",
      "       0.02278595, 0.04313311, 0.04262861, 0.05303142, 0.04788665,\n",
      "       0.04878181, 0.05179316, 0.0372093 , 0.04001082, 0.05009456,\n",
      "       0.0634334 , 0.04788665, 0.04788665, 0.0455719 , 0.04788665,\n",
      "       0.04788665, 0.05009456, 0.05095094, 0.05992604, 0.05771941,\n",
      "       0.02941654, 0.05992604, 0.04788665, 0.03154572, 0.04743274,\n",
      "       0.04160126, 0.04001082, 0.04788665, 0.04001082, 0.0372093 ,\n",
      "       0.06170465, 0.04313311, 0.04001082, 0.0538411 , 0.05956395,\n",
      "       0.04878181, 0.04788665, 0.05179316, 0.0538411 , 0.05424141,\n",
      "       0.03417893, 0.058093  , 0.05009456, 0.04313311, 0.04788665,\n",
      "       0.05771941, 0.05956395, 0.0538411 , 0.05771941, 0.07557245,\n",
      "       0.0441248 , 0.0441248 , 0.04788665, 0.05620021, 0.04160126,\n",
      "       0.0538411 , 0.06170465, 0.04788665, 0.01860465, 0.02941654,\n",
      "       0.05095094, 0.03085232, 0.04160126, 0.04788665, 0.0538411 ,\n",
      "       0.04313311, 0.06170465, 0.04160126, 0.0372093 , 0.05009456,\n",
      "       0.06170465, 0.04001082, 0.03602775, 0.0450947 , 0.06064374,\n",
      "       0.04966083, 0.04160126, 0.06064374, 0.0538411 , 0.0538411 ,\n",
      "       0.04001082, 0.04743274, 0.05424141, 0.05179316, 0.05179316,\n",
      "       0.04788665, 0.0634334 , 0.05424141, 0.05303142, 0.04788665,\n",
      "       0.04788665, 0.05303142, 0.04743274, 0.04743274, 0.04313311,\n",
      "       0.04743274, 0.0538411 , 0.05303142, 0.0538411 , 0.0450947 ,\n",
      "       0.03778623, 0.07114911, 0.05303142, 0.04001082, 0.04966083,\n",
      "       0.05009456, 0.04788665, 0.03288869, 0.04966083, 0.07354134,\n",
      "       0.0538411 , 0.03480612, 0.04966083, 0.04788665, 0.04788665,\n",
      "       0.05179316, 0.02712071, 0.06992231, 0.04788665, 0.05620021,\n",
      "       0.05992604, 0.0450947 , 0.05620021, 0.05956395, 0.04001082]), 'rank_test_score': array([405, 509, 729, 371, 405, 405, 617, 371, 371, 371, 283, 509,  38,\n",
      "       109, 405,  38, 405, 729,  38, 729, 157, 109, 228, 729, 157,  38,\n",
      "       283, 157, 157, 109, 489, 109, 371, 157, 157, 283, 617, 283, 283,\n",
      "       617, 729, 109, 617,  72, 283, 283, 729, 509, 157, 509, 617, 617,\n",
      "       509, 405,  72, 283, 109,  72, 729, 157, 509, 109, 283, 283, 283,\n",
      "       405,  11, 509, 228, 729, 228, 695, 509, 489, 228, 695, 509, 109,\n",
      "       157, 228, 283, 489,  72, 405, 405,  72, 729, 509, 405, 405, 228,\n",
      "       729, 157, 371, 729, 729, 509, 509, 489, 157, 509, 109, 509, 617,\n",
      "       695, 283,  38, 509, 695, 405, 729, 228,  72, 509, 781, 283,  72,\n",
      "       371, 617, 489, 509, 283, 283, 283, 157, 228, 157, 157, 695, 157,\n",
      "       405, 109,  38, 509, 509, 157, 781, 509, 509,  72,  38, 405, 371,\n",
      "       729,   1, 371, 283, 617, 157, 109, 228, 617, 695, 405,  11, 405,\n",
      "       109,  11, 405, 283, 405, 157,  72,  29, 157,   4, 617,  72, 228,\n",
      "       283, 729, 157,  38, 109, 695, 228, 405, 371, 695,  38, 617, 405,\n",
      "       157, 695,  72, 157,  72, 157, 509, 509,  11, 283, 729, 729, 509,\n",
      "       617, 109, 489, 695,  29, 617, 283, 617, 283, 509, 157, 509, 157,\n",
      "       157, 617, 283, 157, 612, 109, 617, 729, 283, 109, 509, 509, 405,\n",
      "       283, 509, 405,  72, 617, 157,  11, 509, 109, 228, 283, 695, 405,\n",
      "       283, 617, 157, 617, 228, 617, 228, 781, 371, 509, 109, 729,  11,\n",
      "       109, 371, 729, 283, 405, 371, 371, 509, 617, 109, 283, 509, 405,\n",
      "       509, 283, 695, 509, 509, 405, 283, 729, 509,  72, 405, 617, 405,\n",
      "       283, 617, 283, 509, 405,  38,   4, 617, 228, 509, 695, 617, 405,\n",
      "       405, 729, 283, 228, 371, 617,  38,  72, 617, 729, 489, 405,  38,\n",
      "       695, 617, 228,  38, 695, 109, 371, 509, 509, 509,  38, 617, 283,\n",
      "       371, 405, 617, 405, 489, 509, 617, 283, 509, 228, 729, 283, 283,\n",
      "       228, 617, 283,   2, 781,  72,  29, 729, 109, 228,  11, 228,  11,\n",
      "        38,  38, 109, 617, 228, 371, 695,  72, 228, 405, 617, 109, 695,\n",
      "       405, 695, 157, 617,  38, 228, 509, 157, 405, 109, 729, 371,   4,\n",
      "       781, 283, 157, 617, 509, 781, 729, 509, 371, 283, 489, 157, 157,\n",
      "        72, 509, 371, 489, 509, 371, 371, 405, 228, 509, 617, 781, 405,\n",
      "       781, 371, 109,  38, 157, 228, 729, 405, 781, 405, 157, 283, 405,\n",
      "       405, 617, 283, 617, 283, 109, 228,  29, 228, 157, 157, 509,  38,\n",
      "        38, 509, 157, 157, 157, 405, 617, 509, 694, 798, 729, 157, 509,\n",
      "       283, 729, 617, 283, 509,  11, 157, 509, 509, 109, 109, 405, 617,\n",
      "        72, 489, 617, 798, 617, 617,  72, 509, 371, 729, 729, 109,  38,\n",
      "       283, 228,  72, 509, 228, 617, 283, 283, 612, 509,  72, 612, 109,\n",
      "       283, 509, 509, 283, 283, 617, 109, 157, 509, 509, 617, 405, 228,\n",
      "       489,  72, 729, 617, 695, 283,  11, 405, 157, 283, 405, 729, 695,\n",
      "       617,  11, 509, 228, 157, 509,  29, 228, 405, 283, 157, 405, 509,\n",
      "       781, 228,  38,  11, 729, 405, 405, 405, 509,  72, 405, 157, 283,\n",
      "       729, 617, 509, 405, 405, 405, 489, 405, 695, 283,  38,  38, 509,\n",
      "       781, 283, 781, 489, 405, 781, 283, 695, 405, 283,  11,  38, 509,\n",
      "        11, 509, 617, 228, 729, 729,  72, 617, 509, 228,  72, 109, 617,\n",
      "       509,  11, 405, 228, 283, 695,  38, 509, 283, 405, 405, 371, 371,\n",
      "       695, 509, 283, 617, 617, 109, 617, 509, 695, 617, 781, 405, 405,\n",
      "        72, 617, 157, 489, 729,   4,  72, 489, 157, 157, 781, 729,   4,\n",
      "       489, 109, 109, 509, 509, 617, 781, 509, 729, 157, 371, 283, 157,\n",
      "       283, 617, 695,  72, 371, 228, 283, 509, 157, 509, 283, 405,  38,\n",
      "       509, 283, 489, 228, 371, 283, 157,   4, 617, 283, 109, 617, 729,\n",
      "       109, 509, 489, 109, 228, 283, 283, 405, 405, 283, 157, 405, 617,\n",
      "       405, 405,  38, 109,  72, 283, 228,  29, 695, 617, 729, 509,  29,\n",
      "       109, 729, 405, 109, 729, 729, 109, 283, 157, 489, 509, 781, 695,\n",
      "       509, 157, 283, 509, 371, 695, 405,   2, 509, 509, 617,  38, 509,\n",
      "       617, 617,  38, 283,  38, 228, 283, 109, 617, 617, 157, 371, 228,\n",
      "       509, 228, 405,  72, 509, 157, 405, 157, 371,  72, 405, 405, 617,\n",
      "       228, 509,  38, 509, 109, 405, 157,  11, 228, 157, 729, 729, 612,\n",
      "       798, 729, 157, 509,  72, 509, 283, 283, 695, 729, 509, 695, 509,\n",
      "        72, 371, 405,  38,  72, 695,   4, 405, 283, 228, 729, 283, 157,\n",
      "       405, 228, 228, 617,  11, 228, 617,  29, 509, 283,  72, 612, 283,\n",
      "       157, 157, 509, 157, 405, 283, 157, 228, 109, 157, 283, 695, 157,\n",
      "        38, 617, 729, 695, 283,  11,  29, 228, 109, 109, 228, 405, 509,\n",
      "       617,  72, 617, 228, 509, 405, 228])}\n",
      "\n",
      " Best estimator:\n"
     ]
    },
    {
     "name": "stdout",
     "output_type": "stream",
     "text": [
      "XGBClassifier(base_score=0.5, booster=None, colsample_bylevel=1,\n",
      "              colsample_bynode=1, colsample_bytree=1.0, gamma=1.5, gpu_id=-1,\n",
      "              importance_type='gain', interaction_constraints=None,\n",
      "              learning_rate=0.01, max_delta_step=0, max_depth=3,\n",
      "              min_child_weight=1, missing=nan, monotone_constraints=None,\n",
      "              n_estimators=750, n_jobs=-1, num_parallel_tree=1,\n",
      "              objective='binary:logistic', random_state=0, reg_alpha=0,\n",
      "              reg_lambda=1, scale_pos_weight=1, subsample=1.0, tree_method=None,\n",
      "              validate_parameters=False, verbosity=None)\n",
      "\n",
      " Best accuracy for 5-fold search with 800 parameter combinations:\n",
      "0.8697674418604651\n",
      "\n",
      " Best hyperparameters:\n",
      "{'subsample': 1.0, 'n_estimators': 750, 'min_child_weight': 1, 'max_depth': 3, 'learning_rate': 0.01, 'gamma': 1.5, 'colsample_bytree': 1.0}\n"
     ]
    }
   ],
   "source": [
    "print('\\n All results:')\n",
    "print(random_search.cv_results_)\n",
    "print('\\n Best estimator:')\n",
    "print(random_search.best_estimator_)\n",
    "print('\\n Best accuracy for %d-fold search with %d parameter combinations:' % (folds, param_comb))\n",
    "print(random_search.best_score_ )\n",
    "print('\\n Best hyperparameters:')\n",
    "print(random_search.best_params_)\n",
    "results = pd.DataFrame(random_search.cv_results_)\n",
    "results.to_csv('xgb-random-grid-search-results-01.csv', index=False)"
   ]
  },
  {
   "cell_type": "code",
   "execution_count": 89,
   "metadata": {},
   "outputs": [],
   "source": [
    "def features_imp(model, cf) : \n",
    "\n",
    "    coefficients  = pd.DataFrame(model.feature_importances_)\n",
    "    column_data     = pd.DataFrame(list(x))\n",
    "    coef_sumry    = (pd.merge(coefficients,column_data,left_index= True,\n",
    "                              right_index= True, how = \"left\"))\n",
    "    coef_sumry.columns = [\"coefficients\",\"features\"]\n",
    "    coef_sumry    = coef_sumry.sort_values(by = \"coefficients\",ascending = False)\n",
    "    coef_sumry = coef_sumry[coef_sumry[\"coefficients\"] !=0]\n",
    "    trace = go.Bar(x = coef_sumry[\"features\"],y = coef_sumry[\"coefficients\"],\n",
    "                    name = \"coefficients\",\n",
    "                    marker = dict(color = coef_sumry[\"coefficients\"],\n",
    "                                  colorscale = \"Viridis\",\n",
    "                                  line = dict(width = .6,color = \"black\")))\n",
    "    layout = dict(title =  'Feature Importances xgb_cfl')\n",
    "                    \n",
    "    fig = dict(data = [trace], layout=layout)\n",
    "    py.iplot(fig)"
   ]
  },
  {
   "cell_type": "code",
   "execution_count": 90,
   "metadata": {},
   "outputs": [
    {
     "data": {
      "application/vnd.plotly.v1+json": {
       "config": {
        "linkText": "Export to plot.ly",
        "plotlyServerURL": "https://plot.ly",
        "showLink": false
       },
       "data": [
        {
         "colorscale": [
          [
           0,
           "#440154"
          ],
          [
           0.1111111111111111,
           "#482878"
          ],
          [
           0.2222222222222222,
           "#3e4989"
          ],
          [
           0.3333333333333333,
           "#31688e"
          ],
          [
           0.4444444444444444,
           "#26828e"
          ],
          [
           0.5555555555555556,
           "#1f9e89"
          ],
          [
           0.6666666666666666,
           "#35b779"
          ],
          [
           0.7777777777777778,
           "#6ece58"
          ],
          [
           0.8888888888888888,
           "#b5de2b"
          ],
          [
           1,
           "#fde725"
          ]
         ],
         "showscale": false,
         "type": "heatmap",
         "x": [
          "0 (pred)",
          "1 (pred)"
         ],
         "xaxis": "x",
         "xgap": 2,
         "y": [
          "0 (true)",
          "1 (true)"
         ],
         "yaxis": "y",
         "ygap": 2,
         "z": [
          [
           7,
           5
          ],
          [
           2,
           29
          ]
         ]
        },
        {
         "marker": {
          "color": [
           "gold",
           "lightgreen",
           "lightcoral",
           "lightskyblue"
          ],
          "line": {
           "color": "#000000",
           "width": 1.5
          }
         },
         "opacity": 0.8,
         "orientation": "h",
         "text": [
          0.8372,
          0.8529,
          0.9355,
          0.8923
         ],
         "textposition": "auto",
         "type": "bar",
         "x": [
          0.8372093023255814,
          0.8529411764705882,
          0.9354838709677419,
          0.8923076923076922
         ],
         "xaxis": "x2",
         "y": [
          "Accuracy",
          "Precision",
          "Recall",
          "F1_score"
         ],
         "yaxis": "y2"
        },
        {
         "fill": "tozeroy",
         "line": {
          "color": "rgb(22, 96, 167)",
          "width": 2
         },
         "name": "Roc : ",
         "type": "scatter",
         "x": [
          0,
          0,
          0,
          0,
          0,
          0.08333333333333333,
          0.08333333333333333,
          0.16666666666666666,
          0.16666666666666666,
          0.3333333333333333,
          0.3333333333333333,
          0.4166666666666667,
          0.4166666666666667,
          0.5,
          0.5,
          0.8333333333333334,
          0.8333333333333334,
          1
         ],
         "xaxis": "x3",
         "y": [
          0,
          0.03225806451612903,
          0.0967741935483871,
          0.16129032258064516,
          0.25806451612903225,
          0.25806451612903225,
          0.6451612903225806,
          0.6451612903225806,
          0.8709677419354839,
          0.8709677419354839,
          0.9032258064516129,
          0.9032258064516129,
          0.9354838709677419,
          0.9354838709677419,
          0.967741935483871,
          0.967741935483871,
          1,
          1
         ],
         "yaxis": "y3"
        },
        {
         "line": {
          "color": "black",
          "dash": "dot",
          "width": 1.5
         },
         "type": "scatter",
         "x": [
          0,
          1
         ],
         "xaxis": "x3",
         "y": [
          0,
          1
         ],
         "yaxis": "y3"
        },
        {
         "fill": "tozeroy",
         "line": {
          "color": "lightcoral",
          "width": 2
         },
         "name": "Precision[0.75609756 0.75       0.76923077 0.78947368 0.81081081 0.83333333\n 0.82857143 0.85294118 0.84848485 0.875      0.87096774 0.9\n 0.93103448 0.92857143 0.92592593 0.92307692 0.92       0.91666667\n 0.91304348 0.90909091 0.95238095 0.95       0.94736842 0.94444444\n 0.94117647 0.9375     0.93333333 0.92857143 0.92307692 0.91666667\n 0.90909091 0.9        0.88888889 1.         1.         1.\n 1.         1.         1.         1.         1.        ]",
         "type": "scatter",
         "x": [
          1,
          0.967741935483871,
          0.967741935483871,
          0.967741935483871,
          0.967741935483871,
          0.967741935483871,
          0.9354838709677419,
          0.9354838709677419,
          0.9032258064516129,
          0.9032258064516129,
          0.8709677419354839,
          0.8709677419354839,
          0.8709677419354839,
          0.8387096774193549,
          0.8064516129032258,
          0.7741935483870968,
          0.7419354838709677,
          0.7096774193548387,
          0.6774193548387096,
          0.6451612903225806,
          0.6451612903225806,
          0.6129032258064516,
          0.5806451612903226,
          0.5483870967741935,
          0.5161290322580645,
          0.4838709677419355,
          0.45161290322580644,
          0.41935483870967744,
          0.3870967741935484,
          0.3548387096774194,
          0.3225806451612903,
          0.2903225806451613,
          0.25806451612903225,
          0.25806451612903225,
          0.22580645161290322,
          0.1935483870967742,
          0.16129032258064516,
          0.0967741935483871,
          0.06451612903225806,
          0.03225806451612903,
          0
         ],
         "xaxis": "x4",
         "y": [
          0.7560975609756098,
          0.75,
          0.7692307692307693,
          0.7894736842105263,
          0.8108108108108109,
          0.8333333333333334,
          0.8285714285714286,
          0.8529411764705882,
          0.8484848484848485,
          0.875,
          0.8709677419354839,
          0.9,
          0.9310344827586207,
          0.9285714285714286,
          0.9259259259259259,
          0.9230769230769231,
          0.92,
          0.9166666666666666,
          0.9130434782608695,
          0.9090909090909091,
          0.9523809523809523,
          0.95,
          0.9473684210526315,
          0.9444444444444444,
          0.9411764705882353,
          0.9375,
          0.9333333333333333,
          0.9285714285714286,
          0.9230769230769231,
          0.9166666666666666,
          0.9090909090909091,
          0.9,
          0.8888888888888888,
          1,
          1,
          1,
          1,
          1,
          1,
          1,
          1
         ],
         "yaxis": "y4"
        }
       ],
       "layout": {
        "annotations": [
         {
          "font": {
           "size": 16
          },
          "showarrow": false,
          "text": "Confusion Matrix",
          "x": 0.225,
          "xanchor": "center",
          "xref": "paper",
          "y": 1,
          "yanchor": "bottom",
          "yref": "paper"
         },
         {
          "font": {
           "size": 16
          },
          "showarrow": false,
          "text": "Metrics",
          "x": 0.775,
          "xanchor": "center",
          "xref": "paper",
          "y": 1,
          "yanchor": "bottom",
          "yref": "paper"
         },
         {
          "font": {
           "size": 16
          },
          "showarrow": false,
          "text": "ROC curve (0.863)",
          "x": 0.225,
          "xanchor": "center",
          "xref": "paper",
          "y": 0.375,
          "yanchor": "bottom",
          "yref": "paper"
         },
         {
          "font": {
           "size": 16
          },
          "showarrow": false,
          "text": "Precision - Recall curve",
          "x": 0.775,
          "xanchor": "center",
          "xref": "paper",
          "y": 0.375,
          "yanchor": "bottom",
          "yref": "paper"
         }
        ],
        "autosize": false,
        "height": 900,
        "margin": {
         "b": 195
        },
        "paper_bgcolor": "rgba(240,240,240, 0.95)",
        "plot_bgcolor": "rgba(240,240,240, 0.95)",
        "showlegend": false,
        "template": {
         "data": {
          "bar": [
           {
            "error_x": {
             "color": "#2a3f5f"
            },
            "error_y": {
             "color": "#2a3f5f"
            },
            "marker": {
             "line": {
              "color": "#E5ECF6",
              "width": 0.5
             }
            },
            "type": "bar"
           }
          ],
          "barpolar": [
           {
            "marker": {
             "line": {
              "color": "#E5ECF6",
              "width": 0.5
             }
            },
            "type": "barpolar"
           }
          ],
          "carpet": [
           {
            "aaxis": {
             "endlinecolor": "#2a3f5f",
             "gridcolor": "white",
             "linecolor": "white",
             "minorgridcolor": "white",
             "startlinecolor": "#2a3f5f"
            },
            "baxis": {
             "endlinecolor": "#2a3f5f",
             "gridcolor": "white",
             "linecolor": "white",
             "minorgridcolor": "white",
             "startlinecolor": "#2a3f5f"
            },
            "type": "carpet"
           }
          ],
          "choropleth": [
           {
            "colorbar": {
             "outlinewidth": 0,
             "ticks": ""
            },
            "type": "choropleth"
           }
          ],
          "contour": [
           {
            "colorbar": {
             "outlinewidth": 0,
             "ticks": ""
            },
            "colorscale": [
             [
              0,
              "#0d0887"
             ],
             [
              0.1111111111111111,
              "#46039f"
             ],
             [
              0.2222222222222222,
              "#7201a8"
             ],
             [
              0.3333333333333333,
              "#9c179e"
             ],
             [
              0.4444444444444444,
              "#bd3786"
             ],
             [
              0.5555555555555556,
              "#d8576b"
             ],
             [
              0.6666666666666666,
              "#ed7953"
             ],
             [
              0.7777777777777778,
              "#fb9f3a"
             ],
             [
              0.8888888888888888,
              "#fdca26"
             ],
             [
              1,
              "#f0f921"
             ]
            ],
            "type": "contour"
           }
          ],
          "contourcarpet": [
           {
            "colorbar": {
             "outlinewidth": 0,
             "ticks": ""
            },
            "type": "contourcarpet"
           }
          ],
          "heatmap": [
           {
            "colorbar": {
             "outlinewidth": 0,
             "ticks": ""
            },
            "colorscale": [
             [
              0,
              "#0d0887"
             ],
             [
              0.1111111111111111,
              "#46039f"
             ],
             [
              0.2222222222222222,
              "#7201a8"
             ],
             [
              0.3333333333333333,
              "#9c179e"
             ],
             [
              0.4444444444444444,
              "#bd3786"
             ],
             [
              0.5555555555555556,
              "#d8576b"
             ],
             [
              0.6666666666666666,
              "#ed7953"
             ],
             [
              0.7777777777777778,
              "#fb9f3a"
             ],
             [
              0.8888888888888888,
              "#fdca26"
             ],
             [
              1,
              "#f0f921"
             ]
            ],
            "type": "heatmap"
           }
          ],
          "heatmapgl": [
           {
            "colorbar": {
             "outlinewidth": 0,
             "ticks": ""
            },
            "colorscale": [
             [
              0,
              "#0d0887"
             ],
             [
              0.1111111111111111,
              "#46039f"
             ],
             [
              0.2222222222222222,
              "#7201a8"
             ],
             [
              0.3333333333333333,
              "#9c179e"
             ],
             [
              0.4444444444444444,
              "#bd3786"
             ],
             [
              0.5555555555555556,
              "#d8576b"
             ],
             [
              0.6666666666666666,
              "#ed7953"
             ],
             [
              0.7777777777777778,
              "#fb9f3a"
             ],
             [
              0.8888888888888888,
              "#fdca26"
             ],
             [
              1,
              "#f0f921"
             ]
            ],
            "type": "heatmapgl"
           }
          ],
          "histogram": [
           {
            "marker": {
             "colorbar": {
              "outlinewidth": 0,
              "ticks": ""
             }
            },
            "type": "histogram"
           }
          ],
          "histogram2d": [
           {
            "colorbar": {
             "outlinewidth": 0,
             "ticks": ""
            },
            "colorscale": [
             [
              0,
              "#0d0887"
             ],
             [
              0.1111111111111111,
              "#46039f"
             ],
             [
              0.2222222222222222,
              "#7201a8"
             ],
             [
              0.3333333333333333,
              "#9c179e"
             ],
             [
              0.4444444444444444,
              "#bd3786"
             ],
             [
              0.5555555555555556,
              "#d8576b"
             ],
             [
              0.6666666666666666,
              "#ed7953"
             ],
             [
              0.7777777777777778,
              "#fb9f3a"
             ],
             [
              0.8888888888888888,
              "#fdca26"
             ],
             [
              1,
              "#f0f921"
             ]
            ],
            "type": "histogram2d"
           }
          ],
          "histogram2dcontour": [
           {
            "colorbar": {
             "outlinewidth": 0,
             "ticks": ""
            },
            "colorscale": [
             [
              0,
              "#0d0887"
             ],
             [
              0.1111111111111111,
              "#46039f"
             ],
             [
              0.2222222222222222,
              "#7201a8"
             ],
             [
              0.3333333333333333,
              "#9c179e"
             ],
             [
              0.4444444444444444,
              "#bd3786"
             ],
             [
              0.5555555555555556,
              "#d8576b"
             ],
             [
              0.6666666666666666,
              "#ed7953"
             ],
             [
              0.7777777777777778,
              "#fb9f3a"
             ],
             [
              0.8888888888888888,
              "#fdca26"
             ],
             [
              1,
              "#f0f921"
             ]
            ],
            "type": "histogram2dcontour"
           }
          ],
          "mesh3d": [
           {
            "colorbar": {
             "outlinewidth": 0,
             "ticks": ""
            },
            "type": "mesh3d"
           }
          ],
          "parcoords": [
           {
            "line": {
             "colorbar": {
              "outlinewidth": 0,
              "ticks": ""
             }
            },
            "type": "parcoords"
           }
          ],
          "pie": [
           {
            "automargin": true,
            "type": "pie"
           }
          ],
          "scatter": [
           {
            "marker": {
             "colorbar": {
              "outlinewidth": 0,
              "ticks": ""
             }
            },
            "type": "scatter"
           }
          ],
          "scatter3d": [
           {
            "line": {
             "colorbar": {
              "outlinewidth": 0,
              "ticks": ""
             }
            },
            "marker": {
             "colorbar": {
              "outlinewidth": 0,
              "ticks": ""
             }
            },
            "type": "scatter3d"
           }
          ],
          "scattercarpet": [
           {
            "marker": {
             "colorbar": {
              "outlinewidth": 0,
              "ticks": ""
             }
            },
            "type": "scattercarpet"
           }
          ],
          "scattergeo": [
           {
            "marker": {
             "colorbar": {
              "outlinewidth": 0,
              "ticks": ""
             }
            },
            "type": "scattergeo"
           }
          ],
          "scattergl": [
           {
            "marker": {
             "colorbar": {
              "outlinewidth": 0,
              "ticks": ""
             }
            },
            "type": "scattergl"
           }
          ],
          "scattermapbox": [
           {
            "marker": {
             "colorbar": {
              "outlinewidth": 0,
              "ticks": ""
             }
            },
            "type": "scattermapbox"
           }
          ],
          "scatterpolar": [
           {
            "marker": {
             "colorbar": {
              "outlinewidth": 0,
              "ticks": ""
             }
            },
            "type": "scatterpolar"
           }
          ],
          "scatterpolargl": [
           {
            "marker": {
             "colorbar": {
              "outlinewidth": 0,
              "ticks": ""
             }
            },
            "type": "scatterpolargl"
           }
          ],
          "scatterternary": [
           {
            "marker": {
             "colorbar": {
              "outlinewidth": 0,
              "ticks": ""
             }
            },
            "type": "scatterternary"
           }
          ],
          "surface": [
           {
            "colorbar": {
             "outlinewidth": 0,
             "ticks": ""
            },
            "colorscale": [
             [
              0,
              "#0d0887"
             ],
             [
              0.1111111111111111,
              "#46039f"
             ],
             [
              0.2222222222222222,
              "#7201a8"
             ],
             [
              0.3333333333333333,
              "#9c179e"
             ],
             [
              0.4444444444444444,
              "#bd3786"
             ],
             [
              0.5555555555555556,
              "#d8576b"
             ],
             [
              0.6666666666666666,
              "#ed7953"
             ],
             [
              0.7777777777777778,
              "#fb9f3a"
             ],
             [
              0.8888888888888888,
              "#fdca26"
             ],
             [
              1,
              "#f0f921"
             ]
            ],
            "type": "surface"
           }
          ],
          "table": [
           {
            "cells": {
             "fill": {
              "color": "#EBF0F8"
             },
             "line": {
              "color": "white"
             }
            },
            "header": {
             "fill": {
              "color": "#C8D4E3"
             },
             "line": {
              "color": "white"
             }
            },
            "type": "table"
           }
          ]
         },
         "layout": {
          "annotationdefaults": {
           "arrowcolor": "#2a3f5f",
           "arrowhead": 0,
           "arrowwidth": 1
          },
          "coloraxis": {
           "colorbar": {
            "outlinewidth": 0,
            "ticks": ""
           }
          },
          "colorscale": {
           "diverging": [
            [
             0,
             "#8e0152"
            ],
            [
             0.1,
             "#c51b7d"
            ],
            [
             0.2,
             "#de77ae"
            ],
            [
             0.3,
             "#f1b6da"
            ],
            [
             0.4,
             "#fde0ef"
            ],
            [
             0.5,
             "#f7f7f7"
            ],
            [
             0.6,
             "#e6f5d0"
            ],
            [
             0.7,
             "#b8e186"
            ],
            [
             0.8,
             "#7fbc41"
            ],
            [
             0.9,
             "#4d9221"
            ],
            [
             1,
             "#276419"
            ]
           ],
           "sequential": [
            [
             0,
             "#0d0887"
            ],
            [
             0.1111111111111111,
             "#46039f"
            ],
            [
             0.2222222222222222,
             "#7201a8"
            ],
            [
             0.3333333333333333,
             "#9c179e"
            ],
            [
             0.4444444444444444,
             "#bd3786"
            ],
            [
             0.5555555555555556,
             "#d8576b"
            ],
            [
             0.6666666666666666,
             "#ed7953"
            ],
            [
             0.7777777777777778,
             "#fb9f3a"
            ],
            [
             0.8888888888888888,
             "#fdca26"
            ],
            [
             1,
             "#f0f921"
            ]
           ],
           "sequentialminus": [
            [
             0,
             "#0d0887"
            ],
            [
             0.1111111111111111,
             "#46039f"
            ],
            [
             0.2222222222222222,
             "#7201a8"
            ],
            [
             0.3333333333333333,
             "#9c179e"
            ],
            [
             0.4444444444444444,
             "#bd3786"
            ],
            [
             0.5555555555555556,
             "#d8576b"
            ],
            [
             0.6666666666666666,
             "#ed7953"
            ],
            [
             0.7777777777777778,
             "#fb9f3a"
            ],
            [
             0.8888888888888888,
             "#fdca26"
            ],
            [
             1,
             "#f0f921"
            ]
           ]
          },
          "colorway": [
           "#636efa",
           "#EF553B",
           "#00cc96",
           "#ab63fa",
           "#FFA15A",
           "#19d3f3",
           "#FF6692",
           "#B6E880",
           "#FF97FF",
           "#FECB52"
          ],
          "font": {
           "color": "#2a3f5f"
          },
          "geo": {
           "bgcolor": "white",
           "lakecolor": "white",
           "landcolor": "#E5ECF6",
           "showlakes": true,
           "showland": true,
           "subunitcolor": "white"
          },
          "hoverlabel": {
           "align": "left"
          },
          "hovermode": "closest",
          "mapbox": {
           "style": "light"
          },
          "paper_bgcolor": "white",
          "plot_bgcolor": "#E5ECF6",
          "polar": {
           "angularaxis": {
            "gridcolor": "white",
            "linecolor": "white",
            "ticks": ""
           },
           "bgcolor": "#E5ECF6",
           "radialaxis": {
            "gridcolor": "white",
            "linecolor": "white",
            "ticks": ""
           }
          },
          "scene": {
           "xaxis": {
            "backgroundcolor": "#E5ECF6",
            "gridcolor": "white",
            "gridwidth": 2,
            "linecolor": "white",
            "showbackground": true,
            "ticks": "",
            "zerolinecolor": "white"
           },
           "yaxis": {
            "backgroundcolor": "#E5ECF6",
            "gridcolor": "white",
            "gridwidth": 2,
            "linecolor": "white",
            "showbackground": true,
            "ticks": "",
            "zerolinecolor": "white"
           },
           "zaxis": {
            "backgroundcolor": "#E5ECF6",
            "gridcolor": "white",
            "gridwidth": 2,
            "linecolor": "white",
            "showbackground": true,
            "ticks": "",
            "zerolinecolor": "white"
           }
          },
          "shapedefaults": {
           "line": {
            "color": "#2a3f5f"
           }
          },
          "ternary": {
           "aaxis": {
            "gridcolor": "white",
            "linecolor": "white",
            "ticks": ""
           },
           "baxis": {
            "gridcolor": "white",
            "linecolor": "white",
            "ticks": ""
           },
           "bgcolor": "#E5ECF6",
           "caxis": {
            "gridcolor": "white",
            "linecolor": "white",
            "ticks": ""
           }
          },
          "title": {
           "x": 0.05
          },
          "xaxis": {
           "automargin": true,
           "gridcolor": "white",
           "linecolor": "white",
           "ticks": "",
           "title": {
            "standoff": 15
           },
           "zerolinecolor": "white",
           "zerolinewidth": 2
          },
          "yaxis": {
           "automargin": true,
           "gridcolor": "white",
           "linecolor": "white",
           "ticks": "",
           "title": {
            "standoff": 15
           },
           "zerolinecolor": "white",
           "zerolinewidth": 2
          }
         }
        },
        "title": {
         "font": {
          "size": 14
         },
         "text": "<b>Model performance</b><br>xgb_clf"
        },
        "width": 830,
        "xaxis": {
         "anchor": "y",
         "domain": [
          0,
          0.45
         ]
        },
        "xaxis2": {
         "anchor": "y2",
         "domain": [
          0.55,
          1
         ],
         "range": [
          0,
          1
         ]
        },
        "xaxis3": {
         "anchor": "y3",
         "domain": [
          0,
          0.45
         ],
         "title": {
          "text": "false positive rate"
         }
        },
        "xaxis4": {
         "anchor": "y4",
         "domain": [
          0.55,
          1
         ],
         "range": [
          0,
          1.05
         ],
         "title": {
          "text": "recall"
         }
        },
        "yaxis": {
         "anchor": "x",
         "domain": [
          0.625,
          1
         ]
        },
        "yaxis2": {
         "anchor": "x2",
         "domain": [
          0.625,
          1
         ]
        },
        "yaxis3": {
         "anchor": "x3",
         "domain": [
          0,
          0.375
         ],
         "title": {
          "text": "true positive rate"
         }
        },
        "yaxis4": {
         "anchor": "x4",
         "domain": [
          0,
          0.375
         ],
         "range": [
          0,
          1.05
         ],
         "title": {
          "text": "precision"
         }
        }
       }
      },
      "text/html": [
       "<div>\n",
       "        \n",
       "        \n",
       "            <div id=\"421eba35-95f1-4b8b-8336-9e7f1da7020a\" class=\"plotly-graph-div\" style=\"height:900px; width:830px;\"></div>\n",
       "            <script type=\"text/javascript\">\n",
       "                require([\"plotly\"], function(Plotly) {\n",
       "                    window.PLOTLYENV=window.PLOTLYENV || {};\n",
       "                    \n",
       "                if (document.getElementById(\"421eba35-95f1-4b8b-8336-9e7f1da7020a\")) {\n",
       "                    Plotly.newPlot(\n",
       "                        '421eba35-95f1-4b8b-8336-9e7f1da7020a',\n",
       "                        [{\"colorscale\": [[0.0, \"#440154\"], [0.1111111111111111, \"#482878\"], [0.2222222222222222, \"#3e4989\"], [0.3333333333333333, \"#31688e\"], [0.4444444444444444, \"#26828e\"], [0.5555555555555556, \"#1f9e89\"], [0.6666666666666666, \"#35b779\"], [0.7777777777777778, \"#6ece58\"], [0.8888888888888888, \"#b5de2b\"], [1.0, \"#fde725\"]], \"showscale\": false, \"type\": \"heatmap\", \"x\": [\"0 (pred)\", \"1 (pred)\"], \"xaxis\": \"x\", \"xgap\": 2, \"y\": [\"0 (true)\", \"1 (true)\"], \"yaxis\": \"y\", \"ygap\": 2, \"z\": [[7, 5], [2, 29]]}, {\"marker\": {\"color\": [\"gold\", \"lightgreen\", \"lightcoral\", \"lightskyblue\"], \"line\": {\"color\": \"#000000\", \"width\": 1.5}}, \"opacity\": 0.8, \"orientation\": \"h\", \"text\": [0.8372, 0.8529, 0.9355, 0.8923], \"textposition\": \"auto\", \"type\": \"bar\", \"x\": [0.8372093023255814, 0.8529411764705882, 0.9354838709677419, 0.8923076923076922], \"xaxis\": \"x2\", \"y\": [\"Accuracy\", \"Precision\", \"Recall\", \"F1_score\"], \"yaxis\": \"y2\"}, {\"fill\": \"tozeroy\", \"line\": {\"color\": \"rgb(22, 96, 167)\", \"width\": 2}, \"name\": \"Roc : \", \"type\": \"scatter\", \"x\": [0.0, 0.0, 0.0, 0.0, 0.0, 0.08333333333333333, 0.08333333333333333, 0.16666666666666666, 0.16666666666666666, 0.3333333333333333, 0.3333333333333333, 0.4166666666666667, 0.4166666666666667, 0.5, 0.5, 0.8333333333333334, 0.8333333333333334, 1.0], \"xaxis\": \"x3\", \"y\": [0.0, 0.03225806451612903, 0.0967741935483871, 0.16129032258064516, 0.25806451612903225, 0.25806451612903225, 0.6451612903225806, 0.6451612903225806, 0.8709677419354839, 0.8709677419354839, 0.9032258064516129, 0.9032258064516129, 0.9354838709677419, 0.9354838709677419, 0.967741935483871, 0.967741935483871, 1.0, 1.0], \"yaxis\": \"y3\"}, {\"line\": {\"color\": \"black\", \"dash\": \"dot\", \"width\": 1.5}, \"type\": \"scatter\", \"x\": [0, 1], \"xaxis\": \"x3\", \"y\": [0, 1], \"yaxis\": \"y3\"}, {\"fill\": \"tozeroy\", \"line\": {\"color\": \"lightcoral\", \"width\": 2}, \"name\": \"Precision[0.75609756 0.75       0.76923077 0.78947368 0.81081081 0.83333333\\n 0.82857143 0.85294118 0.84848485 0.875      0.87096774 0.9\\n 0.93103448 0.92857143 0.92592593 0.92307692 0.92       0.91666667\\n 0.91304348 0.90909091 0.95238095 0.95       0.94736842 0.94444444\\n 0.94117647 0.9375     0.93333333 0.92857143 0.92307692 0.91666667\\n 0.90909091 0.9        0.88888889 1.         1.         1.\\n 1.         1.         1.         1.         1.        ]\", \"type\": \"scatter\", \"x\": [1.0, 0.967741935483871, 0.967741935483871, 0.967741935483871, 0.967741935483871, 0.967741935483871, 0.9354838709677419, 0.9354838709677419, 0.9032258064516129, 0.9032258064516129, 0.8709677419354839, 0.8709677419354839, 0.8709677419354839, 0.8387096774193549, 0.8064516129032258, 0.7741935483870968, 0.7419354838709677, 0.7096774193548387, 0.6774193548387096, 0.6451612903225806, 0.6451612903225806, 0.6129032258064516, 0.5806451612903226, 0.5483870967741935, 0.5161290322580645, 0.4838709677419355, 0.45161290322580644, 0.41935483870967744, 0.3870967741935484, 0.3548387096774194, 0.3225806451612903, 0.2903225806451613, 0.25806451612903225, 0.25806451612903225, 0.22580645161290322, 0.1935483870967742, 0.16129032258064516, 0.0967741935483871, 0.06451612903225806, 0.03225806451612903, 0.0], \"xaxis\": \"x4\", \"y\": [0.7560975609756098, 0.75, 0.7692307692307693, 0.7894736842105263, 0.8108108108108109, 0.8333333333333334, 0.8285714285714286, 0.8529411764705882, 0.8484848484848485, 0.875, 0.8709677419354839, 0.9, 0.9310344827586207, 0.9285714285714286, 0.9259259259259259, 0.9230769230769231, 0.92, 0.9166666666666666, 0.9130434782608695, 0.9090909090909091, 0.9523809523809523, 0.95, 0.9473684210526315, 0.9444444444444444, 0.9411764705882353, 0.9375, 0.9333333333333333, 0.9285714285714286, 0.9230769230769231, 0.9166666666666666, 0.9090909090909091, 0.9, 0.8888888888888888, 1.0, 1.0, 1.0, 1.0, 1.0, 1.0, 1.0, 1.0], \"yaxis\": \"y4\"}],\n",
       "                        {\"annotations\": [{\"font\": {\"size\": 16}, \"showarrow\": false, \"text\": \"Confusion Matrix\", \"x\": 0.225, \"xanchor\": \"center\", \"xref\": \"paper\", \"y\": 1.0, \"yanchor\": \"bottom\", \"yref\": \"paper\"}, {\"font\": {\"size\": 16}, \"showarrow\": false, \"text\": \"Metrics\", \"x\": 0.775, \"xanchor\": \"center\", \"xref\": \"paper\", \"y\": 1.0, \"yanchor\": \"bottom\", \"yref\": \"paper\"}, {\"font\": {\"size\": 16}, \"showarrow\": false, \"text\": \"ROC curve (0.863)\", \"x\": 0.225, \"xanchor\": \"center\", \"xref\": \"paper\", \"y\": 0.375, \"yanchor\": \"bottom\", \"yref\": \"paper\"}, {\"font\": {\"size\": 16}, \"showarrow\": false, \"text\": \"Precision - Recall curve\", \"x\": 0.775, \"xanchor\": \"center\", \"xref\": \"paper\", \"y\": 0.375, \"yanchor\": \"bottom\", \"yref\": \"paper\"}], \"autosize\": false, \"height\": 900, \"margin\": {\"b\": 195}, \"paper_bgcolor\": \"rgba(240,240,240, 0.95)\", \"plot_bgcolor\": \"rgba(240,240,240, 0.95)\", \"showlegend\": false, \"template\": {\"data\": {\"bar\": [{\"error_x\": {\"color\": \"#2a3f5f\"}, \"error_y\": {\"color\": \"#2a3f5f\"}, \"marker\": {\"line\": {\"color\": \"#E5ECF6\", \"width\": 0.5}}, \"type\": \"bar\"}], \"barpolar\": [{\"marker\": {\"line\": {\"color\": \"#E5ECF6\", \"width\": 0.5}}, \"type\": \"barpolar\"}], \"carpet\": [{\"aaxis\": {\"endlinecolor\": \"#2a3f5f\", \"gridcolor\": \"white\", \"linecolor\": \"white\", \"minorgridcolor\": \"white\", \"startlinecolor\": \"#2a3f5f\"}, \"baxis\": {\"endlinecolor\": \"#2a3f5f\", \"gridcolor\": \"white\", \"linecolor\": \"white\", \"minorgridcolor\": \"white\", \"startlinecolor\": \"#2a3f5f\"}, \"type\": \"carpet\"}], \"choropleth\": [{\"colorbar\": {\"outlinewidth\": 0, \"ticks\": \"\"}, \"type\": \"choropleth\"}], \"contour\": [{\"colorbar\": {\"outlinewidth\": 0, \"ticks\": \"\"}, \"colorscale\": [[0.0, \"#0d0887\"], [0.1111111111111111, \"#46039f\"], [0.2222222222222222, \"#7201a8\"], [0.3333333333333333, \"#9c179e\"], [0.4444444444444444, \"#bd3786\"], [0.5555555555555556, \"#d8576b\"], [0.6666666666666666, \"#ed7953\"], [0.7777777777777778, \"#fb9f3a\"], [0.8888888888888888, \"#fdca26\"], [1.0, \"#f0f921\"]], \"type\": \"contour\"}], \"contourcarpet\": [{\"colorbar\": {\"outlinewidth\": 0, \"ticks\": \"\"}, \"type\": \"contourcarpet\"}], \"heatmap\": [{\"colorbar\": {\"outlinewidth\": 0, \"ticks\": \"\"}, \"colorscale\": [[0.0, \"#0d0887\"], [0.1111111111111111, \"#46039f\"], [0.2222222222222222, \"#7201a8\"], [0.3333333333333333, \"#9c179e\"], [0.4444444444444444, \"#bd3786\"], [0.5555555555555556, \"#d8576b\"], [0.6666666666666666, \"#ed7953\"], [0.7777777777777778, \"#fb9f3a\"], [0.8888888888888888, \"#fdca26\"], [1.0, \"#f0f921\"]], \"type\": \"heatmap\"}], \"heatmapgl\": [{\"colorbar\": {\"outlinewidth\": 0, \"ticks\": \"\"}, \"colorscale\": [[0.0, \"#0d0887\"], [0.1111111111111111, \"#46039f\"], [0.2222222222222222, \"#7201a8\"], [0.3333333333333333, \"#9c179e\"], [0.4444444444444444, \"#bd3786\"], [0.5555555555555556, \"#d8576b\"], [0.6666666666666666, \"#ed7953\"], [0.7777777777777778, \"#fb9f3a\"], [0.8888888888888888, \"#fdca26\"], [1.0, \"#f0f921\"]], \"type\": \"heatmapgl\"}], \"histogram\": [{\"marker\": {\"colorbar\": {\"outlinewidth\": 0, \"ticks\": \"\"}}, \"type\": \"histogram\"}], \"histogram2d\": [{\"colorbar\": {\"outlinewidth\": 0, \"ticks\": \"\"}, \"colorscale\": [[0.0, \"#0d0887\"], [0.1111111111111111, \"#46039f\"], [0.2222222222222222, \"#7201a8\"], [0.3333333333333333, \"#9c179e\"], [0.4444444444444444, \"#bd3786\"], [0.5555555555555556, \"#d8576b\"], [0.6666666666666666, \"#ed7953\"], [0.7777777777777778, \"#fb9f3a\"], [0.8888888888888888, \"#fdca26\"], [1.0, \"#f0f921\"]], \"type\": \"histogram2d\"}], \"histogram2dcontour\": [{\"colorbar\": {\"outlinewidth\": 0, \"ticks\": \"\"}, \"colorscale\": [[0.0, \"#0d0887\"], [0.1111111111111111, \"#46039f\"], [0.2222222222222222, \"#7201a8\"], [0.3333333333333333, \"#9c179e\"], [0.4444444444444444, \"#bd3786\"], [0.5555555555555556, \"#d8576b\"], [0.6666666666666666, \"#ed7953\"], [0.7777777777777778, \"#fb9f3a\"], [0.8888888888888888, \"#fdca26\"], [1.0, \"#f0f921\"]], \"type\": \"histogram2dcontour\"}], \"mesh3d\": [{\"colorbar\": {\"outlinewidth\": 0, \"ticks\": \"\"}, \"type\": \"mesh3d\"}], \"parcoords\": [{\"line\": {\"colorbar\": {\"outlinewidth\": 0, \"ticks\": \"\"}}, \"type\": \"parcoords\"}], \"pie\": [{\"automargin\": true, \"type\": \"pie\"}], \"scatter\": [{\"marker\": {\"colorbar\": {\"outlinewidth\": 0, \"ticks\": \"\"}}, \"type\": \"scatter\"}], \"scatter3d\": [{\"line\": {\"colorbar\": {\"outlinewidth\": 0, \"ticks\": \"\"}}, \"marker\": {\"colorbar\": {\"outlinewidth\": 0, \"ticks\": \"\"}}, \"type\": \"scatter3d\"}], \"scattercarpet\": [{\"marker\": {\"colorbar\": {\"outlinewidth\": 0, \"ticks\": \"\"}}, \"type\": \"scattercarpet\"}], \"scattergeo\": [{\"marker\": {\"colorbar\": {\"outlinewidth\": 0, \"ticks\": \"\"}}, \"type\": \"scattergeo\"}], \"scattergl\": [{\"marker\": {\"colorbar\": {\"outlinewidth\": 0, \"ticks\": \"\"}}, \"type\": \"scattergl\"}], \"scattermapbox\": [{\"marker\": {\"colorbar\": {\"outlinewidth\": 0, \"ticks\": \"\"}}, \"type\": \"scattermapbox\"}], \"scatterpolar\": [{\"marker\": {\"colorbar\": {\"outlinewidth\": 0, \"ticks\": \"\"}}, \"type\": \"scatterpolar\"}], \"scatterpolargl\": [{\"marker\": {\"colorbar\": {\"outlinewidth\": 0, \"ticks\": \"\"}}, \"type\": \"scatterpolargl\"}], \"scatterternary\": [{\"marker\": {\"colorbar\": {\"outlinewidth\": 0, \"ticks\": \"\"}}, \"type\": \"scatterternary\"}], \"surface\": [{\"colorbar\": {\"outlinewidth\": 0, \"ticks\": \"\"}, \"colorscale\": [[0.0, \"#0d0887\"], [0.1111111111111111, \"#46039f\"], [0.2222222222222222, \"#7201a8\"], [0.3333333333333333, \"#9c179e\"], [0.4444444444444444, \"#bd3786\"], [0.5555555555555556, \"#d8576b\"], [0.6666666666666666, \"#ed7953\"], [0.7777777777777778, \"#fb9f3a\"], [0.8888888888888888, \"#fdca26\"], [1.0, \"#f0f921\"]], \"type\": \"surface\"}], \"table\": [{\"cells\": {\"fill\": {\"color\": \"#EBF0F8\"}, \"line\": {\"color\": \"white\"}}, \"header\": {\"fill\": {\"color\": \"#C8D4E3\"}, \"line\": {\"color\": \"white\"}}, \"type\": \"table\"}]}, \"layout\": {\"annotationdefaults\": {\"arrowcolor\": \"#2a3f5f\", \"arrowhead\": 0, \"arrowwidth\": 1}, \"coloraxis\": {\"colorbar\": {\"outlinewidth\": 0, \"ticks\": \"\"}}, \"colorscale\": {\"diverging\": [[0, \"#8e0152\"], [0.1, \"#c51b7d\"], [0.2, \"#de77ae\"], [0.3, \"#f1b6da\"], [0.4, \"#fde0ef\"], [0.5, \"#f7f7f7\"], [0.6, \"#e6f5d0\"], [0.7, \"#b8e186\"], [0.8, \"#7fbc41\"], [0.9, \"#4d9221\"], [1, \"#276419\"]], \"sequential\": [[0.0, \"#0d0887\"], [0.1111111111111111, \"#46039f\"], [0.2222222222222222, \"#7201a8\"], [0.3333333333333333, \"#9c179e\"], [0.4444444444444444, \"#bd3786\"], [0.5555555555555556, \"#d8576b\"], [0.6666666666666666, \"#ed7953\"], [0.7777777777777778, \"#fb9f3a\"], [0.8888888888888888, \"#fdca26\"], [1.0, \"#f0f921\"]], \"sequentialminus\": [[0.0, \"#0d0887\"], [0.1111111111111111, \"#46039f\"], [0.2222222222222222, \"#7201a8\"], [0.3333333333333333, \"#9c179e\"], [0.4444444444444444, \"#bd3786\"], [0.5555555555555556, \"#d8576b\"], [0.6666666666666666, \"#ed7953\"], [0.7777777777777778, \"#fb9f3a\"], [0.8888888888888888, \"#fdca26\"], [1.0, \"#f0f921\"]]}, \"colorway\": [\"#636efa\", \"#EF553B\", \"#00cc96\", \"#ab63fa\", \"#FFA15A\", \"#19d3f3\", \"#FF6692\", \"#B6E880\", \"#FF97FF\", \"#FECB52\"], \"font\": {\"color\": \"#2a3f5f\"}, \"geo\": {\"bgcolor\": \"white\", \"lakecolor\": \"white\", \"landcolor\": \"#E5ECF6\", \"showlakes\": true, \"showland\": true, \"subunitcolor\": \"white\"}, \"hoverlabel\": {\"align\": \"left\"}, \"hovermode\": \"closest\", \"mapbox\": {\"style\": \"light\"}, \"paper_bgcolor\": \"white\", \"plot_bgcolor\": \"#E5ECF6\", \"polar\": {\"angularaxis\": {\"gridcolor\": \"white\", \"linecolor\": \"white\", \"ticks\": \"\"}, \"bgcolor\": \"#E5ECF6\", \"radialaxis\": {\"gridcolor\": \"white\", \"linecolor\": \"white\", \"ticks\": \"\"}}, \"scene\": {\"xaxis\": {\"backgroundcolor\": \"#E5ECF6\", \"gridcolor\": \"white\", \"gridwidth\": 2, \"linecolor\": \"white\", \"showbackground\": true, \"ticks\": \"\", \"zerolinecolor\": \"white\"}, \"yaxis\": {\"backgroundcolor\": \"#E5ECF6\", \"gridcolor\": \"white\", \"gridwidth\": 2, \"linecolor\": \"white\", \"showbackground\": true, \"ticks\": \"\", \"zerolinecolor\": \"white\"}, \"zaxis\": {\"backgroundcolor\": \"#E5ECF6\", \"gridcolor\": \"white\", \"gridwidth\": 2, \"linecolor\": \"white\", \"showbackground\": true, \"ticks\": \"\", \"zerolinecolor\": \"white\"}}, \"shapedefaults\": {\"line\": {\"color\": \"#2a3f5f\"}}, \"ternary\": {\"aaxis\": {\"gridcolor\": \"white\", \"linecolor\": \"white\", \"ticks\": \"\"}, \"baxis\": {\"gridcolor\": \"white\", \"linecolor\": \"white\", \"ticks\": \"\"}, \"bgcolor\": \"#E5ECF6\", \"caxis\": {\"gridcolor\": \"white\", \"linecolor\": \"white\", \"ticks\": \"\"}}, \"title\": {\"x\": 0.05}, \"xaxis\": {\"automargin\": true, \"gridcolor\": \"white\", \"linecolor\": \"white\", \"ticks\": \"\", \"title\": {\"standoff\": 15}, \"zerolinecolor\": \"white\", \"zerolinewidth\": 2}, \"yaxis\": {\"automargin\": true, \"gridcolor\": \"white\", \"linecolor\": \"white\", \"ticks\": \"\", \"title\": {\"standoff\": 15}, \"zerolinecolor\": \"white\", \"zerolinewidth\": 2}}}, \"title\": {\"font\": {\"size\": 14}, \"text\": \"<b>Model performance</b><br>xgb_clf\"}, \"width\": 830, \"xaxis\": {\"anchor\": \"y\", \"domain\": [0.0, 0.45]}, \"xaxis2\": {\"anchor\": \"y2\", \"domain\": [0.55, 1.0], \"range\": [0, 1]}, \"xaxis3\": {\"anchor\": \"y3\", \"domain\": [0.0, 0.45], \"title\": {\"text\": \"false positive rate\"}}, \"xaxis4\": {\"anchor\": \"y4\", \"domain\": [0.55, 1.0], \"range\": [0, 1.05], \"title\": {\"text\": \"recall\"}}, \"yaxis\": {\"anchor\": \"x\", \"domain\": [0.625, 1.0]}, \"yaxis2\": {\"anchor\": \"x2\", \"domain\": [0.625, 1.0]}, \"yaxis3\": {\"anchor\": \"x3\", \"domain\": [0.0, 0.375], \"title\": {\"text\": \"true positive rate\"}}, \"yaxis4\": {\"anchor\": \"x4\", \"domain\": [0.0, 0.375], \"range\": [0, 1.05], \"title\": {\"text\": \"precision\"}}},\n",
       "                        {\"responsive\": true}\n",
       "                    ).then(function(){\n",
       "                            \n",
       "var gd = document.getElementById('421eba35-95f1-4b8b-8336-9e7f1da7020a');\n",
       "var x = new MutationObserver(function (mutations, observer) {{\n",
       "        var display = window.getComputedStyle(gd).display;\n",
       "        if (!display || display === 'none') {{\n",
       "            console.log([gd, 'removed!']);\n",
       "            Plotly.purge(gd);\n",
       "            observer.disconnect();\n",
       "        }}\n",
       "}});\n",
       "\n",
       "// Listen for the removal of the full notebook cells\n",
       "var notebookContainer = gd.closest('#notebook-container');\n",
       "if (notebookContainer) {{\n",
       "    x.observe(notebookContainer, {childList: true});\n",
       "}}\n",
       "\n",
       "// Listen for the clearing of the current output cell\n",
       "var outputEl = gd.closest('.output');\n",
       "if (outputEl) {{\n",
       "    x.observe(outputEl, {childList: true});\n",
       "}}\n",
       "\n",
       "                        })\n",
       "                };\n",
       "                });\n",
       "            </script>\n",
       "        </div>"
      ]
     },
     "metadata": {},
     "output_type": "display_data"
    }
   ],
   "source": [
    "xgb_clf = xgb.XGBClassifier(base_score=0.5, booster='gbtree', colsample_bylevel=1,\n",
    "                           colsample_bytree=1.0, gamma=1.5, learning_rate=0.01,\n",
    "                           max_delta_step=0, max_depth=3, min_child_weight=1, missing=None,\n",
    "                           n_estimators=750, n_jobs=-1, nthread=None,\n",
    "                           objective='binary:logistic', random_state=0, reg_alpha=0,\n",
    "                           reg_lambda=1, scale_pos_weight=1, seed=None, silent=True,\n",
    "                           subsample=1.0)\n",
    "\n",
    "xgb_clf.fit(xTrain, yTrain)\n",
    "y_pred = xgb_clf.predict(xTest)\n",
    "y_score = xgb_clf.predict_proba(xTest)[:,1]\n",
    "\n",
    "model_performance_plot('xgb_clf')"
   ]
  },
  {
   "cell_type": "markdown",
   "metadata": {},
   "source": [
    "# logistic regresssion with hyper parameters"
   ]
  },
  {
   "cell_type": "code",
   "execution_count": 95,
   "metadata": {
    "scrolled": true
   },
   "outputs": [
    {
     "name": "stdout",
     "output_type": "stream",
     "text": [
      "Best: 0.877056 using {'C': 0.1, 'penalty': 'l2', 'solver': 'newton-cg'}\n",
      "0.000000 (0.000000) with: {'C': 100, 'penalty': 'l1', 'solver': 'newton-cg'}\n",
      "0.000000 (0.000000) with: {'C': 100, 'penalty': 'l1', 'solver': 'lbfgs'}\n",
      "0.856854 (0.074283) with: {'C': 100, 'penalty': 'l1', 'solver': 'liblinear'}\n",
      "0.856854 (0.074283) with: {'C': 100, 'penalty': 'l2', 'solver': 'newton-cg'}\n",
      "0.856854 (0.074283) with: {'C': 100, 'penalty': 'l2', 'solver': 'lbfgs'}\n",
      "0.856854 (0.074283) with: {'C': 100, 'penalty': 'l2', 'solver': 'liblinear'}\n",
      "0.000000 (0.000000) with: {'C': 10, 'penalty': 'l1', 'solver': 'newton-cg'}\n",
      "0.000000 (0.000000) with: {'C': 10, 'penalty': 'l1', 'solver': 'lbfgs'}\n",
      "0.856854 (0.074283) with: {'C': 10, 'penalty': 'l1', 'solver': 'liblinear'}\n",
      "0.856854 (0.074283) with: {'C': 10, 'penalty': 'l2', 'solver': 'newton-cg'}\n",
      "0.856854 (0.074283) with: {'C': 10, 'penalty': 'l2', 'solver': 'lbfgs'}\n",
      "0.856854 (0.074283) with: {'C': 10, 'penalty': 'l2', 'solver': 'liblinear'}\n",
      "0.000000 (0.000000) with: {'C': 1.0, 'penalty': 'l1', 'solver': 'newton-cg'}\n",
      "0.000000 (0.000000) with: {'C': 1.0, 'penalty': 'l1', 'solver': 'lbfgs'}\n",
      "0.856782 (0.074370) with: {'C': 1.0, 'penalty': 'l1', 'solver': 'liblinear'}\n",
      "0.859885 (0.074588) with: {'C': 1.0, 'penalty': 'l2', 'solver': 'newton-cg'}\n",
      "0.859885 (0.074588) with: {'C': 1.0, 'penalty': 'l2', 'solver': 'lbfgs'}\n",
      "0.861544 (0.071650) with: {'C': 1.0, 'penalty': 'l2', 'solver': 'liblinear'}\n",
      "0.000000 (0.000000) with: {'C': 0.1, 'penalty': 'l1', 'solver': 'newton-cg'}\n",
      "0.000000 (0.000000) with: {'C': 0.1, 'penalty': 'l1', 'solver': 'lbfgs'}\n",
      "0.836869 (0.073475) with: {'C': 0.1, 'penalty': 'l1', 'solver': 'liblinear'}\n",
      "0.877056 (0.059170) with: {'C': 0.1, 'penalty': 'l2', 'solver': 'newton-cg'}\n",
      "0.877056 (0.059170) with: {'C': 0.1, 'penalty': 'l2', 'solver': 'lbfgs'}\n",
      "0.866162 (0.062073) with: {'C': 0.1, 'penalty': 'l2', 'solver': 'liblinear'}\n",
      "0.000000 (0.000000) with: {'C': 0.01, 'penalty': 'l1', 'solver': 'newton-cg'}\n",
      "0.000000 (0.000000) with: {'C': 0.01, 'penalty': 'l1', 'solver': 'lbfgs'}\n",
      "0.311472 (0.017808) with: {'C': 0.01, 'penalty': 'l1', 'solver': 'liblinear'}\n",
      "0.796753 (0.050097) with: {'C': 0.01, 'penalty': 'l2', 'solver': 'newton-cg'}\n",
      "0.796753 (0.050097) with: {'C': 0.01, 'penalty': 'l2', 'solver': 'lbfgs'}\n",
      "0.820130 (0.080134) with: {'C': 0.01, 'penalty': 'l2', 'solver': 'liblinear'}\n"
     ]
    }
   ],
   "source": [
    "from sklearn.datasets import make_blobs\n",
    "from sklearn.model_selection import RepeatedStratifiedKFold\n",
    "from sklearn.model_selection import GridSearchCV\n",
    "from sklearn.linear_model import LogisticRegression\n",
    "\n",
    "\n",
    "from sklearn.linear_model import LogisticRegression\n",
    "# define models and parameters\n",
    "model = LogisticRegression()\n",
    "solvers = ['newton-cg', 'lbfgs', 'liblinear']\n",
    "penalty = ['l1','l2']\n",
    "c_values = [100, 10, 1.0, 0.1, 0.01]\n",
    "# define grid search\n",
    "grid = dict(solver=solvers,penalty=penalty,C=c_values)\n",
    "cv = RepeatedStratifiedKFold(n_splits=10, n_repeats=3, random_state=1)\n",
    "grid_search = GridSearchCV(estimator=model, param_grid=grid, n_jobs=-1, cv=cv, scoring='accuracy',error_score=0)\n",
    "grid_result = grid_search.fit(X_stand, y)\n",
    "# summarize results\n",
    "print(\"Best: %f using %s\" % (grid_result.best_score_, grid_result.best_params_))\n",
    "means = grid_result.cv_results_['mean_test_score']\n",
    "stds = grid_result.cv_results_['std_test_score']\n",
    "params = grid_result.cv_results_['params']\n",
    "for mean, stdev, param in zip(means, stds, params):\n",
    "    print(\"%f (%f) with: %r\" % (mean, stdev, param))"
   ]
  },
  {
   "cell_type": "code",
   "execution_count": 98,
   "metadata": {},
   "outputs": [],
   "source": [
    "from sklearn.model_selection import train_test_split\n",
    "xTrain, xTest, yTrain, yTest = train_test_split(X_stand, y, test_size = 0.2, random_state = 1)"
   ]
  },
  {
   "cell_type": "code",
   "execution_count": 99,
   "metadata": {},
   "outputs": [],
   "source": [
    "from sklearn.linear_model import LogisticRegression\n",
    "logic=LogisticRegression(random_state=0,C=1.0,penalty='l2',solver='newton-cg')\n",
    "model=logic.fit(xTrain,yTrain)\n",
    "logpred=logic.predict(xTest)"
   ]
  },
  {
   "cell_type": "code",
   "execution_count": 100,
   "metadata": {},
   "outputs": [],
   "source": [
    "from sklearn.model_selection import cross_val_score\n",
    "from sklearn.metrics import confusion_matrix\n",
    "from sklearn.metrics import classification_report\n",
    "log_cv_score = cross_val_score(logic,xTrain,yTrain, cv=10, scoring='roc_auc')"
   ]
  },
  {
   "cell_type": "code",
   "execution_count": 101,
   "metadata": {},
   "outputs": [
    {
     "name": "stdout",
     "output_type": "stream",
     "text": [
      "=== Confusion Matrix ===\n",
      "[[13  2]\n",
      " [ 1 27]]\n",
      "\n",
      "\n",
      "=== Classification Report ===\n",
      "              precision    recall  f1-score   support\n",
      "\n",
      "           0       0.93      0.87      0.90        15\n",
      "           1       0.93      0.96      0.95        28\n",
      "\n",
      "    accuracy                           0.93        43\n",
      "   macro avg       0.93      0.92      0.92        43\n",
      "weighted avg       0.93      0.93      0.93        43\n",
      "\n",
      "\n",
      "\n",
      "=== All AUC Scores ===\n",
      "[0.98611111 0.97222222 0.93333333 0.88333333 0.98333333 0.9\n",
      " 0.93333333 0.88333333 0.98333333 0.9       ]\n",
      "\n",
      "\n",
      "=== Mean AUC Score ===\n",
      "Mean AUC Score - log:  0.9358333333333334\n"
     ]
    }
   ],
   "source": [
    "print(\"=== Confusion Matrix ===\")\n",
    "print(confusion_matrix(yTest,logpred))\n",
    "print('\\n')\n",
    "print(\"=== Classification Report ===\")\n",
    "print(classification_report(yTest,logpred))\n",
    "print('\\n')\n",
    "print(\"=== All AUC Scores ===\")\n",
    "print(log_cv_score)\n",
    "print('\\n')\n",
    "print(\"=== Mean AUC Score ===\")\n",
    "print(\"Mean AUC Score - log: \", log_cv_score.mean())"
   ]
  }
 ],
 "metadata": {
  "kernelspec": {
   "display_name": "Python 3",
   "language": "python",
   "name": "python3"
  },
  "language_info": {
   "codemirror_mode": {
    "name": "ipython",
    "version": 3
   },
   "file_extension": ".py",
   "mimetype": "text/x-python",
   "name": "python",
   "nbconvert_exporter": "python",
   "pygments_lexer": "ipython3",
   "version": "3.7.6"
  }
 },
 "nbformat": 4,
 "nbformat_minor": 4
}
